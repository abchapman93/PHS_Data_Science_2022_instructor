{
 "cells": [
  {
   "cell_type": "code",
   "execution_count": 66,
   "id": "256cfc89",
   "metadata": {},
   "outputs": [],
   "source": [
    "import pandas as pd\n",
    "import pymysql\n",
    "import getpass\n",
    "\n",
    "import seaborn as sns\n",
    "sns.set()\n",
    "\n",
    "import numpy as np"
   ]
  },
  {
   "cell_type": "code",
   "execution_count": 73,
   "id": "9a9cd09f",
   "metadata": {},
   "outputs": [
    {
     "name": "stdout",
     "output_type": "stream",
     "text": [
      "Enter password for MIMIC2 database········\n"
     ]
    }
   ],
   "source": [
    "conn = pymysql.connect(host=\"35.233.174.193\",port=3306,\n",
    "                       user=\"alec\",passwd=getpass.getpass(\"Enter password for MIMIC2 database\"),\n",
    "                       db='PHS')"
   ]
  },
  {
   "cell_type": "code",
   "execution_count": 85,
   "id": "f8ad3bbe",
   "metadata": {},
   "outputs": [],
   "source": [
    "query = \"\"\"\n",
    "SELECT \n",
    "\ta.subject_id\n",
    "    ,a.hadm_id\n",
    "    ,disch_dt\n",
    "    ,dod\n",
    "    ,p.sex\n",
    "    ,d.ethnicity_descr\n",
    "    ,DATEDIFF(disch_dt, dob) / 365 age_at_discharge\n",
    "    ,CASE \n",
    "\t\tWHEN CAST(DATEDIFF(disch_dt, dob) / 365 AS SIGNED) < 18 THEN '<18'\n",
    "        WHEN CAST(DATEDIFF(disch_dt, dob) / 365 AS SIGNED) BETWEEN 18 AND 35 THEN '18-35'\n",
    "        WHEN CAST(DATEDIFF(disch_dt, dob) / 365 AS SIGNED) BETWEEN 36 AND 65 THEN '36-65'\n",
    "        WHEN CAST(DATEDIFF(disch_dt, dob) / 365 AS SIGNED) BETWEEN 66 AND 90 THEN '66-90'\n",
    "        ELSE '91+'\n",
    "    END AS age_at_discharge_binned\n",
    "    ,CASE WHEN pna.hadm_id IS NULL THEN 0 ELSE 1 END AS pna\n",
    "    ,DATEDIFF(dod, disch_dt) time_discharge_to_death\n",
    "    ,CASE WHEN CAST(DATEDIFF(dod, disch_dt) AS SIGNED) <= 30 THEN 1 ELSE 0 END AS mortality_30_day\n",
    "    FROM mimic2.admissions a\n",
    "    LEFT OUTER JOIN (\n",
    "        SELECT DISTINCT\n",
    "        dx.hadm_id\n",
    "    FROM PHS.value_set_value val\n",
    "        INNER JOIN PHS.value_set vs\n",
    "            ON val.value_set_id = vs.value_set_id\n",
    "        INNER JOIN mimic2.icd9 dx \n",
    "            ON val.code_value = dx.code\n",
    "    WHERE vs.value_set_name = 'icd9_pneumonia'\n",
    "    ) pna\n",
    "\t\tON a.hadm_id = pna.hadm_id\n",
    "\tINNER JOIN mimic2.d_patients p\n",
    "\t\tON a.subject_id = p.subject_id\n",
    "\tINNER JOIN mimic2.demographic_detail d\n",
    "\t\tON a.hadm_id = d.hadm_id\n",
    "-- WHERE disch_dt != dod;\n",
    "\"\"\""
   ]
  },
  {
   "cell_type": "code",
   "execution_count": 86,
   "id": "26f0b780",
   "metadata": {},
   "outputs": [
    {
     "name": "stderr",
     "output_type": "stream",
     "text": [
      "/Users/alecchapman/opt/miniconda3/envs/phs/lib/python3.9/site-packages/pandas/io/sql.py:761: UserWarning: pandas only support SQLAlchemy connectable(engine/connection) ordatabase string URI or sqlite3 DBAPI2 connectionother DBAPI2 objects are not tested, please consider using SQLAlchemy\n",
      "  warnings.warn(\n"
     ]
    }
   ],
   "source": [
    "df = pd.read_sql(query, conn)"
   ]
  },
  {
   "cell_type": "code",
   "execution_count": 87,
   "id": "c8a0ace2",
   "metadata": {},
   "outputs": [
    {
     "data": {
      "text/html": [
       "<div>\n",
       "<style scoped>\n",
       "    .dataframe tbody tr th:only-of-type {\n",
       "        vertical-align: middle;\n",
       "    }\n",
       "\n",
       "    .dataframe tbody tr th {\n",
       "        vertical-align: top;\n",
       "    }\n",
       "\n",
       "    .dataframe thead th {\n",
       "        text-align: right;\n",
       "    }\n",
       "</style>\n",
       "<table border=\"1\" class=\"dataframe\">\n",
       "  <thead>\n",
       "    <tr style=\"text-align: right;\">\n",
       "      <th></th>\n",
       "      <th>subject_id</th>\n",
       "      <th>hadm_id</th>\n",
       "      <th>disch_dt</th>\n",
       "      <th>dod</th>\n",
       "      <th>sex</th>\n",
       "      <th>ethnicity_descr</th>\n",
       "      <th>age_at_discharge</th>\n",
       "      <th>age_at_discharge_binned</th>\n",
       "      <th>pna</th>\n",
       "      <th>time_discharge_to_death</th>\n",
       "      <th>mortality_30_day</th>\n",
       "    </tr>\n",
       "  </thead>\n",
       "  <tbody>\n",
       "    <tr>\n",
       "      <th>0</th>\n",
       "      <td>56</td>\n",
       "      <td>28766</td>\n",
       "      <td>2644-01-23 00:00:00</td>\n",
       "      <td>2644-01-23 00:00:00</td>\n",
       "      <td>F</td>\n",
       "      <td>WHITE</td>\n",
       "      <td>90.7205</td>\n",
       "      <td>91+</td>\n",
       "      <td>0</td>\n",
       "      <td>0</td>\n",
       "      <td>1</td>\n",
       "    </tr>\n",
       "    <tr>\n",
       "      <th>1</th>\n",
       "      <td>37</td>\n",
       "      <td>18052</td>\n",
       "      <td>3264-08-19 00:00:00</td>\n",
       "      <td>3265-12-31 00:00:00</td>\n",
       "      <td>M</td>\n",
       "      <td>WHITE</td>\n",
       "      <td>68.9863</td>\n",
       "      <td>66-90</td>\n",
       "      <td>1</td>\n",
       "      <td>499</td>\n",
       "      <td>0</td>\n",
       "    </tr>\n",
       "    <tr>\n",
       "      <th>2</th>\n",
       "      <td>78</td>\n",
       "      <td>15161</td>\n",
       "      <td>2778-03-27 00:00:00</td>\n",
       "      <td>2781-03-11 00:00:00</td>\n",
       "      <td>M</td>\n",
       "      <td>BLACK/AFRICAN AMERICAN</td>\n",
       "      <td>48.6658</td>\n",
       "      <td>36-65</td>\n",
       "      <td>0</td>\n",
       "      <td>1080</td>\n",
       "      <td>0</td>\n",
       "    </tr>\n",
       "    <tr>\n",
       "      <th>3</th>\n",
       "      <td>67</td>\n",
       "      <td>35878</td>\n",
       "      <td>2976-11-29 00:00:00</td>\n",
       "      <td>2976-11-29 00:00:00</td>\n",
       "      <td>M</td>\n",
       "      <td>WHITE</td>\n",
       "      <td>73.5397</td>\n",
       "      <td>66-90</td>\n",
       "      <td>0</td>\n",
       "      <td>0</td>\n",
       "      <td>1</td>\n",
       "    </tr>\n",
       "    <tr>\n",
       "      <th>4</th>\n",
       "      <td>3</td>\n",
       "      <td>2075</td>\n",
       "      <td>2682-09-18 00:00:00</td>\n",
       "      <td>2683-05-02 00:00:00</td>\n",
       "      <td>M</td>\n",
       "      <td>WHITE</td>\n",
       "      <td>76.6055</td>\n",
       "      <td>66-90</td>\n",
       "      <td>0</td>\n",
       "      <td>226</td>\n",
       "      <td>0</td>\n",
       "    </tr>\n",
       "  </tbody>\n",
       "</table>\n",
       "</div>"
      ],
      "text/plain": [
       "   subject_id  hadm_id             disch_dt                  dod sex  \\\n",
       "0          56    28766  2644-01-23 00:00:00  2644-01-23 00:00:00   F   \n",
       "1          37    18052  3264-08-19 00:00:00  3265-12-31 00:00:00   M   \n",
       "2          78    15161  2778-03-27 00:00:00  2781-03-11 00:00:00   M   \n",
       "3          67    35878  2976-11-29 00:00:00  2976-11-29 00:00:00   M   \n",
       "4           3     2075  2682-09-18 00:00:00  2683-05-02 00:00:00   M   \n",
       "\n",
       "          ethnicity_descr  age_at_discharge age_at_discharge_binned  pna  \\\n",
       "0                   WHITE           90.7205                     91+    0   \n",
       "1                   WHITE           68.9863                   66-90    1   \n",
       "2  BLACK/AFRICAN AMERICAN           48.6658                   36-65    0   \n",
       "3                   WHITE           73.5397                   66-90    0   \n",
       "4                   WHITE           76.6055                   66-90    0   \n",
       "\n",
       "   time_discharge_to_death  mortality_30_day  \n",
       "0                        0                 1  \n",
       "1                      499                 0  \n",
       "2                     1080                 0  \n",
       "3                        0                 1  \n",
       "4                      226                 0  "
      ]
     },
     "execution_count": 87,
     "metadata": {},
     "output_type": "execute_result"
    }
   ],
   "source": [
    "df.head()"
   ]
  },
  {
   "cell_type": "code",
   "execution_count": 88,
   "id": "a73bc8ad",
   "metadata": {},
   "outputs": [
    {
     "data": {
      "text/plain": [
       "5074"
      ]
     },
     "execution_count": 88,
     "metadata": {},
     "output_type": "execute_result"
    }
   ],
   "source": [
    "len(df)"
   ]
  },
  {
   "cell_type": "code",
   "execution_count": 89,
   "id": "11390356",
   "metadata": {},
   "outputs": [],
   "source": [
    "df.to_csv(\"../data/pna_30_day_mortality.csv\", index=None)"
   ]
  },
  {
   "cell_type": "code",
   "execution_count": 81,
   "id": "59302260",
   "metadata": {},
   "outputs": [
    {
     "data": {
      "text/plain": [
       "5074"
      ]
     },
     "execution_count": 81,
     "metadata": {},
     "output_type": "execute_result"
    }
   ],
   "source": [
    "len(df)"
   ]
  },
  {
   "cell_type": "code",
   "execution_count": 82,
   "id": "b016cf83",
   "metadata": {},
   "outputs": [
    {
     "data": {
      "text/plain": [
       "0.4180134016554986"
      ]
     },
     "execution_count": 82,
     "metadata": {},
     "output_type": "execute_result"
    }
   ],
   "source": [
    "df[\"mortality_30_day\"].mean()"
   ]
  },
  {
   "cell_type": "code",
   "execution_count": 83,
   "id": "86676a39",
   "metadata": {},
   "outputs": [
    {
     "name": "stderr",
     "output_type": "stream",
     "text": [
      "/Users/alecchapman/opt/miniconda3/envs/phs/lib/python3.9/site-packages/seaborn/distributions.py:2619: FutureWarning: `distplot` is a deprecated function and will be removed in a future version. Please adapt your code to use either `displot` (a figure-level function with similar flexibility) or `histplot` (an axes-level function for histograms).\n",
      "  warnings.warn(msg, FutureWarning)\n"
     ]
    },
    {
     "data": {
      "text/plain": [
       "<AxesSubplot:xlabel='time_to_death', ylabel='Density'>"
      ]
     },
     "execution_count": 83,
     "metadata": {},
     "output_type": "execute_result"
    },
    {
     "data": {
      "image/png": "[encoded data removed]",
      "text/plain": [
       "<Figure size 432x288 with 1 Axes>"
      ]
     },
     "metadata": {},
     "output_type": "display_data"
    }
   ],
   "source": [
    "sns.distplot(df[\"time_to_death\"])"
   ]
  },
  {
   "cell_type": "code",
   "execution_count": 84,
   "id": "623de160",
   "metadata": {},
   "outputs": [
    {
     "data": {
      "text/html": [
       "<div>\n",
       "<style scoped>\n",
       "    .dataframe tbody tr th:only-of-type {\n",
       "        vertical-align: middle;\n",
       "    }\n",
       "\n",
       "    .dataframe tbody tr th {\n",
       "        vertical-align: top;\n",
       "    }\n",
       "\n",
       "    .dataframe thead th {\n",
       "        text-align: right;\n",
       "    }\n",
       "</style>\n",
       "<table border=\"1\" class=\"dataframe\">\n",
       "  <thead>\n",
       "    <tr style=\"text-align: right;\">\n",
       "      <th>mortality_30_day</th>\n",
       "      <th>1</th>\n",
       "      <th>0</th>\n",
       "    </tr>\n",
       "    <tr>\n",
       "      <th>pna</th>\n",
       "      <th></th>\n",
       "      <th></th>\n",
       "    </tr>\n",
       "  </thead>\n",
       "  <tbody>\n",
       "    <tr>\n",
       "      <th>1</th>\n",
       "      <td>498</td>\n",
       "      <td>516</td>\n",
       "    </tr>\n",
       "    <tr>\n",
       "      <th>0</th>\n",
       "      <td>1623</td>\n",
       "      <td>2437</td>\n",
       "    </tr>\n",
       "  </tbody>\n",
       "</table>\n",
       "</div>"
      ],
      "text/plain": [
       "mortality_30_day     1     0\n",
       "pna                         \n",
       "1                  498   516\n",
       "0                 1623  2437"
      ]
     },
     "execution_count": 84,
     "metadata": {},
     "output_type": "execute_result"
    }
   ],
   "source": [
    "twobytwo = pd.crosstab(df[\"pna\"], df[\"mortality_30_day\"]).sort_index(ascending=False)[[1, 0]]\n",
    "twobytwo"
   ]
  },
  {
   "cell_type": "code",
   "execution_count": 69,
   "id": "2680364c",
   "metadata": {},
   "outputs": [
    {
     "data": {
      "text/plain": [
       "1.2196959854488763"
      ]
     },
     "execution_count": 69,
     "metadata": {},
     "output_type": "execute_result"
    }
   ],
   "source": [
    "(96 * 2347) / (516 * 358)"
   ]
  },
  {
   "cell_type": "code",
   "execution_count": null,
   "id": "920fc895",
   "metadata": {},
   "outputs": [],
   "source": []
  }
 ],
 "metadata": {
  "kernelspec": {
   "display_name": "Python 3 (ipykernel)",
   "language": "python",
   "name": "python3"
  },
  "language_info": {
   "codemirror_mode": {
    "name": "ipython",
    "version": 3
   },
   "file_extension": ".py",
   "mimetype": "text/x-python",
   "name": "python",
   "nbconvert_exporter": "python",
   "pygments_lexer": "ipython3",
   "version": "3.9.12"
  }
 },
 "nbformat": 4,
 "nbformat_minor": 5
}
