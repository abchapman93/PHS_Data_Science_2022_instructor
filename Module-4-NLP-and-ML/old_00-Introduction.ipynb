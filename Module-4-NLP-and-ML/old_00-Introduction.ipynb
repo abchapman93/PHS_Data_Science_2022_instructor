{
 "cells": [
  {
   "cell_type": "markdown",
   "metadata": {},
   "source": [
    "# Overview\n",
    "1. Introduction + Setup\n",
    "2. Working with text in Python\n",
    "3. medspaCy\n",
    "    1. Entity extraction\n",
    "    2. ConText\n",
    "    3. Using pre-trained models\n",
    "4. NLP exercises\n",
    "5. Machine learning\n",
    "\n",
    "## Setup\n",
    "To setup for this week's coding activities, we'll need to do two things:\n",
    "- Install the Python packages [**spaCy**](https://spacy.io/) and [**medspacy**](https://github.com/medspacy/medspacy)\n",
    "- Download two trained NLP models\n",
    "\n",
    "You can run the necessary command-line prompts either in the cells below or you can work in your terminal (**Anaconda Prompt** for Windows, **Terminal** for Mac).\n",
    "\n",
    "\n",
    "### Python packages\n",
    "First, run these command which will run both of the libraries we're using today:\n",
    "\n",
    "```bash\n",
    "pip install medspacy==0.2.0.0\n",
    "pip install scikit-learn\n",
    "```\n",
    "\n"
   ]
  },
  {
   "cell_type": "code",
   "execution_count": 1,
   "metadata": {
    "scrolled": true
   },
   "outputs": [
    {
     "name": "stdout",
     "output_type": "stream",
     "text": [
      "Requirement already satisfied: medspacy==0.2.0.0 in /Users/alecchapman/opt/miniconda3/envs/phs/lib/python3.9/site-packages (0.2.0.0)\n",
      "Requirement already satisfied: pysbd==0.3.4 in /Users/alecchapman/opt/miniconda3/envs/phs/lib/python3.9/site-packages (from medspacy==0.2.0.0) (0.3.4)\n",
      "Requirement already satisfied: PyRuSH>=1.0.3.5 in /Users/alecchapman/opt/miniconda3/envs/phs/lib/python3.9/site-packages (from medspacy==0.2.0.0) (1.0.3.6)\n",
      "Requirement already satisfied: spacy<3.2.0,>=3.1.3 in /Users/alecchapman/opt/miniconda3/envs/phs/lib/python3.9/site-packages (from medspacy==0.2.0.0) (3.1.6)\n",
      "Requirement already satisfied: medspacy-quickumls>=2.4.1 in /Users/alecchapman/opt/miniconda3/envs/phs/lib/python3.9/site-packages (from medspacy==0.2.0.0) (2.4.1)\n",
      "Requirement already satisfied: six>=1.14.0 in /Users/alecchapman/opt/miniconda3/envs/phs/lib/python3.9/site-packages (from medspacy==0.2.0.0) (1.16.0)\n",
      "Requirement already satisfied: jsonschema in /Users/alecchapman/opt/miniconda3/envs/phs/lib/python3.9/site-packages (from medspacy==0.2.0.0) (4.4.0)\n",
      "Requirement already satisfied: requests<2.16,>=2.13.0 in /Users/alecchapman/opt/miniconda3/envs/phs/lib/python3.9/site-packages (from medspacy==0.2.0.0) (2.15.1)\n",
      "Requirement already satisfied: unidecode>=0.4.19 in /Users/alecchapman/opt/miniconda3/envs/phs/lib/python3.9/site-packages (from medspacy-quickumls>=2.4.1->medspacy==0.2.0.0) (1.3.4)\n",
      "Requirement already satisfied: leveldb>=0.193 in /Users/alecchapman/opt/miniconda3/envs/phs/lib/python3.9/site-packages (from medspacy-quickumls>=2.4.1->medspacy==0.2.0.0) (0.201)\n",
      "Requirement already satisfied: numpy>=1.8.2 in /Users/alecchapman/opt/miniconda3/envs/phs/lib/python3.9/site-packages (from medspacy-quickumls>=2.4.1->medspacy==0.2.0.0) (1.23.0)\n",
      "Requirement already satisfied: unqlite>=0.8.1 in /Users/alecchapman/opt/miniconda3/envs/phs/lib/python3.9/site-packages (from medspacy-quickumls>=2.4.1->medspacy==0.2.0.0) (0.9.3)\n",
      "Requirement already satisfied: nltk>=3.3 in /Users/alecchapman/opt/miniconda3/envs/phs/lib/python3.9/site-packages (from medspacy-quickumls>=2.4.1->medspacy==0.2.0.0) (3.7)\n",
      "Requirement already satisfied: quickumls-simstring>=1.1.5r1 in /Users/alecchapman/opt/miniconda3/envs/phs/lib/python3.9/site-packages (from medspacy-quickumls>=2.4.1->medspacy==0.2.0.0) (1.1.5.post1)\n",
      "Requirement already satisfied: click in /Users/alecchapman/opt/miniconda3/envs/phs/lib/python3.9/site-packages (from nltk>=3.3->medspacy-quickumls>=2.4.1->medspacy==0.2.0.0) (8.0.4)\n",
      "Requirement already satisfied: tqdm in /Users/alecchapman/opt/miniconda3/envs/phs/lib/python3.9/site-packages (from nltk>=3.3->medspacy-quickumls>=2.4.1->medspacy==0.2.0.0) (4.64.0)\n",
      "Requirement already satisfied: joblib in /Users/alecchapman/opt/miniconda3/envs/phs/lib/python3.9/site-packages (from nltk>=3.3->medspacy-quickumls>=2.4.1->medspacy==0.2.0.0) (1.1.0)\n",
      "Requirement already satisfied: regex>=2021.8.3 in /Users/alecchapman/opt/miniconda3/envs/phs/lib/python3.9/site-packages (from nltk>=3.3->medspacy-quickumls>=2.4.1->medspacy==0.2.0.0) (2022.7.9)\n",
      "Requirement already satisfied: quicksectx>=0.3.1 in /Users/alecchapman/opt/miniconda3/envs/phs/lib/python3.9/site-packages (from PyRuSH>=1.0.3.5->medspacy==0.2.0.0) (0.3.1)\n",
      "Requirement already satisfied: PyFastNER>=1.0.8b1 in /Users/alecchapman/opt/miniconda3/envs/phs/lib/python3.9/site-packages (from PyRuSH>=1.0.3.5->medspacy==0.2.0.0) (1.0.8)\n",
      "Requirement already satisfied: cython>=0.29 in /Users/alecchapman/opt/miniconda3/envs/phs/lib/python3.9/site-packages (from quicksectx>=0.3.1->PyRuSH>=1.0.3.5->medspacy==0.2.0.0) (0.29.30)\n",
      "Requirement already satisfied: preshed<3.1.0,>=3.0.2 in /Users/alecchapman/opt/miniconda3/envs/phs/lib/python3.9/site-packages (from spacy<3.2.0,>=3.1.3->medspacy==0.2.0.0) (3.0.6)\n",
      "Requirement already satisfied: spacy-legacy<3.1.0,>=3.0.8 in /Users/alecchapman/opt/miniconda3/envs/phs/lib/python3.9/site-packages (from spacy<3.2.0,>=3.1.3->medspacy==0.2.0.0) (3.0.9)\n",
      "Requirement already satisfied: pydantic!=1.8,!=1.8.1,<1.9.0,>=1.7.4 in /Users/alecchapman/opt/miniconda3/envs/phs/lib/python3.9/site-packages (from spacy<3.2.0,>=3.1.3->medspacy==0.2.0.0) (1.8.2)\n",
      "Requirement already satisfied: pathy>=0.3.5 in /Users/alecchapman/opt/miniconda3/envs/phs/lib/python3.9/site-packages (from spacy<3.2.0,>=3.1.3->medspacy==0.2.0.0) (0.6.2)\n",
      "Requirement already satisfied: blis<0.8.0,>=0.4.0 in /Users/alecchapman/opt/miniconda3/envs/phs/lib/python3.9/site-packages (from spacy<3.2.0,>=3.1.3->medspacy==0.2.0.0) (0.7.8)\n",
      "Requirement already satisfied: typer<0.5.0,>=0.3.0 in /Users/alecchapman/opt/miniconda3/envs/phs/lib/python3.9/site-packages (from spacy<3.2.0,>=3.1.3->medspacy==0.2.0.0) (0.4.2)\n",
      "Requirement already satisfied: catalogue<2.1.0,>=2.0.6 in /Users/alecchapman/opt/miniconda3/envs/phs/lib/python3.9/site-packages (from spacy<3.2.0,>=3.1.3->medspacy==0.2.0.0) (2.0.7)\n",
      "Requirement already satisfied: cymem<2.1.0,>=2.0.2 in /Users/alecchapman/opt/miniconda3/envs/phs/lib/python3.9/site-packages (from spacy<3.2.0,>=3.1.3->medspacy==0.2.0.0) (2.0.6)\n",
      "Requirement already satisfied: murmurhash<1.1.0,>=0.28.0 in /Users/alecchapman/opt/miniconda3/envs/phs/lib/python3.9/site-packages (from spacy<3.2.0,>=3.1.3->medspacy==0.2.0.0) (1.0.7)\n",
      "Requirement already satisfied: wasabi<1.1.0,>=0.8.1 in /Users/alecchapman/opt/miniconda3/envs/phs/lib/python3.9/site-packages (from spacy<3.2.0,>=3.1.3->medspacy==0.2.0.0) (0.9.1)\n",
      "Requirement already satisfied: packaging>=20.0 in /Users/alecchapman/opt/miniconda3/envs/phs/lib/python3.9/site-packages (from spacy<3.2.0,>=3.1.3->medspacy==0.2.0.0) (21.3)\n",
      "Requirement already satisfied: srsly<3.0.0,>=2.4.1 in /Users/alecchapman/opt/miniconda3/envs/phs/lib/python3.9/site-packages (from spacy<3.2.0,>=3.1.3->medspacy==0.2.0.0) (2.4.4)\n",
      "Requirement already satisfied: setuptools in /Users/alecchapman/opt/miniconda3/envs/phs/lib/python3.9/site-packages (from spacy<3.2.0,>=3.1.3->medspacy==0.2.0.0) (61.2.0)\n",
      "Requirement already satisfied: thinc<8.1.0,>=8.0.12 in /Users/alecchapman/opt/miniconda3/envs/phs/lib/python3.9/site-packages (from spacy<3.2.0,>=3.1.3->medspacy==0.2.0.0) (8.0.17)\n",
      "Requirement already satisfied: jinja2 in /Users/alecchapman/opt/miniconda3/envs/phs/lib/python3.9/site-packages (from spacy<3.2.0,>=3.1.3->medspacy==0.2.0.0) (3.0.3)\n",
      "Requirement already satisfied: pyparsing!=3.0.5,>=2.0.2 in /Users/alecchapman/opt/miniconda3/envs/phs/lib/python3.9/site-packages (from packaging>=20.0->spacy<3.2.0,>=3.1.3->medspacy==0.2.0.0) (3.0.4)\n",
      "Requirement already satisfied: smart-open<6.0.0,>=5.2.1 in /Users/alecchapman/opt/miniconda3/envs/phs/lib/python3.9/site-packages (from pathy>=0.3.5->spacy<3.2.0,>=3.1.3->medspacy==0.2.0.0) (5.2.1)\n",
      "Requirement already satisfied: typing-extensions>=3.7.4.3 in /Users/alecchapman/opt/miniconda3/envs/phs/lib/python3.9/site-packages (from pydantic!=1.8,!=1.8.1,<1.9.0,>=1.7.4->spacy<3.2.0,>=3.1.3->medspacy==0.2.0.0) (4.1.1)\n",
      "Requirement already satisfied: MarkupSafe>=2.0 in /Users/alecchapman/opt/miniconda3/envs/phs/lib/python3.9/site-packages (from jinja2->spacy<3.2.0,>=3.1.3->medspacy==0.2.0.0) (2.1.1)\n",
      "Requirement already satisfied: pyrsistent!=0.17.0,!=0.17.1,!=0.17.2,>=0.14.0 in /Users/alecchapman/opt/miniconda3/envs/phs/lib/python3.9/site-packages (from jsonschema->medspacy==0.2.0.0) (0.18.0)\n",
      "Requirement already satisfied: attrs>=17.4.0 in /Users/alecchapman/opt/miniconda3/envs/phs/lib/python3.9/site-packages (from jsonschema->medspacy==0.2.0.0) (21.4.0)\n"
     ]
    }
   ],
   "source": [
    "!pip install medspacy==0.2.0.0"
   ]
  },
  {
   "cell_type": "code",
   "execution_count": 2,
   "metadata": {},
   "outputs": [
    {
     "name": "stdout",
     "output_type": "stream",
     "text": [
      "Requirement already satisfied: scikit-learn in /Users/alecchapman/opt/miniconda3/envs/phs/lib/python3.9/site-packages (1.0.2)\r\n",
      "Requirement already satisfied: joblib>=0.11 in /Users/alecchapman/opt/miniconda3/envs/phs/lib/python3.9/site-packages (from scikit-learn) (1.1.0)\r\n",
      "Requirement already satisfied: scipy>=1.1.0 in /Users/alecchapman/opt/miniconda3/envs/phs/lib/python3.9/site-packages (from scikit-learn) (1.8.1)\r\n",
      "Requirement already satisfied: numpy>=1.14.6 in /Users/alecchapman/opt/miniconda3/envs/phs/lib/python3.9/site-packages (from scikit-learn) (1.23.0)\r\n",
      "Requirement already satisfied: threadpoolctl>=2.0.0 in /Users/alecchapman/opt/miniconda3/envs/phs/lib/python3.9/site-packages (from scikit-learn) (3.1.0)\r\n"
     ]
    }
   ],
   "source": [
    "!pip install scikit-learn"
   ]
  },
  {
   "cell_type": "code",
   "execution_count": 3,
   "metadata": {},
   "outputs": [],
   "source": [
    "# !pip install https://github.com/abchapman93/spacy_models/raw/master/releases/en_info_3700_i2b2_2012-0.1.0/dist/en_info_3700_i2b2_2012-0.1.0.tar.gz"
   ]
  },
  {
   "cell_type": "code",
   "execution_count": null,
   "metadata": {},
   "outputs": [],
   "source": []
  },
  {
   "cell_type": "markdown",
   "metadata": {},
   "source": [
    "## Test if it worked\n"
   ]
  },
  {
   "cell_type": "code",
   "execution_count": 5,
   "metadata": {},
   "outputs": [
    {
     "data": {
      "text/plain": [
       "<spacy.lang.en.English at 0x7fae5b0d46a0>"
      ]
     },
     "execution_count": 5,
     "metadata": {},
     "output_type": "execute_result"
    }
   ],
   "source": [
    "import medspacy\n",
    "medspacy.load()"
   ]
  },
  {
   "cell_type": "code",
   "execution_count": 6,
   "metadata": {},
   "outputs": [],
   "source": [
    "import sklearn"
   ]
  },
  {
   "cell_type": "markdown",
   "metadata": {},
   "source": [
    "## Introduction to Clinical Texts"
   ]
  },
  {
   "cell_type": "code",
   "execution_count": null,
   "metadata": {},
   "outputs": [],
   "source": []
  },
  {
   "cell_type": "code",
   "execution_count": null,
   "metadata": {},
   "outputs": [],
   "source": []
  }
 ],
 "metadata": {
  "kernelspec": {
   "display_name": "Python 3 (ipykernel)",
   "language": "python",
   "name": "python3"
  },
  "language_info": {
   "codemirror_mode": {
    "name": "ipython",
    "version": 3
   },
   "file_extension": ".py",
   "mimetype": "text/x-python",
   "name": "python",
   "nbconvert_exporter": "python",
   "pygments_lexer": "ipython3",
   "version": "3.9.12"
  }
 },
 "nbformat": 4,
 "nbformat_minor": 4
}
