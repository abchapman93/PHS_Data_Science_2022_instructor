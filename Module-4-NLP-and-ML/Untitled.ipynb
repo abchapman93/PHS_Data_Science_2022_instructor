{
 "cells": [
  {
   "cell_type": "markdown",
   "id": "a2091edd",
   "metadata": {},
   "source": [
    "https://physionet.org/content/challenge-2012/1.0.0/\n",
    "\n",
    "https://www.ncbi.nlm.nih.gov/pmc/articles/PMC3965265/"
   ]
  },
  {
   "cell_type": "markdown",
   "id": "77e3ac51",
   "metadata": {},
   "source": [
    "- Save dataset beforehand\n",
    "- Create custom class with attributes:\n",
    "    - IDs\n",
    "    - y\n",
    "    - X (sparse vector)\n",
    "    - X_dense (dataframe with column names)\n",
    "    - vectorizer/feature names/feature scores"
   ]
  },
  {
   "cell_type": "markdown",
   "id": "0b4d3851",
   "metadata": {},
   "source": [
    "# Features\n",
    "- Min/"
   ]
  },
  {
   "cell_type": "code",
   "execution_count": null,
   "id": "bb690373",
   "metadata": {},
   "outputs": [],
   "source": []
  }
 ],
 "metadata": {
  "kernelspec": {
   "display_name": "Python 3 (ipykernel)",
   "language": "python",
   "name": "python3"
  },
  "language_info": {
   "codemirror_mode": {
    "name": "ipython",
    "version": 3
   },
   "file_extension": ".py",
   "mimetype": "text/x-python",
   "name": "python",
   "nbconvert_exporter": "python",
   "pygments_lexer": "ipython3",
   "version": "3.9.12"
  }
 },
 "nbformat": 4,
 "nbformat_minor": 5
}
