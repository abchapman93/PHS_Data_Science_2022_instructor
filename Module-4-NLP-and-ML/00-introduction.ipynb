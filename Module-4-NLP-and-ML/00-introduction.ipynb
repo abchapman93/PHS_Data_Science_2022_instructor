{
 "cells": [
  {
   "cell_type": "markdown",
   "metadata": {},
   "source": [
    "# Overview\n",
    "1. Introduction + Setup\n",
    "2. Working with text in Python\n",
    "3. medspaCy\n",
    "    1. Entity extraction\n",
    "    2. ConText\n",
    "    3. Using pre-trained models\n",
    "4. NLP exercises\n",
    "5. Machine learning\n",
    "\n",
    "## Setup\n",
    "To setup for this week's coding activities, we'll need to do two things:\n",
    "- Install the Python packages [**spaCy**](https://spacy.io/) and [**medspacy**](https://github.com/medspacy/medspacy)\n",
    "- Download two trained NLP models\n",
    "\n",
    "You can run the necessary command-line prompts either in the cells below or you can work in your terminal (**Anaconda Prompt** for Windows, **Terminal** for Mac).\n",
    "\n",
    "\n",
    "### Python packages\n",
    "First, run this command which will run both of the libraries we're using today:\n",
    "\n",
    "```bash\n",
    "pip install medspacy\n",
    "```\n",
    "\n",
    "### Trained NLP models\n",
    "Next, download the NLP models which we will be using:\n",
    "```bash\n",
    "python -m spacy download en_core_web_sm\n",
    "```\n",
    "\n"
   ]
  },
  {
   "cell_type": "code",
   "execution_count": 3,
   "metadata": {
    "scrolled": true
   },
   "outputs": [
    {
     "name": "stdout",
     "output_type": "stream",
     "text": [
      "Collecting medspacy==0.2.0.0\n",
      "  Downloading medspacy-0.2.0.0.tar.gz (111 kB)\n",
      "\u001b[K     |████████████████████████████████| 111 kB 259 kB/s eta 0:00:01\n",
      "\u001b[?25hCollecting spacy<3.2.0,>=3.1.3\n",
      "  Downloading spacy-3.1.6-cp39-cp39-macosx_10_9_x86_64.whl (6.2 MB)\n",
      "\u001b[K     |████████████████████████████████| 6.2 MB 2.9 MB/s eta 0:00:01\n",
      "\u001b[?25hCollecting PyRuSH>=1.0.3.5\n",
      "  Downloading PyRuSH-1.0.3.6-cp39-cp39-macosx_10_9_x86_64.whl (64 kB)\n",
      "\u001b[K     |████████████████████████████████| 64 kB 271 kB/s eta 0:00:01\n",
      "\u001b[?25hCollecting pysbd==0.3.4\n",
      "  Downloading pysbd-0.3.4-py3-none-any.whl (71 kB)\n",
      "\u001b[K     |████████████████████████████████| 71 kB 595 kB/s eta 0:00:01\n",
      "\u001b[?25hRequirement already satisfied: jsonschema in /Users/alecchapman/opt/miniconda3/envs/phs/lib/python3.9/site-packages (from medspacy==0.2.0.0) (4.4.0)\n",
      "Collecting requests<2.16,>=2.13.0\n",
      "  Downloading requests-2.15.1-py2.py3-none-any.whl (558 kB)\n",
      "\u001b[K     |████████████████████████████████| 558 kB 8.6 MB/s eta 0:00:01\n",
      "\u001b[?25hRequirement already satisfied: six>=1.14.0 in /Users/alecchapman/opt/miniconda3/envs/phs/lib/python3.9/site-packages (from medspacy==0.2.0.0) (1.16.0)\n",
      "Collecting medspacy_quickumls>=2.4.1\n",
      "  Downloading medspacy_quickumls-2.4.1.tar.gz (25 kB)\n",
      "Collecting leveldb>=0.193\n",
      "  Downloading leveldb-0.201.tar.gz (236 kB)\n",
      "\u001b[K     |████████████████████████████████| 236 kB 724 kB/s eta 0:00:01\n",
      "\u001b[?25hRequirement already satisfied: numpy>=1.8.2 in /Users/alecchapman/opt/miniconda3/envs/phs/lib/python3.9/site-packages (from medspacy_quickumls>=2.4.1->medspacy==0.2.0.0) (1.23.0)\n",
      "Collecting unidecode>=0.4.19\n",
      "  Downloading Unidecode-1.3.4-py3-none-any.whl (235 kB)\n",
      "\u001b[K     |████████████████████████████████| 235 kB 1.8 MB/s eta 0:00:01\n",
      "\u001b[?25hCollecting nltk>=3.3\n",
      "  Downloading nltk-3.7-py3-none-any.whl (1.5 MB)\n",
      "\u001b[K     |████████████████████████████████| 1.5 MB 4.8 MB/s eta 0:00:01\n",
      "\u001b[?25hCollecting quickumls_simstring>=1.1.5r1\n",
      "  Downloading quickumls_simstring-1.1.5r1.tar.gz (68 kB)\n",
      "\u001b[K     |████████████████████████████████| 68 kB 569 kB/s eta 0:00:011\n",
      "\u001b[?25hCollecting unqlite>=0.8.1\n",
      "  Downloading unqlite-0.9.3.tar.gz (575 kB)\n",
      "\u001b[K     |████████████████████████████████| 575 kB 4.1 MB/s eta 0:00:01\n",
      "\u001b[?25hCollecting click\n",
      "  Downloading click-8.1.3-py3-none-any.whl (96 kB)\n",
      "\u001b[K     |████████████████████████████████| 96 kB 860 kB/s eta 0:00:01\n",
      "\u001b[?25hCollecting regex>=2021.8.3\n",
      "  Downloading regex-2022.7.9-cp39-cp39-macosx_10_9_x86_64.whl (289 kB)\n",
      "\u001b[K     |████████████████████████████████| 289 kB 1.6 MB/s eta 0:00:01\n",
      "\u001b[?25hRequirement already satisfied: joblib in /Users/alecchapman/opt/miniconda3/envs/phs/lib/python3.9/site-packages (from nltk>=3.3->medspacy_quickumls>=2.4.1->medspacy==0.2.0.0) (1.1.0)\n",
      "Collecting tqdm\n",
      "  Using cached tqdm-4.64.0-py2.py3-none-any.whl (78 kB)\n",
      "Collecting PyFastNER>=1.0.8b1\n",
      "  Downloading PyFastNER-1.0.8-py3-none-any.whl (18 kB)\n",
      "Collecting quicksectx>=0.3.1\n",
      "  Downloading quicksectx-0.3.1-cp39-cp39-macosx_10_9_x86_64.whl (201 kB)\n",
      "\u001b[K     |████████████████████████████████| 201 kB 2.8 MB/s eta 0:00:01\n",
      "\u001b[?25hCollecting cython>=0.29\n",
      "  Using cached Cython-0.29.30-py2.py3-none-any.whl (985 kB)\n",
      "Collecting cymem<2.1.0,>=2.0.2\n",
      "  Using cached cymem-2.0.6-cp39-cp39-macosx_10_9_x86_64.whl (32 kB)\n",
      "Collecting typer<0.5.0,>=0.3.0\n",
      "  Downloading typer-0.4.2-py3-none-any.whl (27 kB)\n",
      "Collecting preshed<3.1.0,>=3.0.2\n",
      "  Using cached preshed-3.0.6-cp39-cp39-macosx_10_9_x86_64.whl (106 kB)\n",
      "Collecting pathy>=0.3.5\n",
      "  Downloading pathy-0.6.2-py3-none-any.whl (42 kB)\n",
      "\u001b[K     |████████████████████████████████| 42 kB 475 kB/s eta 0:00:011\n",
      "\u001b[?25hCollecting spacy-legacy<3.1.0,>=3.0.8\n",
      "  Downloading spacy_legacy-3.0.9-py2.py3-none-any.whl (20 kB)\n",
      "Collecting thinc<8.1.0,>=8.0.12\n",
      "  Downloading thinc-8.0.17-cp39-cp39-macosx_10_9_x86_64.whl (645 kB)\n",
      "\u001b[K     |████████████████████████████████| 645 kB 1.9 MB/s eta 0:00:01\n",
      "\u001b[?25hCollecting pydantic!=1.8,!=1.8.1,<1.9.0,>=1.7.4\n",
      "  Downloading pydantic-1.8.2-cp39-cp39-macosx_10_9_x86_64.whl (2.7 MB)\n",
      "\u001b[K     |████████████████████████████████| 2.7 MB 3.5 MB/s eta 0:00:01\n",
      "\u001b[?25hCollecting click\n",
      "  Downloading click-8.0.4-py3-none-any.whl (97 kB)\n",
      "\u001b[K     |████████████████████████████████| 97 kB 951 kB/s eta 0:00:01\n",
      "\u001b[?25hCollecting murmurhash<1.1.0,>=0.28.0\n",
      "  Using cached murmurhash-1.0.7-cp39-cp39-macosx_10_9_x86_64.whl (18 kB)\n",
      "Requirement already satisfied: packaging>=20.0 in /Users/alecchapman/opt/miniconda3/envs/phs/lib/python3.9/site-packages (from spacy<3.2.0,>=3.1.3->medspacy==0.2.0.0) (21.3)\n",
      "Collecting blis<0.8.0,>=0.4.0\n",
      "  Downloading blis-0.7.8-cp39-cp39-macosx_10_9_x86_64.whl (5.9 MB)\n",
      "\u001b[K     |████████████████████████████████| 5.9 MB 839 kB/s eta 0:00:01\n",
      "\u001b[?25hCollecting catalogue<2.1.0,>=2.0.6\n",
      "  Downloading catalogue-2.0.7-py3-none-any.whl (17 kB)\n",
      "Requirement already satisfied: jinja2 in /Users/alecchapman/opt/miniconda3/envs/phs/lib/python3.9/site-packages (from spacy<3.2.0,>=3.1.3->medspacy==0.2.0.0) (3.0.3)\n",
      "Collecting wasabi<1.1.0,>=0.8.1\n",
      "  Using cached wasabi-0.9.1-py3-none-any.whl (26 kB)\n",
      "Collecting srsly<3.0.0,>=2.4.1\n",
      "  Downloading srsly-2.4.4-cp39-cp39-macosx_10_9_x86_64.whl (460 kB)\n",
      "\u001b[K     |████████████████████████████████| 460 kB 3.5 MB/s eta 0:00:01\n",
      "\u001b[?25hRequirement already satisfied: setuptools in /Users/alecchapman/opt/miniconda3/envs/phs/lib/python3.9/site-packages (from spacy<3.2.0,>=3.1.3->medspacy==0.2.0.0) (61.2.0)\n",
      "Requirement already satisfied: pyparsing!=3.0.5,>=2.0.2 in /Users/alecchapman/opt/miniconda3/envs/phs/lib/python3.9/site-packages (from packaging>=20.0->spacy<3.2.0,>=3.1.3->medspacy==0.2.0.0) (3.0.4)\n",
      "Collecting smart-open<6.0.0,>=5.2.1\n",
      "  Downloading smart_open-5.2.1-py3-none-any.whl (58 kB)\n",
      "\u001b[K     |████████████████████████████████| 58 kB 582 kB/s eta 0:00:011\n",
      "\u001b[?25hRequirement already satisfied: typing-extensions>=3.7.4.3 in /Users/alecchapman/opt/miniconda3/envs/phs/lib/python3.9/site-packages (from pydantic!=1.8,!=1.8.1,<1.9.0,>=1.7.4->spacy<3.2.0,>=3.1.3->medspacy==0.2.0.0) (4.1.1)\n",
      "Requirement already satisfied: MarkupSafe>=2.0 in /Users/alecchapman/opt/miniconda3/envs/phs/lib/python3.9/site-packages (from jinja2->spacy<3.2.0,>=3.1.3->medspacy==0.2.0.0) (2.1.1)\n",
      "Requirement already satisfied: pyrsistent!=0.17.0,!=0.17.1,!=0.17.2,>=0.14.0 in /Users/alecchapman/opt/miniconda3/envs/phs/lib/python3.9/site-packages (from jsonschema->medspacy==0.2.0.0) (0.18.0)\n",
      "Requirement already satisfied: attrs>=17.4.0 in /Users/alecchapman/opt/miniconda3/envs/phs/lib/python3.9/site-packages (from jsonschema->medspacy==0.2.0.0) (21.4.0)\n",
      "Building wheels for collected packages: medspacy, medspacy-quickumls, leveldb, quickumls-simstring, unqlite\n",
      "  Building wheel for medspacy (setup.py) ... \u001b[?25ldone\n",
      "\u001b[?25h  Created wheel for medspacy: filename=medspacy-0.2.0.0-py3-none-any.whl size=150050 sha256=f3e96d5881de59f6870ee488c8bfe2fa82269c0abf3d1a0b6e50233562a8bb3c\n",
      "  Stored in directory: /Users/alecchapman/Library/Caches/pip/wheels/fe/1a/52/19636f0e91bea2c265c1c567b2dd166fff0265153ae9a24cfe\n",
      "  Building wheel for medspacy-quickumls (setup.py) ... \u001b[?25ldone\n",
      "\u001b[?25h  Created wheel for medspacy-quickumls: filename=medspacy_quickumls-2.4.1-py3-none-any.whl size=28471 sha256=800c38b8beb155d5db17b77be5da31ea259229d8669228af4c4d8f1523ee00f7\n",
      "  Stored in directory: /Users/alecchapman/Library/Caches/pip/wheels/33/77/61/0495d2a8bf214458149f7ee118802fd4cf456eddf117735252\n",
      "  Building wheel for leveldb (setup.py) ... \u001b[?25ldone\n",
      "\u001b[?25h  Created wheel for leveldb: filename=leveldb-0.201-cp39-cp39-macosx_10_9_x86_64.whl size=159920 sha256=3702fad1347d292793305bcf566f6bc5e930361e5cb2257d71328f5b5b09dd86\n",
      "  Stored in directory: /Users/alecchapman/Library/Caches/pip/wheels/c7/5d/9f/043268a081577de68513e3a0c1919162406abd711f58962e24\n",
      "  Building wheel for quickumls-simstring (setup.py) ... \u001b[?25ldone\n",
      "\u001b[?25h  Created wheel for quickumls-simstring: filename=quickumls_simstring-1.1.5.post1-cp39-cp39-macosx_10_9_x86_64.whl size=101393 sha256=34ce911cf0b1c2ed0ded9a3124449e9af4d1c8b1792025b1792abb08556f17da\n",
      "  Stored in directory: /Users/alecchapman/Library/Caches/pip/wheels/61/a7/f7/aed8d120797306cfd9173241b311339ee245f1e08e1ed00a8a\n",
      "  Building wheel for unqlite (setup.py) ... \u001b[?25ldone\n",
      "\u001b[?25h  Created wheel for unqlite: filename=unqlite-0.9.3-cp39-cp39-macosx_10_9_x86_64.whl size=322549 sha256=7aec2634d762a3552c5ea4a7f6498340f7cb3d2eb5d777cba39fba97318ce26e\n",
      "  Stored in directory: /Users/alecchapman/Library/Caches/pip/wheels/cd/9c/52/fb16aba35ce11954e9742a1f1b7dfa5e878dd94c198d3cf254\n",
      "Successfully built medspacy medspacy-quickumls leveldb quickumls-simstring unqlite\n"
     ]
    },
    {
     "name": "stdout",
     "output_type": "stream",
     "text": [
      "Installing collected packages: murmurhash, cymem, click, catalogue, wasabi, typer, srsly, smart-open, pydantic, preshed, cython, blis, tqdm, thinc, spacy-legacy, requests, regex, quicksectx, pathy, unqlite, unidecode, spacy, quickumls-simstring, PyFastNER, nltk, leveldb, pysbd, PyRuSH, medspacy-quickumls, medspacy\n",
      "Successfully installed PyFastNER-1.0.8 PyRuSH-1.0.3.6 blis-0.7.8 catalogue-2.0.7 click-8.0.4 cymem-2.0.6 cython-0.29.30 leveldb-0.201 medspacy-0.2.0.0 medspacy-quickumls-2.4.1 murmurhash-1.0.7 nltk-3.7 pathy-0.6.2 preshed-3.0.6 pydantic-1.8.2 pysbd-0.3.4 quicksectx-0.3.1 quickumls-simstring-1.1.5.post1 regex-2022.7.9 requests-2.15.1 smart-open-5.2.1 spacy-3.1.6 spacy-legacy-3.0.9 srsly-2.4.4 thinc-8.0.17 tqdm-4.64.0 typer-0.4.2 unidecode-1.3.4 unqlite-0.9.3 wasabi-0.9.1\n"
     ]
    }
   ],
   "source": [
    "!pip install medspacy==0.2.0.0"
   ]
  },
  {
   "cell_type": "code",
   "execution_count": 4,
   "metadata": {
    "scrolled": true
   },
   "outputs": [
    {
     "name": "stdout",
     "output_type": "stream",
     "text": [
      "Collecting en-core-web-sm==3.1.0\n",
      "  Downloading https://github.com/explosion/spacy-models/releases/download/en_core_web_sm-3.1.0/en_core_web_sm-3.1.0-py3-none-any.whl (13.6 MB)\n",
      "\u001b[K     |████████████████████████████████| 13.6 MB 16.7 MB/s eta 0:00:01\n",
      "\u001b[?25hRequirement already satisfied: spacy<3.2.0,>=3.1.0 in /Users/alecchapman/opt/miniconda3/envs/phs/lib/python3.9/site-packages (from en-core-web-sm==3.1.0) (3.1.6)\n",
      "Requirement already satisfied: cymem<2.1.0,>=2.0.2 in /Users/alecchapman/opt/miniconda3/envs/phs/lib/python3.9/site-packages (from spacy<3.2.0,>=3.1.0->en-core-web-sm==3.1.0) (2.0.6)\n",
      "Requirement already satisfied: preshed<3.1.0,>=3.0.2 in /Users/alecchapman/opt/miniconda3/envs/phs/lib/python3.9/site-packages (from spacy<3.2.0,>=3.1.0->en-core-web-sm==3.1.0) (3.0.6)\n",
      "Requirement already satisfied: pydantic!=1.8,!=1.8.1,<1.9.0,>=1.7.4 in /Users/alecchapman/opt/miniconda3/envs/phs/lib/python3.9/site-packages (from spacy<3.2.0,>=3.1.0->en-core-web-sm==3.1.0) (1.8.2)\n",
      "Requirement already satisfied: click<8.1.0 in /Users/alecchapman/opt/miniconda3/envs/phs/lib/python3.9/site-packages (from spacy<3.2.0,>=3.1.0->en-core-web-sm==3.1.0) (8.0.4)\n",
      "Requirement already satisfied: spacy-legacy<3.1.0,>=3.0.8 in /Users/alecchapman/opt/miniconda3/envs/phs/lib/python3.9/site-packages (from spacy<3.2.0,>=3.1.0->en-core-web-sm==3.1.0) (3.0.9)\n",
      "Requirement already satisfied: packaging>=20.0 in /Users/alecchapman/opt/miniconda3/envs/phs/lib/python3.9/site-packages (from spacy<3.2.0,>=3.1.0->en-core-web-sm==3.1.0) (21.3)\n",
      "Requirement already satisfied: tqdm<5.0.0,>=4.38.0 in /Users/alecchapman/opt/miniconda3/envs/phs/lib/python3.9/site-packages (from spacy<3.2.0,>=3.1.0->en-core-web-sm==3.1.0) (4.64.0)\n",
      "Requirement already satisfied: blis<0.8.0,>=0.4.0 in /Users/alecchapman/opt/miniconda3/envs/phs/lib/python3.9/site-packages (from spacy<3.2.0,>=3.1.0->en-core-web-sm==3.1.0) (0.7.8)\n",
      "Requirement already satisfied: typer<0.5.0,>=0.3.0 in /Users/alecchapman/opt/miniconda3/envs/phs/lib/python3.9/site-packages (from spacy<3.2.0,>=3.1.0->en-core-web-sm==3.1.0) (0.4.2)\n",
      "Requirement already satisfied: murmurhash<1.1.0,>=0.28.0 in /Users/alecchapman/opt/miniconda3/envs/phs/lib/python3.9/site-packages (from spacy<3.2.0,>=3.1.0->en-core-web-sm==3.1.0) (1.0.7)\n",
      "Requirement already satisfied: thinc<8.1.0,>=8.0.12 in /Users/alecchapman/opt/miniconda3/envs/phs/lib/python3.9/site-packages (from spacy<3.2.0,>=3.1.0->en-core-web-sm==3.1.0) (8.0.17)\n",
      "Requirement already satisfied: catalogue<2.1.0,>=2.0.6 in /Users/alecchapman/opt/miniconda3/envs/phs/lib/python3.9/site-packages (from spacy<3.2.0,>=3.1.0->en-core-web-sm==3.1.0) (2.0.7)\n",
      "Requirement already satisfied: numpy>=1.15.0 in /Users/alecchapman/opt/miniconda3/envs/phs/lib/python3.9/site-packages (from spacy<3.2.0,>=3.1.0->en-core-web-sm==3.1.0) (1.23.0)\n",
      "Requirement already satisfied: jinja2 in /Users/alecchapman/opt/miniconda3/envs/phs/lib/python3.9/site-packages (from spacy<3.2.0,>=3.1.0->en-core-web-sm==3.1.0) (3.0.3)\n",
      "Requirement already satisfied: requests<3.0.0,>=2.13.0 in /Users/alecchapman/opt/miniconda3/envs/phs/lib/python3.9/site-packages (from spacy<3.2.0,>=3.1.0->en-core-web-sm==3.1.0) (2.15.1)\n",
      "Requirement already satisfied: setuptools in /Users/alecchapman/opt/miniconda3/envs/phs/lib/python3.9/site-packages (from spacy<3.2.0,>=3.1.0->en-core-web-sm==3.1.0) (61.2.0)\n",
      "Requirement already satisfied: srsly<3.0.0,>=2.4.1 in /Users/alecchapman/opt/miniconda3/envs/phs/lib/python3.9/site-packages (from spacy<3.2.0,>=3.1.0->en-core-web-sm==3.1.0) (2.4.4)\n",
      "Requirement already satisfied: pathy>=0.3.5 in /Users/alecchapman/opt/miniconda3/envs/phs/lib/python3.9/site-packages (from spacy<3.2.0,>=3.1.0->en-core-web-sm==3.1.0) (0.6.2)\n",
      "Requirement already satisfied: wasabi<1.1.0,>=0.8.1 in /Users/alecchapman/opt/miniconda3/envs/phs/lib/python3.9/site-packages (from spacy<3.2.0,>=3.1.0->en-core-web-sm==3.1.0) (0.9.1)\n",
      "Requirement already satisfied: pyparsing!=3.0.5,>=2.0.2 in /Users/alecchapman/opt/miniconda3/envs/phs/lib/python3.9/site-packages (from packaging>=20.0->spacy<3.2.0,>=3.1.0->en-core-web-sm==3.1.0) (3.0.4)\n",
      "Requirement already satisfied: smart-open<6.0.0,>=5.2.1 in /Users/alecchapman/opt/miniconda3/envs/phs/lib/python3.9/site-packages (from pathy>=0.3.5->spacy<3.2.0,>=3.1.0->en-core-web-sm==3.1.0) (5.2.1)\n",
      "Requirement already satisfied: typing-extensions>=3.7.4.3 in /Users/alecchapman/opt/miniconda3/envs/phs/lib/python3.9/site-packages (from pydantic!=1.8,!=1.8.1,<1.9.0,>=1.7.4->spacy<3.2.0,>=3.1.0->en-core-web-sm==3.1.0) (4.1.1)\n",
      "Requirement already satisfied: MarkupSafe>=2.0 in /Users/alecchapman/opt/miniconda3/envs/phs/lib/python3.9/site-packages (from jinja2->spacy<3.2.0,>=3.1.0->en-core-web-sm==3.1.0) (2.1.1)\n",
      "Installing collected packages: en-core-web-sm\n",
      "Successfully installed en-core-web-sm-3.1.0\n",
      "\u001b[38;5;2m✔ Download and installation successful\u001b[0m\n",
      "You can now load the package via spacy.load('en_core_web_sm')\n"
     ]
    }
   ],
   "source": [
    "!python -m spacy download en_core_web_sm"
   ]
  },
  {
   "cell_type": "code",
   "execution_count": null,
   "metadata": {},
   "outputs": [],
   "source": [
    "# !pip install https://github.com/abchapman93/spacy_models/raw/master/releases/en_info_3700_i2b2_2012-0.1.0/dist/en_info_3700_i2b2_2012-0.1.0.tar.gz"
   ]
  },
  {
   "cell_type": "code",
   "execution_count": null,
   "metadata": {},
   "outputs": [],
   "source": []
  },
  {
   "cell_type": "markdown",
   "metadata": {},
   "source": [
    "## Test if it worked\n"
   ]
  },
  {
   "cell_type": "code",
   "execution_count": 9,
   "metadata": {},
   "outputs": [
    {
     "data": {
      "text/plain": [
       "<spacy.lang.en.English at 0x7fc4904d9fd0>"
      ]
     },
     "execution_count": 9,
     "metadata": {},
     "output_type": "execute_result"
    }
   ],
   "source": [
    "import spacy\n",
    "spacy.load(\"en_core_web_sm\")"
   ]
  },
  {
   "cell_type": "code",
   "execution_count": 10,
   "metadata": {},
   "outputs": [
    {
     "data": {
      "text/plain": [
       "<spacy.lang.en.English at 0x7fc49145efd0>"
      ]
     },
     "execution_count": 10,
     "metadata": {},
     "output_type": "execute_result"
    }
   ],
   "source": [
    "import medspacy\n",
    "medspacy.load()"
   ]
  },
  {
   "cell_type": "markdown",
   "metadata": {},
   "source": [
    "## Introduction to Clinical Texts"
   ]
  },
  {
   "cell_type": "code",
   "execution_count": null,
   "metadata": {},
   "outputs": [],
   "source": []
  },
  {
   "cell_type": "code",
   "execution_count": null,
   "metadata": {},
   "outputs": [],
   "source": []
  }
 ],
 "metadata": {
  "kernelspec": {
   "display_name": "Python 3 (ipykernel)",
   "language": "python",
   "name": "python3"
  },
  "language_info": {
   "codemirror_mode": {
    "name": "ipython",
    "version": 3
   },
   "file_extension": ".py",
   "mimetype": "text/x-python",
   "name": "python",
   "nbconvert_exporter": "python",
   "pygments_lexer": "ipython3",
   "version": "3.9.12"
  }
 },
 "nbformat": 4,
 "nbformat_minor": 4
}
