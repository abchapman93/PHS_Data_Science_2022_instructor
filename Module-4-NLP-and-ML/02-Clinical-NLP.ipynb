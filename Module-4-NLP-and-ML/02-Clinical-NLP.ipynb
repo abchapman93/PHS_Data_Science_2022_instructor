{
 "cells": [
  {
   "cell_type": "markdown",
   "id": "94b0e1c0",
   "metadata": {},
   "source": [
    "<html>\n",
    "<table width=\"100%\" cellspacing=\"2\" cellpadding=\"2\" border=\"1\">\n",
    "<tbody>\n",
    "<tr>\n",
    "<td valign=\"center\" align=\"center\" width=\"45%\"><img src=\"../media/Univ-Utah.jpeg\"><br>\n",
    "</td>\n",
    "    <td valign=\"center\" align=\"center\" width=\"75%\">\n",
    "<h1 align=\"center\"><font size=\"+1\">University of Utah<br>Population Health Sciences<br>Data Science Workshop</font></h1></td>\n",
    "<td valign=\"center\" align=\"center\" width=\"45%\"><img\n",
    "src=\"../media/U_Health_stacked_png_red.png\" alt=\"Utah Health\n",
    "Logo\" width=\"128\" height=\"134\"><br>\n",
    "</td>\n",
    "</tr>\n",
    "</tbody>\n",
    "</table>\n",
    "<br>\n",
    "</html>\n",
    "\n",
    "# Clinical Natural Language Processing\n",
    "In this notebook we'll learn about the background and motivations for clinical Natural Language Processing.\n",
    "\n",
    "We saw in the previous notebook that clinical texts contain all sorts of information which is useful for providing patient care, as well as for research. We started to extract some variables in the previous notebook, but using simple string methods isn't sufficient for the complexity of clinical texts. \n",
    "\n",
    "The field of **Natural Language Processing (NLP)** develops methods for extracting information from text data. Because clinical text has unique motivations and challenging, the subfield of **clinical NLP** specifically focuses on extracting medical concepts from text.\n",
    "\n",
    "## Applications\n"
   ]
  },
  {
   "cell_type": "code",
   "execution_count": null,
   "id": "5ad734d7",
   "metadata": {},
   "outputs": [],
   "source": []
  }
 ],
 "metadata": {
  "kernelspec": {
   "display_name": "Python 3 (ipykernel)",
   "language": "python",
   "name": "python3"
  },
  "language_info": {
   "codemirror_mode": {
    "name": "ipython",
    "version": 3
   },
   "file_extension": ".py",
   "mimetype": "text/x-python",
   "name": "python",
   "nbconvert_exporter": "python",
   "pygments_lexer": "ipython3",
   "version": "3.9.12"
  }
 },
 "nbformat": 4,
 "nbformat_minor": 5
}
