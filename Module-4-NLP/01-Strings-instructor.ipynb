{
 "cells": [
  {
   "cell_type": "markdown",
   "id": "a96f3930",
   "metadata": {},
   "source": [
    "<html>\n",
    "<table width=\"100%\" cellspacing=\"2\" cellpadding=\"2\" border=\"1\">\n",
    "<tbody>\n",
    "<tr>\n",
    "<td valign=\"center\" align=\"center\" width=\"45%\"><img src=\"../media/Univ-Utah.jpeg\"><br>\n",
    "</td>\n",
    "    <td valign=\"center\" align=\"center\" width=\"75%\">\n",
    "<h1 align=\"center\"><font size=\"+1\">University of Utah<br>Population Health Sciences<br>Data Science Workshop</font></h1></td>\n",
    "<td valign=\"center\" align=\"center\" width=\"45%\"><img\n",
    "src=\"../media/U_Health_stacked_png_red.png\" alt=\"Utah Health\n",
    "Logo\" width=\"128\" height=\"134\"><br>\n",
    "</td>\n",
    "</tr>\n",
    "</tbody>\n",
    "</table>\n",
    "<br>\n",
    "</html>"
   ]
  },
  {
   "cell_type": "code",
   "execution_count": 1,
   "id": "4993c080",
   "metadata": {},
   "outputs": [],
   "source": [
    "from helpers import *"
   ]
  },
  {
   "cell_type": "markdown",
   "id": "a2e07e76",
   "metadata": {},
   "source": [
    "# Textual Data in Medicine\n",
    "As we've seen throughout this workshop, text is represented in Python with **strings**. So far, we've mainly limited our use of strings to short descriptions which represent structured elements. In this module, we'll see how text data plays a large role in medicine and why it's important to be able to analyze text data.\n",
    "\n",
    "In this notebook, we'll start by learning about what information is stored in text form in the EHR and then dive deeper into working with strings in Python. Then we'll learn a set of tools for extracting information from clinical text using Natural Language Processing.\n",
    "\n",
    "## Unstructured Data in the EHR\n",
    "When you see a doctor, they enter your information into the EHR in a few different ways. We've already seen some examples like:\n",
    "- ICD-9/10 codes\n",
    "- Numeric vital measurements\n",
    "- Flags for abnormal tests\n",
    "\n",
    "These are all **structured** data elements: the values are either numeric values or discrete elements with distinct, concrete meaning. Importantly, these values are *computable*: we can take the average of numeric vital measurements or count of ICD-10 codes.\n",
    "\n",
    "However, some forms of documentation are **unstructured**. Some examples are:\n",
    "- Videos\n",
    "- Radiology imaging\n",
    "- Full-text narratives\n",
    "\n",
    "Data forms like this are great for humans: they are easy to interpret and can include much more context and nuance than rigid, standardized data elements. However, they can't immediately be computed with. While a collection of pixels can be very meaningful to a radiologist, machines don't inherently have the ability to make sense of them.\n",
    "\n",
    "This presents a challenge to researchers since unstructured data accounts for a huge amount of the information stored in the EHR. While it would be great to utilize this information, we have to do a little extra work to make sense of it.\n",
    "\n",
    "## Clinical Narratives\n",
    "#### TODO\n",
    "Read the following excerpt of a discharge summary and then complete the quizzes that follow."
   ]
  },
  {
   "cell_type": "code",
   "execution_count": 2,
   "id": "9dd94714",
   "metadata": {},
   "outputs": [],
   "source": [
    "disch_summ = \"\"\"\n",
    "Service: MEDICINE\n",
    "\n",
    "Chief Complaint:\n",
    "5 days worsening SOB, DOE\n",
    " \n",
    "History of Present Illness:\n",
    "Pt is a 63M w/ h/o metastatic carcinoid tumor, HTN, \n",
    "hyperlipidemia who reports increasing SOB and DOE starting about \n",
    "a month ago but worsening significantly within the last 5 days. \n",
    "It has recently gotten so bad he can barely get up out of a \n",
    "chair without getting short of breath. He reports orthopnea but no PND. \n",
    "\n",
    "He reports no fever or chills, no URI symptoms, no recent travel, no changes \n",
    "in his medications.\n",
    "\n",
    "Pt also reports ~5 episodes of chest pain in the last few weeks \n",
    "which he describes as pressure on his mid-sternum and usually \n",
    "occurs during exertion.\n",
    " \n",
    "Past Medical History:\n",
    "1. metastatic carcinoid tumor, Dx'ed 2002\n",
    "2. hypertension\n",
    "3. hyperlipidemia\n",
    "4. carotid endarterectomy 1999\n",
    "5. depression/anxiety\n",
    " \n",
    "Social History:\n",
    "Lives alone, has two daughters\n",
    " \n",
    "Family History:\n",
    "early CAD\n",
    "\n",
    "Brief Hospital Course:\n",
    "1. SOB: likely from CHF\n",
    "The patient was initially diuresed for mild pulmonary edema: he \n",
    "received 20 IV Lasix on night of admission and 40mg [**9-10**], with \n",
    "good UOP. On [**9-10**], pt was reporting improvement of symptoms and \n",
    "able to walk around his room with 4L O2 NC. The following day he \n",
    "reported feeling worse, with increasing SOB, and was found to \n",
    "now be in oliguric renal failure. CXR [**9-11**] 8am showed showed \n",
    "atelectasis with possible superimposed pneumonia. Emergent TTE \n",
    "showed decreased EF (30%), anteroapical infarct with \n",
    "moderate-to-severe overall left ventricular contractile \n",
    "dysfunction; bicusapid aortic valve with at least mild aortic \n",
    "stenosis. He was sent to the MICU.\n",
    " \n",
    "Medications on Admission:\n",
    "ASA 81mg po qd\n",
    "Lipitor 20mg po qpm\n",
    "\n",
    "Discharge Disposition:\n",
    "Extended Care\n",
    "Discharge Diagnosis:\n",
    "Primary: congestive heart failure\n",
    "Secondary: metastatic carcinoid tumor, hypertension, \n",
    "hyperlipidemia, diabetes mellitus type 2, basal cell carcinoma\n",
    " \n",
    "Discharge Condition:\n",
    "good, stable\n",
    "\"\"\""
   ]
  },
  {
   "cell_type": "code",
   "execution_count": 3,
   "id": "78b40c24",
   "metadata": {},
   "outputs": [
    {
     "data": {
      "application/vnd.jupyter.widget-view+json": {
       "model_id": "c28451e66b0a4070917e36132cd37710",
       "version_major": 2,
       "version_minor": 0
      },
      "text/plain": [
       "VBox(children=(HTML(value='What is the main reason the patient came to the hospital?'), RadioButtons(layout=La…"
      ]
     },
     "metadata": {},
     "output_type": "display_data"
    },
    {
     "data": {
      "text/plain": []
     },
     "execution_count": 3,
     "metadata": {},
     "output_type": "execute_result"
    }
   ],
   "source": [
    "MultipleChoiceQuiz(\"What is the main reason the patient came to the hospital?\",\n",
    "                  answer=\"He was experiencing shortness of breath.\",\n",
    "                  options=[\n",
    "                      \"He was referred by his oncologist.\",\n",
    "                      \"He had a fever.\"\n",
    "                  ])"
   ]
  },
  {
   "cell_type": "code",
   "execution_count": 4,
   "id": "ee314103",
   "metadata": {},
   "outputs": [
    {
     "data": {
      "application/vnd.jupyter.widget-view+json": {
       "model_id": "799b1ecf4ca64f5aa74ea9d68bf0f650",
       "version_major": 2,
       "version_minor": 0
      },
      "text/plain": [
       "VBox(children=(HTML(value='Which of the following conditions does the patient have?.'), SelectMultiple(options…"
      ]
     },
     "metadata": {},
     "output_type": "display_data"
    },
    {
     "data": {
      "text/plain": []
     },
     "execution_count": 4,
     "metadata": {},
     "output_type": "execute_result"
    }
   ],
   "source": [
    "SelectMultipleQuiz(\"Which of the following conditions does the patient have?.\",\n",
    "                  answer=[\"Congestive Heart Failure\", \"Diabetes\", \"Cancer\"],\n",
    "                  options=[\"Pneumonia\", \"Coronary Artery Disease\"]\n",
    "                  )"
   ]
  },
  {
   "cell_type": "code",
   "execution_count": 5,
   "id": "b1be280a",
   "metadata": {},
   "outputs": [
    {
     "data": {
      "application/vnd.jupyter.widget-view+json": {
       "model_id": "4c31a82293e24b51a84d5be7d86ad57e",
       "version_major": 2,
       "version_minor": 0
      },
      "text/plain": [
       "VBox(children=(HTML(value=\"The patient doesn't have any living relatives.\"), RadioButtons(layout=Layout(width=…"
      ]
     },
     "metadata": {},
     "output_type": "display_data"
    },
    {
     "data": {
      "text/plain": []
     },
     "execution_count": 5,
     "metadata": {},
     "output_type": "execute_result"
    }
   ],
   "source": [
    "MultipleChoiceQuiz(\"The patient doesn't have any living relatives.\", answer=\"False\", shuffle_answer=False)"
   ]
  },
  {
   "cell_type": "code",
   "execution_count": 6,
   "id": "135c2c59",
   "metadata": {},
   "outputs": [
    {
     "data": {
      "application/vnd.jupyter.widget-view+json": {
       "model_id": "93fbd1c766f846179df2c8ba4f1f0e2d",
       "version_major": 2,
       "version_minor": 0
      },
      "text/plain": [
       "VBox(children=(HTML(value='How many episodes of chest pain has the patient had in the last few weeks?'), Texta…"
      ]
     },
     "metadata": {},
     "output_type": "display_data"
    },
    {
     "data": {
      "text/plain": []
     },
     "execution_count": 6,
     "metadata": {},
     "output_type": "execute_result"
    }
   ],
   "source": [
    "FreeTextTest(\"How many episodes of chest pain has the patient had in the last few weeks?\", answer=[\"5\", \"five\"])"
   ]
  },
  {
   "cell_type": "markdown",
   "id": "c73ef04f",
   "metadata": {},
   "source": [
    "### Discussion\n",
    "As you can see, there's a lot of really useful information in clinical notes. What is the advantage of documenting it using free text? What are some challenges you see with this?"
   ]
  },
  {
   "cell_type": "markdown",
   "id": "9e9a11aa",
   "metadata": {},
   "source": [
    "## String methods\n",
    "- Slicing\n",
    "- Upper/lower\n",
    "- Replacing\n",
    "- Splitting\n",
    "- Joining\n",
    "- Formatting"
   ]
  },
  {
   "cell_type": "code",
   "execution_count": 7,
   "id": "ce1e359e",
   "metadata": {},
   "outputs": [],
   "source": [
    "text = \"\"\"Chief Complaint:\n",
    "5 days worsening SOB, DOE\"\"\""
   ]
  },
  {
   "cell_type": "code",
   "execution_count": 8,
   "id": "2baa8132",
   "metadata": {},
   "outputs": [
    {
     "name": "stdout",
     "output_type": "stream",
     "text": [
      "Chief Complaint:\n",
      "5 days worsening SOB, DOE\n"
     ]
    }
   ],
   "source": [
    "print(text)"
   ]
  },
  {
   "cell_type": "code",
   "execution_count": 9,
   "id": "baf2d8d1",
   "metadata": {},
   "outputs": [
    {
     "data": {
      "text/plain": [
       "'Chief Complaint:\\n5 days worsening SOB, DOE'"
      ]
     },
     "execution_count": 9,
     "metadata": {},
     "output_type": "execute_result"
    }
   ],
   "source": [
    "text"
   ]
  },
  {
   "cell_type": "markdown",
   "id": "b536ca9f",
   "metadata": {},
   "source": [
    "### Slicing\n",
    "Under the hood, strings act similarly lists, so we can slice and index them in the same way.\n",
    "\n",
    "To get the number of characters in a string we use the `len` function:"
   ]
  },
  {
   "cell_type": "code",
   "execution_count": 10,
   "id": "060b46e9",
   "metadata": {},
   "outputs": [
    {
     "data": {
      "text/plain": [
       "16"
      ]
     },
     "execution_count": 10,
     "metadata": {},
     "output_type": "execute_result"
    }
   ],
   "source": [
    "len(\"Chief Complaint:\")"
   ]
  },
  {
   "cell_type": "markdown",
   "id": "48f016c1",
   "metadata": {},
   "source": [
    "We can access individual characters by index (also 0-indexed, like everything in Python):"
   ]
  },
  {
   "cell_type": "code",
   "execution_count": 11,
   "id": "adb18d5c",
   "metadata": {},
   "outputs": [
    {
     "data": {
      "text/plain": [
       "'C'"
      ]
     },
     "execution_count": 11,
     "metadata": {},
     "output_type": "execute_result"
    }
   ],
   "source": [
    "text[0]"
   ]
  },
  {
   "cell_type": "code",
   "execution_count": 12,
   "id": "0697efdb",
   "metadata": {},
   "outputs": [
    {
     "data": {
      "text/plain": [
       "'Chief Complaint:'"
      ]
     },
     "execution_count": 12,
     "metadata": {},
     "output_type": "execute_result"
    }
   ],
   "source": [
    "text[:16]"
   ]
  },
  {
   "cell_type": "code",
   "execution_count": 13,
   "id": "d155505f",
   "metadata": {},
   "outputs": [
    {
     "data": {
      "text/plain": [
       "'DO'"
      ]
     },
     "execution_count": 13,
     "metadata": {},
     "output_type": "execute_result"
    }
   ],
   "source": [
    "text[-3:-1]"
   ]
  },
  {
   "cell_type": "code",
   "execution_count": 14,
   "id": "dc2ba01d",
   "metadata": {},
   "outputs": [
    {
     "data": {
      "application/vnd.jupyter.widget-view+json": {
       "model_id": "5dd70617c19441c9af1f7b3e0efdfc68",
       "version_major": 2,
       "version_minor": 0
      },
      "text/plain": [
       "VBox(children=(HTML(value='<h4>TODO</h4>Using the variable `text` that we defined above, what would be the val…"
      ]
     },
     "metadata": {},
     "output_type": "display_data"
    },
    {
     "data": {
      "text/plain": []
     },
     "execution_count": 14,
     "metadata": {},
     "output_type": "execute_result"
    }
   ],
   "source": [
    "# RUN CELL TO SEE QUIZ\n",
    "quiz_text_3"
   ]
  },
  {
   "cell_type": "markdown",
   "id": "d4868c11",
   "metadata": {},
   "source": [
    "### Substrings\n",
    "A **substring** is a smaller (or equally-sized) string consisting of consecutive characters within a larger string (or **superstring**). When we slice a string, we get a substring:"
   ]
  },
  {
   "cell_type": "code",
   "execution_count": 15,
   "id": "0d4379a9",
   "metadata": {},
   "outputs": [
    {
     "data": {
      "text/plain": [
       "'Chief'"
      ]
     },
     "execution_count": 15,
     "metadata": {},
     "output_type": "execute_result"
    }
   ],
   "source": [
    "sub_text = text[:5]\n",
    "sub_text"
   ]
  },
  {
   "cell_type": "markdown",
   "id": "bed138c5",
   "metadata": {},
   "source": [
    "We can check whether a string is contained in a superstring by using the `in` keyword:"
   ]
  },
  {
   "cell_type": "code",
   "execution_count": 16,
   "id": "971c8afe",
   "metadata": {},
   "outputs": [
    {
     "data": {
      "text/plain": [
       "True"
      ]
     },
     "execution_count": 16,
     "metadata": {},
     "output_type": "execute_result"
    }
   ],
   "source": [
    "sub_text in text"
   ]
  },
  {
   "cell_type": "markdown",
   "id": "55af1cb7",
   "metadata": {},
   "source": [
    "Strings are case-sensitive, though, so the characters need to match exactly:"
   ]
  },
  {
   "cell_type": "code",
   "execution_count": 17,
   "id": "13136c85",
   "metadata": {},
   "outputs": [
    {
     "data": {
      "text/plain": [
       "False"
      ]
     },
     "execution_count": 17,
     "metadata": {},
     "output_type": "execute_result"
    }
   ],
   "source": [
    "\"chief\" in text"
   ]
  },
  {
   "cell_type": "markdown",
   "id": "26c25be9",
   "metadata": {},
   "source": [
    "### Upper and lower-case\n",
    "Sometimes we want to change the case of a string, or ignore the case altogether. A few methods return a new string with different capitalization.\n",
    "\n",
    "The `text.upper()` returns an all upper-case version of the string, and `text.lower()` returns a lower-case one:"
   ]
  },
  {
   "cell_type": "code",
   "execution_count": 18,
   "id": "7a16e017",
   "metadata": {},
   "outputs": [
    {
     "data": {
      "text/plain": [
       "'CHIEF COMPLAINT:\\n5 DAYS WORSENING SOB, DOE'"
      ]
     },
     "execution_count": 18,
     "metadata": {},
     "output_type": "execute_result"
    }
   ],
   "source": [
    "text.upper()"
   ]
  },
  {
   "cell_type": "code",
   "execution_count": 19,
   "id": "9a2a02e7",
   "metadata": {},
   "outputs": [
    {
     "data": {
      "text/plain": [
       "'chief complaint:\\n5 days worsening sob, doe'"
      ]
     },
     "execution_count": 19,
     "metadata": {},
     "output_type": "execute_result"
    }
   ],
   "source": [
    "text.lower()"
   ]
  },
  {
   "cell_type": "markdown",
   "id": "76289456",
   "metadata": {},
   "source": [
    "Switching to all one case can make it easier to search a text for a string:"
   ]
  },
  {
   "cell_type": "code",
   "execution_count": 20,
   "id": "cc9fba47",
   "metadata": {},
   "outputs": [
    {
     "data": {
      "text/plain": [
       "True"
      ]
     },
     "execution_count": 20,
     "metadata": {},
     "output_type": "execute_result"
    }
   ],
   "source": [
    "\"chief\" in text.lower()"
   ]
  },
  {
   "cell_type": "markdown",
   "id": "dd7c626c",
   "metadata": {},
   "source": [
    "The `title()` method capitalizes the first letter of each word but lower-cases the rest:"
   ]
  },
  {
   "cell_type": "code",
   "execution_count": 21,
   "id": "2e6c21f8",
   "metadata": {},
   "outputs": [
    {
     "data": {
      "text/plain": [
       "'Chief Complaint:\\n5 Days Worsening Sob, Doe'"
      ]
     },
     "execution_count": 21,
     "metadata": {},
     "output_type": "execute_result"
    }
   ],
   "source": [
    "text.title()"
   ]
  },
  {
   "cell_type": "code",
   "execution_count": null,
   "id": "cc06f7f1",
   "metadata": {},
   "outputs": [],
   "source": []
  },
  {
   "cell_type": "markdown",
   "id": "6fce8c84",
   "metadata": {},
   "source": [
    "### Splitting strings\n",
    "We can split a string into smaller strings whenever a particular character/characters occurs with the `split()` method. This is how **comma-separated files** distinguish between each column:"
   ]
  },
  {
   "cell_type": "code",
   "execution_count": 22,
   "id": "5f71dcf5",
   "metadata": {},
   "outputs": [
    {
     "data": {
      "text/plain": [
       "['name', 'age', 'city', 'state']"
      ]
     },
     "execution_count": 22,
     "metadata": {},
     "output_type": "execute_result"
    }
   ],
   "source": [
    "\"name,age,city,state\".split(\",\")"
   ]
  },
  {
   "cell_type": "code",
   "execution_count": 23,
   "id": "4042ee81",
   "metadata": {},
   "outputs": [
    {
     "data": {
      "text/plain": [
       "['alec chapman', '29', 'salt lake city']"
      ]
     },
     "execution_count": 23,
     "metadata": {},
     "output_type": "execute_result"
    }
   ],
   "source": [
    "\"alec chapman,29,salt lake city\".split(\",\")"
   ]
  },
  {
   "cell_type": "markdown",
   "id": "0b44b904",
   "metadata": {},
   "source": [
    "After splitting a string, we can **unpack it** into distinct values:"
   ]
  },
  {
   "cell_type": "code",
   "execution_count": 24,
   "id": "9c387752",
   "metadata": {},
   "outputs": [
    {
     "name": "stdout",
     "output_type": "stream",
     "text": [
      "alec chapman\n",
      "29\n",
      "salt lake city\n"
     ]
    }
   ],
   "source": [
    "name, age, city = \"alec chapman,29,salt lake city\".split(\",\")\n",
    "print(name)\n",
    "print(age)\n",
    "print(city)"
   ]
  },
  {
   "cell_type": "markdown",
   "id": "b08cb7ff",
   "metadata": {},
   "source": [
    "But be careful - if one of the elements actually contains a comma, it will split in a way you might not expect:"
   ]
  },
  {
   "cell_type": "code",
   "execution_count": 25,
   "id": "5cc1cf3b",
   "metadata": {},
   "outputs": [
    {
     "data": {
      "text/plain": [
       "['alec chapman', '29', 'salt lake city', ' utah']"
      ]
     },
     "execution_count": 25,
     "metadata": {},
     "output_type": "execute_result"
    }
   ],
   "source": [
    "\"alec chapman,29,salt lake city, utah\".split(\",\")"
   ]
  },
  {
   "cell_type": "code",
   "execution_count": 26,
   "id": "2eafbed2",
   "metadata": {},
   "outputs": [
    {
     "ename": "ValueError",
     "evalue": "too many values to unpack (expected 3)",
     "output_type": "error",
     "traceback": [
      "\u001b[0;31m---------------------------------------------------------------------------\u001b[0m",
      "\u001b[0;31mValueError\u001b[0m                                Traceback (most recent call last)",
      "Input \u001b[0;32mIn [26]\u001b[0m, in \u001b[0;36m<cell line: 2>\u001b[0;34m()\u001b[0m\n\u001b[1;32m      1\u001b[0m \u001b[38;5;66;03m# Throws an error\u001b[39;00m\n\u001b[0;32m----> 2\u001b[0m name, age, city \u001b[38;5;241m=\u001b[39m \u001b[38;5;124m\"\u001b[39m\u001b[38;5;124malec chapman,29,salt lake city, ut\u001b[39m\u001b[38;5;124m\"\u001b[39m\u001b[38;5;241m.\u001b[39msplit(\u001b[38;5;124m\"\u001b[39m\u001b[38;5;124m,\u001b[39m\u001b[38;5;124m\"\u001b[39m)\n",
      "\u001b[0;31mValueError\u001b[0m: too many values to unpack (expected 3)"
     ]
    }
   ],
   "source": [
    "# Throws an error\n",
    "name, age, city = \"alec chapman,29,salt lake city, ut\".split(\",\")"
   ]
  },
  {
   "cell_type": "markdown",
   "id": "fd65f00f",
   "metadata": {},
   "source": [
    "You can split by any character. Splitting by *whitespaces* is a simple way to break a string up into individual words (but do you see any problems with this?)"
   ]
  },
  {
   "cell_type": "code",
   "execution_count": 27,
   "id": "f0081536",
   "metadata": {},
   "outputs": [
    {
     "data": {
      "text/plain": [
       "['This', 'is', 'a', 'sentence.']"
      ]
     },
     "execution_count": 27,
     "metadata": {},
     "output_type": "execute_result"
    }
   ],
   "source": [
    "\"This is a sentence.\".split(\" \")"
   ]
  },
  {
   "cell_type": "markdown",
   "id": "3d7929d1",
   "metadata": {},
   "source": [
    "#### TODO\n",
    "An **empty string** is a string without any characters:\n",
    "\n",
    "`\"\"`"
   ]
  },
  {
   "cell_type": "code",
   "execution_count": 28,
   "id": "5469bbce",
   "metadata": {},
   "outputs": [
    {
     "data": {
      "application/vnd.jupyter.widget-view+json": {
       "model_id": "1b23c8637ca34ea3bc6e3a7e4b1ff51b",
       "version_major": 2,
       "version_minor": 0
      },
      "text/plain": [
       "VBox(children=(HTML(value='What value would be generated by the following code:</br><p style=\"font-family:cour…"
      ]
     },
     "metadata": {},
     "output_type": "display_data"
    },
    {
     "data": {
      "text/plain": []
     },
     "execution_count": 28,
     "metadata": {},
     "output_type": "execute_result"
    }
   ],
   "source": [
    "# RUN CELL TO SEE QUIZ\n",
    "quiz_len_empty"
   ]
  },
  {
   "cell_type": "markdown",
   "id": "c7ee4da8",
   "metadata": {},
   "source": [
    "#### TODO\n"
   ]
  },
  {
   "cell_type": "code",
   "execution_count": 29,
   "id": "b86a1c27",
   "metadata": {},
   "outputs": [
    {
     "data": {
      "application/vnd.jupyter.widget-view+json": {
       "model_id": "d37eae7fd50d4589b2938552f4c31002",
       "version_major": 2,
       "version_minor": 0
      },
      "text/plain": [
       "VBox(children=(HTML(value='What would happen if you split the string `\"pna\"` on an empty string?'), RadioButto…"
      ]
     },
     "metadata": {},
     "output_type": "display_data"
    },
    {
     "data": {
      "text/plain": []
     },
     "execution_count": 29,
     "metadata": {},
     "output_type": "execute_result"
    }
   ],
   "source": [
    "# RUN CELL TO SEE QUIZ\n",
    "quiz_split_pna_empty"
   ]
  },
  {
   "cell_type": "code",
   "execution_count": null,
   "id": "08877420",
   "metadata": {},
   "outputs": [],
   "source": []
  },
  {
   "cell_type": "markdown",
   "id": "82051f4d",
   "metadata": {},
   "source": [
    "### Joining strings\n",
    "The inverse of *splitting* strings is *joining* strings. We saw in the first notebook how to **concatenate** two strings together to create a larger string:"
   ]
  },
  {
   "cell_type": "code",
   "execution_count": 30,
   "id": "8f3a61d8",
   "metadata": {},
   "outputs": [
    {
     "data": {
      "text/plain": [
       "'Chief complaint'"
      ]
     },
     "execution_count": 30,
     "metadata": {},
     "output_type": "execute_result"
    }
   ],
   "source": [
    "\"Chief\" + \" \" + \"complaint\""
   ]
  },
  {
   "cell_type": "markdown",
   "id": "34949d6c",
   "metadata": {},
   "source": [
    "We can take a list of strings and create a string with all of them joined by some character (or multiple characters):"
   ]
  },
  {
   "cell_type": "code",
   "execution_count": 31,
   "id": "8e1970a0",
   "metadata": {},
   "outputs": [
    {
     "data": {
      "text/plain": [
       "'Chief complaint: 5 days worsening SOB DOE'"
      ]
     },
     "execution_count": 31,
     "metadata": {},
     "output_type": "execute_result"
    }
   ],
   "source": [
    "\" \".join([\"Chief\", \"complaint:\", \"5\", \"days\", \"worsening\", \"SOB\", \"DOE\"])"
   ]
  },
  {
   "cell_type": "code",
   "execution_count": 32,
   "id": "9475ae53",
   "metadata": {},
   "outputs": [
    {
     "data": {
      "text/plain": [
       "'This...feels...very...passive...aggressive...'"
      ]
     },
     "execution_count": 32,
     "metadata": {},
     "output_type": "execute_result"
    }
   ],
   "source": [
    "\"...\".join([\"This\", \"feels\", \"very\", \"passive\", \"aggressive\", \"\"])"
   ]
  },
  {
   "cell_type": "code",
   "execution_count": null,
   "id": "6dd68140",
   "metadata": {},
   "outputs": [],
   "source": []
  },
  {
   "cell_type": "markdown",
   "id": "a2d423ac",
   "metadata": {},
   "source": [
    "### String formatting\n",
    "Sometimes we want to use \"template\" texts and fill in values based on variable. For example, way back in the first notebook we had a function called `print_name` which would create and print a string based on the function arguments. **String formatting** is a nice way to do this. For example, one way to do this is using so-called `f-strings`, which are denoted with an `f` at the beginning of the string and then contain variable names in curly brackets `{}`."
   ]
  },
  {
   "cell_type": "code",
   "execution_count": 33,
   "id": "c5b15fbe",
   "metadata": {},
   "outputs": [
    {
     "name": "stdout",
     "output_type": "stream",
     "text": [
      "My name is Alec Chapman\n"
     ]
    }
   ],
   "source": [
    "first = \"Alec\"\n",
    "last = \"Chapman\"\n",
    "print(f\"My name is {first} {last}\")"
   ]
  },
  {
   "cell_type": "markdown",
   "id": "9d12872e",
   "metadata": {},
   "source": [
    "You can also use the string method `.format()`:"
   ]
  },
  {
   "cell_type": "code",
   "execution_count": 34,
   "id": "35fe93ed",
   "metadata": {},
   "outputs": [
    {
     "name": "stdout",
     "output_type": "stream",
     "text": [
      "My name is Alec Chapman\n"
     ]
    }
   ],
   "source": [
    "print(\"My name is {} {}\".format(\"Alec\", \"Chapman\"))"
   ]
  },
  {
   "cell_type": "markdown",
   "id": "1972aff6",
   "metadata": {},
   "source": [
    "## Practice with strings"
   ]
  },
  {
   "cell_type": "markdown",
   "id": "8da4aaa9",
   "metadata": {},
   "source": [
    "### 1.\n",
    "In NLP, **tokenization** is the process of splitting a text into individual words. It can be informative to see which unique words appear in a document. Split `disch_summ` into tokens and then create an object containing unique tokens. As an optional next step, count how many times each token appears."
   ]
  },
  {
   "cell_type": "code",
   "execution_count": 35,
   "id": "1c872973",
   "metadata": {},
   "outputs": [
    {
     "data": {
      "application/vnd.jupyter.widget-view+json": {
       "model_id": "d2a56b033468410c818f15d18b09094c",
       "version_major": 2,
       "version_minor": 0
      },
      "text/plain": [
       "VBox(children=(HTML(value='</br><strong>Displaying hint 0/2</strong>'), Output(), Button(description='Get hint…"
      ]
     },
     "metadata": {},
     "output_type": "display_data"
    },
    {
     "data": {
      "text/plain": []
     },
     "execution_count": 35,
     "metadata": {},
     "output_type": "execute_result"
    }
   ],
   "source": [
    "# RUN CELL TO SEE HINT\n",
    "hint_tokenize_disch_summ "
   ]
  },
  {
   "cell_type": "code",
   "execution_count": 36,
   "id": "21c68c28",
   "metadata": {},
   "outputs": [
    {
     "data": {
      "text/plain": [
       "{'\\n\\nHe',\n",
       " '\\nDischarge',\n",
       " '\\nFamily',\n",
       " '\\nHistory',\n",
       " '\\nIt',\n",
       " '\\nMedications',\n",
       " '\\nPast',\n",
       " '\\nService:',\n",
       " '\\nSocial',\n",
       " '\\na',\n",
       " '\\nable',\n",
       " '\\natelectasis',\n",
       " '\\nchair',\n",
       " '\\ndysfunction;',\n",
       " '\\ngood',\n",
       " '\\nhyperlipidemia',\n",
       " '\\nhyperlipidemia,',\n",
       " '\\nin',\n",
       " '\\nmoderate-to-severe',\n",
       " '\\nnow',\n",
       " '\\noccurs',\n",
       " '\\nreceived',\n",
       " '\\nreported',\n",
       " '\\nshowed',\n",
       " '\\nstenosis.',\n",
       " '\\nwhich',\n",
       " '(30%),',\n",
       " '1999\\n5.',\n",
       " '2,',\n",
       " '20',\n",
       " '2002\\n2.',\n",
       " '20mg',\n",
       " '40mg',\n",
       " '4L',\n",
       " '5',\n",
       " '63M',\n",
       " '81mg',\n",
       " '8am',\n",
       " 'Admission:\\nASA',\n",
       " 'CAD\\n\\nBrief',\n",
       " 'CHF\\nThe',\n",
       " 'CXR',\n",
       " 'Care\\nDischarge',\n",
       " 'Complaint:\\n5',\n",
       " 'Condition:\\ngood,',\n",
       " 'Course:\\n1.',\n",
       " 'DOE',\n",
       " 'DOE\\n',\n",
       " 'Diagnosis:\\nPrimary:',\n",
       " 'Disposition:\\nExtended',\n",
       " \"Dx'ed\",\n",
       " 'EF',\n",
       " 'Emergent',\n",
       " 'HTN,',\n",
       " 'He',\n",
       " 'History:\\n1.',\n",
       " 'History:\\nLives',\n",
       " 'History:\\nearly',\n",
       " 'Hospital',\n",
       " 'IV',\n",
       " 'Illness:\\nPt',\n",
       " 'Lasix',\n",
       " 'MEDICINE\\n\\nChief',\n",
       " 'MICU.\\n',\n",
       " 'Medical',\n",
       " 'NC.',\n",
       " 'O2',\n",
       " 'On',\n",
       " 'PND.',\n",
       " 'Present',\n",
       " 'SOB',\n",
       " 'SOB,',\n",
       " 'SOB:',\n",
       " 'TTE',\n",
       " 'The',\n",
       " 'UOP.',\n",
       " 'URI',\n",
       " '[**9-10**],',\n",
       " '[**9-11**]',\n",
       " 'a',\n",
       " 'about',\n",
       " 'admission',\n",
       " 'ago',\n",
       " 'alone,',\n",
       " 'also',\n",
       " 'and',\n",
       " 'anteroapical',\n",
       " 'aortic',\n",
       " 'around',\n",
       " 'as',\n",
       " 'at',\n",
       " 'bad',\n",
       " 'barely',\n",
       " 'basal',\n",
       " 'be',\n",
       " 'bicusapid',\n",
       " 'breath.',\n",
       " 'but',\n",
       " 'can',\n",
       " 'carcinoid',\n",
       " 'carcinoma\\n',\n",
       " 'carotid',\n",
       " 'cell',\n",
       " 'changes',\n",
       " 'chest',\n",
       " 'chills,',\n",
       " 'congestive',\n",
       " 'contractile',\n",
       " 'daughters\\n',\n",
       " 'day',\n",
       " 'days',\n",
       " 'days.',\n",
       " 'decreased',\n",
       " 'depression/anxiety\\n',\n",
       " 'describes',\n",
       " 'diabetes',\n",
       " 'diuresed',\n",
       " 'during',\n",
       " 'edema:',\n",
       " 'endarterectomy',\n",
       " 'episodes',\n",
       " 'exertion.\\n',\n",
       " 'failure\\nSecondary:',\n",
       " 'failure.',\n",
       " 'feeling',\n",
       " 'fever',\n",
       " 'few',\n",
       " 'following',\n",
       " 'for',\n",
       " 'found',\n",
       " 'from',\n",
       " 'get',\n",
       " 'getting',\n",
       " 'gotten',\n",
       " 'h/o',\n",
       " 'has',\n",
       " 'he',\n",
       " 'heart',\n",
       " 'his',\n",
       " 'hyperlipidemia\\n4.',\n",
       " 'hypertension\\n3.',\n",
       " 'hypertension,',\n",
       " 'improvement',\n",
       " 'in',\n",
       " 'increasing',\n",
       " 'infarct',\n",
       " 'initially',\n",
       " 'is',\n",
       " 'last',\n",
       " 'least',\n",
       " 'left',\n",
       " 'likely',\n",
       " 'medications.\\n\\nPt',\n",
       " 'mellitus',\n",
       " 'metastatic',\n",
       " 'mid-sternum',\n",
       " 'mild',\n",
       " 'month',\n",
       " 'night',\n",
       " 'no',\n",
       " 'of',\n",
       " 'oliguric',\n",
       " 'on',\n",
       " 'or',\n",
       " 'orthopnea',\n",
       " 'out',\n",
       " 'overall',\n",
       " 'pain',\n",
       " 'patient',\n",
       " 'pneumonia.',\n",
       " 'po',\n",
       " 'possible',\n",
       " 'pressure',\n",
       " 'pt',\n",
       " 'pulmonary',\n",
       " 'qd\\nLipitor',\n",
       " 'qpm\\n\\nDischarge',\n",
       " 'recent',\n",
       " 'recently',\n",
       " 'renal',\n",
       " 'reporting',\n",
       " 'reports',\n",
       " 'room',\n",
       " 'sent',\n",
       " 'short',\n",
       " 'showed',\n",
       " 'significantly',\n",
       " 'so',\n",
       " 'stable\\n',\n",
       " 'starting',\n",
       " 'superimposed',\n",
       " 'symptoms',\n",
       " 'symptoms,',\n",
       " 'the',\n",
       " 'to',\n",
       " 'travel,',\n",
       " 'tumor,',\n",
       " 'two',\n",
       " 'type',\n",
       " 'up',\n",
       " 'usually',\n",
       " 'valve',\n",
       " 'ventricular',\n",
       " 'w/',\n",
       " 'walk',\n",
       " 'was',\n",
       " 'weeks',\n",
       " 'who',\n",
       " 'with',\n",
       " 'within',\n",
       " 'without',\n",
       " 'worse,',\n",
       " 'worsening',\n",
       " '~5'}"
      ]
     },
     "execution_count": 36,
     "metadata": {},
     "output_type": "execute_result"
    }
   ],
   "source": [
    "tokens = disch_summ.split(\" \")\n",
    "set(tokens)"
   ]
  },
  {
   "cell_type": "code",
   "execution_count": 37,
   "id": "9b9befc1",
   "metadata": {},
   "outputs": [
    {
     "data": {
      "text/plain": [
       "Counter({'\\nService:': 1,\n",
       "         'MEDICINE\\n\\nChief': 1,\n",
       "         'Complaint:\\n5': 1,\n",
       "         'days': 1,\n",
       "         'worsening': 2,\n",
       "         'SOB,': 2,\n",
       "         'DOE\\n': 1,\n",
       "         '\\nHistory': 1,\n",
       "         'of': 6,\n",
       "         'Present': 1,\n",
       "         'Illness:\\nPt': 1,\n",
       "         'is': 1,\n",
       "         'a': 2,\n",
       "         '63M': 1,\n",
       "         'w/': 1,\n",
       "         'h/o': 1,\n",
       "         'metastatic': 3,\n",
       "         'carcinoid': 3,\n",
       "         'tumor,': 3,\n",
       "         'HTN,': 1,\n",
       "         '\\nhyperlipidemia': 1,\n",
       "         'who': 1,\n",
       "         'reports': 4,\n",
       "         'increasing': 2,\n",
       "         'SOB': 1,\n",
       "         'and': 5,\n",
       "         'DOE': 1,\n",
       "         'starting': 1,\n",
       "         'about': 1,\n",
       "         '\\na': 1,\n",
       "         'month': 1,\n",
       "         'ago': 1,\n",
       "         'but': 2,\n",
       "         'significantly': 1,\n",
       "         'within': 1,\n",
       "         'the': 3,\n",
       "         'last': 2,\n",
       "         '5': 1,\n",
       "         'days.': 1,\n",
       "         '\\nIt': 1,\n",
       "         'has': 2,\n",
       "         'recently': 1,\n",
       "         'gotten': 1,\n",
       "         'so': 1,\n",
       "         'bad': 1,\n",
       "         'he': 4,\n",
       "         'can': 1,\n",
       "         'barely': 1,\n",
       "         'get': 1,\n",
       "         'up': 1,\n",
       "         'out': 1,\n",
       "         '\\nchair': 1,\n",
       "         'without': 1,\n",
       "         'getting': 1,\n",
       "         'short': 1,\n",
       "         'breath.': 1,\n",
       "         'He': 2,\n",
       "         'orthopnea': 1,\n",
       "         'no': 5,\n",
       "         'PND.': 1,\n",
       "         '\\n\\nHe': 1,\n",
       "         'fever': 1,\n",
       "         'or': 1,\n",
       "         'chills,': 1,\n",
       "         'URI': 1,\n",
       "         'symptoms,': 1,\n",
       "         'recent': 1,\n",
       "         'travel,': 1,\n",
       "         'changes': 1,\n",
       "         '\\nin': 1,\n",
       "         'his': 3,\n",
       "         'medications.\\n\\nPt': 1,\n",
       "         'also': 1,\n",
       "         '~5': 1,\n",
       "         'episodes': 1,\n",
       "         'chest': 1,\n",
       "         'pain': 1,\n",
       "         'in': 2,\n",
       "         'few': 1,\n",
       "         'weeks': 1,\n",
       "         '\\nwhich': 1,\n",
       "         'describes': 1,\n",
       "         'as': 1,\n",
       "         'pressure': 1,\n",
       "         'on': 3,\n",
       "         'mid-sternum': 1,\n",
       "         'usually': 1,\n",
       "         '\\noccurs': 1,\n",
       "         'during': 1,\n",
       "         'exertion.\\n': 1,\n",
       "         '\\nPast': 1,\n",
       "         'Medical': 1,\n",
       "         'History:\\n1.': 1,\n",
       "         \"Dx'ed\": 1,\n",
       "         '2002\\n2.': 1,\n",
       "         'hypertension\\n3.': 1,\n",
       "         'hyperlipidemia\\n4.': 1,\n",
       "         'carotid': 1,\n",
       "         'endarterectomy': 1,\n",
       "         '1999\\n5.': 1,\n",
       "         'depression/anxiety\\n': 1,\n",
       "         '\\nSocial': 1,\n",
       "         'History:\\nLives': 1,\n",
       "         'alone,': 1,\n",
       "         'two': 1,\n",
       "         'daughters\\n': 1,\n",
       "         '\\nFamily': 1,\n",
       "         'History:\\nearly': 1,\n",
       "         'CAD\\n\\nBrief': 1,\n",
       "         'Hospital': 1,\n",
       "         'Course:\\n1.': 1,\n",
       "         'SOB:': 1,\n",
       "         'likely': 1,\n",
       "         'from': 1,\n",
       "         'CHF\\nThe': 1,\n",
       "         'patient': 1,\n",
       "         'was': 4,\n",
       "         'initially': 1,\n",
       "         'diuresed': 1,\n",
       "         'for': 1,\n",
       "         'mild': 2,\n",
       "         'pulmonary': 1,\n",
       "         'edema:': 1,\n",
       "         '\\nreceived': 1,\n",
       "         '20': 1,\n",
       "         'IV': 1,\n",
       "         'Lasix': 1,\n",
       "         'night': 1,\n",
       "         'admission': 1,\n",
       "         '40mg': 1,\n",
       "         '[**9-10**],': 2,\n",
       "         'with': 6,\n",
       "         '\\ngood': 1,\n",
       "         'UOP.': 1,\n",
       "         'On': 1,\n",
       "         'pt': 1,\n",
       "         'reporting': 1,\n",
       "         'improvement': 1,\n",
       "         'symptoms': 1,\n",
       "         '\\nable': 1,\n",
       "         'to': 3,\n",
       "         'walk': 1,\n",
       "         'around': 1,\n",
       "         'room': 1,\n",
       "         '4L': 1,\n",
       "         'O2': 1,\n",
       "         'NC.': 1,\n",
       "         'The': 1,\n",
       "         'following': 1,\n",
       "         'day': 1,\n",
       "         '\\nreported': 1,\n",
       "         'feeling': 1,\n",
       "         'worse,': 1,\n",
       "         'found': 1,\n",
       "         '\\nnow': 1,\n",
       "         'be': 1,\n",
       "         'oliguric': 1,\n",
       "         'renal': 1,\n",
       "         'failure.': 1,\n",
       "         'CXR': 1,\n",
       "         '[**9-11**]': 1,\n",
       "         '8am': 1,\n",
       "         'showed': 2,\n",
       "         '\\natelectasis': 1,\n",
       "         'possible': 1,\n",
       "         'superimposed': 1,\n",
       "         'pneumonia.': 1,\n",
       "         'Emergent': 1,\n",
       "         'TTE': 1,\n",
       "         '\\nshowed': 1,\n",
       "         'decreased': 1,\n",
       "         'EF': 1,\n",
       "         '(30%),': 1,\n",
       "         'anteroapical': 1,\n",
       "         'infarct': 1,\n",
       "         '\\nmoderate-to-severe': 1,\n",
       "         'overall': 1,\n",
       "         'left': 1,\n",
       "         'ventricular': 1,\n",
       "         'contractile': 1,\n",
       "         '\\ndysfunction;': 1,\n",
       "         'bicusapid': 1,\n",
       "         'aortic': 2,\n",
       "         'valve': 1,\n",
       "         'at': 1,\n",
       "         'least': 1,\n",
       "         '\\nstenosis.': 1,\n",
       "         'sent': 1,\n",
       "         'MICU.\\n': 1,\n",
       "         '\\nMedications': 1,\n",
       "         'Admission:\\nASA': 1,\n",
       "         '81mg': 1,\n",
       "         'po': 2,\n",
       "         'qd\\nLipitor': 1,\n",
       "         '20mg': 1,\n",
       "         'qpm\\n\\nDischarge': 1,\n",
       "         'Disposition:\\nExtended': 1,\n",
       "         'Care\\nDischarge': 1,\n",
       "         'Diagnosis:\\nPrimary:': 1,\n",
       "         'congestive': 1,\n",
       "         'heart': 1,\n",
       "         'failure\\nSecondary:': 1,\n",
       "         'hypertension,': 1,\n",
       "         '\\nhyperlipidemia,': 1,\n",
       "         'diabetes': 1,\n",
       "         'mellitus': 1,\n",
       "         'type': 1,\n",
       "         '2,': 1,\n",
       "         'basal': 1,\n",
       "         'cell': 1,\n",
       "         'carcinoma\\n': 1,\n",
       "         '\\nDischarge': 1,\n",
       "         'Condition:\\ngood,': 1,\n",
       "         'stable\\n': 1})"
      ]
     },
     "execution_count": 37,
     "metadata": {},
     "output_type": "execute_result"
    }
   ],
   "source": [
    "from collections import Counter\n",
    "Counter(tokens)"
   ]
  },
  {
   "cell_type": "code",
   "execution_count": null,
   "id": "93ffc562",
   "metadata": {},
   "outputs": [],
   "source": []
  },
  {
   "cell_type": "markdown",
   "id": "5159c340",
   "metadata": {},
   "source": [
    "### 2.\n",
    "Clinical notes are often structured with different *sections* which describe different parts of a patient's care. You can often recognize a new section by a title followed by a new line:\n",
    "\n",
    "```\n",
    "History of Present Illness:\n",
    "The pt is a 63M w...\n",
    "```\n",
    "\n",
    "Each of the texts below come from different sections of a clinical note. Write a function called `get_section_name` which takes a text and returns the name of the section. The expected values are written as comments. Test it on the three strings below. Note that the character `\"\\n\"` indicates a new line."
   ]
  },
  {
   "cell_type": "code",
   "execution_count": 38,
   "id": "42a48884",
   "metadata": {},
   "outputs": [],
   "source": [
    "texts = [\n",
    "    \"Chief Complaint:\\n5 days worsening SOB, DOE\", # \"Chief Complaint\"\n",
    "    \"History of Present Illness:\\nPt is a 63M w/ h/o metastatic carcinoid tumor.\", # \"History of Present Illness\"\n",
    "    \"Social History:\\nLives alone with two daughters.\" # \"Social History\"\n",
    "]"
   ]
  },
  {
   "cell_type": "code",
   "execution_count": 39,
   "id": "28f03360",
   "metadata": {},
   "outputs": [],
   "source": [
    "def get_section_name(text):\n",
    "    return text.split(\":\\n\")[0]"
   ]
  },
  {
   "cell_type": "code",
   "execution_count": null,
   "id": "fd1bb52a",
   "metadata": {},
   "outputs": [],
   "source": []
  },
  {
   "cell_type": "code",
   "execution_count": 40,
   "id": "8606a091",
   "metadata": {},
   "outputs": [
    {
     "name": "stdout",
     "output_type": "stream",
     "text": [
      "That is correct!\n"
     ]
    }
   ],
   "source": [
    "# RUN CELL TO TEST FUNCTION\n",
    "test_get_section_name.test(get_section_name)"
   ]
  },
  {
   "cell_type": "code",
   "execution_count": null,
   "id": "ccb7b206",
   "metadata": {},
   "outputs": [],
   "source": []
  },
  {
   "cell_type": "markdown",
   "id": "d9cf156b",
   "metadata": {},
   "source": [
    "### 3.\n",
    "Write a function called `pneumonia_in_text` which checks if a string contains *\"pneumonia\"* or the abbreviation *\"pna\"* is in a string. Test it on the following strings:\n"
   ]
  },
  {
   "cell_type": "code",
   "execution_count": 41,
   "id": "7f63672c",
   "metadata": {},
   "outputs": [],
   "source": [
    "pna_strings = [\n",
    "    \"The patient has pneumonia.\",\n",
    "    \"INDICATION: EVALUATE FOR PNEUMONIA\",\n",
    "    \"Patient shows symptoms concerning for pna.\",\n",
    "    \"The chest image found no evidence of pna\",\n",
    "]"
   ]
  },
  {
   "cell_type": "code",
   "execution_count": 42,
   "id": "724b9ca1",
   "metadata": {},
   "outputs": [],
   "source": [
    "def pneumonia_in_text(text):\n",
    "    if \"pneumonia\" in text.lower() or \"pna\" in text.lower():\n",
    "        return True\n",
    "    return False"
   ]
  },
  {
   "cell_type": "code",
   "execution_count": null,
   "id": "00756500",
   "metadata": {},
   "outputs": [],
   "source": []
  },
  {
   "cell_type": "code",
   "execution_count": 43,
   "id": "67ef6fcb",
   "metadata": {},
   "outputs": [
    {
     "name": "stdout",
     "output_type": "stream",
     "text": [
      "That is correct!\n"
     ]
    }
   ],
   "source": [
    "# RUN CELL TO TEST FUNCTION\n",
    "test_pneumonia_in_text.test(pneumonia_in_text)"
   ]
  },
  {
   "cell_type": "code",
   "execution_count": 44,
   "id": "bcd53cef",
   "metadata": {},
   "outputs": [
    {
     "data": {
      "application/vnd.jupyter.widget-view+json": {
       "model_id": "5ee4d33792224018aaead92d0b4f92f7",
       "version_major": 2,
       "version_minor": 0
      },
      "text/plain": [
       "VBox(children=(HTML(value='If the function above returns True, that means the note indicates the patient has p…"
      ]
     },
     "metadata": {},
     "output_type": "display_data"
    },
    {
     "data": {
      "text/plain": []
     },
     "execution_count": 44,
     "metadata": {},
     "output_type": "execute_result"
    }
   ],
   "source": [
    "# RUN CELL TO SEE QUIZ\n",
    "quiz_mc_pneumonia_in_text"
   ]
  },
  {
   "cell_type": "code",
   "execution_count": null,
   "id": "4d8f63b5",
   "metadata": {},
   "outputs": [],
   "source": []
  },
  {
   "cell_type": "markdown",
   "id": "47d90edf",
   "metadata": {},
   "source": [
    "### 4.\n",
    "Edit the code below so that the function which generates a string which gives the patient's name, age, and chief complaint based on the argument values."
   ]
  },
  {
   "cell_type": "code",
   "execution_count": 45,
   "id": "8f29372b",
   "metadata": {},
   "outputs": [
    {
     "data": {
      "application/vnd.jupyter.widget-view+json": {
       "model_id": "8436a16633e3436c86541dbc0887c4dc",
       "version_major": 2,
       "version_minor": 0
      },
      "text/plain": [
       "VBox(children=(HTML(value='</br><strong>Displaying hint 0/1</strong>'), Output(), Button(description='Get hint…"
      ]
     },
     "metadata": {},
     "output_type": "display_data"
    },
    {
     "data": {
      "text/plain": []
     },
     "execution_count": 45,
     "metadata": {},
     "output_type": "execute_result"
    }
   ],
   "source": [
    "# RUN CELL TO SEE QUIZ\n",
    "hint_generate_chief_complaint"
   ]
  },
  {
   "cell_type": "code",
   "execution_count": 46,
   "id": "53a4ee52",
   "metadata": {},
   "outputs": [],
   "source": [
    "def generate_chief_complaint(name, age, chief_complaint):\n",
    "    text = \"Alec Chapman is a 29-year-old patient who presents today with a broken arm.\"\n",
    "    return text"
   ]
  },
  {
   "cell_type": "code",
   "execution_count": 47,
   "id": "d2cd59f4",
   "metadata": {},
   "outputs": [
    {
     "name": "stdout",
     "output_type": "stream",
     "text": [
      "Alec Chapman is a 29-year-old patient who presents today with a broken arm.\n",
      "Alec Chapman is a 29-year-old patient who presents today with a broken arm.\n",
      "Alec Chapman is a 29-year-old patient who presents today with a broken arm.\n"
     ]
    }
   ],
   "source": [
    "# Each line should print a different value\n",
    "print(generate_chief_complaint(\"Alec Chapman\", \"29\", \"a broken arm\"))\n",
    "print(generate_chief_complaint(\"John Doe\", \"41\", \"cough and fever.\"))\n",
    "print(generate_chief_complaint(\"Jane Doe\", \"61\", \"symptoms concerning for pneumonia.\"))"
   ]
  },
  {
   "cell_type": "code",
   "execution_count": 48,
   "id": "a83c9b28",
   "metadata": {},
   "outputs": [],
   "source": [
    "def generate_chief_complaint(name, age, chief_complaint):\n",
    "    text = f\"{name} is a {age}-year-old patient who presents today with {chief_complaint}.\"\n",
    "    return text"
   ]
  },
  {
   "cell_type": "code",
   "execution_count": 49,
   "id": "cc3663d1",
   "metadata": {},
   "outputs": [
    {
     "name": "stdout",
     "output_type": "stream",
     "text": [
      "Alec Chapman is a 29-year-old patient who presents today with a broken arm.\n",
      "John Doe is a 41-year-old patient who presents today with cough and fever.\n",
      "Jane Doe is a 61-year-old patient who presents today with symptoms concerning for pneumonia.\n"
     ]
    }
   ],
   "source": [
    "# Each line should print a different value\n",
    "print(generate_chief_complaint(\"Alec Chapman\", \"29\", \"a broken arm\"))\n",
    "print(generate_chief_complaint(\"John Doe\", \"41\", \"cough and fever\"))\n",
    "print(generate_chief_complaint(\"Jane Doe\", \"61\", \"symptoms concerning for pneumonia\"))"
   ]
  },
  {
   "cell_type": "code",
   "execution_count": null,
   "id": "84a0ea6d",
   "metadata": {},
   "outputs": [],
   "source": []
  }
 ],
 "metadata": {
  "kernelspec": {
   "display_name": "Python 3 (ipykernel)",
   "language": "python",
   "name": "python3"
  },
  "language_info": {
   "codemirror_mode": {
    "name": "ipython",
    "version": 3
   },
   "file_extension": ".py",
   "mimetype": "text/x-python",
   "name": "python",
   "nbconvert_exporter": "python",
   "pygments_lexer": "ipython3",
   "version": "3.9.12"
  }
 },
 "nbformat": 4,
 "nbformat_minor": 5
}
