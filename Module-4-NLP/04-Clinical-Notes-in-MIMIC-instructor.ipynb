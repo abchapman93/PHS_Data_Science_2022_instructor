{
 "cells": [
  {
   "cell_type": "markdown",
   "metadata": {},
   "source": [
    "<html>\n",
    "<table width=\"100%\" cellspacing=\"2\" cellpadding=\"2\" border=\"1\">\n",
    "<tbody>\n",
    "<tr>\n",
    "<td valign=\"center\" align=\"center\" width=\"45%\"><img src=\"../media/Univ-Utah.jpeg\"><br>\n",
    "</td>\n",
    "    <td valign=\"center\" align=\"center\" width=\"75%\">\n",
    "<h1 align=\"center\"><font size=\"+1\">University of Utah<br>Population Health Sciences<br>Data Science Workshop</font></h1></td>\n",
    "<td valign=\"center\" align=\"center\" width=\"45%\"><img\n",
    "src=\"../media/U_Health_stacked_png_red.png\" alt=\"Utah Health\n",
    "Logo\" width=\"128\" height=\"134\"><br>\n",
    "</td>\n",
    "</tr>\n",
    "</tbody>\n",
    "</table>\n",
    "<br>\n",
    "</html>"
   ]
  },
  {
   "cell_type": "code",
   "execution_count": 3,
   "metadata": {},
   "outputs": [],
   "source": [
    "import medspacy\n",
    "from IPython.display import Image"
   ]
  },
  {
   "cell_type": "code",
   "execution_count": 4,
   "metadata": {},
   "outputs": [],
   "source": [
    "from medspacy.visualization import visualize_dep, visualize_ent, MedspaCyVisualizerWidget"
   ]
  },
  {
   "cell_type": "code",
   "execution_count": 5,
   "metadata": {},
   "outputs": [],
   "source": [
    "from helpers import *\n",
    "import pandas as pd"
   ]
  },
  {
   "cell_type": "code",
   "execution_count": 6,
   "metadata": {},
   "outputs": [],
   "source": [
    "import warnings\n",
    "warnings.filterwarnings(\"ignore\") "
   ]
  },
  {
   "cell_type": "code",
   "execution_count": 7,
   "metadata": {},
   "outputs": [
    {
     "name": "stdout",
     "output_type": "stream",
     "text": [
      "Enter password for MIMIC2 database········\n"
     ]
    }
   ],
   "source": [
    "conn = connect_to_mimic()"
   ]
  },
  {
   "cell_type": "markdown",
   "metadata": {},
   "source": [
    "# Clinical notes in MIMIC\n",
    "\n",
    "The reason that we can use MIMIC-II for education and research is that the data is **deidentified**, meaning any references to patient identifiers (like names, dates, SSNs) have been removed. Deidentification is especially important for clinical notes which refer to patients by name and discuss details of their lives and care. MIMIC-II contains a set of clinical notes which have been deidentified. In this notebook, we'll query some of these notes and get a sense of what real clinical text looks like.\n",
    "\n",
    "## `noteevents`\n",
    "\n",
    "In MIMIC, clinical notes are stored in the `noteevents` table. Let's select the first 10 rows.\n",
    "\n",
    "### TODO\n",
    "Query the first 10 rows of `noteevents` and save to `df`."
   ]
  },
  {
   "cell_type": "code",
   "execution_count": 8,
   "metadata": {},
   "outputs": [],
   "source": [
    "query = \"\"\"\n",
    "SELECT *\n",
    "FROM noteevents\n",
    "LIMIT 10;\n",
    "\"\"\"\n",
    "df = pd.read_sql(query, conn)"
   ]
  },
  {
   "cell_type": "code",
   "execution_count": 9,
   "metadata": {},
   "outputs": [],
   "source": [
    "# # ...\n",
    "# df = # ..."
   ]
  },
  {
   "cell_type": "code",
   "execution_count": 10,
   "metadata": {},
   "outputs": [
    {
     "data": {
      "text/html": [
       "<div>\n",
       "<style scoped>\n",
       "    .dataframe tbody tr th:only-of-type {\n",
       "        vertical-align: middle;\n",
       "    }\n",
       "\n",
       "    .dataframe tbody tr th {\n",
       "        vertical-align: top;\n",
       "    }\n",
       "\n",
       "    .dataframe thead th {\n",
       "        text-align: right;\n",
       "    }\n",
       "</style>\n",
       "<table border=\"1\" class=\"dataframe\">\n",
       "  <thead>\n",
       "    <tr style=\"text-align: right;\">\n",
       "      <th></th>\n",
       "      <th>subject_id</th>\n",
       "      <th>hadm_id</th>\n",
       "      <th>icustay_id</th>\n",
       "      <th>elemid</th>\n",
       "      <th>charttime</th>\n",
       "      <th>realtime</th>\n",
       "      <th>cgid</th>\n",
       "      <th>correction</th>\n",
       "      <th>cuid</th>\n",
       "      <th>category</th>\n",
       "      <th>title</th>\n",
       "      <th>text</th>\n",
       "      <th>exam_name</th>\n",
       "      <th>patient_info</th>\n",
       "    </tr>\n",
       "  </thead>\n",
       "  <tbody>\n",
       "    <tr>\n",
       "      <th>0</th>\n",
       "      <td>56</td>\n",
       "      <td>28766</td>\n",
       "      <td>NaN</td>\n",
       "      <td>NaN</td>\n",
       "      <td>2644-01-17 00:00:00</td>\n",
       "      <td>None</td>\n",
       "      <td>NaN</td>\n",
       "      <td>None</td>\n",
       "      <td>NaN</td>\n",
       "      <td>DISCHARGE_SUMMARY</td>\n",
       "      <td>None</td>\n",
       "      <td>\\n \\n \\n \\nAdmission Date:  [**2644-1-17**]   ...</td>\n",
       "      <td>None</td>\n",
       "      <td>None</td>\n",
       "    </tr>\n",
       "    <tr>\n",
       "      <th>1</th>\n",
       "      <td>56</td>\n",
       "      <td>28766</td>\n",
       "      <td>NaN</td>\n",
       "      <td>NaN</td>\n",
       "      <td>2644-01-17 00:00:00</td>\n",
       "      <td>None</td>\n",
       "      <td>NaN</td>\n",
       "      <td>None</td>\n",
       "      <td>NaN</td>\n",
       "      <td>RADIOLOGY_REPORT</td>\n",
       "      <td>None</td>\n",
       "      <td>\\n\\n\\n     DATE: [**2644-1-17**] 10:53 AM\\n   ...</td>\n",
       "      <td>None</td>\n",
       "      <td>None</td>\n",
       "    </tr>\n",
       "    <tr>\n",
       "      <th>2</th>\n",
       "      <td>56</td>\n",
       "      <td>28766</td>\n",
       "      <td>NaN</td>\n",
       "      <td>NaN</td>\n",
       "      <td>2644-01-17 00:00:00</td>\n",
       "      <td>None</td>\n",
       "      <td>NaN</td>\n",
       "      <td>None</td>\n",
       "      <td>NaN</td>\n",
       "      <td>RADIOLOGY_REPORT</td>\n",
       "      <td>None</td>\n",
       "      <td>\\n\\n\\n     DATE: [**2644-1-17**] 10:53 AM\\n   ...</td>\n",
       "      <td>None</td>\n",
       "      <td>None</td>\n",
       "    </tr>\n",
       "    <tr>\n",
       "      <th>3</th>\n",
       "      <td>56</td>\n",
       "      <td>28766</td>\n",
       "      <td>NaN</td>\n",
       "      <td>NaN</td>\n",
       "      <td>2644-01-17 00:00:00</td>\n",
       "      <td>None</td>\n",
       "      <td>NaN</td>\n",
       "      <td>None</td>\n",
       "      <td>NaN</td>\n",
       "      <td>RADIOLOGY_REPORT</td>\n",
       "      <td>None</td>\n",
       "      <td>\\n\\n\\n     DATE: [**2644-1-17**] 10:43 AM\\n   ...</td>\n",
       "      <td>None</td>\n",
       "      <td>None</td>\n",
       "    </tr>\n",
       "    <tr>\n",
       "      <th>4</th>\n",
       "      <td>56</td>\n",
       "      <td>28766</td>\n",
       "      <td>NaN</td>\n",
       "      <td>NaN</td>\n",
       "      <td>2644-01-17 00:00:00</td>\n",
       "      <td>None</td>\n",
       "      <td>NaN</td>\n",
       "      <td>None</td>\n",
       "      <td>NaN</td>\n",
       "      <td>RADIOLOGY_REPORT</td>\n",
       "      <td>None</td>\n",
       "      <td>\\n\\n\\n     DATE: [**2644-1-17**] 6:37 AM\\n    ...</td>\n",
       "      <td>None</td>\n",
       "      <td>None</td>\n",
       "    </tr>\n",
       "  </tbody>\n",
       "</table>\n",
       "</div>"
      ],
      "text/plain": [
       "   subject_id  hadm_id  icustay_id  elemid            charttime realtime  \\\n",
       "0          56    28766         NaN     NaN  2644-01-17 00:00:00     None   \n",
       "1          56    28766         NaN     NaN  2644-01-17 00:00:00     None   \n",
       "2          56    28766         NaN     NaN  2644-01-17 00:00:00     None   \n",
       "3          56    28766         NaN     NaN  2644-01-17 00:00:00     None   \n",
       "4          56    28766         NaN     NaN  2644-01-17 00:00:00     None   \n",
       "\n",
       "   cgid correction  cuid           category title  \\\n",
       "0   NaN       None   NaN  DISCHARGE_SUMMARY  None   \n",
       "1   NaN       None   NaN   RADIOLOGY_REPORT  None   \n",
       "2   NaN       None   NaN   RADIOLOGY_REPORT  None   \n",
       "3   NaN       None   NaN   RADIOLOGY_REPORT  None   \n",
       "4   NaN       None   NaN   RADIOLOGY_REPORT  None   \n",
       "\n",
       "                                                text exam_name patient_info  \n",
       "0  \\n \\n \\n \\nAdmission Date:  [**2644-1-17**]   ...      None         None  \n",
       "1  \\n\\n\\n     DATE: [**2644-1-17**] 10:53 AM\\n   ...      None         None  \n",
       "2  \\n\\n\\n     DATE: [**2644-1-17**] 10:53 AM\\n   ...      None         None  \n",
       "3  \\n\\n\\n     DATE: [**2644-1-17**] 10:43 AM\\n   ...      None         None  \n",
       "4  \\n\\n\\n     DATE: [**2644-1-17**] 6:37 AM\\n    ...      None         None  "
      ]
     },
     "execution_count": 10,
     "metadata": {},
     "output_type": "execute_result"
    }
   ],
   "source": [
    "df.head()"
   ]
  },
  {
   "cell_type": "markdown",
   "metadata": {},
   "source": [
    "In addition to the identifier columns like `subject_id` and `hadm_id` that we've been working with throughout this workshop, two important new columns are:\n",
    "- `category`: The type of note \n",
    "- `text`: The raw text of the note\n",
    "\n",
    "Let's explore what types of notes are stored in MIMIC.\n",
    "\n",
    "#### TODO\n",
    "Write and execute a SQL query to answer the quiz below."
   ]
  },
  {
   "cell_type": "code",
   "execution_count": 15,
   "metadata": {},
   "outputs": [],
   "source": [
    "quiz_note_categories = SelectMultipleQuiz(\"Which of the following note types are stored in MIMIC?.\",\n",
    "                                         answer=['DISCHARGE_SUMMARY', 'MD Notes', 'Nursing/Other', 'RADIOLOGY_REPORT'],\n",
    "                                         options=['DISCHARGE_SUMMARY', \"EMERGENCY_NOTE\", 'MD Notes', 'Nursing/Other', \"PROGRESS_NOTE\", 'RADIOLOGY_REPORT']\n",
    "                                         )\n"
   ]
  },
  {
   "cell_type": "code",
   "execution_count": 16,
   "metadata": {},
   "outputs": [
    {
     "data": {
      "application/vnd.jupyter.widget-view+json": {
       "model_id": "7944d4ffc9524d879988cfbf943b00bb",
       "version_major": 2,
       "version_minor": 0
      },
      "text/plain": [
       "VBox(children=(HTML(value='Which of the following note types are stored in MIMIC?.'), SelectMultiple(options=(…"
      ]
     },
     "metadata": {},
     "output_type": "display_data"
    },
    {
     "data": {
      "text/plain": []
     },
     "execution_count": 16,
     "metadata": {},
     "output_type": "execute_result"
    }
   ],
   "source": [
    "# RUN CELL TO SEE QUIZ\n",
    "quiz_note_categories"
   ]
  },
  {
   "cell_type": "code",
   "execution_count": 17,
   "metadata": {},
   "outputs": [
    {
     "data": {
      "text/plain": [
       "0    DISCHARGE_SUMMARY\n",
       "1             MD Notes\n",
       "2        Nursing/Other\n",
       "3     RADIOLOGY_REPORT\n",
       "Name: category, dtype: object"
      ]
     },
     "execution_count": 17,
     "metadata": {},
     "output_type": "execute_result"
    }
   ],
   "source": [
    "query = \"\"\"\n",
    "SELECT category, COUNT(1)\n",
    "FROM noteevents\n",
    "GROUP BY category\n",
    "\"\"\"\n",
    "pd.read_sql(query, conn)[\"category\"].sort_values()"
   ]
  },
  {
   "cell_type": "markdown",
   "metadata": {},
   "source": [
    "In this notebook, we'll focus on two note types: **discharge summaries** and **radiology reports**."
   ]
  },
  {
   "cell_type": "markdown",
   "metadata": {},
   "source": [
    "## Discharge summaries\n",
    "A discharge summary is written at the end of a hospitalization and provides a detailed summary of the most important events of the hospitalization. Among other things, a discharge summary will typically contain:\n",
    "- A brief histroy of the patient and what brought them to the hospital\n",
    "- Results of labs, imaging, and other procedures\n",
    "- A description of the course of care since being admitted\n",
    "- Plans for future care and patient instructions\n",
    "\n",
    "Let's take a look at the discharge summary for a particular hospitalization.\n",
    "\n",
    "#### TODO\n",
    "Edit the query below to pull the discharge summary for hospital admission with id `28766`."
   ]
  },
  {
   "cell_type": "code",
   "execution_count": 53,
   "metadata": {},
   "outputs": [],
   "source": [
    "query = \"\"\"\n",
    "SELECT text\n",
    "FROM noteevents\n",
    "WHERE hadm_id = 28766\n",
    "    AND category = 'DISCHARGE_SUMMARY'\n",
    "LIMIT 1\n",
    "\"\"\"\n",
    "disch_summ = pd.read_sql(query, conn)[\"text\"].iloc[0]"
   ]
  },
  {
   "cell_type": "code",
   "execution_count": 54,
   "metadata": {},
   "outputs": [
    {
     "name": "stdout",
     "output_type": "stream",
     "text": [
      "\n",
      " \n",
      " \n",
      " \n",
      "Admission Date:  [**2644-1-17**]              Discharge Date:   [**2644-1-23**]\n",
      " \n",
      "Date of Birth:  [**2553-5-26**]             Sex:   F\n",
      " \n",
      "Service: MEDICINE\n",
      " \n",
      "Allergies: \n",
      "Patient recorded as having No Known Allergies to Drugs\n",
      " \n",
      "Attending:[**First Name3 (LF) 2775**] \n",
      "Chief Complaint:\n",
      "fall\n",
      " \n",
      "Major Surgical or Invasive Procedure:\n",
      "n/a\n",
      "\n",
      " \n",
      "History of Present Illness:\n",
      "NF admit seen and appreciated.  Briefly this is a [**Age over 90 **] yo f w/ h/o \n",
      "lung ca w/ metastasis to brain on XRT, s/p fall at NH on Sun \n",
      "eve. No LOC.  [**1-24**] lethargy, n/v,L arm weakness, sent to [**Hospital1 **] \n",
      "[**Location (un) 579**] where she was noted to havv 3x3cm R posterior parietal \n",
      "bleed.  Tx to NSICU, started on dilantin (load) and decadron.  \n",
      "Deemed not a surgical candidate -> DNR/DNI.\n",
      "Noted to be guiac pos, +hct drop, coffee grounds on NGL.  GI \n",
      "recommended transfusing to maintain hct.\n",
      " \n",
      "Past Medical History:\n",
      "Lung ca w/ mets to brain\n",
      "high cholesterol\n",
      "HTN\n",
      "CAD\n",
      "Lopresser 25mg tid\n",
      " \n",
      "Social History:\n",
      "lives at [**Location **], at baseline walks w/ walker.\n",
      "speaks italian, some english\n",
      "\n",
      " \n",
      "Physical Exam:\n",
      "t 98.6, bp 120/68, p 88, r 20 97% ra\n",
      "Elderly female, lying in bed, foam from mouth, responsive to \n",
      "voice, can squeeze R hand.  \n",
      "R pupil 4mm, no reactive, L pupil reactive.\n",
      "No cervical/sm/sc LA\n",
      "Regular s1,s2. no m/r/g\n",
      "LCA anteriorly.\n",
      " \n",
      "Pertinent Results:\n",
      "cbc:\n",
      "8.9  8.6  229 \n",
      "    27.1  \n",
      "\n",
      "electrolytes:\n",
      "[**2644-1-17**] 04:51PM   SODIUM-137\n",
      "[**2644-1-17**] 04:51PM   ALBUMIN-3.2*\n",
      "[**2644-1-17**] 09:45AM   SODIUM-131* POTASSIUM-4.1 CHLORIDE-95* TOTAL \n",
      "CO2-30* ANION GAP-10\n",
      "[**2644-1-17**] 03:57AM   CALCIUM-8.6 PHOSPHATE-3.9 MAGNESIUM-1.8\n",
      "[**2644-1-17**] 03:57AM   PHENYTOIN-10.2\n",
      "\n",
      "MRI:On diffusion-weighted images there is a small area of \n",
      "restricted diffusion along the falx within the left \n",
      "occipitotemporal lobe. It is also bright on FLAIR-weighted \n",
      "images and may represent a subacute infarct. Clinical \n",
      "correlation is recommended. On gradient echo images there is a \n",
      "large area of intraparenchymal hemorrhage within the right \n",
      "parietal lobe and left thalamus which following administration \n",
      "of gadolinium reveals ring-enhancing lesions. These are \n",
      "suspicious for hemorrhagic metastases given the patient's \n",
      "history. Additional ring-enhancing lesions throughout the supra- \n",
      "and infratentorial compartments are visualized. There is a \n",
      "moderate amount of peritumoral edema involving the right \n",
      "parietal lobe lesion in addition to a second right parietal \n",
      "lesion along the falx high in the vertex. The other areas of \n",
      "metastases reveal a minimal amount of peritumoral edema.\n",
      ".\n",
      "cxr: Cardiomegaly and mild CHF. Nasogastric tube as described \n",
      "above. Rounded opacity overlying the left hilum, which probably \n",
      "representing aspiration pneumonia; however, left hilar mass \n",
      "cannot be totally excluded. Please confirm resolution by \n",
      "repeated chest x-ray after treatment, and if the lesion \n",
      "persists, please evaluate by CT scan.\n",
      ". \n",
      "ct: Stable appearance of right parietal lobe and left thalamic \n",
      "hemorrhages, which are concerning for hemorrhagic metastasis in \n",
      "this patient with known metastatic lung carcinoma to the brain.\n",
      "\n",
      " \n",
      "Brief Hospital Course:\n",
      "[**Age over 90 **] yo f s/p INH in R parietal region, evidence of UGIB, \n",
      "transferred to medicine, w/ pupillary assymmetry but no evidence \n",
      "of neglect, responding to commands.\n",
      ".\n",
      "1) altered MS- likely bleed into metastatic lesion, although \n",
      "unclear based on location of known lesions, vs component of \n",
      "fall.  as per NS, not a surgical candidate.  seems unlikely that \n",
      "pt will have dramatic cliical improvement given significant \n",
      "edema, mass lesions, and no NS intervention.\n",
      "-palliative XRT? family mtg tonite to discuss utility. \n",
      "-cont dilantin px, particularly since pt has ? of witnessed sz \n",
      "event.\n",
      "-cont high dose decadron, q6h w/ fs.\n",
      "-will clarify \n",
      ".\n",
      "2) GIB- drop in hct during admission and + NGL.  GI input \n",
      "appreciated felt likely [**1-24**] stress ulceration.  Enteral \n",
      "nutrition and PPI (usually oral) have been shown to reduce the \n",
      "risk of ongoing bleeding. \n",
      "-start TF's 10cc/h until nutrition recs\n",
      "-IV protonix (given recent h/o GIB)\n",
      ".\n",
      "3) CAD/CHF- previously some CHF on CXR.  oxygenating well.  \n",
      "euvolemic on exam despite significant anasarca of hands/feet- \n",
      "minimal swelling of tibial surfaces so partially related to \n",
      "restraints.   \n",
      "-cont lopresser\n",
      "-d/c lipitor, rx for hepatic dz.\n",
      ".\n",
      "4) fen- ivf, tf's\n",
      ".\n",
      "5) ppx- ppi, pneumoboots\n",
      ".\n",
      "6) code- dnr/dni\n",
      "\n",
      "On [**2644-1-19**] a family meeting was held with Oncology, Social Work, \n",
      "Palliative Care Consult and primary medical team. At that time \n",
      "the family decided to place comfort as the main goal of her \n",
      "medical care. Her status was changed to \"CMO\".\n",
      " \n",
      "Medications on Admission:\n",
      "-lipitor 20\n",
      "-protonix\n",
      "-lopressor 25 tid\n",
      "\n",
      " \n",
      "Discharge Medications:\n",
      "Morphine Elixir\n",
      "Scopolamine Patch\n",
      "Ativan\n",
      " \n",
      "Discharge Disposition:\n",
      "Extended Care\n",
      " \n",
      "Facility:\n",
      "Wayside\n",
      " \n",
      "Discharge Diagnosis:\n",
      "Metastatic Lung Cancer\n",
      "Intracerbral Hemmorhage\n",
      "GI Bleed\n",
      "\n",
      " \n",
      "Discharge Condition:\n",
      "critical\n",
      "\n",
      " \n",
      "Discharge Instructions:\n",
      "Please keep patitent comfortable\n",
      "No blood draws, tubes or restraints\n",
      " \n",
      "Followup Instructions:\n",
      "n/a\n",
      "\n",
      " \n",
      "                             [**First Name11 (Name Pattern1) 335**] [**Last Name (NamePattern4) 336**] MD [**MD Number 2782**]\n",
      " \n",
      "Completed by: [**First Name11 (Name Pattern1) **] [**Last Name (NamePattern4) 4690**] MD [**MD Number 4691**] [**2644-1-22**] @ 1420\n",
      "Signed electronically by: DR. [**First Name8 (NamePattern2) 335**] [**Doctor Last Name **]\n",
      " on: MON [**2644-3-18**] 11:34 AM\n",
      "(End of Report)\n",
      "\n",
      "\n",
      "\n"
     ]
    }
   ],
   "source": [
    "print(disch_summ)"
   ]
  },
  {
   "cell_type": "markdown",
   "metadata": {},
   "source": [
    "Read the note above. Does it look similar to the discharge summary we looked at earlier today? How is the note structured?\n",
    "\n",
    "To help understand the contents of a discharge summary, we should better understand its structure.\n",
    "\n",
    "### Clinical note sections\n",
    "Clinical notes are typically broken up into different sections, with each section containing information about a different patient's course of care. Referring back to our list of what is typically in a discharge summary, here's how that information might be structured in the note:\n",
    "\n",
    "1. History of Present Illness/Past Medical History/Family History\n",
    "2. Pertinent Results/Procedures/Imaging\n",
    "3. Hospital Course\n",
    "4. Final Diagnosis/Discharge Medications/Discharge Instructions\n",
    "\n",
    "Let's see how medspaCy handles sections and use that to help us read the note.\n",
    "\n",
    "### `Sectionizer`\n",
    "The `Sectionizer` component identifies section headers in the text and uses that to split up a note. The sectionizer isn't loaded by default, but we can add it to our pipeline using the `nlp.add_pipe` method.\n",
    "\n",
    "Let's load the NLP pipeline we used in the previous notebook and add a sectionizer."
   ]
  },
  {
   "cell_type": "code",
   "execution_count": 55,
   "metadata": {},
   "outputs": [
    {
     "name": "stdout",
     "output_type": "stream",
     "text": [
      "['medspacy_pyrush', 'medspacy_target_matcher', 'medspacy_context']\n"
     ]
    }
   ],
   "source": [
    "nlp = build_nlp_context()\n",
    "print(nlp.pipe_names)"
   ]
  },
  {
   "cell_type": "code",
   "execution_count": 56,
   "metadata": {},
   "outputs": [],
   "source": [
    "sectionizer = nlp.add_pipe(\"medspacy_sectionizer\")"
   ]
  },
  {
   "cell_type": "markdown",
   "metadata": {},
   "source": [
    "Now when we process a doc we can see the section headers highlighted in gray:"
   ]
  },
  {
   "cell_type": "code",
   "execution_count": 57,
   "metadata": {},
   "outputs": [],
   "source": [
    "doc = nlp(disch_summ)"
   ]
  },
  {
   "cell_type": "code",
   "execution_count": 58,
   "metadata": {},
   "outputs": [
    {
     "data": {
      "text/html": [
       "<span class=\"tex2jax_ignore\"><div class=\"entities\" style=\"line-height: 2.5; direction: ltr\"></br> </br> </br> </br>Admission Date:  [**2644-1-17**]              Discharge Date:   [**2644-1-23**]</br> </br>Date of Birth:  [**2553-5-26**]             Sex:   F</br> </br>\n",
       "<mark class=\"entity\" style=\"background: #dee0e3; padding: 0.45em 0.6em; margin: 0 0.25em; line-height: 1; border-radius: 0.35em;\">\n",
       "    Service:\n",
       "    <span style=\"font-size: 0.8em; font-weight: bold; line-height: 1; border-radius: 0.35em; vertical-align: middle; margin-left: 0.5rem\"><< OTHER >></span>\n",
       "</mark>\n",
       " MEDICINE</br> </br>\n",
       "<mark class=\"entity\" style=\"background: #dee0e3; padding: 0.45em 0.6em; margin: 0 0.25em; line-height: 1; border-radius: 0.35em;\">\n",
       "    Allergies:\n",
       "    <span style=\"font-size: 0.8em; font-weight: bold; line-height: 1; border-radius: 0.35em; vertical-align: middle; margin-left: 0.5rem\"><< ALLERGIES >></span>\n",
       "</mark>\n",
       " </br>Patient recorded as having No Known \n",
       "<mark class=\"entity\" style=\"background: #dee0e3; padding: 0.45em 0.6em; margin: 0 0.25em; line-height: 1; border-radius: 0.35em;\">\n",
       "    Allergies\n",
       "    <span style=\"font-size: 0.8em; font-weight: bold; line-height: 1; border-radius: 0.35em; vertical-align: middle; margin-left: 0.5rem\"><< ALLERGIES >></span>\n",
       "</mark>\n",
       " to Drugs</br> </br>Attending:[**First Name3 (LF) 2775**] </br>\n",
       "<mark class=\"entity\" style=\"background: #dee0e3; padding: 0.45em 0.6em; margin: 0 0.25em; line-height: 1; border-radius: 0.35em;\">\n",
       "    Chief Complaint:\n",
       "    <span style=\"font-size: 0.8em; font-weight: bold; line-height: 1; border-radius: 0.35em; vertical-align: middle; margin-left: 0.5rem\"><< CHIEF_COMPLAINT >></span>\n",
       "</mark>\n",
       "</br>fall</br> </br>Major Surgical or Invasive Procedure:</br>n/a</br></br> </br>\n",
       "<mark class=\"entity\" style=\"background: #dee0e3; padding: 0.45em 0.6em; margin: 0 0.25em; line-height: 1; border-radius: 0.35em;\">\n",
       "    History of Present Illness:\n",
       "    <span style=\"font-size: 0.8em; font-weight: bold; line-height: 1; border-radius: 0.35em; vertical-align: middle; margin-left: 0.5rem\"><< HISTORY_OF_PRESENT_ILLNESS >></span>\n",
       "</mark>\n",
       "</br>NF admit seen and appreciated.  Briefly this is a [**Age over 90 **] yo f w/ h/o </br>lung ca w/ metastasis to brain on XRT, s/p fall at NH on Sun </br>eve. No LOC.  [**1-24**] lethargy, n/v,L arm weakness, sent to [**Hospital1 **] </br>[**Location (un) 579**] where she was noted to havv 3x3cm R posterior parietal </br>bleed.  Tx to NSICU, started on dilantin (load) and decadron.  </br>Deemed not a surgical candidate -&gt; DNR/DNI.</br>Noted to be guiac pos, +hct drop, coffee grounds on NGL.  GI </br>recommended transfusing to maintain hct.</br> </br>\n",
       "<mark class=\"entity\" style=\"background: #dee0e3; padding: 0.45em 0.6em; margin: 0 0.25em; line-height: 1; border-radius: 0.35em;\">\n",
       "    Past Medical History:\n",
       "    <span style=\"font-size: 0.8em; font-weight: bold; line-height: 1; border-radius: 0.35em; vertical-align: middle; margin-left: 0.5rem\"><< PAST_MEDICAL_HISTORY >></span>\n",
       "</mark>\n",
       "</br>Lung ca w/ mets to brain</br>high cholesterol</br>HTN</br>CAD</br>Lopresser 25mg tid</br> </br>\n",
       "<mark class=\"entity\" style=\"background: #dee0e3; padding: 0.45em 0.6em; margin: 0 0.25em; line-height: 1; border-radius: 0.35em;\">\n",
       "    Social History:\n",
       "    <span style=\"font-size: 0.8em; font-weight: bold; line-height: 1; border-radius: 0.35em; vertical-align: middle; margin-left: 0.5rem\"><< SOCIAL_HISTORY >></span>\n",
       "</mark>\n",
       "</br>lives at [**Location **], at baseline walks w/ walker.</br>speaks italian, some english</br></br> </br>\n",
       "<mark class=\"entity\" style=\"background: #dee0e3; padding: 0.45em 0.6em; margin: 0 0.25em; line-height: 1; border-radius: 0.35em;\">\n",
       "    Physical Exam:\n",
       "    <span style=\"font-size: 0.8em; font-weight: bold; line-height: 1; border-radius: 0.35em; vertical-align: middle; margin-left: 0.5rem\"><< PHYSICAL_EXAM >></span>\n",
       "</mark>\n",
       "</br>t 98.6, bp 120/68, p 88, r 20 97% ra</br>Elderly female, lying in bed, foam from mouth, responsive to </br>voice, can squeeze R hand.  </br>R pupil 4mm, no reactive, L pupil reactive.</br>No cervical/sm/sc LA</br>Regular s1,s2. no m/r/g</br>LCA anteriorly.</br> </br>\n",
       "<mark class=\"entity\" style=\"background: #dee0e3; padding: 0.45em 0.6em; margin: 0 0.25em; line-height: 1; border-radius: 0.35em;\">\n",
       "    Pertinent Results:\n",
       "    <span style=\"font-size: 0.8em; font-weight: bold; line-height: 1; border-radius: 0.35em; vertical-align: middle; margin-left: 0.5rem\"><< LABS_AND_STUDIES >></span>\n",
       "</mark>\n",
       "</br>cbc:</br>8.9  8.6  229 </br>    27.1  </br></br>electrolytes:</br>[**2644-1-17**] 04:51PM   SODIUM-137</br>[**2644-1-17**] 04:51PM   ALBUMIN-3.2*</br>[**2644-1-17**] 09:45AM   SODIUM-131* POTASSIUM-4.1 CHLORIDE-95* TOTAL </br>CO2-30* ANION GAP-10</br>[**2644-1-17**] 03:57AM   CALCIUM-8.6 PHOSPHATE-3.9 MAGNESIUM-1.8</br>[**2644-1-17**] 03:57AM   PHENYTOIN-10.2</br></br>\n",
       "<mark class=\"entity\" style=\"background: #dee0e3; padding: 0.45em 0.6em; margin: 0 0.25em; line-height: 1; border-radius: 0.35em;\">\n",
       "    MRI:\n",
       "    <span style=\"font-size: 0.8em; font-weight: bold; line-height: 1; border-radius: 0.35em; vertical-align: middle; margin-left: 0.5rem\"><< IMAGING >></span>\n",
       "</mark>\n",
       "On diffusion-weighted images there is a small area of </br>restricted diffusion along the falx within the left </br>occipitotemporal lobe. It is also bright on FLAIR-weighted </br>images and may represent a subacute infarct. Clinical </br>correlation is recommended. On gradient echo images there is a </br>large area of intraparenchymal hemorrhage within the right </br>parietal lobe and left thalamus which following administration </br>of gadolinium reveals ring-enhancing lesions. These are </br>suspicious for hemorrhagic metastases given the patient's </br>history. Additional ring-enhancing lesions throughout the supra- </br>and infratentorial compartments are visualized. There is a </br>moderate amount of peritumoral edema involving the right </br>parietal lobe lesion in addition to a second right parietal </br>lesion along the falx high in the vertex. The other areas of </br>metastases reveal a minimal amount of peritumoral edema.</br>.</br>cxr: Cardiomegaly and mild CHF. Nasogastric tube as described </br>above. Rounded opacity overlying the left hilum, which \n",
       "<mark class=\"entity\" style=\"background: #ff7f0e; padding: 0.45em 0.6em; margin: 0 0.25em; line-height: 1; border-radius: 0.35em;\">\n",
       "    probably\n",
       "    <span style=\"font-size: 0.8em; font-weight: bold; line-height: 1; border-radius: 0.35em; vertical-align: middle; margin-left: 0.5rem\">POSSIBLE_EXISTENCE</span>\n",
       "</mark>\n",
       " </br>representing aspiration \n",
       "<mark class=\"entity\" style=\"background: #1f77b4; padding: 0.45em 0.6em; margin: 0 0.25em; line-height: 1; border-radius: 0.35em;\">\n",
       "    pneumonia\n",
       "    <span style=\"font-size: 0.8em; font-weight: bold; line-height: 1; border-radius: 0.35em; vertical-align: middle; margin-left: 0.5rem\">DIAGNOSIS</span>\n",
       "</mark>\n",
       "; however, left hilar mass </br>cannot be totally excluded. Please confirm resolution by </br>repeated chest x-ray after treatment, and if the lesion </br>persists, please evaluate by CT scan.</br>. </br>ct: Stable appearance of right parietal lobe and left thalamic </br>hemorrhages, which are concerning for hemorrhagic metastasis in </br>this patient with known metastatic lung carcinoma to the brain.</br></br> </br>\n",
       "<mark class=\"entity\" style=\"background: #dee0e3; padding: 0.45em 0.6em; margin: 0 0.25em; line-height: 1; border-radius: 0.35em;\">\n",
       "    Brief Hospital Course:\n",
       "    <span style=\"font-size: 0.8em; font-weight: bold; line-height: 1; border-radius: 0.35em; vertical-align: middle; margin-left: 0.5rem\"><< HOSPITAL_COURSE >></span>\n",
       "</mark>\n",
       "</br>[**Age over 90 **] yo f s/p INH in R parietal region, evidence of UGIB, </br>transferred to medicine, w/ pupillary assymmetry but no evidence </br>of neglect, responding to commands.</br>.</br>1) altered MS- likely bleed into metastatic lesion, although </br>unclear based on location of known lesions, vs component of </br>fall.  as per NS, not a surgical candidate.  seems unlikely that </br>pt will have dramatic cliical improvement given significant </br>edema, mass lesions, and no NS intervention.</br>-palliative XRT? family mtg tonite to discuss utility. </br>-cont dilantin px, particularly since pt has ? of witnessed sz </br>event.</br>-cont high dose decadron, q6h w/ fs.</br>-will clarify </br>.</br>2) GIB- drop in hct during admission and + NGL.  GI input </br>appreciated felt likely [**1-24**] stress ulceration.  Enteral </br>nutrition and PPI (usually oral) have been shown to reduce the </br>risk of ongoing bleeding. </br>-start TF's 10cc/h until nutrition recs</br>-IV protonix (given recent h/o GIB)</br>.</br>3) CAD/CHF- previously some CHF on CXR.  oxygenating well.  </br>euvolemic on exam despite significant anasarca of hands/feet- </br>minimal swelling of tibial surfaces so partially related to </br>restraints.   </br>-cont lopresser</br>-d/c lipitor, rx for hepatic dz.</br>.</br>4) fen- ivf, tf's</br>.</br>5) ppx- ppi, pneumoboots</br>.</br>6) code- dnr/dni</br></br>On [**2644-1-19**] a family meeting was held with Oncology, Social Work, </br>Palliative Care \n",
       "<mark class=\"entity\" style=\"background: #dee0e3; padding: 0.45em 0.6em; margin: 0 0.25em; line-height: 1; border-radius: 0.35em;\">\n",
       "    Consult\n",
       "    <span style=\"font-size: 0.8em; font-weight: bold; line-height: 1; border-radius: 0.35em; vertical-align: middle; margin-left: 0.5rem\"><< HISTORY_OF_PRESENT_ILLNESS >></span>\n",
       "</mark>\n",
       " and primary medical team. At that time </br>the family decided to place comfort as the main goal of her </br>medical care. Her status was changed to &quot;CMO&quot;.</br> </br>\n",
       "<mark class=\"entity\" style=\"background: #dee0e3; padding: 0.45em 0.6em; margin: 0 0.25em; line-height: 1; border-radius: 0.35em;\">\n",
       "    Medications on Admission:\n",
       "    <span style=\"font-size: 0.8em; font-weight: bold; line-height: 1; border-radius: 0.35em; vertical-align: middle; margin-left: 0.5rem\"><< MEDICATIONS >></span>\n",
       "</mark>\n",
       "</br>-lipitor 20</br>-protonix</br>-lopressor 25 tid</br></br> </br>\n",
       "<mark class=\"entity\" style=\"background: #dee0e3; padding: 0.45em 0.6em; margin: 0 0.25em; line-height: 1; border-radius: 0.35em;\">\n",
       "    Discharge Medications:\n",
       "    <span style=\"font-size: 0.8em; font-weight: bold; line-height: 1; border-radius: 0.35em; vertical-align: middle; margin-left: 0.5rem\"><< MEDICATIONS >></span>\n",
       "</mark>\n",
       "</br>Morphine Elixir</br>Scopolamine Patch</br>Ativan</br> </br>\n",
       "<mark class=\"entity\" style=\"background: #dee0e3; padding: 0.45em 0.6em; margin: 0 0.25em; line-height: 1; border-radius: 0.35em;\">\n",
       "    Discharge Disposition:\n",
       "    <span style=\"font-size: 0.8em; font-weight: bold; line-height: 1; border-radius: 0.35em; vertical-align: middle; margin-left: 0.5rem\"><< OBSERVATION_AND_PLAN >></span>\n",
       "</mark>\n",
       "</br>Extended Care</br> </br>\n",
       "<mark class=\"entity\" style=\"background: #dee0e3; padding: 0.45em 0.6em; margin: 0 0.25em; line-height: 1; border-radius: 0.35em;\">\n",
       "    Facility:\n",
       "    <span style=\"font-size: 0.8em; font-weight: bold; line-height: 1; border-radius: 0.35em; vertical-align: middle; margin-left: 0.5rem\"><< OTHER >></span>\n",
       "</mark>\n",
       "</br>Wayside</br> </br>\n",
       "<mark class=\"entity\" style=\"background: #dee0e3; padding: 0.45em 0.6em; margin: 0 0.25em; line-height: 1; border-radius: 0.35em;\">\n",
       "    Discharge Diagnosis:\n",
       "    <span style=\"font-size: 0.8em; font-weight: bold; line-height: 1; border-radius: 0.35em; vertical-align: middle; margin-left: 0.5rem\"><< OBSERVATION_AND_PLAN >></span>\n",
       "</mark>\n",
       "</br>Metastatic Lung Cancer</br>Intracerbral Hemmorhage</br>GI Bleed</br></br> </br>\n",
       "<mark class=\"entity\" style=\"background: #dee0e3; padding: 0.45em 0.6em; margin: 0 0.25em; line-height: 1; border-radius: 0.35em;\">\n",
       "    Discharge Condition:\n",
       "    <span style=\"font-size: 0.8em; font-weight: bold; line-height: 1; border-radius: 0.35em; vertical-align: middle; margin-left: 0.5rem\"><< OBSERVATION_AND_PLAN >></span>\n",
       "</mark>\n",
       "</br>critical</br></br> </br>\n",
       "<mark class=\"entity\" style=\"background: #dee0e3; padding: 0.45em 0.6em; margin: 0 0.25em; line-height: 1; border-radius: 0.35em;\">\n",
       "    Discharge Instructions:\n",
       "    <span style=\"font-size: 0.8em; font-weight: bold; line-height: 1; border-radius: 0.35em; vertical-align: middle; margin-left: 0.5rem\"><< PATIENT_INSTRUCTIONS >></span>\n",
       "</mark>\n",
       "</br>Please keep patitent comfortable</br>No blood draws, tubes or restraints</br> </br>\n",
       "<mark class=\"entity\" style=\"background: #dee0e3; padding: 0.45em 0.6em; margin: 0 0.25em; line-height: 1; border-radius: 0.35em;\">\n",
       "    Followup Instructions:\n",
       "    <span style=\"font-size: 0.8em; font-weight: bold; line-height: 1; border-radius: 0.35em; vertical-align: middle; margin-left: 0.5rem\"><< PATIENT_INSTRUCTIONS >></span>\n",
       "</mark>\n",
       "</br>n/a</br></br> </br>                             [**First Name11 (Name Pattern1) 335**] [**Last Name (NamePattern4) 336**] MD [**MD Number 2782**]</br> </br>Completed by: [**First Name11 (Name Pattern1) **] [**Last Name (NamePattern4) 4690**] MD [**MD Number 4691**] [**2644-1-22**] @ 1420</br>\n",
       "<mark class=\"entity\" style=\"background: #dee0e3; padding: 0.45em 0.6em; margin: 0 0.25em; line-height: 1; border-radius: 0.35em;\">\n",
       "    Signed electronically by:\n",
       "    <span style=\"font-size: 0.8em; font-weight: bold; line-height: 1; border-radius: 0.35em; vertical-align: middle; margin-left: 0.5rem\"><< SIGNATURE >></span>\n",
       "</mark>\n",
       " DR. [**First Name8 (NamePattern2) 335**] [**Doctor Last Name **]</br> on: MON [**2644-3-18**] 11:34 AM</br>(End of Report)</br></br></br></div></span>"
      ],
      "text/plain": [
       "<IPython.core.display.HTML object>"
      ]
     },
     "metadata": {},
     "output_type": "display_data"
    }
   ],
   "source": [
    "visualize_ent(doc)"
   ]
  },
  {
   "cell_type": "code",
   "execution_count": 66,
   "metadata": {},
   "outputs": [
    {
     "data": {
      "application/vnd.jupyter.widget-view+json": {
       "model_id": "1642b78ab1db480a9b2d214160a9b1c7",
       "version_major": 2,
       "version_minor": 0
      },
      "text/plain": [
       "VBox(children=(HTML(value='<h4>TODO</h4>\\nThe doc above should have an entity of pneumonia highlighted. What s…"
      ]
     },
     "metadata": {},
     "output_type": "display_data"
    },
    {
     "data": {
      "text/plain": []
     },
     "execution_count": 66,
     "metadata": {},
     "output_type": "execute_result"
    }
   ],
   "source": [
    "# RUN CELL TO SEE QUIZ\n",
    "quiz_pna_in_disch_summ"
   ]
  },
  {
   "cell_type": "markdown",
   "metadata": {},
   "source": [
    "We can iterate through the sections with `doc._.sections`. For each section, `title_span` is the section header (typically the named of the section followed by \":\") and `section_category` is the normalized category of the section."
   ]
  },
  {
   "cell_type": "code",
   "execution_count": 73,
   "metadata": {},
   "outputs": [
    {
     "name": "stdout",
     "output_type": "stream",
     "text": [
      " None\n",
      "\n",
      "Service: other\n",
      "\n",
      "Allergies: allergies\n",
      "\n",
      "Allergies allergies\n",
      "\n",
      "Chief Complaint: chief_complaint\n",
      "\n",
      "History of Present Illness: history_of_present_illness\n",
      "\n",
      "Past Medical History: past_medical_history\n",
      "\n",
      "Social History: social_history\n",
      "\n",
      "Physical Exam: physical_exam\n",
      "\n",
      "Pertinent Results: labs_and_studies\n",
      "\n",
      "MRI: imaging\n",
      "\n",
      "Brief Hospital Course: hospital_course\n",
      "\n",
      "Consult history_of_present_illness\n",
      "\n",
      "Medications on Admission: medications\n",
      "\n",
      "Discharge Medications: medications\n",
      "\n",
      "Discharge Disposition: observation_and_plan\n",
      "\n",
      "Facility: other\n",
      "\n",
      "Discharge Diagnosis: observation_and_plan\n",
      "\n",
      "Discharge Condition: observation_and_plan\n",
      "\n",
      "Discharge Instructions: patient_instructions\n",
      "\n",
      "Followup Instructions: patient_instructions\n",
      "\n",
      "Signed electronically by: signature\n",
      "\n"
     ]
    }
   ],
   "source": [
    "for section in doc._.sections:\n",
    "    print(section.title_span, section.category)\n",
    "    print()"
   ]
  },
  {
   "cell_type": "markdown",
   "metadata": {},
   "source": [
    "`section_span` is the entire section of the doc within that section:"
   ]
  },
  {
   "cell_type": "code",
   "execution_count": 80,
   "metadata": {},
   "outputs": [
    {
     "name": "stdout",
     "output_type": "stream",
     "text": [
      "History of Present Illness:\n",
      "NF admit seen and appreciated.  Briefly this is a [**Age over 90 **] yo f w/ h/o \n",
      "lung ca w/ metastasis to brain on XRT, s/p fall at NH on Sun \n",
      "eve. No LOC.  [**1-24**] lethargy, n/v,L arm weakness, sent to [**Hospital1 **] \n",
      "[**Location (un) 579**] where she was noted to havv 3x3cm R posterior parietal \n",
      "bleed.  Tx to NSICU, started on dilantin (load) and decadron.  \n",
      "Deemed not a surgical candidate -> DNR/DNI.\n",
      "Noted to be guiac pos, +hct drop, coffee grounds on NGL.  GI \n",
      "recommended transfusing to maintain hct.\n",
      " \n",
      "\n"
     ]
    }
   ],
   "source": [
    "print(doc._.sections[5].section_span)"
   ]
  },
  {
   "cell_type": "markdown",
   "metadata": {},
   "source": [
    "We can also see this information for the section where an entity occurred with `ent._.section_category`, `ent._.section_title`, and `ent._.section_body`:"
   ]
  },
  {
   "cell_type": "code",
   "execution_count": 87,
   "metadata": {},
   "outputs": [
    {
     "name": "stdout",
     "output_type": "stream",
     "text": [
      "pneumonia\n"
     ]
    }
   ],
   "source": [
    "ent = doc.ents[0]\n",
    "print(ent)"
   ]
  },
  {
   "cell_type": "code",
   "execution_count": 90,
   "metadata": {},
   "outputs": [
    {
     "data": {
      "text/plain": [
       "'imaging'"
      ]
     },
     "execution_count": 90,
     "metadata": {},
     "output_type": "execute_result"
    }
   ],
   "source": [
    "ent._.section_category"
   ]
  },
  {
   "cell_type": "code",
   "execution_count": 91,
   "metadata": {},
   "outputs": [
    {
     "data": {
      "text/plain": [
       "On diffusion-weighted images there is a small area of \n",
       "restricted diffusion along the falx within the left \n",
       "occipitotemporal lobe. It is also bright on FLAIR-weighted \n",
       "images and may represent a subacute infarct. Clinical \n",
       "correlation is recommended. On gradient echo images there is a \n",
       "large area of intraparenchymal hemorrhage within the right \n",
       "parietal lobe and left thalamus which following administration \n",
       "of gadolinium reveals ring-enhancing lesions. These are \n",
       "suspicious for hemorrhagic metastases given the patient's \n",
       "history. Additional ring-enhancing lesions throughout the supra- \n",
       "and infratentorial compartments are visualized. There is a \n",
       "moderate amount of peritumoral edema involving the right \n",
       "parietal lobe lesion in addition to a second right parietal \n",
       "lesion along the falx high in the vertex. The other areas of \n",
       "metastases reveal a minimal amount of peritumoral edema.\n",
       ".\n",
       "cxr: Cardiomegaly and mild CHF. Nasogastric tube as described \n",
       "above. Rounded opacity overlying the left hilum, which probably \n",
       "representing aspiration pneumonia; however, left hilar mass \n",
       "cannot be totally excluded. Please confirm resolution by \n",
       "repeated chest x-ray after treatment, and if the lesion \n",
       "persists, please evaluate by CT scan.\n",
       ". \n",
       "ct: Stable appearance of right parietal lobe and left thalamic \n",
       "hemorrhages, which are concerning for hemorrhagic metastasis in \n",
       "this patient with known metastatic lung carcinoma to the brain.\n",
       "\n",
       " "
      ]
     },
     "execution_count": 91,
     "metadata": {},
     "output_type": "execute_result"
    }
   ],
   "source": [
    "ent._.section_body"
   ]
  },
  {
   "cell_type": "code",
   "execution_count": null,
   "metadata": {},
   "outputs": [],
   "source": []
  },
  {
   "cell_type": "markdown",
   "metadata": {},
   "source": [
    "### Section attributes\n",
    "Certain sections are associated with attributes like being historical (e.g., **\"Past Medical History\"**) or experienced by a family member (e.g., **\"Family History\"**). When medspaCy finds an entity in these sections, it sets the appropriate attributes like `is_historical` or `is_family` to `True`:"
   ]
  },
  {
   "cell_type": "code",
   "execution_count": 100,
   "metadata": {},
   "outputs": [
    {
     "data": {
      "text/html": [
       "<span class=\"tex2jax_ignore\"><div class=\"entities\" style=\"line-height: 2.5; direction: ltr\">\n",
       "<mark class=\"entity\" style=\"background: #ff7f0e; padding: 0.45em 0.6em; margin: 0 0.25em; line-height: 1; border-radius: 0.35em;\">\n",
       "    Past Medical History\n",
       "    <span style=\"font-size: 0.8em; font-weight: bold; line-height: 1; border-radius: 0.35em; vertical-align: middle; margin-left: 0.5rem\">HISTORICAL</span>\n",
       "</mark>\n",
       "\n",
       "<mark class=\"entity\" style=\"background: #dee0e3; padding: 0.45em 0.6em; margin: 0 0.25em; line-height: 1; border-radius: 0.35em;\">\n",
       "    Past Medical History:\n",
       "    <span style=\"font-size: 0.8em; font-weight: bold; line-height: 1; border-radius: 0.35em; vertical-align: middle; margin-left: 0.5rem\"><< PAST_MEDICAL_HISTORY >></span>\n",
       "</mark>\n",
       " \n",
       "<mark class=\"entity\" style=\"background: #1f77b4; padding: 0.45em 0.6em; margin: 0 0.25em; line-height: 1; border-radius: 0.35em;\">\n",
       "    pneumonia\n",
       "    <span style=\"font-size: 0.8em; font-weight: bold; line-height: 1; border-radius: 0.35em; vertical-align: middle; margin-left: 0.5rem\">DIAGNOSIS</span>\n",
       "</mark>\n",
       "</div></span>"
      ],
      "text/plain": [
       "<IPython.core.display.HTML object>"
      ]
     },
     "metadata": {},
     "output_type": "display_data"
    }
   ],
   "source": [
    "doc_pmh = nlp(\"Past Medical History: pneumonia\")\n",
    "ent_pmh = doc_pmh.ents[0]\n",
    "visualize_ent(doc_pmh)"
   ]
  },
  {
   "cell_type": "code",
   "execution_count": 101,
   "metadata": {},
   "outputs": [
    {
     "name": "stdout",
     "output_type": "stream",
     "text": [
      "pneumonia\n",
      "is_historical: True\n"
     ]
    }
   ],
   "source": [
    "print(ent_pmh)\n",
    "print(\"is_historical:\", ent_pmh._.is_historical)"
   ]
  },
  {
   "cell_type": "code",
   "execution_count": 102,
   "metadata": {},
   "outputs": [
    {
     "data": {
      "text/html": [
       "<span class=\"tex2jax_ignore\"><div class=\"entities\" style=\"line-height: 2.5; direction: ltr\">\n",
       "<mark class=\"entity\" style=\"background: #ff7f0e; padding: 0.45em 0.6em; margin: 0 0.25em; line-height: 1; border-radius: 0.35em;\">\n",
       "    Past Medical History\n",
       "    <span style=\"font-size: 0.8em; font-weight: bold; line-height: 1; border-radius: 0.35em; vertical-align: middle; margin-left: 0.5rem\">HISTORICAL</span>\n",
       "</mark>\n",
       "\n",
       "<mark class=\"entity\" style=\"background: #dee0e3; padding: 0.45em 0.6em; margin: 0 0.25em; line-height: 1; border-radius: 0.35em;\">\n",
       "    Past Medical History:\n",
       "    <span style=\"font-size: 0.8em; font-weight: bold; line-height: 1; border-radius: 0.35em; vertical-align: middle; margin-left: 0.5rem\"><< PAST_MEDICAL_HISTORY >></span>\n",
       "</mark>\n",
       " \n",
       "<mark class=\"entity\" style=\"background: #1f77b4; padding: 0.45em 0.6em; margin: 0 0.25em; line-height: 1; border-radius: 0.35em;\">\n",
       "    pneumonia\n",
       "    <span style=\"font-size: 0.8em; font-weight: bold; line-height: 1; border-radius: 0.35em; vertical-align: middle; margin-left: 0.5rem\">DIAGNOSIS</span>\n",
       "</mark>\n",
       "</div></span>"
      ],
      "text/plain": [
       "<IPython.core.display.HTML object>"
      ]
     },
     "metadata": {},
     "output_type": "display_data"
    }
   ],
   "source": [
    "doc_fh = nlp(\"Family History: breast cancer\")\n",
    "ent_fh = doc_fh.ents[0]\n",
    "visualize_ent(doc_pmh)"
   ]
  },
  {
   "cell_type": "code",
   "execution_count": 103,
   "metadata": {},
   "outputs": [
    {
     "name": "stdout",
     "output_type": "stream",
     "text": [
      "breast cancer\n",
      "is_family: True\n"
     ]
    }
   ],
   "source": [
    "print(ent_fh)\n",
    "print(\"is_family:\", ent_fh._.is_family)"
   ]
  },
  {
   "cell_type": "markdown",
   "metadata": {},
   "source": [
    "### Adding sections\n",
    "The structure of notes differs widely across different institutions and across different clinical settings. For example, a discharge summary in the VA might be structured differently than on in the University of Utah, and any discharge summary will look very different from a chest imaging report. So it's important to customize section detection for a specific setting.\n",
    "\n",
    "We can control section detection in medspaCy using the `SectionRule` class. This behaves just like `ContextRule` and `TargetRule` and we add it to the `medspacy_sectionzer` component: "
   ]
  },
  {
   "cell_type": "code",
   "execution_count": 120,
   "metadata": {},
   "outputs": [],
   "source": [
    "from medspacy.section_detection import SectionRule"
   ]
  },
  {
   "cell_type": "code",
   "execution_count": 128,
   "metadata": {},
   "outputs": [
    {
     "data": {
      "text/html": [
       "<span class=\"tex2jax_ignore\"><div class=\"entities\" style=\"line-height: 2.5; direction: ltr\">\n",
       "<mark class=\"entity\" style=\"background: #dee0e3; padding: 0.45em 0.6em; margin: 0 0.25em; line-height: 1; border-radius: 0.35em;\">\n",
       "    Important procedures:\n",
       "    <span style=\"font-size: 0.8em; font-weight: bold; line-height: 1; border-radius: 0.35em; vertical-align: middle; margin-left: 0.5rem\"><< PROCEDURES >></span>\n",
       "</mark>\n",
       " rij central line placement</div></span>"
      ],
      "text/plain": [
       "<IPython.core.display.HTML object>"
      ]
     },
     "metadata": {},
     "output_type": "display_data"
    },
    {
     "name": "stdout",
     "output_type": "stream",
     "text": [
      "['procedures']\n"
     ]
    }
   ],
   "source": [
    "# Section isn't recognized\n",
    "text_procedures = \"Important procedures: rij central line placement\"\n",
    "doc = nlp(text_procedures)\n",
    "visualize_ent(doc)\n",
    "print(doc._.section_categories)"
   ]
  },
  {
   "cell_type": "code",
   "execution_count": 129,
   "metadata": {},
   "outputs": [
    {
     "data": {
      "text/html": [
       "<span class=\"tex2jax_ignore\"><div class=\"entities\" style=\"line-height: 2.5; direction: ltr\">\n",
       "<mark class=\"entity\" style=\"background: #dee0e3; padding: 0.45em 0.6em; margin: 0 0.25em; line-height: 1; border-radius: 0.35em;\">\n",
       "    Important procedures:\n",
       "    <span style=\"font-size: 0.8em; font-weight: bold; line-height: 1; border-radius: 0.35em; vertical-align: middle; margin-left: 0.5rem\"><< PROCEDURES >></span>\n",
       "</mark>\n",
       " rij central line placement</div></span>"
      ],
      "text/plain": [
       "<IPython.core.display.HTML object>"
      ]
     },
     "metadata": {},
     "output_type": "display_data"
    },
    {
     "name": "stdout",
     "output_type": "stream",
     "text": [
      "['procedures']\n"
     ]
    }
   ],
   "source": [
    "# Add a rule to recognize this section\n",
    "rule = SectionRule(\"Important procedures:\", \"procedures\")\n",
    "nlp.get_pipe(\"medspacy_sectionizer\").add(rule)\n",
    "doc = nlp(text_procedures)\n",
    "visualize_ent(doc)\n",
    "print(doc._.section_categories)"
   ]
  },
  {
   "cell_type": "code",
   "execution_count": null,
   "metadata": {},
   "outputs": [],
   "source": []
  },
  {
   "cell_type": "markdown",
   "metadata": {},
   "source": [
    "#### TODO\n",
    "Update the sections below to match the **Social History** sections in the texts below and assign it the category of `social_history`. You could do this with one rule if you want to use some more advanced techniques, or do it with multiple rules."
   ]
  },
  {
   "cell_type": "code",
   "execution_count": 132,
   "metadata": {},
   "outputs": [],
   "source": [
    "rules = [\n",
    "    SectionRule(\"Social Hx/Factors\", \"social_history\",\n",
    "               pattern=[\n",
    "                   {\"LOWER\": \"social\"},\n",
    "                   {\"LOWER\": {\"IN\": [\"hx\", \"history\", \"factors\"]}},\n",
    "                   {\"LOWER\": \":\"}\n",
    "               ]),\n",
    "]"
   ]
  },
  {
   "cell_type": "code",
   "execution_count": 133,
   "metadata": {},
   "outputs": [],
   "source": [
    "nlp.get_pipe(\"medspacy_sectionizer\").add(rules)"
   ]
  },
  {
   "cell_type": "code",
   "execution_count": 134,
   "metadata": {},
   "outputs": [],
   "source": [
    "social_hx_texts = [\n",
    "    \"Social Hx: homeless\",\n",
    "    \"Social Factors: lives with two daughters.\"\n",
    "]"
   ]
  },
  {
   "cell_type": "code",
   "execution_count": 135,
   "metadata": {},
   "outputs": [
    {
     "data": {
      "text/html": [
       "<span class=\"tex2jax_ignore\"><div class=\"entities\" style=\"line-height: 2.5; direction: ltr\">\n",
       "<mark class=\"entity\" style=\"background: #dee0e3; padding: 0.45em 0.6em; margin: 0 0.25em; line-height: 1; border-radius: 0.35em;\">\n",
       "    Social Hx:\n",
       "    <span style=\"font-size: 0.8em; font-weight: bold; line-height: 1; border-radius: 0.35em; vertical-align: middle; margin-left: 0.5rem\"><< SOCIAL_HISTORY >></span>\n",
       "</mark>\n",
       " homeless</div></span>"
      ],
      "text/plain": [
       "<IPython.core.display.HTML object>"
      ]
     },
     "metadata": {},
     "output_type": "display_data"
    },
    {
     "data": {
      "text/html": [
       "<span class=\"tex2jax_ignore\"><div class=\"entities\" style=\"line-height: 2.5; direction: ltr\">\n",
       "<mark class=\"entity\" style=\"background: #dee0e3; padding: 0.45em 0.6em; margin: 0 0.25em; line-height: 1; border-radius: 0.35em;\">\n",
       "    Social Factors:\n",
       "    <span style=\"font-size: 0.8em; font-weight: bold; line-height: 1; border-radius: 0.35em; vertical-align: middle; margin-left: 0.5rem\"><< SOCIAL_HISTORY >></span>\n",
       "</mark>\n",
       " lives with two daughters.</div></span>"
      ],
      "text/plain": [
       "<IPython.core.display.HTML object>"
      ]
     },
     "metadata": {},
     "output_type": "display_data"
    }
   ],
   "source": [
    "for text in social_hx_texts:\n",
    "    visualize_ent(nlp(text))"
   ]
  },
  {
   "cell_type": "code",
   "execution_count": null,
   "metadata": {},
   "outputs": [],
   "source": []
  },
  {
   "cell_type": "markdown",
   "metadata": {},
   "source": [
    "## Radiology Reports\n",
    "The other type of note we'll look at in this class is **radiology reports**. These are narratives describing a radiologist's interpretation of an imaging procedure like a [chest x-ray (CXR)](https://www.hopkinsmedicine.org/health/treatment-tests-and-therapies/chest-xray#:~:text=What%20is%20a%20chest%20X,cause%20changes%20in%20your%20lungs.), [MRI](https://en.wikipedia.org/wiki/Magnetic_resonance_imaging) or [CT scan](https://en.wikipedia.org/wiki/CT_scan).\n",
    "\n",
    "#### TODO\n",
    "Edit the query below to query **all** radiology reports for hospital admission 28766."
   ]
  },
  {
   "cell_type": "code",
   "execution_count": 109,
   "metadata": {},
   "outputs": [],
   "source": [
    "query = \"\"\"\n",
    "SELECT text\n",
    "FROM noteevents\n",
    "WHERE hadm_id = 28766\n",
    "    AND category = 'RADIOLOGY_REPORT'\n",
    "\"\"\"\n",
    "rad_reports = pd.read_sql(query, conn)[\"text\"]"
   ]
  },
  {
   "cell_type": "code",
   "execution_count": 110,
   "metadata": {},
   "outputs": [
    {
     "data": {
      "text/plain": [
       "0    \\n\\n\\n     DATE: [**2644-1-17**] 10:53 AM\\n   ...\n",
       "1    \\n\\n\\n     DATE: [**2644-1-17**] 10:53 AM\\n   ...\n",
       "2    \\n\\n\\n     DATE: [**2644-1-17**] 10:43 AM\\n   ...\n",
       "3    \\n\\n\\n     DATE: [**2644-1-17**] 6:37 AM\\n    ...\n",
       "4    \\n\\n\\n     DATE: [**2644-1-19**] 12:09 PM\\n   ...\n",
       "Name: text, dtype: object"
      ]
     },
     "execution_count": 110,
     "metadata": {},
     "output_type": "execute_result"
    }
   ],
   "source": [
    "rad_reports"
   ]
  },
  {
   "cell_type": "code",
   "execution_count": 115,
   "metadata": {},
   "outputs": [
    {
     "data": {
      "application/vnd.jupyter.widget-view+json": {
       "model_id": "7d29eb4558d8422cb5d17e95a28da5ce",
       "version_major": 2,
       "version_minor": 0
      },
      "text/plain": [
       "VBox(children=(HTML(value='How many radiology reports did this hospitalization have?'), Textarea(value='', pla…"
      ]
     },
     "metadata": {},
     "output_type": "display_data"
    },
    {
     "data": {
      "text/plain": []
     },
     "execution_count": 115,
     "metadata": {},
     "output_type": "execute_result"
    }
   ],
   "source": [
    "# RUN CELL TO SEE QUIZ\n",
    "quiz_n_rad_reports"
   ]
  },
  {
   "cell_type": "markdown",
   "metadata": {},
   "source": [
    "Let's process all of the radiology reports from this hospitalization and review them. To process multiple docs with a medspaCy model, we can run:\n",
    "\n",
    "```\n",
    "docs = list(nlp.pipe(texts))\n",
    "```\n",
    "\n",
    "and a nice way to visualize multiple docs is the `MedspacyVisualizerWidget` class."
   ]
  },
  {
   "cell_type": "code",
   "execution_count": 116,
   "metadata": {},
   "outputs": [],
   "source": [
    "docs = list(nlp.pipe(rad_reports))"
   ]
  },
  {
   "cell_type": "code",
   "execution_count": 117,
   "metadata": {
    "scrolled": true
   },
   "outputs": [
    {
     "data": {
      "application/vnd.jupyter.widget-view+json": {
       "model_id": "86fb50eb83e245b1b44e1a8a4a1ba81b",
       "version_major": 2,
       "version_minor": 0
      },
      "text/plain": [
       "Box(children=(HBox(children=(RadioButtons(options=('Ent', 'Dep', 'Both'), value='Ent'), Button(description='Pr…"
      ]
     },
     "metadata": {},
     "output_type": "display_data"
    },
    {
     "data": {
      "text/plain": [
       "<medspacy.visualization.MedspaCyVisualizerWidget at 0x7fe093983040>"
      ]
     },
     "execution_count": 117,
     "metadata": {},
     "output_type": "execute_result"
    }
   ],
   "source": [
    "w = MedspaCyVisualizerWidget(docs)\n",
    "w"
   ]
  },
  {
   "cell_type": "markdown",
   "metadata": {},
   "source": [
    "Here is a summary of some of the sections in a radiology report:\n",
    "- **Indication** / **Reason for Exam**: What the patient is hospitalized for and why they're undergoing the procedure\n",
    "- **Technique**: Technical details about the procedure\n",
    "- **Findings**: An objective study of what the images show\n",
    "- **Interpretation** / **Impression**: The radiologist's interpretation of what this means for the patient's diagnosis"
   ]
  },
  {
   "cell_type": "code",
   "execution_count": 140,
   "metadata": {},
   "outputs": [
    {
     "data": {
      "application/vnd.jupyter.widget-view+json": {
       "model_id": "d58484ffaac04bbb9bd9a1e705793f06",
       "version_major": 2,
       "version_minor": 0
      },
      "text/plain": [
       "VBox(children=(HTML(value='<h4>TODO</h4>\\nAccording to radiology report #3, what does the radiologist think ca…"
      ]
     },
     "metadata": {},
     "output_type": "display_data"
    },
    {
     "data": {
      "text/plain": []
     },
     "execution_count": 140,
     "metadata": {},
     "output_type": "execute_result"
    }
   ],
   "source": [
    "# RUN CELL TO SEE QUIZ\n",
    "quiz_rad_interpretation"
   ]
  },
  {
   "cell_type": "code",
   "execution_count": null,
   "metadata": {},
   "outputs": [],
   "source": []
  }
 ],
 "metadata": {
  "kernelspec": {
   "display_name": "Python 3 (ipykernel)",
   "language": "python",
   "name": "python3"
  },
  "language_info": {
   "codemirror_mode": {
    "name": "ipython",
    "version": 3
   },
   "file_extension": ".py",
   "mimetype": "text/x-python",
   "name": "python",
   "nbconvert_exporter": "python",
   "pygments_lexer": "ipython3",
   "version": "3.9.12"
  }
 },
 "nbformat": 4,
 "nbformat_minor": 4
}
