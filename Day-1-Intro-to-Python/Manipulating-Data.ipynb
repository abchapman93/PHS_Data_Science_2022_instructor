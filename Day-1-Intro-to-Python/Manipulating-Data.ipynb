{
 "cells": [
  {
   "cell_type": "markdown",
   "id": "f142f65f",
   "metadata": {},
   "source": [
    "<html>\n",
    "<table width=\"100%\" cellspacing=\"2\" cellpadding=\"2\" border=\"1\">\n",
    "<tbody>\n",
    "<tr>\n",
    "<td valign=\"center\" align=\"center\" width=\"45%\"><img src=\"../media/Univ-Utah.jpeg\"><br>\n",
    "</td>\n",
    "    <td valign=\"center\" align=\"center\" width=\"75%\">\n",
    "<h1 align=\"center\"><font size=\"+1\">University of Utah<br>Population Health Sciences<br>Data Science Workshop</font></h1></td>\n",
    "<td valign=\"center\" align=\"center\" width=\"45%\"><img\n",
    "src=\"../media/U_Health_stacked_png_red.png\" alt=\"Utah Health\n",
    "Logo\" width=\"128\" height=\"134\"><br>\n",
    "</td>\n",
    "</tr>\n",
    "</tbody>\n",
    "</table>\n",
    "<br>\n",
    "</html>\n"
   ]
  },
  {
   "cell_type": "code",
   "execution_count": 2,
   "id": "f4265ded",
   "metadata": {},
   "outputs": [],
   "source": [
    "%load_ext autoreload"
   ]
  },
  {
   "cell_type": "code",
   "execution_count": 1,
   "id": "9894db5e",
   "metadata": {},
   "outputs": [],
   "source": [
    "from helpers import *"
   ]
  },
  {
   "cell_type": "code",
   "execution_count": null,
   "id": "ce1d03ff",
   "metadata": {},
   "outputs": [],
   "source": [
    "m = MultipleChoiceQuiz()"
   ]
  },
  {
   "cell_type": "markdown",
   "id": "b71e2e87",
   "metadata": {},
   "source": [
    "## Writing your own functions\n",
    "As we learn to manipulate data, we might want to perform some standard actions many times. We don't want to do rewrite the code every time, so instead we might put this code into our own **functions**. \n",
    "\n",
    "The syntax for writing a function is:\n",
    "```python\n",
    "def function_name(args):\n",
    "    # Your code here\n",
    "    value = ...\n",
    "    return value\n",
    "```\n",
    "\n",
    "1. Start by writing `def`, followed by the function name and argument names. This indicates you are going to define a function.\n",
    "2. In an **indented block**, write your code which performs the task you want to function to do.\n",
    "3. `return` the value you want the function to generate. "
   ]
  },
  {
   "cell_type": "markdown",
   "id": "bb2c225b",
   "metadata": {},
   "source": [
    "In the first notebook, we had three custom functions which I had written for you: `square`, `add`, and `print_name`. Here's how I wrote `square`:"
   ]
  },
  {
   "cell_type": "code",
   "execution_count": null,
   "id": "7e0c5f22",
   "metadata": {},
   "outputs": [],
   "source": [
    "def square(x):\n",
    "    squared = x**2\n",
    "    return x"
   ]
  },
  {
   "cell_type": "markdown",
   "id": "fa5374fa",
   "metadata": {},
   "source": [
    "#### TODO\n",
    "Write your own implementations of the functions `add` and `print_name`. Refer to the first notebook to remember what these functions did. For `print_name`, you'll need to use some of the string methods we saw in the previous notebook."
   ]
  },
  {
   "cell_type": "code",
   "execution_count": null,
   "id": "b442f7ee",
   "metadata": {},
   "outputs": [],
   "source": [
    "def add(x, y):\n",
    "    return x + y\n",
    "\n",
    "def print_name(first, last, middle=None):\n",
    "    if middle is None:\n",
    "        print(f\"My name is {first.title()} {last.title()}\")\n",
    "    else:\n",
    "        print(f\"My name is {first.title()} {middle[0].title()}. {last.title()}\")"
   ]
  },
  {
   "cell_type": "code",
   "execution_count": null,
   "id": "8bf6a3cd",
   "metadata": {},
   "outputs": [],
   "source": []
  },
  {
   "cell_type": "markdown",
   "id": "d42912cc",
   "metadata": {},
   "source": [
    "## For loops\n"
   ]
  },
  {
   "cell_type": "code",
   "execution_count": null,
   "id": "2b8fc082",
   "metadata": {},
   "outputs": [],
   "source": [
    "my_list = [1, 2, 3, 4]"
   ]
  },
  {
   "cell_type": "code",
   "execution_count": null,
   "id": "ef3330cb",
   "metadata": {},
   "outputs": [],
   "source": [
    "for element in my_list:\n",
    "    print(element)"
   ]
  },
  {
   "cell_type": "code",
   "execution_count": null,
   "id": "771451f8",
   "metadata": {},
   "outputs": [],
   "source": [
    "for index in range(len(my_list)):\n",
    "    print(index, my_list[index])"
   ]
  },
  {
   "cell_type": "markdown",
   "id": "1a3dbda4",
   "metadata": {},
   "source": [
    "When you add or multiply elements in a list using a for-loop, this is equivalent to this common mathematical notation::\n",
    "\n",
    "**Sums:** $$x = \\sum_{i=0}^{n-1}i$$"
   ]
  },
  {
   "cell_type": "code",
   "execution_count": null,
   "id": "cadaee26",
   "metadata": {},
   "outputs": [],
   "source": [
    "x = 0\n",
    "for element in my_list:\n",
    "    x += element\n",
    "print(x)"
   ]
  },
  {
   "cell_type": "markdown",
   "id": "43f49287",
   "metadata": {},
   "source": [
    "**Products:** $$x = \\prod_{i=0}^{n-1}i$$"
   ]
  },
  {
   "cell_type": "code",
   "execution_count": null,
   "id": "a999e741",
   "metadata": {},
   "outputs": [],
   "source": [
    "x = 1\n",
    "for element in my_list:\n",
    "    x *= element\n",
    "print(x)"
   ]
  },
  {
   "cell_type": "code",
   "execution_count": null,
   "id": "94aa8c72",
   "metadata": {},
   "outputs": [],
   "source": []
  },
  {
   "cell_type": "code",
   "execution_count": null,
   "id": "368fa37d",
   "metadata": {},
   "outputs": [],
   "source": []
  },
  {
   "cell_type": "markdown",
   "id": "b7de806d",
   "metadata": {},
   "source": [
    "#### TODO\n",
    "Using the lists below, write use for-loops to calculate **1)** the sample average; and **2)** the sample standard deviation of the elements in the list. Put your code into functions called `my_mean` and `my_sd`. The equations for both are below. Note that to calculate the standard deviation you need the mean.\n",
    "\n",
    "$$mean(x) = \\sum_{i=0}^{n-1}\\frac{x_i}{n}   $$\n",
    "$$sd(x) = \\sqrt{\\sum_{i=0}^{n-1}\\frac{(x_i - \\bar{x})^2}{n}} $$"
   ]
  },
  {
   "cell_type": "code",
   "execution_count": null,
   "id": "548da729",
   "metadata": {},
   "outputs": [],
   "source": [
    "import random as rand"
   ]
  },
  {
   "cell_type": "code",
   "execution_count": null,
   "id": "24c251fe",
   "metadata": {},
   "outputs": [],
   "source": [
    "a = [rand.randint(0, 10) for _ in range(0, 10)]"
   ]
  },
  {
   "cell_type": "code",
   "execution_count": null,
   "id": "9951c501",
   "metadata": {},
   "outputs": [],
   "source": []
  },
  {
   "cell_type": "code",
   "execution_count": null,
   "id": "a587e359",
   "metadata": {},
   "outputs": [],
   "source": [
    "a = [4, 0, 2, 2, 0, 10, 7, 8, 5, 0]"
   ]
  },
  {
   "cell_type": "code",
   "execution_count": null,
   "id": "30d1c3d6",
   "metadata": {},
   "outputs": [],
   "source": [
    "def my_mean(a):\n",
    "    n = len(a)\n",
    "    summed = 0\n",
    "    for element in a:\n",
    "        summed += element\n",
    "    return summed / n"
   ]
  },
  {
   "cell_type": "code",
   "execution_count": null,
   "id": "11ab211e",
   "metadata": {},
   "outputs": [],
   "source": [
    "def my_sd(a):\n",
    "    n = len(a)\n",
    "    mean = my_mean(a)\n",
    "    summed = 0\n",
    "    for element in a:\n",
    "        summed += (element - mean)**2\n",
    "    return (summed / (n))**(1/2)"
   ]
  },
  {
   "cell_type": "code",
   "execution_count": null,
   "id": "99e6051e",
   "metadata": {},
   "outputs": [],
   "source": []
  },
  {
   "cell_type": "code",
   "execution_count": null,
   "id": "75bceb79",
   "metadata": {},
   "outputs": [],
   "source": [
    "test_my_mean = FunctionTest(args=([4, 0, 2, 2, 0, 10, 7, 8, 5, 0],), expected=3.8)"
   ]
  },
  {
   "cell_type": "code",
   "execution_count": null,
   "id": "aa3ab24d",
   "metadata": {},
   "outputs": [],
   "source": [
    "test_my_mean.test(my_mean)"
   ]
  },
  {
   "cell_type": "code",
   "execution_count": null,
   "id": "7d7503ad",
   "metadata": {},
   "outputs": [],
   "source": []
  },
  {
   "cell_type": "code",
   "execution_count": null,
   "id": "43553149",
   "metadata": {},
   "outputs": [],
   "source": [
    "sum(a) / len(a)"
   ]
  },
  {
   "cell_type": "code",
   "execution_count": null,
   "id": "e4fde97a",
   "metadata": {},
   "outputs": [],
   "source": [
    "my_mean(a)"
   ]
  },
  {
   "cell_type": "code",
   "execution_count": null,
   "id": "6956922e",
   "metadata": {},
   "outputs": [],
   "source": [
    "import numpy as np\n",
    "np.mean(a)"
   ]
  },
  {
   "cell_type": "code",
   "execution_count": null,
   "id": "95e63d11",
   "metadata": {},
   "outputs": [],
   "source": []
  },
  {
   "cell_type": "code",
   "execution_count": null,
   "id": "c0645d95",
   "metadata": {},
   "outputs": [],
   "source": [
    "my_sd(a)"
   ]
  },
  {
   "cell_type": "code",
   "execution_count": null,
   "id": "e11cc02c",
   "metadata": {},
   "outputs": [],
   "source": [
    "np.std(a)"
   ]
  },
  {
   "cell_type": "code",
   "execution_count": null,
   "id": "7f19ba76",
   "metadata": {},
   "outputs": [],
   "source": [
    "help(np.std)"
   ]
  },
  {
   "cell_type": "code",
   "execution_count": null,
   "id": "c8e74343",
   "metadata": {},
   "outputs": [],
   "source": []
  },
  {
   "cell_type": "markdown",
   "id": "36c87879",
   "metadata": {},
   "source": [
    "#### TODO\n",
    "Write a function which takes two lists and computes the **inner/dot product**. The dot product is the sum of the product of the corresponding elements in the lists. For example, if we have the following two lists, their dot product would be:\n",
    "\n",
    "$$ \n",
    "\\begin{aligned}\n",
    "x1 = [0, 1, 2] \\\\ \n",
    "x2 = [3, 4, 5] \\\\ \n",
    "d = (0 * 3) + (1 * 4) + (2 * 5)\n",
    "\\end{aligned}\n",
    "$$\n",
    "\n",
    "**Hint:** There are two ways to do this - you can use the indices of the lists, or look up the handy built-in `zip` function."
   ]
  },
  {
   "cell_type": "code",
   "execution_count": null,
   "id": "2e7735f1",
   "metadata": {},
   "outputs": [],
   "source": [
    "b = [4, 1, 4, 3, 9, 2, 0, 0, 5, 4]"
   ]
  },
  {
   "cell_type": "code",
   "execution_count": null,
   "id": "22135471",
   "metadata": {},
   "outputs": [],
   "source": [
    "def dot_product(a, b):\n",
    "    summed = 0\n",
    "    for i in range(len(a)):\n",
    "        summed += a[i] * b[i]\n",
    "    return summed"
   ]
  },
  {
   "cell_type": "code",
   "execution_count": null,
   "id": "902933a4",
   "metadata": {},
   "outputs": [],
   "source": [
    "dot_product(a, b)"
   ]
  },
  {
   "cell_type": "code",
   "execution_count": null,
   "id": "e019e5c6",
   "metadata": {},
   "outputs": [],
   "source": [
    "np.dot(a, b)"
   ]
  },
  {
   "cell_type": "code",
   "execution_count": null,
   "id": "6b4f21a3",
   "metadata": {},
   "outputs": [],
   "source": [
    "def dot_product2(a, b):\n",
    "    summed = 0\n",
    "    for a_i, b_i in zip(a, b):\n",
    "        summed += a_i * b_i\n",
    "    return summed"
   ]
  },
  {
   "cell_type": "code",
   "execution_count": null,
   "id": "7f9fc691",
   "metadata": {},
   "outputs": [],
   "source": [
    "dot_product2(a, b)"
   ]
  },
  {
   "cell_type": "markdown",
   "id": "4982a210",
   "metadata": {},
   "source": [
    "## Control statements"
   ]
  },
  {
   "cell_type": "code",
   "execution_count": null,
   "id": "28c7ca08",
   "metadata": {},
   "outputs": [],
   "source": [
    "\n"
   ]
  },
  {
   "cell_type": "code",
   "execution_count": null,
   "id": "c9de9b0a",
   "metadata": {},
   "outputs": [],
   "source": [
    "import ipywidgets as widgets"
   ]
  },
  {
   "cell_type": "code",
   "execution_count": null,
   "id": "0526dded",
   "metadata": {},
   "outputs": [],
   "source": [
    "class FreeTextTest:\n",
    "    def __init__(self, description=\"\", answer=\"\"):\n",
    "        self._output = widgets.Output()\n",
    "        self.description = description\n",
    "        self._description = widgets.HTML(value=self.description)\n",
    "\n",
    "        self.answer = answer\n",
    "        self.entered = None\n",
    "        self._entry = widgets.Textarea(\n",
    "            value=None,\n",
    "            placeholder='Type something',\n",
    "        )\n",
    "        \n",
    "        self._submit = widgets.Button(description=\"Submit\")\n",
    "        self._submit.on_click(self._submit_answer)\n",
    "\n",
    "        self.response = \"\"\n",
    "        self._response = self._response = widgets.HTML(\n",
    "            value=self.response\n",
    "        )\n",
    "\n",
    "        self._box = widgets.VBox(\n",
    "            [\n",
    "                self._description,\n",
    "                self._entry,\n",
    "                self._submit,\n",
    "                self._response,\n",
    "                self._output\n",
    "\n",
    "            ]\n",
    "        )\n",
    "        \n",
    "    def _submit_answer(self, change):\n",
    "        self.entered = self._entry.value.strip()\n",
    "        self._validate_answer()\n",
    "\n",
    "    def _validate_answer(self):\n",
    "        # If there's already a response, remove it\n",
    "        if self.entered == self.answer:\n",
    "            self.response = \"That is correct!\"\n",
    "        else:\n",
    "            self.response = \"That is incorrect.\"\n",
    "        self._response.value = self.response\n",
    "\n",
    "    def display(self):\n",
    "        \"\"\"Display the Box widget in the current IPython cell.\"\"\"\n",
    "        from IPython.display import display as ipydisplay\n",
    "        self._output.clear_output()\n",
    "\n",
    "        ipydisplay(self._box)\n",
    "\n",
    "    def __repr__(self):\n",
    "        self.display()\n",
    "        return \"\""
   ]
  },
  {
   "cell_type": "code",
   "execution_count": null,
   "id": "53214496",
   "metadata": {},
   "outputs": [],
   "source": [
    "FreeTextTest(description=\"What code would import the library numpy with an alias?\", answer=\"import numpy as np\")"
   ]
  },
  {
   "cell_type": "code",
   "execution_count": null,
   "id": "f27cf1fa",
   "metadata": {},
   "outputs": [],
   "source": []
  }
 ],
 "metadata": {
  "kernelspec": {
   "display_name": "Python 3 (ipykernel)",
   "language": "python",
   "name": "python3"
  },
  "language_info": {
   "codemirror_mode": {
    "name": "ipython",
    "version": 3
   },
   "file_extension": ".py",
   "mimetype": "text/x-python",
   "name": "python",
   "nbconvert_exporter": "python",
   "pygments_lexer": "ipython3",
   "version": "3.9.12"
  }
 },
 "nbformat": 4,
 "nbformat_minor": 5
}
