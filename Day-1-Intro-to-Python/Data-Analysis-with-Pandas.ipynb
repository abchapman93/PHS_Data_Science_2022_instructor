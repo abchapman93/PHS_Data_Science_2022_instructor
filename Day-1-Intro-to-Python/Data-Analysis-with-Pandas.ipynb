{
 "cells": [
  {
   "cell_type": "markdown",
   "id": "e665b6dd",
   "metadata": {},
   "source": [
    "<html>\n",
    "<table width=\"100%\" cellspacing=\"2\" cellpadding=\"2\" border=\"1\">\n",
    "<tbody>\n",
    "<tr>\n",
    "<td valign=\"center\" align=\"center\" width=\"45%\"><img src=\"../media/Univ-Utah.jpeg\"><br>\n",
    "</td>\n",
    "    <td valign=\"center\" align=\"center\" width=\"75%\">\n",
    "<h1 align=\"center\"><font size=\"+1\">University of Utah<br>Population Health Sciences<br>Data Science Workshop</font></h1></td>\n",
    "<td valign=\"center\" align=\"center\" width=\"45%\"><img\n",
    "src=\"../media/U_Health_stacked_png_red.png\" alt=\"Utah Health\n",
    "Logo\" width=\"128\" height=\"134\"><br>\n",
    "</td>\n",
    "</tr>\n",
    "</tbody>\n",
    "</table>\n",
    "<br>\n",
    "</html>\n"
   ]
  },
  {
   "cell_type": "code",
   "execution_count": 121,
   "id": "23d4e4ed",
   "metadata": {},
   "outputs": [],
   "source": [
    "from helpers import *\n",
    "\n",
    "import seaborn as sns\n",
    "sns.set()\n",
    "\n",
    "import matplotlib.pyplot as plt\n",
    "%matplotlib inline"
   ]
  },
  {
   "cell_type": "markdown",
   "id": "2d50d838",
   "metadata": {},
   "source": [
    "# Data Analysis with Pandas\n",
    "This notebook will do a deeper dive into the `pandas` library.\n",
    "\n",
    "## Data source\n",
    "\n",
    "This dataset has been saved to this directory as **\"500_Person_Gender_Height_Weight_Index.csv\"**. It originally came from [Kaggle](https://www.kaggle.com/yersever/500-person-gender-height-weight-bodymassindex/data).\n",
    "\n",
    "#### TODO\n",
    "We'll start by reading in the csv file containing the data. Pandas can read files of a number data types. First, import pandas with the alias `pd`."
   ]
  },
  {
   "cell_type": "code",
   "execution_count": 2,
   "id": "7e7a1bb4",
   "metadata": {},
   "outputs": [],
   "source": [
    "import pandas as pd"
   ]
  },
  {
   "cell_type": "markdown",
   "id": "1075b55b",
   "metadata": {},
   "source": [
    "Next, we need to tell pandas where to find our data source. This dataset is saved as a comma-separated values (csv) file in the following location:\n",
    "\n",
    "`../data/500_Person_Gender_Height_Weight_Index.csv`\n",
    "\n",
    "A **filepath** like the one above tells your program where to find a file on your machine. This filepath means:\n",
    "- `..`: Go up one folder/directory\n",
    "- `../data/`: Go to the folder called `data`\n",
    "- `../data/500_Person_Gender_Height_Weight_Index.csv`: In the data folder, look for a file called **\"500_Person_Gender_Height_Weight_Index.csv\"**"
   ]
  },
  {
   "cell_type": "markdown",
   "id": "5dcd9c72",
   "metadata": {},
   "source": [
    "#### TODO\n",
    "Using the appropriate pandas function (see the previous notebook), pass in the filepath as a string. Save the resulting object as a variable called `df`."
   ]
  },
  {
   "cell_type": "code",
   "execution_count": 3,
   "id": "3e0bfc8e",
   "metadata": {},
   "outputs": [],
   "source": [
    "df = pd.read_csv(\"../data/500_Person_Gender_Height_Weight_Index.csv\")"
   ]
  },
  {
   "cell_type": "markdown",
   "id": "7d10d31c",
   "metadata": {},
   "source": [
    "Now, let's get a sense of our dataset. The method `df.head()` subsets the first 5 rows of a DataFrame and can give us a quick look at the data structure.\n",
    "\n",
    "#### TODO\n",
    "Take a look at the first 5 rows of the dataset. What variables are in it? What data types are they? What would be some useful summary statistics to analyze this dataset?"
   ]
  },
  {
   "cell_type": "code",
   "execution_count": 4,
   "id": "699a1f26",
   "metadata": {},
   "outputs": [
    {
     "data": {
      "text/html": [
       "<div>\n",
       "<style scoped>\n",
       "    .dataframe tbody tr th:only-of-type {\n",
       "        vertical-align: middle;\n",
       "    }\n",
       "\n",
       "    .dataframe tbody tr th {\n",
       "        vertical-align: top;\n",
       "    }\n",
       "\n",
       "    .dataframe thead th {\n",
       "        text-align: right;\n",
       "    }\n",
       "</style>\n",
       "<table border=\"1\" class=\"dataframe\">\n",
       "  <thead>\n",
       "    <tr style=\"text-align: right;\">\n",
       "      <th></th>\n",
       "      <th>Gender</th>\n",
       "      <th>Height</th>\n",
       "      <th>Weight</th>\n",
       "      <th>Index</th>\n",
       "    </tr>\n",
       "  </thead>\n",
       "  <tbody>\n",
       "    <tr>\n",
       "      <th>0</th>\n",
       "      <td>Male</td>\n",
       "      <td>174</td>\n",
       "      <td>96</td>\n",
       "      <td>4</td>\n",
       "    </tr>\n",
       "    <tr>\n",
       "      <th>1</th>\n",
       "      <td>Male</td>\n",
       "      <td>189</td>\n",
       "      <td>87</td>\n",
       "      <td>2</td>\n",
       "    </tr>\n",
       "    <tr>\n",
       "      <th>2</th>\n",
       "      <td>Female</td>\n",
       "      <td>185</td>\n",
       "      <td>110</td>\n",
       "      <td>4</td>\n",
       "    </tr>\n",
       "    <tr>\n",
       "      <th>3</th>\n",
       "      <td>Female</td>\n",
       "      <td>195</td>\n",
       "      <td>104</td>\n",
       "      <td>3</td>\n",
       "    </tr>\n",
       "    <tr>\n",
       "      <th>4</th>\n",
       "      <td>Male</td>\n",
       "      <td>149</td>\n",
       "      <td>61</td>\n",
       "      <td>3</td>\n",
       "    </tr>\n",
       "  </tbody>\n",
       "</table>\n",
       "</div>"
      ],
      "text/plain": [
       "   Gender  Height  Weight  Index\n",
       "0    Male     174      96      4\n",
       "1    Male     189      87      2\n",
       "2  Female     185     110      4\n",
       "3  Female     195     104      3\n",
       "4    Male     149      61      3"
      ]
     },
     "execution_count": 4,
     "metadata": {},
     "output_type": "execute_result"
    }
   ],
   "source": [
    "df.head()"
   ]
  },
  {
   "cell_type": "markdown",
   "id": "6efef458",
   "metadata": {},
   "source": [
    "#### TODO\n",
    "Which of the variables appear to be **categorical** variables? What do the values in these columns mean?\n",
    "\n",
    "**Hint**: Look at the Kaggle link above if you need some additional information about a column."
   ]
  },
  {
   "cell_type": "code",
   "execution_count": 5,
   "id": "0f332fc0",
   "metadata": {},
   "outputs": [
    {
     "data": {
      "application/vnd.jupyter.widget-view+json": {
       "model_id": "67cb05fa7cdc4f1a92704f4c82302f4a",
       "version_major": 2,
       "version_minor": 0
      },
      "text/plain": [
       "VBox(children=(HTML(value=''), SelectMultiple(options=('Gender', 'Height', 'Weight', 'Index'), value=()), Butt…"
      ]
     },
     "metadata": {},
     "output_type": "display_data"
    },
    {
     "data": {
      "text/plain": []
     },
     "execution_count": 5,
     "metadata": {},
     "output_type": "execute_result"
    }
   ],
   "source": [
    "SelectMultipleQuiz(answer=(\"Gender\", \"Index\"), \n",
    "                   options=(\"Gender\", \"Height\", \"Weight\", \"Index\"), \n",
    "                   shuffle_answer=False)\n"
   ]
  },
  {
   "cell_type": "markdown",
   "id": "33dd2f05",
   "metadata": {},
   "source": [
    "#### TODO\n",
    "Calculate summary statistics for all of the numeric columns in the dataset. Then calculate the min, max, and mean values for **Height**."
   ]
  },
  {
   "cell_type": "code",
   "execution_count": 6,
   "id": "896e7b84",
   "metadata": {},
   "outputs": [
    {
     "data": {
      "text/html": [
       "<div>\n",
       "<style scoped>\n",
       "    .dataframe tbody tr th:only-of-type {\n",
       "        vertical-align: middle;\n",
       "    }\n",
       "\n",
       "    .dataframe tbody tr th {\n",
       "        vertical-align: top;\n",
       "    }\n",
       "\n",
       "    .dataframe thead th {\n",
       "        text-align: right;\n",
       "    }\n",
       "</style>\n",
       "<table border=\"1\" class=\"dataframe\">\n",
       "  <thead>\n",
       "    <tr style=\"text-align: right;\">\n",
       "      <th></th>\n",
       "      <th>Height</th>\n",
       "      <th>Weight</th>\n",
       "      <th>Index</th>\n",
       "    </tr>\n",
       "  </thead>\n",
       "  <tbody>\n",
       "    <tr>\n",
       "      <th>count</th>\n",
       "      <td>500.000000</td>\n",
       "      <td>500.000000</td>\n",
       "      <td>500.000000</td>\n",
       "    </tr>\n",
       "    <tr>\n",
       "      <th>mean</th>\n",
       "      <td>169.944000</td>\n",
       "      <td>106.000000</td>\n",
       "      <td>3.748000</td>\n",
       "    </tr>\n",
       "    <tr>\n",
       "      <th>std</th>\n",
       "      <td>16.375261</td>\n",
       "      <td>32.382607</td>\n",
       "      <td>1.355053</td>\n",
       "    </tr>\n",
       "    <tr>\n",
       "      <th>min</th>\n",
       "      <td>140.000000</td>\n",
       "      <td>50.000000</td>\n",
       "      <td>0.000000</td>\n",
       "    </tr>\n",
       "    <tr>\n",
       "      <th>25%</th>\n",
       "      <td>156.000000</td>\n",
       "      <td>80.000000</td>\n",
       "      <td>3.000000</td>\n",
       "    </tr>\n",
       "    <tr>\n",
       "      <th>50%</th>\n",
       "      <td>170.500000</td>\n",
       "      <td>106.000000</td>\n",
       "      <td>4.000000</td>\n",
       "    </tr>\n",
       "    <tr>\n",
       "      <th>75%</th>\n",
       "      <td>184.000000</td>\n",
       "      <td>136.000000</td>\n",
       "      <td>5.000000</td>\n",
       "    </tr>\n",
       "    <tr>\n",
       "      <th>max</th>\n",
       "      <td>199.000000</td>\n",
       "      <td>160.000000</td>\n",
       "      <td>5.000000</td>\n",
       "    </tr>\n",
       "  </tbody>\n",
       "</table>\n",
       "</div>"
      ],
      "text/plain": [
       "           Height      Weight       Index\n",
       "count  500.000000  500.000000  500.000000\n",
       "mean   169.944000  106.000000    3.748000\n",
       "std     16.375261   32.382607    1.355053\n",
       "min    140.000000   50.000000    0.000000\n",
       "25%    156.000000   80.000000    3.000000\n",
       "50%    170.500000  106.000000    4.000000\n",
       "75%    184.000000  136.000000    5.000000\n",
       "max    199.000000  160.000000    5.000000"
      ]
     },
     "execution_count": 6,
     "metadata": {},
     "output_type": "execute_result"
    }
   ],
   "source": [
    "df.describe()"
   ]
  },
  {
   "cell_type": "code",
   "execution_count": 7,
   "id": "71cc18e9",
   "metadata": {},
   "outputs": [
    {
     "ename": "NameError",
     "evalue": "name '____' is not defined",
     "output_type": "error",
     "traceback": [
      "\u001b[0;31m---------------------------------------------------------------------------\u001b[0m",
      "\u001b[0;31mNameError\u001b[0m                                 Traceback (most recent call last)",
      "Input \u001b[0;32mIn [7]\u001b[0m, in \u001b[0;36m<cell line: 2>\u001b[0;34m()\u001b[0m\n\u001b[1;32m      1\u001b[0m \u001b[38;5;66;03m# Mean\u001b[39;00m\n\u001b[0;32m----> 2\u001b[0m df[\u001b[43m____\u001b[49m]\u001b[38;5;241m.\u001b[39mmean()\n",
      "\u001b[0;31mNameError\u001b[0m: name '____' is not defined"
     ]
    }
   ],
   "source": [
    "# Mean\n",
    "df[____].mean() "
   ]
  },
  {
   "cell_type": "code",
   "execution_count": null,
   "id": "e190eeb6",
   "metadata": {},
   "outputs": [],
   "source": [
    "# Min\n",
    "df[\"Weight\"].____()"
   ]
  },
  {
   "cell_type": "code",
   "execution_count": null,
   "id": "bbdeac51",
   "metadata": {},
   "outputs": [],
   "source": [
    "# Max\n",
    "df[___].____()"
   ]
  },
  {
   "cell_type": "code",
   "execution_count": null,
   "id": "6ac1ba37",
   "metadata": {},
   "outputs": [],
   "source": []
  },
  {
   "cell_type": "markdown",
   "id": "09a4087c",
   "metadata": {},
   "source": [
    "## Aggregating by Variables\n",
    "We can call methods on the columns of a DataFrame to do additional analysis on specific variables. Let's look at two categorical variables: **Gender** and **Index**. With categorical variables, we might want to get the count of rows where the variable takes on a certain value. For example, how many rows are **Male** vs. **Female**? What are the average height and weight within these two categories?\n",
    "\n",
    "One way to do this is by using the `groupby` method. This **aggregates** the dataframe by a variable (such as **Gender**) and then calculates statistics within each category. \n",
    "\n",
    "**Note**: This is the equivalent in SQL of using  `GROUP BY` clause. We'll learn more about that tomorrow.\n",
    "\n",
    "The syntax for a pandas group by is:\n",
    "\n",
    "`df.groupby(\"column_name\").agg_function()`\n",
    "\n",
    "where `agg_function()` is a function which calculates a summary statistic of interest.\n",
    "\n",
    "For example, one aggregate function is `size()`, which calculates the number of rows in each category:"
   ]
  },
  {
   "cell_type": "code",
   "execution_count": 8,
   "id": "a9a3e076",
   "metadata": {},
   "outputs": [
    {
     "data": {
      "text/plain": [
       "Gender\n",
       "Female    255\n",
       "Male      245\n",
       "dtype: int64"
      ]
     },
     "execution_count": 8,
     "metadata": {},
     "output_type": "execute_result"
    }
   ],
   "source": [
    "df.groupby(\"Gender\").size()"
   ]
  },
  {
   "cell_type": "markdown",
   "id": "05914eef",
   "metadata": {},
   "source": [
    "#### TODO\n",
    "Calculate the number of people within each level of **Index**. Then answer the quiz question below."
   ]
  },
  {
   "cell_type": "code",
   "execution_count": 9,
   "id": "0833c554",
   "metadata": {},
   "outputs": [
    {
     "data": {
      "text/plain": [
       "Index\n",
       "0     13\n",
       "1     22\n",
       "2     69\n",
       "3     68\n",
       "4    130\n",
       "5    198\n",
       "dtype: int64"
      ]
     },
     "execution_count": 9,
     "metadata": {},
     "output_type": "execute_result"
    }
   ],
   "source": [
    "df.groupby(\"Index\").size()"
   ]
  },
  {
   "cell_type": "code",
   "execution_count": 10,
   "id": "5667c1bd",
   "metadata": {},
   "outputs": [
    {
     "data": {
      "application/vnd.jupyter.widget-view+json": {
       "model_id": "d361fe8da1ee4dd3a1c3b3452c1323f8",
       "version_major": 2,
       "version_minor": 0
      },
      "text/plain": [
       "VBox(children=(HTML(value='How many subjects have an Index of 0, 3, and 5, respectively?'), RadioButtons(optio…"
      ]
     },
     "metadata": {},
     "output_type": "display_data"
    },
    {
     "data": {
      "text/plain": []
     },
     "execution_count": 10,
     "metadata": {},
     "output_type": "execute_result"
    }
   ],
   "source": [
    "MultipleChoiceQuiz(description=\"How many subjects have an Index of 0, 3, and 5, respectively?\",\n",
    "                   answer=\"13, 68, 198\",\n",
    "                  options=[\"13, 68, 198\", \"68, 13, 198\", \"13, 22, 130\"])"
   ]
  },
  {
   "cell_type": "markdown",
   "id": "6053409b",
   "metadata": {},
   "source": [
    "We can also group by multiple variables:"
   ]
  },
  {
   "cell_type": "code",
   "execution_count": 11,
   "id": "ea9c12e7",
   "metadata": {},
   "outputs": [
    {
     "data": {
      "text/plain": [
       "Gender  Index\n",
       "Female  0          7\n",
       "        1          7\n",
       "        2         41\n",
       "        3         36\n",
       "        4         71\n",
       "        5         93\n",
       "Male    0          6\n",
       "        1         15\n",
       "        2         28\n",
       "        3         32\n",
       "        4         59\n",
       "        5        105\n",
       "dtype: int64"
      ]
     },
     "execution_count": 11,
     "metadata": {},
     "output_type": "execute_result"
    }
   ],
   "source": [
    "df.groupby([\"Gender\", \"Index\"]).size()"
   ]
  },
  {
   "cell_type": "code",
   "execution_count": null,
   "id": "590450c0",
   "metadata": {},
   "outputs": [],
   "source": []
  },
  {
   "cell_type": "markdown",
   "id": "7739458f",
   "metadata": {},
   "source": [
    "If we group by a categorical variable, we can then analyze the distribution of numeric columns within each category. To do that, we have to first group by our grouping variable, access the numeric column, and then call the aggregate statistic. "
   ]
  },
  {
   "cell_type": "code",
   "execution_count": 12,
   "id": "692c6535",
   "metadata": {},
   "outputs": [
    {
     "data": {
      "text/plain": [
       "Gender\n",
       "Female    170.227451\n",
       "Male      169.648980\n",
       "Name: Height, dtype: float64"
      ]
     },
     "execution_count": 12,
     "metadata": {},
     "output_type": "execute_result"
    }
   ],
   "source": [
    "df.groupby(\"Gender\")[\"Height\"].mean()"
   ]
  },
  {
   "cell_type": "code",
   "execution_count": 13,
   "id": "a7efa976",
   "metadata": {},
   "outputs": [
    {
     "data": {
      "text/plain": [
       "Gender\n",
       "Female    170.0\n",
       "Male      171.0\n",
       "Name: Height, dtype: float64"
      ]
     },
     "execution_count": 13,
     "metadata": {},
     "output_type": "execute_result"
    }
   ],
   "source": [
    "df.groupby(\"Gender\")[\"Height\"].median()"
   ]
  },
  {
   "cell_type": "markdown",
   "id": "159fe9f8",
   "metadata": {},
   "source": [
    "Just like with a normal DataFrame, we can access multiple columns and perform multiple aggregations at once."
   ]
  },
  {
   "cell_type": "code",
   "execution_count": 14,
   "id": "f2e35087",
   "metadata": {},
   "outputs": [
    {
     "data": {
      "text/html": [
       "<div>\n",
       "<style scoped>\n",
       "    .dataframe tbody tr th:only-of-type {\n",
       "        vertical-align: middle;\n",
       "    }\n",
       "\n",
       "    .dataframe tbody tr th {\n",
       "        vertical-align: top;\n",
       "    }\n",
       "\n",
       "    .dataframe thead tr th {\n",
       "        text-align: left;\n",
       "    }\n",
       "\n",
       "    .dataframe thead tr:last-of-type th {\n",
       "        text-align: right;\n",
       "    }\n",
       "</style>\n",
       "<table border=\"1\" class=\"dataframe\">\n",
       "  <thead>\n",
       "    <tr>\n",
       "      <th></th>\n",
       "      <th colspan=\"8\" halign=\"left\">Height</th>\n",
       "      <th colspan=\"8\" halign=\"left\">Weight</th>\n",
       "    </tr>\n",
       "    <tr>\n",
       "      <th></th>\n",
       "      <th>count</th>\n",
       "      <th>mean</th>\n",
       "      <th>std</th>\n",
       "      <th>min</th>\n",
       "      <th>25%</th>\n",
       "      <th>50%</th>\n",
       "      <th>75%</th>\n",
       "      <th>max</th>\n",
       "      <th>count</th>\n",
       "      <th>mean</th>\n",
       "      <th>std</th>\n",
       "      <th>min</th>\n",
       "      <th>25%</th>\n",
       "      <th>50%</th>\n",
       "      <th>75%</th>\n",
       "      <th>max</th>\n",
       "    </tr>\n",
       "    <tr>\n",
       "      <th>Gender</th>\n",
       "      <th></th>\n",
       "      <th></th>\n",
       "      <th></th>\n",
       "      <th></th>\n",
       "      <th></th>\n",
       "      <th></th>\n",
       "      <th></th>\n",
       "      <th></th>\n",
       "      <th></th>\n",
       "      <th></th>\n",
       "      <th></th>\n",
       "      <th></th>\n",
       "      <th></th>\n",
       "      <th></th>\n",
       "      <th></th>\n",
       "      <th></th>\n",
       "    </tr>\n",
       "  </thead>\n",
       "  <tbody>\n",
       "    <tr>\n",
       "      <th>Female</th>\n",
       "      <td>255.0</td>\n",
       "      <td>170.227451</td>\n",
       "      <td>15.711825</td>\n",
       "      <td>140.0</td>\n",
       "      <td>157.0</td>\n",
       "      <td>170.0</td>\n",
       "      <td>184.0</td>\n",
       "      <td>199.0</td>\n",
       "      <td>255.0</td>\n",
       "      <td>105.698039</td>\n",
       "      <td>32.962025</td>\n",
       "      <td>50.0</td>\n",
       "      <td>79.0</td>\n",
       "      <td>106.0</td>\n",
       "      <td>135.0</td>\n",
       "      <td>160.0</td>\n",
       "    </tr>\n",
       "    <tr>\n",
       "      <th>Male</th>\n",
       "      <td>245.0</td>\n",
       "      <td>169.648980</td>\n",
       "      <td>17.065665</td>\n",
       "      <td>140.0</td>\n",
       "      <td>154.0</td>\n",
       "      <td>171.0</td>\n",
       "      <td>183.0</td>\n",
       "      <td>199.0</td>\n",
       "      <td>245.0</td>\n",
       "      <td>106.314286</td>\n",
       "      <td>31.832734</td>\n",
       "      <td>50.0</td>\n",
       "      <td>80.0</td>\n",
       "      <td>105.0</td>\n",
       "      <td>137.0</td>\n",
       "      <td>160.0</td>\n",
       "    </tr>\n",
       "  </tbody>\n",
       "</table>\n",
       "</div>"
      ],
      "text/plain": [
       "       Height                                                            \\\n",
       "        count        mean        std    min    25%    50%    75%    max   \n",
       "Gender                                                                    \n",
       "Female  255.0  170.227451  15.711825  140.0  157.0  170.0  184.0  199.0   \n",
       "Male    245.0  169.648980  17.065665  140.0  154.0  171.0  183.0  199.0   \n",
       "\n",
       "       Weight                                                          \n",
       "        count        mean        std   min   25%    50%    75%    max  \n",
       "Gender                                                                 \n",
       "Female  255.0  105.698039  32.962025  50.0  79.0  106.0  135.0  160.0  \n",
       "Male    245.0  106.314286  31.832734  50.0  80.0  105.0  137.0  160.0  "
      ]
     },
     "execution_count": 14,
     "metadata": {},
     "output_type": "execute_result"
    }
   ],
   "source": [
    "df.groupby(\"Gender\")[[\"Height\", \"Weight\"]].describe()"
   ]
  },
  {
   "cell_type": "markdown",
   "id": "fb75a472",
   "metadata": {},
   "source": [
    "#### TODO\n",
    "Group the dataset by **Index** and look at the distribution of **Height** and **Weight** within each category. The find the following values and put your answers in the subsequent quizzes:\n",
    "- The mean height for subjects with an Index of **3**\n",
    "- The median height for subjects with an Index of **5**\n",
    "- The max height for a female subject with an index of 0"
   ]
  },
  {
   "cell_type": "code",
   "execution_count": 15,
   "id": "deebeb8f",
   "metadata": {},
   "outputs": [
    {
     "data": {
      "text/html": [
       "<div>\n",
       "<style scoped>\n",
       "    .dataframe tbody tr th:only-of-type {\n",
       "        vertical-align: middle;\n",
       "    }\n",
       "\n",
       "    .dataframe tbody tr th {\n",
       "        vertical-align: top;\n",
       "    }\n",
       "\n",
       "    .dataframe thead tr th {\n",
       "        text-align: left;\n",
       "    }\n",
       "\n",
       "    .dataframe thead tr:last-of-type th {\n",
       "        text-align: right;\n",
       "    }\n",
       "</style>\n",
       "<table border=\"1\" class=\"dataframe\">\n",
       "  <thead>\n",
       "    <tr>\n",
       "      <th></th>\n",
       "      <th colspan=\"8\" halign=\"left\">Height</th>\n",
       "      <th colspan=\"8\" halign=\"left\">Weight</th>\n",
       "    </tr>\n",
       "    <tr>\n",
       "      <th></th>\n",
       "      <th>count</th>\n",
       "      <th>mean</th>\n",
       "      <th>std</th>\n",
       "      <th>min</th>\n",
       "      <th>25%</th>\n",
       "      <th>50%</th>\n",
       "      <th>75%</th>\n",
       "      <th>max</th>\n",
       "      <th>count</th>\n",
       "      <th>mean</th>\n",
       "      <th>std</th>\n",
       "      <th>min</th>\n",
       "      <th>25%</th>\n",
       "      <th>50%</th>\n",
       "      <th>75%</th>\n",
       "      <th>max</th>\n",
       "    </tr>\n",
       "    <tr>\n",
       "      <th>Index</th>\n",
       "      <th></th>\n",
       "      <th></th>\n",
       "      <th></th>\n",
       "      <th></th>\n",
       "      <th></th>\n",
       "      <th></th>\n",
       "      <th></th>\n",
       "      <th></th>\n",
       "      <th></th>\n",
       "      <th></th>\n",
       "      <th></th>\n",
       "      <th></th>\n",
       "      <th></th>\n",
       "      <th></th>\n",
       "      <th></th>\n",
       "      <th></th>\n",
       "    </tr>\n",
       "  </thead>\n",
       "  <tbody>\n",
       "    <tr>\n",
       "      <th>0</th>\n",
       "      <td>13.0</td>\n",
       "      <td>187.538462</td>\n",
       "      <td>9.341800</td>\n",
       "      <td>163.0</td>\n",
       "      <td>183.00</td>\n",
       "      <td>190.0</td>\n",
       "      <td>193.00</td>\n",
       "      <td>198.0</td>\n",
       "      <td>13.0</td>\n",
       "      <td>51.692308</td>\n",
       "      <td>2.323238</td>\n",
       "      <td>50.0</td>\n",
       "      <td>50.00</td>\n",
       "      <td>50.0</td>\n",
       "      <td>54.00</td>\n",
       "      <td>57.0</td>\n",
       "    </tr>\n",
       "    <tr>\n",
       "      <th>1</th>\n",
       "      <td>22.0</td>\n",
       "      <td>184.772727</td>\n",
       "      <td>8.535259</td>\n",
       "      <td>168.0</td>\n",
       "      <td>179.00</td>\n",
       "      <td>186.0</td>\n",
       "      <td>192.50</td>\n",
       "      <td>196.0</td>\n",
       "      <td>22.0</td>\n",
       "      <td>59.409091</td>\n",
       "      <td>5.270394</td>\n",
       "      <td>50.0</td>\n",
       "      <td>56.00</td>\n",
       "      <td>59.5</td>\n",
       "      <td>62.00</td>\n",
       "      <td>69.0</td>\n",
       "    </tr>\n",
       "    <tr>\n",
       "      <th>2</th>\n",
       "      <td>69.0</td>\n",
       "      <td>174.260870</td>\n",
       "      <td>13.786878</td>\n",
       "      <td>148.0</td>\n",
       "      <td>163.00</td>\n",
       "      <td>177.0</td>\n",
       "      <td>185.00</td>\n",
       "      <td>199.0</td>\n",
       "      <td>69.0</td>\n",
       "      <td>69.086957</td>\n",
       "      <td>12.062020</td>\n",
       "      <td>50.0</td>\n",
       "      <td>59.00</td>\n",
       "      <td>68.0</td>\n",
       "      <td>79.00</td>\n",
       "      <td>99.0</td>\n",
       "    </tr>\n",
       "    <tr>\n",
       "      <th>3</th>\n",
       "      <td>68.0</td>\n",
       "      <td>175.985294</td>\n",
       "      <td>15.500113</td>\n",
       "      <td>140.0</td>\n",
       "      <td>164.00</td>\n",
       "      <td>181.5</td>\n",
       "      <td>188.00</td>\n",
       "      <td>198.0</td>\n",
       "      <td>68.0</td>\n",
       "      <td>86.882353</td>\n",
       "      <td>15.917258</td>\n",
       "      <td>52.0</td>\n",
       "      <td>71.75</td>\n",
       "      <td>89.5</td>\n",
       "      <td>100.00</td>\n",
       "      <td>115.0</td>\n",
       "    </tr>\n",
       "    <tr>\n",
       "      <th>4</th>\n",
       "      <td>130.0</td>\n",
       "      <td>173.876923</td>\n",
       "      <td>15.609585</td>\n",
       "      <td>140.0</td>\n",
       "      <td>165.00</td>\n",
       "      <td>176.0</td>\n",
       "      <td>186.75</td>\n",
       "      <td>199.0</td>\n",
       "      <td>130.0</td>\n",
       "      <td>107.953846</td>\n",
       "      <td>21.463819</td>\n",
       "      <td>66.0</td>\n",
       "      <td>90.50</td>\n",
       "      <td>109.5</td>\n",
       "      <td>122.75</td>\n",
       "      <td>156.0</td>\n",
       "    </tr>\n",
       "    <tr>\n",
       "      <th>5</th>\n",
       "      <td>198.0</td>\n",
       "      <td>160.979798</td>\n",
       "      <td>14.289238</td>\n",
       "      <td>140.0</td>\n",
       "      <td>149.25</td>\n",
       "      <td>159.5</td>\n",
       "      <td>171.00</td>\n",
       "      <td>196.0</td>\n",
       "      <td>198.0</td>\n",
       "      <td>132.888889</td>\n",
       "      <td>21.099421</td>\n",
       "      <td>79.0</td>\n",
       "      <td>118.25</td>\n",
       "      <td>139.5</td>\n",
       "      <td>149.75</td>\n",
       "      <td>160.0</td>\n",
       "    </tr>\n",
       "  </tbody>\n",
       "</table>\n",
       "</div>"
      ],
      "text/plain": [
       "      Height                                                              \\\n",
       "       count        mean        std    min     25%    50%     75%    max   \n",
       "Index                                                                      \n",
       "0       13.0  187.538462   9.341800  163.0  183.00  190.0  193.00  198.0   \n",
       "1       22.0  184.772727   8.535259  168.0  179.00  186.0  192.50  196.0   \n",
       "2       69.0  174.260870  13.786878  148.0  163.00  177.0  185.00  199.0   \n",
       "3       68.0  175.985294  15.500113  140.0  164.00  181.5  188.00  198.0   \n",
       "4      130.0  173.876923  15.609585  140.0  165.00  176.0  186.75  199.0   \n",
       "5      198.0  160.979798  14.289238  140.0  149.25  159.5  171.00  196.0   \n",
       "\n",
       "      Weight                                                             \n",
       "       count        mean        std   min     25%    50%     75%    max  \n",
       "Index                                                                    \n",
       "0       13.0   51.692308   2.323238  50.0   50.00   50.0   54.00   57.0  \n",
       "1       22.0   59.409091   5.270394  50.0   56.00   59.5   62.00   69.0  \n",
       "2       69.0   69.086957  12.062020  50.0   59.00   68.0   79.00   99.0  \n",
       "3       68.0   86.882353  15.917258  52.0   71.75   89.5  100.00  115.0  \n",
       "4      130.0  107.953846  21.463819  66.0   90.50  109.5  122.75  156.0  \n",
       "5      198.0  132.888889  21.099421  79.0  118.25  139.5  149.75  160.0  "
      ]
     },
     "execution_count": 15,
     "metadata": {},
     "output_type": "execute_result"
    }
   ],
   "source": [
    "df.groupby(\"Index\")[[\"Height\", \"Weight\"]].describe()"
   ]
  },
  {
   "cell_type": "code",
   "execution_count": 16,
   "id": "5386f62f",
   "metadata": {},
   "outputs": [
    {
     "data": {
      "text/plain": [
       "Index\n",
       "0    187.538462\n",
       "1    184.772727\n",
       "2    174.260870\n",
       "3    175.985294\n",
       "4    173.876923\n",
       "5    160.979798\n",
       "Name: Height, dtype: float64"
      ]
     },
     "execution_count": 16,
     "metadata": {},
     "output_type": "execute_result"
    }
   ],
   "source": [
    "df.groupby(\"Index\")[\"Height\"].mean()"
   ]
  },
  {
   "cell_type": "code",
   "execution_count": 17,
   "id": "88de5fc0",
   "metadata": {},
   "outputs": [
    {
     "data": {
      "application/vnd.jupyter.widget-view+json": {
       "model_id": "0449c5005a864759b78cac3c93515ff5",
       "version_major": 2,
       "version_minor": 0
      },
      "text/plain": [
       "VBox(children=(HTML(value='What is the mean height for subjects with an Index of 3?'), RadioButtons(options=(1…"
      ]
     },
     "metadata": {},
     "output_type": "display_data"
    },
    {
     "data": {
      "text/plain": []
     },
     "execution_count": 17,
     "metadata": {},
     "output_type": "execute_result"
    }
   ],
   "source": [
    "MultipleChoiceQuiz(description=\"What is the mean height for subjects with an Index of 3?\",\n",
    "                  answer=175.99,\n",
    "                  options=(173.88, 13.5,173.87))"
   ]
  },
  {
   "cell_type": "code",
   "execution_count": 18,
   "id": "19ac0d53",
   "metadata": {},
   "outputs": [
    {
     "data": {
      "text/plain": [
       "Index\n",
       "0    190.0\n",
       "1    186.0\n",
       "2    177.0\n",
       "3    181.5\n",
       "4    176.0\n",
       "5    159.5\n",
       "Name: Height, dtype: float64"
      ]
     },
     "execution_count": 18,
     "metadata": {},
     "output_type": "execute_result"
    }
   ],
   "source": [
    "df.groupby(\"Index\")[\"Height\"].median()"
   ]
  },
  {
   "cell_type": "code",
   "execution_count": 19,
   "id": "521b7d9b",
   "metadata": {},
   "outputs": [
    {
     "data": {
      "application/vnd.jupyter.widget-view+json": {
       "model_id": "6af6477e5a5f47aca5a6cb391eb06f4c",
       "version_major": 2,
       "version_minor": 0
      },
      "text/plain": [
       "VBox(children=(HTML(value='What is the median height for subjects with an Index of 5?'), RadioButtons(options=…"
      ]
     },
     "metadata": {},
     "output_type": "display_data"
    },
    {
     "data": {
      "text/plain": []
     },
     "execution_count": 19,
     "metadata": {},
     "output_type": "execute_result"
    }
   ],
   "source": [
    "MultipleChoiceQuiz(description=\"What is the median height for subjects with an Index of 5?\",\n",
    "                  answer=159.5,\n",
    "                  options=(190.0, 187.54,160.98))"
   ]
  },
  {
   "cell_type": "code",
   "execution_count": 20,
   "id": "354b19e9",
   "metadata": {},
   "outputs": [
    {
     "data": {
      "text/plain": [
       "Gender  Index\n",
       "Female  0        198\n",
       "        1        195\n",
       "        2        199\n",
       "        3        197\n",
       "        4        198\n",
       "        5        196\n",
       "Male    0        198\n",
       "        1        196\n",
       "        2        199\n",
       "        3        198\n",
       "        4        199\n",
       "        5        195\n",
       "Name: Height, dtype: int64"
      ]
     },
     "execution_count": 20,
     "metadata": {},
     "output_type": "execute_result"
    }
   ],
   "source": [
    "df.groupby([\"Gender\", \"Index\"])[\"Height\"].max()"
   ]
  },
  {
   "cell_type": "code",
   "execution_count": 21,
   "id": "40a24d31",
   "metadata": {},
   "outputs": [
    {
     "data": {
      "text/plain": [
       "Gender  Index\n",
       "Female  0        163\n",
       "        1        170\n",
       "        2        148\n",
       "        3        149\n",
       "        4        140\n",
       "        5        140\n",
       "Male    0        181\n",
       "        1        168\n",
       "        2        154\n",
       "        3        140\n",
       "        4        142\n",
       "        5        140\n",
       "Name: Height, dtype: int64"
      ]
     },
     "execution_count": 21,
     "metadata": {},
     "output_type": "execute_result"
    }
   ],
   "source": [
    "df.groupby([\"Gender\", \"Index\"])[\"Height\"].min()"
   ]
  },
  {
   "cell_type": "code",
   "execution_count": 22,
   "id": "73a13f94",
   "metadata": {},
   "outputs": [
    {
     "data": {
      "application/vnd.jupyter.widget-view+json": {
       "model_id": "48b3004b5911495a9de6b4cd817bf7e4",
       "version_major": 2,
       "version_minor": 0
      },
      "text/plain": [
       "VBox(children=(HTML(value='What is the max height for a female subject with an index of 0?'), RadioButtons(opt…"
      ]
     },
     "metadata": {},
     "output_type": "display_data"
    },
    {
     "data": {
      "text/plain": []
     },
     "execution_count": 22,
     "metadata": {},
     "output_type": "execute_result"
    }
   ],
   "source": [
    "MultipleChoiceQuiz(description=\"What is the max height for a female subject with an index of 0?\",\n",
    "                  answer=196,\n",
    "                  options=(195, 197, 140))"
   ]
  },
  {
   "cell_type": "markdown",
   "id": "0798bdc1",
   "metadata": {},
   "source": [
    "### Visualization with `pandas`\n",
    "We can use `matplotlib` and `seaborn` to plot data from a DataFrame. In addition, pandas has a few out-of-the-box methods that are helpful visualizing a dataset.\n",
    "\n",
    "One example is plotting **histogram** of the values in a column:"
   ]
  },
  {
   "cell_type": "code",
   "execution_count": 23,
   "id": "6b74d1a2",
   "metadata": {},
   "outputs": [
    {
     "data": {
      "text/plain": [
       "<AxesSubplot:>"
      ]
     },
     "execution_count": 23,
     "metadata": {},
     "output_type": "execute_result"
    },
    {
     "data": {
      "image/png": "[encoded data removed]",
      "text/plain": [
       "<Figure size 432x288 with 1 Axes>"
      ]
     },
     "metadata": {
      "needs_background": "light"
     },
     "output_type": "display_data"
    }
   ],
   "source": [
    "df[\"Weight\"].hist()"
   ]
  },
  {
   "cell_type": "markdown",
   "id": "91a03827",
   "metadata": {},
   "source": [
    "#### TODO\n",
    "Plot a histogram of the **Index** column to see how many individuals are in each group."
   ]
  },
  {
   "cell_type": "code",
   "execution_count": 24,
   "id": "9a2faf7c",
   "metadata": {},
   "outputs": [
    {
     "data": {
      "text/plain": [
       "<AxesSubplot:>"
      ]
     },
     "execution_count": 24,
     "metadata": {},
     "output_type": "execute_result"
    },
    {
     "data": {
      "image/png": "[encoded data removed]",
      "text/plain": [
       "<Figure size 432x288 with 1 Axes>"
      ]
     },
     "metadata": {
      "needs_background": "light"
     },
     "output_type": "display_data"
    }
   ],
   "source": [
    "df[\"Index\"].hist()"
   ]
  },
  {
   "cell_type": "markdown",
   "id": "7b0cbb40",
   "metadata": {},
   "source": [
    "We can plot a **box plot** to see how the numeric columns are distributed within a categorical variable. For example, the code below first groups by **\"Index\"** and puts those on the x-axis, then plots the distribution of height and weight on the y-axis. What patterns does this visualization reveal?"
   ]
  },
  {
   "cell_type": "code",
   "execution_count": 25,
   "id": "ed29a000",
   "metadata": {},
   "outputs": [
    {
     "data": {
      "text/plain": [
       "Height       AxesSubplot(0.125,0.125;0.352273x0.755)\n",
       "Weight    AxesSubplot(0.547727,0.125;0.352273x0.755)\n",
       "dtype: object"
      ]
     },
     "execution_count": 25,
     "metadata": {},
     "output_type": "execute_result"
    },
    {
     "data": {
      "image/png": "[encoded data removed]",
      "text/plain": [
       "<Figure size 432x288 with 2 Axes>"
      ]
     },
     "metadata": {
      "needs_background": "light"
     },
     "output_type": "display_data"
    }
   ],
   "source": [
    "df.plot.box(\"Index\")"
   ]
  },
  {
   "cell_type": "markdown",
   "id": "5a5433f1",
   "metadata": {},
   "source": [
    "We could also plot individual pairs using `seaborn`:"
   ]
  },
  {
   "cell_type": "code",
   "execution_count": 124,
   "id": "8aa7229d",
   "metadata": {},
   "outputs": [
    {
     "data": {
      "text/plain": [
       "<AxesSubplot:xlabel='Index', ylabel='Height'>"
      ]
     },
     "execution_count": 124,
     "metadata": {},
     "output_type": "execute_result"
    },
    {
     "data": {
      "image/png": "[encoded data removed]",
      "text/plain": [
       "<Figure size 432x288 with 1 Axes>"
      ]
     },
     "metadata": {
      "needs_background": "light"
     },
     "output_type": "display_data"
    }
   ],
   "source": [
    "sns.boxplot(x=\"Index\", y=\"Height\", data=df)"
   ]
  },
  {
   "cell_type": "code",
   "execution_count": 125,
   "id": "580d3463",
   "metadata": {},
   "outputs": [
    {
     "data": {
      "text/plain": [
       "<AxesSubplot:xlabel='Index', ylabel='Weight'>"
      ]
     },
     "execution_count": 125,
     "metadata": {},
     "output_type": "execute_result"
    },
    {
     "data": {
      "image/png": "[encoded data removed]",
      "text/plain": [
       "<Figure size 432x288 with 1 Axes>"
      ]
     },
     "metadata": {
      "needs_background": "light"
     },
     "output_type": "display_data"
    }
   ],
   "source": [
    "sns.boxplot(x=\"Index\", y=\"Weight\", data=df)"
   ]
  },
  {
   "cell_type": "markdown",
   "id": "521a9f22",
   "metadata": {},
   "source": [
    "#### TODO\n",
    "Plot box plots of height and weight with **\"Gender\"** on the x-axis. Use either `seaborn` or `pandas`."
   ]
  },
  {
   "cell_type": "code",
   "execution_count": 26,
   "id": "360f620c",
   "metadata": {},
   "outputs": [
    {
     "data": {
      "text/plain": [
       "Height       AxesSubplot(0.125,0.125;0.352273x0.755)\n",
       "Weight    AxesSubplot(0.547727,0.125;0.352273x0.755)\n",
       "dtype: object"
      ]
     },
     "execution_count": 26,
     "metadata": {},
     "output_type": "execute_result"
    },
    {
     "data": {
      "image/png": "[encoded data removed]",
      "text/plain": [
       "<Figure size 432x288 with 2 Axes>"
      ]
     },
     "metadata": {
      "needs_background": "light"
     },
     "output_type": "display_data"
    }
   ],
   "source": [
    "df[[\"Height\", \"Weight\", \"Gender\"]].plot.box(\"Gender\")"
   ]
  },
  {
   "cell_type": "code",
   "execution_count": 126,
   "id": "acad806e",
   "metadata": {},
   "outputs": [
    {
     "data": {
      "text/plain": [
       "<AxesSubplot:xlabel='Gender', ylabel='Height'>"
      ]
     },
     "execution_count": 126,
     "metadata": {},
     "output_type": "execute_result"
    },
    {
     "data": {
      "image/png": "[encoded data removed]",
      "text/plain": [
       "<Figure size 432x288 with 1 Axes>"
      ]
     },
     "metadata": {
      "needs_background": "light"
     },
     "output_type": "display_data"
    }
   ],
   "source": [
    "sns.boxplot(x=\"Gender\", y=\"Height\", data=df)"
   ]
  },
  {
   "cell_type": "code",
   "execution_count": 127,
   "id": "d1519451",
   "metadata": {},
   "outputs": [
    {
     "data": {
      "text/plain": [
       "<AxesSubplot:xlabel='Gender', ylabel='Weight'>"
      ]
     },
     "execution_count": 127,
     "metadata": {},
     "output_type": "execute_result"
    },
    {
     "data": {
      "image/png": "[encoded data removed]",
      "text/plain": [
       "<Figure size 432x288 with 1 Axes>"
      ]
     },
     "metadata": {
      "needs_background": "light"
     },
     "output_type": "display_data"
    }
   ],
   "source": [
    "sns.boxplot(x=\"Gender\", y=\"Weight\", data=df)"
   ]
  },
  {
   "cell_type": "markdown",
   "id": "091dc943",
   "metadata": {},
   "source": [
    "We can also plot two columns against each other in a scatterplot. This is helpful for assessing if there is any correlation between the two variables."
   ]
  },
  {
   "cell_type": "code",
   "execution_count": 129,
   "id": "0d056134",
   "metadata": {
    "scrolled": true
   },
   "outputs": [
    {
     "name": "stderr",
     "output_type": "stream",
     "text": [
      "*c* argument looks like a single numeric RGB or RGBA sequence, which should be avoided as value-mapping will have precedence in case its length matches with *x* & *y*.  Please use the *color* keyword-argument or provide a 2D array with a single row if you intend to specify the same RGB or RGBA value for all points.\n"
     ]
    },
    {
     "data": {
      "text/plain": [
       "<AxesSubplot:xlabel='Height', ylabel='Weight'>"
      ]
     },
     "execution_count": 129,
     "metadata": {},
     "output_type": "execute_result"
    },
    {
     "data": {
      "image/png": "[encoded data removed]",
      "text/plain": [
       "<Figure size 432x288 with 1 Axes>"
      ]
     },
     "metadata": {
      "needs_background": "light"
     },
     "output_type": "display_data"
    }
   ],
   "source": [
    "df.plot.scatter(x=\"Height\", y=\"Weight\")"
   ]
  },
  {
   "cell_type": "markdown",
   "id": "6e002c1f",
   "metadata": {},
   "source": [
    "We can also quantify this correlation with the `.corr()` method. What does this value and the plot above tell you about the correlation of height and weight? Does that surprise you?"
   ]
  },
  {
   "cell_type": "code",
   "execution_count": 130,
   "id": "f42e98be",
   "metadata": {},
   "outputs": [
    {
     "data": {
      "text/plain": [
       "0.00044594512830535104"
      ]
     },
     "execution_count": 130,
     "metadata": {},
     "output_type": "execute_result"
    }
   ],
   "source": [
    "df[\"Height\"].corr(df[\"Weight\"])"
   ]
  },
  {
   "cell_type": "markdown",
   "id": "44311ab9",
   "metadata": {},
   "source": [
    "It can useful to break the data up into subgroups to see if any of the trends differ.\n",
    "\n",
    "#### TODO\n",
    "Let's see if there is the correlation between height and weight looks any different in different `Index` groups. For each of levels **1**, **3**, and **5**, create a new DataFrame which is filtered to only include patients within that group. Then create a scatter plot of height and weight within each group and calculate the correlation.\n"
   ]
  },
  {
   "cell_type": "code",
   "execution_count": 131,
   "id": "f77aa382",
   "metadata": {},
   "outputs": [],
   "source": [
    "df_index1 = df.query(\"Index == 1\")\n",
    "df_index3 = df.query(\"Index == 3\")\n",
    "df_index5 = df.query(\"Index == 5\")"
   ]
  },
  {
   "cell_type": "code",
   "execution_count": 132,
   "id": "d578a301",
   "metadata": {},
   "outputs": [
    {
     "name": "stderr",
     "output_type": "stream",
     "text": [
      "*c* argument looks like a single numeric RGB or RGBA sequence, which should be avoided as value-mapping will have precedence in case its length matches with *x* & *y*.  Please use the *color* keyword-argument or provide a 2D array with a single row if you intend to specify the same RGB or RGBA value for all points.\n"
     ]
    },
    {
     "data": {
      "text/plain": [
       "<AxesSubplot:xlabel='Height', ylabel='Weight'>"
      ]
     },
     "execution_count": 132,
     "metadata": {},
     "output_type": "execute_result"
    },
    {
     "data": {
      "image/png": "[encoded data removed]",
      "text/plain": [
       "<Figure size 432x288 with 1 Axes>"
      ]
     },
     "metadata": {
      "needs_background": "light"
     },
     "output_type": "display_data"
    }
   ],
   "source": [
    "df_index1.plot.scatter(x=\"Height\", y=\"Weight\")"
   ]
  },
  {
   "cell_type": "code",
   "execution_count": 133,
   "id": "013bfc64",
   "metadata": {},
   "outputs": [
    {
     "data": {
      "text/plain": [
       "0.8945424454209588"
      ]
     },
     "execution_count": 133,
     "metadata": {},
     "output_type": "execute_result"
    }
   ],
   "source": [
    "df_index1[\"Height\"].corr(df_index1[\"Weight\"])"
   ]
  },
  {
   "cell_type": "code",
   "execution_count": 134,
   "id": "4b7734eb",
   "metadata": {},
   "outputs": [
    {
     "name": "stderr",
     "output_type": "stream",
     "text": [
      "*c* argument looks like a single numeric RGB or RGBA sequence, which should be avoided as value-mapping will have precedence in case its length matches with *x* & *y*.  Please use the *color* keyword-argument or provide a 2D array with a single row if you intend to specify the same RGB or RGBA value for all points.\n"
     ]
    },
    {
     "data": {
      "text/plain": [
       "<AxesSubplot:xlabel='Height', ylabel='Weight'>"
      ]
     },
     "execution_count": 134,
     "metadata": {},
     "output_type": "execute_result"
    },
    {
     "data": {
      "image/png": "[encoded data removed]",
      "text/plain": [
       "<Figure size 432x288 with 1 Axes>"
      ]
     },
     "metadata": {
      "needs_background": "light"
     },
     "output_type": "display_data"
    }
   ],
   "source": [
    "df_index3.plot.scatter(x=\"Height\", y=\"Weight\")"
   ]
  },
  {
   "cell_type": "code",
   "execution_count": 135,
   "id": "0d57339a",
   "metadata": {},
   "outputs": [
    {
     "data": {
      "text/plain": [
       "0.9132308729906881"
      ]
     },
     "execution_count": 135,
     "metadata": {},
     "output_type": "execute_result"
    }
   ],
   "source": [
    "df_index3[\"Height\"].corr(df_index3[\"Weight\"])"
   ]
  },
  {
   "cell_type": "code",
   "execution_count": 136,
   "id": "28d9fdc9",
   "metadata": {},
   "outputs": [
    {
     "name": "stderr",
     "output_type": "stream",
     "text": [
      "*c* argument looks like a single numeric RGB or RGBA sequence, which should be avoided as value-mapping will have precedence in case its length matches with *x* & *y*.  Please use the *color* keyword-argument or provide a 2D array with a single row if you intend to specify the same RGB or RGBA value for all points.\n"
     ]
    },
    {
     "data": {
      "text/plain": [
       "<AxesSubplot:xlabel='Height', ylabel='Weight'>"
      ]
     },
     "execution_count": 136,
     "metadata": {},
     "output_type": "execute_result"
    },
    {
     "data": {
      "image/png": "[encoded data removed]",
      "text/plain": [
       "<Figure size 432x288 with 1 Axes>"
      ]
     },
     "metadata": {
      "needs_background": "light"
     },
     "output_type": "display_data"
    }
   ],
   "source": [
    "df_index5.plot.scatter(x=\"Height\", y=\"Weight\")"
   ]
  },
  {
   "cell_type": "code",
   "execution_count": 137,
   "id": "5dc6b5f2",
   "metadata": {
    "scrolled": true
   },
   "outputs": [
    {
     "name": "stderr",
     "output_type": "stream",
     "text": [
      "*c* argument looks like a single numeric RGB or RGBA sequence, which should be avoided as value-mapping will have precedence in case its length matches with *x* & *y*.  Please use the *color* keyword-argument or provide a 2D array with a single row if you intend to specify the same RGB or RGBA value for all points.\n"
     ]
    },
    {
     "data": {
      "text/plain": [
       "<AxesSubplot:xlabel='Height', ylabel='Weight'>"
      ]
     },
     "execution_count": 137,
     "metadata": {},
     "output_type": "execute_result"
    },
    {
     "data": {
      "image/png": "[encoded data removed]",
      "text/plain": [
       "<Figure size 432x288 with 1 Axes>"
      ]
     },
     "metadata": {
      "needs_background": "light"
     },
     "output_type": "display_data"
    }
   ],
   "source": [
    "df.query(\"Index == 3\").plot.scatter(x=\"Height\", y=\"Weight\")"
   ]
  },
  {
   "cell_type": "code",
   "execution_count": 138,
   "id": "1f3d0ab9",
   "metadata": {},
   "outputs": [
    {
     "name": "stderr",
     "output_type": "stream",
     "text": [
      "*c* argument looks like a single numeric RGB or RGBA sequence, which should be avoided as value-mapping will have precedence in case its length matches with *x* & *y*.  Please use the *color* keyword-argument or provide a 2D array with a single row if you intend to specify the same RGB or RGBA value for all points.\n"
     ]
    },
    {
     "data": {
      "text/plain": [
       "<AxesSubplot:xlabel='Height', ylabel='Weight'>"
      ]
     },
     "execution_count": 138,
     "metadata": {},
     "output_type": "execute_result"
    },
    {
     "data": {
      "image/png": "[encoded data removed]",
      "text/plain": [
       "<Figure size 432x288 with 1 Axes>"
      ]
     },
     "metadata": {
      "needs_background": "light"
     },
     "output_type": "display_data"
    }
   ],
   "source": [
    "df.query(\"Index == 5\").plot.scatter(x=\"Height\", y=\"Weight\", )"
   ]
  },
  {
   "cell_type": "code",
   "execution_count": 139,
   "id": "bf4c0c22",
   "metadata": {},
   "outputs": [
    {
     "data": {
      "text/plain": [
       "0.5040127029205534"
      ]
     },
     "execution_count": 139,
     "metadata": {},
     "output_type": "execute_result"
    }
   ],
   "source": [
    "df_index5[\"Height\"].corr(df_index5[\"Weight\"])"
   ]
  },
  {
   "cell_type": "code",
   "execution_count": null,
   "id": "6f7a6625",
   "metadata": {},
   "outputs": [],
   "source": []
  },
  {
   "cell_type": "code",
   "execution_count": null,
   "id": "64721e01",
   "metadata": {},
   "outputs": [],
   "source": []
  },
  {
   "cell_type": "markdown",
   "id": "c83d760f",
   "metadata": {},
   "source": [
    "## Creating new columns\n",
    "We can also add new columns to a DataFrame, often constructed using the other variables.\n",
    "\n",
    "We can create a new column by saying:\n",
    "```python\n",
    "df[\"column_name\"] = value\n",
    "```\n",
    "\n",
    "The value value a single scalar, a list, a series, etc. Unless it's a scalar, it needs to be the same length as the DataFrame.\n",
    "\n",
    "#### TODO\n",
    "Square the **Height** column of `df` and save it as a new column called `\"height_sqrd\"`"
   ]
  },
  {
   "cell_type": "code",
   "execution_count": 140,
   "id": "2d9ce0cd",
   "metadata": {},
   "outputs": [],
   "source": [
    "df[\"height_sqrd\"] = (df[\"Height\"] ** 2)"
   ]
  },
  {
   "cell_type": "code",
   "execution_count": 141,
   "id": "791fa590",
   "metadata": {},
   "outputs": [
    {
     "data": {
      "text/html": [
       "<div>\n",
       "<style scoped>\n",
       "    .dataframe tbody tr th:only-of-type {\n",
       "        vertical-align: middle;\n",
       "    }\n",
       "\n",
       "    .dataframe tbody tr th {\n",
       "        vertical-align: top;\n",
       "    }\n",
       "\n",
       "    .dataframe thead th {\n",
       "        text-align: right;\n",
       "    }\n",
       "</style>\n",
       "<table border=\"1\" class=\"dataframe\">\n",
       "  <thead>\n",
       "    <tr style=\"text-align: right;\">\n",
       "      <th></th>\n",
       "      <th>Gender</th>\n",
       "      <th>Height</th>\n",
       "      <th>Weight</th>\n",
       "      <th>Index</th>\n",
       "      <th>height_sqrd</th>\n",
       "      <th>bmi</th>\n",
       "    </tr>\n",
       "  </thead>\n",
       "  <tbody>\n",
       "    <tr>\n",
       "      <th>0</th>\n",
       "      <td>Male</td>\n",
       "      <td>174</td>\n",
       "      <td>96</td>\n",
       "      <td>4</td>\n",
       "      <td>30276</td>\n",
       "      <td>31.708284</td>\n",
       "    </tr>\n",
       "    <tr>\n",
       "      <th>1</th>\n",
       "      <td>Male</td>\n",
       "      <td>189</td>\n",
       "      <td>87</td>\n",
       "      <td>2</td>\n",
       "      <td>35721</td>\n",
       "      <td>24.355421</td>\n",
       "    </tr>\n",
       "    <tr>\n",
       "      <th>2</th>\n",
       "      <td>Female</td>\n",
       "      <td>185</td>\n",
       "      <td>110</td>\n",
       "      <td>4</td>\n",
       "      <td>34225</td>\n",
       "      <td>32.140248</td>\n",
       "    </tr>\n",
       "    <tr>\n",
       "      <th>3</th>\n",
       "      <td>Female</td>\n",
       "      <td>195</td>\n",
       "      <td>104</td>\n",
       "      <td>3</td>\n",
       "      <td>38025</td>\n",
       "      <td>27.350427</td>\n",
       "    </tr>\n",
       "    <tr>\n",
       "      <th>4</th>\n",
       "      <td>Male</td>\n",
       "      <td>149</td>\n",
       "      <td>61</td>\n",
       "      <td>3</td>\n",
       "      <td>22201</td>\n",
       "      <td>27.476240</td>\n",
       "    </tr>\n",
       "  </tbody>\n",
       "</table>\n",
       "</div>"
      ],
      "text/plain": [
       "   Gender  Height  Weight  Index  height_sqrd        bmi\n",
       "0    Male     174      96      4        30276  31.708284\n",
       "1    Male     189      87      2        35721  24.355421\n",
       "2  Female     185     110      4        34225  32.140248\n",
       "3  Female     195     104      3        38025  27.350427\n",
       "4    Male     149      61      3        22201  27.476240"
      ]
     },
     "execution_count": 141,
     "metadata": {},
     "output_type": "execute_result"
    }
   ],
   "source": [
    "df.head()"
   ]
  },
  {
   "cell_type": "markdown",
   "id": "7afb8566",
   "metadata": {},
   "source": [
    "Let's use the height and weight columns to create a new column with **BMI** measurements. BMI is calculated from height and weight using this equation:\n",
    "\n",
    "$$BMI = \\frac{Weight (kg)}{Height (m) ^ 2}$$\n",
    "\n",
    "#### TODO\n",
    "To get the BMI measurement, we'll need to go through a few steps:\n",
    "1. Convert **Height** from centimers to meters. We'll save this as a new variabled called `height_m`\n",
    "2. Square the **Height in meters** column. Save this as a variable `height_m_sqrd`\n",
    "3. Divide the **Weight** column by the **Height in meters** column. Save this as a variabled called `bmi`\n",
    "4. Assign the result to a new column in `df` called `\"bmi\"` and plot it in a histogram."
   ]
  },
  {
   "cell_type": "code",
   "execution_count": 142,
   "id": "fc2db265",
   "metadata": {},
   "outputs": [
    {
     "data": {
      "text/plain": [
       "0      True\n",
       "1      True\n",
       "2      True\n",
       "3      True\n",
       "4      True\n",
       "       ... \n",
       "495    True\n",
       "496    True\n",
       "497    True\n",
       "498    True\n",
       "499    True\n",
       "Length: 500, dtype: bool"
      ]
     },
     "execution_count": 142,
     "metadata": {},
     "output_type": "execute_result"
    }
   ],
   "source": [
    "df[\"height_sqrd\"] / df[\"Height\"] == df[\"Height\"]"
   ]
  },
  {
   "cell_type": "code",
   "execution_count": 143,
   "id": "64b38680",
   "metadata": {},
   "outputs": [
    {
     "data": {
      "text/plain": [
       "0      1.74\n",
       "1      1.89\n",
       "2      1.85\n",
       "3      1.95\n",
       "4      1.49\n",
       "       ... \n",
       "495    1.50\n",
       "496    1.84\n",
       "497    1.41\n",
       "498    1.50\n",
       "499    1.73\n",
       "Name: Height, Length: 500, dtype: float64"
      ]
     },
     "execution_count": 143,
     "metadata": {},
     "output_type": "execute_result"
    }
   ],
   "source": [
    "height_m = df[\"Height\"] / 100\n",
    "height_m"
   ]
  },
  {
   "cell_type": "code",
   "execution_count": 144,
   "id": "58f897b1",
   "metadata": {},
   "outputs": [
    {
     "data": {
      "text/plain": [
       "0      3.0276\n",
       "1      3.5721\n",
       "2      3.4225\n",
       "3      3.8025\n",
       "4      2.2201\n",
       "        ...  \n",
       "495    2.2500\n",
       "496    3.3856\n",
       "497    1.9881\n",
       "498    2.2500\n",
       "499    2.9929\n",
       "Name: Height, Length: 500, dtype: float64"
      ]
     },
     "execution_count": 144,
     "metadata": {},
     "output_type": "execute_result"
    }
   ],
   "source": [
    "height_m_sqrd = height_m ** 2\n",
    "height_m_sqrd"
   ]
  },
  {
   "cell_type": "code",
   "execution_count": 145,
   "id": "0ad2b05c",
   "metadata": {},
   "outputs": [
    {
     "data": {
      "text/plain": [
       "0      31.708284\n",
       "1      24.355421\n",
       "2      32.140248\n",
       "3      27.350427\n",
       "4      27.476240\n",
       "         ...    \n",
       "495    68.000000\n",
       "496    35.739603\n",
       "497    68.407022\n",
       "498    42.222222\n",
       "499    43.770256\n",
       "Name: bmi, Length: 500, dtype: float64"
      ]
     },
     "execution_count": 145,
     "metadata": {},
     "output_type": "execute_result"
    }
   ],
   "source": [
    "df[\"bmi\"] = df[\"Weight\"] / height_m_sqrd\n",
    "df[\"bmi\"]"
   ]
  },
  {
   "cell_type": "code",
   "execution_count": 148,
   "id": "8191f559",
   "metadata": {},
   "outputs": [
    {
     "data": {
      "text/plain": [
       "<AxesSubplot:>"
      ]
     },
     "execution_count": 148,
     "metadata": {},
     "output_type": "execute_result"
    },
    {
     "data": {
      "image/png": "[encoded data removed]",
      "text/plain": [
       "<Figure size 432x288 with 1 Axes>"
      ]
     },
     "metadata": {
      "needs_background": "light"
     },
     "output_type": "display_data"
    }
   ],
   "source": [
    "df[\"bmi\"].hist()"
   ]
  },
  {
   "cell_type": "code",
   "execution_count": null,
   "id": "8cd42ca1",
   "metadata": {},
   "outputs": [],
   "source": []
  },
  {
   "cell_type": "code",
   "execution_count": 118,
   "id": "82b7e193",
   "metadata": {},
   "outputs": [],
   "source": [
    "def test_bmi_validation_func(actual):\n",
    "    import pandas as pd\n",
    "    import numpy as np\n",
    "    if not isinstance(actual, pd.Series):\n",
    "        print(f\"Check the datatype of bmi. Expected a pandas Series, got {type(actual)}\")\n",
    "    if len(actual) != 500:\n",
    "        print(f\"Expected 500 rows, got {len(actual)}\")\n",
    "    expected_values = np.array([31.70828379, 24.35542118, 32.14024836, 27.35042735, 27.47623981])\n",
    "    if not all(np.round(expected_values, 5) == np.round(actual.values[:len(expected_values)], 5)):\n",
    "        print(f\"The first 5 rows of bmi don't match. \\nExpected {expected[:5]}. \\nGot {actual.iloc[:5].values}\")\n",
    "    print(\"That is correct!\")"
   ]
  },
  {
   "cell_type": "code",
   "execution_count": null,
   "id": "8af58b84",
   "metadata": {},
   "outputs": [],
   "source": []
  },
  {
   "cell_type": "code",
   "execution_count": 119,
   "id": "7124ccb4",
   "metadata": {},
   "outputs": [],
   "source": [
    "test_bmi = ValueTest(validation_func = test_bmi_validation_func)"
   ]
  },
  {
   "cell_type": "code",
   "execution_count": 120,
   "id": "684bfea0",
   "metadata": {},
   "outputs": [
    {
     "name": "stdout",
     "output_type": "stream",
     "text": [
      "That is correct!\n"
     ]
    }
   ],
   "source": [
    "test_bmi.test(df[\"bmi\"])"
   ]
  },
  {
   "cell_type": "code",
   "execution_count": null,
   "id": "164f53c1",
   "metadata": {},
   "outputs": [],
   "source": []
  }
 ],
 "metadata": {
  "kernelspec": {
   "display_name": "Python 3 (ipykernel)",
   "language": "python",
   "name": "python3"
  },
  "language_info": {
   "codemirror_mode": {
    "name": "ipython",
    "version": 3
   },
   "file_extension": ".py",
   "mimetype": "text/x-python",
   "name": "python",
   "nbconvert_exporter": "python",
   "pygments_lexer": "ipython3",
   "version": "3.9.12"
  }
 },
 "nbformat": 4,
 "nbformat_minor": 5
}
