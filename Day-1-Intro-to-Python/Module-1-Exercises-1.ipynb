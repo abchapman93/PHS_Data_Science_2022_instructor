{
 "cells": [
  {
   "cell_type": "markdown",
   "id": "ea180a71",
   "metadata": {},
   "source": [
    "<html>\n",
    "<table width=\"100%\" cellspacing=\"2\" cellpadding=\"2\" border=\"1\">\n",
    "<tbody>\n",
    "<tr>\n",
    "<td valign=\"center\" align=\"center\" width=\"45%\"><img src=\"../media/Univ-Utah.jpeg\"><br>\n",
    "</td>\n",
    "    <td valign=\"center\" align=\"center\" width=\"75%\">\n",
    "<h1 align=\"center\"><font size=\"+1\">University of Utah<br>Population Health Sciences<br>Data Science Workshop</font></h1></td>\n",
    "<td valign=\"center\" align=\"center\" width=\"45%\"><img\n",
    "src=\"../media/U_Health_stacked_png_red.png\" alt=\"Utah Health\n",
    "Logo\" width=\"128\" height=\"134\"><br>\n",
    "</td>\n",
    "</tr>\n",
    "</tbody>\n",
    "</table>\n",
    "<br>\n",
    "</html>\n"
   ]
  },
  {
   "cell_type": "code",
   "execution_count": 3,
   "id": "fb703858",
   "metadata": {},
   "outputs": [],
   "source": [
    "from helpers import *"
   ]
  },
  {
   "cell_type": "markdown",
   "id": "6434d112",
   "metadata": {},
   "source": [
    "# Module 1 Exercises Part 1\n",
    "We have covered a lot of material so far! Before moving on to the remainder of the module, we'll do some exercises which will review and apply the skills we've learned so far. These exercises will cover the following topics:\n",
    "\n",
    "1. Variables and data types\n",
    "2. Writing and using functions\n",
    "3. Control statements\n",
    "4. For-loops\n",
    "5. Data structures\n"
   ]
  },
  {
   "cell_type": "markdown",
   "id": "f8f5ee40",
   "metadata": {},
   "source": [
    "## Exercise 1: Emergency room roster\n",
    "Let's again go back to our roster of emergency room patients. Here is the recorded information for each patient:\n",
    "\n",
    "| name | arrival_time | age | severity |\n",
    "|------|--------------|-----|----------|\n",
    "|   Jim   |      6:00        |  40   |     40     |\n",
    "|   Mary   |       6:30       | 31   |     10     |\n",
    "|   Rachel   |        7:00      |   27  |    20      |\n",
    "|    Laura  |        7:30      |   38  |     15     |\n",
    "|   Chloe   |         8:00     |   25  |     50     |"
   ]
  },
  {
   "cell_type": "markdown",
   "id": "73633d32",
   "metadata": {},
   "source": [
    "### Exercise 1.1\n",
    "Below is variable called `pt_roster` which will allow us to look up arrival time, age, and severity by name. Answer the three multichoice questions about this variable."
   ]
  },
  {
   "cell_type": "code",
   "execution_count": 162,
   "id": "f632d633",
   "metadata": {},
   "outputs": [],
   "source": [
    "pt_roster = {\n",
    "    \"Jim\": {\n",
    "        \"arrival_time\": \"6:00\",\n",
    "        \"age\": 40,\n",
    "        \"severity\": 40,\n",
    "    },\n",
    "    \"Mary\": {\n",
    "        \"arrival_time\": \"6:30\",\n",
    "        \"age\": 31,\n",
    "        \"severity\": 10,\n",
    "    },\n",
    "    \"Rachel\": {\n",
    "        \"arrival_time\": \"7:00\",\n",
    "        \"age\": 27,\n",
    "        \"severity\": 20,\n",
    "    },\n",
    "    \"Laura\": {\n",
    "        \"arrival_time\": \"7:30\",\n",
    "        \"age\": 38,\n",
    "        \"severity\": 15,\n",
    "    },\n",
    "    \"Chloe\": {\n",
    "        \"arrival_time\": \"8:00\",\n",
    "        \"age\": 25,\n",
    "        \"severity\": 50,\n",
    "    }\n",
    "}"
   ]
  },
  {
   "cell_type": "code",
   "execution_count": 168,
   "id": "31ab069d",
   "metadata": {},
   "outputs": [
    {
     "data": {
      "application/vnd.jupyter.widget-view+json": {
       "model_id": "5f0f44f03d2440cca247c9772d5b4980",
       "version_major": 2,
       "version_minor": 0
      },
      "text/plain": [
       "VBox(children=(HTML(value='What data type is `test_pt_roster`?'), RadioButtons(options=('list', 'dict', 'set',…"
      ]
     },
     "metadata": {},
     "output_type": "display_data"
    },
    {
     "data": {
      "text/plain": []
     },
     "execution_count": 168,
     "metadata": {},
     "output_type": "execute_result"
    }
   ],
   "source": [
    "MultipleChoiceQuiz(description=\"What data type is `test_pt_roster`?\", answer=\"dict\", \n",
    "                   options=[\"dict\", \"list\", \"set\", \"int\"])\n"
   ]
  },
  {
   "cell_type": "code",
   "execution_count": 169,
   "id": "27c504fb",
   "metadata": {},
   "outputs": [
    {
     "data": {
      "application/vnd.jupyter.widget-view+json": {
       "model_id": "a5409b7efadb4976b1983008b9aacbb8",
       "version_major": 2,
       "version_minor": 0
      },
      "text/plain": [
       "VBox(children=(HTML(value='What data type is `test_pt_roster[\"Rachel\"]`?'), RadioButtons(options=('set', 'list…"
      ]
     },
     "metadata": {},
     "output_type": "display_data"
    },
    {
     "data": {
      "text/plain": []
     },
     "execution_count": 169,
     "metadata": {},
     "output_type": "execute_result"
    }
   ],
   "source": [
    "MultipleChoiceQuiz(description='What data type is `test_pt_roster[\"Rachel\"]`?', answer=\"dict\", \n",
    "                   options=[\"dict\", \"list\", \"set\", \"int\"])"
   ]
  },
  {
   "cell_type": "code",
   "execution_count": 172,
   "id": "64ac171f",
   "metadata": {},
   "outputs": [
    {
     "data": {
      "application/vnd.jupyter.widget-view+json": {
       "model_id": "adc3ebacce8f4d49a86369c9f89766e8",
       "version_major": 2,
       "version_minor": 0
      },
      "text/plain": [
       "VBox(children=(HTML(value='What data type is `test_pt_roster[\"Rachel\"][\"severity\"]`?'), RadioButtons(options=(…"
      ]
     },
     "metadata": {},
     "output_type": "display_data"
    },
    {
     "data": {
      "text/plain": []
     },
     "execution_count": 172,
     "metadata": {},
     "output_type": "execute_result"
    }
   ],
   "source": [
    "MultipleChoiceQuiz(description='What data type is `test_pt_roster[\"Rachel\"][\"severity\"]`?', answer=\"int\", \n",
    "                   options=[\"dict\", \"list\", \"set\", \"int\"])"
   ]
  },
  {
   "cell_type": "code",
   "execution_count": 4,
   "id": "e49ca496",
   "metadata": {},
   "outputs": [],
   "source": [
    "test_pt_roster = ValueTest(expected={\n",
    "    \"Jim\": {\n",
    "        \"arrival_time\": \"6:00\",\n",
    "        \"age\": 40,\n",
    "        \"severity\": 40,\n",
    "    },\n",
    "    \"Mary\": {\n",
    "        \"arrival_time\": \"6:30\",\n",
    "        \"age\": 31,\n",
    "        \"severity\": 10,\n",
    "    },\n",
    "    \"Rachel\": {\n",
    "        \"arrival_time\": \"7:00\",\n",
    "        \"age\": 27,\n",
    "        \"severity\": 20,\n",
    "    },\n",
    "    \"Laura\": {\n",
    "        \"arrival_time\": \"7:30\",\n",
    "        \"age\": 38,\n",
    "        \"severity\": 15,\n",
    "    },\n",
    "    \"Chloe\": {\n",
    "        \"arrival_time\": \"8:00\",\n",
    "        \"age\": 25,\n",
    "        \"severity\": 50,\n",
    "    }\n",
    "})"
   ]
  },
  {
   "cell_type": "code",
   "execution_count": 5,
   "id": "440e39fc",
   "metadata": {},
   "outputs": [
    {
     "name": "stdout",
     "output_type": "stream",
     "text": [
      "That is correct!\n"
     ]
    }
   ],
   "source": [
    "test_pt_roster.test(pt_roster)"
   ]
  },
  {
   "cell_type": "markdown",
   "id": "4833b3ed",
   "metadata": {},
   "source": [
    "### Exercise 1.2\n",
    "What code would give you Rachel's age and Laura's arrival time?"
   ]
  },
  {
   "cell_type": "code",
   "execution_count": 14,
   "id": "c904aa1f",
   "metadata": {},
   "outputs": [
    {
     "data": {
      "application/vnd.jupyter.widget-view+json": {
       "model_id": "2d7c83878871443889b40e79e5956e76",
       "version_major": 2,
       "version_minor": 0
      },
      "text/plain": [
       "VBox(children=(HTML(value=\"What code would give you Rachel's age?\"), Textarea(value='', placeholder='Type some…"
      ]
     },
     "metadata": {},
     "output_type": "display_data"
    },
    {
     "data": {
      "text/plain": []
     },
     "execution_count": 14,
     "metadata": {},
     "output_type": "execute_result"
    }
   ],
   "source": [
    "test_rachel_age = FreeTextTest(\"What code would give you Rachel's age?\", answer='pt_roster[\"Rachel\"][\"age\"]')\n",
    "test_rachel_age"
   ]
  },
  {
   "cell_type": "code",
   "execution_count": 19,
   "id": "4561142c",
   "metadata": {},
   "outputs": [
    {
     "data": {
      "application/vnd.jupyter.widget-view+json": {
       "model_id": "c4a2c3af583e4ce5a678c9668b08f44e",
       "version_major": 2,
       "version_minor": 0
      },
      "text/plain": [
       "VBox(children=(HTML(value=\"What code would give you Laura's arrival time?\"), Textarea(value='', placeholder='T…"
      ]
     },
     "metadata": {},
     "output_type": "display_data"
    },
    {
     "data": {
      "text/plain": []
     },
     "execution_count": 19,
     "metadata": {},
     "output_type": "execute_result"
    }
   ],
   "source": [
    "test_laura_time = FreeTextTest(\"What code would give you Laura's arrival time?\", answer='pt_roster[\"Laura\"][\"arrival_time\"]')\n",
    "test_laura_time"
   ]
  },
  {
   "cell_type": "markdown",
   "id": "e4f7b8c8",
   "metadata": {},
   "source": [
    "### Exercise 1.3\n",
    "Write code to find the names of the patients with the lowest and highest severity scores. There are a few different ways of doing this, so there's no quiz here to check your answer.\n",
    "\n",
    "**Hint** todo add a hint button"
   ]
  },
  {
   "cell_type": "code",
   "execution_count": 188,
   "id": "224aae47",
   "metadata": {},
   "outputs": [
    {
     "name": "stdout",
     "output_type": "stream",
     "text": [
      "[('Mary', {'arrival_time': '6:30', 'age': 31, 'severity': 10}), ('Laura', {'arrival_time': '7:30', 'age': 38, 'severity': 15}), ('Rachel', {'arrival_time': '7:00', 'age': 27, 'severity': 20}), ('Jim', {'arrival_time': '6:00', 'age': 40, 'severity': 40}), ('Chloe', {'arrival_time': '8:00', 'age': 25, 'severity': 50})]\n",
      "\n",
      "Name of patient with lowest severity: Mary\n",
      "Name of patient with highest severity: Chloe\n"
     ]
    }
   ],
   "source": [
    "# Option 1. Sort the dictionary by severity order, then take the first and last values\n",
    "pt_roster_srtd_sev = sorted(pt_roster.items(), key=lambda x:x[1][\"severity\"])\n",
    "print(pt_roster_srtd_sev)\n",
    "print()\n",
    "print(\"Name of patient with lowest severity:\", pt_roster_srtd_sev[0][0])\n",
    "print(\"Name of patient with highest severity:\", pt_roster_srtd_sev[-1][0])"
   ]
  },
  {
   "cell_type": "code",
   "execution_count": 192,
   "id": "708a3a25",
   "metadata": {},
   "outputs": [
    {
     "name": "stdout",
     "output_type": "stream",
     "text": [
      "Name of lowest severity individual: Mary\n",
      "Name of highest severity individual: Chloe\n"
     ]
    }
   ],
   "source": [
    "# Option 2. Use a for-loop to go through each person and check if their values are high\n",
    "lowest_sev_score = 100\n",
    "lowest_sev_name = None\n",
    "highest_sev_score = 0\n",
    "highest_sev_name = None\n",
    "\n",
    "for name in pt_roster.keys():\n",
    "    severity = pt_roster[name][\"severity\"]\n",
    "    if severity < lowest_sev_score:\n",
    "        lowest_sev_score = severity\n",
    "        lowest_sev_name = name\n",
    "    if severity > highest_sev_score:\n",
    "        highest_sev_score = severity\n",
    "        highest_sev_name = name\n",
    "        \n",
    "print(\"Name of lowest severity individual:\", lowest_sev_name)\n",
    "print(\"Name of highest severity individual:\", highest_sev_name)"
   ]
  },
  {
   "cell_type": "code",
   "execution_count": null,
   "id": "2b69b622",
   "metadata": {},
   "outputs": [],
   "source": []
  },
  {
   "cell_type": "markdown",
   "id": "909dae39",
   "metadata": {},
   "source": [
    "## Exercise 2: BMI\n",
    "Below are some measurements of BMI."
   ]
  },
  {
   "cell_type": "code",
   "execution_count": 52,
   "id": "a811c22c",
   "metadata": {},
   "outputs": [],
   "source": [
    "bmis = [\n",
    "    24,\n",
    "    23,\n",
    "    49,\n",
    "    27,\n",
    "    25,\n",
    "    22,\n",
    "    38,\n",
    "    29,\n",
    "    56,\n",
    "    27,s\n",
    "    22,\n",
    "]"
   ]
  },
  {
   "cell_type": "markdown",
   "id": "03e545ef",
   "metadata": {},
   "source": [
    "### 2.1\n",
    "What are the min and max values of `bmis`?"
   ]
  },
  {
   "cell_type": "code",
   "execution_count": 53,
   "id": "6c51a9fe",
   "metadata": {},
   "outputs": [],
   "source": [
    "min_bmi = min(bmis)\n",
    "max_bmi = max(bmis)"
   ]
  },
  {
   "cell_type": "markdown",
   "id": "711c9878",
   "metadata": {},
   "source": [
    "### 2.2\n",
    "Created a new variable called `sorted_bmis` which contains the BMI values sorted from smallest to largest."
   ]
  },
  {
   "cell_type": "code",
   "execution_count": 54,
   "id": "f5660697",
   "metadata": {},
   "outputs": [
    {
     "data": {
      "text/plain": [
       "[22, 22, 23, 24, 25, 27, 27, 29, 38, 49, 56]"
      ]
     },
     "execution_count": 54,
     "metadata": {},
     "output_type": "execute_result"
    }
   ],
   "source": [
    "sorted_bmis = sorted(bmis)\n",
    "sorted_bmis"
   ]
  },
  {
   "cell_type": "markdown",
   "id": "b07f97d5",
   "metadata": {},
   "source": [
    "### 2.3\n",
    "Write a function called `discretize_bmi` which takes a numeric BMI value to the following categories:\n",
    "- **<18.5**\n",
    "- **18.5-24.9**\n",
    "- **25.0-29.9**\n",
    "- **30-39.9**\n",
    "- **>=40**\n",
    "\n",
    "Then make a list called `bmis_discrete` which contains the categorized BMI values for `bmis`."
   ]
  },
  {
   "cell_type": "code",
   "execution_count": 60,
   "id": "a72070df",
   "metadata": {},
   "outputs": [],
   "source": [
    "def discretize_bmi(bmi):\n",
    "    if bmi < 18.5:\n",
    "        return \"< 18.5\"\n",
    "    if bmi <= 24.9:\n",
    "        return \"18.5-24.9\"\n",
    "    if bmi <= 29.9:\n",
    "        return \"25.0-29.9\"\n",
    "    if bmi <= 39.9:\n",
    "        return \"30-39.9\"\n",
    "    return \">=40\""
   ]
  },
  {
   "cell_type": "code",
   "execution_count": 61,
   "id": "bf7e8604",
   "metadata": {},
   "outputs": [
    {
     "data": {
      "text/plain": [
       "'< 18.5'"
      ]
     },
     "execution_count": 61,
     "metadata": {},
     "output_type": "execute_result"
    }
   ],
   "source": [
    "discretize_bmi(18.4)"
   ]
  },
  {
   "cell_type": "markdown",
   "id": "00183b95",
   "metadata": {},
   "source": [
    "### 2.4 (Advanced)\n",
    "What is the [median](https://en.wikipedia.org/wiki/Median) BMI value? Write a function called `my_median` which takes a list with an *odd number of elements* and returns the median.\n",
    "\n",
    "**Advanced**: If you'd like a challenge, also implement it for even numbers.\n",
    "\n",
    "**Hint**"
   ]
  },
  {
   "cell_type": "code",
   "execution_count": 48,
   "id": "9a8818bc",
   "metadata": {},
   "outputs": [],
   "source": [
    "def my_median(x):\n",
    "    x = sorted(x)\n",
    "    if len(x) % 2 == 1:\n",
    "        return x[int((len(x)+1))/2]\n",
    "    else:\n",
    "        return (x[int((len(x))/2)] + x[int((len(x) +1)/2)]) / 2"
   ]
  },
  {
   "cell_type": "code",
   "execution_count": 49,
   "id": "66e13909",
   "metadata": {},
   "outputs": [],
   "source": [
    "import random"
   ]
  },
  {
   "cell_type": "code",
   "execution_count": 50,
   "id": "bcbfe6e4",
   "metadata": {},
   "outputs": [],
   "source": [
    "def validate_my_median(func):\n",
    "    import random\n",
    "    \n",
    "    for i in range(0, 10):\n",
    "        sampled = random.sample(range(0, 100), 9)\n",
    "        assert func(sampled) == my_median(sampled)\n",
    "    "
   ]
  },
  {
   "cell_type": "code",
   "execution_count": 51,
   "id": "50e42f2f",
   "metadata": {},
   "outputs": [
    {
     "ename": "TypeError",
     "evalue": "list indices must be integers or slices, not float",
     "output_type": "error",
     "traceback": [
      "\u001b[0;31m---------------------------------------------------------------------------\u001b[0m",
      "\u001b[0;31mTypeError\u001b[0m                                 Traceback (most recent call last)",
      "Input \u001b[0;32mIn [51]\u001b[0m, in \u001b[0;36m<cell line: 1>\u001b[0;34m()\u001b[0m\n\u001b[0;32m----> 1\u001b[0m \u001b[43mvalidate_my_median\u001b[49m\u001b[43m(\u001b[49m\u001b[43mmy_median\u001b[49m\u001b[43m)\u001b[49m\n",
      "Input \u001b[0;32mIn [50]\u001b[0m, in \u001b[0;36mvalidate_my_median\u001b[0;34m(func)\u001b[0m\n\u001b[1;32m      4\u001b[0m \u001b[38;5;28;01mfor\u001b[39;00m i \u001b[38;5;129;01min\u001b[39;00m \u001b[38;5;28mrange\u001b[39m(\u001b[38;5;241m0\u001b[39m, \u001b[38;5;241m10\u001b[39m):\n\u001b[1;32m      5\u001b[0m     sampled \u001b[38;5;241m=\u001b[39m random\u001b[38;5;241m.\u001b[39msample(\u001b[38;5;28mrange\u001b[39m(\u001b[38;5;241m0\u001b[39m, \u001b[38;5;241m100\u001b[39m), \u001b[38;5;241m9\u001b[39m)\n\u001b[0;32m----> 6\u001b[0m     \u001b[38;5;28;01massert\u001b[39;00m \u001b[43mfunc\u001b[49m\u001b[43m(\u001b[49m\u001b[43msampled\u001b[49m\u001b[43m)\u001b[49m \u001b[38;5;241m==\u001b[39m my_median(sampled)\n",
      "Input \u001b[0;32mIn [48]\u001b[0m, in \u001b[0;36mmy_median\u001b[0;34m(x)\u001b[0m\n\u001b[1;32m      2\u001b[0m x \u001b[38;5;241m=\u001b[39m \u001b[38;5;28msorted\u001b[39m(x)\n\u001b[1;32m      3\u001b[0m \u001b[38;5;28;01mif\u001b[39;00m \u001b[38;5;28mlen\u001b[39m(x) \u001b[38;5;241m%\u001b[39m \u001b[38;5;241m2\u001b[39m \u001b[38;5;241m==\u001b[39m \u001b[38;5;241m1\u001b[39m:\n\u001b[0;32m----> 4\u001b[0m     \u001b[38;5;28;01mreturn\u001b[39;00m \u001b[43mx\u001b[49m\u001b[43m[\u001b[49m\u001b[38;5;28;43mint\u001b[39;49m\u001b[43m(\u001b[49m\u001b[43m(\u001b[49m\u001b[38;5;28;43mlen\u001b[39;49m\u001b[43m(\u001b[49m\u001b[43mx\u001b[49m\u001b[43m)\u001b[49m\u001b[38;5;241;43m+\u001b[39;49m\u001b[38;5;241;43m1\u001b[39;49m\u001b[43m)\u001b[49m\u001b[43m)\u001b[49m\u001b[38;5;241;43m/\u001b[39;49m\u001b[38;5;241;43m2\u001b[39;49m\u001b[43m]\u001b[49m\n\u001b[1;32m      5\u001b[0m \u001b[38;5;28;01melse\u001b[39;00m:\n\u001b[1;32m      6\u001b[0m     \u001b[38;5;28;01mreturn\u001b[39;00m (x[\u001b[38;5;28mint\u001b[39m((\u001b[38;5;28mlen\u001b[39m(x))\u001b[38;5;241m/\u001b[39m\u001b[38;5;241m2\u001b[39m)] \u001b[38;5;241m+\u001b[39m x[\u001b[38;5;28mint\u001b[39m((\u001b[38;5;28mlen\u001b[39m(x) \u001b[38;5;241m+\u001b[39m\u001b[38;5;241m1\u001b[39m)\u001b[38;5;241m/\u001b[39m\u001b[38;5;241m2\u001b[39m)]) \u001b[38;5;241m/\u001b[39m \u001b[38;5;241m2\u001b[39m\n",
      "\u001b[0;31mTypeError\u001b[0m: list indices must be integers or slices, not float"
     ]
    }
   ],
   "source": [
    "validate_my_median(my_median)"
   ]
  },
  {
   "cell_type": "code",
   "execution_count": null,
   "id": "e0b75662",
   "metadata": {},
   "outputs": [],
   "source": [
    "test_my_median = FunctionTest()"
   ]
  },
  {
   "cell_type": "code",
   "execution_count": null,
   "id": "221f4a19",
   "metadata": {},
   "outputs": [],
   "source": []
  },
  {
   "cell_type": "markdown",
   "id": "2723a545",
   "metadata": {},
   "source": [
    "## Exercise 3: Patient diagnoses\n",
    "The following exercises will check which patients have either pneumonia, sepsis, or respiratory disease."
   ]
  },
  {
   "cell_type": "code",
   "execution_count": 68,
   "id": "47abfe06",
   "metadata": {},
   "outputs": [
    {
     "data": {
      "text/html": [
       "<div>\n",
       "<style scoped>\n",
       "    .dataframe tbody tr th:only-of-type {\n",
       "        vertical-align: middle;\n",
       "    }\n",
       "\n",
       "    .dataframe tbody tr th {\n",
       "        vertical-align: top;\n",
       "    }\n",
       "\n",
       "    .dataframe thead th {\n",
       "        text-align: right;\n",
       "    }\n",
       "</style>\n",
       "<table border=\"1\" class=\"dataframe\">\n",
       "  <thead>\n",
       "    <tr style=\"text-align: right;\">\n",
       "      <th></th>\n",
       "      <th>ICDCodeType</th>\n",
       "      <th>ICDCode</th>\n",
       "      <th>description</th>\n",
       "      <th>PNA</th>\n",
       "      <th>Sepsis</th>\n",
       "      <th>Respiratory</th>\n",
       "      <th>Aspiration</th>\n",
       "      <th>UU cap codes</th>\n",
       "      <th>Date Code Added to Study</th>\n",
       "      <th>Unnamed: 9</th>\n",
       "    </tr>\n",
       "  </thead>\n",
       "  <tbody>\n",
       "    <tr>\n",
       "      <th>0</th>\n",
       "      <td>9</td>\n",
       "      <td>482.0</td>\n",
       "      <td>PNEUMONIA DUE TO KLEBSIELLA PNEUMONIAE</td>\n",
       "      <td>1</td>\n",
       "      <td>0</td>\n",
       "      <td>0</td>\n",
       "      <td>0</td>\n",
       "      <td>0</td>\n",
       "      <td>Prior to 4/5/2022</td>\n",
       "      <td>NaN</td>\n",
       "    </tr>\n",
       "    <tr>\n",
       "      <th>1</th>\n",
       "      <td>9</td>\n",
       "      <td>482.1</td>\n",
       "      <td>PNEUMONIA DUE TO PSEUDOMONAS</td>\n",
       "      <td>1</td>\n",
       "      <td>0</td>\n",
       "      <td>0</td>\n",
       "      <td>0</td>\n",
       "      <td>0</td>\n",
       "      <td>Prior to 4/5/2022</td>\n",
       "      <td>NaN</td>\n",
       "    </tr>\n",
       "    <tr>\n",
       "      <th>2</th>\n",
       "      <td>9</td>\n",
       "      <td>482.3</td>\n",
       "      <td>PNEUMONIA DUE TO STREPTOCOCCUS</td>\n",
       "      <td>1</td>\n",
       "      <td>0</td>\n",
       "      <td>0</td>\n",
       "      <td>0</td>\n",
       "      <td>0</td>\n",
       "      <td>Prior to 4/5/2022</td>\n",
       "      <td>NaN</td>\n",
       "    </tr>\n",
       "    <tr>\n",
       "      <th>3</th>\n",
       "      <td>9</td>\n",
       "      <td>482.40</td>\n",
       "      <td>PNEUMONIA DUE TO STAPHYLOCOCCUS, UNSPECIFIED</td>\n",
       "      <td>1</td>\n",
       "      <td>0</td>\n",
       "      <td>0</td>\n",
       "      <td>0</td>\n",
       "      <td>0</td>\n",
       "      <td>Prior to 4/5/2022</td>\n",
       "      <td>NaN</td>\n",
       "    </tr>\n",
       "    <tr>\n",
       "      <th>4</th>\n",
       "      <td>9</td>\n",
       "      <td>482.8</td>\n",
       "      <td>PNEUMONIA DUE TO OTHER SPECIFIED BACTERIA</td>\n",
       "      <td>1</td>\n",
       "      <td>0</td>\n",
       "      <td>0</td>\n",
       "      <td>0</td>\n",
       "      <td>0</td>\n",
       "      <td>Prior to 4/5/2022</td>\n",
       "      <td>NaN</td>\n",
       "    </tr>\n",
       "    <tr>\n",
       "      <th>...</th>\n",
       "      <td>...</td>\n",
       "      <td>...</td>\n",
       "      <td>...</td>\n",
       "      <td>...</td>\n",
       "      <td>...</td>\n",
       "      <td>...</td>\n",
       "      <td>...</td>\n",
       "      <td>...</td>\n",
       "      <td>...</td>\n",
       "      <td>...</td>\n",
       "    </tr>\n",
       "    <tr>\n",
       "      <th>143</th>\n",
       "      <td>9</td>\n",
       "      <td>518.52</td>\n",
       "      <td>Other pulmonary insufficiency, not elsewhere c...</td>\n",
       "      <td>0</td>\n",
       "      <td>0</td>\n",
       "      <td>1</td>\n",
       "      <td>0</td>\n",
       "      <td>0</td>\n",
       "      <td>2022-04-05 00:00:00</td>\n",
       "      <td>NaN</td>\n",
       "    </tr>\n",
       "    <tr>\n",
       "      <th>144</th>\n",
       "      <td>9</td>\n",
       "      <td>518. 53</td>\n",
       "      <td>Acute and chronic respiratory failure after tr...</td>\n",
       "      <td>0</td>\n",
       "      <td>0</td>\n",
       "      <td>1</td>\n",
       "      <td>0</td>\n",
       "      <td>0</td>\n",
       "      <td>2022-04-05 00:00:00</td>\n",
       "      <td>NaN</td>\n",
       "    </tr>\n",
       "    <tr>\n",
       "      <th>145</th>\n",
       "      <td>9</td>\n",
       "      <td>799.1</td>\n",
       "      <td>Respiratory arrest</td>\n",
       "      <td>0</td>\n",
       "      <td>0</td>\n",
       "      <td>1</td>\n",
       "      <td>0</td>\n",
       "      <td>0</td>\n",
       "      <td>2022-04-05 00:00:00</td>\n",
       "      <td>NaN</td>\n",
       "    </tr>\n",
       "    <tr>\n",
       "      <th>146</th>\n",
       "      <td>9</td>\n",
       "      <td>799</td>\n",
       "      <td>asphyxia</td>\n",
       "      <td>0</td>\n",
       "      <td>0</td>\n",
       "      <td>1</td>\n",
       "      <td>0</td>\n",
       "      <td>0</td>\n",
       "      <td>2022-04-05 00:00:00</td>\n",
       "      <td>NaN</td>\n",
       "    </tr>\n",
       "    <tr>\n",
       "      <th>147</th>\n",
       "      <td>9</td>\n",
       "      <td>799.01</td>\n",
       "      <td>asphyxia</td>\n",
       "      <td>0</td>\n",
       "      <td>0</td>\n",
       "      <td>1</td>\n",
       "      <td>0</td>\n",
       "      <td>0</td>\n",
       "      <td>2022-04-05 00:00:00</td>\n",
       "      <td>NaN</td>\n",
       "    </tr>\n",
       "  </tbody>\n",
       "</table>\n",
       "<p>82 rows × 10 columns</p>\n",
       "</div>"
      ],
      "text/plain": [
       "     ICDCodeType  ICDCode                                        description  \\\n",
       "0              9    482.0             PNEUMONIA DUE TO KLEBSIELLA PNEUMONIAE   \n",
       "1              9    482.1                       PNEUMONIA DUE TO PSEUDOMONAS   \n",
       "2              9    482.3                     PNEUMONIA DUE TO STREPTOCOCCUS   \n",
       "3              9   482.40       PNEUMONIA DUE TO STAPHYLOCOCCUS, UNSPECIFIED   \n",
       "4              9    482.8          PNEUMONIA DUE TO OTHER SPECIFIED BACTERIA   \n",
       "..           ...      ...                                                ...   \n",
       "143            9   518.52  Other pulmonary insufficiency, not elsewhere c...   \n",
       "144            9  518. 53  Acute and chronic respiratory failure after tr...   \n",
       "145            9    799.1                                 Respiratory arrest   \n",
       "146            9      799                                           asphyxia   \n",
       "147            9   799.01                                           asphyxia   \n",
       "\n",
       "     PNA  Sepsis  Respiratory  Aspiration  UU cap codes  \\\n",
       "0      1       0            0           0             0   \n",
       "1      1       0            0           0             0   \n",
       "2      1       0            0           0             0   \n",
       "3      1       0            0           0             0   \n",
       "4      1       0            0           0             0   \n",
       "..   ...     ...          ...         ...           ...   \n",
       "143    0       0            1           0             0   \n",
       "144    0       0            1           0             0   \n",
       "145    0       0            1           0             0   \n",
       "146    0       0            1           0             0   \n",
       "147    0       0            1           0             0   \n",
       "\n",
       "    Date Code Added to Study Unnamed: 9  \n",
       "0          Prior to 4/5/2022        NaN  \n",
       "1          Prior to 4/5/2022        NaN  \n",
       "2          Prior to 4/5/2022        NaN  \n",
       "3          Prior to 4/5/2022        NaN  \n",
       "4          Prior to 4/5/2022        NaN  \n",
       "..                       ...        ...  \n",
       "143      2022-04-05 00:00:00        NaN  \n",
       "144      2022-04-05 00:00:00        NaN  \n",
       "145      2022-04-05 00:00:00        NaN  \n",
       "146      2022-04-05 00:00:00        NaN  \n",
       "147      2022-04-05 00:00:00        NaN  \n",
       "\n",
       "[82 rows x 10 columns]"
      ]
     },
     "execution_count": 68,
     "metadata": {},
     "output_type": "execute_result"
    }
   ],
   "source": [
    "df"
   ]
  },
  {
   "cell_type": "code",
   "execution_count": 70,
   "id": "d8b4b45a",
   "metadata": {
    "scrolled": true
   },
   "outputs": [
    {
     "data": {
      "text/plain": [
       "('482.0',\n",
       " '482.1',\n",
       " '482.3',\n",
       " '482.40',\n",
       " '482.8',\n",
       " '482.80',\n",
       " '484.1',\n",
       " '480.0',\n",
       " '480.1',\n",
       " '480.2',\n",
       " '480.3',\n",
       " '480.8',\n",
       " '480.9',\n",
       " '481.',\n",
       " '482.2',\n",
       " '482.30',\n",
       " '482.31',\n",
       " '482.32',\n",
       " '482.39',\n",
       " '482.4',\n",
       " '482.41',\n",
       " '482.42',\n",
       " '482.49',\n",
       " '482.81',\n",
       " '482.82',\n",
       " '482.83',\n",
       " '482.84',\n",
       " '482.89',\n",
       " '482.9',\n",
       " '483.',\n",
       " '483.0',\n",
       " '483.1',\n",
       " '483.8',\n",
       " '484.3',\n",
       " '484.5',\n",
       " '484.6',\n",
       " '484.7',\n",
       " '484.8',\n",
       " '485.',\n",
       " '486.',\n",
       " '487.0')"
      ]
     },
     "execution_count": 70,
     "metadata": {},
     "output_type": "execute_result"
    }
   ],
   "source": [
    "import pandas as pd\n",
    "df = pd.read_excel(\"../mysql/Pneumonia Codes 21 APR 2022.xlsx\").query(\"ICDCodeType == 9\")\n",
    "pna_codes = tuple(df.query(\"PNA == 1\")[\"ICDCode\"])\n",
    "sepsis_codes = tuple(df.query(\"Sepsis == 1\")[\"ICDCode\"])\n",
    "resp_codes = tuple(df.query(\"Respiratory == 1\")[\"ICDCode\"])\n"
   ]
  },
  {
   "cell_type": "code",
   "execution_count": 76,
   "id": "1c806ed1",
   "metadata": {},
   "outputs": [
    {
     "data": {
      "text/plain": [
       "('482.0',\n",
       " '482.1',\n",
       " '482.3',\n",
       " '482.40',\n",
       " '482.8',\n",
       " '482.80',\n",
       " '484.1',\n",
       " '480.0',\n",
       " '480.1',\n",
       " '480.2',\n",
       " '480.3',\n",
       " '480.8',\n",
       " '480.9',\n",
       " '481.',\n",
       " '482.2',\n",
       " '482.30',\n",
       " '482.31',\n",
       " '482.32',\n",
       " '482.39',\n",
       " '482.4',\n",
       " '482.41',\n",
       " '482.42',\n",
       " '482.49',\n",
       " '482.81',\n",
       " '482.82',\n",
       " '482.83',\n",
       " '482.84',\n",
       " '482.89',\n",
       " '482.9',\n",
       " '483.',\n",
       " '483.0',\n",
       " '483.1',\n",
       " '483.8',\n",
       " '484.3',\n",
       " '484.5',\n",
       " '484.6',\n",
       " '484.7',\n",
       " '484.8',\n",
       " '485.',\n",
       " '486.',\n",
       " '487.0')"
      ]
     },
     "execution_count": 76,
     "metadata": {},
     "output_type": "execute_result"
    }
   ],
   "source": [
    "pna_codes"
   ]
  },
  {
   "cell_type": "code",
   "execution_count": null,
   "id": "db3bd199",
   "metadata": {},
   "outputs": [],
   "source": []
  },
  {
   "cell_type": "code",
   "execution_count": 73,
   "id": "149d0ffe",
   "metadata": {},
   "outputs": [
    {
     "data": {
      "text/plain": [
       "'482.0'"
      ]
     },
     "execution_count": 73,
     "metadata": {},
     "output_type": "execute_result"
    }
   ],
   "source": [
    "pna_codes[0]"
   ]
  },
  {
   "cell_type": "code",
   "execution_count": 78,
   "id": "47f4ce38",
   "metadata": {},
   "outputs": [
    {
     "data": {
      "text/plain": [
       "('518.81',\n",
       " '518.84',\n",
       " '799.1',\n",
       " '518.81',\n",
       " '518.51',\n",
       " '518.52',\n",
       " '518. 53',\n",
       " 799.1,\n",
       " 799,\n",
       " 799.01)"
      ]
     },
     "execution_count": 78,
     "metadata": {},
     "output_type": "execute_result"
    }
   ],
   "source": [
    "resp_codes"
   ]
  },
  {
   "cell_type": "code",
   "execution_count": 75,
   "id": "2f0928f8",
   "metadata": {},
   "outputs": [
    {
     "data": {
      "text/plain": [
       "'518.81'"
      ]
     },
     "execution_count": 75,
     "metadata": {},
     "output_type": "execute_result"
    }
   ],
   "source": [
    "resp_codes[0]"
   ]
  },
  {
   "cell_type": "code",
   "execution_count": 71,
   "id": "0728f83c",
   "metadata": {},
   "outputs": [],
   "source": [
    "import pymysql\n",
    "import getpass\n",
    "\n",
    "def connect_to_mimic(user=\"uu-phs\"):\n",
    "    return pymysql.connect(host=\"35.233.174.193\",port=3306,\n",
    "                       user=user,passwd=getpass.getpass(\"Enter password for MIMIC2 database\"),\n",
    "                       db='mimic2')"
   ]
  },
  {
   "cell_type": "code",
   "execution_count": 72,
   "id": "098f4049",
   "metadata": {},
   "outputs": [
    {
     "name": "stdout",
     "output_type": "stream",
     "text": [
      "Enter password for MIMIC2 database········\n"
     ]
    }
   ],
   "source": [
    "conn = connect_to_mimic()"
   ]
  },
  {
   "cell_type": "code",
   "execution_count": 114,
   "id": "9ca291b2",
   "metadata": {},
   "outputs": [],
   "source": [
    "query = \"\"\"\n",
    "SELECT DISTINCT subject_id, 'pneumonia' AS diagnosis\n",
    "FROM icd9\n",
    "WHERE code IN ('482.0',\n",
    " '482.1',\n",
    " '482.3',\n",
    " '482.40',\n",
    " '482.8',\n",
    " '482.80',\n",
    " '484.1',\n",
    " '480.0',\n",
    " '480.1',\n",
    " '480.2',\n",
    " '480.3',\n",
    " '480.8',\n",
    " '480.9',\n",
    " '481.',\n",
    " '482.2',\n",
    " '482.30',\n",
    " '482.31',\n",
    " '482.32',\n",
    " '482.39',\n",
    " '482.4',\n",
    " '482.41',\n",
    " '482.42',\n",
    " '482.49',\n",
    " '482.81',\n",
    " '482.82',\n",
    " '482.83',\n",
    " '482.84',\n",
    " '482.89',\n",
    " '482.9',\n",
    " '483.',\n",
    " '483.0',\n",
    " '483.1',\n",
    " '483.8',\n",
    " '484.3',\n",
    " '484.5',\n",
    " '484.6',\n",
    " '484.7',\n",
    " '484.8',\n",
    " '485.',\n",
    " '486.',\n",
    " '487.0')\n",
    "UNION ALL\n",
    "SELECT DISTINCT subject_id, 'sepsis' AS diagnosis\n",
    "FROM icd9\n",
    "WHERE code IN ('038.0',\n",
    " '038.1',\n",
    " '038.10',\n",
    " '038.11',\n",
    " '038.12',\n",
    " '038.19',\n",
    " '038.2',\n",
    " '038.3',\n",
    " '038.40',\n",
    " '038.41',\n",
    " '038.42',\n",
    " '038.43',\n",
    " '038.44',\n",
    " '038.49',\n",
    " '038.8',\n",
    " '038.9',\n",
    " '785.52',\n",
    " '995.91',\n",
    " '995.92')\n",
    "UNION ALL\n",
    "SELECT DISTINCT subject_id, 'respiratory' AS diagnosis\n",
    "FROM icd9\n",
    "WHERE code IN \n",
    " ('518.81',\n",
    " '518.84',\n",
    " '799.1',\n",
    " '518.81',\n",
    " '518.51',\n",
    " '518.52',\n",
    " '518. 53',\n",
    " '799.1',\n",
    " '799',\n",
    " '799.01')\n",
    "\"\"\""
   ]
  },
  {
   "cell_type": "code",
   "execution_count": 115,
   "id": "033685a6",
   "metadata": {},
   "outputs": [
    {
     "name": "stderr",
     "output_type": "stream",
     "text": [
      "/Users/alecchapman/opt/miniconda3/envs/phs/lib/python3.9/site-packages/pandas/io/sql.py:761: UserWarning: pandas only support SQLAlchemy connectable(engine/connection) ordatabase string URI or sqlite3 DBAPI2 connectionother DBAPI2 objects are not tested, please consider using SQLAlchemy\n",
      "  warnings.warn(\n"
     ]
    }
   ],
   "source": [
    "pts = pd.read_sql(query, conn)"
   ]
  },
  {
   "cell_type": "code",
   "execution_count": 116,
   "id": "91bbf8c4",
   "metadata": {},
   "outputs": [
    {
     "data": {
      "text/html": [
       "<div>\n",
       "<style scoped>\n",
       "    .dataframe tbody tr th:only-of-type {\n",
       "        vertical-align: middle;\n",
       "    }\n",
       "\n",
       "    .dataframe tbody tr th {\n",
       "        vertical-align: top;\n",
       "    }\n",
       "\n",
       "    .dataframe thead th {\n",
       "        text-align: right;\n",
       "    }\n",
       "</style>\n",
       "<table border=\"1\" class=\"dataframe\">\n",
       "  <thead>\n",
       "    <tr style=\"text-align: right;\">\n",
       "      <th></th>\n",
       "      <th>subject_id</th>\n",
       "      <th>diagnosis</th>\n",
       "    </tr>\n",
       "  </thead>\n",
       "  <tbody>\n",
       "    <tr>\n",
       "      <th>0</th>\n",
       "      <td>157</td>\n",
       "      <td>pneumonia</td>\n",
       "    </tr>\n",
       "    <tr>\n",
       "      <th>1</th>\n",
       "      <td>177</td>\n",
       "      <td>pneumonia</td>\n",
       "    </tr>\n",
       "    <tr>\n",
       "      <th>2</th>\n",
       "      <td>472</td>\n",
       "      <td>pneumonia</td>\n",
       "    </tr>\n",
       "    <tr>\n",
       "      <th>3</th>\n",
       "      <td>634</td>\n",
       "      <td>pneumonia</td>\n",
       "    </tr>\n",
       "    <tr>\n",
       "      <th>4</th>\n",
       "      <td>668</td>\n",
       "      <td>pneumonia</td>\n",
       "    </tr>\n",
       "    <tr>\n",
       "      <th>...</th>\n",
       "      <td>...</td>\n",
       "      <td>...</td>\n",
       "    </tr>\n",
       "    <tr>\n",
       "      <th>2369</th>\n",
       "      <td>32627</td>\n",
       "      <td>respiratory</td>\n",
       "    </tr>\n",
       "    <tr>\n",
       "      <th>2370</th>\n",
       "      <td>32667</td>\n",
       "      <td>respiratory</td>\n",
       "    </tr>\n",
       "    <tr>\n",
       "      <th>2371</th>\n",
       "      <td>32675</td>\n",
       "      <td>respiratory</td>\n",
       "    </tr>\n",
       "    <tr>\n",
       "      <th>2372</th>\n",
       "      <td>32686</td>\n",
       "      <td>respiratory</td>\n",
       "    </tr>\n",
       "    <tr>\n",
       "      <th>2373</th>\n",
       "      <td>32763</td>\n",
       "      <td>respiratory</td>\n",
       "    </tr>\n",
       "  </tbody>\n",
       "</table>\n",
       "<p>2374 rows × 2 columns</p>\n",
       "</div>"
      ],
      "text/plain": [
       "      subject_id    diagnosis\n",
       "0            157    pneumonia\n",
       "1            177    pneumonia\n",
       "2            472    pneumonia\n",
       "3            634    pneumonia\n",
       "4            668    pneumonia\n",
       "...          ...          ...\n",
       "2369       32627  respiratory\n",
       "2370       32667  respiratory\n",
       "2371       32675  respiratory\n",
       "2372       32686  respiratory\n",
       "2373       32763  respiratory\n",
       "\n",
       "[2374 rows x 2 columns]"
      ]
     },
     "execution_count": 116,
     "metadata": {},
     "output_type": "execute_result"
    }
   ],
   "source": [
    "pts"
   ]
  },
  {
   "cell_type": "code",
   "execution_count": 117,
   "id": "4519c375",
   "metadata": {},
   "outputs": [
    {
     "data": {
      "text/plain": [
       "respiratory    1145\n",
       "sepsis          911\n",
       "pneumonia       318\n",
       "Name: diagnosis, dtype: int64"
      ]
     },
     "execution_count": 117,
     "metadata": {},
     "output_type": "execute_result"
    }
   ],
   "source": [
    "pts[\"diagnosis\"].value_counts()"
   ]
  },
  {
   "cell_type": "code",
   "execution_count": 127,
   "id": "e2a5c7fa",
   "metadata": {},
   "outputs": [],
   "source": [
    "pts.to_csv(\"../data/dx_subject_sets.csv\", index=None)"
   ]
  },
  {
   "cell_type": "code",
   "execution_count": null,
   "id": "abdfaf0b",
   "metadata": {},
   "outputs": [],
   "source": []
  },
  {
   "cell_type": "code",
   "execution_count": 132,
   "id": "45a36a9e",
   "metadata": {},
   "outputs": [],
   "source": [
    "def load_dx_subject_sets():\n",
    "    import os\n",
    "    fp = \"../data/dx_subject_sets.csv\"\n",
    "    icd9_subject_sets = {\n",
    "        \"pneumonia\": set(),\n",
    "        \"sepsis\": set(),\n",
    "        \"respiratory\": set()\n",
    "    }\n",
    "    with open(fp) as f:\n",
    "        lines = f.read().splitlines()\n",
    "    for line in lines[1:]:\n",
    "        subject, dx = line.split(\",\")\n",
    "        icd9_subject_sets[dx].add(int(subject))\n",
    "    return icd9_subject_sets"
   ]
  },
  {
   "cell_type": "code",
   "execution_count": null,
   "id": "3fbcc6ea",
   "metadata": {},
   "outputs": [],
   "source": []
  },
  {
   "cell_type": "markdown",
   "id": "1cba8316",
   "metadata": {},
   "source": [
    "### 3.1\n",
    "Load the dataset using the helper function `load_dx_subject_sets()`. Explore the object that it returns. What class is it? What values are contained in it?"
   ]
  },
  {
   "cell_type": "code",
   "execution_count": 133,
   "id": "1ba2adc5",
   "metadata": {},
   "outputs": [],
   "source": [
    "dx_subject_sets = load_dx_subject_sets()"
   ]
  },
  {
   "cell_type": "code",
   "execution_count": 134,
   "id": "c7a31ac3",
   "metadata": {},
   "outputs": [
    {
     "data": {
      "text/plain": [
       "dict"
      ]
     },
     "execution_count": 134,
     "metadata": {},
     "output_type": "execute_result"
    }
   ],
   "source": [
    "type(dx_subject_sets)"
   ]
  },
  {
   "cell_type": "code",
   "execution_count": 135,
   "id": "82bef790",
   "metadata": {},
   "outputs": [
    {
     "data": {
      "text/plain": [
       "dict_keys(['pneumonia', 'sepsis', 'respiratory'])"
      ]
     },
     "execution_count": 135,
     "metadata": {},
     "output_type": "execute_result"
    }
   ],
   "source": [
    "dx_subject_sets.keys()"
   ]
  },
  {
   "cell_type": "code",
   "execution_count": 136,
   "id": "8bdcf2d0",
   "metadata": {},
   "outputs": [
    {
     "data": {
      "text/plain": [
       "set"
      ]
     },
     "execution_count": 136,
     "metadata": {},
     "output_type": "execute_result"
    }
   ],
   "source": [
    "type(dx_subject_sets[\"pneumonia\"])"
   ]
  },
  {
   "cell_type": "markdown",
   "id": "24fe63a1",
   "metadata": {},
   "source": [
    "### 3.2\n",
    "Create a dictionary called `dx_subject_counts` that maps the diagnosis name to the number of patients who have that diagnosis."
   ]
  },
  {
   "cell_type": "code",
   "execution_count": 138,
   "id": "0418bafb",
   "metadata": {},
   "outputs": [],
   "source": [
    "dx_subject_counts = {dx: len(pts) for (dx, pts) in dx_subject_sets.items()}"
   ]
  },
  {
   "cell_type": "code",
   "execution_count": 139,
   "id": "71a811dd",
   "metadata": {},
   "outputs": [
    {
     "data": {
      "text/plain": [
       "{'pneumonia': 318, 'sepsis': 911, 'respiratory': 1145}"
      ]
     },
     "execution_count": 139,
     "metadata": {},
     "output_type": "execute_result"
    }
   ],
   "source": [
    "dx_subject_counts"
   ]
  },
  {
   "cell_type": "code",
   "execution_count": 140,
   "id": "3556dcc8",
   "metadata": {},
   "outputs": [
    {
     "name": "stdout",
     "output_type": "stream",
     "text": [
      "That is correct!\n"
     ]
    }
   ],
   "source": [
    "test_dx_subject_counts = ValueTest(expected={'pneumonia': 318, 'sepsis': 911, 'respiratory': 1145})\n",
    "test_dx_subject_counts.test(dx_subject_counts)"
   ]
  },
  {
   "cell_type": "code",
   "execution_count": null,
   "id": "8cba8dcf",
   "metadata": {},
   "outputs": [],
   "source": []
  },
  {
   "cell_type": "markdown",
   "id": "1a607262",
   "metadata": {},
   "source": [
    "### 3.3\n",
    "Patients can have multiple co-morbidities. Calculate how many patients have:\n",
    "- Both pneumonia and sepsis\n",
    "- Pneumonia, sepsis, and respiratory disease\n",
    "- Any of the diseases\n",
    "- Only pneumonia"
   ]
  },
  {
   "cell_type": "code",
   "execution_count": 143,
   "id": "44d7d582",
   "metadata": {},
   "outputs": [
    {
     "data": {
      "text/plain": [
       "137"
      ]
     },
     "execution_count": 143,
     "metadata": {},
     "output_type": "execute_result"
    }
   ],
   "source": [
    "# Pneumonia and sepsis\n",
    "len(dx_subject_sets[\"pneumonia\"].intersection(dx_subject_sets[\"sepsis\"]))"
   ]
  },
  {
   "cell_type": "code",
   "execution_count": 146,
   "id": "3b9cd603",
   "metadata": {},
   "outputs": [
    {
     "data": {
      "application/vnd.jupyter.widget-view+json": {
       "model_id": "62ffd9f7d1f04a89ae3d17cdc5891798",
       "version_major": 2,
       "version_minor": 0
      },
      "text/plain": [
       "VBox(children=(HTML(value='How many patients have <strong>both</strong> pneumonia <strong>and</strong> sepsis?…"
      ]
     },
     "metadata": {},
     "output_type": "display_data"
    },
    {
     "data": {
      "text/plain": []
     },
     "execution_count": 146,
     "metadata": {},
     "output_type": "execute_result"
    }
   ],
   "source": [
    "test_pna_sepsis = FreeTextTest(\"How many patients have <strong>both</strong> pneumonia <strong>and</strong> sepsis?\",\n",
    "                              answer=137)\n",
    "test_pna_sepsis"
   ]
  },
  {
   "cell_type": "code",
   "execution_count": 147,
   "id": "85098886",
   "metadata": {},
   "outputs": [
    {
     "data": {
      "text/plain": [
       "110"
      ]
     },
     "execution_count": 147,
     "metadata": {},
     "output_type": "execute_result"
    }
   ],
   "source": [
    "# All 3\n",
    "len(dx_subject_sets[\"pneumonia\"].intersection(dx_subject_sets[\"sepsis\"]).intersection(dx_subject_sets[\"respiratory\"]))"
   ]
  },
  {
   "cell_type": "code",
   "execution_count": 148,
   "id": "3b934841",
   "metadata": {},
   "outputs": [
    {
     "data": {
      "application/vnd.jupyter.widget-view+json": {
       "model_id": "13e43a54925f4e0b91ae8aed7ed0d446",
       "version_major": 2,
       "version_minor": 0
      },
      "text/plain": [
       "VBox(children=(HTML(value='How many patients have <strong>all 3 of</strong> pneumonia, sepsis, and respiratory…"
      ]
     },
     "metadata": {},
     "output_type": "display_data"
    },
    {
     "data": {
      "text/plain": []
     },
     "execution_count": 148,
     "metadata": {},
     "output_type": "execute_result"
    }
   ],
   "source": [
    "test_pna_sepsis_resp = FreeTextTest(\"How many patients have <strong>all 3 of</strong> pneumonia, sepsis, and respiratory disease?\",\n",
    "                              answer=110)\n",
    "test_pna_sepsis_resp"
   ]
  },
  {
   "cell_type": "code",
   "execution_count": 149,
   "id": "0d0ba566",
   "metadata": {},
   "outputs": [
    {
     "data": {
      "text/plain": [
       "1671"
      ]
     },
     "execution_count": 149,
     "metadata": {},
     "output_type": "execute_result"
    }
   ],
   "source": [
    "# Any of the 3\n",
    "len(dx_subject_sets[\"pneumonia\"].union(dx_subject_sets[\"sepsis\"]).union(dx_subject_sets[\"respiratory\"]))"
   ]
  },
  {
   "cell_type": "code",
   "execution_count": 151,
   "id": "9097d6e7",
   "metadata": {},
   "outputs": [
    {
     "data": {
      "application/vnd.jupyter.widget-view+json": {
       "model_id": "a95e939e96634bc9843b01e818ccd98e",
       "version_major": 2,
       "version_minor": 0
      },
      "text/plain": [
       "VBox(children=(HTML(value='How many patients have <strong>any of</strong> pneumonia, sepsis, and respiratory d…"
      ]
     },
     "metadata": {},
     "output_type": "display_data"
    },
    {
     "data": {
      "text/plain": []
     },
     "execution_count": 151,
     "metadata": {},
     "output_type": "execute_result"
    }
   ],
   "source": [
    "test_pna_or_sepsis_or_resp = FreeTextTest(\"How many patients have <strong>any of</strong> pneumonia, sepsis, and respiratory disease?\",\n",
    "                              answer=1671)\n",
    "test_pna_or_sepsis_or_resp"
   ]
  },
  {
   "cell_type": "code",
   "execution_count": 153,
   "id": "2fdd8ba5",
   "metadata": {},
   "outputs": [
    {
     "data": {
      "text/plain": [
       "75"
      ]
     },
     "execution_count": 153,
     "metadata": {},
     "output_type": "execute_result"
    }
   ],
   "source": [
    "# Only pneumonia\n",
    "len(dx_subject_sets[\"pneumonia\"].difference(dx_subject_sets[\"sepsis\"].union(dx_subject_sets[\"respiratory\"])))"
   ]
  },
  {
   "cell_type": "code",
   "execution_count": 154,
   "id": "afead755",
   "metadata": {},
   "outputs": [
    {
     "data": {
      "application/vnd.jupyter.widget-view+json": {
       "model_id": "0869f115b735434d9ba8a800e4b837ed",
       "version_major": 2,
       "version_minor": 0
      },
      "text/plain": [
       "VBox(children=(HTML(value='How many patients have <strong>only</strong> pneumonia?'), Textarea(value='', place…"
      ]
     },
     "metadata": {},
     "output_type": "display_data"
    },
    {
     "data": {
      "text/plain": []
     },
     "execution_count": 154,
     "metadata": {},
     "output_type": "execute_result"
    }
   ],
   "source": [
    "test_pna_only = FreeTextTest(\"How many patients have <strong>only</strong> pneumonia?\",\n",
    "                              answer=75)\n",
    "test_pna_only"
   ]
  },
  {
   "cell_type": "markdown",
   "id": "45ffb43b",
   "metadata": {},
   "source": [
    "### 3.4 \n",
    "The previous exercise calculated the counts of patients with particular diagnoses. Now let's calculate the **probabilities** of patients having diseases in this dataset."
   ]
  },
  {
   "cell_type": "code",
   "execution_count": 155,
   "id": "f1fcabd2",
   "metadata": {},
   "outputs": [
    {
     "data": {
      "text/plain": [
       "{'pneumonia': 318, 'sepsis': 911, 'respiratory': 1145}"
      ]
     },
     "execution_count": 155,
     "metadata": {},
     "output_type": "execute_result"
    }
   ],
   "source": [
    "dx_subject_counts"
   ]
  },
  {
   "cell_type": "markdown",
   "id": "83c9a381",
   "metadata": {},
   "source": [
    "**a.** Create a variable `dx_subject_probs` which contains the probability of each disease."
   ]
  },
  {
   "cell_type": "code",
   "execution_count": 158,
   "id": "10e2a666",
   "metadata": {},
   "outputs": [
    {
     "data": {
      "text/plain": [
       "{'pneumonia': 0.19030520646319568,\n",
       " 'sepsis': 0.5451825254338719,\n",
       " 'respiratory': 0.6852184320766008}"
      ]
     },
     "execution_count": 158,
     "metadata": {},
     "output_type": "execute_result"
    }
   ],
   "source": [
    "dx_subject_probs = {dx: count/1671 for (dx, count) in dx_subject_counts.items()}\n",
    "dx_subject_probs"
   ]
  },
  {
   "cell_type": "code",
   "execution_count": 161,
   "id": "ff411388",
   "metadata": {},
   "outputs": [
    {
     "name": "stdout",
     "output_type": "stream",
     "text": [
      "That is correct!\n"
     ]
    }
   ],
   "source": [
    "test_dx_subject_probs = ValueTest(expected={'pneumonia': 0.19030520646319568,\n",
    " 'sepsis': 0.5451825254338719,\n",
    " 'respiratory': 0.6852184320766008}, show_answer=True)\n",
    "test_dx_subject_probs.test(dx_subject_probs)"
   ]
  },
  {
   "cell_type": "code",
   "execution_count": null,
   "id": "eba9362e",
   "metadata": {},
   "outputs": [],
   "source": []
  },
  {
   "cell_type": "markdown",
   "id": "bdb48dee",
   "metadata": {},
   "source": [
    "### 3.5 (Advanced)"
   ]
  },
  {
   "cell_type": "markdown",
   "id": "8b147594",
   "metadata": {},
   "source": [
    "The remaining exercises will use the notation:\n",
    "\n",
    "**b.** Calculate:\n",
    "\n",
    "$$P(Pneumonia \\cap Sepsis)$$\n",
    "\n",
    "$$P(Pneumonia \\cup Sepsis)$$\n",
    "\n",
    "$$P(Pneumonia \\cap Sepsis \\cap Respiratory)$$\n",
    "\n",
    "$$P(Pneumonia \\cup Sepsis \\cup Respiratory)$$\n",
    "\n",
    "$$P(Pneumonia|Sepsis)$$\n",
    "\n",
    "$$P(Sepsis|Pneumonia)$$\n",
    "\n",
    "$$P(\\neg Sepsis|Pneumonia)$$"
   ]
  },
  {
   "cell_type": "code",
   "execution_count": null,
   "id": "7aad225d",
   "metadata": {},
   "outputs": [],
   "source": []
  }
 ],
 "metadata": {
  "kernelspec": {
   "display_name": "Python 3 (ipykernel)",
   "language": "python",
   "name": "python3"
  },
  "language_info": {
   "codemirror_mode": {
    "name": "ipython",
    "version": 3
   },
   "file_extension": ".py",
   "mimetype": "text/x-python",
   "name": "python",
   "nbconvert_exporter": "python",
   "pygments_lexer": "ipython3",
   "version": "3.9.12"
  }
 },
 "nbformat": 4,
 "nbformat_minor": 5
}
