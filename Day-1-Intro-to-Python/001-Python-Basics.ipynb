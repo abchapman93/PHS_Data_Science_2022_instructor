{
 "cells": [
  {
   "cell_type": "markdown",
   "id": "c3250811",
   "metadata": {},
   "source": [
    "<html>\n",
    "<table width=\"100%\" cellspacing=\"2\" cellpadding=\"2\" border=\"1\">\n",
    "<tbody>\n",
    "<tr>\n",
    "<td valign=\"center\" align=\"center\" width=\"45%\"><img src=\"../media/Univ-Utah.jpeg\"><br>\n",
    "</td>\n",
    "    <td valign=\"center\" align=\"center\" width=\"75%\">\n",
    "<h1 align=\"center\"><font size=\"+1\">University of Utah<br>Population Health Sciences<br>Data Science Workshop</font></h1></td>\n",
    "<td valign=\"center\" align=\"center\" width=\"45%\"><img\n",
    "src=\"../media/U_Health_stacked_png_red.png\" alt=\"Utah Health\n",
    "Logo\" width=\"128\" height=\"134\"><br>\n",
    "</td>\n",
    "</tr>\n",
    "</tbody>\n",
    "</table>\n",
    "<br>\n",
    "</html>\n"
   ]
  },
  {
   "cell_type": "markdown",
   "id": "d42912cc",
   "metadata": {},
   "source": [
    "# 1. Python Basics\n",
    "We'll start by learning some of the essentials of Python, as well as how to use Jupyter Notebooks."
   ]
  },
  {
   "cell_type": "markdown",
   "id": "ef44cb8b",
   "metadata": {},
   "source": [
    "## TODO and Discussion items\n",
    "Throughout these notebooks, you'll see sections marked **TODO** or **Discussion**. Whenever you see a todo section, you'll be asked to edit or complete code. Parts of code which you need to edit will have placeholders of three underscores: `___`. You should replace these underscores with the correct snippet of code. This syntax should be familiar with you as the convention used by DataCamp.\n",
    "\n",
    "For example, if you are asked to edit the cell below to print out the text \"Hello, world!\", you should change this cell (which won't run correctly until you change it):"
   ]
  },
  {
   "cell_type": "code",
   "execution_count": 1,
   "id": "59579028",
   "metadata": {},
   "outputs": [
    {
     "ename": "TypeError",
     "evalue": "'str' object is not callable",
     "output_type": "error",
     "traceback": [
      "\u001b[0;31m---------------------------------------------------------------------------\u001b[0m",
      "\u001b[0;31mTypeError\u001b[0m                                 Traceback (most recent call last)",
      "Input \u001b[0;32mIn [1]\u001b[0m, in \u001b[0;36m<cell line: 1>\u001b[0;34m()\u001b[0m\n\u001b[0;32m----> 1\u001b[0m \u001b[43m___\u001b[49m\u001b[43m(\u001b[49m\u001b[38;5;124;43m\"\u001b[39;49m\u001b[38;5;124;43mHello, world!\u001b[39;49m\u001b[38;5;124;43m\"\u001b[39;49m\u001b[43m)\u001b[49m\n",
      "\u001b[0;31mTypeError\u001b[0m: 'str' object is not callable"
     ]
    }
   ],
   "source": [
    "___(\"Hello, world!\")"
   ]
  },
  {
   "cell_type": "markdown",
   "id": "01933921",
   "metadata": {},
   "source": [
    "To this:"
   ]
  },
  {
   "cell_type": "code",
   "execution_count": 2,
   "id": "2110a89c",
   "metadata": {},
   "outputs": [
    {
     "name": "stdout",
     "output_type": "stream",
     "text": [
      "Hello, world!\n"
     ]
    }
   ],
   "source": [
    "print(\"Hello, world!\")"
   ]
  },
  {
   "cell_type": "markdown",
   "id": "205c9dc6",
   "metadata": {},
   "source": [
    "# I. Jupyter Notebooks\n",
    "Jupyter Notebooks are an environment which can be used for running code, displaying results and visualizations, and sharing human-readable information. Jupyter notebooks consist of *cells* and each cell defines a single piece of code. \n",
    "\n",
    "The cell which you're reading now is called a *Markdown* cell: It is meant to be human-readable and allows formatting like:\n",
    "- Bullted or numbered lists\n",
    "- **bold text**\n",
    "- *italics*\n",
    "\n",
    "Double-click on this cell to see what the raw markdown looks like. Then press `\"Run\"` or hit \"Shift+Enter\" to re-execute the cell so it renders in your browser. "
   ]
  },
  {
   "cell_type": "markdown",
   "id": "934267db",
   "metadata": {},
   "source": [
    "The other main cell type is the **Code** cell. This contains executable Python code. When you run a code cell, it will execute the code within and display the output. This way, you can go through a notebook a run code step-by-step and inspect the output.\n",
    "\n",
    "\n",
    "You can change a cell type by clicking the dropdown menu above which says **\"Markdown\"**. To make it a Python cell, select **\"Code\"**."
   ]
  },
  {
   "cell_type": "code",
   "execution_count": 3,
   "id": "d2e8dadb",
   "metadata": {},
   "outputs": [
    {
     "name": "stdout",
     "output_type": "stream",
     "text": [
      "This is a code cell.\n"
     ]
    }
   ],
   "source": [
    "print(\"This is a code cell.\")"
   ]
  },
  {
   "cell_type": "markdown",
   "id": "f6a44b76",
   "metadata": {},
   "source": [
    "### TODO\n",
    "Change the cell below to be a code cell. Then run the cell by hitting either the `\"Run\"` button above (looks like a \"play\" button\") or hitting \"Shift+Enter\". "
   ]
  },
  {
   "cell_type": "markdown",
   "id": "bd6050c0",
   "metadata": {},
   "source": [
    "print(\"Hello, there!\")"
   ]
  },
  {
   "cell_type": "markdown",
   "id": "6de857be",
   "metadata": {},
   "source": [
    "Note that in the code cell above, when we execute the cell it runs the single line of code and then displays the output underneath."
   ]
  },
  {
   "cell_type": "markdown",
   "id": "b19c61e0",
   "metadata": {},
   "source": [
    "To create a new cell, press the **\"+\"** buttom in the menu. The default cell type is **Code**.\n",
    "\n",
    "### TODO\n",
    "Create two new cells below. Make the first cell a Markdown cell. Copy and paste the following text into the Markdown cell and edit it with your information. Run the cell. Notice how the formatting of the text is rendered once you execute the cell.\n",
    "\n",
    "```\n",
    "- **First Name**: your first name\n",
    "- **Last Name**: your last name\n",
    "- **Major**: Your major\n",
    "```\n",
    "\n",
    "Then, make the second cell a Code cell. Copy and paste the following code and execute it:\n",
    "\n",
    "```\n",
    "print(\"1 + 2 = \", 1 + 2)\n",
    "```"
   ]
  },
  {
   "cell_type": "code",
   "execution_count": null,
   "id": "bb6861a5",
   "metadata": {},
   "outputs": [],
   "source": []
  },
  {
   "cell_type": "markdown",
   "id": "84d34f77",
   "metadata": {},
   "source": [
    "# Functions\n",
    "\n",
    "#### What is a function?\n",
    "One of the most important concepts in Python programming is **functions**. Functions are what will allow us to take input (e.g., data) and produce some sort of output (e.g., summary statistics) which are useful to us.\n",
    "\n",
    "\n",
    "#### Examples of functions\n",
    "\n",
    "You already saw one example of a function earlier called `print`. This function takes a message and \"prints\" it out for the user to see. The message we printed out below was *Hello, world!*"
   ]
  },
  {
   "cell_type": "markdown",
   "id": "b4646625",
   "metadata": {},
   "source": [
    "#### TODO\n",
    "Print your name in the cell below."
   ]
  },
  {
   "cell_type": "code",
   "execution_count": 4,
   "id": "63b10b5a",
   "metadata": {},
   "outputs": [
    {
     "name": "stdout",
     "output_type": "stream",
     "text": [
      "Alec\n"
     ]
    }
   ],
   "source": [
    "print(\"Alec\")"
   ]
  },
  {
   "cell_type": "code",
   "execution_count": 5,
   "id": "9068871d",
   "metadata": {},
   "outputs": [
    {
     "name": "stdout",
     "output_type": "stream",
     "text": [
      "Help on built-in function print in module builtins:\n",
      "\n",
      "print(...)\n",
      "    print(value, ..., sep=' ', end='\\n', file=sys.stdout, flush=False)\n",
      "    \n",
      "    Prints the values to a stream, or to sys.stdout by default.\n",
      "    Optional keyword arguments:\n",
      "    file:  a file-like object (stream); defaults to the current sys.stdout.\n",
      "    sep:   string inserted between values, default a space.\n",
      "    end:   string appended after the last value, default a newline.\n",
      "    flush: whether to forcibly flush the stream.\n",
      "\n"
     ]
    }
   ],
   "source": [
    "help(print)"
   ]
  },
  {
   "cell_type": "markdown",
   "id": "5795c7b3",
   "metadata": {},
   "source": [
    "The syntax for using a function is:\n",
    "\n",
    "- Type the function name\n",
    "- Pass in any **arguments** or **parameters** in parentheses. \n",
    "\n",
    "The `print` function, and a number of other functions, are loaded by default. Another useful funtion is `help`, which gives us information about how to use a function:"
   ]
  },
  {
   "cell_type": "code",
   "execution_count": 10,
   "id": "1d173ecf",
   "metadata": {},
   "outputs": [
    {
     "name": "stdout",
     "output_type": "stream",
     "text": [
      "Help on built-in function print in module builtins:\n",
      "\n",
      "print(...)\n",
      "    print(value, ..., sep=' ', end='\\n', file=sys.stdout, flush=False)\n",
      "    \n",
      "    Prints the values to a stream, or to sys.stdout by default.\n",
      "    Optional keyword arguments:\n",
      "    file:  a file-like object (stream); defaults to the current sys.stdout.\n",
      "    sep:   string inserted between values, default a space.\n",
      "    end:   string appended after the last value, default a newline.\n",
      "    flush: whether to forcibly flush the stream.\n",
      "\n"
     ]
    }
   ],
   "source": [
    "help(print)"
   ]
  },
  {
   "cell_type": "code",
   "execution_count": 11,
   "id": "8a452ae3",
   "metadata": {},
   "outputs": [
    {
     "name": "stdout",
     "output_type": "stream",
     "text": [
      "Help on _Helper in module _sitebuiltins object:\n",
      "\n",
      "class _Helper(builtins.object)\n",
      " |  Define the builtin 'help'.\n",
      " |  \n",
      " |  This is a wrapper around pydoc.help that provides a helpful message\n",
      " |  when 'help' is typed at the Python interactive prompt.\n",
      " |  \n",
      " |  Calling help() at the Python prompt starts an interactive help session.\n",
      " |  Calling help(thing) prints help for the python object 'thing'.\n",
      " |  \n",
      " |  Methods defined here:\n",
      " |  \n",
      " |  __call__(self, *args, **kwds)\n",
      " |      Call self as a function.\n",
      " |  \n",
      " |  __repr__(self)\n",
      " |      Return repr(self).\n",
      " |  \n",
      " |  ----------------------------------------------------------------------\n",
      " |  Data descriptors defined here:\n",
      " |  \n",
      " |  __dict__\n",
      " |      dictionary for instance variables (if defined)\n",
      " |  \n",
      " |  __weakref__\n",
      " |      list of weak references to the object (if defined)\n",
      "\n"
     ]
    }
   ],
   "source": [
    "help(help)"
   ]
  },
  {
   "cell_type": "markdown",
   "id": "8b165dfa",
   "metadata": {},
   "source": [
    "We'll learn how to write our own functions later, but first let's get some practice using functions."
   ]
  },
  {
   "cell_type": "markdown",
   "id": "3bd8d12c",
   "metadata": {},
   "source": [
    "#### TODO\n",
    "\n",
    "Here are a few examples of functions that have been defined for you:\n",
    "- `squared(x)`: Squares a number\n",
    "- `add(x, y)`: Add x and y together\n",
    "- `print_name(first_name, last_name, middle_name=None)`: Prints \"My name is\", followed by your first/last name and optional middle initial (we'll talk more about optional arguments later)\n",
    "\n",
    "Using these functions, do the following:\n",
    "1. Calculate the square of 2\n",
    "2. Add 3 and 5\n",
    "3. Add 3 and 5 and square the result\n",
    "4. Print the value of 5 squared\n",
    "5. Print out your name"
   ]
  },
  {
   "cell_type": "code",
   "execution_count": 20,
   "id": "a0b39e79",
   "metadata": {},
   "outputs": [],
   "source": [
    "import numpy as np\n",
    "def square(x):\n",
    "    return x**2\n",
    "\n",
    "def add(x, y):\n",
    "    return x + y\n",
    "\n",
    "def print_name(first, last, middle=None):\n",
    "    if middle is None:\n",
    "        print(f\"My name is {first.title()} {last.title()}\")\n",
    "    else:\n",
    "        print(f\"My name is {first.title()} {middle[0].title()}. {last.title()}\")"
   ]
  },
  {
   "cell_type": "code",
   "execution_count": 21,
   "id": "c27554a2",
   "metadata": {},
   "outputs": [
    {
     "data": {
      "text/plain": [
       "4"
      ]
     },
     "execution_count": 21,
     "metadata": {},
     "output_type": "execute_result"
    }
   ],
   "source": [
    "square(2)"
   ]
  },
  {
   "cell_type": "code",
   "execution_count": 22,
   "id": "b2ad7444",
   "metadata": {},
   "outputs": [
    {
     "data": {
      "text/plain": [
       "8"
      ]
     },
     "execution_count": 22,
     "metadata": {},
     "output_type": "execute_result"
    }
   ],
   "source": [
    "add(3, 5)"
   ]
  },
  {
   "cell_type": "code",
   "execution_count": 23,
   "id": "c2d03de5",
   "metadata": {},
   "outputs": [
    {
     "data": {
      "text/plain": [
       "64"
      ]
     },
     "execution_count": 23,
     "metadata": {},
     "output_type": "execute_result"
    }
   ],
   "source": [
    "square(add(3, 5))"
   ]
  },
  {
   "cell_type": "code",
   "execution_count": 26,
   "id": "ebc3bc12",
   "metadata": {},
   "outputs": [
    {
     "name": "stdout",
     "output_type": "stream",
     "text": [
      "25\n"
     ]
    }
   ],
   "source": [
    "print(square(5))"
   ]
  },
  {
   "cell_type": "code",
   "execution_count": 25,
   "id": "91f20e5d",
   "metadata": {},
   "outputs": [
    {
     "name": "stdout",
     "output_type": "stream",
     "text": [
      "My name is Alec B. Chapman\n"
     ]
    }
   ],
   "source": [
    "print_name(\"Alec\", \"Chapman\", \"B\")"
   ]
  },
  {
   "cell_type": "code",
   "execution_count": null,
   "id": "f863cde1",
   "metadata": {},
   "outputs": [],
   "source": []
  },
  {
   "cell_type": "markdown",
   "id": "94a1f5d1",
   "metadata": {},
   "source": [
    "## Variables\n",
    "Now that we know how to use functions, the next tool we'll learn about is **variables**."
   ]
  },
  {
   "cell_type": "code",
   "execution_count": 27,
   "id": "ce5e5583",
   "metadata": {},
   "outputs": [
    {
     "data": {
      "text/plain": [
       "25"
      ]
     },
     "execution_count": 27,
     "metadata": {},
     "output_type": "execute_result"
    }
   ],
   "source": [
    "x = 5\n",
    "square(x)"
   ]
  },
  {
   "cell_type": "code",
   "execution_count": 28,
   "id": "64590c5c",
   "metadata": {},
   "outputs": [
    {
     "data": {
      "text/plain": [
       "9"
      ]
     },
     "execution_count": 28,
     "metadata": {},
     "output_type": "execute_result"
    }
   ],
   "source": [
    "x = 3\n",
    "square(3)"
   ]
  },
  {
   "cell_type": "markdown",
   "id": "8625d616",
   "metadata": {},
   "source": [
    "We can also define a variable using the output of a function.\n",
    "\n",
    "### TODO\n",
    "What value will we get with the following code?\n",
    "```python\n",
    "x = 3\n",
    "y = square(x)\n",
    "add(x, y)\n",
    "```"
   ]
  },
  {
   "cell_type": "code",
   "execution_count": 29,
   "id": "2134dc3f",
   "metadata": {},
   "outputs": [
    {
     "data": {
      "text/plain": [
       "12"
      ]
     },
     "execution_count": 29,
     "metadata": {},
     "output_type": "execute_result"
    }
   ],
   "source": [
    "x = 3\n",
    "y = square(x)\n",
    "add(x, y)"
   ]
  },
  {
   "cell_type": "code",
   "execution_count": null,
   "id": "7f751cc6",
   "metadata": {},
   "outputs": [],
   "source": []
  },
  {
   "cell_type": "markdown",
   "id": "9773b862",
   "metadata": {},
   "source": [
    "## Datatypes\n",
    "Variables can be of any Python **datatype**. Here are some examples of data types:"
   ]
  },
  {
   "cell_type": "markdown",
   "id": "6fc70cb8",
   "metadata": {},
   "source": [
    "### Integers\n",
    "Integers are whole numbers. Each of the following cells have an integer."
   ]
  },
  {
   "cell_type": "code",
   "execution_count": 30,
   "id": "cc3320cf",
   "metadata": {},
   "outputs": [
    {
     "data": {
      "text/plain": [
       "1"
      ]
     },
     "execution_count": 30,
     "metadata": {},
     "output_type": "execute_result"
    }
   ],
   "source": [
    "1"
   ]
  },
  {
   "cell_type": "code",
   "execution_count": 31,
   "id": "b96b582c",
   "metadata": {},
   "outputs": [
    {
     "data": {
      "text/plain": [
       "3"
      ]
     },
     "execution_count": 31,
     "metadata": {},
     "output_type": "execute_result"
    }
   ],
   "source": [
    "x = 3\n",
    "x"
   ]
  },
  {
   "cell_type": "markdown",
   "id": "6221ba27",
   "metadata": {},
   "source": [
    "We can add two or moreintegers:"
   ]
  },
  {
   "cell_type": "code",
   "execution_count": 45,
   "id": "859af498",
   "metadata": {},
   "outputs": [
    {
     "data": {
      "text/plain": [
       "8"
      ]
     },
     "execution_count": 45,
     "metadata": {},
     "output_type": "execute_result"
    }
   ],
   "source": [
    "x + 5"
   ]
  },
  {
   "cell_type": "code",
   "execution_count": 46,
   "id": "368d782e",
   "metadata": {},
   "outputs": [
    {
     "data": {
      "text/plain": [
       "12"
      ]
     },
     "execution_count": 46,
     "metadata": {},
     "output_type": "execute_result"
    }
   ],
   "source": [
    "x + 5 + 4"
   ]
  },
  {
   "cell_type": "markdown",
   "id": "03922b38",
   "metadata": {},
   "source": [
    "Or multiply them:"
   ]
  },
  {
   "cell_type": "code",
   "execution_count": 34,
   "id": "4ff9547a",
   "metadata": {},
   "outputs": [
    {
     "data": {
      "text/plain": [
       "15"
      ]
     },
     "execution_count": 34,
     "metadata": {},
     "output_type": "execute_result"
    }
   ],
   "source": [
    "x * 5"
   ]
  },
  {
   "cell_type": "markdown",
   "id": "d7d1ad21",
   "metadata": {},
   "source": [
    "divide them (note that it isn't an integer anymore):"
   ]
  },
  {
   "cell_type": "code",
   "execution_count": 38,
   "id": "35c3157a",
   "metadata": {},
   "outputs": [
    {
     "data": {
      "text/plain": [
       "0.6"
      ]
     },
     "execution_count": 38,
     "metadata": {},
     "output_type": "execute_result"
    }
   ],
   "source": [
    "x / 5"
   ]
  },
  {
   "cell_type": "markdown",
   "id": "07aad6a3",
   "metadata": {},
   "source": [
    "Or exponentiate them:"
   ]
  },
  {
   "cell_type": "code",
   "execution_count": 39,
   "id": "3f162f1c",
   "metadata": {},
   "outputs": [
    {
     "data": {
      "text/plain": [
       "243"
      ]
     },
     "execution_count": 39,
     "metadata": {},
     "output_type": "execute_result"
    }
   ],
   "source": [
    "x ** 5"
   ]
  },
  {
   "cell_type": "markdown",
   "id": "1fc81d1a",
   "metadata": {},
   "source": [
    "## Floats\n",
    "Floats are the other numeric datatype in Python and are a number with a decimal. "
   ]
  },
  {
   "cell_type": "code",
   "execution_count": 40,
   "id": "a9434c7e",
   "metadata": {},
   "outputs": [
    {
     "data": {
      "text/plain": [
       "1.3"
      ]
     },
     "execution_count": 40,
     "metadata": {},
     "output_type": "execute_result"
    }
   ],
   "source": [
    "1.3"
   ]
  },
  {
   "cell_type": "code",
   "execution_count": 43,
   "id": "3caadd0f",
   "metadata": {},
   "outputs": [
    {
     "data": {
      "text/plain": [
       "3.14"
      ]
     },
     "execution_count": 43,
     "metadata": {},
     "output_type": "execute_result"
    }
   ],
   "source": [
    "pi = 3.14\n",
    "pi"
   ]
  },
  {
   "cell_type": "markdown",
   "id": "379a7ecb",
   "metadata": {},
   "source": [
    "We can do all the same operations on floats that we did on integers. We can also do those same operations between floats and integers."
   ]
  },
  {
   "cell_type": "code",
   "execution_count": 47,
   "id": "6f0c7f5c",
   "metadata": {},
   "outputs": [
    {
     "data": {
      "text/plain": [
       "6.28"
      ]
     },
     "execution_count": 47,
     "metadata": {},
     "output_type": "execute_result"
    }
   ],
   "source": [
    "pi + pi"
   ]
  },
  {
   "cell_type": "code",
   "execution_count": 48,
   "id": "7dd7823c",
   "metadata": {},
   "outputs": [
    {
     "data": {
      "text/plain": [
       "6.28"
      ]
     },
     "execution_count": 48,
     "metadata": {},
     "output_type": "execute_result"
    }
   ],
   "source": [
    "2 * pi"
   ]
  },
  {
   "cell_type": "code",
   "execution_count": 49,
   "id": "0ff5aea5",
   "metadata": {},
   "outputs": [
    {
     "data": {
      "text/plain": [
       "6.140000000000001"
      ]
     },
     "execution_count": 49,
     "metadata": {},
     "output_type": "execute_result"
    }
   ],
   "source": [
    "pi + x"
   ]
  },
  {
   "cell_type": "code",
   "execution_count": 50,
   "id": "69c1f557",
   "metadata": {},
   "outputs": [
    {
     "data": {
      "text/plain": [
       "30.959144000000002"
      ]
     },
     "execution_count": 50,
     "metadata": {},
     "output_type": "execute_result"
    }
   ],
   "source": [
    "pi ** x"
   ]
  },
  {
   "cell_type": "code",
   "execution_count": null,
   "id": "d30ad6e9",
   "metadata": {},
   "outputs": [],
   "source": []
  },
  {
   "cell_type": "markdown",
   "id": "be4e85c9",
   "metadata": {},
   "source": [
    "## Strings\n",
    "Strings represent text. We make a string by wrapping characcters in quotation marks:"
   ]
  },
  {
   "cell_type": "code",
   "execution_count": 51,
   "id": "82475883",
   "metadata": {},
   "outputs": [
    {
     "data": {
      "text/plain": [
       "'Hello!'"
      ]
     },
     "execution_count": 51,
     "metadata": {},
     "output_type": "execute_result"
    }
   ],
   "source": [
    "\"Hello!\""
   ]
  },
  {
   "cell_type": "code",
   "execution_count": 53,
   "id": "b4c16984",
   "metadata": {},
   "outputs": [],
   "source": [
    "first = \"Alec\"\n",
    "middle = \"B.\"\n",
    "last = \"Chapman\""
   ]
  },
  {
   "cell_type": "markdown",
   "id": "141b0779",
   "metadata": {},
   "source": [
    "We can add strings together to get a longer string:"
   ]
  },
  {
   "cell_type": "code",
   "execution_count": 55,
   "id": "e49b6896",
   "metadata": {},
   "outputs": [
    {
     "data": {
      "text/plain": [
       "'Alec B. Chapman'"
      ]
     },
     "execution_count": 55,
     "metadata": {},
     "output_type": "execute_result"
    }
   ],
   "source": [
    "first + \" \" + middle + \" \" + last"
   ]
  },
  {
   "cell_type": "markdown",
   "id": "ca1b45de",
   "metadata": {},
   "source": [
    "However, you cannot add a string and numeric objects:"
   ]
  },
  {
   "cell_type": "code",
   "execution_count": 56,
   "id": "7be3598c",
   "metadata": {},
   "outputs": [
    {
     "ename": "TypeError",
     "evalue": "can only concatenate str (not \"int\") to str",
     "output_type": "error",
     "traceback": [
      "\u001b[0;31m---------------------------------------------------------------------------\u001b[0m",
      "\u001b[0;31mTypeError\u001b[0m                                 Traceback (most recent call last)",
      "Input \u001b[0;32mIn [56]\u001b[0m, in \u001b[0;36m<cell line: 1>\u001b[0;34m()\u001b[0m\n\u001b[0;32m----> 1\u001b[0m \u001b[43mfirst\u001b[49m\u001b[43m \u001b[49m\u001b[38;5;241;43m+\u001b[39;49m\u001b[43m \u001b[49m\u001b[38;5;241;43m1\u001b[39;49m\n",
      "\u001b[0;31mTypeError\u001b[0m: can only concatenate str (not \"int\") to str"
     ]
    }
   ],
   "source": [
    "first + 1"
   ]
  },
  {
   "cell_type": "markdown",
   "id": "1f03d6e5",
   "metadata": {},
   "source": [
    "But you can multiply a string and an integer:"
   ]
  },
  {
   "cell_type": "code",
   "execution_count": 58,
   "id": "44d58d50",
   "metadata": {},
   "outputs": [
    {
     "data": {
      "text/plain": [
       "'Hello!Hello!Hello!Hello!Hello!Hello!Hello!Hello!Hello!Hello!Hello!Hello!Hello!Hello!Hello!Hello!Hello!Hello!Hello!Hello!Hello!Hello!Hello!Hello!Hello!'"
      ]
     },
     "execution_count": 58,
     "metadata": {},
     "output_type": "execute_result"
    }
   ],
   "source": [
    "\"Hello!\"*25"
   ]
  },
  {
   "cell_type": "code",
   "execution_count": null,
   "id": "c77d6da1",
   "metadata": {},
   "outputs": [],
   "source": []
  },
  {
   "cell_type": "markdown",
   "id": "9d5c94c7",
   "metadata": {},
   "source": [
    "## Booleans"
   ]
  },
  {
   "cell_type": "code",
   "execution_count": 72,
   "id": "1e0da08f",
   "metadata": {},
   "outputs": [
    {
     "data": {
      "text/plain": [
       "True"
      ]
     },
     "execution_count": 72,
     "metadata": {},
     "output_type": "execute_result"
    }
   ],
   "source": [
    "True"
   ]
  },
  {
   "cell_type": "code",
   "execution_count": 73,
   "id": "ca0420ec",
   "metadata": {},
   "outputs": [
    {
     "data": {
      "text/plain": [
       "False"
      ]
     },
     "execution_count": 73,
     "metadata": {},
     "output_type": "execute_result"
    }
   ],
   "source": [
    "False"
   ]
  },
  {
   "cell_type": "code",
   "execution_count": 74,
   "id": "0a3bd436",
   "metadata": {},
   "outputs": [
    {
     "data": {
      "text/plain": [
       "True"
      ]
     },
     "execution_count": 74,
     "metadata": {},
     "output_type": "execute_result"
    }
   ],
   "source": [
    "3 == 3"
   ]
  },
  {
   "cell_type": "code",
   "execution_count": 76,
   "id": "85057e71",
   "metadata": {},
   "outputs": [
    {
     "data": {
      "text/plain": [
       "True"
      ]
     },
     "execution_count": 76,
     "metadata": {},
     "output_type": "execute_result"
    }
   ],
   "source": [
    "3 > 1"
   ]
  },
  {
   "cell_type": "code",
   "execution_count": 77,
   "id": "7e34da57",
   "metadata": {},
   "outputs": [
    {
     "data": {
      "text/plain": [
       "True"
      ]
     },
     "execution_count": 77,
     "metadata": {},
     "output_type": "execute_result"
    }
   ],
   "source": [
    "3 >= 3"
   ]
  },
  {
   "cell_type": "code",
   "execution_count": 78,
   "id": "adea3f00",
   "metadata": {},
   "outputs": [],
   "source": [
    "a = True\n",
    "b = False"
   ]
  },
  {
   "cell_type": "code",
   "execution_count": 79,
   "id": "3c447780",
   "metadata": {},
   "outputs": [
    {
     "data": {
      "text/plain": [
       "False"
      ]
     },
     "execution_count": 79,
     "metadata": {},
     "output_type": "execute_result"
    }
   ],
   "source": [
    "a & b"
   ]
  },
  {
   "cell_type": "code",
   "execution_count": 80,
   "id": "ad8346cc",
   "metadata": {},
   "outputs": [
    {
     "data": {
      "text/plain": [
       "True"
      ]
     },
     "execution_count": 80,
     "metadata": {},
     "output_type": "execute_result"
    }
   ],
   "source": [
    "a or b"
   ]
  },
  {
   "cell_type": "code",
   "execution_count": 88,
   "id": "c6cb365d",
   "metadata": {},
   "outputs": [
    {
     "data": {
      "text/plain": [
       "True"
      ]
     },
     "execution_count": 88,
     "metadata": {},
     "output_type": "execute_result"
    }
   ],
   "source": [
    "a and not b"
   ]
  },
  {
   "cell_type": "code",
   "execution_count": 90,
   "id": "7cb45fa1",
   "metadata": {},
   "outputs": [
    {
     "data": {
      "text/plain": [
       "True"
      ]
     },
     "execution_count": 90,
     "metadata": {},
     "output_type": "execute_result"
    }
   ],
   "source": [
    "not (a and b)"
   ]
  },
  {
   "cell_type": "code",
   "execution_count": 91,
   "id": "2cb7d848",
   "metadata": {},
   "outputs": [
    {
     "data": {
      "text/plain": [
       "True"
      ]
     },
     "execution_count": 91,
     "metadata": {},
     "output_type": "execute_result"
    }
   ],
   "source": [
    "not (a and b)"
   ]
  },
  {
   "cell_type": "code",
   "execution_count": null,
   "id": "2e3fe9e3",
   "metadata": {},
   "outputs": [],
   "source": []
  },
  {
   "cell_type": "code",
   "execution_count": 83,
   "id": "291bd220",
   "metadata": {},
   "outputs": [],
   "source": [
    "c = a & b"
   ]
  },
  {
   "cell_type": "code",
   "execution_count": 86,
   "id": "aa5de4ef",
   "metadata": {},
   "outputs": [],
   "source": [
    "d = a or b"
   ]
  },
  {
   "cell_type": "code",
   "execution_count": 84,
   "id": "2d4cdc61",
   "metadata": {},
   "outputs": [
    {
     "data": {
      "text/plain": [
       "False"
      ]
     },
     "execution_count": 84,
     "metadata": {},
     "output_type": "execute_result"
    }
   ],
   "source": [
    "a & c"
   ]
  },
  {
   "cell_type": "code",
   "execution_count": 87,
   "id": "132372d7",
   "metadata": {},
   "outputs": [
    {
     "data": {
      "text/plain": [
       "True"
      ]
     },
     "execution_count": 87,
     "metadata": {},
     "output_type": "execute_result"
    }
   ],
   "source": [
    "a & d"
   ]
  },
  {
   "cell_type": "code",
   "execution_count": null,
   "id": "8a723f77",
   "metadata": {},
   "outputs": [],
   "source": []
  },
  {
   "cell_type": "markdown",
   "id": "d3ad3855",
   "metadata": {},
   "source": [
    "## Lists, tuples, sets, and dictionaries"
   ]
  },
  {
   "cell_type": "code",
   "execution_count": 67,
   "id": "510a720d",
   "metadata": {},
   "outputs": [
    {
     "data": {
      "text/plain": [
       "['Alec', 'Dan', 'Marcie', 'Alec']"
      ]
     },
     "execution_count": 67,
     "metadata": {},
     "output_type": "execute_result"
    }
   ],
   "source": [
    "names_list = [\"Alec\", \"Dan\", \"Marcie\", \"Alec\"]\n",
    "names_list"
   ]
  },
  {
   "cell_type": "code",
   "execution_count": 62,
   "id": "d90bdf0f",
   "metadata": {},
   "outputs": [
    {
     "data": {
      "text/plain": [
       "list"
      ]
     },
     "execution_count": 62,
     "metadata": {},
     "output_type": "execute_result"
    }
   ],
   "source": [
    "type(names_list)"
   ]
  },
  {
   "cell_type": "code",
   "execution_count": 66,
   "id": "04b8c8d3",
   "metadata": {},
   "outputs": [
    {
     "data": {
      "text/plain": [
       "('Alec', 'Dan', 'Marcie', 'Alec')"
      ]
     },
     "execution_count": 66,
     "metadata": {},
     "output_type": "execute_result"
    }
   ],
   "source": [
    "names_tuple = (\"Alec\", \"Dan\", \"Marcie\", \"Alec\")\n",
    "names_tuple"
   ]
  },
  {
   "cell_type": "code",
   "execution_count": 64,
   "id": "d6ebf7cd",
   "metadata": {},
   "outputs": [
    {
     "data": {
      "text/plain": [
       "tuple"
      ]
     },
     "execution_count": 64,
     "metadata": {},
     "output_type": "execute_result"
    }
   ],
   "source": [
    "type(names_tuple)"
   ]
  },
  {
   "cell_type": "code",
   "execution_count": 65,
   "id": "59bd35c5",
   "metadata": {},
   "outputs": [
    {
     "data": {
      "text/plain": [
       "('Alec', 'Dan', 'Marcie', 'Alec')"
      ]
     },
     "execution_count": 65,
     "metadata": {},
     "output_type": "execute_result"
    }
   ],
   "source": [
    "tuple(names_list)"
   ]
  },
  {
   "cell_type": "code",
   "execution_count": 69,
   "id": "6cdefa2b",
   "metadata": {},
   "outputs": [
    {
     "data": {
      "text/plain": [
       "{'Alec', 'Dan', 'Marcie'}"
      ]
     },
     "execution_count": 69,
     "metadata": {},
     "output_type": "execute_result"
    }
   ],
   "source": [
    "names_set = {\"Alec\", \"Dan\", \"Marcie\", \"Alec\"}\n",
    "names_set"
   ]
  },
  {
   "cell_type": "code",
   "execution_count": 71,
   "id": "edd93e48",
   "metadata": {},
   "outputs": [
    {
     "data": {
      "text/plain": [
       "{'Alec': 'Student', 'Dan': 'Faculty', 'Marcie': 'Staff'}"
      ]
     },
     "execution_count": 71,
     "metadata": {},
     "output_type": "execute_result"
    }
   ],
   "source": [
    "names_dict = {\"Alec\": \"Student\", \"Dan\": \"Faculty\", \"Marcie\": \"Staff\"}\n",
    "names_dict"
   ]
  },
  {
   "cell_type": "code",
   "execution_count": null,
   "id": "48b1b293",
   "metadata": {},
   "outputs": [],
   "source": []
  }
 ],
 "metadata": {
  "kernelspec": {
   "display_name": "Python 3 (ipykernel)",
   "language": "python",
   "name": "python3"
  },
  "language_info": {
   "codemirror_mode": {
    "name": "ipython",
    "version": 3
   },
   "file_extension": ".py",
   "mimetype": "text/x-python",
   "name": "python",
   "nbconvert_exporter": "python",
   "pygments_lexer": "ipython3",
   "version": "3.9.12"
  }
 },
 "nbformat": 4,
 "nbformat_minor": 5
}
