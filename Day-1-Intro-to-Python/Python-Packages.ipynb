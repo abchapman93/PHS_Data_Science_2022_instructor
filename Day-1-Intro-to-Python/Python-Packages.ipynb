{
 "cells": [
  {
   "cell_type": "markdown",
   "id": "f142f65f",
   "metadata": {},
   "source": [
    "<html>\n",
    "<table width=\"100%\" cellspacing=\"2\" cellpadding=\"2\" border=\"1\">\n",
    "<tbody>\n",
    "<tr>\n",
    "<td valign=\"center\" align=\"center\" width=\"45%\"><img src=\"../media/Univ-Utah.jpeg\"><br>\n",
    "</td>\n",
    "    <td valign=\"center\" align=\"center\" width=\"75%\">\n",
    "<h1 align=\"center\"><font size=\"+1\">University of Utah<br>Population Health Sciences<br>Data Science Workshop</font></h1></td>\n",
    "<td valign=\"center\" align=\"center\" width=\"45%\"><img\n",
    "src=\"../media/U_Health_stacked_png_red.png\" alt=\"Utah Health\n",
    "Logo\" width=\"128\" height=\"134\"><br>\n",
    "</td>\n",
    "</tr>\n",
    "</tbody>\n",
    "</table>\n",
    "<br>\n",
    "</html>\n"
   ]
  },
  {
   "cell_type": "markdown",
   "id": "d42912cc",
   "metadata": {},
   "source": [
    "# Python Packages\n",
    "In the last notebook we saw how to write our own functions to manipulate data. That's helpful for when we have common manipulations we need to perform multiple times. But we don't want to write functions for every single data analysis task. Instead, we can leverage code written by other people in the Python communities.\n",
    "\n",
    "**Packages** (also called **libraries**) are collections of functions and other Python code, *packaged* together and distributed for the open-source community to use. In this notebook, we'll look at a few of the most important packages in Python for data science.\n",
    "- `numpy`\n",
    "- `random`\n",
    "- `scipy`?\n",
    "- `pandas`\n",
    "- `matplotlib` and `seaborn`"
   ]
  },
  {
   "cell_type": "markdown",
   "id": "5ffd2307",
   "metadata": {},
   "source": [
    "## Importing packages\n",
    "To use a package in Python, we first have to *import* it. The syntax for this is:\n",
    "\n",
    "```python\n",
    "import package_name\n",
    "```\n",
    "Let's start looking at some packages."
   ]
  },
  {
   "cell_type": "markdown",
   "id": "c25f5eac",
   "metadata": {},
   "source": [
    "## `numpy`\n",
    "`numpy` is maybe the foundational package for data science. `numpy` implements methods for arrays and matrices and allows us to perform mathematical operations on them. It also implements important functions for calculating summary statistics from our data\n",
    "\n",
    "First, we import the library. Then we can access functions in the library using `numpy.function_name`."
   ]
  },
  {
   "cell_type": "code",
   "execution_count": 1,
   "id": "8bf6a3cd",
   "metadata": {},
   "outputs": [],
   "source": [
    "import numpy"
   ]
  },
  {
   "cell_type": "markdown",
   "id": "a98d3099",
   "metadata": {},
   "source": [
    "`numpy` has a `mean` function, so we don't need to write our own function to calculate averages. Here's how to calculate the mean of the list in the previous notebook using numpy."
   ]
  },
  {
   "cell_type": "code",
   "execution_count": 3,
   "id": "ea8dceb9",
   "metadata": {},
   "outputs": [
    {
     "data": {
      "text/plain": [
       "3.8"
      ]
     },
     "execution_count": 3,
     "metadata": {},
     "output_type": "execute_result"
    }
   ],
   "source": [
    "a = [4, 0, 2, 2, 0, 10, 7, 8, 5, 0]\n",
    "numpy.mean(a)"
   ]
  },
  {
   "cell_type": "markdown",
   "id": "5f02c5c3",
   "metadata": {},
   "source": [
    "Sometimes we use a library so much we don't want to type its whole name every time. So for some libraries (including numpy), it's standard practice to assign an alias by saying:\n",
    "\n",
    "```python\n",
    "import package_name as alias\n",
    "```\n",
    "\n",
    "Then we use `alias.function_name` in our code. \n",
    "\n",
    "For `numpy`, we typically refer to it as `np`:"
   ]
  },
  {
   "cell_type": "code",
   "execution_count": 5,
   "id": "10f31a4a",
   "metadata": {},
   "outputs": [
    {
     "data": {
      "text/plain": [
       "3.8"
      ]
     },
     "execution_count": 5,
     "metadata": {},
     "output_type": "execute_result"
    }
   ],
   "source": [
    "import numpy as np\n",
    "np.mean(a)"
   ]
  },
  {
   "cell_type": "code",
   "execution_count": 7,
   "id": "db160b48",
   "metadata": {},
   "outputs": [
    {
     "data": {
      "text/plain": [
       "3.4292856398964493"
      ]
     },
     "execution_count": 7,
     "metadata": {},
     "output_type": "execute_result"
    }
   ],
   "source": [
    "np.std(a)"
   ]
  },
  {
   "cell_type": "markdown",
   "id": "cd4a591f",
   "metadata": {},
   "source": [
    "If you only need to use one particular function in a library, instead of importing the entire package you can just import the function you want (again with or without an alias):\n",
    "\n",
    "```python\n",
    "from package_name import function_name\n",
    "from package_name import function_name as alias\n",
    "```"
   ]
  },
  {
   "cell_type": "markdown",
   "id": "b3818a4a",
   "metadata": {},
   "source": [
    "#### TODO\n",
    "Import the `std` function from numpy and assign it an alias of `sd`."
   ]
  },
  {
   "cell_type": "code",
   "execution_count": 8,
   "id": "8e430d2c",
   "metadata": {},
   "outputs": [],
   "source": [
    "from numpy import std as sd"
   ]
  },
  {
   "cell_type": "code",
   "execution_count": 10,
   "id": "d1603446",
   "metadata": {},
   "outputs": [
    {
     "data": {
      "text/plain": [
       "3.4292856398964493"
      ]
     },
     "execution_count": 10,
     "metadata": {},
     "output_type": "execute_result"
    }
   ],
   "source": [
    "sd(a)"
   ]
  },
  {
   "cell_type": "code",
   "execution_count": 11,
   "id": "d055cf8e",
   "metadata": {},
   "outputs": [
    {
     "data": {
      "text/plain": [
       "True"
      ]
     },
     "execution_count": 11,
     "metadata": {},
     "output_type": "execute_result"
    }
   ],
   "source": [
    "sd is np.std"
   ]
  },
  {
   "cell_type": "code",
   "execution_count": null,
   "id": "79d7b813",
   "metadata": {},
   "outputs": [],
   "source": []
  },
  {
   "cell_type": "markdown",
   "id": "ff616cee",
   "metadata": {},
   "source": [
    "### Arrays and matrices\n",
    "One of the most important contributions of `numpy` is its implementation of `arrays`. Arrays are similar to lists, but with a lot of important extensions:\n",
    "\n",
    "- They have mathematical operations defined on them that allows for easy and efficient data manipulation\n",
    "- The can have multiple dimensions, allowing us to build matrices"
   ]
  },
  {
   "cell_type": "code",
   "execution_count": 36,
   "id": "9178ebad",
   "metadata": {},
   "outputs": [
    {
     "data": {
      "text/plain": [
       "array([ 4,  0,  2,  2,  0, 10,  7,  8,  5,  0])"
      ]
     },
     "execution_count": 36,
     "metadata": {},
     "output_type": "execute_result"
    }
   ],
   "source": [
    "a_arr = np.array(a)\n",
    "a_arr"
   ]
  },
  {
   "cell_type": "code",
   "execution_count": 37,
   "id": "581cc24d",
   "metadata": {},
   "outputs": [
    {
     "data": {
      "text/plain": [
       "38"
      ]
     },
     "execution_count": 37,
     "metadata": {},
     "output_type": "execute_result"
    }
   ],
   "source": [
    "a_arr.sum()"
   ]
  },
  {
   "cell_type": "code",
   "execution_count": 15,
   "id": "50499ccd",
   "metadata": {},
   "outputs": [
    {
     "data": {
      "text/plain": [
       "38"
      ]
     },
     "execution_count": 15,
     "metadata": {},
     "output_type": "execute_result"
    }
   ],
   "source": [
    "sum(a)"
   ]
  },
  {
   "cell_type": "code",
   "execution_count": 27,
   "id": "9013ba5c",
   "metadata": {},
   "outputs": [
    {
     "data": {
      "text/plain": [
       "3.8"
      ]
     },
     "execution_count": 27,
     "metadata": {},
     "output_type": "execute_result"
    }
   ],
   "source": [
    "a_arr.mean()"
   ]
  },
  {
   "cell_type": "code",
   "execution_count": 28,
   "id": "3d241ea7",
   "metadata": {},
   "outputs": [
    {
     "data": {
      "text/plain": [
       "3.4292856398964493"
      ]
     },
     "execution_count": 28,
     "metadata": {},
     "output_type": "execute_result"
    }
   ],
   "source": [
    "a_arr.std()"
   ]
  },
  {
   "cell_type": "code",
   "execution_count": 29,
   "id": "b739c4cd",
   "metadata": {},
   "outputs": [
    {
     "data": {
      "text/plain": [
       "array([ 16,   0,   4,   4,   0, 100,  49,  64,  25,   0])"
      ]
     },
     "execution_count": 29,
     "metadata": {},
     "output_type": "execute_result"
    }
   ],
   "source": [
    "a_arr ** 2"
   ]
  },
  {
   "cell_type": "code",
   "execution_count": 30,
   "id": "d2c906f8",
   "metadata": {},
   "outputs": [
    {
     "data": {
      "text/plain": [
       "array([1.33333333, 0.        , 0.66666667, 0.66666667, 0.        ,\n",
       "       3.33333333, 2.33333333, 2.66666667, 1.66666667, 0.        ])"
      ]
     },
     "execution_count": 30,
     "metadata": {},
     "output_type": "execute_result"
    }
   ],
   "source": [
    "a_arr / 3"
   ]
  },
  {
   "cell_type": "code",
   "execution_count": 46,
   "id": "ab0f3f04",
   "metadata": {},
   "outputs": [
    {
     "data": {
      "text/plain": [
       "(10,)"
      ]
     },
     "execution_count": 46,
     "metadata": {},
     "output_type": "execute_result"
    }
   ],
   "source": [
    "a_arr.shape"
   ]
  },
  {
   "cell_type": "code",
   "execution_count": null,
   "id": "1ace4c78",
   "metadata": {},
   "outputs": [],
   "source": []
  },
  {
   "cell_type": "markdown",
   "id": "72f5a56e",
   "metadata": {},
   "source": [
    "### Multiple arrays\n",
    "Performing operations on multiple arrays is easier with numpy than with lists. For example, we can add or multiply the elements together:"
   ]
  },
  {
   "cell_type": "code",
   "execution_count": 43,
   "id": "0c337ead",
   "metadata": {},
   "outputs": [],
   "source": [
    "b_arr = np.array([4, 1, 4, 3, 9, 2, 0, 0, 5, 4])"
   ]
  },
  {
   "cell_type": "code",
   "execution_count": 47,
   "id": "38be3da5",
   "metadata": {},
   "outputs": [
    {
     "data": {
      "text/plain": [
       "array([ 8,  1,  6,  5,  9, 12,  7,  8, 10,  4])"
      ]
     },
     "execution_count": 47,
     "metadata": {},
     "output_type": "execute_result"
    }
   ],
   "source": [
    "a_arr + b_arr"
   ]
  },
  {
   "cell_type": "code",
   "execution_count": 48,
   "id": "db864657",
   "metadata": {},
   "outputs": [
    {
     "data": {
      "text/plain": [
       "array([16,  0,  8,  6,  0, 20,  0,  0, 25,  0])"
      ]
     },
     "execution_count": 48,
     "metadata": {},
     "output_type": "execute_result"
    }
   ],
   "source": [
    "a_arr * b_arr"
   ]
  },
  {
   "cell_type": "code",
   "execution_count": 49,
   "id": "6471e26c",
   "metadata": {},
   "outputs": [
    {
     "data": {
      "text/plain": [
       "75"
      ]
     },
     "execution_count": 49,
     "metadata": {},
     "output_type": "execute_result"
    }
   ],
   "source": [
    "a_arr.dot(b_arr)"
   ]
  },
  {
   "cell_type": "markdown",
   "id": "87a3fdad",
   "metadata": {},
   "source": [
    "However, this will throw an error if the shapes of the arrays don't line up:"
   ]
  },
  {
   "cell_type": "code",
   "execution_count": 50,
   "id": "d15c9ac5",
   "metadata": {},
   "outputs": [
    {
     "ename": "ValueError",
     "evalue": "operands could not be broadcast together with shapes (10,) (9,) ",
     "output_type": "error",
     "traceback": [
      "\u001b[0;31m---------------------------------------------------------------------------\u001b[0m",
      "\u001b[0;31mValueError\u001b[0m                                Traceback (most recent call last)",
      "Input \u001b[0;32mIn [50]\u001b[0m, in \u001b[0;36m<cell line: 1>\u001b[0;34m()\u001b[0m\n\u001b[0;32m----> 1\u001b[0m \u001b[43ma_arr\u001b[49m\u001b[43m \u001b[49m\u001b[38;5;241;43m+\u001b[39;49m\u001b[43m \u001b[49m\u001b[43mb_arr\u001b[49m\u001b[43m[\u001b[49m\u001b[43m:\u001b[49m\u001b[38;5;241;43m-\u001b[39;49m\u001b[38;5;241;43m1\u001b[39;49m\u001b[43m]\u001b[49m\n",
      "\u001b[0;31mValueError\u001b[0m: operands could not be broadcast together with shapes (10,) (9,) "
     ]
    }
   ],
   "source": [
    "a_arr + b_arr[:-1]"
   ]
  },
  {
   "cell_type": "code",
   "execution_count": null,
   "id": "714d0861",
   "metadata": {},
   "outputs": [],
   "source": []
  },
  {
   "cell_type": "markdown",
   "id": "c3ed7c4c",
   "metadata": {},
   "source": [
    "### Multi-dimensional arrays"
   ]
  },
  {
   "cell_type": "code",
   "execution_count": 51,
   "id": "8990b680",
   "metadata": {},
   "outputs": [],
   "source": [
    "matrix = np.array([a, b])"
   ]
  },
  {
   "cell_type": "code",
   "execution_count": 52,
   "id": "5bfb41b1",
   "metadata": {},
   "outputs": [
    {
     "data": {
      "text/plain": [
       "array([[ 4,  0,  2,  2,  0, 10,  7,  8,  5,  0],\n",
       "       [ 4,  1,  4,  3,  9,  2,  0,  0,  5,  4]])"
      ]
     },
     "execution_count": 52,
     "metadata": {},
     "output_type": "execute_result"
    }
   ],
   "source": [
    "matrix"
   ]
  },
  {
   "cell_type": "code",
   "execution_count": 53,
   "id": "397ce8a9",
   "metadata": {},
   "outputs": [
    {
     "data": {
      "text/plain": [
       "array([[ 4,  4],\n",
       "       [ 0,  1],\n",
       "       [ 2,  4],\n",
       "       [ 2,  3],\n",
       "       [ 0,  9],\n",
       "       [10,  2],\n",
       "       [ 7,  0],\n",
       "       [ 8,  0],\n",
       "       [ 5,  5],\n",
       "       [ 0,  4]])"
      ]
     },
     "execution_count": 53,
     "metadata": {},
     "output_type": "execute_result"
    }
   ],
   "source": [
    "matrix.transpose()"
   ]
  },
  {
   "cell_type": "code",
   "execution_count": 56,
   "id": "c065a7c9",
   "metadata": {},
   "outputs": [
    {
     "data": {
      "text/plain": [
       "array([ 4,  0,  2,  2,  0, 10,  7,  8,  5,  0])"
      ]
     },
     "execution_count": 56,
     "metadata": {},
     "output_type": "execute_result"
    }
   ],
   "source": [
    "# Get the first row\n",
    "matrix[0,:]"
   ]
  },
  {
   "cell_type": "code",
   "execution_count": 61,
   "id": "72422697",
   "metadata": {},
   "outputs": [
    {
     "data": {
      "text/plain": [
       "array([[0, 2],\n",
       "       [1, 4]])"
      ]
     },
     "execution_count": 61,
     "metadata": {},
     "output_type": "execute_result"
    }
   ],
   "source": [
    "# Get the second and third columns\n",
    "matrix[:,1:3]"
   ]
  },
  {
   "cell_type": "code",
   "execution_count": 63,
   "id": "34ac3791",
   "metadata": {},
   "outputs": [
    {
     "data": {
      "text/plain": [
       "0"
      ]
     },
     "execution_count": 63,
     "metadata": {},
     "output_type": "execute_result"
    }
   ],
   "source": [
    "# Get the element in the second column off the first row\n",
    "matrix[0, 1]"
   ]
  },
  {
   "cell_type": "code",
   "execution_count": 66,
   "id": "884be933",
   "metadata": {},
   "outputs": [
    {
     "data": {
      "text/plain": [
       "array([[1., 0., 0.],\n",
       "       [0., 1., 0.],\n",
       "       [0., 0., 1.]])"
      ]
     },
     "execution_count": 66,
     "metadata": {},
     "output_type": "execute_result"
    }
   ],
   "source": [
    "I = np.eye(3, 3)\n",
    "I"
   ]
  },
  {
   "cell_type": "code",
   "execution_count": null,
   "id": "9d39a441",
   "metadata": {},
   "outputs": [],
   "source": []
  },
  {
   "cell_type": "code",
   "execution_count": null,
   "id": "820e628f",
   "metadata": {},
   "outputs": [],
   "source": []
  },
  {
   "cell_type": "markdown",
   "id": "28c5a1c0",
   "metadata": {},
   "source": [
    "### Pandas"
   ]
  },
  {
   "cell_type": "code",
   "execution_count": 4,
   "id": "01051f76",
   "metadata": {},
   "outputs": [],
   "source": [
    "import pandas as pd"
   ]
  },
  {
   "cell_type": "code",
   "execution_count": null,
   "id": "a25c0235",
   "metadata": {},
   "outputs": [],
   "source": []
  },
  {
   "cell_type": "markdown",
   "id": "dcf2ac62",
   "metadata": {},
   "source": [
    "## Matplotlib and seaborn"
   ]
  },
  {
   "cell_type": "code",
   "execution_count": 7,
   "id": "036f8d3b",
   "metadata": {},
   "outputs": [],
   "source": [
    "import matplotlib.pyplot as plt\n",
    "\n",
    "import seaborn as sns\n",
    "sns.set()"
   ]
  },
  {
   "cell_type": "code",
   "execution_count": null,
   "id": "6e6c5f95",
   "metadata": {},
   "outputs": [],
   "source": []
  }
 ],
 "metadata": {
  "kernelspec": {
   "display_name": "Python 3 (ipykernel)",
   "language": "python",
   "name": "python3"
  },
  "language_info": {
   "codemirror_mode": {
    "name": "ipython",
    "version": 3
   },
   "file_extension": ".py",
   "mimetype": "text/x-python",
   "name": "python",
   "nbconvert_exporter": "python",
   "pygments_lexer": "ipython3",
   "version": "3.9.12"
  }
 },
 "nbformat": 4,
 "nbformat_minor": 5
}
