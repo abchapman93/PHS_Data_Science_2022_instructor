{
 "cells": [
  {
   "cell_type": "markdown",
   "id": "5001c82a",
   "metadata": {},
   "source": [
    "# Day 1\n",
    "## Pneumonia Use Case Part 1\n",
    "\n",
    "In this notebook, we will put our newly developed Python skills to use. We will analyze a dataset of ICU patients from the MIMIC-II database.\n",
    "\n",
    "1. Exploratory data analysis\n",
    "2. Wrangle data\n",
    "3. Calculate the relative risk (RR) of variables with 30-day mortality\n",
    "4. Perform survival analysis to study the cumulative incidence of 30-day mortality and study the association of pneumonia with 30-day mortality\n",
    "\n",
    "**Study population**: All patients in MIMIC-II who were discharged from the ICU and are at least 18 years old."
   ]
  },
  {
   "cell_type": "code",
   "execution_count": 6,
   "id": "fc10c31b",
   "metadata": {},
   "outputs": [],
   "source": [
    "import pandas as pd\n",
    "import os\n",
    "\n",
    "import matplotlib.pyplot as plt\n",
    "import seaborn as sns"
   ]
  },
  {
   "cell_type": "code",
   "execution_count": 3,
   "id": "10045eb9",
   "metadata": {},
   "outputs": [],
   "source": [
    "%matplotlib inline\n",
    "sns.set()"
   ]
  },
  {
   "cell_type": "markdown",
   "id": "23d84e90",
   "metadata": {},
   "source": [
    "## 0. Read in data"
   ]
  },
  {
   "cell_type": "code",
   "execution_count": 7,
   "id": "04a7ff60",
   "metadata": {},
   "outputs": [
    {
     "data": {
      "text/plain": [
       "True"
      ]
     },
     "execution_count": 7,
     "metadata": {},
     "output_type": "execute_result"
    }
   ],
   "source": [
    "FILEPATH = \"../data/pna_30_day_mortality.csv\"\n",
    "os.path.exists(FILEPATH)"
   ]
  },
  {
   "cell_type": "markdown",
   "id": "5e738e61",
   "metadata": {},
   "source": [
    "#### TODO\n",
    "Read in the CSV file under `../data/pna_30_day_mortality.csv`"
   ]
  },
  {
   "cell_type": "code",
   "execution_count": 5,
   "id": "43548a5d",
   "metadata": {},
   "outputs": [],
   "source": [
    "df = pd.read_csv(FILEPATH)"
   ]
  },
  {
   "cell_type": "code",
   "execution_count": 33,
   "id": "e81df238",
   "metadata": {},
   "outputs": [
    {
     "data": {
      "text/plain": [
       "5074"
      ]
     },
     "execution_count": 33,
     "metadata": {},
     "output_type": "execute_result"
    }
   ],
   "source": [
    "len(df)"
   ]
  },
  {
   "cell_type": "code",
   "execution_count": 34,
   "id": "e210db7e",
   "metadata": {},
   "outputs": [
    {
     "data": {
      "text/html": [
       "<div>\n",
       "<style scoped>\n",
       "    .dataframe tbody tr th:only-of-type {\n",
       "        vertical-align: middle;\n",
       "    }\n",
       "\n",
       "    .dataframe tbody tr th {\n",
       "        vertical-align: top;\n",
       "    }\n",
       "\n",
       "    .dataframe thead th {\n",
       "        text-align: right;\n",
       "    }\n",
       "</style>\n",
       "<table border=\"1\" class=\"dataframe\">\n",
       "  <thead>\n",
       "    <tr style=\"text-align: right;\">\n",
       "      <th></th>\n",
       "      <th>subject_id</th>\n",
       "      <th>hadm_id</th>\n",
       "      <th>disch_dt</th>\n",
       "      <th>dod</th>\n",
       "      <th>sex</th>\n",
       "      <th>ethnicity_descr</th>\n",
       "      <th>age_at_discharge</th>\n",
       "      <th>age_at_discharge_binned</th>\n",
       "      <th>pna</th>\n",
       "      <th>time_discharge_to_death</th>\n",
       "      <th>mortality_30_day</th>\n",
       "    </tr>\n",
       "  </thead>\n",
       "  <tbody>\n",
       "    <tr>\n",
       "      <th>0</th>\n",
       "      <td>56</td>\n",
       "      <td>28766</td>\n",
       "      <td>2644-01-23 00:00:00</td>\n",
       "      <td>2644-01-23 00:00:00</td>\n",
       "      <td>F</td>\n",
       "      <td>WHITE</td>\n",
       "      <td>90.7205</td>\n",
       "      <td>91+</td>\n",
       "      <td>0</td>\n",
       "      <td>0</td>\n",
       "      <td>1</td>\n",
       "    </tr>\n",
       "    <tr>\n",
       "      <th>1</th>\n",
       "      <td>37</td>\n",
       "      <td>18052</td>\n",
       "      <td>3264-08-19 00:00:00</td>\n",
       "      <td>3265-12-31 00:00:00</td>\n",
       "      <td>M</td>\n",
       "      <td>WHITE</td>\n",
       "      <td>68.9863</td>\n",
       "      <td>66-90</td>\n",
       "      <td>1</td>\n",
       "      <td>499</td>\n",
       "      <td>0</td>\n",
       "    </tr>\n",
       "    <tr>\n",
       "      <th>2</th>\n",
       "      <td>78</td>\n",
       "      <td>15161</td>\n",
       "      <td>2778-03-27 00:00:00</td>\n",
       "      <td>2781-03-11 00:00:00</td>\n",
       "      <td>M</td>\n",
       "      <td>BLACK/AFRICAN AMERICAN</td>\n",
       "      <td>48.6658</td>\n",
       "      <td>36-65</td>\n",
       "      <td>0</td>\n",
       "      <td>1080</td>\n",
       "      <td>0</td>\n",
       "    </tr>\n",
       "    <tr>\n",
       "      <th>3</th>\n",
       "      <td>67</td>\n",
       "      <td>35878</td>\n",
       "      <td>2976-11-29 00:00:00</td>\n",
       "      <td>2976-11-29 00:00:00</td>\n",
       "      <td>M</td>\n",
       "      <td>WHITE</td>\n",
       "      <td>73.5397</td>\n",
       "      <td>66-90</td>\n",
       "      <td>0</td>\n",
       "      <td>0</td>\n",
       "      <td>1</td>\n",
       "    </tr>\n",
       "    <tr>\n",
       "      <th>4</th>\n",
       "      <td>3</td>\n",
       "      <td>2075</td>\n",
       "      <td>2682-09-18 00:00:00</td>\n",
       "      <td>2683-05-02 00:00:00</td>\n",
       "      <td>M</td>\n",
       "      <td>WHITE</td>\n",
       "      <td>76.6055</td>\n",
       "      <td>66-90</td>\n",
       "      <td>0</td>\n",
       "      <td>226</td>\n",
       "      <td>0</td>\n",
       "    </tr>\n",
       "  </tbody>\n",
       "</table>\n",
       "</div>"
      ],
      "text/plain": [
       "   subject_id  hadm_id             disch_dt                  dod sex  \\\n",
       "0          56    28766  2644-01-23 00:00:00  2644-01-23 00:00:00   F   \n",
       "1          37    18052  3264-08-19 00:00:00  3265-12-31 00:00:00   M   \n",
       "2          78    15161  2778-03-27 00:00:00  2781-03-11 00:00:00   M   \n",
       "3          67    35878  2976-11-29 00:00:00  2976-11-29 00:00:00   M   \n",
       "4           3     2075  2682-09-18 00:00:00  2683-05-02 00:00:00   M   \n",
       "\n",
       "          ethnicity_descr  age_at_discharge age_at_discharge_binned  pna  \\\n",
       "0                   WHITE           90.7205                     91+    0   \n",
       "1                   WHITE           68.9863                   66-90    1   \n",
       "2  BLACK/AFRICAN AMERICAN           48.6658                   36-65    0   \n",
       "3                   WHITE           73.5397                   66-90    0   \n",
       "4                   WHITE           76.6055                   66-90    0   \n",
       "\n",
       "   time_discharge_to_death  mortality_30_day  \n",
       "0                        0                 1  \n",
       "1                      499                 0  \n",
       "2                     1080                 0  \n",
       "3                        0                 1  \n",
       "4                      226                 0  "
      ]
     },
     "execution_count": 34,
     "metadata": {},
     "output_type": "execute_result"
    }
   ],
   "source": [
    "df.head()"
   ]
  },
  {
   "cell_type": "markdown",
   "id": "5b0de7d5",
   "metadata": {},
   "source": [
    "## 1. Exploratory data analysis"
   ]
  },
  {
   "cell_type": "markdown",
   "id": "5e4b55ad",
   "metadata": {},
   "source": [
    "#### TODO\n",
    "Our first analysis will be exploring the dataset using visualization and summary statistics. We will answer questions like:\n",
    "- What are the demographics of the patient population?\n",
    "- How many patients died in the hospital? How long did patients survive after discharge?\n",
    "- How many patients had pneumonia? Does the subpopulation of pneumonia cases differ at all from the rest of the population?\n",
    "\n",
    "But first, you may need to do some additional data transformations to get the necessary variables. Start by exploring the dataset and getting familiar with it. Which of the previous analyses can you do? Which do you need to do additional work for?"
   ]
  },
  {
   "cell_type": "code",
   "execution_count": 16,
   "id": "1b732e4f",
   "metadata": {},
   "outputs": [
    {
     "data": {
      "text/html": [
       "<div>\n",
       "<style scoped>\n",
       "    .dataframe tbody tr th:only-of-type {\n",
       "        vertical-align: middle;\n",
       "    }\n",
       "\n",
       "    .dataframe tbody tr th {\n",
       "        vertical-align: top;\n",
       "    }\n",
       "\n",
       "    .dataframe thead th {\n",
       "        text-align: right;\n",
       "    }\n",
       "</style>\n",
       "<table border=\"1\" class=\"dataframe\">\n",
       "  <thead>\n",
       "    <tr style=\"text-align: right;\">\n",
       "      <th></th>\n",
       "      <th>subject_id</th>\n",
       "      <th>hadm_id</th>\n",
       "      <th>disch_dt</th>\n",
       "      <th>dod</th>\n",
       "      <th>sex</th>\n",
       "      <th>ethnicity_descr</th>\n",
       "      <th>age_at_discharge</th>\n",
       "      <th>age_at_discharge_binned</th>\n",
       "      <th>pna</th>\n",
       "      <th>time_to_death</th>\n",
       "      <th>mortality_30_day</th>\n",
       "    </tr>\n",
       "  </thead>\n",
       "  <tbody>\n",
       "    <tr>\n",
       "      <th>0</th>\n",
       "      <td>56</td>\n",
       "      <td>28766</td>\n",
       "      <td>2644-01-23 00:00:00</td>\n",
       "      <td>2644-01-23 00:00:00</td>\n",
       "      <td>F</td>\n",
       "      <td>WHITE</td>\n",
       "      <td>90.7205</td>\n",
       "      <td>91+</td>\n",
       "      <td>0</td>\n",
       "      <td>0</td>\n",
       "      <td>1</td>\n",
       "    </tr>\n",
       "    <tr>\n",
       "      <th>1</th>\n",
       "      <td>37</td>\n",
       "      <td>18052</td>\n",
       "      <td>3264-08-19 00:00:00</td>\n",
       "      <td>3265-12-31 00:00:00</td>\n",
       "      <td>M</td>\n",
       "      <td>WHITE</td>\n",
       "      <td>68.9863</td>\n",
       "      <td>66-90</td>\n",
       "      <td>1</td>\n",
       "      <td>499</td>\n",
       "      <td>0</td>\n",
       "    </tr>\n",
       "    <tr>\n",
       "      <th>2</th>\n",
       "      <td>78</td>\n",
       "      <td>15161</td>\n",
       "      <td>2778-03-27 00:00:00</td>\n",
       "      <td>2781-03-11 00:00:00</td>\n",
       "      <td>M</td>\n",
       "      <td>BLACK/AFRICAN AMERICAN</td>\n",
       "      <td>48.6658</td>\n",
       "      <td>36-65</td>\n",
       "      <td>0</td>\n",
       "      <td>1080</td>\n",
       "      <td>0</td>\n",
       "    </tr>\n",
       "    <tr>\n",
       "      <th>3</th>\n",
       "      <td>67</td>\n",
       "      <td>35878</td>\n",
       "      <td>2976-11-29 00:00:00</td>\n",
       "      <td>2976-11-29 00:00:00</td>\n",
       "      <td>M</td>\n",
       "      <td>WHITE</td>\n",
       "      <td>73.5397</td>\n",
       "      <td>66-90</td>\n",
       "      <td>0</td>\n",
       "      <td>0</td>\n",
       "      <td>1</td>\n",
       "    </tr>\n",
       "    <tr>\n",
       "      <th>4</th>\n",
       "      <td>3</td>\n",
       "      <td>2075</td>\n",
       "      <td>2682-09-18 00:00:00</td>\n",
       "      <td>2683-05-02 00:00:00</td>\n",
       "      <td>M</td>\n",
       "      <td>WHITE</td>\n",
       "      <td>76.6055</td>\n",
       "      <td>66-90</td>\n",
       "      <td>0</td>\n",
       "      <td>226</td>\n",
       "      <td>0</td>\n",
       "    </tr>\n",
       "  </tbody>\n",
       "</table>\n",
       "</div>"
      ],
      "text/plain": [
       "   subject_id  hadm_id             disch_dt                  dod sex  \\\n",
       "0          56    28766  2644-01-23 00:00:00  2644-01-23 00:00:00   F   \n",
       "1          37    18052  3264-08-19 00:00:00  3265-12-31 00:00:00   M   \n",
       "2          78    15161  2778-03-27 00:00:00  2781-03-11 00:00:00   M   \n",
       "3          67    35878  2976-11-29 00:00:00  2976-11-29 00:00:00   M   \n",
       "4           3     2075  2682-09-18 00:00:00  2683-05-02 00:00:00   M   \n",
       "\n",
       "          ethnicity_descr  age_at_discharge age_at_discharge_binned  pna  \\\n",
       "0                   WHITE           90.7205                     91+    0   \n",
       "1                   WHITE           68.9863                   66-90    1   \n",
       "2  BLACK/AFRICAN AMERICAN           48.6658                   36-65    0   \n",
       "3                   WHITE           73.5397                   66-90    0   \n",
       "4                   WHITE           76.6055                   66-90    0   \n",
       "\n",
       "   time_to_death  mortality_30_day  \n",
       "0              0                 1  \n",
       "1            499                 0  \n",
       "2           1080                 0  \n",
       "3              0                 1  \n",
       "4            226                 0  "
      ]
     },
     "execution_count": 16,
     "metadata": {},
     "output_type": "execute_result"
    }
   ],
   "source": [
    "df.head()"
   ]
  },
  {
   "cell_type": "code",
   "execution_count": 25,
   "id": "fb528bb7",
   "metadata": {},
   "outputs": [],
   "source": [
    "df[\"in_hospital_mortality\"] = (df[\"disch_dt\"] == df[\"dod\"]).astype(int)"
   ]
  },
  {
   "cell_type": "code",
   "execution_count": 27,
   "id": "7bc0aa1a",
   "metadata": {},
   "outputs": [
    {
     "data": {
      "text/plain": [
       "<AxesSubplot:>"
      ]
     },
     "execution_count": 27,
     "metadata": {},
     "output_type": "execute_result"
    },
    {
     "data": {
      "image/png": "[encoded data removed]",
      "text/plain": [
       "<Figure size 432x288 with 1 Axes>"
      ]
     },
     "metadata": {},
     "output_type": "display_data"
    }
   ],
   "source": [
    "df[\"in_hospital_mortality\"].hist()"
   ]
  },
  {
   "cell_type": "code",
   "execution_count": 23,
   "id": "5ec992f4",
   "metadata": {},
   "outputs": [
    {
     "data": {
      "text/plain": [
       "<AxesSubplot:xlabel='count', ylabel='ethnicity_descr'>"
      ]
     },
     "execution_count": 23,
     "metadata": {},
     "output_type": "execute_result"
    },
    {
     "data": {
      "image/png": "[encoded data removed]",
      "text/plain": [
       "<Figure size 432x288 with 1 Axes>"
      ]
     },
     "metadata": {},
     "output_type": "display_data"
    }
   ],
   "source": [
    "sns.countplot(y=\"ethnicity_descr\", data=df)"
   ]
  },
  {
   "cell_type": "code",
   "execution_count": 24,
   "id": "32e09f73",
   "metadata": {},
   "outputs": [
    {
     "name": "stderr",
     "output_type": "stream",
     "text": [
      "/Users/alecchapman/opt/miniconda3/envs/phs/lib/python3.9/site-packages/seaborn/distributions.py:2619: FutureWarning: `distplot` is a deprecated function and will be removed in a future version. Please adapt your code to use either `displot` (a figure-level function with similar flexibility) or `histplot` (an axes-level function for histograms).\n",
      "  warnings.warn(msg, FutureWarning)\n"
     ]
    },
    {
     "data": {
      "text/plain": [
       "<AxesSubplot:xlabel='age_at_discharge', ylabel='Density'>"
      ]
     },
     "execution_count": 24,
     "metadata": {},
     "output_type": "execute_result"
    },
    {
     "data": {
      "image/png": "[encoded data removed]",
      "text/plain": [
       "<Figure size 432x288 with 1 Axes>"
      ]
     },
     "metadata": {},
     "output_type": "display_data"
    }
   ],
   "source": [
    "sns.distplot(df[\"age_at_discharge\"])"
   ]
  },
  {
   "cell_type": "code",
   "execution_count": 28,
   "id": "d734c52e",
   "metadata": {},
   "outputs": [
    {
     "name": "stderr",
     "output_type": "stream",
     "text": [
      "/Users/alecchapman/opt/miniconda3/envs/phs/lib/python3.9/site-packages/seaborn/_decorators.py:36: FutureWarning: Pass the following variable as a keyword arg: x. From version 0.12, the only valid positional argument will be `data`, and passing other arguments without an explicit keyword will result in an error or misinterpretation.\n",
      "  warnings.warn(\n"
     ]
    },
    {
     "data": {
      "text/plain": [
       "<AxesSubplot:xlabel='age_at_discharge_binned', ylabel='count'>"
      ]
     },
     "execution_count": 28,
     "metadata": {},
     "output_type": "execute_result"
    },
    {
     "data": {
      "image/png": "[encoded data removed]",
      "text/plain": [
       "<Figure size 432x288 with 1 Axes>"
      ]
     },
     "metadata": {},
     "output_type": "display_data"
    }
   ],
   "source": [
    "sns.countplot(df[\"age_at_discharge_binned\"])"
   ]
  },
  {
   "cell_type": "markdown",
   "id": "c07ab1dd",
   "metadata": {},
   "source": [
    "#### TODO\n",
    "Add a column `\"in_hospital_mortality\"` which is 1 if the patient died while in the hospital and 0 otherwise.\n",
    "\n",
    "*Hint:* How do you know whether they died in the hospital?"
   ]
  },
  {
   "cell_type": "code",
   "execution_count": null,
   "id": "f4d6c450",
   "metadata": {},
   "outputs": [],
   "source": [
    "df[\"in_hospital_mortality\"] = (df[\"disch_dt\"] == df[\"dod\"]).astype(int)"
   ]
  },
  {
   "cell_type": "markdown",
   "id": "4bf9ff7a",
   "metadata": {},
   "source": [
    "#### TODO\n",
    "Add a column to your dataframe called `binned_age_at_discharge` with the following levels:\n",
    "- \"<18\"\n",
    "- \"18-35\"\n",
    "- \"36-65\"\n",
    "- \"66-90\"\n",
    "- \"91+\""
   ]
  },
  {
   "cell_type": "code",
   "execution_count": 30,
   "id": "bed06bbe",
   "metadata": {},
   "outputs": [],
   "source": [
    "def bin_age_at_discharge(age):\n",
    "    # todo\n",
    "    pass"
   ]
  },
  {
   "cell_type": "code",
   "execution_count": null,
   "id": "0d90b7b8",
   "metadata": {},
   "outputs": [],
   "source": []
  },
  {
   "cell_type": "markdown",
   "id": "a2761c8e",
   "metadata": {},
   "source": [
    "#### TODO\n",
    "Add a column `mortality_30_day` indicating whether the patient died within 30 days of discharge."
   ]
  },
  {
   "cell_type": "code",
   "execution_count": 36,
   "id": "3c427203",
   "metadata": {},
   "outputs": [],
   "source": [
    "df[\"mortality_30_day\"] = (df[\"time_discharge_to_death\"] <= 30).astype(int)"
   ]
  },
  {
   "cell_type": "markdown",
   "id": "70d4f153",
   "metadata": {},
   "source": [
    "## Putting it all together: survival analysis\n",
    "Next we'll utilize all the Python skills we've learned today to do a **survival analysis** on our dataset. We'll implement the [Kaplain-Meier method](https://en.wikipedia.org/wiki/Kaplan%E2%80%93Meier_estimator) from scratch and use it to analyze the post-discharge outcomes for patients in our dataset.\n",
    "\n",
    "### Overview of Kaplan-Meier"
   ]
  },
  {
   "cell_type": "markdown",
   "id": "4446050f",
   "metadata": {},
   "source": [
    "#### Step 1: Filter the dataset to patients who did not die in the hospital and died within 30 days. Call it `df_dc` (short for \"discharged\")"
   ]
  },
  {
   "cell_type": "code",
   "execution_count": 99,
   "id": "d313eb34",
   "metadata": {},
   "outputs": [
    {
     "data": {
      "text/html": [
       "<div>\n",
       "<style scoped>\n",
       "    .dataframe tbody tr th:only-of-type {\n",
       "        vertical-align: middle;\n",
       "    }\n",
       "\n",
       "    .dataframe tbody tr th {\n",
       "        vertical-align: top;\n",
       "    }\n",
       "\n",
       "    .dataframe thead th {\n",
       "        text-align: right;\n",
       "    }\n",
       "</style>\n",
       "<table border=\"1\" class=\"dataframe\">\n",
       "  <thead>\n",
       "    <tr style=\"text-align: right;\">\n",
       "      <th></th>\n",
       "      <th>subject_id</th>\n",
       "      <th>hadm_id</th>\n",
       "      <th>disch_dt</th>\n",
       "      <th>dod</th>\n",
       "      <th>sex</th>\n",
       "      <th>ethnicity_descr</th>\n",
       "      <th>age_at_discharge</th>\n",
       "      <th>age_at_discharge_binned</th>\n",
       "      <th>pna</th>\n",
       "      <th>time_discharge_to_death</th>\n",
       "      <th>mortality_30_day</th>\n",
       "    </tr>\n",
       "  </thead>\n",
       "  <tbody>\n",
       "    <tr>\n",
       "      <th>0</th>\n",
       "      <td>56</td>\n",
       "      <td>28766</td>\n",
       "      <td>2644-01-23 00:00:00</td>\n",
       "      <td>2644-01-23 00:00:00</td>\n",
       "      <td>F</td>\n",
       "      <td>WHITE</td>\n",
       "      <td>90.7205</td>\n",
       "      <td>91+</td>\n",
       "      <td>0</td>\n",
       "      <td>0</td>\n",
       "      <td>1</td>\n",
       "    </tr>\n",
       "    <tr>\n",
       "      <th>1</th>\n",
       "      <td>37</td>\n",
       "      <td>18052</td>\n",
       "      <td>3264-08-19 00:00:00</td>\n",
       "      <td>3265-12-31 00:00:00</td>\n",
       "      <td>M</td>\n",
       "      <td>WHITE</td>\n",
       "      <td>68.9863</td>\n",
       "      <td>66-90</td>\n",
       "      <td>1</td>\n",
       "      <td>499</td>\n",
       "      <td>0</td>\n",
       "    </tr>\n",
       "    <tr>\n",
       "      <th>2</th>\n",
       "      <td>78</td>\n",
       "      <td>15161</td>\n",
       "      <td>2778-03-27 00:00:00</td>\n",
       "      <td>2781-03-11 00:00:00</td>\n",
       "      <td>M</td>\n",
       "      <td>BLACK/AFRICAN AMERICAN</td>\n",
       "      <td>48.6658</td>\n",
       "      <td>36-65</td>\n",
       "      <td>0</td>\n",
       "      <td>1080</td>\n",
       "      <td>0</td>\n",
       "    </tr>\n",
       "    <tr>\n",
       "      <th>3</th>\n",
       "      <td>67</td>\n",
       "      <td>35878</td>\n",
       "      <td>2976-11-29 00:00:00</td>\n",
       "      <td>2976-11-29 00:00:00</td>\n",
       "      <td>M</td>\n",
       "      <td>WHITE</td>\n",
       "      <td>73.5397</td>\n",
       "      <td>66-90</td>\n",
       "      <td>0</td>\n",
       "      <td>0</td>\n",
       "      <td>1</td>\n",
       "    </tr>\n",
       "    <tr>\n",
       "      <th>4</th>\n",
       "      <td>3</td>\n",
       "      <td>2075</td>\n",
       "      <td>2682-09-18 00:00:00</td>\n",
       "      <td>2683-05-02 00:00:00</td>\n",
       "      <td>M</td>\n",
       "      <td>WHITE</td>\n",
       "      <td>76.6055</td>\n",
       "      <td>66-90</td>\n",
       "      <td>0</td>\n",
       "      <td>226</td>\n",
       "      <td>0</td>\n",
       "    </tr>\n",
       "  </tbody>\n",
       "</table>\n",
       "</div>"
      ],
      "text/plain": [
       "   subject_id  hadm_id             disch_dt                  dod sex  \\\n",
       "0          56    28766  2644-01-23 00:00:00  2644-01-23 00:00:00   F   \n",
       "1          37    18052  3264-08-19 00:00:00  3265-12-31 00:00:00   M   \n",
       "2          78    15161  2778-03-27 00:00:00  2781-03-11 00:00:00   M   \n",
       "3          67    35878  2976-11-29 00:00:00  2976-11-29 00:00:00   M   \n",
       "4           3     2075  2682-09-18 00:00:00  2683-05-02 00:00:00   M   \n",
       "\n",
       "          ethnicity_descr  age_at_discharge age_at_discharge_binned  pna  \\\n",
       "0                   WHITE           90.7205                     91+    0   \n",
       "1                   WHITE           68.9863                   66-90    1   \n",
       "2  BLACK/AFRICAN AMERICAN           48.6658                   36-65    0   \n",
       "3                   WHITE           73.5397                   66-90    0   \n",
       "4                   WHITE           76.6055                   66-90    0   \n",
       "\n",
       "   time_discharge_to_death  mortality_30_day  \n",
       "0                        0                 1  \n",
       "1                      499                 0  \n",
       "2                     1080                 0  \n",
       "3                        0                 1  \n",
       "4                      226                 0  "
      ]
     },
     "execution_count": 99,
     "metadata": {},
     "output_type": "execute_result"
    }
   ],
   "source": [
    "df.head()"
   ]
  },
  {
   "cell_type": "code",
   "execution_count": 110,
   "id": "306890f5",
   "metadata": {},
   "outputs": [],
   "source": [
    "df_dc = df.query(\"0 < time_discharge_to_death\")"
   ]
  },
  {
   "cell_type": "code",
   "execution_count": 111,
   "id": "be7ca734",
   "metadata": {},
   "outputs": [
    {
     "data": {
      "text/plain": [
       "3391"
      ]
     },
     "execution_count": 111,
     "metadata": {},
     "output_type": "execute_result"
    }
   ],
   "source": [
    "len(df_dc)"
   ]
  },
  {
   "cell_type": "code",
   "execution_count": 112,
   "id": "af28e053",
   "metadata": {},
   "outputs": [
    {
     "data": {
      "text/html": [
       "<div>\n",
       "<style scoped>\n",
       "    .dataframe tbody tr th:only-of-type {\n",
       "        vertical-align: middle;\n",
       "    }\n",
       "\n",
       "    .dataframe tbody tr th {\n",
       "        vertical-align: top;\n",
       "    }\n",
       "\n",
       "    .dataframe thead th {\n",
       "        text-align: right;\n",
       "    }\n",
       "</style>\n",
       "<table border=\"1\" class=\"dataframe\">\n",
       "  <thead>\n",
       "    <tr style=\"text-align: right;\">\n",
       "      <th></th>\n",
       "      <th>subject_id</th>\n",
       "      <th>hadm_id</th>\n",
       "      <th>disch_dt</th>\n",
       "      <th>dod</th>\n",
       "      <th>sex</th>\n",
       "      <th>ethnicity_descr</th>\n",
       "      <th>age_at_discharge</th>\n",
       "      <th>age_at_discharge_binned</th>\n",
       "      <th>pna</th>\n",
       "      <th>time_discharge_to_death</th>\n",
       "      <th>mortality_30_day</th>\n",
       "    </tr>\n",
       "  </thead>\n",
       "  <tbody>\n",
       "    <tr>\n",
       "      <th>1</th>\n",
       "      <td>37</td>\n",
       "      <td>18052</td>\n",
       "      <td>3264-08-19 00:00:00</td>\n",
       "      <td>3265-12-31 00:00:00</td>\n",
       "      <td>M</td>\n",
       "      <td>WHITE</td>\n",
       "      <td>68.9863</td>\n",
       "      <td>66-90</td>\n",
       "      <td>1</td>\n",
       "      <td>499</td>\n",
       "      <td>0</td>\n",
       "    </tr>\n",
       "    <tr>\n",
       "      <th>2</th>\n",
       "      <td>78</td>\n",
       "      <td>15161</td>\n",
       "      <td>2778-03-27 00:00:00</td>\n",
       "      <td>2781-03-11 00:00:00</td>\n",
       "      <td>M</td>\n",
       "      <td>BLACK/AFRICAN AMERICAN</td>\n",
       "      <td>48.6658</td>\n",
       "      <td>36-65</td>\n",
       "      <td>0</td>\n",
       "      <td>1080</td>\n",
       "      <td>0</td>\n",
       "    </tr>\n",
       "    <tr>\n",
       "      <th>4</th>\n",
       "      <td>3</td>\n",
       "      <td>2075</td>\n",
       "      <td>2682-09-18 00:00:00</td>\n",
       "      <td>2683-05-02 00:00:00</td>\n",
       "      <td>M</td>\n",
       "      <td>WHITE</td>\n",
       "      <td>76.6055</td>\n",
       "      <td>66-90</td>\n",
       "      <td>0</td>\n",
       "      <td>226</td>\n",
       "      <td>0</td>\n",
       "    </tr>\n",
       "    <tr>\n",
       "      <th>5</th>\n",
       "      <td>26</td>\n",
       "      <td>15067</td>\n",
       "      <td>3079-03-10 00:00:00</td>\n",
       "      <td>3080-12-22 00:00:00</td>\n",
       "      <td>M</td>\n",
       "      <td>UNKNOWN/NOT SPECIFIED</td>\n",
       "      <td>72.0712</td>\n",
       "      <td>66-90</td>\n",
       "      <td>0</td>\n",
       "      <td>653</td>\n",
       "      <td>0</td>\n",
       "    </tr>\n",
       "    <tr>\n",
       "      <th>8</th>\n",
       "      <td>61</td>\n",
       "      <td>7149</td>\n",
       "      <td>3352-07-26 00:00:00</td>\n",
       "      <td>3353-02-09 00:00:00</td>\n",
       "      <td>M</td>\n",
       "      <td>WHITE</td>\n",
       "      <td>54.7808</td>\n",
       "      <td>36-65</td>\n",
       "      <td>0</td>\n",
       "      <td>198</td>\n",
       "      <td>0</td>\n",
       "    </tr>\n",
       "  </tbody>\n",
       "</table>\n",
       "</div>"
      ],
      "text/plain": [
       "   subject_id  hadm_id             disch_dt                  dod sex  \\\n",
       "1          37    18052  3264-08-19 00:00:00  3265-12-31 00:00:00   M   \n",
       "2          78    15161  2778-03-27 00:00:00  2781-03-11 00:00:00   M   \n",
       "4           3     2075  2682-09-18 00:00:00  2683-05-02 00:00:00   M   \n",
       "5          26    15067  3079-03-10 00:00:00  3080-12-22 00:00:00   M   \n",
       "8          61     7149  3352-07-26 00:00:00  3353-02-09 00:00:00   M   \n",
       "\n",
       "          ethnicity_descr  age_at_discharge age_at_discharge_binned  pna  \\\n",
       "1                   WHITE           68.9863                   66-90    1   \n",
       "2  BLACK/AFRICAN AMERICAN           48.6658                   36-65    0   \n",
       "4                   WHITE           76.6055                   66-90    0   \n",
       "5   UNKNOWN/NOT SPECIFIED           72.0712                   66-90    0   \n",
       "8                   WHITE           54.7808                   36-65    0   \n",
       "\n",
       "   time_discharge_to_death  mortality_30_day  \n",
       "1                      499                 0  \n",
       "2                     1080                 0  \n",
       "4                      226                 0  \n",
       "5                      653                 0  \n",
       "8                      198                 0  "
      ]
     },
     "execution_count": 112,
     "metadata": {},
     "output_type": "execute_result"
    }
   ],
   "source": [
    "df_dc.head()"
   ]
  },
  {
   "cell_type": "markdown",
   "id": "8ee921f6",
   "metadata": {},
   "source": [
    "#### Step 2: Group the data by time_to_discharge_death"
   ]
  },
  {
   "cell_type": "code",
   "execution_count": 189,
   "id": "a9d04462",
   "metadata": {},
   "outputs": [],
   "source": [
    "df_daily = df_dc.groupby(\"time_discharge_to_death\").size().sort_index().to_frame(\"n_deaths\").reset_index()"
   ]
  },
  {
   "cell_type": "code",
   "execution_count": 190,
   "id": "1629b0f1",
   "metadata": {},
   "outputs": [
    {
     "data": {
      "text/html": [
       "<div>\n",
       "<style scoped>\n",
       "    .dataframe tbody tr th:only-of-type {\n",
       "        vertical-align: middle;\n",
       "    }\n",
       "\n",
       "    .dataframe tbody tr th {\n",
       "        vertical-align: top;\n",
       "    }\n",
       "\n",
       "    .dataframe thead th {\n",
       "        text-align: right;\n",
       "    }\n",
       "</style>\n",
       "<table border=\"1\" class=\"dataframe\">\n",
       "  <thead>\n",
       "    <tr style=\"text-align: right;\">\n",
       "      <th></th>\n",
       "      <th>time_discharge_to_death</th>\n",
       "      <th>n_deaths</th>\n",
       "    </tr>\n",
       "  </thead>\n",
       "  <tbody>\n",
       "    <tr>\n",
       "      <th>0</th>\n",
       "      <td>1</td>\n",
       "      <td>30</td>\n",
       "    </tr>\n",
       "    <tr>\n",
       "      <th>1</th>\n",
       "      <td>2</td>\n",
       "      <td>36</td>\n",
       "    </tr>\n",
       "    <tr>\n",
       "      <th>2</th>\n",
       "      <td>3</td>\n",
       "      <td>22</td>\n",
       "    </tr>\n",
       "    <tr>\n",
       "      <th>3</th>\n",
       "      <td>4</td>\n",
       "      <td>23</td>\n",
       "    </tr>\n",
       "    <tr>\n",
       "      <th>4</th>\n",
       "      <td>5</td>\n",
       "      <td>17</td>\n",
       "    </tr>\n",
       "    <tr>\n",
       "      <th>...</th>\n",
       "      <td>...</td>\n",
       "      <td>...</td>\n",
       "    </tr>\n",
       "    <tr>\n",
       "      <th>1351</th>\n",
       "      <td>2612</td>\n",
       "      <td>1</td>\n",
       "    </tr>\n",
       "    <tr>\n",
       "      <th>1352</th>\n",
       "      <td>2622</td>\n",
       "      <td>1</td>\n",
       "    </tr>\n",
       "    <tr>\n",
       "      <th>1353</th>\n",
       "      <td>2654</td>\n",
       "      <td>1</td>\n",
       "    </tr>\n",
       "    <tr>\n",
       "      <th>1354</th>\n",
       "      <td>2677</td>\n",
       "      <td>1</td>\n",
       "    </tr>\n",
       "    <tr>\n",
       "      <th>1355</th>\n",
       "      <td>2735</td>\n",
       "      <td>1</td>\n",
       "    </tr>\n",
       "  </tbody>\n",
       "</table>\n",
       "<p>1356 rows × 2 columns</p>\n",
       "</div>"
      ],
      "text/plain": [
       "      time_discharge_to_death  n_deaths\n",
       "0                           1        30\n",
       "1                           2        36\n",
       "2                           3        22\n",
       "3                           4        23\n",
       "4                           5        17\n",
       "...                       ...       ...\n",
       "1351                     2612         1\n",
       "1352                     2622         1\n",
       "1353                     2654         1\n",
       "1354                     2677         1\n",
       "1355                     2735         1\n",
       "\n",
       "[1356 rows x 2 columns]"
      ]
     },
     "execution_count": 190,
     "metadata": {},
     "output_type": "execute_result"
    }
   ],
   "source": [
    "df_daily"
   ]
  },
  {
   "cell_type": "markdown",
   "id": "77768a84",
   "metadata": {},
   "source": [
    "#### Step 3: Implement the Kaplan Meier algorithm\n"
   ]
  },
  {
   "cell_type": "code",
   "execution_count": 191,
   "id": "9c905fa5",
   "metadata": {},
   "outputs": [
    {
     "name": "stdout",
     "output_type": "stream",
     "text": [
      "0\n"
     ]
    }
   ],
   "source": [
    "total_n_at_risk = len(df_dc)\n",
    "curr_n_at_risk = len(df_dc)\n",
    "print(curr_count_at_risk)\n",
    "total_deaths = []\n",
    "daily_n_at_risk = []\n",
    "\n",
    "\n",
    "for i in range(0, len(df_by_day)):\n",
    "    n_deaths = df_daily.iloc[i][\"n_deaths\"]\n",
    "    daily_n_at_risk.append(curr_count_at_risk)\n",
    "    curr_n_at_risk -= n_deaths\n",
    "    \n",
    "    if i > 0:\n",
    "        total_deaths.append(total_deaths[-1] + n_deaths)\n",
    "    else:\n",
    "        total_deaths.append(0 + n_deaths)"
   ]
  },
  {
   "cell_type": "code",
   "execution_count": 192,
   "id": "8986f1b9",
   "metadata": {},
   "outputs": [
    {
     "data": {
      "text/plain": [
       "1356"
      ]
     },
     "execution_count": 192,
     "metadata": {},
     "output_type": "execute_result"
    }
   ],
   "source": [
    "len(daily_at_risk)"
   ]
  },
  {
   "cell_type": "code",
   "execution_count": 193,
   "id": "146bb183",
   "metadata": {},
   "outputs": [
    {
     "data": {
      "text/plain": [
       "1356"
      ]
     },
     "execution_count": 193,
     "metadata": {},
     "output_type": "execute_result"
    }
   ],
   "source": [
    "len(df_daily)"
   ]
  },
  {
   "cell_type": "code",
   "execution_count": 194,
   "id": "2b454ad4",
   "metadata": {},
   "outputs": [],
   "source": [
    "df_daily[\"n_at_risk\"] = daily_at_risk\n",
    "df_daily[\"p_death\"] = df_daily[\"n_deaths\"] / df_daily[\"n_at_risk\"]\n",
    "df_daily[\"total_died\"] = total_deaths\n",
    "df_daily[\"p_death_running\"] = df_daily[\"total_died\"] / total_n_at_risk"
   ]
  },
  {
   "cell_type": "code",
   "execution_count": 195,
   "id": "43105eeb",
   "metadata": {},
   "outputs": [
    {
     "data": {
      "text/html": [
       "<div>\n",
       "<style scoped>\n",
       "    .dataframe tbody tr th:only-of-type {\n",
       "        vertical-align: middle;\n",
       "    }\n",
       "\n",
       "    .dataframe tbody tr th {\n",
       "        vertical-align: top;\n",
       "    }\n",
       "\n",
       "    .dataframe thead th {\n",
       "        text-align: right;\n",
       "    }\n",
       "</style>\n",
       "<table border=\"1\" class=\"dataframe\">\n",
       "  <thead>\n",
       "    <tr style=\"text-align: right;\">\n",
       "      <th></th>\n",
       "      <th>time_discharge_to_death</th>\n",
       "      <th>n_deaths</th>\n",
       "      <th>n_at_risk</th>\n",
       "      <th>p_death</th>\n",
       "      <th>total_died</th>\n",
       "      <th>p_death_running</th>\n",
       "    </tr>\n",
       "  </thead>\n",
       "  <tbody>\n",
       "    <tr>\n",
       "      <th>0</th>\n",
       "      <td>1</td>\n",
       "      <td>30</td>\n",
       "      <td>3391</td>\n",
       "      <td>0.008847</td>\n",
       "      <td>30</td>\n",
       "      <td>0.008847</td>\n",
       "    </tr>\n",
       "    <tr>\n",
       "      <th>1</th>\n",
       "      <td>2</td>\n",
       "      <td>36</td>\n",
       "      <td>3361</td>\n",
       "      <td>0.010711</td>\n",
       "      <td>66</td>\n",
       "      <td>0.019463</td>\n",
       "    </tr>\n",
       "    <tr>\n",
       "      <th>2</th>\n",
       "      <td>3</td>\n",
       "      <td>22</td>\n",
       "      <td>3325</td>\n",
       "      <td>0.006617</td>\n",
       "      <td>88</td>\n",
       "      <td>0.025951</td>\n",
       "    </tr>\n",
       "    <tr>\n",
       "      <th>3</th>\n",
       "      <td>4</td>\n",
       "      <td>23</td>\n",
       "      <td>3303</td>\n",
       "      <td>0.006963</td>\n",
       "      <td>111</td>\n",
       "      <td>0.032734</td>\n",
       "    </tr>\n",
       "    <tr>\n",
       "      <th>4</th>\n",
       "      <td>5</td>\n",
       "      <td>17</td>\n",
       "      <td>3280</td>\n",
       "      <td>0.005183</td>\n",
       "      <td>128</td>\n",
       "      <td>0.037747</td>\n",
       "    </tr>\n",
       "  </tbody>\n",
       "</table>\n",
       "</div>"
      ],
      "text/plain": [
       "   time_discharge_to_death  n_deaths  n_at_risk   p_death  total_died  \\\n",
       "0                        1        30       3391  0.008847          30   \n",
       "1                        2        36       3361  0.010711          66   \n",
       "2                        3        22       3325  0.006617          88   \n",
       "3                        4        23       3303  0.006963         111   \n",
       "4                        5        17       3280  0.005183         128   \n",
       "\n",
       "   p_death_running  \n",
       "0         0.008847  \n",
       "1         0.019463  \n",
       "2         0.025951  \n",
       "3         0.032734  \n",
       "4         0.037747  "
      ]
     },
     "execution_count": 195,
     "metadata": {},
     "output_type": "execute_result"
    }
   ],
   "source": [
    "df_daily.head()"
   ]
  },
  {
   "cell_type": "markdown",
   "id": "84c46d57",
   "metadata": {},
   "source": [
    "#### TODO\n",
    "What is the probability of dying within 30 days of discharge?"
   ]
  },
  {
   "cell_type": "code",
   "execution_count": 202,
   "id": "2b00d96a",
   "metadata": {},
   "outputs": [
    {
     "data": {
      "text/html": [
       "<div>\n",
       "<style scoped>\n",
       "    .dataframe tbody tr th:only-of-type {\n",
       "        vertical-align: middle;\n",
       "    }\n",
       "\n",
       "    .dataframe tbody tr th {\n",
       "        vertical-align: top;\n",
       "    }\n",
       "\n",
       "    .dataframe thead th {\n",
       "        text-align: right;\n",
       "    }\n",
       "</style>\n",
       "<table border=\"1\" class=\"dataframe\">\n",
       "  <thead>\n",
       "    <tr style=\"text-align: right;\">\n",
       "      <th></th>\n",
       "      <th>time_discharge_to_death</th>\n",
       "      <th>n_deaths</th>\n",
       "      <th>n_at_risk</th>\n",
       "      <th>p_death</th>\n",
       "      <th>total_died</th>\n",
       "      <th>p_death_running</th>\n",
       "    </tr>\n",
       "  </thead>\n",
       "  <tbody>\n",
       "    <tr>\n",
       "      <th>29</th>\n",
       "      <td>30</td>\n",
       "      <td>8</td>\n",
       "      <td>2961</td>\n",
       "      <td>0.002702</td>\n",
       "      <td>438</td>\n",
       "      <td>0.129165</td>\n",
       "    </tr>\n",
       "  </tbody>\n",
       "</table>\n",
       "</div>"
      ],
      "text/plain": [
       "    time_discharge_to_death  n_deaths  n_at_risk   p_death  total_died  \\\n",
       "29                       30         8       2961  0.002702         438   \n",
       "\n",
       "    p_death_running  \n",
       "29         0.129165  "
      ]
     },
     "execution_count": 202,
     "metadata": {},
     "output_type": "execute_result"
    }
   ],
   "source": [
    "df_daily.query(\"time_discharge_to_death == 30\")"
   ]
  },
  {
   "cell_type": "code",
   "execution_count": null,
   "id": "0afc1b9d",
   "metadata": {},
   "outputs": [],
   "source": []
  },
  {
   "cell_type": "markdown",
   "id": "70298e62",
   "metadata": {},
   "source": [
    "#### Step 4: Put it all into a function\n",
    " \n",
    "#### Advanced\n",
    "If you want to come up with really clean code you could break it up into multiple functions."
   ]
  },
  {
   "cell_type": "code",
   "execution_count": 245,
   "id": "2eed4a11",
   "metadata": {},
   "outputs": [],
   "source": [
    "def kaplan_meier(df, max_days=None):\n",
    "    # Wrangle data\n",
    "    df_dc = df.query(\"0 < time_discharge_to_death\")\n",
    "    df_daily = df_dc.groupby(\"time_discharge_to_death\").size().sort_index().to_frame(\"n_deaths\").reset_index()\n",
    "    \n",
    "    # Kaplan-Meier algorithm\n",
    "    total_n_at_risk = len(df_dc)\n",
    "    curr_n_at_risk = len(df_dc)\n",
    "    total_deaths = []\n",
    "    daily_n_at_risk = []\n",
    "\n",
    "    for i in range(0, len(df_daily)):\n",
    "        n_deaths = df_daily.iloc[i][\"n_deaths\"]\n",
    "        daily_n_at_risk.append(curr_n_at_risk)\n",
    "        curr_n_at_risk -= n_deaths\n",
    "\n",
    "        if i > 0:\n",
    "            total_deaths.append(total_deaths[-1] + n_deaths)\n",
    "        else:\n",
    "            total_deaths.append(0 + n_deaths)\n",
    "            \n",
    "    \n",
    "    # Add new columns and return\n",
    "    df_daily[\"n_at_risk\"] = daily_n_at_risk\n",
    "    df_daily[\"p_death\"] = df_daily[\"n_deaths\"] / df_daily[\"n_at_risk\"]\n",
    "    df_daily[\"total_died\"] = total_deaths\n",
    "    df_daily[\"p_death_running\"] = df_daily[\"total_died\"] / total_n_at_risk\n",
    "    \n",
    "    return df_daily\n",
    "    "
   ]
  },
  {
   "cell_type": "code",
   "execution_count": 246,
   "id": "c4e523e0",
   "metadata": {},
   "outputs": [],
   "source": [
    "df_daily = kaplan_meier(df)"
   ]
  },
  {
   "cell_type": "markdown",
   "id": "fbdd05dd",
   "metadata": {},
   "source": [
    "#### Step 6\n",
    "Next let's plot the mortality curve. "
   ]
  },
  {
   "cell_type": "code",
   "execution_count": 247,
   "id": "fbc9d660",
   "metadata": {},
   "outputs": [],
   "source": [
    "def plot_mortality_curve(df_daily, max_days=None, label=None):\n",
    "    if max_days is not None:\n",
    "        df_daily = df_daily.query(f\"time_discharge_to_death <= {max_days}\")\n",
    "    ax = sns.lineplot(x=\"time_discharge_to_death\", y=\"p_death_running\", data=df_daily, drawstyle='steps-pre', label=label)\n",
    "    if label is not None:\n",
    "        ax.legend()\n",
    "    return ax"
   ]
  },
  {
   "cell_type": "code",
   "execution_count": 248,
   "id": "32e9d1b4",
   "metadata": {},
   "outputs": [
    {
     "data": {
      "text/plain": [
       "<AxesSubplot:xlabel='time_discharge_to_death', ylabel='p_death_running'>"
      ]
     },
     "execution_count": 248,
     "metadata": {},
     "output_type": "execute_result"
    },
    {
     "data": {
      "image/png": "[encoded data removed]",
      "text/plain": [
       "<Figure size 432x288 with 1 Axes>"
      ]
     },
     "metadata": {},
     "output_type": "display_data"
    }
   ],
   "source": [
    "plot_mortality_curve(df_daily)"
   ]
  },
  {
   "cell_type": "code",
   "execution_count": 249,
   "id": "56a03f67",
   "metadata": {},
   "outputs": [
    {
     "data": {
      "text/plain": [
       "<AxesSubplot:xlabel='time_discharge_to_death', ylabel='p_death_running'>"
      ]
     },
     "execution_count": 249,
     "metadata": {},
     "output_type": "execute_result"
    },
    {
     "data": {
      "image/png": "[encoded data removed]",
      "text/plain": [
       "<Figure size 432x288 with 1 Axes>"
      ]
     },
     "metadata": {},
     "output_type": "display_data"
    }
   ],
   "source": [
    "plot_mortality_curve(df_daily, max_days=30)"
   ]
  },
  {
   "cell_type": "markdown",
   "id": "8be503c0",
   "metadata": {},
   "source": [
    "#### Step 5: Comparing groups\n",
    "Next, break up your dataset into patients with and without pneumonia and calculate risk of mortality separately. Then consider the following questions:\n",
    "- What can you say about the difference in 30-day mortality between the two groups?\n",
    "- For pneumonia patients, which day in the first 30 days has the highest risk?\n",
    "- Which day has the lowest risk?"
   ]
  },
  {
   "cell_type": "code",
   "execution_count": 253,
   "id": "48b37f8d",
   "metadata": {},
   "outputs": [],
   "source": [
    "df_daily_pna = kaplan_meier(df.query(\"pna == 1\"))\n",
    "df_daily_pna_neg = kaplan_meier(df.query(\"pna == 0\"))"
   ]
  },
  {
   "cell_type": "code",
   "execution_count": 254,
   "id": "633f993d",
   "metadata": {},
   "outputs": [
    {
     "data": {
      "text/html": [
       "<div>\n",
       "<style scoped>\n",
       "    .dataframe tbody tr th:only-of-type {\n",
       "        vertical-align: middle;\n",
       "    }\n",
       "\n",
       "    .dataframe tbody tr th {\n",
       "        vertical-align: top;\n",
       "    }\n",
       "\n",
       "    .dataframe thead th {\n",
       "        text-align: right;\n",
       "    }\n",
       "</style>\n",
       "<table border=\"1\" class=\"dataframe\">\n",
       "  <thead>\n",
       "    <tr style=\"text-align: right;\">\n",
       "      <th></th>\n",
       "      <th>time_discharge_to_death</th>\n",
       "      <th>n_deaths</th>\n",
       "      <th>n_at_risk</th>\n",
       "      <th>p_death</th>\n",
       "      <th>total_died</th>\n",
       "      <th>p_death_running</th>\n",
       "    </tr>\n",
       "  </thead>\n",
       "  <tbody>\n",
       "    <tr>\n",
       "      <th>422</th>\n",
       "      <td>2069</td>\n",
       "      <td>1</td>\n",
       "      <td>5</td>\n",
       "      <td>0.200000</td>\n",
       "      <td>606</td>\n",
       "      <td>0.993443</td>\n",
       "    </tr>\n",
       "    <tr>\n",
       "      <th>423</th>\n",
       "      <td>2174</td>\n",
       "      <td>1</td>\n",
       "      <td>4</td>\n",
       "      <td>0.250000</td>\n",
       "      <td>607</td>\n",
       "      <td>0.995082</td>\n",
       "    </tr>\n",
       "    <tr>\n",
       "      <th>424</th>\n",
       "      <td>2202</td>\n",
       "      <td>1</td>\n",
       "      <td>3</td>\n",
       "      <td>0.333333</td>\n",
       "      <td>608</td>\n",
       "      <td>0.996721</td>\n",
       "    </tr>\n",
       "    <tr>\n",
       "      <th>425</th>\n",
       "      <td>2405</td>\n",
       "      <td>1</td>\n",
       "      <td>2</td>\n",
       "      <td>0.500000</td>\n",
       "      <td>609</td>\n",
       "      <td>0.998361</td>\n",
       "    </tr>\n",
       "    <tr>\n",
       "      <th>426</th>\n",
       "      <td>2533</td>\n",
       "      <td>1</td>\n",
       "      <td>1</td>\n",
       "      <td>1.000000</td>\n",
       "      <td>610</td>\n",
       "      <td>1.000000</td>\n",
       "    </tr>\n",
       "  </tbody>\n",
       "</table>\n",
       "</div>"
      ],
      "text/plain": [
       "     time_discharge_to_death  n_deaths  n_at_risk   p_death  total_died  \\\n",
       "422                     2069         1          5  0.200000         606   \n",
       "423                     2174         1          4  0.250000         607   \n",
       "424                     2202         1          3  0.333333         608   \n",
       "425                     2405         1          2  0.500000         609   \n",
       "426                     2533         1          1  1.000000         610   \n",
       "\n",
       "     p_death_running  \n",
       "422         0.993443  \n",
       "423         0.995082  \n",
       "424         0.996721  \n",
       "425         0.998361  \n",
       "426         1.000000  "
      ]
     },
     "execution_count": 254,
     "metadata": {},
     "output_type": "execute_result"
    }
   ],
   "source": [
    "df_daily_pna.tail()"
   ]
  },
  {
   "cell_type": "code",
   "execution_count": 255,
   "id": "0adc0d34",
   "metadata": {},
   "outputs": [
    {
     "data": {
      "text/html": [
       "<div>\n",
       "<style scoped>\n",
       "    .dataframe tbody tr th:only-of-type {\n",
       "        vertical-align: middle;\n",
       "    }\n",
       "\n",
       "    .dataframe tbody tr th {\n",
       "        vertical-align: top;\n",
       "    }\n",
       "\n",
       "    .dataframe thead th {\n",
       "        text-align: right;\n",
       "    }\n",
       "</style>\n",
       "<table border=\"1\" class=\"dataframe\">\n",
       "  <thead>\n",
       "    <tr style=\"text-align: right;\">\n",
       "      <th></th>\n",
       "      <th>time_discharge_to_death</th>\n",
       "      <th>n_deaths</th>\n",
       "      <th>n_at_risk</th>\n",
       "      <th>p_death</th>\n",
       "      <th>total_died</th>\n",
       "      <th>p_death_running</th>\n",
       "    </tr>\n",
       "  </thead>\n",
       "  <tbody>\n",
       "    <tr>\n",
       "      <th>29</th>\n",
       "      <td>30</td>\n",
       "      <td>3</td>\n",
       "      <td>519</td>\n",
       "      <td>0.00578</td>\n",
       "      <td>94</td>\n",
       "      <td>0.154098</td>\n",
       "    </tr>\n",
       "  </tbody>\n",
       "</table>\n",
       "</div>"
      ],
      "text/plain": [
       "    time_discharge_to_death  n_deaths  n_at_risk  p_death  total_died  \\\n",
       "29                       30         3        519  0.00578          94   \n",
       "\n",
       "    p_death_running  \n",
       "29         0.154098  "
      ]
     },
     "execution_count": 255,
     "metadata": {},
     "output_type": "execute_result"
    }
   ],
   "source": [
    "df_daily_pna.query(\"time_discharge_to_death == 30\")"
   ]
  },
  {
   "cell_type": "code",
   "execution_count": 256,
   "id": "d7ed1dde",
   "metadata": {},
   "outputs": [
    {
     "data": {
      "text/html": [
       "<div>\n",
       "<style scoped>\n",
       "    .dataframe tbody tr th:only-of-type {\n",
       "        vertical-align: middle;\n",
       "    }\n",
       "\n",
       "    .dataframe tbody tr th {\n",
       "        vertical-align: top;\n",
       "    }\n",
       "\n",
       "    .dataframe thead th {\n",
       "        text-align: right;\n",
       "    }\n",
       "</style>\n",
       "<table border=\"1\" class=\"dataframe\">\n",
       "  <thead>\n",
       "    <tr style=\"text-align: right;\">\n",
       "      <th></th>\n",
       "      <th>time_discharge_to_death</th>\n",
       "      <th>n_deaths</th>\n",
       "      <th>n_at_risk</th>\n",
       "      <th>p_death</th>\n",
       "      <th>total_died</th>\n",
       "      <th>p_death_running</th>\n",
       "    </tr>\n",
       "  </thead>\n",
       "  <tbody>\n",
       "    <tr>\n",
       "      <th>29</th>\n",
       "      <td>30</td>\n",
       "      <td>5</td>\n",
       "      <td>2442</td>\n",
       "      <td>0.002048</td>\n",
       "      <td>344</td>\n",
       "      <td>0.123697</td>\n",
       "    </tr>\n",
       "  </tbody>\n",
       "</table>\n",
       "</div>"
      ],
      "text/plain": [
       "    time_discharge_to_death  n_deaths  n_at_risk   p_death  total_died  \\\n",
       "29                       30         5       2442  0.002048         344   \n",
       "\n",
       "    p_death_running  \n",
       "29         0.123697  "
      ]
     },
     "execution_count": 256,
     "metadata": {},
     "output_type": "execute_result"
    }
   ],
   "source": [
    "df_daily_pna_neg.query(\"time_discharge_to_death == 30\")"
   ]
  },
  {
   "cell_type": "code",
   "execution_count": 257,
   "id": "c824bcec",
   "metadata": {},
   "outputs": [
    {
     "data": {
      "text/plain": [
       "<AxesSubplot:xlabel='time_discharge_to_death', ylabel='p_death_running'>"
      ]
     },
     "execution_count": 257,
     "metadata": {},
     "output_type": "execute_result"
    },
    {
     "data": {
      "image/png": "[encoded data removed]",
      "text/plain": [
       "<Figure size 432x288 with 1 Axes>"
      ]
     },
     "metadata": {},
     "output_type": "display_data"
    }
   ],
   "source": [
    "plot_mortality_curve(df_daily_pna, max_days=30, label=\"Pna (+)\")\n",
    "plot_mortality_curve(df_daily_pna_neg, max_days=30, label=\"Pna (-)\")"
   ]
  },
  {
   "cell_type": "code",
   "execution_count": 259,
   "id": "143e38f1",
   "metadata": {},
   "outputs": [
    {
     "data": {
      "text/html": [
       "<div>\n",
       "<style scoped>\n",
       "    .dataframe tbody tr th:only-of-type {\n",
       "        vertical-align: middle;\n",
       "    }\n",
       "\n",
       "    .dataframe tbody tr th {\n",
       "        vertical-align: top;\n",
       "    }\n",
       "\n",
       "    .dataframe thead th {\n",
       "        text-align: right;\n",
       "    }\n",
       "</style>\n",
       "<table border=\"1\" class=\"dataframe\">\n",
       "  <thead>\n",
       "    <tr style=\"text-align: right;\">\n",
       "      <th></th>\n",
       "      <th>time_discharge_to_death</th>\n",
       "      <th>n_deaths</th>\n",
       "      <th>n_at_risk</th>\n",
       "      <th>p_death</th>\n",
       "      <th>total_died</th>\n",
       "      <th>p_death_running</th>\n",
       "    </tr>\n",
       "  </thead>\n",
       "  <tbody>\n",
       "    <tr>\n",
       "      <th>10</th>\n",
       "      <td>11</td>\n",
       "      <td>8</td>\n",
       "      <td>569</td>\n",
       "      <td>0.014060</td>\n",
       "      <td>49</td>\n",
       "      <td>0.080328</td>\n",
       "    </tr>\n",
       "    <tr>\n",
       "      <th>27</th>\n",
       "      <td>28</td>\n",
       "      <td>6</td>\n",
       "      <td>528</td>\n",
       "      <td>0.011364</td>\n",
       "      <td>88</td>\n",
       "      <td>0.144262</td>\n",
       "    </tr>\n",
       "    <tr>\n",
       "      <th>15</th>\n",
       "      <td>16</td>\n",
       "      <td>6</td>\n",
       "      <td>553</td>\n",
       "      <td>0.010850</td>\n",
       "      <td>63</td>\n",
       "      <td>0.103279</td>\n",
       "    </tr>\n",
       "    <tr>\n",
       "      <th>1</th>\n",
       "      <td>2</td>\n",
       "      <td>6</td>\n",
       "      <td>605</td>\n",
       "      <td>0.009917</td>\n",
       "      <td>11</td>\n",
       "      <td>0.018033</td>\n",
       "    </tr>\n",
       "    <tr>\n",
       "      <th>7</th>\n",
       "      <td>8</td>\n",
       "      <td>5</td>\n",
       "      <td>581</td>\n",
       "      <td>0.008606</td>\n",
       "      <td>34</td>\n",
       "      <td>0.055738</td>\n",
       "    </tr>\n",
       "    <tr>\n",
       "      <th>4</th>\n",
       "      <td>5</td>\n",
       "      <td>5</td>\n",
       "      <td>589</td>\n",
       "      <td>0.008489</td>\n",
       "      <td>26</td>\n",
       "      <td>0.042623</td>\n",
       "    </tr>\n",
       "    <tr>\n",
       "      <th>3</th>\n",
       "      <td>4</td>\n",
       "      <td>5</td>\n",
       "      <td>594</td>\n",
       "      <td>0.008418</td>\n",
       "      <td>21</td>\n",
       "      <td>0.034426</td>\n",
       "    </tr>\n",
       "    <tr>\n",
       "      <th>2</th>\n",
       "      <td>3</td>\n",
       "      <td>5</td>\n",
       "      <td>599</td>\n",
       "      <td>0.008347</td>\n",
       "      <td>16</td>\n",
       "      <td>0.026230</td>\n",
       "    </tr>\n",
       "    <tr>\n",
       "      <th>0</th>\n",
       "      <td>1</td>\n",
       "      <td>5</td>\n",
       "      <td>610</td>\n",
       "      <td>0.008197</td>\n",
       "      <td>5</td>\n",
       "      <td>0.008197</td>\n",
       "    </tr>\n",
       "    <tr>\n",
       "      <th>9</th>\n",
       "      <td>10</td>\n",
       "      <td>4</td>\n",
       "      <td>573</td>\n",
       "      <td>0.006981</td>\n",
       "      <td>41</td>\n",
       "      <td>0.067213</td>\n",
       "    </tr>\n",
       "    <tr>\n",
       "      <th>29</th>\n",
       "      <td>30</td>\n",
       "      <td>3</td>\n",
       "      <td>519</td>\n",
       "      <td>0.005780</td>\n",
       "      <td>94</td>\n",
       "      <td>0.154098</td>\n",
       "    </tr>\n",
       "    <tr>\n",
       "      <th>28</th>\n",
       "      <td>29</td>\n",
       "      <td>3</td>\n",
       "      <td>522</td>\n",
       "      <td>0.005747</td>\n",
       "      <td>91</td>\n",
       "      <td>0.149180</td>\n",
       "    </tr>\n",
       "    <tr>\n",
       "      <th>19</th>\n",
       "      <td>20</td>\n",
       "      <td>3</td>\n",
       "      <td>541</td>\n",
       "      <td>0.005545</td>\n",
       "      <td>72</td>\n",
       "      <td>0.118033</td>\n",
       "    </tr>\n",
       "    <tr>\n",
       "      <th>16</th>\n",
       "      <td>17</td>\n",
       "      <td>3</td>\n",
       "      <td>547</td>\n",
       "      <td>0.005484</td>\n",
       "      <td>66</td>\n",
       "      <td>0.108197</td>\n",
       "    </tr>\n",
       "    <tr>\n",
       "      <th>12</th>\n",
       "      <td>13</td>\n",
       "      <td>3</td>\n",
       "      <td>559</td>\n",
       "      <td>0.005367</td>\n",
       "      <td>54</td>\n",
       "      <td>0.088525</td>\n",
       "    </tr>\n",
       "    <tr>\n",
       "      <th>8</th>\n",
       "      <td>9</td>\n",
       "      <td>3</td>\n",
       "      <td>576</td>\n",
       "      <td>0.005208</td>\n",
       "      <td>37</td>\n",
       "      <td>0.060656</td>\n",
       "    </tr>\n",
       "    <tr>\n",
       "      <th>22</th>\n",
       "      <td>23</td>\n",
       "      <td>2</td>\n",
       "      <td>534</td>\n",
       "      <td>0.003745</td>\n",
       "      <td>78</td>\n",
       "      <td>0.127869</td>\n",
       "    </tr>\n",
       "    <tr>\n",
       "      <th>21</th>\n",
       "      <td>22</td>\n",
       "      <td>2</td>\n",
       "      <td>536</td>\n",
       "      <td>0.003731</td>\n",
       "      <td>76</td>\n",
       "      <td>0.124590</td>\n",
       "    </tr>\n",
       "    <tr>\n",
       "      <th>20</th>\n",
       "      <td>21</td>\n",
       "      <td>2</td>\n",
       "      <td>538</td>\n",
       "      <td>0.003717</td>\n",
       "      <td>74</td>\n",
       "      <td>0.121311</td>\n",
       "    </tr>\n",
       "    <tr>\n",
       "      <th>18</th>\n",
       "      <td>19</td>\n",
       "      <td>2</td>\n",
       "      <td>543</td>\n",
       "      <td>0.003683</td>\n",
       "      <td>69</td>\n",
       "      <td>0.113115</td>\n",
       "    </tr>\n",
       "    <tr>\n",
       "      <th>13</th>\n",
       "      <td>14</td>\n",
       "      <td>2</td>\n",
       "      <td>556</td>\n",
       "      <td>0.003597</td>\n",
       "      <td>56</td>\n",
       "      <td>0.091803</td>\n",
       "    </tr>\n",
       "    <tr>\n",
       "      <th>11</th>\n",
       "      <td>12</td>\n",
       "      <td>2</td>\n",
       "      <td>561</td>\n",
       "      <td>0.003565</td>\n",
       "      <td>51</td>\n",
       "      <td>0.083607</td>\n",
       "    </tr>\n",
       "    <tr>\n",
       "      <th>5</th>\n",
       "      <td>6</td>\n",
       "      <td>2</td>\n",
       "      <td>584</td>\n",
       "      <td>0.003425</td>\n",
       "      <td>28</td>\n",
       "      <td>0.045902</td>\n",
       "    </tr>\n",
       "    <tr>\n",
       "      <th>26</th>\n",
       "      <td>27</td>\n",
       "      <td>1</td>\n",
       "      <td>529</td>\n",
       "      <td>0.001890</td>\n",
       "      <td>82</td>\n",
       "      <td>0.134426</td>\n",
       "    </tr>\n",
       "    <tr>\n",
       "      <th>25</th>\n",
       "      <td>26</td>\n",
       "      <td>1</td>\n",
       "      <td>530</td>\n",
       "      <td>0.001887</td>\n",
       "      <td>81</td>\n",
       "      <td>0.132787</td>\n",
       "    </tr>\n",
       "    <tr>\n",
       "      <th>24</th>\n",
       "      <td>25</td>\n",
       "      <td>1</td>\n",
       "      <td>531</td>\n",
       "      <td>0.001883</td>\n",
       "      <td>80</td>\n",
       "      <td>0.131148</td>\n",
       "    </tr>\n",
       "    <tr>\n",
       "      <th>23</th>\n",
       "      <td>24</td>\n",
       "      <td>1</td>\n",
       "      <td>532</td>\n",
       "      <td>0.001880</td>\n",
       "      <td>79</td>\n",
       "      <td>0.129508</td>\n",
       "    </tr>\n",
       "    <tr>\n",
       "      <th>17</th>\n",
       "      <td>18</td>\n",
       "      <td>1</td>\n",
       "      <td>544</td>\n",
       "      <td>0.001838</td>\n",
       "      <td>67</td>\n",
       "      <td>0.109836</td>\n",
       "    </tr>\n",
       "    <tr>\n",
       "      <th>14</th>\n",
       "      <td>15</td>\n",
       "      <td>1</td>\n",
       "      <td>554</td>\n",
       "      <td>0.001805</td>\n",
       "      <td>57</td>\n",
       "      <td>0.093443</td>\n",
       "    </tr>\n",
       "    <tr>\n",
       "      <th>6</th>\n",
       "      <td>7</td>\n",
       "      <td>1</td>\n",
       "      <td>582</td>\n",
       "      <td>0.001718</td>\n",
       "      <td>29</td>\n",
       "      <td>0.047541</td>\n",
       "    </tr>\n",
       "  </tbody>\n",
       "</table>\n",
       "</div>"
      ],
      "text/plain": [
       "    time_discharge_to_death  n_deaths  n_at_risk   p_death  total_died  \\\n",
       "10                       11         8        569  0.014060          49   \n",
       "27                       28         6        528  0.011364          88   \n",
       "15                       16         6        553  0.010850          63   \n",
       "1                         2         6        605  0.009917          11   \n",
       "7                         8         5        581  0.008606          34   \n",
       "4                         5         5        589  0.008489          26   \n",
       "3                         4         5        594  0.008418          21   \n",
       "2                         3         5        599  0.008347          16   \n",
       "0                         1         5        610  0.008197           5   \n",
       "9                        10         4        573  0.006981          41   \n",
       "29                       30         3        519  0.005780          94   \n",
       "28                       29         3        522  0.005747          91   \n",
       "19                       20         3        541  0.005545          72   \n",
       "16                       17         3        547  0.005484          66   \n",
       "12                       13         3        559  0.005367          54   \n",
       "8                         9         3        576  0.005208          37   \n",
       "22                       23         2        534  0.003745          78   \n",
       "21                       22         2        536  0.003731          76   \n",
       "20                       21         2        538  0.003717          74   \n",
       "18                       19         2        543  0.003683          69   \n",
       "13                       14         2        556  0.003597          56   \n",
       "11                       12         2        561  0.003565          51   \n",
       "5                         6         2        584  0.003425          28   \n",
       "26                       27         1        529  0.001890          82   \n",
       "25                       26         1        530  0.001887          81   \n",
       "24                       25         1        531  0.001883          80   \n",
       "23                       24         1        532  0.001880          79   \n",
       "17                       18         1        544  0.001838          67   \n",
       "14                       15         1        554  0.001805          57   \n",
       "6                         7         1        582  0.001718          29   \n",
       "\n",
       "    p_death_running  \n",
       "10         0.080328  \n",
       "27         0.144262  \n",
       "15         0.103279  \n",
       "1          0.018033  \n",
       "7          0.055738  \n",
       "4          0.042623  \n",
       "3          0.034426  \n",
       "2          0.026230  \n",
       "0          0.008197  \n",
       "9          0.067213  \n",
       "29         0.154098  \n",
       "28         0.149180  \n",
       "19         0.118033  \n",
       "16         0.108197  \n",
       "12         0.088525  \n",
       "8          0.060656  \n",
       "22         0.127869  \n",
       "21         0.124590  \n",
       "20         0.121311  \n",
       "18         0.113115  \n",
       "13         0.091803  \n",
       "11         0.083607  \n",
       "5          0.045902  \n",
       "26         0.134426  \n",
       "25         0.132787  \n",
       "24         0.131148  \n",
       "23         0.129508  \n",
       "17         0.109836  \n",
       "14         0.093443  \n",
       "6          0.047541  "
      ]
     },
     "execution_count": 259,
     "metadata": {},
     "output_type": "execute_result"
    }
   ],
   "source": [
    "# Day with highest risk\n",
    "df_daily_pna.query(\"time_discharge_to_death <= 30\").sort_values(\"p_death\", ascending=False)"
   ]
  },
  {
   "cell_type": "code",
   "execution_count": 260,
   "id": "58caec55",
   "metadata": {},
   "outputs": [
    {
     "data": {
      "text/html": [
       "<div>\n",
       "<style scoped>\n",
       "    .dataframe tbody tr th:only-of-type {\n",
       "        vertical-align: middle;\n",
       "    }\n",
       "\n",
       "    .dataframe tbody tr th {\n",
       "        vertical-align: top;\n",
       "    }\n",
       "\n",
       "    .dataframe thead th {\n",
       "        text-align: right;\n",
       "    }\n",
       "</style>\n",
       "<table border=\"1\" class=\"dataframe\">\n",
       "  <thead>\n",
       "    <tr style=\"text-align: right;\">\n",
       "      <th></th>\n",
       "      <th>time_discharge_to_death</th>\n",
       "      <th>n_deaths</th>\n",
       "      <th>n_at_risk</th>\n",
       "      <th>p_death</th>\n",
       "      <th>total_died</th>\n",
       "      <th>p_death_running</th>\n",
       "    </tr>\n",
       "  </thead>\n",
       "  <tbody>\n",
       "    <tr>\n",
       "      <th>6</th>\n",
       "      <td>7</td>\n",
       "      <td>1</td>\n",
       "      <td>582</td>\n",
       "      <td>0.001718</td>\n",
       "      <td>29</td>\n",
       "      <td>0.047541</td>\n",
       "    </tr>\n",
       "    <tr>\n",
       "      <th>14</th>\n",
       "      <td>15</td>\n",
       "      <td>1</td>\n",
       "      <td>554</td>\n",
       "      <td>0.001805</td>\n",
       "      <td>57</td>\n",
       "      <td>0.093443</td>\n",
       "    </tr>\n",
       "    <tr>\n",
       "      <th>17</th>\n",
       "      <td>18</td>\n",
       "      <td>1</td>\n",
       "      <td>544</td>\n",
       "      <td>0.001838</td>\n",
       "      <td>67</td>\n",
       "      <td>0.109836</td>\n",
       "    </tr>\n",
       "    <tr>\n",
       "      <th>23</th>\n",
       "      <td>24</td>\n",
       "      <td>1</td>\n",
       "      <td>532</td>\n",
       "      <td>0.001880</td>\n",
       "      <td>79</td>\n",
       "      <td>0.129508</td>\n",
       "    </tr>\n",
       "    <tr>\n",
       "      <th>24</th>\n",
       "      <td>25</td>\n",
       "      <td>1</td>\n",
       "      <td>531</td>\n",
       "      <td>0.001883</td>\n",
       "      <td>80</td>\n",
       "      <td>0.131148</td>\n",
       "    </tr>\n",
       "    <tr>\n",
       "      <th>25</th>\n",
       "      <td>26</td>\n",
       "      <td>1</td>\n",
       "      <td>530</td>\n",
       "      <td>0.001887</td>\n",
       "      <td>81</td>\n",
       "      <td>0.132787</td>\n",
       "    </tr>\n",
       "    <tr>\n",
       "      <th>26</th>\n",
       "      <td>27</td>\n",
       "      <td>1</td>\n",
       "      <td>529</td>\n",
       "      <td>0.001890</td>\n",
       "      <td>82</td>\n",
       "      <td>0.134426</td>\n",
       "    </tr>\n",
       "    <tr>\n",
       "      <th>5</th>\n",
       "      <td>6</td>\n",
       "      <td>2</td>\n",
       "      <td>584</td>\n",
       "      <td>0.003425</td>\n",
       "      <td>28</td>\n",
       "      <td>0.045902</td>\n",
       "    </tr>\n",
       "    <tr>\n",
       "      <th>11</th>\n",
       "      <td>12</td>\n",
       "      <td>2</td>\n",
       "      <td>561</td>\n",
       "      <td>0.003565</td>\n",
       "      <td>51</td>\n",
       "      <td>0.083607</td>\n",
       "    </tr>\n",
       "    <tr>\n",
       "      <th>13</th>\n",
       "      <td>14</td>\n",
       "      <td>2</td>\n",
       "      <td>556</td>\n",
       "      <td>0.003597</td>\n",
       "      <td>56</td>\n",
       "      <td>0.091803</td>\n",
       "    </tr>\n",
       "    <tr>\n",
       "      <th>18</th>\n",
       "      <td>19</td>\n",
       "      <td>2</td>\n",
       "      <td>543</td>\n",
       "      <td>0.003683</td>\n",
       "      <td>69</td>\n",
       "      <td>0.113115</td>\n",
       "    </tr>\n",
       "    <tr>\n",
       "      <th>20</th>\n",
       "      <td>21</td>\n",
       "      <td>2</td>\n",
       "      <td>538</td>\n",
       "      <td>0.003717</td>\n",
       "      <td>74</td>\n",
       "      <td>0.121311</td>\n",
       "    </tr>\n",
       "    <tr>\n",
       "      <th>21</th>\n",
       "      <td>22</td>\n",
       "      <td>2</td>\n",
       "      <td>536</td>\n",
       "      <td>0.003731</td>\n",
       "      <td>76</td>\n",
       "      <td>0.124590</td>\n",
       "    </tr>\n",
       "    <tr>\n",
       "      <th>22</th>\n",
       "      <td>23</td>\n",
       "      <td>2</td>\n",
       "      <td>534</td>\n",
       "      <td>0.003745</td>\n",
       "      <td>78</td>\n",
       "      <td>0.127869</td>\n",
       "    </tr>\n",
       "    <tr>\n",
       "      <th>8</th>\n",
       "      <td>9</td>\n",
       "      <td>3</td>\n",
       "      <td>576</td>\n",
       "      <td>0.005208</td>\n",
       "      <td>37</td>\n",
       "      <td>0.060656</td>\n",
       "    </tr>\n",
       "    <tr>\n",
       "      <th>12</th>\n",
       "      <td>13</td>\n",
       "      <td>3</td>\n",
       "      <td>559</td>\n",
       "      <td>0.005367</td>\n",
       "      <td>54</td>\n",
       "      <td>0.088525</td>\n",
       "    </tr>\n",
       "    <tr>\n",
       "      <th>16</th>\n",
       "      <td>17</td>\n",
       "      <td>3</td>\n",
       "      <td>547</td>\n",
       "      <td>0.005484</td>\n",
       "      <td>66</td>\n",
       "      <td>0.108197</td>\n",
       "    </tr>\n",
       "    <tr>\n",
       "      <th>19</th>\n",
       "      <td>20</td>\n",
       "      <td>3</td>\n",
       "      <td>541</td>\n",
       "      <td>0.005545</td>\n",
       "      <td>72</td>\n",
       "      <td>0.118033</td>\n",
       "    </tr>\n",
       "    <tr>\n",
       "      <th>28</th>\n",
       "      <td>29</td>\n",
       "      <td>3</td>\n",
       "      <td>522</td>\n",
       "      <td>0.005747</td>\n",
       "      <td>91</td>\n",
       "      <td>0.149180</td>\n",
       "    </tr>\n",
       "    <tr>\n",
       "      <th>29</th>\n",
       "      <td>30</td>\n",
       "      <td>3</td>\n",
       "      <td>519</td>\n",
       "      <td>0.005780</td>\n",
       "      <td>94</td>\n",
       "      <td>0.154098</td>\n",
       "    </tr>\n",
       "    <tr>\n",
       "      <th>9</th>\n",
       "      <td>10</td>\n",
       "      <td>4</td>\n",
       "      <td>573</td>\n",
       "      <td>0.006981</td>\n",
       "      <td>41</td>\n",
       "      <td>0.067213</td>\n",
       "    </tr>\n",
       "    <tr>\n",
       "      <th>0</th>\n",
       "      <td>1</td>\n",
       "      <td>5</td>\n",
       "      <td>610</td>\n",
       "      <td>0.008197</td>\n",
       "      <td>5</td>\n",
       "      <td>0.008197</td>\n",
       "    </tr>\n",
       "    <tr>\n",
       "      <th>2</th>\n",
       "      <td>3</td>\n",
       "      <td>5</td>\n",
       "      <td>599</td>\n",
       "      <td>0.008347</td>\n",
       "      <td>16</td>\n",
       "      <td>0.026230</td>\n",
       "    </tr>\n",
       "    <tr>\n",
       "      <th>3</th>\n",
       "      <td>4</td>\n",
       "      <td>5</td>\n",
       "      <td>594</td>\n",
       "      <td>0.008418</td>\n",
       "      <td>21</td>\n",
       "      <td>0.034426</td>\n",
       "    </tr>\n",
       "    <tr>\n",
       "      <th>4</th>\n",
       "      <td>5</td>\n",
       "      <td>5</td>\n",
       "      <td>589</td>\n",
       "      <td>0.008489</td>\n",
       "      <td>26</td>\n",
       "      <td>0.042623</td>\n",
       "    </tr>\n",
       "    <tr>\n",
       "      <th>7</th>\n",
       "      <td>8</td>\n",
       "      <td>5</td>\n",
       "      <td>581</td>\n",
       "      <td>0.008606</td>\n",
       "      <td>34</td>\n",
       "      <td>0.055738</td>\n",
       "    </tr>\n",
       "    <tr>\n",
       "      <th>1</th>\n",
       "      <td>2</td>\n",
       "      <td>6</td>\n",
       "      <td>605</td>\n",
       "      <td>0.009917</td>\n",
       "      <td>11</td>\n",
       "      <td>0.018033</td>\n",
       "    </tr>\n",
       "    <tr>\n",
       "      <th>15</th>\n",
       "      <td>16</td>\n",
       "      <td>6</td>\n",
       "      <td>553</td>\n",
       "      <td>0.010850</td>\n",
       "      <td>63</td>\n",
       "      <td>0.103279</td>\n",
       "    </tr>\n",
       "    <tr>\n",
       "      <th>27</th>\n",
       "      <td>28</td>\n",
       "      <td>6</td>\n",
       "      <td>528</td>\n",
       "      <td>0.011364</td>\n",
       "      <td>88</td>\n",
       "      <td>0.144262</td>\n",
       "    </tr>\n",
       "    <tr>\n",
       "      <th>10</th>\n",
       "      <td>11</td>\n",
       "      <td>8</td>\n",
       "      <td>569</td>\n",
       "      <td>0.014060</td>\n",
       "      <td>49</td>\n",
       "      <td>0.080328</td>\n",
       "    </tr>\n",
       "  </tbody>\n",
       "</table>\n",
       "</div>"
      ],
      "text/plain": [
       "    time_discharge_to_death  n_deaths  n_at_risk   p_death  total_died  \\\n",
       "6                         7         1        582  0.001718          29   \n",
       "14                       15         1        554  0.001805          57   \n",
       "17                       18         1        544  0.001838          67   \n",
       "23                       24         1        532  0.001880          79   \n",
       "24                       25         1        531  0.001883          80   \n",
       "25                       26         1        530  0.001887          81   \n",
       "26                       27         1        529  0.001890          82   \n",
       "5                         6         2        584  0.003425          28   \n",
       "11                       12         2        561  0.003565          51   \n",
       "13                       14         2        556  0.003597          56   \n",
       "18                       19         2        543  0.003683          69   \n",
       "20                       21         2        538  0.003717          74   \n",
       "21                       22         2        536  0.003731          76   \n",
       "22                       23         2        534  0.003745          78   \n",
       "8                         9         3        576  0.005208          37   \n",
       "12                       13         3        559  0.005367          54   \n",
       "16                       17         3        547  0.005484          66   \n",
       "19                       20         3        541  0.005545          72   \n",
       "28                       29         3        522  0.005747          91   \n",
       "29                       30         3        519  0.005780          94   \n",
       "9                        10         4        573  0.006981          41   \n",
       "0                         1         5        610  0.008197           5   \n",
       "2                         3         5        599  0.008347          16   \n",
       "3                         4         5        594  0.008418          21   \n",
       "4                         5         5        589  0.008489          26   \n",
       "7                         8         5        581  0.008606          34   \n",
       "1                         2         6        605  0.009917          11   \n",
       "15                       16         6        553  0.010850          63   \n",
       "27                       28         6        528  0.011364          88   \n",
       "10                       11         8        569  0.014060          49   \n",
       "\n",
       "    p_death_running  \n",
       "6          0.047541  \n",
       "14         0.093443  \n",
       "17         0.109836  \n",
       "23         0.129508  \n",
       "24         0.131148  \n",
       "25         0.132787  \n",
       "26         0.134426  \n",
       "5          0.045902  \n",
       "11         0.083607  \n",
       "13         0.091803  \n",
       "18         0.113115  \n",
       "20         0.121311  \n",
       "21         0.124590  \n",
       "22         0.127869  \n",
       "8          0.060656  \n",
       "12         0.088525  \n",
       "16         0.108197  \n",
       "19         0.118033  \n",
       "28         0.149180  \n",
       "29         0.154098  \n",
       "9          0.067213  \n",
       "0          0.008197  \n",
       "2          0.026230  \n",
       "3          0.034426  \n",
       "4          0.042623  \n",
       "7          0.055738  \n",
       "1          0.018033  \n",
       "15         0.103279  \n",
       "27         0.144262  \n",
       "10         0.080328  "
      ]
     },
     "execution_count": 260,
     "metadata": {},
     "output_type": "execute_result"
    }
   ],
   "source": [
    "# Day with lowest risk\n",
    "df_daily_pna.query(\"time_discharge_to_death <= 30\").sort_values(\"p_death\", ascending=True)"
   ]
  },
  {
   "cell_type": "code",
   "execution_count": null,
   "id": "b124378c",
   "metadata": {},
   "outputs": [],
   "source": []
  },
  {
   "cell_type": "code",
   "execution_count": null,
   "id": "56a10567",
   "metadata": {},
   "outputs": [],
   "source": []
  },
  {
   "cell_type": "code",
   "execution_count": 216,
   "id": "6b17944e",
   "metadata": {},
   "outputs": [
    {
     "data": {
      "image/png": "[encoded data removed]",
      "text/plain": [
       "<Figure size 432x288 with 1 Axes>"
      ]
     },
     "metadata": {},
     "output_type": "display_data"
    }
   ],
   "source": [
    "ax = sns.lineplot(x=\"time_discharge_to_death\", y=\"p_death_running\", data=df_daily_pna.iloc[:30], drawstyle='steps-pre')\n",
    "ax = sns.lineplot(x=\"time_discharge_to_death\", y=\"p_death_running\", data=df_daily_pna_neg.iloc[:30], drawstyle='steps-pre')\n"
   ]
  },
  {
   "cell_type": "code",
   "execution_count": null,
   "id": "73508007",
   "metadata": {},
   "outputs": [],
   "source": []
  },
  {
   "cell_type": "code",
   "execution_count": null,
   "id": "237b5039",
   "metadata": {},
   "outputs": [],
   "source": []
  },
  {
   "cell_type": "code",
   "execution_count": 200,
   "id": "e07442d8",
   "metadata": {},
   "outputs": [
    {
     "data": {
      "text/plain": [
       "<AxesSubplot:xlabel='time_discharge_to_death', ylabel='p_death_running'>"
      ]
     },
     "execution_count": 200,
     "metadata": {},
     "output_type": "execute_result"
    },
    {
     "data": {
      "image/png": "[encoded data removed]",
      "text/plain": [
       "<Figure size 432x288 with 1 Axes>"
      ]
     },
     "metadata": {},
     "output_type": "display_data"
    }
   ],
   "source": [
    "sns.lineplot(x=\"time_discharge_to_death\", y=\"p_death_running\", data=df_daily.iloc[:30], drawstyle='steps-pre')"
   ]
  },
  {
   "cell_type": "code",
   "execution_count": 201,
   "id": "a94a6c3d",
   "metadata": {},
   "outputs": [
    {
     "data": {
      "text/plain": [
       "<AxesSubplot:xlabel='time_discharge_to_death', ylabel='p_death_running'>"
      ]
     },
     "execution_count": 201,
     "metadata": {},
     "output_type": "execute_result"
    },
    {
     "data": {
      "image/png": "[encoded data removed]",
      "text/plain": [
       "<Figure size 432x288 with 1 Axes>"
      ]
     },
     "metadata": {},
     "output_type": "display_data"
    }
   ],
   "source": [
    "sns.lineplot(x=\"time_discharge_to_death\", y=\"p_death_running\", data=df_daily, drawstyle='steps-pre')"
   ]
  },
  {
   "cell_type": "code",
   "execution_count": 187,
   "id": "9b4fc261",
   "metadata": {},
   "outputs": [
    {
     "data": {
      "text/plain": [
       "438"
      ]
     },
     "execution_count": 187,
     "metadata": {},
     "output_type": "execute_result"
    }
   ],
   "source": [
    "len(df[(df[\"time_discharge_to_death\"] <= 30) & (df[\"time_discharge_to_death\"] >0)])"
   ]
  },
  {
   "cell_type": "code",
   "execution_count": null,
   "id": "5cf754e5",
   "metadata": {},
   "outputs": [],
   "source": []
  },
  {
   "cell_type": "code",
   "execution_count": null,
   "id": "cc4dce66",
   "metadata": {},
   "outputs": [],
   "source": []
  },
  {
   "cell_type": "code",
   "execution_count": null,
   "id": "5f768b54",
   "metadata": {},
   "outputs": [],
   "source": []
  },
  {
   "cell_type": "code",
   "execution_count": 37,
   "id": "9d652ecb",
   "metadata": {},
   "outputs": [
    {
     "name": "stdout",
     "output_type": "stream",
     "text": [
      "Collecting scikit-survival\n",
      "  Downloading scikit_survival-0.17.2-cp39-cp39-macosx_10_13_x86_64.whl (754 kB)\n",
      "\u001b[K     |████████████████████████████████| 754 kB 1.4 MB/s eta 0:00:01\n",
      "\u001b[?25hCollecting joblib\n",
      "  Downloading joblib-1.1.0-py2.py3-none-any.whl (306 kB)\n",
      "\u001b[K     |████████████████████████████████| 306 kB 1.6 MB/s eta 0:00:01\n",
      "\u001b[?25hCollecting scikit-learn<1.1,>=1.0.0\n",
      "  Downloading scikit_learn-1.0.2-cp39-cp39-macosx_10_13_x86_64.whl (8.0 MB)\n",
      "\u001b[K     |████████████████████████████████| 8.0 MB 1.6 MB/s eta 0:00:01\n",
      "\u001b[?25hRequirement already satisfied: pandas>=0.25 in /Users/alecchapman/opt/miniconda3/envs/phs/lib/python3.9/site-packages (from scikit-survival) (1.4.3)\n",
      "Collecting ecos\n",
      "  Downloading ecos-2.0.10-cp39-cp39-macosx_10_9_x86_64.whl (88 kB)\n",
      "\u001b[K     |████████████████████████████████| 88 kB 654 kB/s eta 0:00:01\n",
      "\u001b[?25hRequirement already satisfied: scipy!=1.3.0,>=1.0 in /Users/alecchapman/opt/miniconda3/envs/phs/lib/python3.9/site-packages (from scikit-survival) (1.8.1)\n",
      "Requirement already satisfied: numpy in /Users/alecchapman/opt/miniconda3/envs/phs/lib/python3.9/site-packages (from scikit-survival) (1.23.0)\n",
      "Collecting osqp!=0.6.0,!=0.6.1\n",
      "  Downloading osqp-0.6.2.post5-cp39-cp39-macosx_10_9_x86_64.whl (249 kB)\n",
      "\u001b[K     |████████████████████████████████| 249 kB 745 kB/s eta 0:00:01\n",
      "\u001b[?25hCollecting numexpr\n",
      "  Downloading numexpr-2.8.3-cp39-cp39-macosx_10_9_x86_64.whl (99 kB)\n",
      "\u001b[K     |████████████████████████████████| 99 kB 1.3 MB/s eta 0:00:01\n",
      "\u001b[?25hCollecting qdldl\n",
      "  Downloading qdldl-0.1.5.post2-cp39-cp39-macosx_10_9_x86_64.whl (98 kB)\n",
      "\u001b[K     |████████████████████████████████| 98 kB 1.9 MB/s eta 0:00:01\n",
      "\u001b[?25hRequirement already satisfied: pytz>=2020.1 in /Users/alecchapman/opt/miniconda3/envs/phs/lib/python3.9/site-packages (from pandas>=0.25->scikit-survival) (2022.1)\n",
      "Requirement already satisfied: python-dateutil>=2.8.1 in /Users/alecchapman/opt/miniconda3/envs/phs/lib/python3.9/site-packages (from pandas>=0.25->scikit-survival) (2.8.2)\n",
      "Requirement already satisfied: six>=1.5 in /Users/alecchapman/opt/miniconda3/envs/phs/lib/python3.9/site-packages (from python-dateutil>=2.8.1->pandas>=0.25->scikit-survival) (1.16.0)\n",
      "Collecting threadpoolctl>=2.0.0\n",
      "  Downloading threadpoolctl-3.1.0-py3-none-any.whl (14 kB)\n",
      "Requirement already satisfied: packaging in /Users/alecchapman/opt/miniconda3/envs/phs/lib/python3.9/site-packages (from numexpr->scikit-survival) (21.3)\n",
      "Requirement already satisfied: pyparsing!=3.0.5,>=2.0.2 in /Users/alecchapman/opt/miniconda3/envs/phs/lib/python3.9/site-packages (from packaging->numexpr->scikit-survival) (3.0.4)\n",
      "Installing collected packages: threadpoolctl, qdldl, joblib, scikit-learn, osqp, numexpr, ecos, scikit-survival\n",
      "Successfully installed ecos-2.0.10 joblib-1.1.0 numexpr-2.8.3 osqp-0.6.2.post5 qdldl-0.1.5.post2 scikit-learn-1.0.2 scikit-survival-0.17.2 threadpoolctl-3.1.0\n"
     ]
    }
   ],
   "source": [
    "!pip install scikit-survival"
   ]
  },
  {
   "cell_type": "markdown",
   "id": "92a1e8e6",
   "metadata": {},
   "source": [
    "#### TODO\n",
    "Filter the dataset to only patients who did not die in the hospital."
   ]
  },
  {
   "cell_type": "code",
   "execution_count": null,
   "id": "e9dcd811",
   "metadata": {},
   "outputs": [],
   "source": [
    "from sksurv.nonparametric import kaplan_meier_estimator\n",
    "\n",
    "time, survival_prob = kaplan_meier_estimator(df[\"Status\"], df[\"Survival_in_days\"])"
   ]
  },
  {
   "cell_type": "code",
   "execution_count": null,
   "id": "b7b7e8a1",
   "metadata": {},
   "outputs": [],
   "source": []
  },
  {
   "cell_type": "markdown",
   "id": "8745f8ec",
   "metadata": {},
   "source": [
    "#### TODO (advanced)\n",
    "Using the columns ..., implement a simple regression."
   ]
  },
  {
   "cell_type": "code",
   "execution_count": null,
   "id": "112e9f2f",
   "metadata": {},
   "outputs": [],
   "source": []
  }
 ],
 "metadata": {
  "kernelspec": {
   "display_name": "Python 3 (ipykernel)",
   "language": "python",
   "name": "python3"
  },
  "language_info": {
   "codemirror_mode": {
    "name": "ipython",
    "version": 3
   },
   "file_extension": ".py",
   "mimetype": "text/x-python",
   "name": "python",
   "nbconvert_exporter": "python",
   "pygments_lexer": "ipython3",
   "version": "3.9.12"
  }
 },
 "nbformat": 4,
 "nbformat_minor": 5
}
