{
 "cells": [
  {
   "cell_type": "markdown",
   "id": "5001c82a",
   "metadata": {},
   "source": [
    "# Day 1\n",
    "## Pneumonia Use Case Part 1\n",
    "\n",
    "In this notebook, we will put our newly developed Python skills to use. We will analyze a dataset of ICU patients from the MIMIC-II database.\n",
    "\n",
    "1. Exploratory data analysis\n",
    "2. Wrangle data\n",
    "3. Calculate the relative risk (RR) of variables with 30-day mortality\n",
    "4. Perform survival analysis to study the cumulative incidence of 30-day mortality and study the association of pneumonia with 30-day mortality\n",
    "\n",
    "**Study population**: All patients in MIMIC-II who were discharged from the ICU and are at least 18 years old."
   ]
  },
  {
   "cell_type": "code",
   "execution_count": 1,
   "id": "fc10c31b",
   "metadata": {},
   "outputs": [],
   "source": [
    "import pandas as pd\n",
    "\n",
    "import matplotlib.pyplot as plt\n",
    "import seaborn as sns"
   ]
  },
  {
   "cell_type": "code",
   "execution_count": 2,
   "id": "10045eb9",
   "metadata": {},
   "outputs": [],
   "source": [
    "%matplotlib inline\n",
    "sns.set()"
   ]
  },
  {
   "cell_type": "markdown",
   "id": "23d84e90",
   "metadata": {},
   "source": [
    "## 0. Read in data"
   ]
  },
  {
   "cell_type": "code",
   "execution_count": 31,
   "id": "04a7ff60",
   "metadata": {},
   "outputs": [],
   "source": [
    "FILEPATH = \"../data/pna_30_day_mortality.csv\""
   ]
  },
  {
   "cell_type": "markdown",
   "id": "5e738e61",
   "metadata": {},
   "source": [
    "#### TODO\n",
    "Read in the CSV file under `../data/pna_30_day_mortality.csv`"
   ]
  },
  {
   "cell_type": "code",
   "execution_count": 32,
   "id": "43548a5d",
   "metadata": {},
   "outputs": [],
   "source": [
    "df = pd.read_csv(FILEPATH)"
   ]
  },
  {
   "cell_type": "code",
   "execution_count": 33,
   "id": "e81df238",
   "metadata": {},
   "outputs": [
    {
     "data": {
      "text/plain": [
       "5074"
      ]
     },
     "execution_count": 33,
     "metadata": {},
     "output_type": "execute_result"
    }
   ],
   "source": [
    "len(df)"
   ]
  },
  {
   "cell_type": "code",
   "execution_count": 34,
   "id": "e210db7e",
   "metadata": {},
   "outputs": [
    {
     "data": {
      "text/html": [
       "<div>\n",
       "<style scoped>\n",
       "    .dataframe tbody tr th:only-of-type {\n",
       "        vertical-align: middle;\n",
       "    }\n",
       "\n",
       "    .dataframe tbody tr th {\n",
       "        vertical-align: top;\n",
       "    }\n",
       "\n",
       "    .dataframe thead th {\n",
       "        text-align: right;\n",
       "    }\n",
       "</style>\n",
       "<table border=\"1\" class=\"dataframe\">\n",
       "  <thead>\n",
       "    <tr style=\"text-align: right;\">\n",
       "      <th></th>\n",
       "      <th>subject_id</th>\n",
       "      <th>hadm_id</th>\n",
       "      <th>disch_dt</th>\n",
       "      <th>dod</th>\n",
       "      <th>sex</th>\n",
       "      <th>ethnicity_descr</th>\n",
       "      <th>age_at_discharge</th>\n",
       "      <th>age_at_discharge_binned</th>\n",
       "      <th>pna</th>\n",
       "      <th>time_discharge_to_death</th>\n",
       "      <th>mortality_30_day</th>\n",
       "    </tr>\n",
       "  </thead>\n",
       "  <tbody>\n",
       "    <tr>\n",
       "      <th>0</th>\n",
       "      <td>56</td>\n",
       "      <td>28766</td>\n",
       "      <td>2644-01-23 00:00:00</td>\n",
       "      <td>2644-01-23 00:00:00</td>\n",
       "      <td>F</td>\n",
       "      <td>WHITE</td>\n",
       "      <td>90.7205</td>\n",
       "      <td>91+</td>\n",
       "      <td>0</td>\n",
       "      <td>0</td>\n",
       "      <td>1</td>\n",
       "    </tr>\n",
       "    <tr>\n",
       "      <th>1</th>\n",
       "      <td>37</td>\n",
       "      <td>18052</td>\n",
       "      <td>3264-08-19 00:00:00</td>\n",
       "      <td>3265-12-31 00:00:00</td>\n",
       "      <td>M</td>\n",
       "      <td>WHITE</td>\n",
       "      <td>68.9863</td>\n",
       "      <td>66-90</td>\n",
       "      <td>1</td>\n",
       "      <td>499</td>\n",
       "      <td>0</td>\n",
       "    </tr>\n",
       "    <tr>\n",
       "      <th>2</th>\n",
       "      <td>78</td>\n",
       "      <td>15161</td>\n",
       "      <td>2778-03-27 00:00:00</td>\n",
       "      <td>2781-03-11 00:00:00</td>\n",
       "      <td>M</td>\n",
       "      <td>BLACK/AFRICAN AMERICAN</td>\n",
       "      <td>48.6658</td>\n",
       "      <td>36-65</td>\n",
       "      <td>0</td>\n",
       "      <td>1080</td>\n",
       "      <td>0</td>\n",
       "    </tr>\n",
       "    <tr>\n",
       "      <th>3</th>\n",
       "      <td>67</td>\n",
       "      <td>35878</td>\n",
       "      <td>2976-11-29 00:00:00</td>\n",
       "      <td>2976-11-29 00:00:00</td>\n",
       "      <td>M</td>\n",
       "      <td>WHITE</td>\n",
       "      <td>73.5397</td>\n",
       "      <td>66-90</td>\n",
       "      <td>0</td>\n",
       "      <td>0</td>\n",
       "      <td>1</td>\n",
       "    </tr>\n",
       "    <tr>\n",
       "      <th>4</th>\n",
       "      <td>3</td>\n",
       "      <td>2075</td>\n",
       "      <td>2682-09-18 00:00:00</td>\n",
       "      <td>2683-05-02 00:00:00</td>\n",
       "      <td>M</td>\n",
       "      <td>WHITE</td>\n",
       "      <td>76.6055</td>\n",
       "      <td>66-90</td>\n",
       "      <td>0</td>\n",
       "      <td>226</td>\n",
       "      <td>0</td>\n",
       "    </tr>\n",
       "  </tbody>\n",
       "</table>\n",
       "</div>"
      ],
      "text/plain": [
       "   subject_id  hadm_id             disch_dt                  dod sex  \\\n",
       "0          56    28766  2644-01-23 00:00:00  2644-01-23 00:00:00   F   \n",
       "1          37    18052  3264-08-19 00:00:00  3265-12-31 00:00:00   M   \n",
       "2          78    15161  2778-03-27 00:00:00  2781-03-11 00:00:00   M   \n",
       "3          67    35878  2976-11-29 00:00:00  2976-11-29 00:00:00   M   \n",
       "4           3     2075  2682-09-18 00:00:00  2683-05-02 00:00:00   M   \n",
       "\n",
       "          ethnicity_descr  age_at_discharge age_at_discharge_binned  pna  \\\n",
       "0                   WHITE           90.7205                     91+    0   \n",
       "1                   WHITE           68.9863                   66-90    1   \n",
       "2  BLACK/AFRICAN AMERICAN           48.6658                   36-65    0   \n",
       "3                   WHITE           73.5397                   66-90    0   \n",
       "4                   WHITE           76.6055                   66-90    0   \n",
       "\n",
       "   time_discharge_to_death  mortality_30_day  \n",
       "0                        0                 1  \n",
       "1                      499                 0  \n",
       "2                     1080                 0  \n",
       "3                        0                 1  \n",
       "4                      226                 0  "
      ]
     },
     "execution_count": 34,
     "metadata": {},
     "output_type": "execute_result"
    }
   ],
   "source": [
    "df.head()"
   ]
  },
  {
   "cell_type": "markdown",
   "id": "5b0de7d5",
   "metadata": {},
   "source": [
    "## 1. Exploratory data analysis"
   ]
  },
  {
   "cell_type": "markdown",
   "id": "5e4b55ad",
   "metadata": {},
   "source": [
    "#### TODO\n",
    "Our first analysis will be exploring the dataset using visualization and summary statistics. We will answer questions like:\n",
    "- What are the demographics of the patient population?\n",
    "- How many patients died in the hospital? How long did patients survive after discharge?\n",
    "- How many patients had pneumonia? Does the subpopulation of pneumonia cases differ at all from the rest of the population?\n",
    "\n",
    "But first, you may need to do some additional data transformations to get the necessary variables. Start by exploring the dataset and getting familiar with it. Which of the previous analyses can you do? Which do you need to do additional work for?"
   ]
  },
  {
   "cell_type": "code",
   "execution_count": 16,
   "id": "1b732e4f",
   "metadata": {},
   "outputs": [
    {
     "data": {
      "text/html": [
       "<div>\n",
       "<style scoped>\n",
       "    .dataframe tbody tr th:only-of-type {\n",
       "        vertical-align: middle;\n",
       "    }\n",
       "\n",
       "    .dataframe tbody tr th {\n",
       "        vertical-align: top;\n",
       "    }\n",
       "\n",
       "    .dataframe thead th {\n",
       "        text-align: right;\n",
       "    }\n",
       "</style>\n",
       "<table border=\"1\" class=\"dataframe\">\n",
       "  <thead>\n",
       "    <tr style=\"text-align: right;\">\n",
       "      <th></th>\n",
       "      <th>subject_id</th>\n",
       "      <th>hadm_id</th>\n",
       "      <th>disch_dt</th>\n",
       "      <th>dod</th>\n",
       "      <th>sex</th>\n",
       "      <th>ethnicity_descr</th>\n",
       "      <th>age_at_discharge</th>\n",
       "      <th>age_at_discharge_binned</th>\n",
       "      <th>pna</th>\n",
       "      <th>time_to_death</th>\n",
       "      <th>mortality_30_day</th>\n",
       "    </tr>\n",
       "  </thead>\n",
       "  <tbody>\n",
       "    <tr>\n",
       "      <th>0</th>\n",
       "      <td>56</td>\n",
       "      <td>28766</td>\n",
       "      <td>2644-01-23 00:00:00</td>\n",
       "      <td>2644-01-23 00:00:00</td>\n",
       "      <td>F</td>\n",
       "      <td>WHITE</td>\n",
       "      <td>90.7205</td>\n",
       "      <td>91+</td>\n",
       "      <td>0</td>\n",
       "      <td>0</td>\n",
       "      <td>1</td>\n",
       "    </tr>\n",
       "    <tr>\n",
       "      <th>1</th>\n",
       "      <td>37</td>\n",
       "      <td>18052</td>\n",
       "      <td>3264-08-19 00:00:00</td>\n",
       "      <td>3265-12-31 00:00:00</td>\n",
       "      <td>M</td>\n",
       "      <td>WHITE</td>\n",
       "      <td>68.9863</td>\n",
       "      <td>66-90</td>\n",
       "      <td>1</td>\n",
       "      <td>499</td>\n",
       "      <td>0</td>\n",
       "    </tr>\n",
       "    <tr>\n",
       "      <th>2</th>\n",
       "      <td>78</td>\n",
       "      <td>15161</td>\n",
       "      <td>2778-03-27 00:00:00</td>\n",
       "      <td>2781-03-11 00:00:00</td>\n",
       "      <td>M</td>\n",
       "      <td>BLACK/AFRICAN AMERICAN</td>\n",
       "      <td>48.6658</td>\n",
       "      <td>36-65</td>\n",
       "      <td>0</td>\n",
       "      <td>1080</td>\n",
       "      <td>0</td>\n",
       "    </tr>\n",
       "    <tr>\n",
       "      <th>3</th>\n",
       "      <td>67</td>\n",
       "      <td>35878</td>\n",
       "      <td>2976-11-29 00:00:00</td>\n",
       "      <td>2976-11-29 00:00:00</td>\n",
       "      <td>M</td>\n",
       "      <td>WHITE</td>\n",
       "      <td>73.5397</td>\n",
       "      <td>66-90</td>\n",
       "      <td>0</td>\n",
       "      <td>0</td>\n",
       "      <td>1</td>\n",
       "    </tr>\n",
       "    <tr>\n",
       "      <th>4</th>\n",
       "      <td>3</td>\n",
       "      <td>2075</td>\n",
       "      <td>2682-09-18 00:00:00</td>\n",
       "      <td>2683-05-02 00:00:00</td>\n",
       "      <td>M</td>\n",
       "      <td>WHITE</td>\n",
       "      <td>76.6055</td>\n",
       "      <td>66-90</td>\n",
       "      <td>0</td>\n",
       "      <td>226</td>\n",
       "      <td>0</td>\n",
       "    </tr>\n",
       "  </tbody>\n",
       "</table>\n",
       "</div>"
      ],
      "text/plain": [
       "   subject_id  hadm_id             disch_dt                  dod sex  \\\n",
       "0          56    28766  2644-01-23 00:00:00  2644-01-23 00:00:00   F   \n",
       "1          37    18052  3264-08-19 00:00:00  3265-12-31 00:00:00   M   \n",
       "2          78    15161  2778-03-27 00:00:00  2781-03-11 00:00:00   M   \n",
       "3          67    35878  2976-11-29 00:00:00  2976-11-29 00:00:00   M   \n",
       "4           3     2075  2682-09-18 00:00:00  2683-05-02 00:00:00   M   \n",
       "\n",
       "          ethnicity_descr  age_at_discharge age_at_discharge_binned  pna  \\\n",
       "0                   WHITE           90.7205                     91+    0   \n",
       "1                   WHITE           68.9863                   66-90    1   \n",
       "2  BLACK/AFRICAN AMERICAN           48.6658                   36-65    0   \n",
       "3                   WHITE           73.5397                   66-90    0   \n",
       "4                   WHITE           76.6055                   66-90    0   \n",
       "\n",
       "   time_to_death  mortality_30_day  \n",
       "0              0                 1  \n",
       "1            499                 0  \n",
       "2           1080                 0  \n",
       "3              0                 1  \n",
       "4            226                 0  "
      ]
     },
     "execution_count": 16,
     "metadata": {},
     "output_type": "execute_result"
    }
   ],
   "source": [
    "df.head()"
   ]
  },
  {
   "cell_type": "code",
   "execution_count": 25,
   "id": "fb528bb7",
   "metadata": {},
   "outputs": [],
   "source": [
    "df[\"in_hospital_mortality\"] = (df[\"disch_dt\"] == df[\"dod\"]).astype(int)"
   ]
  },
  {
   "cell_type": "code",
   "execution_count": 27,
   "id": "7bc0aa1a",
   "metadata": {},
   "outputs": [
    {
     "data": {
      "text/plain": [
       "<AxesSubplot:>"
      ]
     },
     "execution_count": 27,
     "metadata": {},
     "output_type": "execute_result"
    },
    {
     "data": {
      "image/png": "[encoded data removed]",
      "text/plain": [
       "<Figure size 432x288 with 1 Axes>"
      ]
     },
     "metadata": {},
     "output_type": "display_data"
    }
   ],
   "source": [
    "df[\"in_hospital_mortality\"].hist()"
   ]
  },
  {
   "cell_type": "code",
   "execution_count": 23,
   "id": "5ec992f4",
   "metadata": {},
   "outputs": [
    {
     "data": {
      "text/plain": [
       "<AxesSubplot:xlabel='count', ylabel='ethnicity_descr'>"
      ]
     },
     "execution_count": 23,
     "metadata": {},
     "output_type": "execute_result"
    },
    {
     "data": {
      "image/png": "[encoded data removed]",
      "text/plain": [
       "<Figure size 432x288 with 1 Axes>"
      ]
     },
     "metadata": {},
     "output_type": "display_data"
    }
   ],
   "source": [
    "sns.countplot(y=\"ethnicity_descr\", data=df)"
   ]
  },
  {
   "cell_type": "code",
   "execution_count": 24,
   "id": "32e09f73",
   "metadata": {},
   "outputs": [
    {
     "name": "stderr",
     "output_type": "stream",
     "text": [
      "/Users/alecchapman/opt/miniconda3/envs/phs/lib/python3.9/site-packages/seaborn/distributions.py:2619: FutureWarning: `distplot` is a deprecated function and will be removed in a future version. Please adapt your code to use either `displot` (a figure-level function with similar flexibility) or `histplot` (an axes-level function for histograms).\n",
      "  warnings.warn(msg, FutureWarning)\n"
     ]
    },
    {
     "data": {
      "text/plain": [
       "<AxesSubplot:xlabel='age_at_discharge', ylabel='Density'>"
      ]
     },
     "execution_count": 24,
     "metadata": {},
     "output_type": "execute_result"
    },
    {
     "data": {
      "image/png": "[encoded data removed]",
      "text/plain": [
       "<Figure size 432x288 with 1 Axes>"
      ]
     },
     "metadata": {},
     "output_type": "display_data"
    }
   ],
   "source": [
    "sns.distplot(df[\"age_at_discharge\"])"
   ]
  },
  {
   "cell_type": "code",
   "execution_count": 28,
   "id": "d734c52e",
   "metadata": {},
   "outputs": [
    {
     "name": "stderr",
     "output_type": "stream",
     "text": [
      "/Users/alecchapman/opt/miniconda3/envs/phs/lib/python3.9/site-packages/seaborn/_decorators.py:36: FutureWarning: Pass the following variable as a keyword arg: x. From version 0.12, the only valid positional argument will be `data`, and passing other arguments without an explicit keyword will result in an error or misinterpretation.\n",
      "  warnings.warn(\n"
     ]
    },
    {
     "data": {
      "text/plain": [
       "<AxesSubplot:xlabel='age_at_discharge_binned', ylabel='count'>"
      ]
     },
     "execution_count": 28,
     "metadata": {},
     "output_type": "execute_result"
    },
    {
     "data": {
      "image/png": "[encoded data removed]",
      "text/plain": [
       "<Figure size 432x288 with 1 Axes>"
      ]
     },
     "metadata": {},
     "output_type": "display_data"
    }
   ],
   "source": [
    "sns.countplot(df[\"age_at_discharge_binned\"])"
   ]
  },
  {
   "cell_type": "markdown",
   "id": "c07ab1dd",
   "metadata": {},
   "source": [
    "#### TODO\n",
    "Add a column `\"in_hospital_mortality\"` which is 1 if the patient died while in the hospital and 0 otherwise.\n",
    "\n",
    "*Hint:* How do you know whether they died in the hospital?"
   ]
  },
  {
   "cell_type": "code",
   "execution_count": null,
   "id": "f4d6c450",
   "metadata": {},
   "outputs": [],
   "source": [
    "df[\"in_hospital_mortality\"] = (df[\"disch_dt\"] == df[\"dod\"]).astype(int)"
   ]
  },
  {
   "cell_type": "markdown",
   "id": "4bf9ff7a",
   "metadata": {},
   "source": [
    "#### TODO\n",
    "Add a column to your dataframe called `binned_age_at_discharge` with the following levels:\n",
    "- \"<18\"\n",
    "- \"18-35\"\n",
    "- \"36-65\"\n",
    "- \"66-90\"\n",
    "- \"91+\""
   ]
  },
  {
   "cell_type": "code",
   "execution_count": 30,
   "id": "bed06bbe",
   "metadata": {},
   "outputs": [],
   "source": [
    "def bin_age_at_discharge(age):\n",
    "    # todo\n",
    "    pass"
   ]
  },
  {
   "cell_type": "code",
   "execution_count": null,
   "id": "0d90b7b8",
   "metadata": {},
   "outputs": [],
   "source": []
  },
  {
   "cell_type": "markdown",
   "id": "a2761c8e",
   "metadata": {},
   "source": [
    "#### TODO\n",
    "Add a column `mortality_30_day` indicating whether the patient died within 30 days of discharge."
   ]
  },
  {
   "cell_type": "code",
   "execution_count": 36,
   "id": "3c427203",
   "metadata": {},
   "outputs": [],
   "source": [
    "df[\"mortality_30_day\"] = (df[\"time_discharge_to_death\"] <= 30).astype(int)"
   ]
  },
  {
   "cell_type": "code",
   "execution_count": 37,
   "id": "9d652ecb",
   "metadata": {},
   "outputs": [
    {
     "name": "stdout",
     "output_type": "stream",
     "text": [
      "Collecting scikit-survival\n",
      "  Downloading scikit_survival-0.17.2-cp39-cp39-macosx_10_13_x86_64.whl (754 kB)\n",
      "\u001b[K     |████████████████████████████████| 754 kB 1.4 MB/s eta 0:00:01\n",
      "\u001b[?25hCollecting joblib\n",
      "  Downloading joblib-1.1.0-py2.py3-none-any.whl (306 kB)\n",
      "\u001b[K     |████████████████████████████████| 306 kB 1.6 MB/s eta 0:00:01\n",
      "\u001b[?25hCollecting scikit-learn<1.1,>=1.0.0\n",
      "  Downloading scikit_learn-1.0.2-cp39-cp39-macosx_10_13_x86_64.whl (8.0 MB)\n",
      "\u001b[K     |████████████████████████████████| 8.0 MB 1.6 MB/s eta 0:00:01\n",
      "\u001b[?25hRequirement already satisfied: pandas>=0.25 in /Users/alecchapman/opt/miniconda3/envs/phs/lib/python3.9/site-packages (from scikit-survival) (1.4.3)\n",
      "Collecting ecos\n",
      "  Downloading ecos-2.0.10-cp39-cp39-macosx_10_9_x86_64.whl (88 kB)\n",
      "\u001b[K     |████████████████████████████████| 88 kB 654 kB/s eta 0:00:01\n",
      "\u001b[?25hRequirement already satisfied: scipy!=1.3.0,>=1.0 in /Users/alecchapman/opt/miniconda3/envs/phs/lib/python3.9/site-packages (from scikit-survival) (1.8.1)\n",
      "Requirement already satisfied: numpy in /Users/alecchapman/opt/miniconda3/envs/phs/lib/python3.9/site-packages (from scikit-survival) (1.23.0)\n",
      "Collecting osqp!=0.6.0,!=0.6.1\n",
      "  Downloading osqp-0.6.2.post5-cp39-cp39-macosx_10_9_x86_64.whl (249 kB)\n",
      "\u001b[K     |████████████████████████████████| 249 kB 745 kB/s eta 0:00:01\n",
      "\u001b[?25hCollecting numexpr\n",
      "  Downloading numexpr-2.8.3-cp39-cp39-macosx_10_9_x86_64.whl (99 kB)\n",
      "\u001b[K     |████████████████████████████████| 99 kB 1.3 MB/s eta 0:00:01\n",
      "\u001b[?25hCollecting qdldl\n",
      "  Downloading qdldl-0.1.5.post2-cp39-cp39-macosx_10_9_x86_64.whl (98 kB)\n",
      "\u001b[K     |████████████████████████████████| 98 kB 1.9 MB/s eta 0:00:01\n",
      "\u001b[?25hRequirement already satisfied: pytz>=2020.1 in /Users/alecchapman/opt/miniconda3/envs/phs/lib/python3.9/site-packages (from pandas>=0.25->scikit-survival) (2022.1)\n",
      "Requirement already satisfied: python-dateutil>=2.8.1 in /Users/alecchapman/opt/miniconda3/envs/phs/lib/python3.9/site-packages (from pandas>=0.25->scikit-survival) (2.8.2)\n",
      "Requirement already satisfied: six>=1.5 in /Users/alecchapman/opt/miniconda3/envs/phs/lib/python3.9/site-packages (from python-dateutil>=2.8.1->pandas>=0.25->scikit-survival) (1.16.0)\n",
      "Collecting threadpoolctl>=2.0.0\n",
      "  Downloading threadpoolctl-3.1.0-py3-none-any.whl (14 kB)\n",
      "Requirement already satisfied: packaging in /Users/alecchapman/opt/miniconda3/envs/phs/lib/python3.9/site-packages (from numexpr->scikit-survival) (21.3)\n",
      "Requirement already satisfied: pyparsing!=3.0.5,>=2.0.2 in /Users/alecchapman/opt/miniconda3/envs/phs/lib/python3.9/site-packages (from packaging->numexpr->scikit-survival) (3.0.4)\n",
      "Installing collected packages: threadpoolctl, qdldl, joblib, scikit-learn, osqp, numexpr, ecos, scikit-survival\n",
      "Successfully installed ecos-2.0.10 joblib-1.1.0 numexpr-2.8.3 osqp-0.6.2.post5 qdldl-0.1.5.post2 scikit-learn-1.0.2 scikit-survival-0.17.2 threadpoolctl-3.1.0\n"
     ]
    }
   ],
   "source": [
    "!pip install scikit-survival"
   ]
  },
  {
   "cell_type": "markdown",
   "id": "92a1e8e6",
   "metadata": {},
   "source": [
    "#### TODO\n",
    "Filter the dataset to only patients who did not die in the hospital."
   ]
  },
  {
   "cell_type": "code",
   "execution_count": null,
   "id": "e9dcd811",
   "metadata": {},
   "outputs": [],
   "source": [
    "from sksurv.nonparametric import kaplan_meier_estimator\n",
    "\n",
    "time, survival_prob = kaplan_meier_estimator(df[\"Status\"], df[\"Survival_in_days\"])"
   ]
  }
 ],
 "metadata": {
  "kernelspec": {
   "display_name": "Python 3 (ipykernel)",
   "language": "python",
   "name": "python3"
  },
  "language_info": {
   "codemirror_mode": {
    "name": "ipython",
    "version": 3
   },
   "file_extension": ".py",
   "mimetype": "text/x-python",
   "name": "python",
   "nbconvert_exporter": "python",
   "pygments_lexer": "ipython3",
   "version": "3.9.12"
  }
 },
 "nbformat": 4,
 "nbformat_minor": 5
}
