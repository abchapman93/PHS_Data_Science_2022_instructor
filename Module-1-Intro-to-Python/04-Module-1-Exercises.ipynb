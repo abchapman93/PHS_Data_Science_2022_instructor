{
 "cells": [
  {
   "cell_type": "markdown",
   "id": "1de3876d",
   "metadata": {},
   "source": [
    "<html>\n",
    "<table width=\"100%\" cellspacing=\"2\" cellpadding=\"2\" border=\"1\">\n",
    "<tbody>\n",
    "<tr>\n",
    "<td valign=\"center\" align=\"center\" width=\"45%\"><img src=\"../media/Univ-Utah.jpeg\"><br>\n",
    "</td>\n",
    "    <td valign=\"center\" align=\"center\" width=\"75%\">\n",
    "<h1 align=\"center\"><font size=\"+1\">University of Utah<br>Population Health Sciences<br>Data Science Workshop</font></h1></td>\n",
    "<td valign=\"center\" align=\"center\" width=\"45%\"><img\n",
    "src=\"../media/U_Health_stacked_png_red.png\" alt=\"Utah Health\n",
    "Logo\" width=\"128\" height=\"134\"><br>\n",
    "</td>\n",
    "</tr>\n",
    "</tbody>\n",
    "</table>\n",
    "<br>\n",
    "</html>\n"
   ]
  },
  {
   "cell_type": "code",
   "execution_count": 1,
   "id": "968360c6",
   "metadata": {},
   "outputs": [],
   "source": [
    "from helpers import *"
   ]
  },
  {
   "cell_type": "markdown",
   "id": "39366055",
   "metadata": {},
   "source": [
    "# Module 1 Exercises Part 1\n",
    "We have covered a lot of material so far! Before moving on to the remainder of the module, we'll do some exercises which will review and apply the skills we've learned so far. These exercises will cover the following topics:\n",
    "\n",
    "1. Variables and data types\n",
    "2. Writing and using functions\n",
    "3. Control statements\n",
    "4. For-loops\n",
    "5. Data structures\n"
   ]
  },
  {
   "cell_type": "markdown",
   "id": "a2c25980",
   "metadata": {},
   "source": [
    "## Exercise 1: Emergency room roster\n",
    "Let's again go back to our roster of emergency room patients. Here is the recorded information for each patient:\n",
    "\n",
    "| name | arrival_time | age | severity |\n",
    "|------|--------------|-----|----------|\n",
    "|   Jim   |      6:00        |  40   |     40     |\n",
    "|   Mary   |       6:30       | 31   |     10     |\n",
    "|   Rachel   |        7:00      |   27  |    20      |\n",
    "|    Laura  |        7:30      |   38  |     15     |\n",
    "|   Chloe   |         8:00     |   25  |     50     |"
   ]
  },
  {
   "cell_type": "markdown",
   "id": "ddd23d0d",
   "metadata": {},
   "source": [
    "### Exercise 1.1\n",
    "Below is variable called `pt_roster` which will allow us to look up arrival time, age, and severity by name. Answer the three multichoice questions about this variable."
   ]
  },
  {
   "cell_type": "code",
   "execution_count": 2,
   "id": "b8df5d7d",
   "metadata": {},
   "outputs": [],
   "source": [
    "pt_roster = {\n",
    "    \"Jim\": {\n",
    "        \"arrival_time\": \"6:00\",\n",
    "        \"age\": 40,\n",
    "        \"severity\": 40,\n",
    "    },\n",
    "    \"Mary\": {\n",
    "        \"arrival_time\": \"6:30\",\n",
    "        \"age\": 31,\n",
    "        \"severity\": 10,\n",
    "    },\n",
    "    \"Rachel\": {\n",
    "        \"arrival_time\": \"7:00\",\n",
    "        \"age\": 27,\n",
    "        \"severity\": 20,\n",
    "    },\n",
    "    \"Laura\": {\n",
    "        \"arrival_time\": \"7:30\",\n",
    "        \"age\": 38,\n",
    "        \"severity\": 15,\n",
    "    },\n",
    "    \"Chloe\": {\n",
    "        \"arrival_time\": \"8:00\",\n",
    "        \"age\": 25,\n",
    "        \"severity\": 50,\n",
    "    }\n",
    "}"
   ]
  },
  {
   "cell_type": "code",
   "execution_count": 5,
   "id": "793b4e4e",
   "metadata": {},
   "outputs": [
    {
     "data": {
      "application/vnd.jupyter.widget-view+json": {
       "model_id": "7f834d07995f4a9fab4081e6fa74d57c",
       "version_major": 2,
       "version_minor": 0
      },
      "text/plain": [
       "VBox(children=(HTML(value='What data type is `test_pt_roster`?'), RadioButtons(options=('int', 'set', 'list', …"
      ]
     },
     "metadata": {},
     "output_type": "display_data"
    },
    {
     "data": {
      "text/plain": []
     },
     "execution_count": 5,
     "metadata": {},
     "output_type": "execute_result"
    }
   ],
   "source": [
    "# RUN CELL TO SEE QUIZ\n",
    "quiz_data_type_test_pt_roster"
   ]
  },
  {
   "cell_type": "code",
   "execution_count": 7,
   "id": "e56f3474",
   "metadata": {},
   "outputs": [
    {
     "data": {
      "application/vnd.jupyter.widget-view+json": {
       "model_id": "c9c1823903474d938192fce7a1948de7",
       "version_major": 2,
       "version_minor": 0
      },
      "text/plain": [
       "VBox(children=(HTML(value='What data type is `test_pt_roster[\"Rachel\"]`?'), RadioButtons(options=('list', 'set…"
      ]
     },
     "metadata": {},
     "output_type": "display_data"
    },
    {
     "data": {
      "text/plain": []
     },
     "execution_count": 7,
     "metadata": {},
     "output_type": "execute_result"
    }
   ],
   "source": [
    "# RUN CELL TO SEE QUIZ\n",
    "quiz_data_type_pt_roster_rachel"
   ]
  },
  {
   "cell_type": "code",
   "execution_count": 9,
   "id": "0ea914bc",
   "metadata": {},
   "outputs": [
    {
     "data": {
      "application/vnd.jupyter.widget-view+json": {
       "model_id": "a0410143371f46c08244b4dfd4333b4a",
       "version_major": 2,
       "version_minor": 0
      },
      "text/plain": [
       "VBox(children=(HTML(value='What data type is `test_pt_roster[\"Rachel\"][\"severity\"]`?'), RadioButtons(options=(…"
      ]
     },
     "metadata": {},
     "output_type": "display_data"
    },
    {
     "data": {
      "text/plain": []
     },
     "execution_count": 9,
     "metadata": {},
     "output_type": "execute_result"
    }
   ],
   "source": [
    "# RUN CELL TO SEE QUIZ\n",
    "quiz_data_type_severity"
   ]
  },
  {
   "cell_type": "code",
   "execution_count": 4,
   "id": "d6d10873",
   "metadata": {},
   "outputs": [],
   "source": [
    "test_pt_roster = ValueTest(expected={\n",
    "    \"Jim\": {\n",
    "        \"arrival_time\": \"6:00\",\n",
    "        \"age\": 40,\n",
    "        \"severity\": 40,\n",
    "    },\n",
    "    \"Mary\": {\n",
    "        \"arrival_time\": \"6:30\",\n",
    "        \"age\": 31,\n",
    "        \"severity\": 10,\n",
    "    },\n",
    "    \"Rachel\": {\n",
    "        \"arrival_time\": \"7:00\",\n",
    "        \"age\": 27,\n",
    "        \"severity\": 20,\n",
    "    },\n",
    "    \"Laura\": {\n",
    "        \"arrival_time\": \"7:30\",\n",
    "        \"age\": 38,\n",
    "        \"severity\": 15,\n",
    "    },\n",
    "    \"Chloe\": {\n",
    "        \"arrival_time\": \"8:00\",\n",
    "        \"age\": 25,\n",
    "        \"severity\": 50,\n",
    "    }\n",
    "})"
   ]
  },
  {
   "cell_type": "code",
   "execution_count": 5,
   "id": "21a249fe",
   "metadata": {},
   "outputs": [
    {
     "name": "stdout",
     "output_type": "stream",
     "text": [
      "That is correct!\n"
     ]
    }
   ],
   "source": [
    "test_pt_roster.test(pt_roster)"
   ]
  },
  {
   "cell_type": "markdown",
   "id": "a2922f0b",
   "metadata": {},
   "source": [
    "### Exercise 1.2\n",
    "What code would give you Rachel's age and Laura's arrival time?"
   ]
  },
  {
   "cell_type": "code",
   "execution_count": 10,
   "id": "4c48780d",
   "metadata": {},
   "outputs": [
    {
     "data": {
      "application/vnd.jupyter.widget-view+json": {
       "model_id": "fe00e6ec21ee428c9f3f1c01e1ed950f",
       "version_major": 2,
       "version_minor": 0
      },
      "text/plain": [
       "VBox(children=(HTML(value=\"What code would give you Rachel's age?\"), Textarea(value='', placeholder='Type some…"
      ]
     },
     "metadata": {},
     "output_type": "display_data"
    },
    {
     "data": {
      "text/plain": []
     },
     "execution_count": 10,
     "metadata": {},
     "output_type": "execute_result"
    }
   ],
   "source": [
    "# RUN CELL TO SEE QUIZ\n",
    "test_rachel_age"
   ]
  },
  {
   "cell_type": "code",
   "execution_count": 13,
   "id": "e3b61eef",
   "metadata": {},
   "outputs": [
    {
     "data": {
      "application/vnd.jupyter.widget-view+json": {
       "model_id": "30a97b007cd64e9b894f2e78428e3944",
       "version_major": 2,
       "version_minor": 0
      },
      "text/plain": [
       "VBox(children=(HTML(value=\"What code would give you Laura's arrival time?\"), Textarea(value='', placeholder='T…"
      ]
     },
     "metadata": {},
     "output_type": "display_data"
    },
    {
     "data": {
      "text/plain": []
     },
     "execution_count": 13,
     "metadata": {},
     "output_type": "execute_result"
    }
   ],
   "source": [
    "# RUN CELL TO SEE QUIZ\n",
    "test_laura_time"
   ]
  },
  {
   "cell_type": "markdown",
   "id": "56a56d7c",
   "metadata": {},
   "source": [
    "### Exercise 1.3\n",
    "Write code to find the names of the patients with the lowest and highest severity scores. There are a few different ways of doing this, so there's no quiz here to check your answer.\n",
    "\n",
    "**Hint** todo add a hint button"
   ]
  },
  {
   "cell_type": "code",
   "execution_count": 24,
   "id": "19c18aad",
   "metadata": {},
   "outputs": [
    {
     "data": {
      "application/vnd.jupyter.widget-view+json": {
       "model_id": "fd730bede0f4457b88c622946a142a84",
       "version_major": 2,
       "version_minor": 0
      },
      "text/plain": [
       "VBox(children=(HTML(value='</br><strong>Displaying hint 0/3</strong>'), Output(), Button(description='Get hint…"
      ]
     },
     "metadata": {},
     "output_type": "display_data"
    },
    {
     "data": {
      "text/plain": []
     },
     "execution_count": 24,
     "metadata": {},
     "output_type": "execute_result"
    }
   ],
   "source": [
    "hint_sort_severity"
   ]
  },
  {
   "cell_type": "code",
   "execution_count": null,
   "id": "b81aa3aa",
   "metadata": {},
   "outputs": [],
   "source": [
    "# Option 1. Sort the dictionary by severity order, then take the first and last values\n",
    "pt_roster_srtd_sev = sorted(pt_roster.items(), key=lambda x:x[1][\"severity\"])\n",
    "print(pt_roster_srtd_sev)\n",
    "print()\n",
    "print(\"Name of patient with lowest severity:\", pt_roster_srtd_sev[0][0])\n",
    "print(\"Name of patient with highest severity:\", pt_roster_srtd_sev[-1][0])"
   ]
  },
  {
   "cell_type": "code",
   "execution_count": 192,
   "id": "892f06c4",
   "metadata": {},
   "outputs": [
    {
     "name": "stdout",
     "output_type": "stream",
     "text": [
      "Name of lowest severity individual: Mary\n",
      "Name of highest severity individual: Chloe\n"
     ]
    }
   ],
   "source": [
    "# Option 2. Use a for-loop to go through each person and check if their values are high\n",
    "lowest_sev_score = 100\n",
    "lowest_sev_name = None\n",
    "highest_sev_score = 0\n",
    "highest_sev_name = None\n",
    "\n",
    "for name in pt_roster.keys():\n",
    "    severity = pt_roster[name][\"severity\"]\n",
    "    if severity < lowest_sev_score:\n",
    "        lowest_sev_score = severity\n",
    "        lowest_sev_name = name\n",
    "    if severity > highest_sev_score:\n",
    "        highest_sev_score = severity\n",
    "        highest_sev_name = name\n",
    "        \n",
    "print(\"Name of lowest severity individual:\", lowest_sev_name)\n",
    "print(\"Name of highest severity individual:\", highest_sev_name)"
   ]
  },
  {
   "cell_type": "code",
   "execution_count": null,
   "id": "98efacec",
   "metadata": {},
   "outputs": [],
   "source": []
  },
  {
   "cell_type": "markdown",
   "id": "6e79dc0a",
   "metadata": {},
   "source": [
    "## Exercise 2: BMI\n",
    "Below are some measurements of BMI."
   ]
  },
  {
   "cell_type": "code",
   "execution_count": 26,
   "id": "d76fea35",
   "metadata": {},
   "outputs": [],
   "source": [
    "bmis = [\n",
    "    24,\n",
    "    23,\n",
    "    49,\n",
    "    27,\n",
    "    25,\n",
    "    22,\n",
    "    38,\n",
    "    29,\n",
    "    56,\n",
    "    27,\n",
    "    22,\n",
    "]"
   ]
  },
  {
   "cell_type": "markdown",
   "id": "06303c5f",
   "metadata": {},
   "source": [
    "### 2.1\n",
    "What are the min and max values of `bmis`?"
   ]
  },
  {
   "cell_type": "code",
   "execution_count": 27,
   "id": "f1df3e99",
   "metadata": {},
   "outputs": [],
   "source": [
    "min_bmi = min(bmis)\n",
    "max_bmi = max(bmis)"
   ]
  },
  {
   "cell_type": "markdown",
   "id": "d806301d",
   "metadata": {},
   "source": [
    "### 2.2\n",
    "Created a new variable called `sorted_bmis` which contains the BMI values sorted from smallest to largest."
   ]
  },
  {
   "cell_type": "code",
   "execution_count": 28,
   "id": "9f3abbc4",
   "metadata": {},
   "outputs": [
    {
     "data": {
      "text/plain": [
       "[22, 22, 23, 24, 25, 27, 27, 29, 38, 49, 56]"
      ]
     },
     "execution_count": 28,
     "metadata": {},
     "output_type": "execute_result"
    }
   ],
   "source": [
    "sorted_bmis = sorted(bmis)\n",
    "sorted_bmis"
   ]
  },
  {
   "cell_type": "markdown",
   "id": "bb340ef9",
   "metadata": {},
   "source": [
    "### 2.3\n",
    "Write a function called `discretize_bmi` which takes a numeric BMI value to the following categories:\n",
    "- **<18.5**\n",
    "- **18.5-24.9**\n",
    "- **25.0-29.9**\n",
    "- **30-39.9**\n",
    "- **>=40**\n",
    "\n",
    "Then make a list called `bmis_discrete` which contains the categorized BMI values for `bmis`."
   ]
  },
  {
   "cell_type": "code",
   "execution_count": 40,
   "id": "354ad75d",
   "metadata": {},
   "outputs": [],
   "source": [
    "def discretize_bmi(bmi):\n",
    "    if bmi < 18.5:\n",
    "        return \"< 18.5\"\n",
    "    if bmi <= 24.9:\n",
    "        return \"18.5-24.9\"\n",
    "    if bmi <= 29.9:\n",
    "        return \"25.0-29.9\"\n",
    "    if bmi <= 39.9:\n",
    "        return \"30-39.9\"\n",
    "    \n",
    "    return \">=40\""
   ]
  },
  {
   "cell_type": "code",
   "execution_count": 41,
   "id": "2ae6a3c2",
   "metadata": {},
   "outputs": [],
   "source": []
  },
  {
   "cell_type": "code",
   "execution_count": 44,
   "id": "cc822dc4",
   "metadata": {},
   "outputs": [],
   "source": []
  },
  {
   "cell_type": "code",
   "execution_count": 45,
   "id": "fcb579b5",
   "metadata": {},
   "outputs": [
    {
     "name": "stdout",
     "output_type": "stream",
     "text": [
      "That is correct!\n"
     ]
    }
   ],
   "source": [
    "# RUN CELL TO TEST FUNCTION\n",
    "test_discretize_bmi.test(discretize_bmi)"
   ]
  },
  {
   "cell_type": "code",
   "execution_count": null,
   "id": "aef29753",
   "metadata": {},
   "outputs": [],
   "source": []
  },
  {
   "cell_type": "markdown",
   "id": "0e8a75cf",
   "metadata": {},
   "source": [
    "## Exercise 3: Patient diagnoses\n",
    "In the following exercises, we'll be given a set of patients and check which ones have either pneumonia, sepsis, or respiratory disease."
   ]
  },
  {
   "cell_type": "code",
   "execution_count": 70,
   "id": "f151c238",
   "metadata": {
    "scrolled": true
   },
   "outputs": [
    {
     "data": {
      "text/plain": [
       "('482.0',\n",
       " '482.1',\n",
       " '482.3',\n",
       " '482.40',\n",
       " '482.8',\n",
       " '482.80',\n",
       " '484.1',\n",
       " '480.0',\n",
       " '480.1',\n",
       " '480.2',\n",
       " '480.3',\n",
       " '480.8',\n",
       " '480.9',\n",
       " '481.',\n",
       " '482.2',\n",
       " '482.30',\n",
       " '482.31',\n",
       " '482.32',\n",
       " '482.39',\n",
       " '482.4',\n",
       " '482.41',\n",
       " '482.42',\n",
       " '482.49',\n",
       " '482.81',\n",
       " '482.82',\n",
       " '482.83',\n",
       " '482.84',\n",
       " '482.89',\n",
       " '482.9',\n",
       " '483.',\n",
       " '483.0',\n",
       " '483.1',\n",
       " '483.8',\n",
       " '484.3',\n",
       " '484.5',\n",
       " '484.6',\n",
       " '484.7',\n",
       " '484.8',\n",
       " '485.',\n",
       " '486.',\n",
       " '487.0')"
      ]
     },
     "execution_count": 70,
     "metadata": {},
     "output_type": "execute_result"
    }
   ],
   "source": [
    "# CODE FOR CREATING DATA - WILL DELETE FROM STUDENT VERSION\n",
    "import pandas as pd\n",
    "df = pd.read_excel(\"../mysql/Pneumonia Codes 21 APR 2022.xlsx\").query(\"ICDCodeType == 9\")\n",
    "pna_codes = tuple(df.query(\"PNA == 1\")[\"ICDCode\"])\n",
    "sepsis_codes = tuple(df.query(\"Sepsis == 1\")[\"ICDCode\"])\n",
    "resp_codes = tuple(df.query(\"Respiratory == 1\")[\"ICDCode\"])\n",
    "\n",
    "import pymysql\n",
    "import getpass\n",
    "\n",
    "def connect_to_mimic(user=\"uu-phs\"):\n",
    "    return pymysql.connect(host=\"35.233.174.193\",port=3306,\n",
    "                       user=user,passwd=getpass.getpass(\"Enter password for MIMIC2 database\"),\n",
    "                       db='mimic2')\n",
    "\n",
    "conn = connect_to_mimic()\n",
    "\n",
    "query = \"\"\"\n",
    "SELECT DISTINCT subject_id, 'pneumonia' AS diagnosis\n",
    "FROM icd9\n",
    "WHERE code IN ('482.0',\n",
    " '482.1',\n",
    " '482.3',\n",
    " '482.40',\n",
    " '482.8',\n",
    " '482.80',\n",
    " '484.1',\n",
    " '480.0',\n",
    " '480.1',\n",
    " '480.2',\n",
    " '480.3',\n",
    " '480.8',\n",
    " '480.9',\n",
    " '481.',\n",
    " '482.2',\n",
    " '482.30',\n",
    " '482.31',\n",
    " '482.32',\n",
    " '482.39',\n",
    " '482.4',\n",
    " '482.41',\n",
    " '482.42',\n",
    " '482.49',\n",
    " '482.81',\n",
    " '482.82',\n",
    " '482.83',\n",
    " '482.84',\n",
    " '482.89',\n",
    " '482.9',\n",
    " '483.',\n",
    " '483.0',\n",
    " '483.1',\n",
    " '483.8',\n",
    " '484.3',\n",
    " '484.5',\n",
    " '484.6',\n",
    " '484.7',\n",
    " '484.8',\n",
    " '485.',\n",
    " '486.',\n",
    " '487.0')\n",
    "UNION ALL\n",
    "SELECT DISTINCT subject_id, 'sepsis' AS diagnosis\n",
    "FROM icd9\n",
    "WHERE code IN ('038.0',\n",
    " '038.1',\n",
    " '038.10',\n",
    " '038.11',\n",
    " '038.12',\n",
    " '038.19',\n",
    " '038.2',\n",
    " '038.3',\n",
    " '038.40',\n",
    " '038.41',\n",
    " '038.42',\n",
    " '038.43',\n",
    " '038.44',\n",
    " '038.49',\n",
    " '038.8',\n",
    " '038.9',\n",
    " '785.52',\n",
    " '995.91',\n",
    " '995.92')\n",
    "UNION ALL\n",
    "SELECT DISTINCT subject_id, 'respiratory' AS diagnosis\n",
    "FROM icd9\n",
    "WHERE code IN \n",
    " ('518.81',\n",
    " '518.84',\n",
    " '799.1',\n",
    " '518.81',\n",
    " '518.51',\n",
    " '518.52',\n",
    " '518. 53',\n",
    " '799.1',\n",
    " '799',\n",
    " '799.01')\n",
    "\"\"\"\n",
    "\n",
    "pts = pd.read_sql(query, conn)\n",
    "\n",
    "pts.to_csv(\"../data/dx_subject_sets.csv\", index=None)"
   ]
  },
  {
   "cell_type": "markdown",
   "id": "dd89979f",
   "metadata": {},
   "source": [
    "### 3.1\n",
    "Load the dataset using the helper function `load_dx_subject_sets()`. Explore the object that it returns. What class is it? What values are contained in it?"
   ]
  },
  {
   "cell_type": "code",
   "execution_count": 55,
   "id": "178b7aaf",
   "metadata": {},
   "outputs": [],
   "source": [
    "dx_subject_sets = load_dx_subject_sets()"
   ]
  },
  {
   "cell_type": "code",
   "execution_count": 56,
   "id": "e552460c",
   "metadata": {},
   "outputs": [
    {
     "data": {
      "text/plain": [
       "dict"
      ]
     },
     "execution_count": 56,
     "metadata": {},
     "output_type": "execute_result"
    }
   ],
   "source": [
    "type(dx_subject_sets)"
   ]
  },
  {
   "cell_type": "code",
   "execution_count": 57,
   "id": "1e9ce3b8",
   "metadata": {},
   "outputs": [
    {
     "data": {
      "text/plain": [
       "dict_keys(['pneumonia', 'sepsis', 'respiratory'])"
      ]
     },
     "execution_count": 57,
     "metadata": {},
     "output_type": "execute_result"
    }
   ],
   "source": [
    "dx_subject_sets.keys()"
   ]
  },
  {
   "cell_type": "code",
   "execution_count": 58,
   "id": "7851f1ea",
   "metadata": {},
   "outputs": [
    {
     "data": {
      "text/plain": [
       "set"
      ]
     },
     "execution_count": 58,
     "metadata": {},
     "output_type": "execute_result"
    }
   ],
   "source": [
    "type(dx_subject_sets[\"pneumonia\"])"
   ]
  },
  {
   "cell_type": "markdown",
   "id": "1740d827",
   "metadata": {},
   "source": [
    "### 3.2\n",
    "Create a dictionary called `dx_subject_counts` that maps the diagnosis name to the number of patients who have that diagnosis."
   ]
  },
  {
   "cell_type": "code",
   "execution_count": 62,
   "id": "55feba08",
   "metadata": {},
   "outputs": [],
   "source": [
    "dx_subject_counts = {dx: len(pts) for (dx, pts) in dx_subject_sets.items()}"
   ]
  },
  {
   "cell_type": "code",
   "execution_count": 63,
   "id": "0c533948",
   "metadata": {},
   "outputs": [
    {
     "data": {
      "text/plain": [
       "{'pneumonia': 318, 'sepsis': 911, 'respiratory': 1145}"
      ]
     },
     "execution_count": 63,
     "metadata": {},
     "output_type": "execute_result"
    }
   ],
   "source": [
    "dx_subject_counts"
   ]
  },
  {
   "cell_type": "code",
   "execution_count": 64,
   "id": "54aaec6a",
   "metadata": {},
   "outputs": [
    {
     "name": "stdout",
     "output_type": "stream",
     "text": [
      "That is correct!\n"
     ]
    }
   ],
   "source": [
    "# RUN CELL TO TEST VALUE\n",
    "test_dx_subject_counts.test(dx_subject_counts)"
   ]
  },
  {
   "cell_type": "code",
   "execution_count": null,
   "id": "cdaefd5d",
   "metadata": {},
   "outputs": [],
   "source": []
  },
  {
   "cell_type": "markdown",
   "id": "e6403654",
   "metadata": {},
   "source": [
    "### 3.3\n",
    "Patients can have multiple co-morbidities. Calculate how many patients have:\n",
    "- Both pneumonia and sepsis\n",
    "- Pneumonia, sepsis, and respiratory disease\n",
    "- Any of the diseases\n",
    "- Only pneumonia"
   ]
  },
  {
   "cell_type": "code",
   "execution_count": 67,
   "id": "753b64a8",
   "metadata": {},
   "outputs": [
    {
     "data": {
      "text/plain": [
       "137"
      ]
     },
     "execution_count": 67,
     "metadata": {},
     "output_type": "execute_result"
    }
   ],
   "source": [
    "# Pneumonia and sepsis\n",
    "len(dx_subject_sets[\"pneumonia\"].intersection(dx_subject_sets[\"sepsis\"]))"
   ]
  },
  {
   "cell_type": "code",
   "execution_count": 68,
   "id": "fb2a2048",
   "metadata": {},
   "outputs": [
    {
     "data": {
      "application/vnd.jupyter.widget-view+json": {
       "model_id": "dd41a01a07d54fcfa3a01277a067ae82",
       "version_major": 2,
       "version_minor": 0
      },
      "text/plain": [
       "VBox(children=(HTML(value='How many patients have <strong>both</strong> pneumonia <strong>and</strong> sepsis?…"
      ]
     },
     "metadata": {},
     "output_type": "display_data"
    },
    {
     "data": {
      "text/plain": []
     },
     "execution_count": 68,
     "metadata": {},
     "output_type": "execute_result"
    }
   ],
   "source": [
    "# TEST CELL TO SEE QUIZ\n",
    "test_pna_sepsis"
   ]
  },
  {
   "cell_type": "code",
   "execution_count": 69,
   "id": "f2ac286f",
   "metadata": {},
   "outputs": [
    {
     "data": {
      "text/plain": [
       "110"
      ]
     },
     "execution_count": 69,
     "metadata": {},
     "output_type": "execute_result"
    }
   ],
   "source": [
    "# All 3\n",
    "len(dx_subject_sets[\"pneumonia\"].intersection(dx_subject_sets[\"sepsis\"]).intersection(dx_subject_sets[\"respiratory\"]))"
   ]
  },
  {
   "cell_type": "code",
   "execution_count": 71,
   "id": "df31246c",
   "metadata": {},
   "outputs": [
    {
     "data": {
      "application/vnd.jupyter.widget-view+json": {
       "model_id": "0b371948bc1a4ed8aae48442c1358e70",
       "version_major": 2,
       "version_minor": 0
      },
      "text/plain": [
       "VBox(children=(HTML(value='How many patients have <strong>all 3 of</strong> pneumonia, sepsis, and respiratory…"
      ]
     },
     "metadata": {},
     "output_type": "display_data"
    },
    {
     "data": {
      "text/plain": []
     },
     "execution_count": 71,
     "metadata": {},
     "output_type": "execute_result"
    }
   ],
   "source": [
    "# RUN CELL TO SEE QUIZ\n",
    "test_pna_sepsis_resp"
   ]
  },
  {
   "cell_type": "code",
   "execution_count": 72,
   "id": "9b482a7b",
   "metadata": {},
   "outputs": [
    {
     "data": {
      "text/plain": [
       "1671"
      ]
     },
     "execution_count": 72,
     "metadata": {},
     "output_type": "execute_result"
    }
   ],
   "source": [
    "# Any of the 3\n",
    "len(dx_subject_sets[\"pneumonia\"].union(dx_subject_sets[\"sepsis\"]).union(dx_subject_sets[\"respiratory\"]))"
   ]
  },
  {
   "cell_type": "code",
   "execution_count": 74,
   "id": "e3c58bf2",
   "metadata": {},
   "outputs": [
    {
     "data": {
      "application/vnd.jupyter.widget-view+json": {
       "model_id": "9174a66c638b47739aabc72ba736bfde",
       "version_major": 2,
       "version_minor": 0
      },
      "text/plain": [
       "VBox(children=(HTML(value='How many patients have <strong>any of</strong> pneumonia, sepsis, and respiratory d…"
      ]
     },
     "metadata": {},
     "output_type": "display_data"
    },
    {
     "data": {
      "text/plain": []
     },
     "execution_count": 74,
     "metadata": {},
     "output_type": "execute_result"
    }
   ],
   "source": [
    "# RUN CELL TO SEE QUIZ\n",
    "test_pna_or_sepsis_or_resp"
   ]
  },
  {
   "cell_type": "code",
   "execution_count": 75,
   "id": "a6fa0213",
   "metadata": {},
   "outputs": [
    {
     "data": {
      "text/plain": [
       "75"
      ]
     },
     "execution_count": 75,
     "metadata": {},
     "output_type": "execute_result"
    }
   ],
   "source": [
    "# Only pneumonia\n",
    "len(dx_subject_sets[\"pneumonia\"].difference(dx_subject_sets[\"sepsis\"].union(dx_subject_sets[\"respiratory\"])))"
   ]
  },
  {
   "cell_type": "code",
   "execution_count": 76,
   "id": "5ab6adb7",
   "metadata": {},
   "outputs": [
    {
     "data": {
      "application/vnd.jupyter.widget-view+json": {
       "model_id": "6e2cae46764c4c748bd4fc1b7345ddf4",
       "version_major": 2,
       "version_minor": 0
      },
      "text/plain": [
       "VBox(children=(HTML(value='How many patients have <strong>only</strong> pneumonia?'), Textarea(value='', place…"
      ]
     },
     "metadata": {},
     "output_type": "display_data"
    },
    {
     "data": {
      "text/plain": []
     },
     "execution_count": 76,
     "metadata": {},
     "output_type": "execute_result"
    }
   ],
   "source": [
    "# RUN CELL TO SEE QUIZ\n",
    "test_pna_only"
   ]
  },
  {
   "cell_type": "markdown",
   "id": "935100c6",
   "metadata": {},
   "source": [
    "### 3.4 \n",
    "The previous exercise calculated the counts of patients with particular diagnoses. Now let's calculate the **probabilities** of patients having diseases in this dataset."
   ]
  },
  {
   "cell_type": "markdown",
   "id": "c840507b",
   "metadata": {},
   "source": [
    "**a.** Create a variable `dx_subject_probs` which contains the probability of a patient in our dataset having each disease."
   ]
  },
  {
   "cell_type": "code",
   "execution_count": 80,
   "id": "3f2aa486",
   "metadata": {},
   "outputs": [
    {
     "data": {
      "application/vnd.jupyter.widget-view+json": {
       "model_id": "7baaea42a26747c78776353ae9d09d93",
       "version_major": 2,
       "version_minor": 0
      },
      "text/plain": [
       "VBox(children=(HTML(value='</br><strong>Displaying hint 0/2</strong>'), Output(), Button(description='Get hint…"
      ]
     },
     "metadata": {},
     "output_type": "display_data"
    },
    {
     "data": {
      "text/plain": []
     },
     "execution_count": 80,
     "metadata": {},
     "output_type": "execute_result"
    }
   ],
   "source": [
    "QuizHint(hints=[\n",
    "   widgets.HTML(\"The probability of a patient having a disease can be calculated as the count of patients with the disease divided by the total number of patients (defined here as any of the patients in this dataset).\"),\n",
    "    widgets.HTML(\"We calculated the total number of patients in 3.3\")\n",
    "])"
   ]
  },
  {
   "cell_type": "code",
   "execution_count": 158,
   "id": "36a6ffa1",
   "metadata": {},
   "outputs": [
    {
     "data": {
      "text/plain": [
       "{'pneumonia': 0.19030520646319568,\n",
       " 'sepsis': 0.5451825254338719,\n",
       " 'respiratory': 0.6852184320766008}"
      ]
     },
     "execution_count": 158,
     "metadata": {},
     "output_type": "execute_result"
    }
   ],
   "source": [
    "total_num_pts = len(dx_subject_sets[\"pneumonia\"].union(dx_subject_sets[\"sepsis\"]).union(dx_subject_sets[\"respiratory\"]))\n",
    "dx_subject_probs = {dx: count/total_num_pts for (dx, count) in dx_subject_counts.items()}\n",
    "dx_subject_probs"
   ]
  },
  {
   "cell_type": "code",
   "execution_count": 161,
   "id": "174be018",
   "metadata": {},
   "outputs": [
    {
     "name": "stdout",
     "output_type": "stream",
     "text": [
      "That is correct!\n"
     ]
    }
   ],
   "source": [
    "test_dx_subject_probs = ValueTest(expected={'pneumonia': 0.19030520646319568,\n",
    " 'sepsis': 0.5451825254338719,\n",
    " 'respiratory': 0.6852184320766008}, show_answer=True)\n",
    "test_dx_subject_probs.test(dx_subject_probs)"
   ]
  },
  {
   "cell_type": "code",
   "execution_count": null,
   "id": "0a3e75f7",
   "metadata": {},
   "outputs": [],
   "source": []
  },
  {
   "cell_type": "markdown",
   "id": "9c0760d1",
   "metadata": {},
   "source": [
    "### 3.5 (Advanced)"
   ]
  },
  {
   "cell_type": "markdown",
   "id": "b7fd5b2e",
   "metadata": {},
   "source": [
    "**b.** Calculate:\n",
    "\n",
    "$$P(Pneumonia \\cap Sepsis)$$\n",
    "\n",
    "$$P(Pneumonia \\cup Sepsis)$$\n",
    "\n",
    "$$P(Pneumonia \\cap Sepsis \\cap Respiratory)$$\n",
    "\n",
    "$$P(Pneumonia \\cup Sepsis \\cup Respiratory)$$\n",
    "\n",
    "$$P(Pneumonia|Sepsis)$$\n",
    "\n",
    "$$P(Sepsis|Pneumonia)$$\n",
    "\n",
    "$$P(\\neg Sepsis|Pneumonia)$$"
   ]
  },
  {
   "cell_type": "code",
   "execution_count": null,
   "id": "3df8c632",
   "metadata": {},
   "outputs": [],
   "source": []
  }
 ],
 "metadata": {
  "kernelspec": {
   "display_name": "Python 3 (ipykernel)",
   "language": "python",
   "name": "python3"
  },
  "language_info": {
   "codemirror_mode": {
    "name": "ipython",
    "version": 3
   },
   "file_extension": ".py",
   "mimetype": "text/x-python",
   "name": "python",
   "nbconvert_exporter": "python",
   "pygments_lexer": "ipython3",
   "version": "3.9.12"
  }
 },
 "nbformat": 4,
 "nbformat_minor": 5
}
