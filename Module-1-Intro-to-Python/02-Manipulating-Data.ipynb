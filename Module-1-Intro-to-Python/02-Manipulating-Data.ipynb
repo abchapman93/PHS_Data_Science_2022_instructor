{
 "cells": [
  {
   "cell_type": "markdown",
   "id": "f142f65f",
   "metadata": {},
   "source": [
    "<html>\n",
    "<table width=\"100%\" cellspacing=\"2\" cellpadding=\"2\" border=\"1\">\n",
    "<tbody>\n",
    "<tr>\n",
    "<td valign=\"center\" align=\"center\" width=\"45%\"><img src=\"../media/Univ-Utah.jpeg\"><br>\n",
    "</td>\n",
    "    <td valign=\"center\" align=\"center\" width=\"75%\">\n",
    "<h1 align=\"center\"><font size=\"+1\">University of Utah<br>Population Health Sciences<br>Data Science Workshop</font></h1></td>\n",
    "<td valign=\"center\" align=\"center\" width=\"45%\"><img\n",
    "src=\"../media/U_Health_stacked_png_red.png\" alt=\"Utah Health\n",
    "Logo\" width=\"128\" height=\"134\"><br>\n",
    "</td>\n",
    "</tr>\n",
    "</tbody>\n",
    "</table>\n",
    "<br>\n",
    "</html>\n"
   ]
  },
  {
   "cell_type": "code",
   "execution_count": 1,
   "id": "6ad7a83b",
   "metadata": {},
   "outputs": [],
   "source": [
    "%load_ext autoreload"
   ]
  },
  {
   "cell_type": "code",
   "execution_count": 1,
   "id": "9894db5e",
   "metadata": {},
   "outputs": [],
   "source": [
    "from helpers import *"
   ]
  },
  {
   "cell_type": "markdown",
   "id": "b71e2e87",
   "metadata": {},
   "source": [
    "## Writing your own functions\n",
    "As we learn to manipulate data, we might want to perform some standard actions many times. We don't want to do rewrite the code every time, so instead we might put this code into our own **functions**. \n",
    "\n",
    "The syntax for writing a function is:\n",
    "```python\n",
    "def function_name(args):\n",
    "    # Your code here\n",
    "    value = ...\n",
    "    return value\n",
    "```\n",
    "\n",
    "1. Start by writing `def`, followed by the function name and argument names. This indicates you are going to define a function.\n",
    "2. In an **indented block**, write your code which performs the task you want to function to do. \n",
    "3. `return` the value you want the function to generate. \n",
    "\n",
    "Note that the indentation (i.e., four spaces or a tab) at the beginning of each line following the first is very important. You'll get an error if it isn't spaced correctly."
   ]
  },
  {
   "cell_type": "markdown",
   "id": "bb2c225b",
   "metadata": {},
   "source": [
    "#### TODO\n",
    "In the first notebook, we had three custom functions which I had written for you: `square`, `add`, and `print_name`. Below is code for the `square` function, but it isn't quite right. Fix the code so it runs and defines a function."
   ]
  },
  {
   "cell_type": "code",
   "execution_count": 2,
   "id": "7e0c5f22",
   "metadata": {},
   "outputs": [
    {
     "ename": "SyntaxError",
     "evalue": "invalid syntax (4099505218.py, line 1)",
     "output_type": "error",
     "traceback": [
      "\u001b[0;36m  Input \u001b[0;32mIn [2]\u001b[0;36m\u001b[0m\n\u001b[0;31m    define square(x)\u001b[0m\n\u001b[0m           ^\u001b[0m\n\u001b[0;31mSyntaxError\u001b[0m\u001b[0;31m:\u001b[0m invalid syntax\n"
     ]
    }
   ],
   "source": [
    "define square(x)\n",
    "squared = x**2\n",
    "        return x"
   ]
  },
  {
   "cell_type": "markdown",
   "id": "fa5374fa",
   "metadata": {},
   "source": [
    "#### TODO\n",
    "Write your own implementations of the function `add`. Refer to the first notebook to remember what these functions did. For `print_name`, you'll need to use some of the string methods we saw in the previous notebook."
   ]
  },
  {
   "cell_type": "code",
   "execution_count": 2,
   "id": "b442f7ee",
   "metadata": {},
   "outputs": [],
   "source": [
    "def add(x, y):\n",
    "    return x + y"
   ]
  },
  {
   "cell_type": "code",
   "execution_count": 4,
   "id": "be509ec9",
   "metadata": {},
   "outputs": [
    {
     "name": "stdout",
     "output_type": "stream",
     "text": [
      "Correct!\n"
     ]
    }
   ],
   "source": [
    "test_add_function.test(add)"
   ]
  },
  {
   "cell_type": "markdown",
   "id": "d42912cc",
   "metadata": {},
   "source": [
    "## For loops\n",
    "Another useful construct in Python is the `for loop`. For loops allow you to repeat some action multiple times or over a set of objects. \n",
    "\n",
    "For example, let's say we wanted to print out the following names:"
   ]
  },
  {
   "cell_type": "code",
   "execution_count": 7,
   "id": "76496e38",
   "metadata": {},
   "outputs": [],
   "source": [
    "names = [\"Alec\", \"Dan\", \"Marcie\"]"
   ]
  },
  {
   "cell_type": "markdown",
   "id": "9d49d483",
   "metadata": {},
   "source": [
    "One way we could do that is to type `print(name)` individually for each name:"
   ]
  },
  {
   "cell_type": "code",
   "execution_count": 8,
   "id": "243b0727",
   "metadata": {},
   "outputs": [
    {
     "name": "stdout",
     "output_type": "stream",
     "text": [
      "Alec\n",
      "Dan\n",
      "Marcie\n"
     ]
    }
   ],
   "source": [
    "print(\"Alec\")\n",
    "print(\"Dan\")\n",
    "print(\"Marcie\")"
   ]
  },
  {
   "cell_type": "markdown",
   "id": "99bc6313",
   "metadata": {},
   "source": [
    "That's okay in this case where we only have 3 names. But what if we had 20 names? 100? That would start to be pretty ardous!\n",
    "\n",
    "Luckily, Python gives us alternative. We'll instead **loop** through each of the elementsd of `names` and print out the current element. Here's how this looks in code. Note again that you need to indent the code correctly."
   ]
  },
  {
   "cell_type": "code",
   "execution_count": 11,
   "id": "db96e51a",
   "metadata": {},
   "outputs": [
    {
     "name": "stdout",
     "output_type": "stream",
     "text": [
      "Alec\n",
      "Dan\n",
      "Marcie\n"
     ]
    }
   ],
   "source": [
    "for name in names: # Start the for loop\n",
    "    print(name) # In an indented block, perform the action\n",
    "    # Any other code goes in an indented block\n",
    "    # ..."
   ]
  },
  {
   "cell_type": "markdown",
   "id": "7f09ea03",
   "metadata": {},
   "source": [
    "#### TODO\n",
    "Loop through the elements of `my_list`. Within the for-loop, do three things:\n",
    "1. Print the element\n",
    "2. Print the value of the element + 1\n",
    "3. Print a new line by calling `print()` without any arguments"
   ]
  },
  {
   "cell_type": "code",
   "execution_count": 12,
   "id": "2b8fc082",
   "metadata": {},
   "outputs": [],
   "source": [
    "my_list = [1, 2, 3, 4]"
   ]
  },
  {
   "cell_type": "code",
   "execution_count": 13,
   "id": "ef3330cb",
   "metadata": {},
   "outputs": [
    {
     "name": "stdout",
     "output_type": "stream",
     "text": [
      "1\n",
      "2\n",
      "\n",
      "2\n",
      "3\n",
      "\n",
      "3\n",
      "4\n",
      "\n",
      "4\n",
      "5\n",
      "\n"
     ]
    }
   ],
   "source": [
    "for element in my_list:\n",
    "    print(element)\n",
    "    print(element+1)\n",
    "    print()"
   ]
  },
  {
   "cell_type": "markdown",
   "id": "1a3dbda4",
   "metadata": {},
   "source": [
    "When you add or multiply elements in a list using a for-loop, this is equivalent to this common mathematical notation:\n",
    "\n",
    "**Sums:** $$x = \\sum_{i=0}^{n-1}i$$"
   ]
  },
  {
   "cell_type": "code",
   "execution_count": 14,
   "id": "cadaee26",
   "metadata": {},
   "outputs": [
    {
     "name": "stdout",
     "output_type": "stream",
     "text": [
      "10\n"
     ]
    }
   ],
   "source": [
    "x = 0\n",
    "for element in my_list:\n",
    "    x += element # += is the same as: x = x + element\n",
    "print(x)"
   ]
  },
  {
   "cell_type": "markdown",
   "id": "43f49287",
   "metadata": {},
   "source": [
    "**Products:** $$x = \\prod_{i=0}^{n-1}i$$"
   ]
  },
  {
   "cell_type": "code",
   "execution_count": 16,
   "id": "a999e741",
   "metadata": {},
   "outputs": [
    {
     "name": "stdout",
     "output_type": "stream",
     "text": [
      "24\n"
     ]
    }
   ],
   "source": [
    "x = 1\n",
    "for element in my_list:\n",
    "    x *= element # *= is the same as: x = x * element\n",
    "print(x)"
   ]
  },
  {
   "cell_type": "code",
   "execution_count": null,
   "id": "94aa8c72",
   "metadata": {},
   "outputs": [],
   "source": []
  },
  {
   "cell_type": "code",
   "execution_count": null,
   "id": "368fa37d",
   "metadata": {},
   "outputs": [],
   "source": []
  },
  {
   "cell_type": "markdown",
   "id": "b7de806d",
   "metadata": {},
   "source": [
    "#### TODO\n",
    "Using the lists below, write use for-loops to calculate **1)** the sample average; and **2)** the sample standard deviation of the elements in the list. Put your code into functions called `my_mean` and `my_sd`. Test your functions using the list `a`. The equations for both are below. Note that to calculate the standard deviation you need the mean.\n",
    "\n",
    "$$mean(x) = \\sum_{i=0}^{n-1}\\frac{x_i}{n}   $$\n",
    "$$sd(x) = \\sqrt{\\sum_{i=0}^{n-1}\\frac{(x_i - \\bar{x})^2}{n}} $$"
   ]
  },
  {
   "cell_type": "code",
   "execution_count": 59,
   "id": "548da729",
   "metadata": {},
   "outputs": [],
   "source": [
    "import random as rand"
   ]
  },
  {
   "cell_type": "code",
   "execution_count": 60,
   "id": "a587e359",
   "metadata": {},
   "outputs": [],
   "source": [
    "a = [4, 0, 2, 2, 0, 10, 7, 8, 5, 0]"
   ]
  },
  {
   "cell_type": "code",
   "execution_count": 61,
   "id": "30d1c3d6",
   "metadata": {},
   "outputs": [],
   "source": [
    "def my_mean(a):\n",
    "    n = len(a)\n",
    "    summed = 0\n",
    "    for element in a:\n",
    "        summed += element\n",
    "    return summed / n"
   ]
  },
  {
   "cell_type": "code",
   "execution_count": 66,
   "id": "c3e8ba86",
   "metadata": {},
   "outputs": [],
   "source": [
    "test_my_mean = FunctionTest(args=([4, 0, 2, 2, 0, 10, 7, 8, 5, 0],), expected=3.8)"
   ]
  },
  {
   "cell_type": "code",
   "execution_count": 67,
   "id": "c1cf4f12",
   "metadata": {},
   "outputs": [
    {
     "name": "stdout",
     "output_type": "stream",
     "text": [
      "Correct!\n"
     ]
    }
   ],
   "source": [
    "test_my_mean.test(my_mean)"
   ]
  },
  {
   "cell_type": "code",
   "execution_count": 62,
   "id": "11ab211e",
   "metadata": {},
   "outputs": [],
   "source": [
    "def my_sd(a):\n",
    "    n = len(a)\n",
    "    mean = my_mean(a)\n",
    "    summed = 0\n",
    "    for element in a:\n",
    "        summed += (element - mean)**2\n",
    "    return (summed / (n))**(1/2)"
   ]
  },
  {
   "cell_type": "code",
   "execution_count": 71,
   "id": "5b77b5e9",
   "metadata": {},
   "outputs": [],
   "source": [
    "def test_sd_validation_func(sd_submitted):\n",
    "    import math\n",
    "    a = [4, 0, 2, 2, 0, 10, 7, 8, 5, 0]\n",
    "    \n",
    "    expected = np.std(a)\n",
    "    actual = sd_submitted(a)\n",
    "    if not math.isclose(actual, expected):\n",
    "        print(f\"Incorrect. Expected {expected:.4f}, got {actual:.4f}\")\n",
    "    print(\"Correct!\")"
   ]
  },
  {
   "cell_type": "code",
   "execution_count": 72,
   "id": "7d7503ad",
   "metadata": {},
   "outputs": [],
   "source": [
    "import numpy as np\n",
    "test_my_sd = FunctionTest(validation_func=test_sd_validation_func)"
   ]
  },
  {
   "cell_type": "code",
   "execution_count": 73,
   "id": "cafc293f",
   "metadata": {},
   "outputs": [
    {
     "name": "stdout",
     "output_type": "stream",
     "text": [
      "Correct!\n"
     ]
    }
   ],
   "source": [
    "test_my_sd.test(my_sd)"
   ]
  },
  {
   "cell_type": "code",
   "execution_count": null,
   "id": "c8e74343",
   "metadata": {},
   "outputs": [],
   "source": []
  },
  {
   "cell_type": "markdown",
   "id": "36c87879",
   "metadata": {},
   "source": [
    "Move this to the next notebook when we talk about list indices.\n",
    "\n",
    "\n",
    "#### TODO\n",
    "Write a function which takes two lists and computes the **inner/dot product**. The dot product is the sum of the product of the corresponding elements in the lists. For example, if we have the following two lists, their dot product would be:\n",
    "\n",
    "$$ \n",
    "\\begin{aligned}\n",
    "x1 = [0, 1, 2] \\\\ \n",
    "x2 = [3, 4, 5] \\\\ \n",
    "d = (0 * 3) + (1 * 4) + (2 * 5)\n",
    "\\end{aligned}\n",
    "$$\n",
    "\n",
    "**Hint:** There are two ways to do this - you can use the indices of the lists, or look up the handy built-in `zip` function."
   ]
  },
  {
   "cell_type": "code",
   "execution_count": null,
   "id": "2e7735f1",
   "metadata": {},
   "outputs": [],
   "source": [
    "b = [4, 1, 4, 3, 9, 2, 0, 0, 5, 4]"
   ]
  },
  {
   "cell_type": "code",
   "execution_count": null,
   "id": "22135471",
   "metadata": {},
   "outputs": [],
   "source": [
    "def dot_product(a, b):\n",
    "    summed = 0\n",
    "    for i in range(len(a)):\n",
    "        summed += a[i] * b[i]\n",
    "    return summed"
   ]
  },
  {
   "cell_type": "code",
   "execution_count": null,
   "id": "902933a4",
   "metadata": {},
   "outputs": [],
   "source": [
    "dot_product(a, b)"
   ]
  },
  {
   "cell_type": "code",
   "execution_count": null,
   "id": "e019e5c6",
   "metadata": {},
   "outputs": [],
   "source": [
    "np.dot(a, b)"
   ]
  },
  {
   "cell_type": "code",
   "execution_count": null,
   "id": "6b4f21a3",
   "metadata": {},
   "outputs": [],
   "source": [
    "def dot_product2(a, b):\n",
    "    summed = 0\n",
    "    for a_i, b_i in zip(a, b):\n",
    "        summed += a_i * b_i\n",
    "    return summed"
   ]
  },
  {
   "cell_type": "code",
   "execution_count": null,
   "id": "7f9fc691",
   "metadata": {},
   "outputs": [],
   "source": [
    "dot_product2(a, b)"
   ]
  },
  {
   "cell_type": "markdown",
   "id": "04ba047b",
   "metadata": {},
   "source": [
    "## Control statements\n",
    "**Control statements** control what executes in a program based on particular logic and variable values. This gives us a lot of flexibility over what our code does. \n",
    "\n",
    "Here is an example of how this works in real life.\n",
    "\n",
    "**If it is raining, drive to work. Otherwise, walk.**\n",
    "\n",
    "Let's see how we'd code this in Python."
   ]
  },
  {
   "cell_type": "code",
   "execution_count": 122,
   "id": "0bc4d8a0",
   "metadata": {},
   "outputs": [],
   "source": [
    "def decide_to_drive(raining):\n",
    "    if raining is True :\n",
    "        drive = True\n",
    "        print(\"You should drive to work.\")\n",
    "    else:\n",
    "        drive = False\n",
    "        print(\"You should walk to work.\")\n",
    "    return drive"
   ]
  },
  {
   "cell_type": "code",
   "execution_count": 123,
   "id": "f00206e1",
   "metadata": {},
   "outputs": [
    {
     "name": "stdout",
     "output_type": "stream",
     "text": [
      "You should bring an umbrella today.\n"
     ]
    },
    {
     "data": {
      "text/plain": [
       "True"
      ]
     },
     "execution_count": 123,
     "metadata": {},
     "output_type": "execute_result"
    }
   ],
   "source": [
    "decide_to_bring_umbrella(raining=True)"
   ]
  },
  {
   "cell_type": "markdown",
   "id": "94108e1f",
   "metadata": {},
   "source": [
    "The main feature of the code block above is an `if/else` statement. It executes one block of code if a statement is `True`, and a different one if it is `False`. Note again the indentation: both the `if` and `else` statements are followed by indented blocks."
   ]
  },
  {
   "cell_type": "markdown",
   "id": "1ead2681",
   "metadata": {},
   "source": [
    "#### TODO\n",
    "What would get printed out in the code above if we set `raining` to `False`?"
   ]
  },
  {
   "cell_type": "code",
   "execution_count": 124,
   "id": "a84d87ce",
   "metadata": {},
   "outputs": [
    {
     "data": {
      "application/vnd.jupyter.widget-view+json": {
       "model_id": "962f8bfda68f4266aafd9f8af9f2c3fa",
       "version_major": 2,
       "version_minor": 0
      },
      "text/plain": [
       "VBox(children=(HTML(value=''), RadioButtons(options=(\"'You should walk to work.'\", \"'You should drive to work.…"
      ]
     },
     "metadata": {},
     "output_type": "display_data"
    },
    {
     "data": {
      "text/plain": []
     },
     "execution_count": 124,
     "metadata": {},
     "output_type": "execute_result"
    }
   ],
   "source": [
    "MultipleChoiceQuiz(answer=\"'You should walk to work.'\", options=[\n",
    "    \"'You should walk to work.'\",\n",
    "    \"'You should drive to work.'\",\n",
    "    \"Nothing will happen.\",\n",
    "    \"An error will be raised.\"\n",
    "])"
   ]
  },
  {
   "cell_type": "code",
   "execution_count": null,
   "id": "fab93c74",
   "metadata": {},
   "outputs": [],
   "source": []
  },
  {
   "cell_type": "markdown",
   "id": "3ada918f",
   "metadata": {},
   "source": [
    "#### TODO\n",
    "The `if/else` statement below checks if a number is odd or even but it's not quite right. Change it so it runs correctly."
   ]
  },
  {
   "cell_type": "code",
   "execution_count": null,
   "id": "693d1e8a",
   "metadata": {},
   "outputs": [],
   "source": [
    "x = 2\n",
    "if x % 2 == 0:\n",
    "print(\"x is even\")\n",
    "else\n",
    "    print(\"x is odd\")"
   ]
  },
  {
   "cell_type": "code",
   "execution_count": 82,
   "id": "d203e4c7",
   "metadata": {},
   "outputs": [
    {
     "name": "stdout",
     "output_type": "stream",
     "text": [
      "x is even\n"
     ]
    }
   ],
   "source": [
    "x = 2\n",
    "if x % 2 == 0:\n",
    "    print(\"x is even\")\n",
    "else:\n",
    "    print(\"x is odd\")"
   ]
  },
  {
   "cell_type": "code",
   "execution_count": null,
   "id": "4c725bb5",
   "metadata": {},
   "outputs": [],
   "source": []
  },
  {
   "cell_type": "markdown",
   "id": "fb348e4e",
   "metadata": {},
   "source": [
    "In an earlier notebook we saw some examples of boolean logic, where we checked if at least one condition was true (`or`) or if all of them are true (`and`). We can apply that here to implement some more sophisticated logic.\n",
    "\n",
    "#### TODO\n",
    "In addition to rain, let's say we also want to walk if it's hot outside. In the cell below, extend the logic from the earlier code to this new scenario."
   ]
  },
  {
   "cell_type": "code",
   "execution_count": 126,
   "id": "29c76023",
   "metadata": {},
   "outputs": [
    {
     "name": "stdout",
     "output_type": "stream",
     "text": [
      "You should drive to work.\n"
     ]
    },
    {
     "data": {
      "text/plain": [
       "True"
      ]
     },
     "execution_count": 126,
     "metadata": {},
     "output_type": "execute_result"
    }
   ],
   "source": [
    "def decide_to_drive2(raining, hot):\n",
    "    if raining is True or hot is True:\n",
    "        drive = True\n",
    "        print(\"You should drive to work.\")\n",
    "    else:\n",
    "        drive = False\n",
    "        print(\"You should walk to work.\")\n",
    "    return drive\n",
    "decide_to_drive2(raining=True, hot=True)"
   ]
  },
  {
   "cell_type": "code",
   "execution_count": 132,
   "id": "78645f3c",
   "metadata": {},
   "outputs": [],
   "source": [
    "def validate_decide_to_drive2(func):\n",
    "    for a in (True, False):\n",
    "        for b in (True, False):\n",
    "            print(f\"raining = {a}, hot = {b}\")\n",
    "            if a or b:\n",
    "                expected = True\n",
    "            else:\n",
    "                expected = False\n",
    "            actual = func(a, b)\n",
    "            if actual != expected:\n",
    "                print(\"That is incorrect.\")\n",
    "            else:\n",
    "                print(\"That is correct!\")\n",
    "                print()"
   ]
  },
  {
   "cell_type": "code",
   "execution_count": 133,
   "id": "f32edacc",
   "metadata": {},
   "outputs": [],
   "source": [
    "test_decide_to_drive2 = FunctionTest(validation_func=validate_decide_to_drive2)"
   ]
  },
  {
   "cell_type": "code",
   "execution_count": 134,
   "id": "7f49e991",
   "metadata": {},
   "outputs": [
    {
     "name": "stdout",
     "output_type": "stream",
     "text": [
      "raining = True, hot = True\n",
      "You should drive to work.\n",
      "That is correct!\n",
      "\n",
      "raining = True, hot = False\n",
      "You should drive to work.\n",
      "That is correct!\n",
      "\n",
      "raining = False, hot = True\n",
      "You should drive to work.\n",
      "That is correct!\n",
      "\n",
      "raining = False, hot = False\n",
      "You should walk to work.\n",
      "That is correct!\n",
      "\n"
     ]
    }
   ],
   "source": [
    "test_decide_to_drive2.test(decide_to_drive2)"
   ]
  },
  {
   "cell_type": "code",
   "execution_count": null,
   "id": "7b1bab87",
   "metadata": {},
   "outputs": [],
   "source": []
  },
  {
   "cell_type": "markdown",
   "id": "27517cb6",
   "metadata": {},
   "source": [
    "Sometimes, we want to run certain logic only if a condition is `True` and don't need any alternative. In these cases, we don't need an `else` part of the `if` statement.\n",
    "\n",
    "For example, the code below calculates a patient's BMI based on weight/height, but first validates whether the given values are valid. If they are, no need to do anything further. But if it is, we'll print out a warning."
   ]
  },
  {
   "cell_type": "code",
   "execution_count": 113,
   "id": "dd44f781",
   "metadata": {},
   "outputs": [
    {
     "name": "stdout",
     "output_type": "stream",
     "text": [
      "Are you sure the weight and height are correct?\n",
      "BMI is 18.51851851851852\n"
     ]
    }
   ],
   "source": [
    "weight = 60 # kg\n",
    "height = -1.8 # m\n",
    "\n",
    "if weight <= 0 or height <= 0:\n",
    "    print(\"Are you sure the weight and height are correct?\")\n",
    "\n",
    "bmi = weight / height ** 2\n",
    "print(\"BMI is\", bmi)"
   ]
  },
  {
   "cell_type": "markdown",
   "id": "4982a210",
   "metadata": {},
   "source": [
    "The scenarios above each had 1 or 2 possible conditions to check. But we might have more than that. Consider this scenario:\n",
    "\n",
    "**If a traffic light is green, go. If it is yellow, slow down. Otherwise, stop.**\n",
    "\n",
    "Here we can't just say `if/else` because we need to allow for a third option. Here, Python gives us the `elif` option (short for \"else if\").\n",
    "\n",
    "```python\n",
    "if condition_1:\n",
    "    ...\n",
    "elif condition_2:\n",
    "    ...\n",
    "else:\n",
    "    ...\n",
    "```\n",
    "\n",
    "Let's see how we'd code the traffic light logic in Python."
   ]
  },
  {
   "cell_type": "code",
   "execution_count": 168,
   "id": "f84b2945",
   "metadata": {},
   "outputs": [],
   "source": [
    "def traffic_light(color):\n",
    "    if color == \"green\":\n",
    "        action = \"Go!\"\n",
    "    elif color == \"yellow\":\n",
    "        action = \"Slow down.\"\n",
    "    else:\n",
    "        action = \"Stop!\"\n",
    "    return action"
   ]
  },
  {
   "cell_type": "code",
   "execution_count": 136,
   "id": "881fad5f",
   "metadata": {},
   "outputs": [
    {
     "data": {
      "text/plain": [
       "'Go!'"
      ]
     },
     "execution_count": 136,
     "metadata": {},
     "output_type": "execute_result"
    }
   ],
   "source": [
    "traffic_light(\"green\")"
   ]
  },
  {
   "cell_type": "code",
   "execution_count": 137,
   "id": "079337a6",
   "metadata": {},
   "outputs": [
    {
     "data": {
      "text/plain": [
       "'Slow down.'"
      ]
     },
     "execution_count": 137,
     "metadata": {},
     "output_type": "execute_result"
    }
   ],
   "source": [
    "traffic_light(\"yellow\")"
   ]
  },
  {
   "cell_type": "code",
   "execution_count": 138,
   "id": "28c7ca08",
   "metadata": {},
   "outputs": [
    {
     "data": {
      "text/plain": [
       "'Stop!'"
      ]
     },
     "execution_count": 138,
     "metadata": {},
     "output_type": "execute_result"
    }
   ],
   "source": [
    "traffic_light(\"red\")"
   ]
  },
  {
   "cell_type": "markdown",
   "id": "9a520387",
   "metadata": {},
   "source": [
    "#### TODO\n",
    "Let's say we changed the function above to this:\n",
    "```python\n",
    "def traffic_light(color):\n",
    "    if color == \"green\":\n",
    "        action = \"Go!\"\n",
    "    elif color == \"yellow\":\n",
    "        action = \"Slow down.\"\n",
    "    return action\n",
    "```\n",
    "\n",
    "What would happen if we called `traffic_light(\"red\")`?"
   ]
  },
  {
   "cell_type": "code",
   "execution_count": 139,
   "id": "04525d03",
   "metadata": {},
   "outputs": [
    {
     "data": {
      "application/vnd.jupyter.widget-view+json": {
       "model_id": "b835d3ece63d4934af174330cbbbaede",
       "version_major": 2,
       "version_minor": 0
      },
      "text/plain": [
       "VBox(children=(HTML(value=''), RadioButtons(options=(\"The function will return 'Stop!'\", 'The function will re…"
      ]
     },
     "metadata": {},
     "output_type": "display_data"
    },
    {
     "data": {
      "text/plain": []
     },
     "execution_count": 139,
     "metadata": {},
     "output_type": "execute_result"
    }
   ],
   "source": [
    "MultipleChoiceQuiz(answer=\"An error will be raised.\", options=[\n",
    "    \"The function will return 'Stop!'\",\n",
    "    \"The function will return 'Slow down.'\",\n",
    "    \"The function will return `None`.\",\n",
    "    \"An error will be raised.\"\n",
    "])"
   ]
  },
  {
   "cell_type": "markdown",
   "id": "b456b956",
   "metadata": {},
   "source": [
    "### Nested control statements\n",
    "Finally, we can also nest `if/else` statements within other `if/else` blocks to write complicated logic:\n",
    "\n",
    "```python\n",
    "if condition1:\n",
    "    if conidition 2:\n",
    "        # ...\n",
    "    else:\n",
    "        # ...\n",
    "else:\n",
    "    if condition 3:\n",
    "        # ...\n",
    "    \n",
    "```\n",
    "\n",
    "These allow us to implement the logic you see in flow diagrams like this one which first decides whether we should walk or drive and then, if driving, what action we should take at the light:\n",
    "![flow-diagram](../media/driving_flow_diagram.png)\n",
    "\n",
    "#### TODO\n",
    "Write a function `execute_commute` which implements the flow chart above. Return two values: \n",
    "1. `drive`: A boolean saying whether or not to drive\n",
    "2. `action`: The driving action if you decide to drive, and `\"walk\"` if you decide to walk."
   ]
  },
  {
   "cell_type": "code",
   "execution_count": 156,
   "id": "a8d61162",
   "metadata": {},
   "outputs": [],
   "source": [
    "def execute_commute(raining, color):\n",
    "    if raining is True :\n",
    "        drive = True\n",
    "        print(\"You should drive to work.\")\n",
    "        if color == \"green\":\n",
    "            action = \"Go!\"\n",
    "        elif color == \"yellow\":\n",
    "            action = \"Slow down.\"\n",
    "        else:\n",
    "            action = \"Stop!\"\n",
    "    else:\n",
    "        drive = False\n",
    "        action = \"walk\"\n",
    "        print(\"You should walk to work.\")\n",
    "        \n",
    "    return drive, action"
   ]
  },
  {
   "cell_type": "code",
   "execution_count": 157,
   "id": "b763b936",
   "metadata": {},
   "outputs": [],
   "source": [
    "def validate_execute_commute(func):\n",
    "    correct = True\n",
    "    mappings = {\"green\": \"Go!\", \"yellow\": \"Slow down.\", \"red\": \"Stop!\"}\n",
    "    for raining in (True, False):\n",
    "        for color in (\"green\", \"yellow\", \"red\"):\n",
    "            if raining is False:\n",
    "                expected = (False, \"walk\")\n",
    "            else:\n",
    "                expected = (True, mappings[color])\n",
    "            import io\n",
    "            from contextlib import redirect_stdout\n",
    "\n",
    "            f = io.StringIO()\n",
    "            with redirect_stdout(f):\n",
    "                actual = func(raining, color)\n",
    "            \n",
    "            if actual != expected:\n",
    "                correct = False\n",
    "                print(f\"Incorrect. When raining = {raining} and color = '{color}', expected {expected} but got {actual}\")\n",
    "    if correct:\n",
    "        print(\"Correct!\")\n",
    "                    "
   ]
  },
  {
   "cell_type": "code",
   "execution_count": 158,
   "id": "d54c131c",
   "metadata": {},
   "outputs": [
    {
     "name": "stdout",
     "output_type": "stream",
     "text": [
      "Correct!\n"
     ]
    }
   ],
   "source": [
    "validate_execute_commute(execute_commute)"
   ]
  },
  {
   "cell_type": "code",
   "execution_count": 159,
   "id": "d4f3a0b8",
   "metadata": {},
   "outputs": [
    {
     "name": "stdout",
     "output_type": "stream",
     "text": [
      "You should drive to work.\n"
     ]
    },
    {
     "data": {
      "text/plain": [
       "(True, 'Go!')"
      ]
     },
     "execution_count": 159,
     "metadata": {},
     "output_type": "execute_result"
    }
   ],
   "source": [
    "execute_commute(True, \"green\")"
   ]
  },
  {
   "cell_type": "markdown",
   "id": "bd111d26",
   "metadata": {},
   "source": [
    "#### TODO\n",
    "Let's say we called `execute_commute` three times with the following values and saved the results of each call:\n",
    "\n",
    "```python\n",
    "result1 = execute_commute(raining=False, color=\"green\")\n",
    "result2 = execute_commute(raining=False, color=\"yellow\")\n",
    "result3 = execute_commute(raining=False, color=\"red\")\n",
    "```\n",
    "What would be the values of:\n",
    "```python\n",
    "result1 == result2 == result3\n",
    "(result1 == result2) or (result1 == result3) or (result2 == result3)\n",
    "(result1 != result2) or (result1 != result3) or (result2 != result3)\n",
    "```"
   ]
  },
  {
   "cell_type": "code",
   "execution_count": 167,
   "id": "270bbd3f",
   "metadata": {},
   "outputs": [
    {
     "data": {
      "application/vnd.jupyter.widget-view+json": {
       "model_id": "947238f043ad4473a6e705bcf263e7d5",
       "version_major": 2,
       "version_minor": 0
      },
      "text/plain": [
       "VBox(children=(HTML(value=''), RadioButtons(options=('False; False; True', 'False; True; True', 'True; False; …"
      ]
     },
     "metadata": {},
     "output_type": "display_data"
    },
    {
     "data": {
      "text/plain": []
     },
     "execution_count": 167,
     "metadata": {},
     "output_type": "execute_result"
    }
   ],
   "source": [
    "MultipleChoiceQuiz(description=\"\", answer=\"True; True; False\", options=[\n",
    "    \"True; True; False\",\n",
    "    \"True; False; True.\",\n",
    "    \"False; True; True\",\n",
    "    \"False; False; True\"\n",
    "])"
   ]
  },
  {
   "cell_type": "markdown",
   "id": "49217362",
   "metadata": {},
   "source": []
  }
 ],
 "metadata": {
  "kernelspec": {
   "display_name": "Python 3 (ipykernel)",
   "language": "python",
   "name": "python3"
  },
  "language_info": {
   "codemirror_mode": {
    "name": "ipython",
    "version": 3
   },
   "file_extension": ".py",
   "mimetype": "text/x-python",
   "name": "python",
   "nbconvert_exporter": "python",
   "pygments_lexer": "ipython3",
   "version": "3.9.12"
  }
 },
 "nbformat": 4,
 "nbformat_minor": 5
}
