{
 "cells": [
  {
   "cell_type": "markdown",
   "id": "c12d4144",
   "metadata": {},
   "source": [
    "<html>\n",
    "<table width=\"100%\" cellspacing=\"2\" cellpadding=\"2\" border=\"1\">\n",
    "<tbody>\n",
    "<tr>\n",
    "<td valign=\"center\" align=\"center\" width=\"45%\"><img src=\"../media/Univ-Utah.jpeg\"><br>\n",
    "</td>\n",
    "    <td valign=\"center\" align=\"center\" width=\"75%\">\n",
    "<h1 align=\"center\"><font size=\"+1\">University of Utah<br>Population Health Sciences<br>Data Science Workshop</font></h1></td>\n",
    "<td valign=\"center\" align=\"center\" width=\"45%\"><img\n",
    "src=\"../media/U_Health_stacked_png_red.png\" alt=\"Utah Health\n",
    "Logo\" width=\"128\" height=\"134\"><br>\n",
    "</td>\n",
    "</tr>\n",
    "</tbody>\n",
    "</table>\n",
    "<br>\n",
    "</html>\n"
   ]
  },
  {
   "cell_type": "markdown",
   "id": "1473797a",
   "metadata": {},
   "source": [
    "# Module 1\n",
    "Welcome to the PHS Data Science Workshop! This class will use **Jupyter Notebooks** for writing code, running it on data, and viewing the results. Each day will start with a **Roadmap** that will outline the plans for the day.\n",
    "\n",
    "The general outline for each day will be:\n",
    "1. Introduction of today's topic and review what we learned the day before\n",
    "2. Learn the skills of the day by completing educational notebooks\n",
    "3. Apply our new skills to a use case of pneumonia\n",
    "\n",
    "## Overview\n",
    "In this module, we'll learn the Python essentials. We'll start with basic syntax and how to run code in Jupyter notebooks. Next, we'll learn how to use built-in **functions** and how to define **variables** . These will be two of the most important building blocks for using Python. Variables have different **data types**, which we'll delve into more in the second notebook which covers **strings**, **lists**, and other data structures. Then we'll start to really delve into the logic of Python programming by writing our own functions, using **for loops**, and executing **control statements**.\n",
    "\n",
    "By this point, you'll know the basics of what goes into Python code. We'll next learn how to use other people's code with **libraries**. Some of the most important libraries we'll use will give us tools for manipulating, analyzing, and visualizing datasets. Finally, we'll load a dataset of ICU encounters and perform exploratory data analysis."
   ]
  },
  {
   "cell_type": "markdown",
   "id": "2fb72a68",
   "metadata": {},
   "source": [
    "## Outline\n",
    "1. Python Essentials\n",
    "2. Manipulating Data\n",
    "3. Data Structures\n",
    "4. Module 1 Exercises"
   ]
  },
  {
   "cell_type": "markdown",
   "id": "97007039",
   "metadata": {},
   "source": [
    "1. Python Packages\n",
    "2. Visualization\n",
    "3. Analyzing Data in Python\n",
    "4. Module 2 Exercises"
   ]
  },
  {
   "cell_type": "markdown",
   "id": "86e51f8b",
   "metadata": {},
   "source": [
    "## TODO and Discussion items\n",
    "Throughout these notebooks, you'll see sections marked **TODO** or **Discussion**. Whenever you see a todo section, you'll be asked to edit or complete code. Parts of code which you need to edit will have placeholders of three underscores: `___`. You should replace these underscores with the correct snippet of code. This syntax should be familiar with you as the convention used by DataCamp.\n",
    "\n",
    "For example, if you are asked to edit the cell below to print out the text \"Hello, world!\", you should change this cell (which won't run correctly until you change it):"
   ]
  },
  {
   "cell_type": "code",
   "execution_count": 1,
   "id": "8043958e",
   "metadata": {},
   "outputs": [
    {
     "ename": "TypeError",
     "evalue": "'str' object is not callable",
     "output_type": "error",
     "traceback": [
      "\u001b[0;31m---------------------------------------------------------------------------\u001b[0m",
      "\u001b[0;31mTypeError\u001b[0m                                 Traceback (most recent call last)",
      "Input \u001b[0;32mIn [1]\u001b[0m, in \u001b[0;36m<cell line: 1>\u001b[0;34m()\u001b[0m\n\u001b[0;32m----> 1\u001b[0m \u001b[43m___\u001b[49m\u001b[43m(\u001b[49m\u001b[38;5;124;43m\"\u001b[39;49m\u001b[38;5;124;43mHello, world!\u001b[39;49m\u001b[38;5;124;43m\"\u001b[39;49m\u001b[43m)\u001b[49m\n",
      "\u001b[0;31mTypeError\u001b[0m: 'str' object is not callable"
     ]
    }
   ],
   "source": [
    "___(\"Hello, world!\")"
   ]
  },
  {
   "cell_type": "markdown",
   "id": "47a3b4df",
   "metadata": {},
   "source": [
    "To this:"
   ]
  },
  {
   "cell_type": "code",
   "execution_count": null,
   "id": "a013a452",
   "metadata": {},
   "outputs": [],
   "source": [
    "print(\"Hello, world!\")"
   ]
  },
  {
   "cell_type": "markdown",
   "id": "92ee6b28",
   "metadata": {},
   "source": [
    "## Quizzes and Unit Tests\n",
    "Some of the **TODO** items will use widgets or test functions that I've made for the class. Here are some examples:"
   ]
  },
  {
   "cell_type": "code",
   "execution_count": 1,
   "id": "1bb37a73",
   "metadata": {},
   "outputs": [],
   "source": [
    "%load_ext autoreload\n",
    "%autoreload 2"
   ]
  },
  {
   "cell_type": "code",
   "execution_count": 2,
   "id": "1d0ef47c",
   "metadata": {},
   "outputs": [],
   "source": [
    "from helpers import *"
   ]
  },
  {
   "cell_type": "code",
   "execution_count": 3,
   "id": "9fe47683",
   "metadata": {},
   "outputs": [
    {
     "data": {
      "application/vnd.jupyter.widget-view+json": {
       "model_id": "142a656fba1843e1a7e2906a814a20bc",
       "version_major": 2,
       "version_minor": 0
      },
      "text/plain": [
       "VBox(children=(HTML(value='<strong>1.Multiple choice</strong> </br>What day of the week is it?'), RadioButtons…"
      ]
     },
     "metadata": {},
     "output_type": "display_data"
    },
    {
     "data": {
      "text/plain": []
     },
     "execution_count": 3,
     "metadata": {},
     "output_type": "execute_result"
    }
   ],
   "source": [
    "test_day_of_week"
   ]
  },
  {
   "cell_type": "code",
   "execution_count": 4,
   "id": "c5537e2c",
   "metadata": {},
   "outputs": [
    {
     "data": {
      "application/vnd.jupyter.widget-view+json": {
       "model_id": "13ed0fdef34e42bfbb100e97c809cb59",
       "version_major": 2,
       "version_minor": 0
      },
      "text/plain": [
       "VBox(children=(HTML(value='<strong>1. Free text</strong> </br>What state are we in? (No abbreviations!)'), Tex…"
      ]
     },
     "metadata": {},
     "output_type": "display_data"
    },
    {
     "data": {
      "text/plain": []
     },
     "execution_count": 4,
     "metadata": {},
     "output_type": "execute_result"
    }
   ],
   "source": [
    "test_state"
   ]
  },
  {
   "cell_type": "markdown",
   "id": "e6756599",
   "metadata": {},
   "source": [
    "**3. Function test**: Here you'll enter the name of the function and it will test whether the function returns the expected value. For example, the following test checks whether the built-in function `max` returns the largest value in an array. (This will make more sense at the end of the day!)"
   ]
  },
  {
   "cell_type": "code",
   "execution_count": 5,
   "id": "245c3699",
   "metadata": {},
   "outputs": [
    {
     "name": "stdout",
     "output_type": "stream",
     "text": [
      "Correct!\n"
     ]
    }
   ],
   "source": [
    "\n",
    "test_max.test(max)"
   ]
  },
  {
   "cell_type": "markdown",
   "id": "7996ea1f",
   "metadata": {},
   "source": [
    "**4. Value test**: This tests whether the value of a variable is what was expected."
   ]
  },
  {
   "cell_type": "code",
   "execution_count": 6,
   "id": "a7f06aa9",
   "metadata": {},
   "outputs": [
    {
     "data": {
      "text/plain": [
       "3"
      ]
     },
     "execution_count": 6,
     "metadata": {},
     "output_type": "execute_result"
    }
   ],
   "source": [
    "x = 3\n",
    "x"
   ]
  },
  {
   "cell_type": "code",
   "execution_count": 7,
   "id": "1ee2cc79",
   "metadata": {},
   "outputs": [
    {
     "name": "stdout",
     "output_type": "stream",
     "text": [
      "That is correct!\n"
     ]
    }
   ],
   "source": [
    "test_x_equals_3.test(3)"
   ]
  },
  {
   "cell_type": "code",
   "execution_count": null,
   "id": "1958c85f",
   "metadata": {},
   "outputs": [],
   "source": []
  },
  {
   "cell_type": "markdown",
   "id": "f663095f",
   "metadata": {},
   "source": [
    "## Next Steps\n"
   ]
  },
  {
   "cell_type": "code",
   "execution_count": null,
   "id": "81fd34fb",
   "metadata": {},
   "outputs": [],
   "source": []
  }
 ],
 "metadata": {
  "kernelspec": {
   "display_name": "Python 3 (ipykernel)",
   "language": "python",
   "name": "python3"
  },
  "language_info": {
   "codemirror_mode": {
    "name": "ipython",
    "version": 3
   },
   "file_extension": ".py",
   "mimetype": "text/x-python",
   "name": "python",
   "nbconvert_exporter": "python",
   "pygments_lexer": "ipython3",
   "version": "3.9.12"
  }
 },
 "nbformat": 4,
 "nbformat_minor": 5
}
