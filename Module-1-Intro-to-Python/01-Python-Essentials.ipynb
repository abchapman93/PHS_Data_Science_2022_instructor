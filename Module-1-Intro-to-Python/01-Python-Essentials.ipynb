{
 "cells": [
  {
   "cell_type": "markdown",
   "id": "c3250811",
   "metadata": {},
   "source": [
    "<html>\n",
    "<table width=\"100%\" cellspacing=\"2\" cellpadding=\"2\" border=\"1\">\n",
    "<tbody>\n",
    "<tr>\n",
    "<td valign=\"center\" align=\"center\" width=\"45%\"><img src=\"../media/Univ-Utah.jpeg\"><br>\n",
    "</td>\n",
    "    <td valign=\"center\" align=\"center\" width=\"75%\">\n",
    "<h1 align=\"center\"><font size=\"+1\">University of Utah<br>Population Health Sciences<br>Data Science Workshop</font></h1></td>\n",
    "<td valign=\"center\" align=\"center\" width=\"45%\"><img\n",
    "src=\"../media/U_Health_stacked_png_red.png\" alt=\"Utah Health\n",
    "Logo\" width=\"128\" height=\"134\"><br>\n",
    "</td>\n",
    "</tr>\n",
    "</tbody>\n",
    "</table>\n",
    "<br>\n",
    "</html>\n"
   ]
  },
  {
   "cell_type": "markdown",
   "id": "d42912cc",
   "metadata": {},
   "source": [
    "# 1. Python Essentials\n",
    "We'll start by learning some of the essentials of Python, as well as how to use Jupyter Notebooks."
   ]
  },
  {
   "cell_type": "code",
   "execution_count": 1,
   "id": "c5d3bbf0",
   "metadata": {},
   "outputs": [],
   "source": [
    "from helpers import *"
   ]
  },
  {
   "cell_type": "markdown",
   "id": "205c9dc6",
   "metadata": {},
   "source": [
    "# I. Jupyter Notebooks\n",
    "Jupyter Notebooks are an environment which can be used for running code, displaying results and visualizations, and sharing human-readable information. Jupyter notebooks consist of *cells* and each cell defines a single piece of code. \n",
    "\n",
    "The cell which you're reading now is called a *Markdown* cell: It is meant to be human-readable and allows formatting like:\n",
    "- Bullted or numbered lists\n",
    "- **bold text**\n",
    "- *italics*\n",
    "\n",
    "Double-click on this cell to see what the raw markdown looks like. Then press `\"Run\"` or hit \"Shift+Enter\" to re-execute the cell so it renders in your browser. "
   ]
  },
  {
   "cell_type": "markdown",
   "id": "934267db",
   "metadata": {},
   "source": [
    "The other main cell type is the **Code** cell. This contains executable Python code. When you run a code cell, it will execute the code within and display the output. This way, you can go through a notebook a run code step-by-step and inspect the output.\n",
    "\n",
    "You can change a cell type by clicking the dropdown menu above which says **\"Markdown\"**. To make it a Python cell, select **\"Code\"**."
   ]
  },
  {
   "cell_type": "code",
   "execution_count": 14,
   "id": "d2e8dadb",
   "metadata": {},
   "outputs": [
    {
     "name": "stdout",
     "output_type": "stream",
     "text": [
      "This is a code cell.\n"
     ]
    }
   ],
   "source": [
    "print(\"This is a code cell.\")"
   ]
  },
  {
   "cell_type": "markdown",
   "id": "a747cb7c",
   "metadata": {},
   "source": [
    "Inside of a code cell, you can write **comments** by putting a `#` symbol before text. Anything on the line after a `#` will not be executed and is just there for humans to read it."
   ]
  },
  {
   "cell_type": "code",
   "execution_count": 15,
   "id": "d1bfd76f",
   "metadata": {},
   "outputs": [
    {
     "name": "stdout",
     "output_type": "stream",
     "text": [
      "But this one will!\n"
     ]
    }
   ],
   "source": [
    "# This line won't run\n",
    "print(\"But this one will!\") # (but nothing after this)"
   ]
  },
  {
   "cell_type": "markdown",
   "id": "f6a44b76",
   "metadata": {},
   "source": [
    "### TODO\n",
    "Change the cell below to be a code cell. Then modify the code so the `print` statement will execute. Run the cell by hitting either the `\"Run\"` button above (looks like a \"play\" button\") or hitting \"Shift+Enter\". "
   ]
  },
  {
   "cell_type": "code",
   "execution_count": 16,
   "id": "98476da0",
   "metadata": {},
   "outputs": [],
   "source": [
    "# print(\"Hello, there!\")"
   ]
  },
  {
   "cell_type": "markdown",
   "id": "6de857be",
   "metadata": {},
   "source": [
    "Note that in the code cell above, when we execute the cell it runs the single line of code and then displays the output underneath."
   ]
  },
  {
   "cell_type": "markdown",
   "id": "b19c61e0",
   "metadata": {},
   "source": [
    "To create a new cell, press the **\"+\"** buttom in the menu. The default cell type is **Code**.\n",
    "\n",
    "### TODO\n",
    "Create two new cells below. Make the first cell a Markdown cell. Copy and paste the following text into the Markdown cell and edit it with your information. Run the cell. Notice how the formatting of the text is rendered once you execute the cell.\n",
    "\n",
    "```\n",
    "- **First Name**: your first name\n",
    "- **Last Name**: your last name\n",
    "- **Major**: Your department\n",
    "```\n",
    "\n",
    "Then, make the second cell a Code cell. Copy and paste the following code and execute it:\n",
    "\n",
    "```\n",
    "print(\"1 + 2 = \", 1 + 2)\n",
    "```"
   ]
  },
  {
   "cell_type": "markdown",
   "id": "f69a8e37",
   "metadata": {},
   "source": [
    "- **First Name**: Alec\n",
    "- **Last Name**: Chapman\n",
    "- **Major**: Division of Epidemiology"
   ]
  },
  {
   "cell_type": "code",
   "execution_count": 4,
   "id": "bb6861a5",
   "metadata": {},
   "outputs": [
    {
     "name": "stdout",
     "output_type": "stream",
     "text": [
      "1 + 2 =  3\n"
     ]
    }
   ],
   "source": [
    "print(\"1 + 2 = \", 1 + 2)"
   ]
  },
  {
   "cell_type": "code",
   "execution_count": null,
   "id": "290cc4b5",
   "metadata": {},
   "outputs": [],
   "source": []
  },
  {
   "cell_type": "markdown",
   "id": "3b8eb9e4",
   "metadata": {},
   "source": [
    "## Errors\n",
    "Errors tell you that something in the code was incorrect and either couldn't run or failed some check that the developer put in. They aren't always pleasant, but you're going to see a lot of them, so we might as well get familiar with them!\n",
    "\n",
    "There are several different types of errors you'll come across. Let's see some examples and learn how to understand them.\n",
    "\n",
    "The most common is a **syntax error**. This tells you that you've made a mistake in the syntax of your code. The code below needs parentheses around `x`. Read the message at the bottom."
   ]
  },
  {
   "cell_type": "code",
   "execution_count": 56,
   "id": "db2689fb",
   "metadata": {},
   "outputs": [
    {
     "ename": "SyntaxError",
     "evalue": "Missing parentheses in call to 'print'. Did you mean print(1)? (2006075915.py, line 1)",
     "output_type": "error",
     "traceback": [
      "\u001b[0;36m  Input \u001b[0;32mIn [56]\u001b[0;36m\u001b[0m\n\u001b[0;31m    print 1\u001b[0m\n\u001b[0m          ^\u001b[0m\n\u001b[0;31mSyntaxError\u001b[0m\u001b[0;31m:\u001b[0m Missing parentheses in call to 'print'. Did you mean print(1)?\n"
     ]
    }
   ],
   "source": [
    "print 1"
   ]
  },
  {
   "cell_type": "code",
   "execution_count": 57,
   "id": "53b80c74",
   "metadata": {},
   "outputs": [
    {
     "name": "stdout",
     "output_type": "stream",
     "text": [
      "1\n"
     ]
    }
   ],
   "source": [
    "print(1)"
   ]
  },
  {
   "cell_type": "code",
   "execution_count": 58,
   "id": "a185006c",
   "metadata": {},
   "outputs": [
    {
     "data": {
      "text/plain": [
       "'c'"
      ]
     },
     "execution_count": 58,
     "metadata": {},
     "output_type": "execute_result"
    }
   ],
   "source": [
    "max(\"abc\")"
   ]
  },
  {
   "cell_type": "code",
   "execution_count": null,
   "id": "0a151333",
   "metadata": {},
   "outputs": [],
   "source": []
  },
  {
   "cell_type": "markdown",
   "id": "84d34f77",
   "metadata": {},
   "source": [
    "# Functions\n",
    "\n",
    "#### What is a function?\n",
    "One of the most important concepts in Python programming is **functions**. Functions are what will allow us to take input (e.g., data) and produce some sort of output (e.g., summary statistics) which are useful to us.\n",
    "\n",
    "\n",
    "#### Examples of functions\n",
    "\n",
    "You already saw one example of a function earlier called `print`. This function takes a message and \"prints\" it out for the user to see. The message we printed out below was *Hello, world!*"
   ]
  },
  {
   "cell_type": "markdown",
   "id": "b4646625",
   "metadata": {},
   "source": [
    "#### TODO\n",
    "Print your name in the cell below."
   ]
  },
  {
   "cell_type": "code",
   "execution_count": 5,
   "id": "63b10b5a",
   "metadata": {},
   "outputs": [
    {
     "name": "stdout",
     "output_type": "stream",
     "text": [
      "Alec\n"
     ]
    }
   ],
   "source": [
    "print(\"Alec\")"
   ]
  },
  {
   "cell_type": "markdown",
   "id": "5795c7b3",
   "metadata": {},
   "source": [
    "The syntax for using a function is:\n",
    "\n",
    "```python\n",
    "function_name(arg1, arg2, ...)\n",
    "```\n",
    "\n",
    "- Type the function name\n",
    "- Pass in any **arguments** or **parameters** in parentheses (sometimes there aren't any arguments!). \n",
    "\n",
    "The `print` function, and a number of other functions, are loaded by default. Another useful funtion is `help`, which gives us information about how to use a function:"
   ]
  },
  {
   "cell_type": "code",
   "execution_count": 7,
   "id": "1d173ecf",
   "metadata": {},
   "outputs": [
    {
     "name": "stdout",
     "output_type": "stream",
     "text": [
      "Help on built-in function print in module builtins:\n",
      "\n",
      "print(...)\n",
      "    print(value, ..., sep=' ', end='\\n', file=sys.stdout, flush=False)\n",
      "    \n",
      "    Prints the values to a stream, or to sys.stdout by default.\n",
      "    Optional keyword arguments:\n",
      "    file:  a file-like object (stream); defaults to the current sys.stdout.\n",
      "    sep:   string inserted between values, default a space.\n",
      "    end:   string appended after the last value, default a newline.\n",
      "    flush: whether to forcibly flush the stream.\n",
      "\n"
     ]
    }
   ],
   "source": [
    "help(print)"
   ]
  },
  {
   "cell_type": "code",
   "execution_count": 8,
   "id": "8a452ae3",
   "metadata": {},
   "outputs": [
    {
     "name": "stdout",
     "output_type": "stream",
     "text": [
      "Help on _Helper in module _sitebuiltins object:\n",
      "\n",
      "class _Helper(builtins.object)\n",
      " |  Define the builtin 'help'.\n",
      " |  \n",
      " |  This is a wrapper around pydoc.help that provides a helpful message\n",
      " |  when 'help' is typed at the Python interactive prompt.\n",
      " |  \n",
      " |  Calling help() at the Python prompt starts an interactive help session.\n",
      " |  Calling help(thing) prints help for the python object 'thing'.\n",
      " |  \n",
      " |  Methods defined here:\n",
      " |  \n",
      " |  __call__(self, *args, **kwds)\n",
      " |      Call self as a function.\n",
      " |  \n",
      " |  __repr__(self)\n",
      " |      Return repr(self).\n",
      " |  \n",
      " |  ----------------------------------------------------------------------\n",
      " |  Data descriptors defined here:\n",
      " |  \n",
      " |  __dict__\n",
      " |      dictionary for instance variables (if defined)\n",
      " |  \n",
      " |  __weakref__\n",
      " |      list of weak references to the object (if defined)\n",
      "\n"
     ]
    }
   ],
   "source": [
    "help(help)"
   ]
  },
  {
   "cell_type": "markdown",
   "id": "8b165dfa",
   "metadata": {},
   "source": [
    "We'll learn how to write our own functions later, but first let's get some practice using functions."
   ]
  },
  {
   "cell_type": "markdown",
   "id": "3bd8d12c",
   "metadata": {},
   "source": [
    "#### TODO\n",
    "\n",
    "Here are a few examples of functions that have been defined for you:\n",
    "- `squared(x)`: Squares a number\n",
    "- `add(x, y)`: Add x and y together\n",
    "- `print_name(first_name, last_name, middle_name=None)`: Prints \"My name is\", followed by your first/last name and optional middle initial (we'll talk more about optional arguments later)\n",
    "\n",
    "Using these functions, do the following:\n",
    "1. Calculate the square of 2\n",
    "2. Add 3 and 5\n",
    "3. Add 3 and 5 and square the result\n",
    "4. Print the value of 5 squared\n",
    "5. Print out your name"
   ]
  },
  {
   "cell_type": "code",
   "execution_count": 4,
   "id": "a0b39e79",
   "metadata": {},
   "outputs": [],
   "source": [
    "import numpy as np\n",
    "def square(x):\n",
    "    return x**2\n",
    "\n",
    "def add(x, y):\n",
    "    return x + y\n",
    "\n",
    "def print_name(first, last, middle=None):\n",
    "    if middle is None:\n",
    "        print(f\"My name is {first.title()} {last.title()}\")\n",
    "    else:\n",
    "        print(f\"My name is {first.title()} {middle[0].title()}. {last.title()}\")"
   ]
  },
  {
   "cell_type": "code",
   "execution_count": 5,
   "id": "c27554a2",
   "metadata": {},
   "outputs": [
    {
     "data": {
      "text/plain": [
       "4"
      ]
     },
     "execution_count": 5,
     "metadata": {},
     "output_type": "execute_result"
    }
   ],
   "source": [
    "square(2)"
   ]
  },
  {
   "cell_type": "code",
   "execution_count": 6,
   "id": "14668336",
   "metadata": {},
   "outputs": [
    {
     "name": "stdout",
     "output_type": "stream",
     "text": [
      "That is correct!\n"
     ]
    }
   ],
   "source": [
    "test_square_2.test(_)"
   ]
  },
  {
   "cell_type": "code",
   "execution_count": 7,
   "id": "b2ad7444",
   "metadata": {},
   "outputs": [
    {
     "data": {
      "text/plain": [
       "8"
      ]
     },
     "execution_count": 7,
     "metadata": {},
     "output_type": "execute_result"
    }
   ],
   "source": [
    "add(3, 5)"
   ]
  },
  {
   "cell_type": "code",
   "execution_count": 8,
   "id": "0d083b8b",
   "metadata": {},
   "outputs": [
    {
     "name": "stdout",
     "output_type": "stream",
     "text": [
      "That is correct!\n"
     ]
    }
   ],
   "source": [
    "test_add_3_5.test(_)"
   ]
  },
  {
   "cell_type": "code",
   "execution_count": 9,
   "id": "c2d03de5",
   "metadata": {},
   "outputs": [
    {
     "data": {
      "text/plain": [
       "64"
      ]
     },
     "execution_count": 9,
     "metadata": {},
     "output_type": "execute_result"
    }
   ],
   "source": [
    "square(add(3, 5))"
   ]
  },
  {
   "cell_type": "code",
   "execution_count": 10,
   "id": "ebc3bc12",
   "metadata": {},
   "outputs": [
    {
     "name": "stdout",
     "output_type": "stream",
     "text": [
      "25\n"
     ]
    }
   ],
   "source": [
    "print(square(5))"
   ]
  },
  {
   "cell_type": "code",
   "execution_count": 11,
   "id": "91f20e5d",
   "metadata": {},
   "outputs": [
    {
     "name": "stdout",
     "output_type": "stream",
     "text": [
      "My name is Alec B. Chapman\n"
     ]
    }
   ],
   "source": [
    "print_name(\"Alec\", \"Chapman\", \"B\")"
   ]
  },
  {
   "cell_type": "markdown",
   "id": "9908afb4",
   "metadata": {},
   "source": []
  },
  {
   "cell_type": "code",
   "execution_count": null,
   "id": "733c907a",
   "metadata": {},
   "outputs": [],
   "source": []
  },
  {
   "cell_type": "markdown",
   "id": "94a1f5d1",
   "metadata": {},
   "source": [
    "## Variables\n",
    "Now that we know how to use functions, the next tool we'll learn about is **variables**.\n",
    "\n",
    "Variables are objects whose values can be changed. The opposite of a variable is a **literal**, which is a single specific value like `5` or `\"abc\"`.\n",
    "\n",
    "We **declare** a variable using the assignent operator `=`:\n",
    "\n",
    "```python\n",
    "var_name = ... \n",
    "```\n",
    "\n",
    "So, for example, we can declare a variable **x** and give it the value of 5. Then we can pass `x` into our `square` function and get the value of `x**2`."
   ]
  },
  {
   "cell_type": "code",
   "execution_count": 17,
   "id": "ce5e5583",
   "metadata": {},
   "outputs": [
    {
     "data": {
      "text/plain": [
       "25"
      ]
     },
     "execution_count": 17,
     "metadata": {},
     "output_type": "execute_result"
    }
   ],
   "source": [
    "x = 5\n",
    "square(x)"
   ]
  },
  {
   "cell_type": "markdown",
   "id": "45729ea5",
   "metadata": {},
   "source": [
    "Since `x` is a variable, we can change it to a different value so we can run our function using a different value."
   ]
  },
  {
   "cell_type": "code",
   "execution_count": 18,
   "id": "64590c5c",
   "metadata": {},
   "outputs": [
    {
     "data": {
      "text/plain": [
       "9"
      ]
     },
     "execution_count": 18,
     "metadata": {},
     "output_type": "execute_result"
    }
   ],
   "source": [
    "x = 3\n",
    "square(3)"
   ]
  },
  {
   "cell_type": "markdown",
   "id": "8625d616",
   "metadata": {},
   "source": [
    "We can also define a variable using the output of a function.\n",
    "\n",
    "### TODO\n",
    "What value will we get with the following code?\n",
    "```python\n",
    "x = 3\n",
    "y = square(x)\n",
    "x = x - 1\n",
    "add(x, y)\n",
    "```"
   ]
  },
  {
   "cell_type": "code",
   "execution_count": 32,
   "id": "61f11430",
   "metadata": {},
   "outputs": [
    {
     "data": {
      "application/vnd.jupyter.widget-view+json": {
       "model_id": "3718f02d73b244daba569ada8c2a4758",
       "version_major": 2,
       "version_minor": 0
      },
      "text/plain": [
       "VBox(children=(HTML(value='What is the value of: <p style=\"font-family:courier\";>add(x,y)</p>'), RadioButtons(…"
      ]
     },
     "metadata": {},
     "output_type": "display_data"
    },
    {
     "data": {
      "text/plain": []
     },
     "execution_count": 32,
     "metadata": {},
     "output_type": "execute_result"
    }
   ],
   "source": [
    "MultipleChoiceQuiz(description='What is the value of: <p style=\"font-family:courier\";>add(x,y)</p>', \n",
    "                   options=[11, 12, 4, 9], answer=11)"
   ]
  },
  {
   "cell_type": "markdown",
   "id": "d3ce6c4d",
   "metadata": {},
   "source": [
    "#### TODO\n",
    "Declare two variables, `r` and `pi`. Set `r` equal to 2 and `pi` equal to `3.14`."
   ]
  },
  {
   "cell_type": "code",
   "execution_count": 33,
   "id": "76d65e31",
   "metadata": {},
   "outputs": [],
   "source": [
    "r = 2\n",
    "pi = 3.14"
   ]
  },
  {
   "cell_type": "code",
   "execution_count": 34,
   "id": "1cc01024",
   "metadata": {},
   "outputs": [],
   "source": [
    "test_r_equals_2 = ValueTest(2, True)\n",
    "test_pi_equals = ValueTest(3.14, True)"
   ]
  },
  {
   "cell_type": "code",
   "execution_count": 36,
   "id": "b4a22da4",
   "metadata": {},
   "outputs": [
    {
     "name": "stdout",
     "output_type": "stream",
     "text": [
      "That is correct!\n"
     ]
    }
   ],
   "source": [
    "test_r_equals_2.test(r)"
   ]
  },
  {
   "cell_type": "code",
   "execution_count": 37,
   "id": "7f751cc6",
   "metadata": {},
   "outputs": [
    {
     "name": "stdout",
     "output_type": "stream",
     "text": [
      "That is correct!\n"
     ]
    }
   ],
   "source": [
    "test_pi_equals.test(pi)"
   ]
  },
  {
   "cell_type": "code",
   "execution_count": null,
   "id": "de80c030",
   "metadata": {},
   "outputs": [],
   "source": []
  },
  {
   "cell_type": "code",
   "execution_count": null,
   "id": "146436e9",
   "metadata": {},
   "outputs": [],
   "source": []
  },
  {
   "cell_type": "markdown",
   "id": "9773b862",
   "metadata": {},
   "source": [
    "## Datatypes\n",
    "Variables can be of any Python **datatype**. Here are some examples of data types:"
   ]
  },
  {
   "cell_type": "markdown",
   "id": "6fc70cb8",
   "metadata": {},
   "source": [
    "### Integers\n",
    "Integers are whole numbers. Each of the following cells have an integer."
   ]
  },
  {
   "cell_type": "code",
   "execution_count": null,
   "id": "cc3320cf",
   "metadata": {},
   "outputs": [],
   "source": [
    "1"
   ]
  },
  {
   "cell_type": "code",
   "execution_count": null,
   "id": "b96b582c",
   "metadata": {},
   "outputs": [],
   "source": [
    "x = 3\n",
    "x"
   ]
  },
  {
   "cell_type": "markdown",
   "id": "6221ba27",
   "metadata": {},
   "source": [
    "We can add two or moreintegers:"
   ]
  },
  {
   "cell_type": "code",
   "execution_count": null,
   "id": "859af498",
   "metadata": {},
   "outputs": [],
   "source": [
    "x + 5"
   ]
  },
  {
   "cell_type": "code",
   "execution_count": null,
   "id": "368d782e",
   "metadata": {},
   "outputs": [],
   "source": [
    "x + 5 + 4"
   ]
  },
  {
   "cell_type": "markdown",
   "id": "03922b38",
   "metadata": {},
   "source": [
    "Or multiply them:"
   ]
  },
  {
   "cell_type": "code",
   "execution_count": null,
   "id": "4ff9547a",
   "metadata": {},
   "outputs": [],
   "source": [
    "x * 5"
   ]
  },
  {
   "cell_type": "markdown",
   "id": "d7d1ad21",
   "metadata": {},
   "source": [
    "divide them (note that it isn't an integer anymore):"
   ]
  },
  {
   "cell_type": "code",
   "execution_count": null,
   "id": "35c3157a",
   "metadata": {},
   "outputs": [],
   "source": [
    "x / 5"
   ]
  },
  {
   "cell_type": "markdown",
   "id": "07aad6a3",
   "metadata": {},
   "source": [
    "Or exponentiate them:"
   ]
  },
  {
   "cell_type": "code",
   "execution_count": null,
   "id": "3f162f1c",
   "metadata": {},
   "outputs": [],
   "source": [
    "x ** 5"
   ]
  },
  {
   "cell_type": "markdown",
   "id": "1fc81d1a",
   "metadata": {},
   "source": [
    "## Floats\n",
    "Floats are the other numeric datatype in Python and are a number with a decimal. "
   ]
  },
  {
   "cell_type": "code",
   "execution_count": null,
   "id": "a9434c7e",
   "metadata": {},
   "outputs": [],
   "source": [
    "1.3"
   ]
  },
  {
   "cell_type": "code",
   "execution_count": null,
   "id": "3caadd0f",
   "metadata": {},
   "outputs": [],
   "source": [
    "pi = 3.14\n",
    "pi"
   ]
  },
  {
   "cell_type": "markdown",
   "id": "379a7ecb",
   "metadata": {},
   "source": [
    "We can do all the same operations on floats that we did on integers. We can also do those same operations between floats and integers."
   ]
  },
  {
   "cell_type": "code",
   "execution_count": null,
   "id": "6f0c7f5c",
   "metadata": {},
   "outputs": [],
   "source": [
    "pi + pi"
   ]
  },
  {
   "cell_type": "code",
   "execution_count": null,
   "id": "7dd7823c",
   "metadata": {},
   "outputs": [],
   "source": [
    "2 * pi"
   ]
  },
  {
   "cell_type": "code",
   "execution_count": null,
   "id": "0ff5aea5",
   "metadata": {},
   "outputs": [],
   "source": [
    "pi + x"
   ]
  },
  {
   "cell_type": "code",
   "execution_count": null,
   "id": "69c1f557",
   "metadata": {},
   "outputs": [],
   "source": [
    "pi ** x"
   ]
  },
  {
   "cell_type": "markdown",
   "id": "70a354c1",
   "metadata": {},
   "source": [
    "We can convert a float to an int and vice-versa:"
   ]
  },
  {
   "cell_type": "code",
   "execution_count": 45,
   "id": "ad2b1181",
   "metadata": {},
   "outputs": [
    {
     "data": {
      "text/plain": [
       "3"
      ]
     },
     "execution_count": 45,
     "metadata": {},
     "output_type": "execute_result"
    }
   ],
   "source": [
    "int(pi)"
   ]
  },
  {
   "cell_type": "code",
   "execution_count": 46,
   "id": "441b2db1",
   "metadata": {},
   "outputs": [
    {
     "data": {
      "text/plain": [
       "2.0"
      ]
     },
     "execution_count": 46,
     "metadata": {},
     "output_type": "execute_result"
    }
   ],
   "source": [
    "float(2)"
   ]
  },
  {
   "cell_type": "markdown",
   "id": "5c3d3811",
   "metadata": {},
   "source": [
    "#### TODO\n",
    "What data type is the value: \n",
    "\n",
    "```python\n",
    "r=3\n",
    "2*r*pi\n",
    "```"
   ]
  },
  {
   "cell_type": "code",
   "execution_count": 44,
   "id": "d30ad6e9",
   "metadata": {},
   "outputs": [
    {
     "data": {
      "application/vnd.jupyter.widget-view+json": {
       "model_id": "ae0821eef6c84f4eb1fe62d8bfe54e7d",
       "version_major": 2,
       "version_minor": 0
      },
      "text/plain": [
       "VBox(children=(HTML(value='What data type is: <p style=\"font-family:courier\";>2*r*pi</p>'), RadioButtons(optio…"
      ]
     },
     "metadata": {},
     "output_type": "display_data"
    },
    {
     "data": {
      "text/plain": []
     },
     "execution_count": 44,
     "metadata": {},
     "output_type": "execute_result"
    }
   ],
   "source": [
    "MultipleChoiceQuiz(description='What data type is: <p style=\"font-family:courier\";>2*r*pi</p>', answer=\"float\",\n",
    "                  options=[\"int\", \"float\", \"variable\", \"other\"])"
   ]
  },
  {
   "cell_type": "code",
   "execution_count": 48,
   "id": "ec5ac091",
   "metadata": {},
   "outputs": [
    {
     "data": {
      "application/vnd.jupyter.widget-view+json": {
       "model_id": "45addaee4d4c448eb1109f09802471e1",
       "version_major": 2,
       "version_minor": 0
      },
      "text/plain": [
       "VBox(children=(HTML(value='How about: <p style=\"font-family:courier\";>int(2*float(r)*int(pi))</p>'), RadioButt…"
      ]
     },
     "metadata": {},
     "output_type": "display_data"
    },
    {
     "data": {
      "text/plain": []
     },
     "execution_count": 48,
     "metadata": {},
     "output_type": "execute_result"
    }
   ],
   "source": [
    "MultipleChoiceQuiz(description='How about: <p style=\"font-family:courier\";>int(2*float(r)*int(pi))</p>', \n",
    "                   answer=\"int\",\n",
    "                  options=[\"int\", \"float\", \"variable\", \"other\"])"
   ]
  },
  {
   "cell_type": "markdown",
   "id": "be4e85c9",
   "metadata": {},
   "source": [
    "## Strings\n",
    "Strings represent text. We make a string by wrapping characters in quotation marks:"
   ]
  },
  {
   "cell_type": "code",
   "execution_count": 49,
   "id": "82475883",
   "metadata": {},
   "outputs": [
    {
     "data": {
      "text/plain": [
       "'Hello!'"
      ]
     },
     "execution_count": 49,
     "metadata": {},
     "output_type": "execute_result"
    }
   ],
   "source": [
    "\"Hello!\""
   ]
  },
  {
   "cell_type": "markdown",
   "id": "7d5d57c6",
   "metadata": {},
   "source": [
    "You can also use single quotes (although that's not recommended sylistically):"
   ]
  },
  {
   "cell_type": "code",
   "execution_count": 50,
   "id": "f2c4e61c",
   "metadata": {},
   "outputs": [
    {
     "data": {
      "text/plain": [
       "'Hi!'"
      ]
     },
     "execution_count": 50,
     "metadata": {},
     "output_type": "execute_result"
    }
   ],
   "source": [
    "'Hi!'"
   ]
  },
  {
   "cell_type": "markdown",
   "id": "54b22a51",
   "metadata": {},
   "source": [
    "You can also use **triple-quotes** to span multiple lines in the code:"
   ]
  },
  {
   "cell_type": "code",
   "execution_count": 53,
   "id": "d7ea77b5",
   "metadata": {},
   "outputs": [
    {
     "data": {
      "text/plain": [
       "'\\n’Twas brillig, and the slithy toves\\n      Did gyre and gimble in the wabe:\\nAll mimsy were the borogoves,\\n      And the mome raths outgrabe.\\n\\n“Beware the Jabberwock, my son!\\n      The jaws that bite, the claws that catch!\\nBeware the Jubjub bird, and shun\\n      The frumious Bandersnatch!”\\n'"
      ]
     },
     "execution_count": 53,
     "metadata": {},
     "output_type": "execute_result"
    }
   ],
   "source": [
    "# https://www.poetryfoundation.org/poems/42916/jabberwocky\n",
    "\"\"\"\n",
    "’Twas brillig, and the slithy toves\n",
    "      Did gyre and gimble in the wabe:\n",
    "All mimsy were the borogoves,\n",
    "      And the mome raths outgrabe.\n",
    "\n",
    "“Beware the Jabberwock, my son!\n",
    "      The jaws that bite, the claws that catch!\n",
    "Beware the Jubjub bird, and shun\n",
    "      The frumious Bandersnatch!”\n",
    "\"\"\""
   ]
  },
  {
   "cell_type": "markdown",
   "id": "4de6aea7",
   "metadata": {},
   "source": []
  },
  {
   "cell_type": "code",
   "execution_count": null,
   "id": "b4c16984",
   "metadata": {},
   "outputs": [],
   "source": [
    "first = \"Alec\"\n",
    "middle = \"B.\"\n",
    "last = \"Chapman\""
   ]
  },
  {
   "cell_type": "markdown",
   "id": "141b0779",
   "metadata": {},
   "source": [
    "We can add strings together to get a longer string:"
   ]
  },
  {
   "cell_type": "code",
   "execution_count": null,
   "id": "e49b6896",
   "metadata": {},
   "outputs": [],
   "source": [
    "first + \" \" + middle + \" \" + last"
   ]
  },
  {
   "cell_type": "markdown",
   "id": "ca1b45de",
   "metadata": {},
   "source": [
    "However, you cannot add a string and numeric objects:"
   ]
  },
  {
   "cell_type": "code",
   "execution_count": null,
   "id": "7be3598c",
   "metadata": {},
   "outputs": [],
   "source": [
    "first + 1"
   ]
  },
  {
   "cell_type": "markdown",
   "id": "1f03d6e5",
   "metadata": {},
   "source": [
    "But you can multiply a string and an integer:"
   ]
  },
  {
   "cell_type": "code",
   "execution_count": null,
   "id": "44d58d50",
   "metadata": {},
   "outputs": [],
   "source": [
    "\"Hello!\"*25"
   ]
  },
  {
   "cell_type": "code",
   "execution_count": null,
   "id": "c77d6da1",
   "metadata": {},
   "outputs": [],
   "source": []
  },
  {
   "cell_type": "markdown",
   "id": "9d5c94c7",
   "metadata": {},
   "source": [
    "## Booleans"
   ]
  },
  {
   "cell_type": "code",
   "execution_count": null,
   "id": "1e0da08f",
   "metadata": {},
   "outputs": [],
   "source": [
    "True"
   ]
  },
  {
   "cell_type": "code",
   "execution_count": null,
   "id": "ca0420ec",
   "metadata": {},
   "outputs": [],
   "source": [
    "False"
   ]
  },
  {
   "cell_type": "code",
   "execution_count": null,
   "id": "0a3bd436",
   "metadata": {},
   "outputs": [],
   "source": [
    "3 == 3"
   ]
  },
  {
   "cell_type": "code",
   "execution_count": null,
   "id": "85057e71",
   "metadata": {},
   "outputs": [],
   "source": [
    "3 > 1"
   ]
  },
  {
   "cell_type": "code",
   "execution_count": null,
   "id": "7e34da57",
   "metadata": {},
   "outputs": [],
   "source": [
    "3 >= 3"
   ]
  },
  {
   "cell_type": "code",
   "execution_count": null,
   "id": "adea3f00",
   "metadata": {},
   "outputs": [],
   "source": [
    "a = True\n",
    "b = False"
   ]
  },
  {
   "cell_type": "code",
   "execution_count": null,
   "id": "3c447780",
   "metadata": {},
   "outputs": [],
   "source": [
    "a & b"
   ]
  },
  {
   "cell_type": "code",
   "execution_count": null,
   "id": "ad8346cc",
   "metadata": {},
   "outputs": [],
   "source": [
    "a or b"
   ]
  },
  {
   "cell_type": "code",
   "execution_count": null,
   "id": "c6cb365d",
   "metadata": {},
   "outputs": [],
   "source": [
    "a and not b"
   ]
  },
  {
   "cell_type": "code",
   "execution_count": null,
   "id": "7cb45fa1",
   "metadata": {},
   "outputs": [],
   "source": [
    "not (a and b)"
   ]
  },
  {
   "cell_type": "code",
   "execution_count": null,
   "id": "2cb7d848",
   "metadata": {},
   "outputs": [],
   "source": [
    "not (a and b)"
   ]
  },
  {
   "cell_type": "code",
   "execution_count": null,
   "id": "2e3fe9e3",
   "metadata": {},
   "outputs": [],
   "source": []
  },
  {
   "cell_type": "code",
   "execution_count": null,
   "id": "291bd220",
   "metadata": {},
   "outputs": [],
   "source": [
    "c = a & b"
   ]
  },
  {
   "cell_type": "code",
   "execution_count": null,
   "id": "aa5de4ef",
   "metadata": {},
   "outputs": [],
   "source": [
    "d = a or b"
   ]
  },
  {
   "cell_type": "code",
   "execution_count": null,
   "id": "2d4cdc61",
   "metadata": {},
   "outputs": [],
   "source": [
    "a & c"
   ]
  },
  {
   "cell_type": "code",
   "execution_count": null,
   "id": "132372d7",
   "metadata": {},
   "outputs": [],
   "source": [
    "a & d"
   ]
  },
  {
   "cell_type": "code",
   "execution_count": null,
   "id": "8a723f77",
   "metadata": {},
   "outputs": [],
   "source": []
  },
  {
   "cell_type": "markdown",
   "id": "d3ad3855",
   "metadata": {},
   "source": [
    "## Lists, tuples, sets, and dictionaries"
   ]
  },
  {
   "cell_type": "code",
   "execution_count": null,
   "id": "510a720d",
   "metadata": {},
   "outputs": [],
   "source": [
    "names_list = [\"Alec\", \"Dan\", \"Marcie\", \"Alec\"]\n",
    "names_list"
   ]
  },
  {
   "cell_type": "code",
   "execution_count": null,
   "id": "d90bdf0f",
   "metadata": {},
   "outputs": [],
   "source": [
    "type(names_list)"
   ]
  },
  {
   "cell_type": "code",
   "execution_count": null,
   "id": "04b8c8d3",
   "metadata": {},
   "outputs": [],
   "source": [
    "names_tuple = (\"Alec\", \"Dan\", \"Marcie\", \"Alec\")\n",
    "names_tuple"
   ]
  },
  {
   "cell_type": "code",
   "execution_count": null,
   "id": "d6ebf7cd",
   "metadata": {},
   "outputs": [],
   "source": [
    "type(names_tuple)"
   ]
  },
  {
   "cell_type": "code",
   "execution_count": null,
   "id": "59bd35c5",
   "metadata": {},
   "outputs": [],
   "source": [
    "tuple(names_list)"
   ]
  },
  {
   "cell_type": "code",
   "execution_count": null,
   "id": "6cdefa2b",
   "metadata": {},
   "outputs": [],
   "source": [
    "names_set = {\"Alec\", \"Dan\", \"Marcie\", \"Alec\"}\n",
    "names_set"
   ]
  },
  {
   "cell_type": "code",
   "execution_count": null,
   "id": "edd93e48",
   "metadata": {},
   "outputs": [],
   "source": [
    "names_dict = {\"Alec\": \"Student\", \"Dan\": \"Faculty\", \"Marcie\": \"Staff\"}\n",
    "names_dict"
   ]
  },
  {
   "cell_type": "code",
   "execution_count": null,
   "id": "48b1b293",
   "metadata": {},
   "outputs": [],
   "source": []
  },
  {
   "cell_type": "markdown",
   "id": "e0a05676",
   "metadata": {},
   "source": [
    "## Quiz\n",
    "Match each variable to its datatype."
   ]
  },
  {
   "cell_type": "code",
   "execution_count": null,
   "id": "e7a8f2b1",
   "metadata": {},
   "outputs": [],
   "source": [
    "quiz1"
   ]
  },
  {
   "cell_type": "code",
   "execution_count": null,
   "id": "bbc5209e",
   "metadata": {},
   "outputs": [],
   "source": [
    "quiz2"
   ]
  },
  {
   "cell_type": "code",
   "execution_count": null,
   "id": "5f214754",
   "metadata": {},
   "outputs": [],
   "source": []
  }
 ],
 "metadata": {
  "kernelspec": {
   "display_name": "Python 3 (ipykernel)",
   "language": "python",
   "name": "python3"
  },
  "language_info": {
   "codemirror_mode": {
    "name": "ipython",
    "version": 3
   },
   "file_extension": ".py",
   "mimetype": "text/x-python",
   "name": "python",
   "nbconvert_exporter": "python",
   "pygments_lexer": "ipython3",
   "version": "3.9.12"
  }
 },
 "nbformat": 4,
 "nbformat_minor": 5
}
