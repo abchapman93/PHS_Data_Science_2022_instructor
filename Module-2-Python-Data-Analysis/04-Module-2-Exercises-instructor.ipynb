{
 "cells": [
  {
   "cell_type": "markdown",
   "id": "5001c82a",
   "metadata": {},
   "source": [
    "# Module 2 Exercises\n",
    "\n",
    "In this notebook, we will put our newly developed Python skills to use. We will analyze a dataset of ICU patients from the MIMIC-II database.\n"
   ]
  },
  {
   "cell_type": "code",
   "execution_count": 1,
   "id": "bfaf13fc",
   "metadata": {},
   "outputs": [],
   "source": [
    "from helpers import *"
   ]
  },
  {
   "cell_type": "markdown",
   "id": "23d84e90",
   "metadata": {},
   "source": [
    "## 0. Import libraries and Read in data\n",
    "\n",
    "#### TODO\n",
    "First, import the following libraries:\n",
    "- `pandas` with an alias `pd`\n",
    "- `matplotlib.pyplot` with an alias `plt`\n",
    "- `seaborn` with an alias `sns`\n",
    "\n",
    "Then, read in the dataset `\"../data/pna_30_day_mortality.csv\"` and save it as `df`."
   ]
  },
  {
   "cell_type": "code",
   "execution_count": 2,
   "id": "d5512a0f",
   "metadata": {},
   "outputs": [],
   "source": [
    "import pandas as pd\n",
    "import os\n",
    "import numpy as np\n",
    "\n",
    "import matplotlib.pyplot as plt\n",
    "import seaborn as sns\n",
    "\n",
    "%matplotlib inline\n",
    "\n",
    "sns.set()"
   ]
  },
  {
   "cell_type": "code",
   "execution_count": 3,
   "id": "43548a5d",
   "metadata": {},
   "outputs": [],
   "source": [
    "df = pd.read_csv(\"../data/pna_30_day_mortality.csv\")"
   ]
  },
  {
   "cell_type": "code",
   "execution_count": null,
   "id": "8197471b",
   "metadata": {},
   "outputs": [],
   "source": []
  },
  {
   "cell_type": "markdown",
   "id": "5b0de7d5",
   "metadata": {},
   "source": [
    "# Exploratory data analysis"
   ]
  },
  {
   "cell_type": "markdown",
   "id": "5e4b55ad",
   "metadata": {},
   "source": [
    "#### TODO\n",
    "Our first analysis will be exploring the dataset using visualization and summary statistics. We will answer questions like:\n",
    "- What are the demographics of the patient population?\n",
    "- How many patients died in the hospital? How long did patients survive after discharge?\n",
    "- How many patients had pneumonia? Does the subpopulation of pneumonia cases differ at all from the rest of the population?\n",
    "\n",
    "But first, you may need to do some additional data transformations to get the necessary variables. Start by exploring the dataset and getting familiar with it. What do each of the columns mean? Which columns would we use to answer the questions above? Do you need to calculate any more columns?"
   ]
  },
  {
   "cell_type": "code",
   "execution_count": 4,
   "id": "1b732e4f",
   "metadata": {},
   "outputs": [
    {
     "data": {
      "text/html": [
       "<div>\n",
       "<style scoped>\n",
       "    .dataframe tbody tr th:only-of-type {\n",
       "        vertical-align: middle;\n",
       "    }\n",
       "\n",
       "    .dataframe tbody tr th {\n",
       "        vertical-align: top;\n",
       "    }\n",
       "\n",
       "    .dataframe thead th {\n",
       "        text-align: right;\n",
       "    }\n",
       "</style>\n",
       "<table border=\"1\" class=\"dataframe\">\n",
       "  <thead>\n",
       "    <tr style=\"text-align: right;\">\n",
       "      <th></th>\n",
       "      <th>subject_id</th>\n",
       "      <th>hadm_id</th>\n",
       "      <th>disch_dt</th>\n",
       "      <th>dod</th>\n",
       "      <th>sex</th>\n",
       "      <th>ethnicity_descr</th>\n",
       "      <th>age_at_discharge</th>\n",
       "      <th>age_at_discharge_binned</th>\n",
       "      <th>pna</th>\n",
       "      <th>time_discharge_to_death</th>\n",
       "      <th>mortality_30_day</th>\n",
       "    </tr>\n",
       "  </thead>\n",
       "  <tbody>\n",
       "    <tr>\n",
       "      <th>0</th>\n",
       "      <td>56</td>\n",
       "      <td>28766</td>\n",
       "      <td>2644-01-23 00:00:00</td>\n",
       "      <td>2644-01-23 00:00:00</td>\n",
       "      <td>F</td>\n",
       "      <td>WHITE</td>\n",
       "      <td>90.7205</td>\n",
       "      <td>91+</td>\n",
       "      <td>0</td>\n",
       "      <td>0</td>\n",
       "      <td>1</td>\n",
       "    </tr>\n",
       "    <tr>\n",
       "      <th>1</th>\n",
       "      <td>37</td>\n",
       "      <td>18052</td>\n",
       "      <td>3264-08-19 00:00:00</td>\n",
       "      <td>3265-12-31 00:00:00</td>\n",
       "      <td>M</td>\n",
       "      <td>WHITE</td>\n",
       "      <td>68.9863</td>\n",
       "      <td>66-90</td>\n",
       "      <td>1</td>\n",
       "      <td>499</td>\n",
       "      <td>0</td>\n",
       "    </tr>\n",
       "    <tr>\n",
       "      <th>2</th>\n",
       "      <td>78</td>\n",
       "      <td>15161</td>\n",
       "      <td>2778-03-27 00:00:00</td>\n",
       "      <td>2781-03-11 00:00:00</td>\n",
       "      <td>M</td>\n",
       "      <td>BLACK/AFRICAN AMERICAN</td>\n",
       "      <td>48.6658</td>\n",
       "      <td>36-65</td>\n",
       "      <td>0</td>\n",
       "      <td>1080</td>\n",
       "      <td>0</td>\n",
       "    </tr>\n",
       "    <tr>\n",
       "      <th>3</th>\n",
       "      <td>67</td>\n",
       "      <td>35878</td>\n",
       "      <td>2976-11-29 00:00:00</td>\n",
       "      <td>2976-11-29 00:00:00</td>\n",
       "      <td>M</td>\n",
       "      <td>WHITE</td>\n",
       "      <td>73.5397</td>\n",
       "      <td>66-90</td>\n",
       "      <td>0</td>\n",
       "      <td>0</td>\n",
       "      <td>1</td>\n",
       "    </tr>\n",
       "    <tr>\n",
       "      <th>4</th>\n",
       "      <td>3</td>\n",
       "      <td>2075</td>\n",
       "      <td>2682-09-18 00:00:00</td>\n",
       "      <td>2683-05-02 00:00:00</td>\n",
       "      <td>M</td>\n",
       "      <td>WHITE</td>\n",
       "      <td>76.6055</td>\n",
       "      <td>66-90</td>\n",
       "      <td>0</td>\n",
       "      <td>226</td>\n",
       "      <td>0</td>\n",
       "    </tr>\n",
       "  </tbody>\n",
       "</table>\n",
       "</div>"
      ],
      "text/plain": [
       "   subject_id  hadm_id             disch_dt                  dod sex  \\\n",
       "0          56    28766  2644-01-23 00:00:00  2644-01-23 00:00:00   F   \n",
       "1          37    18052  3264-08-19 00:00:00  3265-12-31 00:00:00   M   \n",
       "2          78    15161  2778-03-27 00:00:00  2781-03-11 00:00:00   M   \n",
       "3          67    35878  2976-11-29 00:00:00  2976-11-29 00:00:00   M   \n",
       "4           3     2075  2682-09-18 00:00:00  2683-05-02 00:00:00   M   \n",
       "\n",
       "          ethnicity_descr  age_at_discharge age_at_discharge_binned  pna  \\\n",
       "0                   WHITE           90.7205                     91+    0   \n",
       "1                   WHITE           68.9863                   66-90    1   \n",
       "2  BLACK/AFRICAN AMERICAN           48.6658                   36-65    0   \n",
       "3                   WHITE           73.5397                   66-90    0   \n",
       "4                   WHITE           76.6055                   66-90    0   \n",
       "\n",
       "   time_discharge_to_death  mortality_30_day  \n",
       "0                        0                 1  \n",
       "1                      499                 0  \n",
       "2                     1080                 0  \n",
       "3                        0                 1  \n",
       "4                      226                 0  "
      ]
     },
     "execution_count": 4,
     "metadata": {},
     "output_type": "execute_result"
    }
   ],
   "source": [
    "df.head()"
   ]
  },
  {
   "cell_type": "code",
   "execution_count": null,
   "id": "510576ec",
   "metadata": {},
   "outputs": [],
   "source": []
  },
  {
   "cell_type": "markdown",
   "id": "1943653f",
   "metadata": {},
   "source": [
    "# 1. Ethnicity\n",
    "What are the counts in the `ethnicity_descr` column? Calculate the values, then plot them."
   ]
  },
  {
   "cell_type": "code",
   "execution_count": 5,
   "id": "1f8c432a",
   "metadata": {},
   "outputs": [
    {
     "data": {
      "text/plain": [
       "ethnicity_descr\n",
       "AMERICAN INDIAN/ALASKA NATIVE                 3\n",
       "ASIAN                                        86\n",
       "ASIAN - CHINESE                               5\n",
       "ASIAN - VIETNAMESE                            1\n",
       "BLACK/AFRICAN AMERICAN                      474\n",
       "BLACK/CAPE VERDEAN                            2\n",
       "BLACK/HAITIAN                                 2\n",
       "HISPANIC OR LATINO                           71\n",
       "HISPANIC/LATINO - PUERTO RICAN                3\n",
       "MULTI RACE ETHNICITY                          2\n",
       "NATIVE HAWAIIAN OR OTHER PACIFIC ISLAND       2\n",
       "OTHER                                        78\n",
       "PATIENT DECLINED TO ANSWER                   52\n",
       "UNABLE TO OBTAIN                             18\n",
       "UNKNOWN/NOT SPECIFIED                       730\n",
       "WHITE                                      3544\n",
       "WHITE - RUSSIAN                               1\n",
       "dtype: int64"
      ]
     },
     "execution_count": 5,
     "metadata": {},
     "output_type": "execute_result"
    }
   ],
   "source": [
    "# Getting counts: Use df.groupby\n",
    "df.groupby(\"ethnicity_descr\").size()"
   ]
  },
  {
   "cell_type": "code",
   "execution_count": 6,
   "id": "9048be50",
   "metadata": {},
   "outputs": [
    {
     "data": {
      "application/vnd.jupyter.widget-view+json": {
       "model_id": "10500def4f994e30875f7df6d02712e8",
       "version_major": 2,
       "version_minor": 0
      },
      "text/plain": [
       "VBox(children=(HTML(value='</br><strong>Displaying hint 0/1</strong>'), Output(), Button(description='Get hint…"
      ]
     },
     "metadata": {},
     "output_type": "display_data"
    },
    {
     "data": {
      "text/plain": []
     },
     "execution_count": 6,
     "metadata": {},
     "output_type": "execute_result"
    }
   ],
   "source": [
    "# Plot\n",
    "ethnicity_descr_hint"
   ]
  },
  {
   "cell_type": "code",
   "execution_count": 7,
   "id": "7cf32445",
   "metadata": {},
   "outputs": [
    {
     "data": {
      "image/png": "[encoded data removed]",
      "text/plain": [
       "<Figure size 432x288 with 1 Axes>"
      ]
     },
     "metadata": {},
     "output_type": "display_data"
    }
   ],
   "source": [
    "# Seaborn countplot\n",
    "sns.countplot(y=\"ethnicity_descr\", data=df, color=\"C0\")\n",
    "plt.savefig(\"media/ethnicity_descr_counts.png\", bbox_inches = \"tight\")"
   ]
  },
  {
   "cell_type": "code",
   "execution_count": null,
   "id": "170ece06",
   "metadata": {},
   "outputs": [],
   "source": []
  },
  {
   "cell_type": "markdown",
   "id": "36541b54",
   "metadata": {},
   "source": [
    "# 2: Age at discharge\n",
    "What is the distribution of patient ages at the time of discharge? First calculate summary statistics, then plot the values using an appropriate method."
   ]
  },
  {
   "cell_type": "code",
   "execution_count": 8,
   "id": "bac18b82",
   "metadata": {},
   "outputs": [
    {
     "data": {
      "application/vnd.jupyter.widget-view+json": {
       "model_id": "ed19f1dddf7a4fe59f7fdf49441b4af5",
       "version_major": 2,
       "version_minor": 0
      },
      "text/plain": [
       "VBox(children=(HTML(value='What are the mean and median ages at discharge?'), RadioButtons(options=('61.14; 10…"
      ]
     },
     "metadata": {},
     "output_type": "display_data"
    },
    {
     "data": {
      "text/plain": []
     },
     "execution_count": 8,
     "metadata": {},
     "output_type": "execute_result"
    }
   ],
   "source": [
    "# RUN CELL TO SEE QUIZ\n",
    "age_at_discharge_mc"
   ]
  },
  {
   "cell_type": "code",
   "execution_count": 9,
   "id": "11b9dcb3",
   "metadata": {},
   "outputs": [
    {
     "data": {
      "application/vnd.jupyter.widget-view+json": {
       "model_id": "ed5669146133451ba26edae34143dbd7",
       "version_major": 2,
       "version_minor": 0
      },
      "text/plain": [
       "VBox(children=(HTML(value='Visualization hints</br><strong>Displaying hint 0/2</strong>'), Output(), Button(de…"
      ]
     },
     "metadata": {},
     "output_type": "display_data"
    },
    {
     "data": {
      "text/plain": []
     },
     "execution_count": 9,
     "metadata": {},
     "output_type": "execute_result"
    }
   ],
   "source": [
    "# RUN CELL TO SEE HINT\n",
    "age_at_discharge_viz_hint"
   ]
  },
  {
   "cell_type": "code",
   "execution_count": 10,
   "id": "06c78f78",
   "metadata": {},
   "outputs": [
    {
     "data": {
      "text/plain": [
       "count    5074.000000\n",
       "mean       70.286260\n",
       "std        16.333053\n",
       "min         0.000000\n",
       "25%        61.141075\n",
       "50%        73.412350\n",
       "75%        82.389050\n",
       "max       105.421900\n",
       "Name: age_at_discharge, dtype: float64"
      ]
     },
     "execution_count": 10,
     "metadata": {},
     "output_type": "execute_result"
    }
   ],
   "source": [
    "df[\"age_at_discharge\"].describe()"
   ]
  },
  {
   "cell_type": "code",
   "execution_count": 11,
   "id": "4041b9da",
   "metadata": {},
   "outputs": [
    {
     "name": "stderr",
     "output_type": "stream",
     "text": [
      "/Users/alecchapman/opt/miniconda3/envs/phs/lib/python3.9/site-packages/seaborn/distributions.py:2619: FutureWarning: `distplot` is a deprecated function and will be removed in a future version. Please adapt your code to use either `displot` (a figure-level function with similar flexibility) or `histplot` (an axes-level function for histograms).\n",
      "  warnings.warn(msg, FutureWarning)\n"
     ]
    },
    {
     "data": {
      "image/png": "[encoded data removed]",
      "text/plain": [
       "<Figure size 432x288 with 1 Axes>"
      ]
     },
     "metadata": {},
     "output_type": "display_data"
    }
   ],
   "source": [
    "sns.distplot(df[\"age_at_discharge\"])\n",
    "plt.savefig(\"./media/age_at_discharge_hist.png\")"
   ]
  },
  {
   "cell_type": "code",
   "execution_count": 12,
   "id": "787e15ca",
   "metadata": {},
   "outputs": [
    {
     "data": {
      "image/png": "[encoded data removed]",
      "text/plain": [
       "<Figure size 432x288 with 1 Axes>"
      ]
     },
     "metadata": {},
     "output_type": "display_data"
    }
   ],
   "source": [
    "sns.boxplot(y=\"age_at_discharge\", data=df)\n",
    "plt.savefig(\"./media/age_at_discharge_boxplot.png\")"
   ]
  },
  {
   "cell_type": "code",
   "execution_count": null,
   "id": "f611d4c1",
   "metadata": {},
   "outputs": [],
   "source": []
  },
  {
   "cell_type": "markdown",
   "id": "305f0cfc",
   "metadata": {},
   "source": [
    "# 3. In-hospital mortality \n",
    "Next let's study how many patients died in the hospital. However, our dataset doesn't tell us right away whether patients died in the hospital or not. \n",
    "\n",
    "## 3.1\n",
    "Which columns Could tell us whether a patient died in the hospital? There's more than one way we could do this, so select all that apply."
   ]
  },
  {
   "cell_type": "code",
   "execution_count": 13,
   "id": "623097af",
   "metadata": {},
   "outputs": [
    {
     "data": {
      "application/vnd.jupyter.widget-view+json": {
       "model_id": "d11f6bc9404345329c77a6a450b46364",
       "version_major": 2,
       "version_minor": 0
      },
      "text/plain": [
       "VBox(children=(HTML(value=''), SelectMultiple(options=('subject_id', 'hadm_id', 'disch_dt', 'dod', 'sex', 'eth…"
      ]
     },
     "metadata": {},
     "output_type": "display_data"
    },
    {
     "data": {
      "text/plain": []
     },
     "execution_count": 13,
     "metadata": {},
     "output_type": "execute_result"
    }
   ],
   "source": [
    "# RUN CELL TO SEE QUIZ\n",
    "mortality_cols_quiz "
   ]
  },
  {
   "cell_type": "code",
   "execution_count": 14,
   "id": "174123f5",
   "metadata": {},
   "outputs": [
    {
     "data": {
      "text/plain": [
       "Index(['subject_id', 'hadm_id', 'disch_dt', 'dod', 'sex', 'ethnicity_descr',\n",
       "       'age_at_discharge', 'age_at_discharge_binned', 'pna',\n",
       "       'time_discharge_to_death', 'mortality_30_day'],\n",
       "      dtype='object')"
      ]
     },
     "execution_count": 14,
     "metadata": {},
     "output_type": "execute_result"
    }
   ],
   "source": [
    "df.columns"
   ]
  },
  {
   "cell_type": "code",
   "execution_count": null,
   "id": "156e7760",
   "metadata": {},
   "outputs": [],
   "source": []
  },
  {
   "cell_type": "markdown",
   "id": "f7a765d3",
   "metadata": {},
   "source": [
    "## 3.2\n",
    "Add a column `in_hospital_mortality` which is a binary indicator of whether they died in the hospital.\n",
    "\n",
    "**Hint**: You could either represent this as an integer (`0` or `1`) or a boolean (`True` or `False`)."
   ]
  },
  {
   "cell_type": "code",
   "execution_count": 15,
   "id": "15fbff11",
   "metadata": {},
   "outputs": [
    {
     "data": {
      "application/vnd.jupyter.widget-view+json": {
       "model_id": "da1ca73bd85148ec81ce4c8574e5235b",
       "version_major": 2,
       "version_minor": 0
      },
      "text/plain": [
       "VBox(children=(HTML(value='</br><strong>Displaying hint 0/2</strong>'), Output(), Button(description='Get hint…"
      ]
     },
     "metadata": {},
     "output_type": "display_data"
    },
    {
     "data": {
      "text/plain": []
     },
     "execution_count": 15,
     "metadata": {},
     "output_type": "execute_result"
    }
   ],
   "source": [
    "# RUN CELL TO SEE HINT\n",
    "in_hospital_mortality_hint"
   ]
  },
  {
   "cell_type": "code",
   "execution_count": 16,
   "id": "47df46d8",
   "metadata": {},
   "outputs": [],
   "source": [
    "# Option 1: Use time_to_discharge_death\n",
    "df[\"in_hospital_mortality\"] = (df[\"time_discharge_to_death\"] == 0)"
   ]
  },
  {
   "cell_type": "code",
   "execution_count": 17,
   "id": "3dd188c9",
   "metadata": {},
   "outputs": [],
   "source": [
    "# Option 2: Compare disch_dt and dod\n",
    "df[\"in_hospital_mortality\"] = (df[\"disch_dt\"] == df[\"dod\"])"
   ]
  },
  {
   "cell_type": "code",
   "execution_count": 18,
   "id": "48cc04c8",
   "metadata": {},
   "outputs": [
    {
     "data": {
      "text/plain": [
       "0.3285376428852976"
      ]
     },
     "execution_count": 18,
     "metadata": {},
     "output_type": "execute_result"
    }
   ],
   "source": [
    "df[\"in_hospital_mortality\"].mean()"
   ]
  },
  {
   "cell_type": "code",
   "execution_count": 19,
   "id": "920f3cd9",
   "metadata": {},
   "outputs": [
    {
     "data": {
      "text/html": [
       "<div>\n",
       "<style scoped>\n",
       "    .dataframe tbody tr th:only-of-type {\n",
       "        vertical-align: middle;\n",
       "    }\n",
       "\n",
       "    .dataframe tbody tr th {\n",
       "        vertical-align: top;\n",
       "    }\n",
       "\n",
       "    .dataframe thead th {\n",
       "        text-align: right;\n",
       "    }\n",
       "</style>\n",
       "<table border=\"1\" class=\"dataframe\">\n",
       "  <thead>\n",
       "    <tr style=\"text-align: right;\">\n",
       "      <th></th>\n",
       "      <th>subject_id</th>\n",
       "      <th>hadm_id</th>\n",
       "      <th>disch_dt</th>\n",
       "      <th>dod</th>\n",
       "      <th>sex</th>\n",
       "      <th>ethnicity_descr</th>\n",
       "      <th>age_at_discharge</th>\n",
       "      <th>age_at_discharge_binned</th>\n",
       "      <th>pna</th>\n",
       "      <th>time_discharge_to_death</th>\n",
       "      <th>mortality_30_day</th>\n",
       "      <th>in_hospital_mortality</th>\n",
       "    </tr>\n",
       "  </thead>\n",
       "  <tbody>\n",
       "    <tr>\n",
       "      <th>0</th>\n",
       "      <td>56</td>\n",
       "      <td>28766</td>\n",
       "      <td>2644-01-23 00:00:00</td>\n",
       "      <td>2644-01-23 00:00:00</td>\n",
       "      <td>F</td>\n",
       "      <td>WHITE</td>\n",
       "      <td>90.7205</td>\n",
       "      <td>91+</td>\n",
       "      <td>0</td>\n",
       "      <td>0</td>\n",
       "      <td>1</td>\n",
       "      <td>True</td>\n",
       "    </tr>\n",
       "    <tr>\n",
       "      <th>1</th>\n",
       "      <td>37</td>\n",
       "      <td>18052</td>\n",
       "      <td>3264-08-19 00:00:00</td>\n",
       "      <td>3265-12-31 00:00:00</td>\n",
       "      <td>M</td>\n",
       "      <td>WHITE</td>\n",
       "      <td>68.9863</td>\n",
       "      <td>66-90</td>\n",
       "      <td>1</td>\n",
       "      <td>499</td>\n",
       "      <td>0</td>\n",
       "      <td>False</td>\n",
       "    </tr>\n",
       "    <tr>\n",
       "      <th>2</th>\n",
       "      <td>78</td>\n",
       "      <td>15161</td>\n",
       "      <td>2778-03-27 00:00:00</td>\n",
       "      <td>2781-03-11 00:00:00</td>\n",
       "      <td>M</td>\n",
       "      <td>BLACK/AFRICAN AMERICAN</td>\n",
       "      <td>48.6658</td>\n",
       "      <td>36-65</td>\n",
       "      <td>0</td>\n",
       "      <td>1080</td>\n",
       "      <td>0</td>\n",
       "      <td>False</td>\n",
       "    </tr>\n",
       "    <tr>\n",
       "      <th>3</th>\n",
       "      <td>67</td>\n",
       "      <td>35878</td>\n",
       "      <td>2976-11-29 00:00:00</td>\n",
       "      <td>2976-11-29 00:00:00</td>\n",
       "      <td>M</td>\n",
       "      <td>WHITE</td>\n",
       "      <td>73.5397</td>\n",
       "      <td>66-90</td>\n",
       "      <td>0</td>\n",
       "      <td>0</td>\n",
       "      <td>1</td>\n",
       "      <td>True</td>\n",
       "    </tr>\n",
       "    <tr>\n",
       "      <th>4</th>\n",
       "      <td>3</td>\n",
       "      <td>2075</td>\n",
       "      <td>2682-09-18 00:00:00</td>\n",
       "      <td>2683-05-02 00:00:00</td>\n",
       "      <td>M</td>\n",
       "      <td>WHITE</td>\n",
       "      <td>76.6055</td>\n",
       "      <td>66-90</td>\n",
       "      <td>0</td>\n",
       "      <td>226</td>\n",
       "      <td>0</td>\n",
       "      <td>False</td>\n",
       "    </tr>\n",
       "  </tbody>\n",
       "</table>\n",
       "</div>"
      ],
      "text/plain": [
       "   subject_id  hadm_id             disch_dt                  dod sex  \\\n",
       "0          56    28766  2644-01-23 00:00:00  2644-01-23 00:00:00   F   \n",
       "1          37    18052  3264-08-19 00:00:00  3265-12-31 00:00:00   M   \n",
       "2          78    15161  2778-03-27 00:00:00  2781-03-11 00:00:00   M   \n",
       "3          67    35878  2976-11-29 00:00:00  2976-11-29 00:00:00   M   \n",
       "4           3     2075  2682-09-18 00:00:00  2683-05-02 00:00:00   M   \n",
       "\n",
       "          ethnicity_descr  age_at_discharge age_at_discharge_binned  pna  \\\n",
       "0                   WHITE           90.7205                     91+    0   \n",
       "1                   WHITE           68.9863                   66-90    1   \n",
       "2  BLACK/AFRICAN AMERICAN           48.6658                   36-65    0   \n",
       "3                   WHITE           73.5397                   66-90    0   \n",
       "4                   WHITE           76.6055                   66-90    0   \n",
       "\n",
       "   time_discharge_to_death  mortality_30_day  in_hospital_mortality  \n",
       "0                        0                 1                   True  \n",
       "1                      499                 0                  False  \n",
       "2                     1080                 0                  False  \n",
       "3                        0                 1                   True  \n",
       "4                      226                 0                  False  "
      ]
     },
     "execution_count": 19,
     "metadata": {},
     "output_type": "execute_result"
    }
   ],
   "source": [
    "df.head()"
   ]
  },
  {
   "cell_type": "code",
   "execution_count": 20,
   "id": "0a39e87c",
   "metadata": {},
   "outputs": [
    {
     "name": "stdout",
     "output_type": "stream",
     "text": [
      "That is correct!\n"
     ]
    }
   ],
   "source": [
    "# Check your answer here\n",
    "test_in_hospital_mortality.test(df)"
   ]
  },
  {
   "cell_type": "code",
   "execution_count": null,
   "id": "0b54c62d",
   "metadata": {},
   "outputs": [],
   "source": []
  },
  {
   "cell_type": "markdown",
   "id": "8fa91b60",
   "metadata": {},
   "source": [
    "## 3.3\n",
    "What proprotion of patients died in the hospital? Calculate the value then plot the raw counts."
   ]
  },
  {
   "cell_type": "code",
   "execution_count": 21,
   "id": "b5ff3e5f",
   "metadata": {},
   "outputs": [
    {
     "data": {
      "application/vnd.jupyter.widget-view+json": {
       "model_id": "1ad71098f30d49fe9087e2c5f47118d7",
       "version_major": 2,
       "version_minor": 0
      },
      "text/plain": [
       "VBox(children=(HTML(value='What proportion of patients died in the hospital?'), RadioButtons(options=(0.33, 0.…"
      ]
     },
     "metadata": {},
     "output_type": "display_data"
    },
    {
     "data": {
      "text/plain": []
     },
     "execution_count": 21,
     "metadata": {},
     "output_type": "execute_result"
    }
   ],
   "source": [
    "# RUN CELL TO SEE QUIZ\n",
    "prop_pt_mortality_quiz"
   ]
  },
  {
   "cell_type": "code",
   "execution_count": 22,
   "id": "64c9db9e",
   "metadata": {},
   "outputs": [
    {
     "data": {
      "text/plain": [
       "0.3285376428852976"
      ]
     },
     "execution_count": 22,
     "metadata": {},
     "output_type": "execute_result"
    }
   ],
   "source": [
    "df[\"in_hospital_mortality\"].mean()"
   ]
  },
  {
   "cell_type": "code",
   "execution_count": 23,
   "id": "392ca7be",
   "metadata": {},
   "outputs": [
    {
     "name": "stderr",
     "output_type": "stream",
     "text": [
      "/Users/alecchapman/opt/miniconda3/envs/phs/lib/python3.9/site-packages/seaborn/_decorators.py:36: FutureWarning: Pass the following variable as a keyword arg: x. From version 0.12, the only valid positional argument will be `data`, and passing other arguments without an explicit keyword will result in an error or misinterpretation.\n",
      "  warnings.warn(\n"
     ]
    },
    {
     "data": {
      "text/plain": [
       "<AxesSubplot:xlabel='in_hospital_mortality', ylabel='count'>"
      ]
     },
     "execution_count": 23,
     "metadata": {},
     "output_type": "execute_result"
    },
    {
     "data": {
      "image/png": "[encoded data removed]",
      "text/plain": [
       "<Figure size 432x288 with 1 Axes>"
      ]
     },
     "metadata": {},
     "output_type": "display_data"
    }
   ],
   "source": [
    "sns.countplot(df[\"in_hospital_mortality\"])"
   ]
  },
  {
   "cell_type": "code",
   "execution_count": null,
   "id": "fc982f77",
   "metadata": {},
   "outputs": [],
   "source": []
  },
  {
   "cell_type": "markdown",
   "id": "9051c756",
   "metadata": {},
   "source": [
    "## 3.4\n",
    "What is the relationship between age at discharge and in-hospital mortality? Use the ordinal column `\"age_at_discharge_binned\"` to calculate the proportion of individuals in each bin who died in the hospital. Then plot the values."
   ]
  },
  {
   "cell_type": "code",
   "execution_count": 24,
   "id": "bfa12421",
   "metadata": {},
   "outputs": [
    {
     "data": {
      "application/vnd.jupyter.widget-view+json": {
       "model_id": "47e2c1de3b564f4f938f07f14ba21320",
       "version_major": 2,
       "version_minor": 0
      },
      "text/plain": [
       "VBox(children=(HTML(value='Visualization hints</br><strong>Displaying hint 0/1</strong>'), Output(), Button(de…"
      ]
     },
     "metadata": {},
     "output_type": "display_data"
    },
    {
     "data": {
      "text/plain": []
     },
     "execution_count": 24,
     "metadata": {},
     "output_type": "execute_result"
    }
   ],
   "source": [
    "# RUN CELL TO SEE HINT\n",
    "age_at_discharge_mortality_hint"
   ]
  },
  {
   "cell_type": "code",
   "execution_count": 25,
   "id": "5d7ba886",
   "metadata": {},
   "outputs": [
    {
     "data": {
      "application/vnd.jupyter.widget-view+json": {
       "model_id": "c12b5a5bbc244b60b61ca28aaafa0e79",
       "version_major": 2,
       "version_minor": 0
      },
      "text/plain": [
       "VBox(children=(HTML(value='What are the two age groups wwith the highest proportion of in-hospital mortality?'…"
      ]
     },
     "metadata": {},
     "output_type": "display_data"
    },
    {
     "data": {
      "text/plain": []
     },
     "execution_count": 25,
     "metadata": {},
     "output_type": "execute_result"
    }
   ],
   "source": [
    "# RUN CELL TO SEE QUIZ\n",
    "age_at_discharge_mortality_quiz"
   ]
  },
  {
   "cell_type": "code",
   "execution_count": 26,
   "id": "40ad73f5",
   "metadata": {},
   "outputs": [
    {
     "data": {
      "text/plain": [
       "age_at_discharge_binned\n",
       "18-35    0.358779\n",
       "36-65    0.312010\n",
       "66-90    0.321662\n",
       "91+      0.395639\n",
       "<18      0.941176\n",
       "Name: in_hospital_mortality, dtype: float64"
      ]
     },
     "execution_count": 26,
     "metadata": {},
     "output_type": "execute_result"
    }
   ],
   "source": [
    "df.groupby(\"age_at_discharge_binned\")[\"in_hospital_mortality\"].mean()"
   ]
  },
  {
   "cell_type": "code",
   "execution_count": 27,
   "id": "a8ad7004",
   "metadata": {},
   "outputs": [
    {
     "data": {
      "image/png": "[encoded data removed]",
      "text/plain": [
       "<Figure size 432x288 with 1 Axes>"
      ]
     },
     "metadata": {},
     "output_type": "display_data"
    }
   ],
   "source": [
    "df.groupby(\"age_at_discharge_binned\")[\"in_hospital_mortality\"].mean().plot.bar()\n",
    "plt.savefig(\"./media/age_at_discharge_proportions.png\")"
   ]
  },
  {
   "cell_type": "code",
   "execution_count": null,
   "id": "c5ee0ff4",
   "metadata": {},
   "outputs": [],
   "source": []
  },
  {
   "cell_type": "markdown",
   "id": "f5238fb4",
   "metadata": {},
   "source": [
    "# 4. Pneumonia\n",
    "Pneumonia is a common infection and serious comorbidity for ICU patients. We'll explore pneumonia throughout the class, beginning with the next few questions.\n",
    "\n",
    "## 4.1\n",
    "What proportion of patients had pneumonia during their hospitalization? Calculate the proportion and plot the counts."
   ]
  },
  {
   "cell_type": "code",
   "execution_count": 28,
   "id": "25552066",
   "metadata": {},
   "outputs": [
    {
     "data": {
      "application/vnd.jupyter.widget-view+json": {
       "model_id": "989887187fa042a1bec135997ecbf65b",
       "version_major": 2,
       "version_minor": 0
      },
      "text/plain": [
       "VBox(children=(HTML(value='What is the proportion of patients had pneumonia? Round to 4 decimal points.'), Rad…"
      ]
     },
     "metadata": {},
     "output_type": "display_data"
    },
    {
     "data": {
      "text/plain": []
     },
     "execution_count": 28,
     "metadata": {},
     "output_type": "execute_result"
    }
   ],
   "source": [
    "# RUN CELL TO SEE QUIZ\n",
    "pna_prop"
   ]
  },
  {
   "cell_type": "code",
   "execution_count": 29,
   "id": "f9ed3cda",
   "metadata": {},
   "outputs": [
    {
     "data": {
      "text/plain": [
       "0.1998423334647221"
      ]
     },
     "execution_count": 29,
     "metadata": {},
     "output_type": "execute_result"
    }
   ],
   "source": [
    "df[\"pna\"].mean()"
   ]
  },
  {
   "cell_type": "code",
   "execution_count": 30,
   "id": "7c6c857d",
   "metadata": {},
   "outputs": [
    {
     "name": "stderr",
     "output_type": "stream",
     "text": [
      "/Users/alecchapman/opt/miniconda3/envs/phs/lib/python3.9/site-packages/seaborn/_decorators.py:36: FutureWarning: Pass the following variable as a keyword arg: x. From version 0.12, the only valid positional argument will be `data`, and passing other arguments without an explicit keyword will result in an error or misinterpretation.\n",
      "  warnings.warn(\n"
     ]
    },
    {
     "data": {
      "text/plain": [
       "<AxesSubplot:xlabel='pna', ylabel='count'>"
      ]
     },
     "execution_count": 30,
     "metadata": {},
     "output_type": "execute_result"
    },
    {
     "data": {
      "image/png": "[encoded data removed]",
      "text/plain": [
       "<Figure size 432x288 with 1 Axes>"
      ]
     },
     "metadata": {},
     "output_type": "display_data"
    }
   ],
   "source": [
    "sns.countplot(df[\"pna\"])"
   ]
  },
  {
   "cell_type": "code",
   "execution_count": null,
   "id": "5559c147",
   "metadata": {},
   "outputs": [],
   "source": []
  },
  {
   "cell_type": "markdown",
   "id": "f938ebc3",
   "metadata": {},
   "source": [
    "## 4.2\n",
    "The column `time_discharge_to_death` tells us how many days there were between when the patient discharged and when they died. What is the distribution of time to death among patients who did/did not have pneumonia? Try a few different methods for comparing the two groups. Do the distributions differ?"
   ]
  },
  {
   "cell_type": "code",
   "execution_count": 31,
   "id": "d3962c29",
   "metadata": {},
   "outputs": [
    {
     "data": {
      "application/vnd.jupyter.widget-view+json": {
       "model_id": "511af68bb8aa4c85a665eaafb967c42d",
       "version_major": 2,
       "version_minor": 0
      },
      "text/plain": [
       "VBox(children=(HTML(value='Some hints for visualizing time to death.</br><strong>Displaying hint 0/2</strong>'…"
      ]
     },
     "metadata": {},
     "output_type": "display_data"
    },
    {
     "data": {
      "text/plain": []
     },
     "execution_count": 31,
     "metadata": {},
     "output_type": "execute_result"
    }
   ],
   "source": [
    "# RUN CELL TO SEE HINT\n",
    "time_to_death_viz_hint"
   ]
  },
  {
   "cell_type": "code",
   "execution_count": 32,
   "id": "e1222c1f",
   "metadata": {},
   "outputs": [
    {
     "data": {
      "application/vnd.jupyter.widget-view+json": {
       "model_id": "af8854bc48024100acdc60a22cb461e8",
       "version_major": 2,
       "version_minor": 0
      },
      "text/plain": [
       "VBox(children=(HTML(value='What are the mean number of days from discharge to death for pneumonia positive and…"
      ]
     },
     "metadata": {},
     "output_type": "display_data"
    },
    {
     "data": {
      "text/plain": []
     },
     "execution_count": 32,
     "metadata": {},
     "output_type": "execute_result"
    }
   ],
   "source": [
    "# RUN CELL TO SEE QUIZ\n",
    "time_to_death_mean_quiz"
   ]
  },
  {
   "cell_type": "code",
   "execution_count": 33,
   "id": "8e20e752",
   "metadata": {},
   "outputs": [
    {
     "data": {
      "text/html": [
       "<div>\n",
       "<style scoped>\n",
       "    .dataframe tbody tr th:only-of-type {\n",
       "        vertical-align: middle;\n",
       "    }\n",
       "\n",
       "    .dataframe tbody tr th {\n",
       "        vertical-align: top;\n",
       "    }\n",
       "\n",
       "    .dataframe thead th {\n",
       "        text-align: right;\n",
       "    }\n",
       "</style>\n",
       "<table border=\"1\" class=\"dataframe\">\n",
       "  <thead>\n",
       "    <tr style=\"text-align: right;\">\n",
       "      <th></th>\n",
       "      <th>count</th>\n",
       "      <th>mean</th>\n",
       "      <th>std</th>\n",
       "      <th>min</th>\n",
       "      <th>25%</th>\n",
       "      <th>50%</th>\n",
       "      <th>75%</th>\n",
       "      <th>max</th>\n",
       "    </tr>\n",
       "    <tr>\n",
       "      <th>pna</th>\n",
       "      <th></th>\n",
       "      <th></th>\n",
       "      <th></th>\n",
       "      <th></th>\n",
       "      <th></th>\n",
       "      <th></th>\n",
       "      <th></th>\n",
       "      <th></th>\n",
       "    </tr>\n",
       "  </thead>\n",
       "  <tbody>\n",
       "    <tr>\n",
       "      <th>0</th>\n",
       "      <td>4060.0</td>\n",
       "      <td>398.871182</td>\n",
       "      <td>563.235274</td>\n",
       "      <td>-177.0</td>\n",
       "      <td>0.0</td>\n",
       "      <td>113.5</td>\n",
       "      <td>607.00</td>\n",
       "      <td>2735.0</td>\n",
       "    </tr>\n",
       "    <tr>\n",
       "      <th>1</th>\n",
       "      <td>1014.0</td>\n",
       "      <td>254.119329</td>\n",
       "      <td>438.026478</td>\n",
       "      <td>-27.0</td>\n",
       "      <td>0.0</td>\n",
       "      <td>35.0</td>\n",
       "      <td>321.25</td>\n",
       "      <td>2533.0</td>\n",
       "    </tr>\n",
       "  </tbody>\n",
       "</table>\n",
       "</div>"
      ],
      "text/plain": [
       "      count        mean         std    min  25%    50%     75%     max\n",
       "pna                                                                   \n",
       "0    4060.0  398.871182  563.235274 -177.0  0.0  113.5  607.00  2735.0\n",
       "1    1014.0  254.119329  438.026478  -27.0  0.0   35.0  321.25  2533.0"
      ]
     },
     "execution_count": 33,
     "metadata": {},
     "output_type": "execute_result"
    }
   ],
   "source": [
    "df.groupby(\"pna\")[\"time_discharge_to_death\"].describe()"
   ]
  },
  {
   "cell_type": "code",
   "execution_count": 34,
   "id": "2e2b9620",
   "metadata": {},
   "outputs": [],
   "source": [
    "# Plot time_discharge_to_death by pneumonia\n"
   ]
  },
  {
   "cell_type": "code",
   "execution_count": 35,
   "id": "a51d507f",
   "metadata": {},
   "outputs": [
    {
     "data": {
      "text/plain": [
       "<AxesSubplot:xlabel='pna', ylabel='time_discharge_to_death'>"
      ]
     },
     "execution_count": 35,
     "metadata": {},
     "output_type": "execute_result"
    },
    {
     "data": {
      "image/png": "[encoded data removed]",
      "text/plain": [
       "<Figure size 432x288 with 1 Axes>"
      ]
     },
     "metadata": {},
     "output_type": "display_data"
    }
   ],
   "source": [
    "# Visualization 1: Boxplot\n",
    "sns.boxplot(x=\"pna\", y=\"time_discharge_to_death\", data=df)\n",
    "# plt.savefig(\"./media/time_discharge_to_death_boxplot.png\")"
   ]
  },
  {
   "cell_type": "code",
   "execution_count": 36,
   "id": "14aa3135",
   "metadata": {},
   "outputs": [
    {
     "name": "stderr",
     "output_type": "stream",
     "text": [
      "/Users/alecchapman/opt/miniconda3/envs/phs/lib/python3.9/site-packages/seaborn/distributions.py:2619: FutureWarning: `distplot` is a deprecated function and will be removed in a future version. Please adapt your code to use either `displot` (a figure-level function with similar flexibility) or `histplot` (an axes-level function for histograms).\n",
      "  warnings.warn(msg, FutureWarning)\n",
      "/Users/alecchapman/opt/miniconda3/envs/phs/lib/python3.9/site-packages/seaborn/distributions.py:2619: FutureWarning: `distplot` is a deprecated function and will be removed in a future version. Please adapt your code to use either `displot` (a figure-level function with similar flexibility) or `histplot` (an axes-level function for histograms).\n",
      "  warnings.warn(msg, FutureWarning)\n"
     ]
    },
    {
     "data": {
      "text/plain": [
       "Text(0.5, 1.0, 'Pneumonia positive')"
      ]
     },
     "execution_count": 36,
     "metadata": {},
     "output_type": "execute_result"
    },
    {
     "data": {
      "image/png": "[encoded data removed]",
      "text/plain": [
       "<Figure size 1152x288 with 2 Axes>"
      ]
     },
     "metadata": {},
     "output_type": "display_data"
    }
   ],
   "source": [
    "fig, (ax1, ax2) = plt.subplots(1, 2, figsize=(16,4), sharex=True, sharey=True)\n",
    "sns.distplot(df.query(\"pna == 0\")[\"time_discharge_to_death\"], ax=ax1)\n",
    "ax1.set_title(\"Pneumonia negative\")\n",
    "sns.distplot(df.query(\"pna == 1\")[\"time_discharge_to_death\"], ax=ax2, color=\"C1\")\n",
    "ax2.set_title(\"Pneumonia positive\")\n",
    "# plt.savefig(\"media/time_to_death_hist.png\", bbox_inches = \"tight\")"
   ]
  },
  {
   "cell_type": "code",
   "execution_count": null,
   "id": "0aa212df",
   "metadata": {},
   "outputs": [],
   "source": []
  },
  {
   "cell_type": "markdown",
   "id": "56038d20",
   "metadata": {},
   "source": [
    "## 4.3\n",
    "The [relative risk](https://en.wikipedia.org/wiki/Relative_risk) is a statistic which tells us how likely an outcome is to occur in one group versus another. For example, the outcome might be in-hospital mortality and you could compare between different levels of age to see if there's a difference between older and younger individuals. \n",
    "\n",
    "Calculate the relative risk of in-hospital mortality for patients with pneumonia against patients without pneumonia and assign it the name `rr`. It can be calculated as the proportion of pneumonia positive patients who died over the proportion of pneumonia negative patients who died.\n",
    "\n",
    "How would you interpret the results? "
   ]
  },
  {
   "cell_type": "code",
   "execution_count": 37,
   "id": "eec6d094",
   "metadata": {},
   "outputs": [
    {
     "data": {
      "application/vnd.jupyter.widget-view+json": {
       "model_id": "200d5ae5f55c4bbfb6b78e628574937f",
       "version_major": 2,
       "version_minor": 0
      },
      "text/plain": [
       "VBox(children=(HTML(value='What is the relative risk of in-hospital mortality for pneumonia positive vs pneumo…"
      ]
     },
     "metadata": {},
     "output_type": "display_data"
    },
    {
     "data": {
      "text/plain": []
     },
     "execution_count": 37,
     "metadata": {},
     "output_type": "execute_result"
    }
   ],
   "source": [
    "# RUN CELL TO SEE QUIZ\n",
    "in_hospital_mortality_rr_quiz"
   ]
  },
  {
   "cell_type": "code",
   "execution_count": 38,
   "id": "c444a2a7",
   "metadata": {},
   "outputs": [
    {
     "data": {
      "application/vnd.jupyter.widget-view+json": {
       "model_id": "22a6db7d19c14e51b978d9e23437b9d8",
       "version_major": 2,
       "version_minor": 0
      },
      "text/plain": [
       "VBox(children=(HTML(value='The interpretation of the relative risk is:</br>Patients with pneumonia are ___ ___…"
      ]
     },
     "metadata": {},
     "output_type": "display_data"
    },
    {
     "data": {
      "text/plain": []
     },
     "execution_count": 38,
     "metadata": {},
     "output_type": "execute_result"
    }
   ],
   "source": [
    "# RUN CELL TO SEE QUIZ\n",
    "in_hospital_mortality_rr_interpretation_quiz"
   ]
  },
  {
   "cell_type": "code",
   "execution_count": 39,
   "id": "259ce333",
   "metadata": {},
   "outputs": [
    {
     "data": {
      "text/plain": [
       "1.272399840961714"
      ]
     },
     "execution_count": 39,
     "metadata": {},
     "output_type": "execute_result"
    }
   ],
   "source": [
    "rr = df.groupby(\"pna\")[\"in_hospital_mortality\"].mean()[1] / df.groupby(\"pna\")[\"in_hospital_mortality\"].mean()[0]\n",
    "rr"
   ]
  },
  {
   "cell_type": "code",
   "execution_count": null,
   "id": "a3d04bb7",
   "metadata": {},
   "outputs": [],
   "source": []
  },
  {
   "cell_type": "code",
   "execution_count": 40,
   "id": "9ef2d655",
   "metadata": {},
   "outputs": [
    {
     "data": {
      "application/vnd.jupyter.widget-view+json": {
       "model_id": "1826337cc8c44bef98d2b9e7eb261417",
       "version_major": 2,
       "version_minor": 0
      },
      "text/plain": [
       "VBox(children=(HTML(value='What is the relative risk of in-hospital mortality for pneumonia positive vs pneumo…"
      ]
     },
     "metadata": {},
     "output_type": "display_data"
    },
    {
     "data": {
      "text/plain": []
     },
     "execution_count": 40,
     "metadata": {},
     "output_type": "execute_result"
    }
   ],
   "source": [
    "test_in_hospital_mortality_rr = FreeTextTest(\n",
    "    \"What is the relative risk of in-hospital mortality for pneumonia positive vs pneumonia negative patients?</br>Round to 2 decimals.\",\n",
    "    answer=1.27\n",
    "\n",
    ")\n",
    "test_in_hospital_mortality_rr"
   ]
  },
  {
   "cell_type": "code",
   "execution_count": 41,
   "id": "6549094d",
   "metadata": {},
   "outputs": [
    {
     "data": {
      "application/vnd.jupyter.widget-view+json": {
       "model_id": "2f5aa057ac8741b3afe77d653fdcd0be",
       "version_major": 2,
       "version_minor": 0
      },
      "text/plain": [
       "VBox(children=(HTML(value='The interpretation of the relative risk is:</br>Patients with pneumonia are ___ ___…"
      ]
     },
     "metadata": {},
     "output_type": "display_data"
    },
    {
     "data": {
      "text/plain": []
     },
     "execution_count": 41,
     "metadata": {},
     "output_type": "execute_result"
    }
   ],
   "source": [
    "MultipleChoiceQuiz(\"The interpretation of the relative risk is:</br>Patients with pneumonia are ___ ___ than patients without pneumonia to die in the hospital.\", \n",
    "                   answer=\" 1.27 times more likely\",\n",
    "                   options=[\"1.27 times less likely\", \"Similarly likely\"]\n",
    "                  )"
   ]
  },
  {
   "cell_type": "code",
   "execution_count": null,
   "id": "d22551dc",
   "metadata": {},
   "outputs": [],
   "source": []
  }
 ],
 "metadata": {
  "kernelspec": {
   "display_name": "Python 3 (ipykernel)",
   "language": "python",
   "name": "python3"
  },
  "language_info": {
   "codemirror_mode": {
    "name": "ipython",
    "version": 3
   },
   "file_extension": ".py",
   "mimetype": "text/x-python",
   "name": "python",
   "nbconvert_exporter": "python",
   "pygments_lexer": "ipython3",
   "version": "3.9.12"
  }
 },
 "nbformat": 4,
 "nbformat_minor": 5
}
