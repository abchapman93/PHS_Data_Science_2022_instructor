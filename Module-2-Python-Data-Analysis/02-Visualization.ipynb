{
 "cells": [
  {
   "cell_type": "markdown",
   "id": "f142f65f",
   "metadata": {},
   "source": [
    "<html>\n",
    "<table width=\"100%\" cellspacing=\"2\" cellpadding=\"2\" border=\"1\">\n",
    "<tbody>\n",
    "<tr>\n",
    "<td valign=\"center\" align=\"center\" width=\"45%\"><img src=\"../media/Univ-Utah.jpeg\"><br>\n",
    "</td>\n",
    "    <td valign=\"center\" align=\"center\" width=\"75%\">\n",
    "<h1 align=\"center\"><font size=\"+1\">University of Utah<br>Population Health Sciences<br>Data Science Workshop</font></h1></td>\n",
    "<td valign=\"center\" align=\"center\" width=\"45%\"><img\n",
    "src=\"../media/U_Health_stacked_png_red.png\" alt=\"Utah Health\n",
    "Logo\" width=\"128\" height=\"134\"><br>\n",
    "</td>\n",
    "</tr>\n",
    "</tbody>\n",
    "</table>\n",
    "<br>\n",
    "</html>\n"
   ]
  },
  {
   "cell_type": "markdown",
   "id": "ad900163",
   "metadata": {},
   "source": [
    "# Visualization in Python\n",
    "We already saw a few examples of making visualizations using `pandas` dataframes. But sometimes we want to customize things a little more or work with other types of datasets. In this notebook, we'll learn how to use the packages `matplotlib` and `seaborn`."
   ]
  },
  {
   "cell_type": "code",
   "execution_count": 7,
   "id": "ebee6ea0",
   "metadata": {},
   "outputs": [],
   "source": [
    "from helpers import *"
   ]
  },
  {
   "cell_type": "markdown",
   "id": "6ba025cc",
   "metadata": {},
   "source": [
    "## Installation\n",
    "You may need to install these packages first. \n",
    "\n",
    "#### TODO\n",
    "Edit the cells below to install matplotlib and seaborn."
   ]
  },
  {
   "cell_type": "code",
   "execution_count": null,
   "id": "cbea0fd2",
   "metadata": {
    "scrolled": true
   },
   "outputs": [],
   "source": [
    "!pip install matplotlib\n",
    "# !pip ____ matplotlib"
   ]
  },
  {
   "cell_type": "code",
   "execution_count": null,
   "id": "558e76cd",
   "metadata": {
    "scrolled": true
   },
   "outputs": [],
   "source": [
    "!pip install seaborn\n",
    "# ____"
   ]
  },
  {
   "cell_type": "markdown",
   "id": "dcf2ac62",
   "metadata": {},
   "source": [
    "## Matplotlib \n",
    "# I. matplotlib\n",
    "`matplotlib` is the basic library for creating plots and visualizations in Python. Matplotlib has a comprehensive API which can be a little overwhelming at first, but once you master a few of the basics it can be very powerful. The [matplotlib documentation](https://matplotlib.org/) is very helpful and provides lots of examples you can refer to. \n",
    "\n",
    "In this notebook, we'll see a few basic examples of how to generate and customize plots before adding real data to perform analysis and generate insights.\n",
    "\n",
    "We'll start by importing matplotlib. It's common practice to assign matplotlib the alias of `plt`. We also call a **magic function**, which is specific to IPython enviornments, to display the plots within the Jupyter environment."
   ]
  },
  {
   "cell_type": "code",
   "execution_count": 3,
   "id": "c150c56a",
   "metadata": {},
   "outputs": [],
   "source": [
    "import matplotlib.pyplot as plt\n",
    "\n",
    "# Magic function\n",
    "%matplotlib inline"
   ]
  },
  {
   "cell_type": "markdown",
   "id": "1e01974f",
   "metadata": {},
   "source": [
    "Let's create some data to work with. We'll start with some simple linear data. We'll define `x` and `y` variables of consecutive numbers from 0-4 using the built-in `range` function:"
   ]
  },
  {
   "cell_type": "code",
   "execution_count": 4,
   "id": "4417b1a5",
   "metadata": {},
   "outputs": [],
   "source": [
    "x = range(5)\n",
    "y = range(5)"
   ]
  },
  {
   "cell_type": "markdown",
   "id": "0f23735f",
   "metadata": {},
   "source": [
    "Now let's plot `x` and `y` together. To do this, we call the `plt.plot` method and pass in the two arrays as positional arguments:"
   ]
  },
  {
   "cell_type": "code",
   "execution_count": 5,
   "id": "3d3eb4a0",
   "metadata": {},
   "outputs": [
    {
     "data": {
      "text/plain": [
       "[<matplotlib.lines.Line2D at 0x7f85b1f38520>]"
      ]
     },
     "execution_count": 5,
     "metadata": {},
     "output_type": "execute_result"
    },
    {
     "data": {
      "image/png": "[encoded data removed]",
      "text/plain": [
       "<Figure size 432x288 with 1 Axes>"
      ]
     },
     "metadata": {
      "needs_background": "light"
     },
     "output_type": "display_data"
    }
   ],
   "source": [
    "plt.plot(x, y)"
   ]
  },
  {
   "cell_type": "markdown",
   "id": "a4363ea0",
   "metadata": {},
   "source": [
    "Matplotlib assigns default values for visualization properties like color and linestyle. But we can customize this using **keyword arguments** in the `plt.plot` method. Let's plot `x` and `y` again, but modify some of the following properties:\n",
    "\n",
    "- `marker`: What symbol to use as a marker for each data point (default is none)\n",
    "- `markersize`: How large to make the datapoint markers\n",
    "- `color`: The color to use for the line and markers. Colors can be represented as either:\n",
    "    - **RGB**: (31,119,180)\n",
    "    - **hex strings**: \"#1f77b4\" \n",
    "    - **Color palette abbreviations**: **\"C0\"** - **\"C9\"** (see [this page](https://matplotlib.org/users/dflt_style_changes.html) for examples\n",
    "    - **Name strings**: \"blue\", \"green\", etc.\n",
    "- `linestyle`: Default is a solid line\n",
    "\n",
    "After we generate the plot, we can call other methods to change additional properties of the plot. For example, we can add a title and label the two axes. This allows us to give our audience a clearer explanation of our visualization.\n",
    "\n",
    "#### TODO\n",
    "In the call to `plt.plot` below, pass in the following keyword arguments: \n",
    "- Set `marker` equal to `\"o\"`\n",
    "- Set `color` to `\"C1\"`\n",
    "- Set `linestyle` to `\"--\"`\n",
    "\n",
    "What do each of these arguments do?\n",
    "\n",
    "Then, after creating the plot, set the x label to read **\"X-axis\"** and the ylabel to read **\"Y-axis\"**.\n",
    "\n"
   ]
  },
  {
   "cell_type": "code",
   "execution_count": 10,
   "id": "c0af23dd",
   "metadata": {},
   "outputs": [
    {
     "data": {
      "application/vnd.jupyter.widget-view+json": {
       "model_id": "b4ab55c9c4384d83bdbe2555963b8215",
       "version_major": 2,
       "version_minor": 0
      },
      "text/plain": [
       "VBox(children=(HTML(value='</br><strong>Displaying hint 1/1</strong>'), Output(), Button(description='Get hint…"
      ]
     },
     "metadata": {},
     "output_type": "display_data"
    },
    {
     "data": {
      "text/plain": []
     },
     "execution_count": 10,
     "metadata": {},
     "output_type": "execute_result"
    }
   ],
   "source": [
    "# RUN CELL TO SEE HINT\n",
    "hint_change_plt_kwargs"
   ]
  },
  {
   "cell_type": "code",
   "execution_count": 6,
   "id": "137f6da7",
   "metadata": {},
   "outputs": [
    {
     "data": {
      "text/plain": [
       "Text(0, 0.5, 'Y-axis')"
      ]
     },
     "execution_count": 6,
     "metadata": {},
     "output_type": "execute_result"
    },
    {
     "data": {
      "image/png": "[encoded data removed]",
      "text/plain": [
       "<Figure size 432x288 with 1 Axes>"
      ]
     },
     "metadata": {
      "needs_background": "light"
     },
     "output_type": "display_data"
    }
   ],
   "source": [
    "plt.plot(x, y, marker=\"o\", markersize=12, color=\"C1\", linestyle=\"--\")\n",
    "plt.title(\"A line plot\")\n",
    "plt.xlabel(\"X-axis\")\n",
    "plt.ylabel(\"Y-axis\")"
   ]
  },
  {
   "cell_type": "code",
   "execution_count": null,
   "id": "b2595024",
   "metadata": {},
   "outputs": [],
   "source": [
    "# plt.plot(x, y, marker=____, markersize=12, ____=\"C1\", ____=____)\n",
    "# plt.title(\"A line plot\")\n",
    "# plt.xlabel(____)\n",
    "# plt.____(____)"
   ]
  },
  {
   "cell_type": "markdown",
   "id": "73add873",
   "metadata": {},
   "source": [
    "The line plot is just one of many types of visualizations. Different types of data are displayed best by different visualizations. Line plots are best for showing **sequential** data, particularly **time series**. \n",
    "\n",
    "Let's explore some other types of visualizations. "
   ]
  },
  {
   "cell_type": "markdown",
   "id": "d5c9c135",
   "metadata": {},
   "source": [
    "## Bar Graphs\n",
    "Bar graphs are often used to directly display the values of numeric values or the counts of categorical variables.\n",
    "\n",
    "The `plt.bar` function takes two arguments: \n",
    "- `x`, the points on the x-axis to plot the bars\n",
    "- `heights`: the size of the bars to graph"
   ]
  },
  {
   "cell_type": "code",
   "execution_count": 11,
   "id": "f1ed1920",
   "metadata": {},
   "outputs": [
    {
     "data": {
      "text/plain": [
       "<BarContainer object of 5 artists>"
      ]
     },
     "execution_count": 11,
     "metadata": {},
     "output_type": "execute_result"
    },
    {
     "data": {
      "image/png": "[encoded data removed]",
      "text/plain": [
       "<Figure size 432x288 with 1 Axes>"
      ]
     },
     "metadata": {
      "needs_background": "light"
     },
     "output_type": "display_data"
    }
   ],
   "source": [
    "plt.bar([0, 1, 2, 3, 4], x)"
   ]
  },
  {
   "cell_type": "markdown",
   "id": "4d4cb529",
   "metadata": {},
   "source": [
    "You can also plot a horizontal bar graph with `plt.barh`:"
   ]
  },
  {
   "cell_type": "code",
   "execution_count": 12,
   "id": "c67b7bd3",
   "metadata": {},
   "outputs": [
    {
     "data": {
      "text/plain": [
       "<BarContainer object of 5 artists>"
      ]
     },
     "execution_count": 12,
     "metadata": {},
     "output_type": "execute_result"
    },
    {
     "data": {
      "image/png": "[encoded data removed]",
      "text/plain": [
       "<Figure size 432x288 with 1 Axes>"
      ]
     },
     "metadata": {
      "needs_background": "light"
     },
     "output_type": "display_data"
    }
   ],
   "source": [
    "plt.barh([0, 1, 2, 3, 4], x)"
   ]
  },
  {
   "cell_type": "markdown",
   "id": "dcf3054b",
   "metadata": {},
   "source": [
    "## Scatter Plot\n",
    "Now let's look at a **scatter plot**. Like a line plot, a scatter plot visualizes the relationship between two different variables, but they aren't expected to be sequential or unique. Let's generate two arrays of random numbers and plot them against each other using a scatterplot:\n",
    "\n",
    "Let's create some new data to work with. First, we import `numpy` and give it the alias `np`. Numpy is another library which we'll see throughout the course and offers utilities for dealing with numbers and statistics. Here, we'll create random `x` and `y` values and plot them against each other:"
   ]
  },
  {
   "cell_type": "code",
   "execution_count": 13,
   "id": "2107afbc",
   "metadata": {},
   "outputs": [],
   "source": [
    "import numpy as np\n",
    "import math"
   ]
  },
  {
   "cell_type": "code",
   "execution_count": 14,
   "id": "18dedc4e",
   "metadata": {},
   "outputs": [],
   "source": [
    "x = np.random.rand(100)\n",
    "y = x + np.random.normal(0, .05, size=len(x))"
   ]
  },
  {
   "cell_type": "markdown",
   "id": "7590b7c0",
   "metadata": {},
   "source": [
    "Now we can plot them using the `plt.scatter` method:"
   ]
  },
  {
   "cell_type": "code",
   "execution_count": 15,
   "id": "fe490a96",
   "metadata": {},
   "outputs": [
    {
     "data": {
      "text/plain": [
       "<matplotlib.collections.PathCollection at 0x7f85d0a02970>"
      ]
     },
     "execution_count": 15,
     "metadata": {},
     "output_type": "execute_result"
    },
    {
     "data": {
      "image/png": "[encoded data removed]",
      "text/plain": [
       "<Figure size 432x288 with 1 Axes>"
      ]
     },
     "metadata": {
      "needs_background": "light"
     },
     "output_type": "display_data"
    }
   ],
   "source": [
    "plt.scatter(x, y)"
   ]
  },
  {
   "cell_type": "code",
   "execution_count": null,
   "id": "b1015112",
   "metadata": {},
   "outputs": [],
   "source": []
  },
  {
   "cell_type": "markdown",
   "id": "5fb975c3",
   "metadata": {},
   "source": [
    "### Plotting multiple datasets\n",
    "If we have multiple different datasets or subsets that we want to compare, we might want to plot them on the same figure and compare them visually. One way to do this is just with consecutive calls of `plt.scatter` (or whatever other function you are using). Matplotlib will automatically adjust the colors for you and we can also label them and add a legend to know which is which:\n",
    "\n",
    "```python\n",
    "plt.plot(x1, y1, label=\"Dataset 1\")\n",
    "plt.plot(x2, y2, label=\"Dataset 2\")\n",
    "plt.legend()\n",
    "```\n",
    "\n",
    "#### TODO\n",
    "Edit the code below to plot `x` against `y2` on the same plot as `x` against `y`. Label the second plot \"Y2\" and add a legend. Title the plot **\"Two non-parallel lines\"**."
   ]
  },
  {
   "cell_type": "code",
   "execution_count": 19,
   "id": "2d266707",
   "metadata": {},
   "outputs": [
    {
     "data": {
      "application/vnd.jupyter.widget-view+json": {
       "model_id": "02b5d6fc813744f9886bf18db2c9ccb4",
       "version_major": 2,
       "version_minor": 0
      },
      "text/plain": [
       "VBox(children=(HTML(value='</br><strong>Displaying hint 0/1</strong>'), Output(), Button(description='Get hint…"
      ]
     },
     "metadata": {},
     "output_type": "display_data"
    },
    {
     "data": {
      "text/plain": []
     },
     "execution_count": 19,
     "metadata": {},
     "output_type": "execute_result"
    }
   ],
   "source": [
    "# RUN CELL TO SEE HINT\n",
    "hint_non_parallel_lines"
   ]
  },
  {
   "cell_type": "code",
   "execution_count": 23,
   "id": "75698c4b",
   "metadata": {},
   "outputs": [
    {
     "data": {
      "text/plain": [
       "<matplotlib.legend.Legend at 0x7f85b32efaf0>"
      ]
     },
     "execution_count": 23,
     "metadata": {},
     "output_type": "execute_result"
    },
    {
     "data": {
      "image/png": "[encoded data removed]",
      "text/plain": [
       "<Figure size 432x288 with 1 Axes>"
      ]
     },
     "metadata": {},
     "output_type": "display_data"
    }
   ],
   "source": [
    "y2 = -1*x + 2 + np.random.normal(0, .01, size=len(x))\n",
    "plt.scatter(x=x, y=y, label=\"Y1\")\n",
    "plt.scatter(x=x, y=y2, label=\"Y2\")\n",
    "plt.title(\"Two non-paralell lines\")\n",
    "plt.legend()"
   ]
  },
  {
   "cell_type": "code",
   "execution_count": null,
   "id": "a69d7930",
   "metadata": {},
   "outputs": [],
   "source": [
    "# y2 = -1*x + 2 + np.random.normal(0, .01, size=len(x))\n",
    "# plt.scatter(x=x, y=y, label=\"Y1\")\n",
    "# plt.scatter(x=__, =__, __=__)\n",
    "# plt.title(____)\n",
    "# ____ # Add a legend"
   ]
  },
  {
   "cell_type": "code",
   "execution_count": null,
   "id": "b69ff328",
   "metadata": {},
   "outputs": [],
   "source": []
  },
  {
   "cell_type": "markdown",
   "id": "4765e868",
   "metadata": {},
   "source": [
    "# II. seaborn\n",
    "\n",
    "Matplotlib is often combined with the library `seaborn`, which offers additional style and plotting utilities. You can change the default plotting styles by calling `sns.set()`. This will add some additional color to your plots. Now when we call a matplotlib function, there are some new style properties automatically implemented.\n",
    "\n",
    "Seaborn has many similar plotting functions to matplotlib. Some of the ones we'll use are:\n",
    "- `sns.scatterplot`\n",
    "- `sns.countplot`: Bar graph showing the counts of a categorical variable\n",
    "- `sns.distplot`: Histograms\n",
    "- `sns.boxplot`\n",
    "- `sns.barplot`\n",
    "\n",
    "#### TODO\n",
    "Import `seaborn` with the alias `sns`, then call `sns.set()`."
   ]
  },
  {
   "cell_type": "code",
   "execution_count": 21,
   "id": "eddcdc99",
   "metadata": {},
   "outputs": [],
   "source": [
    "import seaborn as sns\n",
    "sns.set()"
   ]
  },
  {
   "cell_type": "code",
   "execution_count": null,
   "id": "09846fc0",
   "metadata": {},
   "outputs": [],
   "source": [
    "____\n",
    "sns.__()"
   ]
  },
  {
   "cell_type": "markdown",
   "id": "5f6a9a5c",
   "metadata": {},
   "source": [
    "#### TODO\n",
    "Plot `x` against `y` and `y2` using `sns.scatterplot`. What changed now that we're using `seaborn`?"
   ]
  },
  {
   "cell_type": "code",
   "execution_count": 29,
   "id": "6948e91e",
   "metadata": {},
   "outputs": [
    {
     "data": {
      "application/vnd.jupyter.widget-view+json": {
       "model_id": "3390b4faf86443c4ad1cc26452599501",
       "version_major": 2,
       "version_minor": 0
      },
      "text/plain": [
       "VBox(children=(HTML(value='</br><strong>Displaying hint 1/1</strong>'), Output(), Button(description='Get hint…"
      ]
     },
     "metadata": {},
     "output_type": "display_data"
    },
    {
     "data": {
      "text/plain": []
     },
     "execution_count": 29,
     "metadata": {},
     "output_type": "execute_result"
    }
   ],
   "source": [
    "# RUN CELL TO SEE HINT\n",
    "hint_non_parallel_lines_seaborn"
   ]
  },
  {
   "cell_type": "code",
   "execution_count": 24,
   "id": "bceb4860",
   "metadata": {},
   "outputs": [
    {
     "data": {
      "text/plain": [
       "<matplotlib.legend.Legend at 0x7f85d17f3610>"
      ]
     },
     "execution_count": 24,
     "metadata": {},
     "output_type": "execute_result"
    },
    {
     "data": {
      "image/png": "[encoded data removed]",
      "text/plain": [
       "<Figure size 432x288 with 1 Axes>"
      ]
     },
     "metadata": {},
     "output_type": "display_data"
    }
   ],
   "source": [
    "y2 = -1*x + 2 + np.random.normal(0, .01, size=len(x))\n",
    "sns.scatterplot(x=x, y=y, label=\"Y1\")\n",
    "sns.scatterplot(x=x, y=y2, label=\"Y2\")\n",
    "plt.title(\"Two non-paralell lines\")\n",
    "plt.legend()"
   ]
  },
  {
   "cell_type": "code",
   "execution_count": 26,
   "id": "ef56520e",
   "metadata": {},
   "outputs": [],
   "source": [
    "# sns.____(x=x, y=y, label=\"Y1\")\n",
    "# __.____(x=x, y=__, label=\"Y2\")\n",
    "# plt.title(\"Two non-paralell lines\")\n",
    "# plt.legend()"
   ]
  },
  {
   "cell_type": "markdown",
   "id": "9a8117ec",
   "metadata": {},
   "source": [
    "## Histograms\n",
    "**Histograms** show the distribution of a dataset. It splits a population up into discrete **bins**, where each bin represents a range of values, and displays the count of how many data points fit in that range.\n",
    "\n",
    "#### TODO\n",
    "Seaborn's function for a histogram is called `sns.distplot`. Plot a histogram of `y3` below:"
   ]
  },
  {
   "cell_type": "code",
   "execution_count": 37,
   "id": "4610fb82",
   "metadata": {},
   "outputs": [
    {
     "data": {
      "application/vnd.jupyter.widget-view+json": {
       "model_id": "9b3d4471c1a5495db517a9268e229f1e",
       "version_major": 2,
       "version_minor": 0
      },
      "text/plain": [
       "VBox(children=(HTML(value='</br><strong>Displaying hint 1/1</strong>'), Output(), Button(description='Get hint…"
      ]
     },
     "metadata": {},
     "output_type": "display_data"
    },
    {
     "data": {
      "text/plain": []
     },
     "execution_count": 37,
     "metadata": {},
     "output_type": "execute_result"
    }
   ],
   "source": [
    "# RUN CELL TO SEE QUIZ\n",
    "hint_distplot"
   ]
  },
  {
   "cell_type": "code",
   "execution_count": 38,
   "id": "e93a293d",
   "metadata": {},
   "outputs": [],
   "source": [
    "y3 = np.random.normal(size=1000)"
   ]
  },
  {
   "cell_type": "code",
   "execution_count": 39,
   "id": "b6f03033",
   "metadata": {},
   "outputs": [
    {
     "name": "stderr",
     "output_type": "stream",
     "text": [
      "/Users/alecchapman/opt/miniconda3/envs/phs/lib/python3.9/site-packages/seaborn/distributions.py:2619: FutureWarning: `distplot` is a deprecated function and will be removed in a future version. Please adapt your code to use either `displot` (a figure-level function with similar flexibility) or `histplot` (an axes-level function for histograms).\n",
      "  warnings.warn(msg, FutureWarning)\n"
     ]
    },
    {
     "data": {
      "text/plain": [
       "<AxesSubplot:ylabel='Density'>"
      ]
     },
     "execution_count": 39,
     "metadata": {},
     "output_type": "execute_result"
    },
    {
     "data": {
      "image/png": "[encoded data removed]",
      "text/plain": [
       "<Figure size 432x288 with 1 Axes>"
      ]
     },
     "metadata": {},
     "output_type": "display_data"
    }
   ],
   "source": [
    "sns.distplot(y3)"
   ]
  },
  {
   "cell_type": "code",
   "execution_count": 40,
   "id": "0e33d737",
   "metadata": {},
   "outputs": [],
   "source": [
    "# __.____(__)"
   ]
  },
  {
   "cell_type": "markdown",
   "id": "3b136601",
   "metadata": {},
   "source": [
    "## Countplots\n",
    "`sns.countplot()` shows the counts of how many times a value occurs in a column. This is similar to using a histogram but is better for categorical values. Just like barplots we can use a horizontal or vertical orientation by switching which column should go on the `x` or `y` axis:"
   ]
  },
  {
   "cell_type": "code",
   "execution_count": 43,
   "id": "3a6fcfb0",
   "metadata": {},
   "outputs": [
    {
     "data": {
      "text/plain": [
       "<AxesSubplot:ylabel='count'>"
      ]
     },
     "execution_count": 43,
     "metadata": {},
     "output_type": "execute_result"
    },
    {
     "data": {
      "image/png": "[encoded data removed]",
      "text/plain": [
       "<Figure size 432x288 with 1 Axes>"
      ]
     },
     "metadata": {},
     "output_type": "display_data"
    }
   ],
   "source": [
    "poisson_counts = np.random.poisson(size=10000)\n",
    "sns.countplot(x=poisson_counts)"
   ]
  },
  {
   "cell_type": "markdown",
   "id": "2e493515",
   "metadata": {},
   "source": [
    "#### TODO\n",
    "Plot a horizontal bar graph of `poisson_counts`."
   ]
  },
  {
   "cell_type": "code",
   "execution_count": 45,
   "id": "4d2c2d93",
   "metadata": {},
   "outputs": [
    {
     "data": {
      "application/vnd.jupyter.widget-view+json": {
       "model_id": "c9010856e7014c0f9a735fbe44dee518",
       "version_major": 2,
       "version_minor": 0
      },
      "text/plain": [
       "VBox(children=(HTML(value='</br><strong>Displaying hint 1/1</strong>'), Output(), Button(description='Get hint…"
      ]
     },
     "metadata": {},
     "output_type": "display_data"
    },
    {
     "data": {
      "text/plain": []
     },
     "execution_count": 45,
     "metadata": {},
     "output_type": "execute_result"
    }
   ],
   "source": [
    "# RUN CELL TO SEE HINT\n",
    "hint_pois_barh"
   ]
  },
  {
   "cell_type": "code",
   "execution_count": 42,
   "id": "62109f28",
   "metadata": {},
   "outputs": [
    {
     "data": {
      "text/plain": [
       "<AxesSubplot:xlabel='count'>"
      ]
     },
     "execution_count": 42,
     "metadata": {},
     "output_type": "execute_result"
    },
    {
     "data": {
      "image/png": "[encoded data removed]",
      "text/plain": [
       "<Figure size 432x288 with 1 Axes>"
      ]
     },
     "metadata": {},
     "output_type": "display_data"
    }
   ],
   "source": [
    "sns.countplot(y=poisson_counts)"
   ]
  },
  {
   "cell_type": "code",
   "execution_count": null,
   "id": "6c70aa8b",
   "metadata": {},
   "outputs": [],
   "source": []
  },
  {
   "cell_type": "markdown",
   "id": "6b4936a2",
   "metadata": {},
   "source": [
    "## Plotting with datasets\n",
    "If we have a dataset, we can just specify the names of the columns we want to plot and pass in a DataFrame as the `data` argument:\n",
    "\n",
    "```python\n",
    "sns.plot(x=\"x_name\", y=\"y_name\", data=df)\n",
    "```\n",
    "\n",
    "#### TODO\n",
    "Import pandas and read in the patient roster from the file **\"../data/ed_patient_poster.csv\"**. Then plot **\"name\"** vs **\"severity\"** using `sns.barplot` with using the `data` argument."
   ]
  },
  {
   "cell_type": "code",
   "execution_count": 50,
   "id": "61f64ded",
   "metadata": {},
   "outputs": [
    {
     "data": {
      "application/vnd.jupyter.widget-view+json": {
       "model_id": "cd625c7fc8a64443ab53f274fb81fb9e",
       "version_major": 2,
       "version_minor": 0
      },
      "text/plain": [
       "VBox(children=(HTML(value='</br><strong>Displaying hint 1/1</strong>'), Output(), Button(description='Get hint…"
      ]
     },
     "metadata": {},
     "output_type": "display_data"
    },
    {
     "data": {
      "text/plain": []
     },
     "execution_count": 50,
     "metadata": {},
     "output_type": "execute_result"
    }
   ],
   "source": [
    "# RUN CELL TO SEE HINT\n",
    "hint_severity_plot"
   ]
  },
  {
   "cell_type": "code",
   "execution_count": 46,
   "id": "f1ce8345",
   "metadata": {},
   "outputs": [],
   "source": [
    "import pandas as pd\n",
    "df = pd.read_csv(\"../data/ed_patient_poster.csv\")"
   ]
  },
  {
   "cell_type": "code",
   "execution_count": 47,
   "id": "7896de4f",
   "metadata": {},
   "outputs": [
    {
     "data": {
      "text/plain": [
       "<AxesSubplot:xlabel='name', ylabel='severity'>"
      ]
     },
     "execution_count": 47,
     "metadata": {},
     "output_type": "execute_result"
    },
    {
     "data": {
      "image/png": "[encoded data removed]",
      "text/plain": [
       "<Figure size 432x288 with 1 Axes>"
      ]
     },
     "metadata": {},
     "output_type": "display_data"
    }
   ],
   "source": [
    "sns.barplot(x=\"name\", y=\"severity\", data=df)"
   ]
  },
  {
   "cell_type": "code",
   "execution_count": null,
   "id": "07607eea",
   "metadata": {},
   "outputs": [],
   "source": [
    "# sns.barplot(x=\"__\", __=\"__\", __=__)"
   ]
  },
  {
   "cell_type": "code",
   "execution_count": null,
   "id": "dbf2c161",
   "metadata": {},
   "outputs": [],
   "source": []
  },
  {
   "cell_type": "code",
   "execution_count": null,
   "id": "dddc781f",
   "metadata": {},
   "outputs": [],
   "source": []
  }
 ],
 "metadata": {
  "kernelspec": {
   "display_name": "Python 3 (ipykernel)",
   "language": "python",
   "name": "python3"
  },
  "language_info": {
   "codemirror_mode": {
    "name": "ipython",
    "version": 3
   },
   "file_extension": ".py",
   "mimetype": "text/x-python",
   "name": "python",
   "nbconvert_exporter": "python",
   "pygments_lexer": "ipython3",
   "version": "3.9.12"
  }
 },
 "nbformat": 4,
 "nbformat_minor": 5
}
