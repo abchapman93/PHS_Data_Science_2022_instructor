{
 "cells": [
  {
   "cell_type": "markdown",
   "id": "f142f65f",
   "metadata": {},
   "source": [
    "<html>\n",
    "<table width=\"100%\" cellspacing=\"2\" cellpadding=\"2\" border=\"1\">\n",
    "<tbody>\n",
    "<tr>\n",
    "<td valign=\"center\" align=\"center\" width=\"45%\"><img src=\"../media/Univ-Utah.jpeg\"><br>\n",
    "</td>\n",
    "    <td valign=\"center\" align=\"center\" width=\"75%\">\n",
    "<h1 align=\"center\"><font size=\"+1\">University of Utah<br>Population Health Sciences<br>Data Science Workshop</font></h1></td>\n",
    "<td valign=\"center\" align=\"center\" width=\"45%\"><img\n",
    "src=\"../media/U_Health_stacked_png_red.png\" alt=\"Utah Health\n",
    "Logo\" width=\"128\" height=\"134\"><br>\n",
    "</td>\n",
    "</tr>\n",
    "</tbody>\n",
    "</table>\n",
    "<br>\n",
    "</html>\n"
   ]
  },
  {
   "cell_type": "markdown",
   "id": "d42912cc",
   "metadata": {},
   "source": [
    "# Python Packages\n",
    "In the last notebook we saw how to write our own functions to manipulate data. That's helpful for when we have common manipulations we need to perform multiple times. But we don't want to write functions for every single data analysis task. Instead, we can leverage code written by other people in the Python communities.\n",
    "\n",
    "**Packages** (also called **libraries**) are collections of functions and other Python code, *packaged* together and distributed for the open-source community to use. Packages contain smaller sets of functionality called **modules** and we may sometimes refer to them interchangably here. In this notebook, we'll look at a few of the most important packages in Python for data science.\n",
    "- `numpy`\n",
    "- `pandas`\n",
    "- `matplotlib` and `seaborn`"
   ]
  },
  {
   "cell_type": "markdown",
   "id": "5ffd2307",
   "metadata": {},
   "source": [
    "## Importing packages\n",
    "To use a package in Python, we first have to *import* it. The syntax for this is:\n",
    "\n",
    "```python\n",
    "import package_name\n",
    "```\n",
    "\n",
    "Without getting too technical, this loads  the library into your namespace and you can access all the contents of the library (functions, classes, etc.) as:\n",
    "\n",
    "```python\n",
    "package_name.function_name()\n",
    "```\n",
    "\n",
    "---\n",
    "#### Comparison with R\n",
    "\n",
    "This is the Python equivalent of R's `library(...)` function. A major difference between how R and python imports packages is that in R, calling `library(...)` directly loads all of package's contents to your namespace. For example, if you call `library(dplyr)`, you can directly access functions like `group_by`:\n",
    "\n",
    "```r\n",
    "# R\n",
    "library(tidyverse)\n",
    "df <- read_csv(...) %>% # read_csv, %>% loaded from tidyverse packages\n",
    "    group_by(subject_id) %>% # group_by is from dplyr\n",
    "    summarise(n=count())\n",
    "```\n",
    "\n",
    "In Python, the functions and classes are underneath the higher-level `module` object:\n",
    "\n",
    "```python\n",
    "# python\n",
    "import pandas\n",
    "df = pandas.read_csv(...) # read_csv needs to be accessed through `pandas.read_csv`\n",
    "df = df.group_by(\"subject_id\").agg{\"dt\": len} # The other methods are accessed through the dataframe object\n",
    "```\n",
    "\n",
    "---"
   ]
  },
  {
   "cell_type": "markdown",
   "id": "1cf923fb",
   "metadata": {},
   "source": [
    "Instead of importing a module, we can import all of the contents of the module as:\n",
    "\n",
    "```python\n",
    "from package_name import *\n",
    "```\n",
    "\n",
    "The asterisk \"\\*\" means: \"Import everything that is defined in `package_name`. So if you did this in the example above, you could run:\n",
    "\n",
    "\n",
    "```python\n",
    "from pandas import *\n",
    "df = read_csv(...) # Now we can just call read_csv directly\n",
    "```\n",
    "\n",
    "This is typically not recommended, but can sometimes be useful. In fact, we've already seen an example of this in our previous notebooks. Most of the notebooks today have had the following line of code:"
   ]
  },
  {
   "cell_type": "code",
   "execution_count": 1,
   "id": "4feda285",
   "metadata": {},
   "outputs": [],
   "source": [
    "from helpers import *"
   ]
  },
  {
   "cell_type": "markdown",
   "id": "e16da004",
   "metadata": {},
   "source": [
    "This line of code imports all of the contents of a local module called `helpers` that I created to implement quizzes and helper functions. You can see the code I wrote by opening up the file `helpers.py` in the `module_1` directory."
   ]
  },
  {
   "cell_type": "markdown",
   "id": "c7599fed",
   "metadata": {},
   "source": [
    "#### TODO\n",
    "Open up the file `module_1/helpers.py`. Copy and paste the code from line 4 of this file into the quiz below."
   ]
  },
  {
   "cell_type": "code",
   "execution_count": 2,
   "id": "b30958cc",
   "metadata": {},
   "outputs": [
    {
     "data": {
      "application/vnd.jupyter.widget-view+json": {
       "model_id": "62f9a1938d16419799425e47eb4b8f17",
       "version_major": 2,
       "version_minor": 0
      },
      "text/plain": [
       "VBox(children=(HTML(value=''), Textarea(value='', placeholder='Type something'), Button(description='Submit', …"
      ]
     },
     "metadata": {},
     "output_type": "display_data"
    },
    {
     "data": {
      "text/plain": []
     },
     "execution_count": 2,
     "metadata": {},
     "output_type": "execute_result"
    }
   ],
   "source": [
    "FreeTextTest(answer=\"from quizzes.module_1_quizzes import *\")"
   ]
  },
  {
   "cell_type": "markdown",
   "id": "941192d2",
   "metadata": {},
   "source": [
    "What does the line of code from `helpers.py` do?"
   ]
  },
  {
   "cell_type": "code",
   "execution_count": 3,
   "id": "b928c1fd",
   "metadata": {},
   "outputs": [
    {
     "data": {
      "application/vnd.jupyter.widget-view+json": {
       "model_id": "7bf53d7a07724c999c739a30a4935eb3",
       "version_major": 2,
       "version_minor": 0
      },
      "text/plain": [
       "VBox(children=(HTML(value=''), RadioButtons(options=('Imports a the contents of module_1_quizzes', 'Imports a …"
      ]
     },
     "metadata": {},
     "output_type": "display_data"
    },
    {
     "data": {
      "text/plain": []
     },
     "execution_count": 3,
     "metadata": {},
     "output_type": "execute_result"
    }
   ],
   "source": [
    "MultipleChoiceQuiz(answer=\"Imports a the contents of module_1_quizzes\", options=[\"Imports a module called module_1_quizzes\",\n",
    "                                                                                \"It is there for decoration.\"])"
   ]
  },
  {
   "cell_type": "markdown",
   "id": "94d114a1",
   "metadata": {},
   "source": [
    "## Specific packages\n",
    "Let's get comfortable using some popular Python packages."
   ]
  },
  {
   "cell_type": "markdown",
   "id": "c25f5eac",
   "metadata": {},
   "source": [
    "## `numpy`\n",
    "`numpy` is maybe the foundational Python package for data science. `numpy` implements methods for arrays and matrices and allows us to perform mathematical operations on them. It also implements important functions for calculating summary statistics from our data\n",
    "\n",
    "First, we import the library. Then we can access functions in the library using `numpy.function_name`."
   ]
  },
  {
   "cell_type": "code",
   "execution_count": 4,
   "id": "8bf6a3cd",
   "metadata": {},
   "outputs": [],
   "source": [
    "import numpy"
   ]
  },
  {
   "cell_type": "markdown",
   "id": "a98d3099",
   "metadata": {},
   "source": [
    "`numpy` has a `mean` function, so we don't need to write our own function to calculate averages. Here's how to use numpy to calculate the mean of a list we saw in a previous notebook."
   ]
  },
  {
   "cell_type": "code",
   "execution_count": 5,
   "id": "ea8dceb9",
   "metadata": {},
   "outputs": [
    {
     "data": {
      "text/plain": [
       "3.8"
      ]
     },
     "execution_count": 5,
     "metadata": {},
     "output_type": "execute_result"
    }
   ],
   "source": [
    "a = [4, 0, 2, 2, 0, 10, 7, 8, 5, 0]\n",
    "numpy.mean(a)"
   ]
  },
  {
   "cell_type": "markdown",
   "id": "5f02c5c3",
   "metadata": {},
   "source": [
    "Sometimes we use a library so much we don't want to type its whole name every time. So for some libraries (including numpy), it's standard practice to assign an **alias** by saying:\n",
    "\n",
    "```python\n",
    "import package_name as alias\n",
    "```\n",
    "\n",
    "Then we use `alias.function_name` in our code. \n",
    "\n",
    "For `numpy`, we typically refer to it as `np`:"
   ]
  },
  {
   "cell_type": "code",
   "execution_count": 6,
   "id": "10f31a4a",
   "metadata": {},
   "outputs": [
    {
     "data": {
      "text/plain": [
       "3.8"
      ]
     },
     "execution_count": 6,
     "metadata": {},
     "output_type": "execute_result"
    }
   ],
   "source": [
    "import numpy as np\n",
    "np.mean(a)"
   ]
  },
  {
   "cell_type": "code",
   "execution_count": 7,
   "id": "db160b48",
   "metadata": {},
   "outputs": [
    {
     "data": {
      "text/plain": [
       "3.4292856398964493"
      ]
     },
     "execution_count": 7,
     "metadata": {},
     "output_type": "execute_result"
    }
   ],
   "source": [
    "np.std(a)"
   ]
  },
  {
   "cell_type": "markdown",
   "id": "cd4a591f",
   "metadata": {},
   "source": [
    "If you only need to use one particular function in a library, instead of importing the entire package you can just import the function you want (again with or without an alias):\n",
    "\n",
    "```python\n",
    "from package_name import function_name\n",
    "from package_name import function_name as alias\n",
    "```"
   ]
  },
  {
   "cell_type": "markdown",
   "id": "b3818a4a",
   "metadata": {},
   "source": [
    "#### TODO\n",
    "Import the `std` function from numpy and assign it an alias of `sd` so it matches what we're used to in R."
   ]
  },
  {
   "cell_type": "code",
   "execution_count": 8,
   "id": "8e430d2c",
   "metadata": {},
   "outputs": [],
   "source": [
    "from numpy import std as sd"
   ]
  },
  {
   "cell_type": "code",
   "execution_count": 9,
   "id": "792e17a3",
   "metadata": {},
   "outputs": [],
   "source": [
    "def validate_np_sd(func):\n",
    "    import numpy\n",
    "    try:\n",
    "        assert func is np.std\n",
    "        print(\"That is correct!\")\n",
    "    except AssertionError:\n",
    "        print(\"That is incorrect. Check your sd function.\")\n",
    "    \n"
   ]
  },
  {
   "cell_type": "code",
   "execution_count": 10,
   "id": "48ce4d42",
   "metadata": {},
   "outputs": [
    {
     "name": "stdout",
     "output_type": "stream",
     "text": [
      "That is correct!\n"
     ]
    }
   ],
   "source": [
    "test_np_sd = FunctionTest(validation_func=validate_np_sd)\n",
    "test_np_sd.test(sd)"
   ]
  },
  {
   "cell_type": "code",
   "execution_count": 11,
   "id": "d1603446",
   "metadata": {},
   "outputs": [
    {
     "data": {
      "text/plain": [
       "3.4292856398964493"
      ]
     },
     "execution_count": 11,
     "metadata": {},
     "output_type": "execute_result"
    }
   ],
   "source": [
    "sd(a)"
   ]
  },
  {
   "cell_type": "code",
   "execution_count": 12,
   "id": "d055cf8e",
   "metadata": {},
   "outputs": [
    {
     "data": {
      "text/plain": [
       "True"
      ]
     },
     "execution_count": 12,
     "metadata": {},
     "output_type": "execute_result"
    }
   ],
   "source": [
    "sd is np.std"
   ]
  },
  {
   "cell_type": "code",
   "execution_count": null,
   "id": "79d7b813",
   "metadata": {},
   "outputs": [],
   "source": []
  },
  {
   "cell_type": "markdown",
   "id": "ff616cee",
   "metadata": {},
   "source": [
    "### Arrays and matrices\n",
    "One of the most important contributions of `numpy` is its implementation of `arrays`. Arrays are similar to lists, but with a lot of important extensions:\n",
    "\n",
    "- They have mathematical operations defined on them that allows for easy and efficient data manipulation\n",
    "- The can have multiple **axes** (i.e., rows and columns), allowing us to build matrices"
   ]
  },
  {
   "cell_type": "code",
   "execution_count": 13,
   "id": "9178ebad",
   "metadata": {},
   "outputs": [
    {
     "data": {
      "text/plain": [
       "array([ 4,  0,  2,  2,  0, 10,  7,  8,  5,  0])"
      ]
     },
     "execution_count": 13,
     "metadata": {},
     "output_type": "execute_result"
    }
   ],
   "source": [
    "a_arr = np.array(a)\n",
    "a_arr"
   ]
  },
  {
   "cell_type": "code",
   "execution_count": 14,
   "id": "6c46a635",
   "metadata": {},
   "outputs": [
    {
     "data": {
      "text/plain": [
       "numpy.ndarray"
      ]
     },
     "execution_count": 14,
     "metadata": {},
     "output_type": "execute_result"
    }
   ],
   "source": [
    "numpy.ndarray"
   ]
  },
  {
   "cell_type": "markdown",
   "id": "b82e8a7e",
   "metadata": {},
   "source": [
    "We can calculate the sum, mean, and standard deviation of the array using the appropriate methods:"
   ]
  },
  {
   "cell_type": "code",
   "execution_count": 15,
   "id": "581cc24d",
   "metadata": {},
   "outputs": [
    {
     "data": {
      "text/plain": [
       "38"
      ]
     },
     "execution_count": 15,
     "metadata": {},
     "output_type": "execute_result"
    }
   ],
   "source": [
    "a_arr.sum()"
   ]
  },
  {
   "cell_type": "code",
   "execution_count": 16,
   "id": "50499ccd",
   "metadata": {},
   "outputs": [
    {
     "data": {
      "text/plain": [
       "38"
      ]
     },
     "execution_count": 16,
     "metadata": {},
     "output_type": "execute_result"
    }
   ],
   "source": [
    "# You can also still use python's built-in function\n",
    "sum(a)"
   ]
  },
  {
   "cell_type": "code",
   "execution_count": 17,
   "id": "9013ba5c",
   "metadata": {},
   "outputs": [
    {
     "data": {
      "text/plain": [
       "3.8"
      ]
     },
     "execution_count": 17,
     "metadata": {},
     "output_type": "execute_result"
    }
   ],
   "source": [
    "a_arr.mean()"
   ]
  },
  {
   "cell_type": "code",
   "execution_count": 18,
   "id": "3d241ea7",
   "metadata": {},
   "outputs": [
    {
     "data": {
      "text/plain": [
       "3.4292856398964493"
      ]
     },
     "execution_count": 18,
     "metadata": {},
     "output_type": "execute_result"
    }
   ],
   "source": [
    "a_arr.std()"
   ]
  },
  {
   "cell_type": "markdown",
   "id": "7a77e384",
   "metadata": {},
   "source": [
    "We can also perform element-wise operations on the array (that is, apply a mathematical operation to each individual element of the array and get a new array with the results):"
   ]
  },
  {
   "cell_type": "code",
   "execution_count": 19,
   "id": "b739c4cd",
   "metadata": {},
   "outputs": [
    {
     "data": {
      "text/plain": [
       "array([ 16,   0,   4,   4,   0, 100,  49,  64,  25,   0])"
      ]
     },
     "execution_count": 19,
     "metadata": {},
     "output_type": "execute_result"
    }
   ],
   "source": [
    "# Square the elements\n",
    "a_arr ** 2"
   ]
  },
  {
   "cell_type": "code",
   "execution_count": 20,
   "id": "d2c906f8",
   "metadata": {},
   "outputs": [
    {
     "data": {
      "text/plain": [
       "array([1.33333333, 0.        , 0.66666667, 0.66666667, 0.        ,\n",
       "       3.33333333, 2.33333333, 2.66666667, 1.66666667, 0.        ])"
      ]
     },
     "execution_count": 20,
     "metadata": {},
     "output_type": "execute_result"
    }
   ],
   "source": [
    "# Divide the elements by 3\n",
    "a_arr / 3"
   ]
  },
  {
   "cell_type": "markdown",
   "id": "8fed5e0c",
   "metadata": {},
   "source": [
    "We can see the dimensionality of an array by using the `array.shape` attribute. This tells us that that `a_arr` is a 10x1 vector (the `,` means that there are no columns):"
   ]
  },
  {
   "cell_type": "code",
   "execution_count": 21,
   "id": "ab0f3f04",
   "metadata": {},
   "outputs": [
    {
     "data": {
      "text/plain": [
       "(10,)"
      ]
     },
     "execution_count": 21,
     "metadata": {},
     "output_type": "execute_result"
    }
   ],
   "source": [
    "a_arr.shape"
   ]
  },
  {
   "cell_type": "code",
   "execution_count": null,
   "id": "1ace4c78",
   "metadata": {},
   "outputs": [],
   "source": []
  },
  {
   "cell_type": "markdown",
   "id": "72f5a56e",
   "metadata": {},
   "source": [
    "### Multiple arrays\n",
    "Performing operations on multiple arrays is easier with numpy than with lists. For example, we can add or multiply the elements together:"
   ]
  },
  {
   "cell_type": "code",
   "execution_count": 22,
   "id": "0c337ead",
   "metadata": {},
   "outputs": [],
   "source": [
    "b_arr = np.array([4, 1, 4, 3, 9, 2, 0, 0, 5, 4])"
   ]
  },
  {
   "cell_type": "code",
   "execution_count": 23,
   "id": "38be3da5",
   "metadata": {},
   "outputs": [
    {
     "data": {
      "text/plain": [
       "array([ 8,  1,  6,  5,  9, 12,  7,  8, 10,  4])"
      ]
     },
     "execution_count": 23,
     "metadata": {},
     "output_type": "execute_result"
    }
   ],
   "source": [
    "a_arr + b_arr"
   ]
  },
  {
   "cell_type": "code",
   "execution_count": 24,
   "id": "db864657",
   "metadata": {},
   "outputs": [
    {
     "data": {
      "text/plain": [
       "array([16,  0,  8,  6,  0, 20,  0,  0, 25,  0])"
      ]
     },
     "execution_count": 24,
     "metadata": {},
     "output_type": "execute_result"
    }
   ],
   "source": [
    "a_arr * b_arr"
   ]
  },
  {
   "cell_type": "markdown",
   "id": "fff264e0",
   "metadata": {},
   "source": [
    "Or compute their dot product:"
   ]
  },
  {
   "cell_type": "code",
   "execution_count": 25,
   "id": "6471e26c",
   "metadata": {},
   "outputs": [
    {
     "data": {
      "text/plain": [
       "75"
      ]
     },
     "execution_count": 25,
     "metadata": {},
     "output_type": "execute_result"
    }
   ],
   "source": [
    "a_arr.dot(b_arr)"
   ]
  },
  {
   "cell_type": "markdown",
   "id": "87a3fdad",
   "metadata": {},
   "source": [
    "However, this will throw an error if the shapes of the arrays don't line up:"
   ]
  },
  {
   "cell_type": "code",
   "execution_count": 26,
   "id": "d15c9ac5",
   "metadata": {},
   "outputs": [
    {
     "ename": "ValueError",
     "evalue": "operands could not be broadcast together with shapes (10,) (2,) ",
     "output_type": "error",
     "traceback": [
      "\u001b[0;31m---------------------------------------------------------------------------\u001b[0m",
      "\u001b[0;31mValueError\u001b[0m                                Traceback (most recent call last)",
      "Input \u001b[0;32mIn [26]\u001b[0m, in \u001b[0;36m<cell line: 1>\u001b[0;34m()\u001b[0m\n\u001b[0;32m----> 1\u001b[0m \u001b[43ma_arr\u001b[49m\u001b[43m \u001b[49m\u001b[38;5;241;43m+\u001b[39;49m\u001b[43m \u001b[49m\u001b[43mnp\u001b[49m\u001b[38;5;241;43m.\u001b[39;49m\u001b[43marray\u001b[49m\u001b[43m(\u001b[49m\u001b[43m[\u001b[49m\u001b[38;5;241;43m1\u001b[39;49m\u001b[43m,\u001b[49m\u001b[43m \u001b[49m\u001b[38;5;241;43m2\u001b[39;49m\u001b[43m]\u001b[49m\u001b[43m)\u001b[49m\n",
      "\u001b[0;31mValueError\u001b[0m: operands could not be broadcast together with shapes (10,) (2,) "
     ]
    }
   ],
   "source": [
    "a_arr + np.array([1, 2])"
   ]
  },
  {
   "cell_type": "code",
   "execution_count": null,
   "id": "714d0861",
   "metadata": {},
   "outputs": [],
   "source": []
  },
  {
   "cell_type": "markdown",
   "id": "c3ed7c4c",
   "metadata": {},
   "source": [
    "### Matrices\n",
    "A [**matrix**](https://en.wikipedia.org/wiki/Matrix_(mathematics)) is an array with multiple rows or columns. If we have two arrays, we can create a matrix by calling:\n",
    "\n",
    "`np.array([array1, array2, ...])`\n",
    "\n",
    "The code below creates a matrix using `a_arr` and `b_arr`:"
   ]
  },
  {
   "cell_type": "code",
   "execution_count": 27,
   "id": "8990b680",
   "metadata": {},
   "outputs": [],
   "source": [
    "matrix = np.array([a_arr, b_arr])"
   ]
  },
  {
   "cell_type": "markdown",
   "id": "5d8d7fdf",
   "metadata": {},
   "source": [
    "#### TODO\n",
    "What shape does our new variable `matrix` have?"
   ]
  },
  {
   "cell_type": "code",
   "execution_count": 28,
   "id": "38d32bf2",
   "metadata": {},
   "outputs": [
    {
     "data": {
      "application/vnd.jupyter.widget-view+json": {
       "model_id": "10b8ade588b5495c8111bf30b24d12e1",
       "version_major": 2,
       "version_minor": 0
      },
      "text/plain": [
       "VBox(children=(HTML(value=''), RadioButtons(options=('(10, 2)', '(2, 10)', '(2,)'), value='(10, 2)'), Button(d…"
      ]
     },
     "metadata": {},
     "output_type": "display_data"
    },
    {
     "data": {
      "text/plain": []
     },
     "execution_count": 28,
     "metadata": {},
     "output_type": "execute_result"
    }
   ],
   "source": [
    "MultipleChoiceQuiz(answer=\"(2, 10)\", options=[\"(10, 2)\", \"(2,)\"])"
   ]
  },
  {
   "cell_type": "code",
   "execution_count": 29,
   "id": "5fb7e33f",
   "metadata": {},
   "outputs": [
    {
     "data": {
      "text/plain": [
       "(2, 10)"
      ]
     },
     "execution_count": 29,
     "metadata": {},
     "output_type": "execute_result"
    }
   ],
   "source": [
    "matrix.shape"
   ]
  },
  {
   "cell_type": "markdown",
   "id": "799e2c73",
   "metadata": {},
   "source": [
    "What data type is `matrix`?"
   ]
  },
  {
   "cell_type": "code",
   "execution_count": 30,
   "id": "25529415",
   "metadata": {},
   "outputs": [
    {
     "data": {
      "application/vnd.jupyter.widget-view+json": {
       "model_id": "d8472afe33634358a7efb3f45e7c7a33",
       "version_major": 2,
       "version_minor": 0
      },
      "text/plain": [
       "VBox(children=(HTML(value=''), RadioButtons(options=('numpy.ndarray', 'numpy.matrix', 'list', 'tuple'), value=…"
      ]
     },
     "metadata": {},
     "output_type": "display_data"
    },
    {
     "data": {
      "text/plain": []
     },
     "execution_count": 30,
     "metadata": {},
     "output_type": "execute_result"
    }
   ],
   "source": [
    "MultipleChoiceQuiz(answer=\"numpy.ndarray\", options=[\"numpy.matrix\", \"list\", \"tuple\"])"
   ]
  },
  {
   "cell_type": "code",
   "execution_count": 31,
   "id": "dfbf5121",
   "metadata": {},
   "outputs": [
    {
     "data": {
      "text/plain": [
       "numpy.ndarray"
      ]
     },
     "execution_count": 31,
     "metadata": {},
     "output_type": "execute_result"
    }
   ],
   "source": [
    "type(matrix)"
   ]
  },
  {
   "cell_type": "code",
   "execution_count": null,
   "id": "14732e13",
   "metadata": {},
   "outputs": [],
   "source": []
  },
  {
   "cell_type": "markdown",
   "id": "3024c38b",
   "metadata": {},
   "source": [
    "We can switch the rows and the columns by calling `matrix.transpose()`:"
   ]
  },
  {
   "cell_type": "code",
   "execution_count": 32,
   "id": "397ce8a9",
   "metadata": {},
   "outputs": [
    {
     "data": {
      "text/plain": [
       "array([[ 4,  4],\n",
       "       [ 0,  1],\n",
       "       [ 2,  4],\n",
       "       [ 2,  3],\n",
       "       [ 0,  9],\n",
       "       [10,  2],\n",
       "       [ 7,  0],\n",
       "       [ 8,  0],\n",
       "       [ 5,  5],\n",
       "       [ 0,  4]])"
      ]
     },
     "execution_count": 32,
     "metadata": {},
     "output_type": "execute_result"
    }
   ],
   "source": [
    "matrix.transpose()"
   ]
  },
  {
   "cell_type": "markdown",
   "id": "ed59dc01",
   "metadata": {},
   "source": [
    "#### TODO\n",
    "What shape does `matrix.transpose()` have?"
   ]
  },
  {
   "cell_type": "code",
   "execution_count": 33,
   "id": "a06b4946",
   "metadata": {},
   "outputs": [
    {
     "data": {
      "application/vnd.jupyter.widget-view+json": {
       "model_id": "bd7a5841deb043dfaee2e785b76e5927",
       "version_major": 2,
       "version_minor": 0
      },
      "text/plain": [
       "VBox(children=(HTML(value=''), RadioButtons(options=('(10, 2)', '(10,)', '(2, 10)'), value='(10, 2)'), Button(…"
      ]
     },
     "metadata": {},
     "output_type": "display_data"
    },
    {
     "data": {
      "text/plain": []
     },
     "execution_count": 33,
     "metadata": {},
     "output_type": "execute_result"
    }
   ],
   "source": [
    "MultipleChoiceQuiz(answer=\"(10, 2)\", options=[\"(2, 10)\", \"(10,)\"])"
   ]
  },
  {
   "cell_type": "code",
   "execution_count": null,
   "id": "06cae3e5",
   "metadata": {},
   "outputs": [],
   "source": []
  },
  {
   "cell_type": "markdown",
   "id": "5f5d4139",
   "metadata": {},
   "source": [
    "### Indexing arrays\n",
    "For single-axis arrays, we can index arrays the same way we did with lists:"
   ]
  },
  {
   "cell_type": "code",
   "execution_count": 34,
   "id": "8098d8ac",
   "metadata": {},
   "outputs": [
    {
     "data": {
      "text/plain": [
       "4"
      ]
     },
     "execution_count": 34,
     "metadata": {},
     "output_type": "execute_result"
    }
   ],
   "source": [
    "a_arr[0]"
   ]
  },
  {
   "cell_type": "code",
   "execution_count": 35,
   "id": "77b7432e",
   "metadata": {},
   "outputs": [
    {
     "data": {
      "text/plain": [
       "array([4, 0, 2])"
      ]
     },
     "execution_count": 35,
     "metadata": {},
     "output_type": "execute_result"
    }
   ],
   "source": [
    "a_arr[0:3]"
   ]
  },
  {
   "cell_type": "code",
   "execution_count": 36,
   "id": "fdb36d36",
   "metadata": {},
   "outputs": [
    {
     "data": {
      "text/plain": [
       "array([ 4,  0,  2,  2,  0, 10,  7,  8,  5])"
      ]
     },
     "execution_count": 36,
     "metadata": {},
     "output_type": "execute_result"
    }
   ],
   "source": [
    "a_arr[:-1]"
   ]
  },
  {
   "cell_type": "markdown",
   "id": "c8d748d4",
   "metadata": {},
   "source": [
    "When we have two-axis matrices, we can slice along the rows *and* columns we want. If you just need to slice along the rows, you can index just like you have been:"
   ]
  },
  {
   "cell_type": "code",
   "execution_count": 88,
   "id": "71ca9ac9",
   "metadata": {},
   "outputs": [
    {
     "data": {
      "text/plain": [
       "array([ 4,  0,  2,  2,  0, 10,  7,  8,  5,  0])"
      ]
     },
     "execution_count": 88,
     "metadata": {},
     "output_type": "execute_result"
    }
   ],
   "source": [
    "matrix[0]"
   ]
  },
  {
   "cell_type": "markdown",
   "id": "acd007f4",
   "metadata": {},
   "source": [
    "We can slice along the columns by putting a comma in between the row and column indices.\n",
    "\n",
    "So, for example, to get the value in the first row and first column:"
   ]
  },
  {
   "cell_type": "code",
   "execution_count": 89,
   "id": "7c3a5b97",
   "metadata": {},
   "outputs": [
    {
     "data": {
      "text/plain": [
       "4"
      ]
     },
     "execution_count": 89,
     "metadata": {},
     "output_type": "execute_result"
    }
   ],
   "source": [
    "matrix[0,0]"
   ]
  },
  {
   "cell_type": "markdown",
   "id": "8a1755f4",
   "metadata": {},
   "source": [
    "To get *all* the rows and the first column, we put a colon in the row index and then pass in the column index:"
   ]
  },
  {
   "cell_type": "code",
   "execution_count": 90,
   "id": "f093ddbd",
   "metadata": {},
   "outputs": [
    {
     "data": {
      "text/plain": [
       "array([4, 4])"
      ]
     },
     "execution_count": 90,
     "metadata": {},
     "output_type": "execute_result"
    }
   ],
   "source": [
    "matrix[:,0]"
   ]
  },
  {
   "cell_type": "markdown",
   "id": "df748a87",
   "metadata": {},
   "source": [
    "#### TODO\n",
    "What code would give you only the first *row* and all the columns? Select all that apply."
   ]
  },
  {
   "cell_type": "code",
   "execution_count": 39,
   "id": "deb023a0",
   "metadata": {},
   "outputs": [
    {
     "data": {
      "application/vnd.jupyter.widget-view+json": {
       "model_id": "2870e03a9bce472193a0dc2634a930ab",
       "version_major": 2,
       "version_minor": 0
      },
      "text/plain": [
       "VBox(children=(HTML(value=''), SelectMultiple(options=('matrix[0][:]', 'matrix[0, 0: ]', 'matrix[0:]', 'matrix…"
      ]
     },
     "metadata": {},
     "output_type": "display_data"
    },
    {
     "data": {
      "text/plain": []
     },
     "execution_count": 39,
     "metadata": {},
     "output_type": "execute_result"
    }
   ],
   "source": [
    "test_matrix_first_row_all_cols = SelectMultipleQuiz(answer=[\"matrix[0 , :]\", \"matrix[0, 0: ]\"], options=[\"matrix[0][:]\", \"matrix[0, 0: ]\", \"matrix[0:]\"], shuffle_answer=False)\n",
    "test_matrix_first_row_all_cols"
   ]
  },
  {
   "cell_type": "code",
   "execution_count": null,
   "id": "820e628f",
   "metadata": {},
   "outputs": [],
   "source": []
  },
  {
   "cell_type": "markdown",
   "id": "28c5a1c0",
   "metadata": {},
   "source": [
    "## Pandas\n",
    "The second package we'll use *a lot* over the next few days is **pandas**. This library shares a lot in common with numpy but implements an important class of objects called a `DataFrame`. If you've used R before, lots of the pandas library should feel familiar.\n",
    "\n",
    "But first, we'll need to learn about **installing packages**.\n",
    "\n",
    "### Installing Python packages\n",
    "So far, all of the packages we've used have been available by default. But there are many, many other Python packages out there. Many of them you can install with a single line of code.\n",
    "\n",
    "Depending on the installation of Python that you have, `pandas` may not have be included in your default build. If so, you would get the following error when attempting to import pandas:\n",
    "```\n",
    "ModuleNotFoundError: No module named 'pandas'\n",
    "```\n",
    "\n",
    "Whenever you get that error in Python, you probably need to install the package.\n",
    "\n",
    "You can install a package by running the following command:\n",
    "\n",
    "```\n",
    "pip install package_name\n",
    "```\n",
    "\n",
    "You can either run this in your terminal (\"Terminal\" on Mac, \"Anaconda Prompt\" on Windows) or in a cell in a Jupter notebook with `!` in front of it.\n",
    "\n",
    "#### TODO\n",
    "Run the cell below to install `pandas`."
   ]
  },
  {
   "cell_type": "code",
   "execution_count": 44,
   "id": "c356ca72",
   "metadata": {},
   "outputs": [
    {
     "name": "stdout",
     "output_type": "stream",
     "text": [
      "Requirement already satisfied: pandas in /Users/alecchapman/opt/miniconda3/envs/phs/lib/python3.9/site-packages (1.4.3)\n",
      "Requirement already satisfied: numpy>=1.18.5 in /Users/alecchapman/opt/miniconda3/envs/phs/lib/python3.9/site-packages (from pandas) (1.23.0)\n",
      "Requirement already satisfied: pytz>=2020.1 in /Users/alecchapman/opt/miniconda3/envs/phs/lib/python3.9/site-packages (from pandas) (2022.1)\n",
      "Requirement already satisfied: python-dateutil>=2.8.1 in /Users/alecchapman/opt/miniconda3/envs/phs/lib/python3.9/site-packages (from pandas) (2.8.2)\n",
      "Requirement already satisfied: six>=1.5 in /Users/alecchapman/opt/miniconda3/envs/phs/lib/python3.9/site-packages (from python-dateutil>=2.8.1->pandas) (1.16.0)\n"
     ]
    }
   ],
   "source": [
    "!pip install pandas"
   ]
  },
  {
   "cell_type": "markdown",
   "id": "a99768ef",
   "metadata": {},
   "source": [
    "Now you can import pandas (with an alias):"
   ]
  },
  {
   "cell_type": "code",
   "execution_count": 45,
   "id": "01051f76",
   "metadata": {},
   "outputs": [],
   "source": [
    "import pandas as pd"
   ]
  },
  {
   "cell_type": "markdown",
   "id": "cfbc3674",
   "metadata": {},
   "source": [
    "### Dataframes\n",
    "A DataFrame is similar to a matrix in that it is composed of `rows` and `columns`. But DataFrames have some nice additional features:\n",
    "- Rows and columns can have names\n",
    "- Advanced indexing options\n",
    "- Useful methods for analyzing and visualizing data\n",
    "\n",
    "As an example of DataFrame, the function `load_pt_roster` will return the data about our emergency room waiting list from our previous notebook. Let's call it `df` (short for \"dataframe\"):"
   ]
  },
  {
   "cell_type": "code",
   "execution_count": 109,
   "id": "a2fd4f36",
   "metadata": {},
   "outputs": [],
   "source": [
    "def load_pt_roster():\n",
    "    import pandas as pd\n",
    "    return pd.read_csv(\"../data/ed_patient_poster.csv\")"
   ]
  },
  {
   "cell_type": "code",
   "execution_count": 110,
   "id": "5f8d29ca",
   "metadata": {},
   "outputs": [
    {
     "data": {
      "text/html": [
       "<div>\n",
       "<style scoped>\n",
       "    .dataframe tbody tr th:only-of-type {\n",
       "        vertical-align: middle;\n",
       "    }\n",
       "\n",
       "    .dataframe tbody tr th {\n",
       "        vertical-align: top;\n",
       "    }\n",
       "\n",
       "    .dataframe thead th {\n",
       "        text-align: right;\n",
       "    }\n",
       "</style>\n",
       "<table border=\"1\" class=\"dataframe\">\n",
       "  <thead>\n",
       "    <tr style=\"text-align: right;\">\n",
       "      <th></th>\n",
       "      <th>name</th>\n",
       "      <th>arrival_time</th>\n",
       "      <th>age</th>\n",
       "      <th>severity</th>\n",
       "    </tr>\n",
       "  </thead>\n",
       "  <tbody>\n",
       "    <tr>\n",
       "      <th>0</th>\n",
       "      <td>Jim</td>\n",
       "      <td>6:00</td>\n",
       "      <td>40</td>\n",
       "      <td>40</td>\n",
       "    </tr>\n",
       "    <tr>\n",
       "      <th>1</th>\n",
       "      <td>Mary</td>\n",
       "      <td>6:30</td>\n",
       "      <td>31</td>\n",
       "      <td>10</td>\n",
       "    </tr>\n",
       "    <tr>\n",
       "      <th>2</th>\n",
       "      <td>Rachel</td>\n",
       "      <td>7:00</td>\n",
       "      <td>27</td>\n",
       "      <td>20</td>\n",
       "    </tr>\n",
       "    <tr>\n",
       "      <th>3</th>\n",
       "      <td>Laura</td>\n",
       "      <td>7:30</td>\n",
       "      <td>38</td>\n",
       "      <td>15</td>\n",
       "    </tr>\n",
       "    <tr>\n",
       "      <th>4</th>\n",
       "      <td>Chloe</td>\n",
       "      <td>8:00</td>\n",
       "      <td>25</td>\n",
       "      <td>50</td>\n",
       "    </tr>\n",
       "  </tbody>\n",
       "</table>\n",
       "</div>"
      ],
      "text/plain": [
       "     name arrival_time  age  severity\n",
       "0     Jim         6:00   40        40\n",
       "1    Mary         6:30   31        10\n",
       "2  Rachel         7:00   27        20\n",
       "3   Laura         7:30   38        15\n",
       "4   Chloe         8:00   25        50"
      ]
     },
     "execution_count": 110,
     "metadata": {},
     "output_type": "execute_result"
    }
   ],
   "source": [
    "df = load_pt_roster()\n",
    "df"
   ]
  },
  {
   "cell_type": "markdown",
   "id": "b0389ae1",
   "metadata": {},
   "source": [
    "Indexing DataFrames is similar to how we indexed in numpy but with a few differences. The first is that indexing is typically done using the dataframe's `iloc` attribute rather than the dataframe itself:\n",
    "\n",
    "```python\n",
    "# Correct\n",
    "df.iloc[start:end]\n",
    "\n",
    "# Will sometimes work but could throw an error \n",
    "# depending on the structure of your dataframe\n",
    "df[start:end]\n",
    "```"
   ]
  },
  {
   "cell_type": "markdown",
   "id": "ea4fa1ce",
   "metadata": {},
   "source": [
    "#### TODO\n",
    "Select the first 3 rows of `df`."
   ]
  },
  {
   "cell_type": "code",
   "execution_count": 111,
   "id": "56e03862",
   "metadata": {},
   "outputs": [
    {
     "data": {
      "text/html": [
       "<div>\n",
       "<style scoped>\n",
       "    .dataframe tbody tr th:only-of-type {\n",
       "        vertical-align: middle;\n",
       "    }\n",
       "\n",
       "    .dataframe tbody tr th {\n",
       "        vertical-align: top;\n",
       "    }\n",
       "\n",
       "    .dataframe thead th {\n",
       "        text-align: right;\n",
       "    }\n",
       "</style>\n",
       "<table border=\"1\" class=\"dataframe\">\n",
       "  <thead>\n",
       "    <tr style=\"text-align: right;\">\n",
       "      <th></th>\n",
       "      <th>name</th>\n",
       "      <th>arrival_time</th>\n",
       "      <th>age</th>\n",
       "      <th>severity</th>\n",
       "    </tr>\n",
       "  </thead>\n",
       "  <tbody>\n",
       "    <tr>\n",
       "      <th>0</th>\n",
       "      <td>Jim</td>\n",
       "      <td>6:00</td>\n",
       "      <td>40</td>\n",
       "      <td>40</td>\n",
       "    </tr>\n",
       "    <tr>\n",
       "      <th>1</th>\n",
       "      <td>Mary</td>\n",
       "      <td>6:30</td>\n",
       "      <td>31</td>\n",
       "      <td>10</td>\n",
       "    </tr>\n",
       "    <tr>\n",
       "      <th>2</th>\n",
       "      <td>Rachel</td>\n",
       "      <td>7:00</td>\n",
       "      <td>27</td>\n",
       "      <td>20</td>\n",
       "    </tr>\n",
       "  </tbody>\n",
       "</table>\n",
       "</div>"
      ],
      "text/plain": [
       "     name arrival_time  age  severity\n",
       "0     Jim         6:00   40        40\n",
       "1    Mary         6:30   31        10\n",
       "2  Rachel         7:00   27        20"
      ]
     },
     "execution_count": 111,
     "metadata": {},
     "output_type": "execute_result"
    }
   ],
   "source": [
    "df[0:3]"
   ]
  },
  {
   "cell_type": "markdown",
   "id": "ed21ee0c",
   "metadata": {},
   "source": [
    "#### TODO\n",
    "Select the final row of `df`."
   ]
  },
  {
   "cell_type": "code",
   "execution_count": 112,
   "id": "5e1ae850",
   "metadata": {},
   "outputs": [
    {
     "data": {
      "text/plain": [
       "name            Chloe\n",
       "arrival_time     8:00\n",
       "age                25\n",
       "severity           50\n",
       "Name: 4, dtype: object"
      ]
     },
     "execution_count": 112,
     "metadata": {},
     "output_type": "execute_result"
    }
   ],
   "source": [
    "df.iloc[-1]"
   ]
  },
  {
   "cell_type": "markdown",
   "id": "483a8cab",
   "metadata": {},
   "source": [
    "Did you notice any difference between the two returned values from above?\n",
    "\n",
    "When we slice multiple rows, the resulting object is a `DataFrame`. But when we access a single row, we get  a `Series`, which is analogous to a column vector or 1-axis numpy array. For example, the code below gives us a `Series` which is only the first row of data."
   ]
  },
  {
   "cell_type": "code",
   "execution_count": 113,
   "id": "5c609835",
   "metadata": {},
   "outputs": [
    {
     "data": {
      "text/plain": [
       "pandas.core.series.Series"
      ]
     },
     "execution_count": 113,
     "metadata": {},
     "output_type": "execute_result"
    }
   ],
   "source": [
    "type(df.iloc[0])"
   ]
  },
  {
   "cell_type": "code",
   "execution_count": 114,
   "id": "4a970231",
   "metadata": {},
   "outputs": [
    {
     "data": {
      "text/plain": [
       "pandas.core.frame.DataFrame"
      ]
     },
     "execution_count": 114,
     "metadata": {},
     "output_type": "execute_result"
    }
   ],
   "source": [
    "type(df.iloc[1:])"
   ]
  },
  {
   "cell_type": "markdown",
   "id": "f8a36289",
   "metadata": {},
   "source": [
    "#### Columns\n",
    "We access columns either numerically (like in numpy) or by passing in the name(s) of the columns we want to access. \n",
    "\n",
    "To get multiple columns by name we pass in a list of strings:"
   ]
  },
  {
   "cell_type": "code",
   "execution_count": 115,
   "id": "e756c6c4",
   "metadata": {},
   "outputs": [
    {
     "data": {
      "text/html": [
       "<div>\n",
       "<style scoped>\n",
       "    .dataframe tbody tr th:only-of-type {\n",
       "        vertical-align: middle;\n",
       "    }\n",
       "\n",
       "    .dataframe tbody tr th {\n",
       "        vertical-align: top;\n",
       "    }\n",
       "\n",
       "    .dataframe thead th {\n",
       "        text-align: right;\n",
       "    }\n",
       "</style>\n",
       "<table border=\"1\" class=\"dataframe\">\n",
       "  <thead>\n",
       "    <tr style=\"text-align: right;\">\n",
       "      <th></th>\n",
       "      <th>name</th>\n",
       "      <th>arrival_time</th>\n",
       "    </tr>\n",
       "  </thead>\n",
       "  <tbody>\n",
       "    <tr>\n",
       "      <th>0</th>\n",
       "      <td>Jim</td>\n",
       "      <td>6:00</td>\n",
       "    </tr>\n",
       "    <tr>\n",
       "      <th>1</th>\n",
       "      <td>Mary</td>\n",
       "      <td>6:30</td>\n",
       "    </tr>\n",
       "    <tr>\n",
       "      <th>2</th>\n",
       "      <td>Rachel</td>\n",
       "      <td>7:00</td>\n",
       "    </tr>\n",
       "    <tr>\n",
       "      <th>3</th>\n",
       "      <td>Laura</td>\n",
       "      <td>7:30</td>\n",
       "    </tr>\n",
       "    <tr>\n",
       "      <th>4</th>\n",
       "      <td>Chloe</td>\n",
       "      <td>8:00</td>\n",
       "    </tr>\n",
       "  </tbody>\n",
       "</table>\n",
       "</div>"
      ],
      "text/plain": [
       "     name arrival_time\n",
       "0     Jim         6:00\n",
       "1    Mary         6:30\n",
       "2  Rachel         7:00\n",
       "3   Laura         7:30\n",
       "4   Chloe         8:00"
      ]
     },
     "execution_count": 115,
     "metadata": {},
     "output_type": "execute_result"
    }
   ],
   "source": [
    "df[[\"name\", \"arrival_time\"]]"
   ]
  },
  {
   "cell_type": "code",
   "execution_count": 116,
   "id": "ef1c904b",
   "metadata": {},
   "outputs": [
    {
     "data": {
      "text/html": [
       "<div>\n",
       "<style scoped>\n",
       "    .dataframe tbody tr th:only-of-type {\n",
       "        vertical-align: middle;\n",
       "    }\n",
       "\n",
       "    .dataframe tbody tr th {\n",
       "        vertical-align: top;\n",
       "    }\n",
       "\n",
       "    .dataframe thead th {\n",
       "        text-align: right;\n",
       "    }\n",
       "</style>\n",
       "<table border=\"1\" class=\"dataframe\">\n",
       "  <thead>\n",
       "    <tr style=\"text-align: right;\">\n",
       "      <th></th>\n",
       "      <th>name</th>\n",
       "      <th>arrival_time</th>\n",
       "    </tr>\n",
       "  </thead>\n",
       "  <tbody>\n",
       "    <tr>\n",
       "      <th>0</th>\n",
       "      <td>Jim</td>\n",
       "      <td>6:00</td>\n",
       "    </tr>\n",
       "    <tr>\n",
       "      <th>1</th>\n",
       "      <td>Mary</td>\n",
       "      <td>6:30</td>\n",
       "    </tr>\n",
       "    <tr>\n",
       "      <th>2</th>\n",
       "      <td>Rachel</td>\n",
       "      <td>7:00</td>\n",
       "    </tr>\n",
       "    <tr>\n",
       "      <th>3</th>\n",
       "      <td>Laura</td>\n",
       "      <td>7:30</td>\n",
       "    </tr>\n",
       "    <tr>\n",
       "      <th>4</th>\n",
       "      <td>Chloe</td>\n",
       "      <td>8:00</td>\n",
       "    </tr>\n",
       "  </tbody>\n",
       "</table>\n",
       "</div>"
      ],
      "text/plain": [
       "     name arrival_time\n",
       "0     Jim         6:00\n",
       "1    Mary         6:30\n",
       "2  Rachel         7:00\n",
       "3   Laura         7:30\n",
       "4   Chloe         8:00"
      ]
     },
     "execution_count": 116,
     "metadata": {},
     "output_type": "execute_result"
    }
   ],
   "source": [
    "# Numeric slicing by column\n",
    "df.iloc[:,:2]"
   ]
  },
  {
   "cell_type": "markdown",
   "id": "784249e0",
   "metadata": {},
   "source": [
    "Just like rows, if we access a single column it returns a `Series`. To get this, you pass in just the string rather than a list of strings:"
   ]
  },
  {
   "cell_type": "code",
   "execution_count": 117,
   "id": "41bdcb77",
   "metadata": {},
   "outputs": [
    {
     "data": {
      "text/plain": [
       "0       Jim\n",
       "1      Mary\n",
       "2    Rachel\n",
       "3     Laura\n",
       "4     Chloe\n",
       "Name: name, dtype: object"
      ]
     },
     "execution_count": 117,
     "metadata": {},
     "output_type": "execute_result"
    }
   ],
   "source": [
    "df[\"name\"]"
   ]
  },
  {
   "cell_type": "markdown",
   "id": "e4521846",
   "metadata": {},
   "source": [
    "#### TODO\n",
    "Pull out the column `severity` as a Series. Assign it to `severity`."
   ]
  },
  {
   "cell_type": "code",
   "execution_count": 119,
   "id": "c80e4708",
   "metadata": {},
   "outputs": [
    {
     "data": {
      "text/plain": [
       "0    40\n",
       "1    10\n",
       "2    20\n",
       "3    15\n",
       "4    50\n",
       "Name: severity, dtype: int64"
      ]
     },
     "execution_count": 119,
     "metadata": {},
     "output_type": "execute_result"
    }
   ],
   "source": [
    "severity = df[\"severity\"]\n",
    "severity"
   ]
  },
  {
   "cell_type": "code",
   "execution_count": null,
   "id": "a8749677",
   "metadata": {},
   "outputs": [],
   "source": []
  },
  {
   "cell_type": "markdown",
   "id": "48c74862",
   "metadata": {},
   "source": [
    "### Dataframe and Series methods\n",
    "\n",
    "Just like how numpy had methods like `array.mean()`, DataFrames and Series have methods associated with them for calculations.\n",
    "\n",
    "For example, we can get the min, max, mean, standard deviation, and median of a column:"
   ]
  },
  {
   "cell_type": "code",
   "execution_count": 125,
   "id": "7102c86f",
   "metadata": {},
   "outputs": [
    {
     "name": "stdout",
     "output_type": "stream",
     "text": [
      "Min severity: 10\n",
      "Max severity: 50\n",
      "Mean severity: 27.0\n",
      "Standard deviation of severity: 17.175564037317667\n",
      "Median severity: 20.0\n"
     ]
    }
   ],
   "source": [
    "print(\"Min severity:\", severity.min())\n",
    "print(\"Max severity:\", severity.max())\n",
    "print(\"Mean severity:\", severity.mean())\n",
    "print(\"Standard deviation of severity:\", severity.std())\n",
    "print(\"Median severity:\", severity.median())"
   ]
  },
  {
   "cell_type": "markdown",
   "id": "394e8d49",
   "metadata": {},
   "source": [
    "Or we could do that for multiple columns in a DataFrame:"
   ]
  },
  {
   "cell_type": "code",
   "execution_count": 126,
   "id": "8c842594",
   "metadata": {},
   "outputs": [
    {
     "data": {
      "text/plain": [
       "age         40\n",
       "severity    50\n",
       "dtype: int64"
      ]
     },
     "execution_count": 126,
     "metadata": {},
     "output_type": "execute_result"
    }
   ],
   "source": [
    "df[[\"age\", \"severity\"]].max()"
   ]
  },
  {
   "cell_type": "markdown",
   "id": "f3c4f8b5",
   "metadata": {},
   "source": [
    "Nice method for getting a quick overview of your data is the `describe()` method which calculates summary statistics for all of the numeric columns in your DataFrame/Series:"
   ]
  },
  {
   "cell_type": "code",
   "execution_count": 128,
   "id": "f9a81f83",
   "metadata": {},
   "outputs": [
    {
     "data": {
      "text/html": [
       "<div>\n",
       "<style scoped>\n",
       "    .dataframe tbody tr th:only-of-type {\n",
       "        vertical-align: middle;\n",
       "    }\n",
       "\n",
       "    .dataframe tbody tr th {\n",
       "        vertical-align: top;\n",
       "    }\n",
       "\n",
       "    .dataframe thead th {\n",
       "        text-align: right;\n",
       "    }\n",
       "</style>\n",
       "<table border=\"1\" class=\"dataframe\">\n",
       "  <thead>\n",
       "    <tr style=\"text-align: right;\">\n",
       "      <th></th>\n",
       "      <th>age</th>\n",
       "      <th>severity</th>\n",
       "    </tr>\n",
       "  </thead>\n",
       "  <tbody>\n",
       "    <tr>\n",
       "      <th>count</th>\n",
       "      <td>5.000000</td>\n",
       "      <td>5.000000</td>\n",
       "    </tr>\n",
       "    <tr>\n",
       "      <th>mean</th>\n",
       "      <td>32.200000</td>\n",
       "      <td>27.000000</td>\n",
       "    </tr>\n",
       "    <tr>\n",
       "      <th>std</th>\n",
       "      <td>6.610598</td>\n",
       "      <td>17.175564</td>\n",
       "    </tr>\n",
       "    <tr>\n",
       "      <th>min</th>\n",
       "      <td>25.000000</td>\n",
       "      <td>10.000000</td>\n",
       "    </tr>\n",
       "    <tr>\n",
       "      <th>25%</th>\n",
       "      <td>27.000000</td>\n",
       "      <td>15.000000</td>\n",
       "    </tr>\n",
       "    <tr>\n",
       "      <th>50%</th>\n",
       "      <td>31.000000</td>\n",
       "      <td>20.000000</td>\n",
       "    </tr>\n",
       "    <tr>\n",
       "      <th>75%</th>\n",
       "      <td>38.000000</td>\n",
       "      <td>40.000000</td>\n",
       "    </tr>\n",
       "    <tr>\n",
       "      <th>max</th>\n",
       "      <td>40.000000</td>\n",
       "      <td>50.000000</td>\n",
       "    </tr>\n",
       "  </tbody>\n",
       "</table>\n",
       "</div>"
      ],
      "text/plain": [
       "             age   severity\n",
       "count   5.000000   5.000000\n",
       "mean   32.200000  27.000000\n",
       "std     6.610598  17.175564\n",
       "min    25.000000  10.000000\n",
       "25%    27.000000  15.000000\n",
       "50%    31.000000  20.000000\n",
       "75%    38.000000  40.000000\n",
       "max    40.000000  50.000000"
      ]
     },
     "execution_count": 128,
     "metadata": {},
     "output_type": "execute_result"
    }
   ],
   "source": [
    "df.describe()"
   ]
  },
  {
   "cell_type": "code",
   "execution_count": 129,
   "id": "5f92b897",
   "metadata": {},
   "outputs": [
    {
     "data": {
      "text/plain": [
       "count     5.000000\n",
       "mean     27.000000\n",
       "std      17.175564\n",
       "min      10.000000\n",
       "25%      15.000000\n",
       "50%      20.000000\n",
       "75%      40.000000\n",
       "max      50.000000\n",
       "Name: severity, dtype: float64"
      ]
     },
     "execution_count": 129,
     "metadata": {},
     "output_type": "execute_result"
    }
   ],
   "source": [
    "severity.describe()"
   ]
  },
  {
   "cell_type": "code",
   "execution_count": null,
   "id": "8d53785d",
   "metadata": {},
   "outputs": [],
   "source": []
  },
  {
   "cell_type": "markdown",
   "id": "825e7e4e",
   "metadata": {},
   "source": [
    "### Filtering data in `pandas`\n",
    "We often wish to do analyses on a specific subset of data. To do this we need to filter the data. There are several ways to do this with `pandas`. One nice and simple way is to use the DataFrame's `query` method, where you pass in a Python expression which will be used to filter your data, such as:\n",
    "\n",
    "```python\n",
    "df.query(\"column == value\")\n",
    "```\n",
    "\n",
    "As an example, the code below filters the data to only the rows where `name = 'Jim'`:"
   ]
  },
  {
   "cell_type": "code",
   "execution_count": 135,
   "id": "07d76d5d",
   "metadata": {},
   "outputs": [
    {
     "data": {
      "text/html": [
       "<div>\n",
       "<style scoped>\n",
       "    .dataframe tbody tr th:only-of-type {\n",
       "        vertical-align: middle;\n",
       "    }\n",
       "\n",
       "    .dataframe tbody tr th {\n",
       "        vertical-align: top;\n",
       "    }\n",
       "\n",
       "    .dataframe thead th {\n",
       "        text-align: right;\n",
       "    }\n",
       "</style>\n",
       "<table border=\"1\" class=\"dataframe\">\n",
       "  <thead>\n",
       "    <tr style=\"text-align: right;\">\n",
       "      <th></th>\n",
       "      <th>name</th>\n",
       "      <th>arrival_time</th>\n",
       "      <th>age</th>\n",
       "      <th>severity</th>\n",
       "    </tr>\n",
       "  </thead>\n",
       "  <tbody>\n",
       "    <tr>\n",
       "      <th>0</th>\n",
       "      <td>Jim</td>\n",
       "      <td>6:00</td>\n",
       "      <td>40</td>\n",
       "      <td>40</td>\n",
       "    </tr>\n",
       "  </tbody>\n",
       "</table>\n",
       "</div>"
      ],
      "text/plain": [
       "  name arrival_time  age  severity\n",
       "0  Jim         6:00   40        40"
      ]
     },
     "execution_count": 135,
     "metadata": {},
     "output_type": "execute_result"
    }
   ],
   "source": [
    "df.query(\"name == 'Jim'\")"
   ]
  },
  {
   "cell_type": "markdown",
   "id": "02d28c14",
   "metadata": {},
   "source": [
    "And this code looks for are 30 or younger:"
   ]
  },
  {
   "cell_type": "code",
   "execution_count": 136,
   "id": "80c43c14",
   "metadata": {},
   "outputs": [
    {
     "data": {
      "text/html": [
       "<div>\n",
       "<style scoped>\n",
       "    .dataframe tbody tr th:only-of-type {\n",
       "        vertical-align: middle;\n",
       "    }\n",
       "\n",
       "    .dataframe tbody tr th {\n",
       "        vertical-align: top;\n",
       "    }\n",
       "\n",
       "    .dataframe thead th {\n",
       "        text-align: right;\n",
       "    }\n",
       "</style>\n",
       "<table border=\"1\" class=\"dataframe\">\n",
       "  <thead>\n",
       "    <tr style=\"text-align: right;\">\n",
       "      <th></th>\n",
       "      <th>name</th>\n",
       "      <th>arrival_time</th>\n",
       "      <th>age</th>\n",
       "      <th>severity</th>\n",
       "    </tr>\n",
       "  </thead>\n",
       "  <tbody>\n",
       "    <tr>\n",
       "      <th>2</th>\n",
       "      <td>Rachel</td>\n",
       "      <td>7:00</td>\n",
       "      <td>27</td>\n",
       "      <td>20</td>\n",
       "    </tr>\n",
       "    <tr>\n",
       "      <th>4</th>\n",
       "      <td>Chloe</td>\n",
       "      <td>8:00</td>\n",
       "      <td>25</td>\n",
       "      <td>50</td>\n",
       "    </tr>\n",
       "  </tbody>\n",
       "</table>\n",
       "</div>"
      ],
      "text/plain": [
       "     name arrival_time  age  severity\n",
       "2  Rachel         7:00   27        20\n",
       "4   Chloe         8:00   25        50"
      ]
     },
     "execution_count": 136,
     "metadata": {},
     "output_type": "execute_result"
    }
   ],
   "source": [
    "df.query(\"age <= 30\")"
   ]
  },
  {
   "cell_type": "markdown",
   "id": "b1a1092a",
   "metadata": {},
   "source": [
    "#### TODO\n",
    "Filter the dataset to patients who have a severit score of 30 or higher."
   ]
  },
  {
   "cell_type": "code",
   "execution_count": 137,
   "id": "65f1a0db",
   "metadata": {},
   "outputs": [
    {
     "data": {
      "text/html": [
       "<div>\n",
       "<style scoped>\n",
       "    .dataframe tbody tr th:only-of-type {\n",
       "        vertical-align: middle;\n",
       "    }\n",
       "\n",
       "    .dataframe tbody tr th {\n",
       "        vertical-align: top;\n",
       "    }\n",
       "\n",
       "    .dataframe thead th {\n",
       "        text-align: right;\n",
       "    }\n",
       "</style>\n",
       "<table border=\"1\" class=\"dataframe\">\n",
       "  <thead>\n",
       "    <tr style=\"text-align: right;\">\n",
       "      <th></th>\n",
       "      <th>name</th>\n",
       "      <th>arrival_time</th>\n",
       "      <th>age</th>\n",
       "      <th>severity</th>\n",
       "    </tr>\n",
       "  </thead>\n",
       "  <tbody>\n",
       "    <tr>\n",
       "      <th>0</th>\n",
       "      <td>Jim</td>\n",
       "      <td>6:00</td>\n",
       "      <td>40</td>\n",
       "      <td>40</td>\n",
       "    </tr>\n",
       "    <tr>\n",
       "      <th>4</th>\n",
       "      <td>Chloe</td>\n",
       "      <td>8:00</td>\n",
       "      <td>25</td>\n",
       "      <td>50</td>\n",
       "    </tr>\n",
       "  </tbody>\n",
       "</table>\n",
       "</div>"
      ],
      "text/plain": [
       "    name arrival_time  age  severity\n",
       "0    Jim         6:00   40        40\n",
       "4  Chloe         8:00   25        50"
      ]
     },
     "execution_count": 137,
     "metadata": {},
     "output_type": "execute_result"
    }
   ],
   "source": [
    "df.query(\"severity >= 30\")"
   ]
  },
  {
   "cell_type": "code",
   "execution_count": null,
   "id": "0a4d10c7",
   "metadata": {},
   "outputs": [],
   "source": []
  },
  {
   "cell_type": "markdown",
   "id": "a7c5f52a",
   "metadata": {},
   "source": [
    "### Reading data with `pandas`\n",
    "So far most of our examples have used small, mostly synthetic datasets. But eventually we'll want to work with real clinical data. To do this we need to be able to load data into Python to manipulate and analyze.\n",
    "\n",
    "`pandas` offers lots of helpful functions for doing this. Here are a few methods for reading in data with pandas from different data sources. Each takes a different type of data input and returns a DataFrame. \n",
    "\n",
    "- `pd.read_csv`: Comma-separated files\n",
    "- `pd.read_excel`: Excel workbooks\n",
    "- `pd.read_sql`: SQL databases (more on this tomorrow)\n",
    "- `pd.read_json`: JSON files\n",
    "\n",
    "Today we'll use some datasets kept in `csv` files, and tomorrow we'll move on to SQL databases.\n",
    "\n",
    "The helper function we used early actually just called `pd.read_csv` to load our patient roster:\n"
   ]
  },
  {
   "cell_type": "code",
   "execution_count": 138,
   "id": "8899cb7c",
   "metadata": {},
   "outputs": [
    {
     "data": {
      "text/html": [
       "<div>\n",
       "<style scoped>\n",
       "    .dataframe tbody tr th:only-of-type {\n",
       "        vertical-align: middle;\n",
       "    }\n",
       "\n",
       "    .dataframe tbody tr th {\n",
       "        vertical-align: top;\n",
       "    }\n",
       "\n",
       "    .dataframe thead th {\n",
       "        text-align: right;\n",
       "    }\n",
       "</style>\n",
       "<table border=\"1\" class=\"dataframe\">\n",
       "  <thead>\n",
       "    <tr style=\"text-align: right;\">\n",
       "      <th></th>\n",
       "      <th>name</th>\n",
       "      <th>arrival_time</th>\n",
       "      <th>age</th>\n",
       "      <th>severity</th>\n",
       "    </tr>\n",
       "  </thead>\n",
       "  <tbody>\n",
       "    <tr>\n",
       "      <th>0</th>\n",
       "      <td>Jim</td>\n",
       "      <td>6:00</td>\n",
       "      <td>40</td>\n",
       "      <td>40</td>\n",
       "    </tr>\n",
       "    <tr>\n",
       "      <th>1</th>\n",
       "      <td>Mary</td>\n",
       "      <td>6:30</td>\n",
       "      <td>31</td>\n",
       "      <td>10</td>\n",
       "    </tr>\n",
       "    <tr>\n",
       "      <th>2</th>\n",
       "      <td>Rachel</td>\n",
       "      <td>7:00</td>\n",
       "      <td>27</td>\n",
       "      <td>20</td>\n",
       "    </tr>\n",
       "    <tr>\n",
       "      <th>3</th>\n",
       "      <td>Laura</td>\n",
       "      <td>7:30</td>\n",
       "      <td>38</td>\n",
       "      <td>15</td>\n",
       "    </tr>\n",
       "    <tr>\n",
       "      <th>4</th>\n",
       "      <td>Chloe</td>\n",
       "      <td>8:00</td>\n",
       "      <td>25</td>\n",
       "      <td>50</td>\n",
       "    </tr>\n",
       "  </tbody>\n",
       "</table>\n",
       "</div>"
      ],
      "text/plain": [
       "     name arrival_time  age  severity\n",
       "0     Jim         6:00   40        40\n",
       "1    Mary         6:30   31        10\n",
       "2  Rachel         7:00   27        20\n",
       "3   Laura         7:30   38        15\n",
       "4   Chloe         8:00   25        50"
      ]
     },
     "execution_count": 138,
     "metadata": {},
     "output_type": "execute_result"
    }
   ],
   "source": [
    "pd.read_csv(\"../data/ed_patient_poster.csv\")"
   ]
  },
  {
   "cell_type": "code",
   "execution_count": null,
   "id": "6e6c5f95",
   "metadata": {},
   "outputs": [],
   "source": []
  },
  {
   "cell_type": "markdown",
   "id": "22a86648",
   "metadata": {},
   "source": [
    "## Next Steps\n",
    "Now that we know how to load data and use pandas, we're ready to do some real data analysis! In the next notebook we'll work with a dataset generated using clinical data from an ICU."
   ]
  },
  {
   "cell_type": "code",
   "execution_count": null,
   "id": "0e2d368e",
   "metadata": {},
   "outputs": [],
   "source": []
  }
 ],
 "metadata": {
  "kernelspec": {
   "display_name": "Python 3 (ipykernel)",
   "language": "python",
   "name": "python3"
  },
  "language_info": {
   "codemirror_mode": {
    "name": "ipython",
    "version": 3
   },
   "file_extension": ".py",
   "mimetype": "text/x-python",
   "name": "python",
   "nbconvert_exporter": "python",
   "pygments_lexer": "ipython3",
   "version": "3.9.12"
  }
 },
 "nbformat": 4,
 "nbformat_minor": 5
}
