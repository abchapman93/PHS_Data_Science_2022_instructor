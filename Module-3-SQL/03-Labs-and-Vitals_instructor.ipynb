{
 "cells": [
  {
   "cell_type": "markdown",
   "metadata": {},
   "source": [
    "<html>\n",
    "<table width=\"100%\" cellspacing=\"2\" cellpadding=\"2\" border=\"1\">\n",
    "<tbody>\n",
    "<tr>\n",
    "<td valign=\"center\" align=\"center\" width=\"45%\"><img src=\"../media/Univ-Utah.jpeg\"><br>\n",
    "</td>\n",
    "    <td valign=\"center\" align=\"center\" width=\"75%\">\n",
    "<h1 align=\"center\"><font size=\"+1\">University of Utah<br>Population Health Sciences<br>Data Science Workshop</font></h1></td>\n",
    "<td valign=\"center\" align=\"center\" width=\"45%\"><img\n",
    "src=\"../media/U_Health_stacked_png_red.png\" alt=\"Utah Health\n",
    "Logo\" width=\"128\" height=\"134\"><br>\n",
    "</td>\n",
    "</tr>\n",
    "</tbody>\n",
    "</table>\n",
    "<br>\n",
    "</html>\n"
   ]
  },
  {
   "cell_type": "code",
   "execution_count": 1,
   "metadata": {},
   "outputs": [],
   "source": [
    "import pandas as pd\n",
    "from helpers import *"
   ]
  },
  {
   "cell_type": "code",
   "execution_count": 2,
   "metadata": {},
   "outputs": [],
   "source": [
    "import matplotlib.pyplot as plt\n",
    "%matplotlib inline\n",
    "\n",
    "import seaborn as sns\n",
    "sns.set()"
   ]
  },
  {
   "cell_type": "code",
   "execution_count": 25,
   "metadata": {},
   "outputs": [
    {
     "name": "stdout",
     "output_type": "stream",
     "text": [
      "Enter password for MIMIC2 database········\n"
     ]
    }
   ],
   "source": [
    "conn = connect_to_mimic()"
   ]
  },
  {
   "cell_type": "markdown",
   "metadata": {},
   "source": [
    "# Labs and Vitals\n",
    "In the last two notebooks, we focused mainly on categorical data elements such as patient ethnicity and diagnoses. In this notebook we'll start looking at more numeric variables: lab results and patient vitals."
   ]
  },
  {
   "cell_type": "markdown",
   "metadata": {},
   "source": [
    "## I. Labs\n",
    "Lab tests are used for diagnostic purposes. In MIMIC, the lab measurements are stored in `labevents`. Let's look at the first 10 rows of this table:"
   ]
  },
  {
   "cell_type": "code",
   "execution_count": 6,
   "metadata": {},
   "outputs": [
    {
     "name": "stderr",
     "output_type": "stream",
     "text": [
      "/Users/alecchapman/opt/miniconda3/envs/phs/lib/python3.9/site-packages/pandas/io/sql.py:761: UserWarning: pandas only support SQLAlchemy connectable(engine/connection) ordatabase string URI or sqlite3 DBAPI2 connectionother DBAPI2 objects are not tested, please consider using SQLAlchemy\n",
      "  warnings.warn(\n"
     ]
    },
    {
     "data": {
      "text/html": [
       "<div>\n",
       "<style scoped>\n",
       "    .dataframe tbody tr th:only-of-type {\n",
       "        vertical-align: middle;\n",
       "    }\n",
       "\n",
       "    .dataframe tbody tr th {\n",
       "        vertical-align: top;\n",
       "    }\n",
       "\n",
       "    .dataframe thead th {\n",
       "        text-align: right;\n",
       "    }\n",
       "</style>\n",
       "<table border=\"1\" class=\"dataframe\">\n",
       "  <thead>\n",
       "    <tr style=\"text-align: right;\">\n",
       "      <th></th>\n",
       "      <th>subject_id</th>\n",
       "      <th>hadm_id</th>\n",
       "      <th>icustay_id</th>\n",
       "      <th>itemid</th>\n",
       "      <th>charttime</th>\n",
       "      <th>value</th>\n",
       "      <th>valuenum</th>\n",
       "      <th>flag</th>\n",
       "      <th>valueuom</th>\n",
       "    </tr>\n",
       "  </thead>\n",
       "  <tbody>\n",
       "    <tr>\n",
       "      <th>0</th>\n",
       "      <td>56</td>\n",
       "      <td>28766</td>\n",
       "      <td>None</td>\n",
       "      <td>50124</td>\n",
       "      <td>2644-01-17 00:30:00</td>\n",
       "      <td>HOLD</td>\n",
       "      <td>NaN</td>\n",
       "      <td>None</td>\n",
       "      <td>None</td>\n",
       "    </tr>\n",
       "    <tr>\n",
       "      <th>1</th>\n",
       "      <td>56</td>\n",
       "      <td>28766</td>\n",
       "      <td>None</td>\n",
       "      <td>50112</td>\n",
       "      <td>2644-01-17 00:30:00</td>\n",
       "      <td>155</td>\n",
       "      <td>155.0</td>\n",
       "      <td>abnormal</td>\n",
       "      <td>mg/dL</td>\n",
       "    </tr>\n",
       "    <tr>\n",
       "      <th>2</th>\n",
       "      <td>56</td>\n",
       "      <td>28766</td>\n",
       "      <td>None</td>\n",
       "      <td>50177</td>\n",
       "      <td>2644-01-17 00:30:00</td>\n",
       "      <td>21</td>\n",
       "      <td>21.0</td>\n",
       "      <td>abnormal</td>\n",
       "      <td>mg/dL</td>\n",
       "    </tr>\n",
       "    <tr>\n",
       "      <th>3</th>\n",
       "      <td>56</td>\n",
       "      <td>28766</td>\n",
       "      <td>None</td>\n",
       "      <td>50090</td>\n",
       "      <td>2644-01-17 00:30:00</td>\n",
       "      <td>0.7</td>\n",
       "      <td>0.7</td>\n",
       "      <td>None</td>\n",
       "      <td>mg/dL</td>\n",
       "    </tr>\n",
       "    <tr>\n",
       "      <th>4</th>\n",
       "      <td>56</td>\n",
       "      <td>28766</td>\n",
       "      <td>None</td>\n",
       "      <td>50159</td>\n",
       "      <td>2644-01-17 00:30:00</td>\n",
       "      <td>128</td>\n",
       "      <td>128.0</td>\n",
       "      <td>abnormal</td>\n",
       "      <td>mEq/L</td>\n",
       "    </tr>\n",
       "  </tbody>\n",
       "</table>\n",
       "</div>"
      ],
      "text/plain": [
       "   subject_id  hadm_id icustay_id  itemid            charttime value  \\\n",
       "0          56    28766       None   50124  2644-01-17 00:30:00  HOLD   \n",
       "1          56    28766       None   50112  2644-01-17 00:30:00   155   \n",
       "2          56    28766       None   50177  2644-01-17 00:30:00    21   \n",
       "3          56    28766       None   50090  2644-01-17 00:30:00   0.7   \n",
       "4          56    28766       None   50159  2644-01-17 00:30:00   128   \n",
       "\n",
       "   valuenum      flag valueuom  \n",
       "0       NaN      None     None  \n",
       "1     155.0  abnormal    mg/dL  \n",
       "2      21.0  abnormal    mg/dL  \n",
       "3       0.7      None    mg/dL  \n",
       "4     128.0  abnormal    mEq/L  "
      ]
     },
     "execution_count": 6,
     "metadata": {},
     "output_type": "execute_result"
    }
   ],
   "source": [
    "query = \"\"\"SELECT * FROM labevents LIMIT 10;\"\"\"\n",
    "df = pd.read_sql(query, conn)\n",
    "df.head()"
   ]
  },
  {
   "cell_type": "markdown",
   "metadata": {},
   "source": [
    "To understand what these values are, we'll need to turn to another terminology called **LOINC**. [**LOINC**](https://en.wikipedia.org/wiki/LOINC) is a standardized terminology representing laboratory tests and microbiology tests. Just like how we used ICD-9 codes to study patient diagnoses, we'll now loook at LOINC codes to study lab tests.\n",
    "\n",
    "Metadata about the tests, such as a LOINC code and description, are stored in a separate table called `d_labitems`. As we discussed earlier today, this is common in relational database modeling since it means we don't need to store the name of the test every single time. Let's look at the first 10 rows of `d_labitems`. Note that there is information about the test, but no actual results."
   ]
  },
  {
   "cell_type": "code",
   "execution_count": 9,
   "metadata": {},
   "outputs": [
    {
     "name": "stderr",
     "output_type": "stream",
     "text": [
      "/Users/alecchapman/opt/miniconda3/envs/phs/lib/python3.9/site-packages/pandas/io/sql.py:761: UserWarning: pandas only support SQLAlchemy connectable(engine/connection) ordatabase string URI or sqlite3 DBAPI2 connectionother DBAPI2 objects are not tested, please consider using SQLAlchemy\n",
      "  warnings.warn(\n"
     ]
    },
    {
     "data": {
      "text/html": [
       "<div>\n",
       "<style scoped>\n",
       "    .dataframe tbody tr th:only-of-type {\n",
       "        vertical-align: middle;\n",
       "    }\n",
       "\n",
       "    .dataframe tbody tr th {\n",
       "        vertical-align: top;\n",
       "    }\n",
       "\n",
       "    .dataframe thead th {\n",
       "        text-align: right;\n",
       "    }\n",
       "</style>\n",
       "<table border=\"1\" class=\"dataframe\">\n",
       "  <thead>\n",
       "    <tr style=\"text-align: right;\">\n",
       "      <th></th>\n",
       "      <th>itemid</th>\n",
       "      <th>test_name</th>\n",
       "      <th>fluid</th>\n",
       "      <th>category</th>\n",
       "      <th>loinc_code</th>\n",
       "      <th>loinc_description</th>\n",
       "    </tr>\n",
       "  </thead>\n",
       "  <tbody>\n",
       "    <tr>\n",
       "      <th>0</th>\n",
       "      <td>50001</td>\n",
       "      <td>AADO2</td>\n",
       "      <td>BLOOD</td>\n",
       "      <td>BLOOD GAS</td>\n",
       "      <td>19991-9</td>\n",
       "      <td>Oxygen.alveolar - arterial [Partial pressure] ...</td>\n",
       "    </tr>\n",
       "    <tr>\n",
       "      <th>1</th>\n",
       "      <td>50002</td>\n",
       "      <td>BASE XS</td>\n",
       "      <td>BLOOD</td>\n",
       "      <td>BLOOD GAS</td>\n",
       "      <td>11555-0</td>\n",
       "      <td>Base excess in Blood</td>\n",
       "    </tr>\n",
       "    <tr>\n",
       "      <th>2</th>\n",
       "      <td>50003</td>\n",
       "      <td>CARBOXYHB</td>\n",
       "      <td>BLOOD</td>\n",
       "      <td>BLOOD GAS</td>\n",
       "      <td>20563-3</td>\n",
       "      <td>Carboxyhemoglobin/Hemoglobin.total in Blood</td>\n",
       "    </tr>\n",
       "    <tr>\n",
       "      <th>3</th>\n",
       "      <td>50004</td>\n",
       "      <td>CL-</td>\n",
       "      <td>BLOOD</td>\n",
       "      <td>BLOOD GAS</td>\n",
       "      <td>2069-3</td>\n",
       "      <td>Chloride [Moles/volume] in Blood</td>\n",
       "    </tr>\n",
       "    <tr>\n",
       "      <th>4</th>\n",
       "      <td>50006</td>\n",
       "      <td>GLUCOSE</td>\n",
       "      <td>BLOOD</td>\n",
       "      <td>BLOOD GAS</td>\n",
       "      <td>2339-0</td>\n",
       "      <td>Glucose [Mass/volume] in Blood</td>\n",
       "    </tr>\n",
       "  </tbody>\n",
       "</table>\n",
       "</div>"
      ],
      "text/plain": [
       "   itemid  test_name  fluid   category loinc_code  \\\n",
       "0   50001      AADO2  BLOOD  BLOOD GAS    19991-9   \n",
       "1   50002    BASE XS  BLOOD  BLOOD GAS    11555-0   \n",
       "2   50003  CARBOXYHB  BLOOD  BLOOD GAS    20563-3   \n",
       "3   50004        CL-  BLOOD  BLOOD GAS     2069-3   \n",
       "4   50006    GLUCOSE  BLOOD  BLOOD GAS     2339-0   \n",
       "\n",
       "                                   loinc_description  \n",
       "0  Oxygen.alveolar - arterial [Partial pressure] ...  \n",
       "1                               Base excess in Blood  \n",
       "2        Carboxyhemoglobin/Hemoglobin.total in Blood  \n",
       "3                   Chloride [Moles/volume] in Blood  \n",
       "4                     Glucose [Mass/volume] in Blood  "
      ]
     },
     "execution_count": 9,
     "metadata": {},
     "output_type": "execute_result"
    }
   ],
   "source": [
    "query = \"\"\"SELECT * FROM d_labitems LIMIT 10;\"\"\"\n",
    "df = pd.read_sql(query, conn)\n",
    "df.head()"
   ]
  },
  {
   "cell_type": "markdown",
   "metadata": {},
   "source": [
    "To get the test metadata along with the test results, we can join these two tables together using the `itemid` column. \n",
    "\n",
    "#### TODO\n",
    "Finish the query below to get all lab results, along with the metadata about the tests, for hospital admission `28766`. Save the result as `labs_28766`."
   ]
  },
  {
   "cell_type": "code",
   "execution_count": null,
   "metadata": {},
   "outputs": [],
   "source": []
  },
  {
   "cell_type": "code",
   "execution_count": 14,
   "metadata": {},
   "outputs": [
    {
     "name": "stderr",
     "output_type": "stream",
     "text": [
      "/Users/alecchapman/opt/miniconda3/envs/phs/lib/python3.9/site-packages/pandas/io/sql.py:761: UserWarning: pandas only support SQLAlchemy connectable(engine/connection) ordatabase string URI or sqlite3 DBAPI2 connectionother DBAPI2 objects are not tested, please consider using SQLAlchemy\n",
      "  warnings.warn(\n"
     ]
    },
    {
     "data": {
      "text/html": [
       "<div>\n",
       "<style scoped>\n",
       "    .dataframe tbody tr th:only-of-type {\n",
       "        vertical-align: middle;\n",
       "    }\n",
       "\n",
       "    .dataframe tbody tr th {\n",
       "        vertical-align: top;\n",
       "    }\n",
       "\n",
       "    .dataframe thead th {\n",
       "        text-align: right;\n",
       "    }\n",
       "</style>\n",
       "<table border=\"1\" class=\"dataframe\">\n",
       "  <thead>\n",
       "    <tr style=\"text-align: right;\">\n",
       "      <th></th>\n",
       "      <th>subject_id</th>\n",
       "      <th>hadm_id</th>\n",
       "      <th>icustay_id</th>\n",
       "      <th>itemid</th>\n",
       "      <th>charttime</th>\n",
       "      <th>value</th>\n",
       "      <th>valuenum</th>\n",
       "      <th>flag</th>\n",
       "      <th>valueuom</th>\n",
       "      <th>itemid</th>\n",
       "      <th>test_name</th>\n",
       "      <th>fluid</th>\n",
       "      <th>category</th>\n",
       "      <th>loinc_code</th>\n",
       "      <th>loinc_description</th>\n",
       "    </tr>\n",
       "  </thead>\n",
       "  <tbody>\n",
       "    <tr>\n",
       "      <th>0</th>\n",
       "      <td>56</td>\n",
       "      <td>28766</td>\n",
       "      <td>NaN</td>\n",
       "      <td>50124</td>\n",
       "      <td>2644-01-17 00:30:00</td>\n",
       "      <td>HOLD</td>\n",
       "      <td>NaN</td>\n",
       "      <td>None</td>\n",
       "      <td>None</td>\n",
       "      <td>50124</td>\n",
       "      <td>HOLD BLUE</td>\n",
       "      <td>BLOOD</td>\n",
       "      <td>CHEMISTRY</td>\n",
       "      <td>None</td>\n",
       "      <td>None</td>\n",
       "    </tr>\n",
       "    <tr>\n",
       "      <th>1</th>\n",
       "      <td>56</td>\n",
       "      <td>28766</td>\n",
       "      <td>NaN</td>\n",
       "      <td>50112</td>\n",
       "      <td>2644-01-17 00:30:00</td>\n",
       "      <td>155</td>\n",
       "      <td>155.0</td>\n",
       "      <td>abnormal</td>\n",
       "      <td>mg/dL</td>\n",
       "      <td>50112</td>\n",
       "      <td>GLUCOSE</td>\n",
       "      <td>BLOOD</td>\n",
       "      <td>CHEMISTRY</td>\n",
       "      <td>2345-7</td>\n",
       "      <td>Glucose [Mass/volume] in Serum or Plasma</td>\n",
       "    </tr>\n",
       "    <tr>\n",
       "      <th>2</th>\n",
       "      <td>56</td>\n",
       "      <td>28766</td>\n",
       "      <td>NaN</td>\n",
       "      <td>50177</td>\n",
       "      <td>2644-01-17 00:30:00</td>\n",
       "      <td>21</td>\n",
       "      <td>21.0</td>\n",
       "      <td>abnormal</td>\n",
       "      <td>mg/dL</td>\n",
       "      <td>50177</td>\n",
       "      <td>UREA N</td>\n",
       "      <td>BLOOD</td>\n",
       "      <td>CHEMISTRY</td>\n",
       "      <td>3094-0</td>\n",
       "      <td>Urea nitrogen [Mass/volume] in Serum or Plasma</td>\n",
       "    </tr>\n",
       "    <tr>\n",
       "      <th>3</th>\n",
       "      <td>56</td>\n",
       "      <td>28766</td>\n",
       "      <td>NaN</td>\n",
       "      <td>50090</td>\n",
       "      <td>2644-01-17 00:30:00</td>\n",
       "      <td>0.7</td>\n",
       "      <td>0.7</td>\n",
       "      <td>None</td>\n",
       "      <td>mg/dL</td>\n",
       "      <td>50090</td>\n",
       "      <td>CREAT</td>\n",
       "      <td>BLOOD</td>\n",
       "      <td>CHEMISTRY</td>\n",
       "      <td>2160-0</td>\n",
       "      <td>Creatinine [Mass/volume] in Serum or Plasma</td>\n",
       "    </tr>\n",
       "    <tr>\n",
       "      <th>4</th>\n",
       "      <td>56</td>\n",
       "      <td>28766</td>\n",
       "      <td>NaN</td>\n",
       "      <td>50159</td>\n",
       "      <td>2644-01-17 00:30:00</td>\n",
       "      <td>128</td>\n",
       "      <td>128.0</td>\n",
       "      <td>abnormal</td>\n",
       "      <td>mEq/L</td>\n",
       "      <td>50159</td>\n",
       "      <td>SODIUM</td>\n",
       "      <td>BLOOD</td>\n",
       "      <td>CHEMISTRY</td>\n",
       "      <td>2951-2</td>\n",
       "      <td>Sodium [Moles/volume] in Serum or Plasma</td>\n",
       "    </tr>\n",
       "  </tbody>\n",
       "</table>\n",
       "</div>"
      ],
      "text/plain": [
       "   subject_id  hadm_id  icustay_id  itemid            charttime value  \\\n",
       "0          56    28766         NaN   50124  2644-01-17 00:30:00  HOLD   \n",
       "1          56    28766         NaN   50112  2644-01-17 00:30:00   155   \n",
       "2          56    28766         NaN   50177  2644-01-17 00:30:00    21   \n",
       "3          56    28766         NaN   50090  2644-01-17 00:30:00   0.7   \n",
       "4          56    28766         NaN   50159  2644-01-17 00:30:00   128   \n",
       "\n",
       "   valuenum      flag valueuom  itemid  test_name  fluid   category  \\\n",
       "0       NaN      None     None   50124  HOLD BLUE  BLOOD  CHEMISTRY   \n",
       "1     155.0  abnormal    mg/dL   50112    GLUCOSE  BLOOD  CHEMISTRY   \n",
       "2      21.0  abnormal    mg/dL   50177     UREA N  BLOOD  CHEMISTRY   \n",
       "3       0.7      None    mg/dL   50090      CREAT  BLOOD  CHEMISTRY   \n",
       "4     128.0  abnormal    mEq/L   50159     SODIUM  BLOOD  CHEMISTRY   \n",
       "\n",
       "  loinc_code                               loinc_description  \n",
       "0       None                                            None  \n",
       "1     2345-7        Glucose [Mass/volume] in Serum or Plasma  \n",
       "2     3094-0  Urea nitrogen [Mass/volume] in Serum or Plasma  \n",
       "3     2160-0     Creatinine [Mass/volume] in Serum or Plasma  \n",
       "4     2951-2        Sodium [Moles/volume] in Serum or Plasma  "
      ]
     },
     "execution_count": 14,
     "metadata": {},
     "output_type": "execute_result"
    }
   ],
   "source": [
    "query = \"\"\"\n",
    "SELECT * \n",
    "FROM labevents\n",
    "    INNER JOIN d_labitems\n",
    "        ON labevents.itemid = d_labitems.itemid\n",
    "WHERE hadm_id = 28766;\n",
    "\"\"\"\n",
    "labs_28766 = pd.read_sql(query, conn)\n",
    "labs_28766.head()"
   ]
  },
  {
   "cell_type": "code",
   "execution_count": 21,
   "metadata": {},
   "outputs": [],
   "source": [
    "# query = \"\"\"\n",
    "# SELECT * \n",
    "# FROM labevents\n",
    "#     ____ ____ d_labitems\n",
    "#         ON labevents.____ = ____.itemid\n",
    "# WHERE hadm_id = ____;\n",
    "# \"\"\"\n",
    "# labs_28766 = pd.read_sql(query, conn)\n",
    "# labs_28766.head()"
   ]
  },
  {
   "cell_type": "code",
   "execution_count": 22,
   "metadata": {},
   "outputs": [
    {
     "name": "stdout",
     "output_type": "stream",
     "text": [
      "That is correct!\n"
     ]
    }
   ],
   "source": [
    "# RUN CELL TO TEST VALUE\n",
    "test_labs_28766.test(labs_28766)"
   ]
  },
  {
   "cell_type": "markdown",
   "metadata": {},
   "source": [
    "Let's focus on a specific lab test. We'll look at the LOINC code [2345-7](https://loinc.org/2345-7/), which measures the amount of glucose in a patient's blood. This test is relevant for testing whether a patient has diabetes. Here is a description from the LOINC website:\n",
    "***\n",
    "<strong>\n",
    "Glucose (C6H12O6) is a simple monosaccharide and monomer of carbohydrates. Glucose provides energy for cellular processes and aids metabolism within the body. When food is ingested, the carbohydrates within the food are broken down into glucose molecules. Blood glucose content is significant in determining an individual's overall state of health. An elevated blood glucose level is called hyperglycemia and a deficient blood glucose level is called hypoglycemia. When an individual is hyperglycemic and cannot properly regulate their blood glucose level they are considered diabetic. Type 1 diabetes is caused by the immune system attacking pancreatic beta cells (cells that produce insulin) and Type 2 diabetes is caused by insulin resistance. [MedlinePlus Encyclopedia:003482]\n",
    "</strong>\n",
    "***\n",
    "\n",
    "Let's specifically analyze the results of this test and generate some descriptive statistics. \n",
    "\n",
    "#### TODO\n",
    "3. Using Python, select the first 10,000 rows. Call the resulting DataFrame `glucose`\n",
    "4. Generate descriptive statistics of the DataFrame\n",
    "5. Generate a box plot with Seaborn\n",
    "\n",
    "#### TODO\n",
    "Join `labevents` and `d_labitems` and filter to rows where the LOINC code is **'2345-7'**. Limit to 10 rows to get a preview"
   ]
  },
  {
   "cell_type": "code",
   "execution_count": 24,
   "metadata": {},
   "outputs": [
    {
     "name": "stderr",
     "output_type": "stream",
     "text": [
      "/Users/alecchapman/opt/miniconda3/envs/phs/lib/python3.9/site-packages/pandas/io/sql.py:761: UserWarning: pandas only support SQLAlchemy connectable(engine/connection) ordatabase string URI or sqlite3 DBAPI2 connectionother DBAPI2 objects are not tested, please consider using SQLAlchemy\n",
      "  warnings.warn(\n"
     ]
    },
    {
     "data": {
      "text/html": [
       "<div>\n",
       "<style scoped>\n",
       "    .dataframe tbody tr th:only-of-type {\n",
       "        vertical-align: middle;\n",
       "    }\n",
       "\n",
       "    .dataframe tbody tr th {\n",
       "        vertical-align: top;\n",
       "    }\n",
       "\n",
       "    .dataframe thead th {\n",
       "        text-align: right;\n",
       "    }\n",
       "</style>\n",
       "<table border=\"1\" class=\"dataframe\">\n",
       "  <thead>\n",
       "    <tr style=\"text-align: right;\">\n",
       "      <th></th>\n",
       "      <th>subject_id</th>\n",
       "      <th>hadm_id</th>\n",
       "      <th>icustay_id</th>\n",
       "      <th>itemid</th>\n",
       "      <th>charttime</th>\n",
       "      <th>value</th>\n",
       "      <th>valuenum</th>\n",
       "      <th>flag</th>\n",
       "      <th>valueuom</th>\n",
       "      <th>itemid</th>\n",
       "      <th>test_name</th>\n",
       "      <th>fluid</th>\n",
       "      <th>category</th>\n",
       "      <th>loinc_code</th>\n",
       "      <th>loinc_description</th>\n",
       "    </tr>\n",
       "  </thead>\n",
       "  <tbody>\n",
       "    <tr>\n",
       "      <th>0</th>\n",
       "      <td>56</td>\n",
       "      <td>28766.0</td>\n",
       "      <td>NaN</td>\n",
       "      <td>50112</td>\n",
       "      <td>2644-01-17 00:30:00</td>\n",
       "      <td>155</td>\n",
       "      <td>155.0</td>\n",
       "      <td>abnormal</td>\n",
       "      <td>mg/dL</td>\n",
       "      <td>50112</td>\n",
       "      <td>GLUCOSE</td>\n",
       "      <td>BLOOD</td>\n",
       "      <td>CHEMISTRY</td>\n",
       "      <td>2345-7</td>\n",
       "      <td>Glucose [Mass/volume] in Serum or Plasma</td>\n",
       "    </tr>\n",
       "    <tr>\n",
       "      <th>1</th>\n",
       "      <td>56</td>\n",
       "      <td>28766.0</td>\n",
       "      <td>62.0</td>\n",
       "      <td>50112</td>\n",
       "      <td>2644-01-17 03:57:00</td>\n",
       "      <td>146</td>\n",
       "      <td>146.0</td>\n",
       "      <td>abnormal</td>\n",
       "      <td>mg/dL</td>\n",
       "      <td>50112</td>\n",
       "      <td>GLUCOSE</td>\n",
       "      <td>BLOOD</td>\n",
       "      <td>CHEMISTRY</td>\n",
       "      <td>2345-7</td>\n",
       "      <td>Glucose [Mass/volume] in Serum or Plasma</td>\n",
       "    </tr>\n",
       "    <tr>\n",
       "      <th>2</th>\n",
       "      <td>56</td>\n",
       "      <td>28766.0</td>\n",
       "      <td>62.0</td>\n",
       "      <td>50112</td>\n",
       "      <td>2644-01-18 03:30:00</td>\n",
       "      <td>140</td>\n",
       "      <td>140.0</td>\n",
       "      <td>abnormal</td>\n",
       "      <td>mg/dL</td>\n",
       "      <td>50112</td>\n",
       "      <td>GLUCOSE</td>\n",
       "      <td>BLOOD</td>\n",
       "      <td>CHEMISTRY</td>\n",
       "      <td>2345-7</td>\n",
       "      <td>Glucose [Mass/volume] in Serum or Plasma</td>\n",
       "    </tr>\n",
       "    <tr>\n",
       "      <th>3</th>\n",
       "      <td>56</td>\n",
       "      <td>28766.0</td>\n",
       "      <td>NaN</td>\n",
       "      <td>50112</td>\n",
       "      <td>2644-01-19 12:40:00</td>\n",
       "      <td>108</td>\n",
       "      <td>108.0</td>\n",
       "      <td>abnormal</td>\n",
       "      <td>mg/dL</td>\n",
       "      <td>50112</td>\n",
       "      <td>GLUCOSE</td>\n",
       "      <td>BLOOD</td>\n",
       "      <td>CHEMISTRY</td>\n",
       "      <td>2345-7</td>\n",
       "      <td>Glucose [Mass/volume] in Serum or Plasma</td>\n",
       "    </tr>\n",
       "    <tr>\n",
       "      <th>4</th>\n",
       "      <td>37</td>\n",
       "      <td>18052.0</td>\n",
       "      <td>NaN</td>\n",
       "      <td>50112</td>\n",
       "      <td>3264-08-14 06:00:00</td>\n",
       "      <td>303</td>\n",
       "      <td>303.0</td>\n",
       "      <td>abnormal</td>\n",
       "      <td>mg/dL</td>\n",
       "      <td>50112</td>\n",
       "      <td>GLUCOSE</td>\n",
       "      <td>BLOOD</td>\n",
       "      <td>CHEMISTRY</td>\n",
       "      <td>2345-7</td>\n",
       "      <td>Glucose [Mass/volume] in Serum or Plasma</td>\n",
       "    </tr>\n",
       "    <tr>\n",
       "      <th>5</th>\n",
       "      <td>37</td>\n",
       "      <td>18052.0</td>\n",
       "      <td>NaN</td>\n",
       "      <td>50112</td>\n",
       "      <td>3264-08-15 06:00:00</td>\n",
       "      <td>225</td>\n",
       "      <td>225.0</td>\n",
       "      <td>abnormal</td>\n",
       "      <td>mg/dL</td>\n",
       "      <td>50112</td>\n",
       "      <td>GLUCOSE</td>\n",
       "      <td>BLOOD</td>\n",
       "      <td>CHEMISTRY</td>\n",
       "      <td>2345-7</td>\n",
       "      <td>Glucose [Mass/volume] in Serum or Plasma</td>\n",
       "    </tr>\n",
       "    <tr>\n",
       "      <th>6</th>\n",
       "      <td>37</td>\n",
       "      <td>18052.0</td>\n",
       "      <td>41.0</td>\n",
       "      <td>50112</td>\n",
       "      <td>3264-08-16 11:33:00</td>\n",
       "      <td>265</td>\n",
       "      <td>265.0</td>\n",
       "      <td>abnormal</td>\n",
       "      <td>mg/dL</td>\n",
       "      <td>50112</td>\n",
       "      <td>GLUCOSE</td>\n",
       "      <td>BLOOD</td>\n",
       "      <td>CHEMISTRY</td>\n",
       "      <td>2345-7</td>\n",
       "      <td>Glucose [Mass/volume] in Serum or Plasma</td>\n",
       "    </tr>\n",
       "    <tr>\n",
       "      <th>7</th>\n",
       "      <td>37</td>\n",
       "      <td>18052.0</td>\n",
       "      <td>41.0</td>\n",
       "      <td>50112</td>\n",
       "      <td>3264-08-17 04:00:00</td>\n",
       "      <td>74</td>\n",
       "      <td>74.0</td>\n",
       "      <td>None</td>\n",
       "      <td>mg/dL</td>\n",
       "      <td>50112</td>\n",
       "      <td>GLUCOSE</td>\n",
       "      <td>BLOOD</td>\n",
       "      <td>CHEMISTRY</td>\n",
       "      <td>2345-7</td>\n",
       "      <td>Glucose [Mass/volume] in Serum or Plasma</td>\n",
       "    </tr>\n",
       "    <tr>\n",
       "      <th>8</th>\n",
       "      <td>37</td>\n",
       "      <td>18052.0</td>\n",
       "      <td>NaN</td>\n",
       "      <td>50112</td>\n",
       "      <td>3264-08-18 08:35:00</td>\n",
       "      <td>154</td>\n",
       "      <td>154.0</td>\n",
       "      <td>abnormal</td>\n",
       "      <td>mg/dL</td>\n",
       "      <td>50112</td>\n",
       "      <td>GLUCOSE</td>\n",
       "      <td>BLOOD</td>\n",
       "      <td>CHEMISTRY</td>\n",
       "      <td>2345-7</td>\n",
       "      <td>Glucose [Mass/volume] in Serum or Plasma</td>\n",
       "    </tr>\n",
       "    <tr>\n",
       "      <th>9</th>\n",
       "      <td>37</td>\n",
       "      <td>NaN</td>\n",
       "      <td>NaN</td>\n",
       "      <td>50112</td>\n",
       "      <td>3265-04-21 13:15:00</td>\n",
       "      <td>438</td>\n",
       "      <td>438.0</td>\n",
       "      <td>abnormal</td>\n",
       "      <td>mg/dL</td>\n",
       "      <td>50112</td>\n",
       "      <td>GLUCOSE</td>\n",
       "      <td>BLOOD</td>\n",
       "      <td>CHEMISTRY</td>\n",
       "      <td>2345-7</td>\n",
       "      <td>Glucose [Mass/volume] in Serum or Plasma</td>\n",
       "    </tr>\n",
       "  </tbody>\n",
       "</table>\n",
       "</div>"
      ],
      "text/plain": [
       "   subject_id  hadm_id  icustay_id  itemid            charttime value  \\\n",
       "0          56  28766.0         NaN   50112  2644-01-17 00:30:00   155   \n",
       "1          56  28766.0        62.0   50112  2644-01-17 03:57:00   146   \n",
       "2          56  28766.0        62.0   50112  2644-01-18 03:30:00   140   \n",
       "3          56  28766.0         NaN   50112  2644-01-19 12:40:00   108   \n",
       "4          37  18052.0         NaN   50112  3264-08-14 06:00:00   303   \n",
       "5          37  18052.0         NaN   50112  3264-08-15 06:00:00   225   \n",
       "6          37  18052.0        41.0   50112  3264-08-16 11:33:00   265   \n",
       "7          37  18052.0        41.0   50112  3264-08-17 04:00:00    74   \n",
       "8          37  18052.0         NaN   50112  3264-08-18 08:35:00   154   \n",
       "9          37      NaN         NaN   50112  3265-04-21 13:15:00   438   \n",
       "\n",
       "   valuenum      flag valueuom  itemid test_name  fluid   category loinc_code  \\\n",
       "0     155.0  abnormal    mg/dL   50112   GLUCOSE  BLOOD  CHEMISTRY     2345-7   \n",
       "1     146.0  abnormal    mg/dL   50112   GLUCOSE  BLOOD  CHEMISTRY     2345-7   \n",
       "2     140.0  abnormal    mg/dL   50112   GLUCOSE  BLOOD  CHEMISTRY     2345-7   \n",
       "3     108.0  abnormal    mg/dL   50112   GLUCOSE  BLOOD  CHEMISTRY     2345-7   \n",
       "4     303.0  abnormal    mg/dL   50112   GLUCOSE  BLOOD  CHEMISTRY     2345-7   \n",
       "5     225.0  abnormal    mg/dL   50112   GLUCOSE  BLOOD  CHEMISTRY     2345-7   \n",
       "6     265.0  abnormal    mg/dL   50112   GLUCOSE  BLOOD  CHEMISTRY     2345-7   \n",
       "7      74.0      None    mg/dL   50112   GLUCOSE  BLOOD  CHEMISTRY     2345-7   \n",
       "8     154.0  abnormal    mg/dL   50112   GLUCOSE  BLOOD  CHEMISTRY     2345-7   \n",
       "9     438.0  abnormal    mg/dL   50112   GLUCOSE  BLOOD  CHEMISTRY     2345-7   \n",
       "\n",
       "                          loinc_description  \n",
       "0  Glucose [Mass/volume] in Serum or Plasma  \n",
       "1  Glucose [Mass/volume] in Serum or Plasma  \n",
       "2  Glucose [Mass/volume] in Serum or Plasma  \n",
       "3  Glucose [Mass/volume] in Serum or Plasma  \n",
       "4  Glucose [Mass/volume] in Serum or Plasma  \n",
       "5  Glucose [Mass/volume] in Serum or Plasma  \n",
       "6  Glucose [Mass/volume] in Serum or Plasma  \n",
       "7  Glucose [Mass/volume] in Serum or Plasma  \n",
       "8  Glucose [Mass/volume] in Serum or Plasma  \n",
       "9  Glucose [Mass/volume] in Serum or Plasma  "
      ]
     },
     "execution_count": 24,
     "metadata": {},
     "output_type": "execute_result"
    }
   ],
   "source": [
    "query = \"\"\"\n",
    "SELECT * \n",
    "FROM labevents\n",
    "    INNER JOIN d_labitems\n",
    "        ON labevents.itemid = d_labitems.itemid\n",
    "WHERE loinc_code = '2345-7'\n",
    "LIMIT 10;\n",
    "\"\"\"\n",
    "pd.read_sql(query, conn)\n"
   ]
  },
  {
   "cell_type": "code",
   "execution_count": 28,
   "metadata": {},
   "outputs": [
    {
     "data": {
      "application/vnd.jupyter.widget-view+json": {
       "model_id": "bbe64ed1a93040cd8b18bf87c65c474d",
       "version_major": 2,
       "version_minor": 0
      },
      "text/plain": [
       "VBox(children=(HTML(value=\"What is the value of the category column for the LOINC code '2345-7'?\"), Textarea(v…"
      ]
     },
     "metadata": {},
     "output_type": "display_data"
    },
    {
     "data": {
      "text/plain": []
     },
     "execution_count": 28,
     "metadata": {},
     "output_type": "execute_result"
    }
   ],
   "source": [
    "# RUN CELL TO SEE QUIZ\n",
    "quiz_category_glucose"
   ]
  },
  {
   "cell_type": "code",
   "execution_count": null,
   "metadata": {},
   "outputs": [],
   "source": []
  },
  {
   "cell_type": "markdown",
   "metadata": {},
   "source": [
    "The numeric value of the test result is stored in the column `valuenum` (not `value` - what do you think the difference is?)\n",
    "#### TODO\n",
    "Select the `COUNT`, `MIN`, `MAX`, and `AVG` values of `2345-7`."
   ]
  },
  {
   "cell_type": "code",
   "execution_count": 35,
   "metadata": {},
   "outputs": [
    {
     "name": "stderr",
     "output_type": "stream",
     "text": [
      "/Users/alecchapman/opt/miniconda3/envs/phs/lib/python3.9/site-packages/pandas/io/sql.py:761: UserWarning: pandas only support SQLAlchemy connectable(engine/connection) ordatabase string URI or sqlite3 DBAPI2 connectionother DBAPI2 objects are not tested, please consider using SQLAlchemy\n",
      "  warnings.warn(\n"
     ]
    },
    {
     "data": {
      "text/html": [
       "<div>\n",
       "<style scoped>\n",
       "    .dataframe tbody tr th:only-of-type {\n",
       "        vertical-align: middle;\n",
       "    }\n",
       "\n",
       "    .dataframe tbody tr th {\n",
       "        vertical-align: top;\n",
       "    }\n",
       "\n",
       "    .dataframe thead th {\n",
       "        text-align: right;\n",
       "    }\n",
       "</style>\n",
       "<table border=\"1\" class=\"dataframe\">\n",
       "  <thead>\n",
       "    <tr style=\"text-align: right;\">\n",
       "      <th></th>\n",
       "      <th>COUNT(*)</th>\n",
       "      <th>MIN(valuenum)</th>\n",
       "      <th>MAX(valuenum)</th>\n",
       "      <th>AVG(VALUENUM)</th>\n",
       "    </tr>\n",
       "  </thead>\n",
       "  <tbody>\n",
       "    <tr>\n",
       "      <th>0</th>\n",
       "      <td>97499</td>\n",
       "      <td>4.0</td>\n",
       "      <td>2516.0</td>\n",
       "      <td>134.326044</td>\n",
       "    </tr>\n",
       "  </tbody>\n",
       "</table>\n",
       "</div>"
      ],
      "text/plain": [
       "   COUNT(*)  MIN(valuenum)  MAX(valuenum)  AVG(VALUENUM)\n",
       "0     97499            4.0         2516.0     134.326044"
      ]
     },
     "execution_count": 35,
     "metadata": {},
     "output_type": "execute_result"
    }
   ],
   "source": [
    "query = \"\"\"\n",
    "SELECT COUNT(*), MIN(valuenum), MAX(valuenum), AVG(VALUENUM)\n",
    "    FROM labevents\n",
    "    INNER JOIN d_labitems\n",
    "        ON labevents.itemid = d_labitems.itemid\n",
    "WHERE loinc_code = '2345-7'\n",
    "\"\"\"\n",
    "pd.read_sql(query, conn)"
   ]
  },
  {
   "cell_type": "code",
   "execution_count": 34,
   "metadata": {},
   "outputs": [
    {
     "data": {
      "application/vnd.jupyter.widget-view+json": {
       "model_id": "513d2b6d287843798581ae6b6ce13103",
       "version_major": 2,
       "version_minor": 0
      },
      "text/plain": [
       "VBox(children=(HTML(value=\"What is the average value of '2345-7'?\"), RadioButtons(layout=Layout(width='auto'),…"
      ]
     },
     "metadata": {},
     "output_type": "display_data"
    },
    {
     "data": {
      "text/plain": []
     },
     "execution_count": 34,
     "metadata": {},
     "output_type": "execute_result"
    }
   ],
   "source": [
    "# RUN CELL TO SEE QUIZ\n",
    "quiz_avg_glucose"
   ]
  },
  {
   "cell_type": "markdown",
   "metadata": {},
   "source": [
    "Let's do some more detailed analysis using `pandas`. Because `labevents` is a big table, let's take a random sample of glucose tests. One way that we can take a random sample in SQL is by ording the results by a random number using the `RAND()` function and then limiting the results to the number we want to sample:\n",
    "\n",
    "```sql\n",
    "ORDER BY RAND()\n",
    "LIMIT k\n",
    "```\n"
   ]
  },
  {
   "cell_type": "markdown",
   "metadata": {},
   "source": [
    "#### TODO\n",
    "Write a query which returns the `subject_id`, `hadm_id`, `valuenum`, `flag`, and `flag` columns for a random sample of 1,000 glucose tests from MIMIC. Save the result as `glucose`."
   ]
  },
  {
   "cell_type": "code",
   "execution_count": 83,
   "metadata": {},
   "outputs": [
    {
     "name": "stderr",
     "output_type": "stream",
     "text": [
      "/Users/alecchapman/opt/miniconda3/envs/phs/lib/python3.9/site-packages/pandas/io/sql.py:761: UserWarning: pandas only support SQLAlchemy connectable(engine/connection) ordatabase string URI or sqlite3 DBAPI2 connectionother DBAPI2 objects are not tested, please consider using SQLAlchemy\n",
      "  warnings.warn(\n"
     ]
    },
    {
     "data": {
      "text/html": [
       "<div>\n",
       "<style scoped>\n",
       "    .dataframe tbody tr th:only-of-type {\n",
       "        vertical-align: middle;\n",
       "    }\n",
       "\n",
       "    .dataframe tbody tr th {\n",
       "        vertical-align: top;\n",
       "    }\n",
       "\n",
       "    .dataframe thead th {\n",
       "        text-align: right;\n",
       "    }\n",
       "</style>\n",
       "<table border=\"1\" class=\"dataframe\">\n",
       "  <thead>\n",
       "    <tr style=\"text-align: right;\">\n",
       "      <th></th>\n",
       "      <th>subject_id</th>\n",
       "      <th>hadm_id</th>\n",
       "      <th>valuenum</th>\n",
       "      <th>flag</th>\n",
       "    </tr>\n",
       "  </thead>\n",
       "  <tbody>\n",
       "    <tr>\n",
       "      <th>0</th>\n",
       "      <td>13168</td>\n",
       "      <td>14527.0</td>\n",
       "      <td>141.0</td>\n",
       "      <td>abnormal</td>\n",
       "    </tr>\n",
       "    <tr>\n",
       "      <th>1</th>\n",
       "      <td>7524</td>\n",
       "      <td>26203.0</td>\n",
       "      <td>124.0</td>\n",
       "      <td>abnormal</td>\n",
       "    </tr>\n",
       "    <tr>\n",
       "      <th>2</th>\n",
       "      <td>22228</td>\n",
       "      <td>27478.0</td>\n",
       "      <td>148.0</td>\n",
       "      <td>abnormal</td>\n",
       "    </tr>\n",
       "    <tr>\n",
       "      <th>3</th>\n",
       "      <td>23786</td>\n",
       "      <td>3657.0</td>\n",
       "      <td>82.0</td>\n",
       "      <td>None</td>\n",
       "    </tr>\n",
       "    <tr>\n",
       "      <th>4</th>\n",
       "      <td>25030</td>\n",
       "      <td>5557.0</td>\n",
       "      <td>162.0</td>\n",
       "      <td>abnormal</td>\n",
       "    </tr>\n",
       "  </tbody>\n",
       "</table>\n",
       "</div>"
      ],
      "text/plain": [
       "   subject_id  hadm_id  valuenum      flag\n",
       "0       13168  14527.0     141.0  abnormal\n",
       "1        7524  26203.0     124.0  abnormal\n",
       "2       22228  27478.0     148.0  abnormal\n",
       "3       23786   3657.0      82.0      None\n",
       "4       25030   5557.0     162.0  abnormal"
      ]
     },
     "execution_count": 83,
     "metadata": {},
     "output_type": "execute_result"
    }
   ],
   "source": [
    "query = \"\"\"\n",
    "SELECT subject_id, hadm_id, valuenum, flag\n",
    "FROM labevents\n",
    "    INNER JOIN d_labitems\n",
    "        ON labevents.itemid = d_labitems.itemid\n",
    "WHERE loinc_code = '2345-7'\n",
    "ORDER BY RAND()\n",
    "LIMIT 1000;\n",
    "\"\"\"\n",
    "glucose = pd.read_sql(query, conn)\n",
    "glucose.head()"
   ]
  },
  {
   "cell_type": "code",
   "execution_count": null,
   "metadata": {},
   "outputs": [],
   "source": []
  },
  {
   "cell_type": "markdown",
   "metadata": {},
   "source": [
    "#### TODO\n",
    "Earlier we used SQL to calculate some summary statistics of the `valuenum` for all 2345-7 tests. Now use `pandas` to calculate summary statistics for your random sample. Are they similar to the values of the entire table? "
   ]
  },
  {
   "cell_type": "code",
   "execution_count": 67,
   "metadata": {},
   "outputs": [
    {
     "data": {
      "application/vnd.jupyter.widget-view+json": {
       "model_id": "defcf89cfda0465eaaa4192cbfdb987e",
       "version_major": 2,
       "version_minor": 0
      },
      "text/plain": [
       "VBox(children=(HTML(value='</br><strong>Displaying hint 1/1</strong>'), Output(), Button(description='Get hint…"
      ]
     },
     "metadata": {},
     "output_type": "display_data"
    },
    {
     "data": {
      "text/plain": []
     },
     "execution_count": 67,
     "metadata": {},
     "output_type": "execute_result"
    }
   ],
   "source": [
    "# RUN CELL TO SEE QUIZ\n",
    "hint_summary_glucose"
   ]
  },
  {
   "cell_type": "code",
   "execution_count": 65,
   "metadata": {},
   "outputs": [
    {
     "data": {
      "text/plain": [
       "count    1000.000000\n",
       "mean      134.077000\n",
       "std        72.456656\n",
       "min        22.000000\n",
       "25%        95.000000\n",
       "50%       121.000000\n",
       "75%       150.000000\n",
       "max      1293.000000\n",
       "Name: valuenum, dtype: float64"
      ]
     },
     "execution_count": 65,
     "metadata": {},
     "output_type": "execute_result"
    }
   ],
   "source": [
    "glucose[\"valuenum\"].describe()"
   ]
  },
  {
   "cell_type": "code",
   "execution_count": null,
   "metadata": {},
   "outputs": [],
   "source": []
  },
  {
   "cell_type": "markdown",
   "metadata": {},
   "source": [
    "#### TODO\n",
    "Create a plot visualizing the results in your sample of glucose tests."
   ]
  },
  {
   "cell_type": "code",
   "execution_count": 62,
   "metadata": {},
   "outputs": [
    {
     "data": {
      "application/vnd.jupyter.widget-view+json": {
       "model_id": "059eadf359a84f9586e322f01135837b",
       "version_major": 2,
       "version_minor": 0
      },
      "text/plain": [
       "VBox(children=(HTML(value='</br><strong>Displaying hint 0/1</strong>'), Output(), Button(description='Get hint…"
      ]
     },
     "metadata": {},
     "output_type": "display_data"
    },
    {
     "data": {
      "text/plain": []
     },
     "execution_count": 62,
     "metadata": {},
     "output_type": "execute_result"
    }
   ],
   "source": [
    "# RUN CELL TO SEE HINT\n",
    "hint_viz_glucose"
   ]
  },
  {
   "cell_type": "markdown",
   "metadata": {},
   "source": [
    "###  Flag attribute\n",
    "Unless you're a clinician, the `valuenum` probably doesn't tell you much about the meaning of the test result. The `flag` column is there to tell us whether the test was outside the expected range. An `abnormal` value may be interpreted as a positive result.\n",
    "\n",
    "\n",
    "#### TODO\n",
    "The code below shows all distinct values for the `flag` column. What do you think a value of `None` means?"
   ]
  },
  {
   "cell_type": "code",
   "execution_count": 84,
   "metadata": {},
   "outputs": [
    {
     "data": {
      "text/plain": [
       "{None, 'abnormal'}"
      ]
     },
     "execution_count": 84,
     "metadata": {},
     "output_type": "execute_result"
    }
   ],
   "source": [
    "set(glucose[\"flag\"])"
   ]
  },
  {
   "cell_type": "code",
   "execution_count": 76,
   "metadata": {},
   "outputs": [
    {
     "data": {
      "application/vnd.jupyter.widget-view+json": {
       "model_id": "8de8eb8575c04b9aa07d7ad8dae3b9f3",
       "version_major": 2,
       "version_minor": 0
      },
      "text/plain": [
       "VBox(children=(HTML(value=''), RadioButtons(layout=Layout(width='auto'), options=('The test was normal.', \"The…"
      ]
     },
     "metadata": {},
     "output_type": "display_data"
    },
    {
     "data": {
      "text/plain": []
     },
     "execution_count": 76,
     "metadata": {},
     "output_type": "execute_result"
    }
   ],
   "source": [
    "# RUN CELL TO SEE QUIZ\n",
    "quiz_none_glucose"
   ]
  },
  {
   "cell_type": "markdown",
   "metadata": {},
   "source": [
    "### Replacing missing values\n",
    "The `None` values above are examples of **missing values**. Missing values can mean different things, so you need to be careful about how you handle missing them. In this, since the only values are `None` and `abnormal`, it's pretty clear that this column only contains a string value if the flag is **\"abnormal\"** and is `NULL` (the SQL equivalent of `None`) otherwise. \n",
    "\n",
    "We will want to fill these nulls  with the value **\"normal\"**. Let's do this first in SQL and then in Python.\n",
    "\n",
    "### Replacing NULL with SQL\n",
    "We can fill these null values in our SQL query by using the `coalesce` function. This will take the first non-null value in a list. So, for example,\n",
    "\n",
    "`coalesce(null, 'world!')` would return 'world!', while `coalesce('hello,', null)` would return 'hello'."
   ]
  },
  {
   "cell_type": "markdown",
   "metadata": {},
   "source": [
    "#### TODO\n",
    "What would `coalesce('hello', 'world')` return?"
   ]
  },
  {
   "cell_type": "code",
   "execution_count": 81,
   "metadata": {},
   "outputs": [
    {
     "data": {
      "application/vnd.jupyter.widget-view+json": {
       "model_id": "9734caa351744c79b4e2585f78b476f8",
       "version_major": 2,
       "version_minor": 0
      },
      "text/plain": [
       "VBox(children=(HTML(value=''), RadioButtons(layout=Layout(width='auto'), options=('NULL', \"'world'\", \"'hello'\"…"
      ]
     },
     "metadata": {},
     "output_type": "display_data"
    },
    {
     "data": {
      "text/plain": []
     },
     "execution_count": 81,
     "metadata": {},
     "output_type": "execute_result"
    }
   ],
   "source": [
    "# RUN CELL TO SEE QUIZ\n",
    "quiz_coalesce_helloworld = MultipleChoiceQuiz(answer=\"'hello'\", options=[\"'hello'\", \"'world'\", \"NULL\"])\n",
    "quiz_coalesce_helloworld"
   ]
  },
  {
   "cell_type": "markdown",
   "metadata": {},
   "source": [
    "#### TODO\n",
    "Edit the query below so that SQL will return the value of the column `flag` if it is not null and will return `'normal'` otherwise. Take a random sample of 100 rows and save it as `glucose2`"
   ]
  },
  {
   "cell_type": "code",
   "execution_count": 85,
   "metadata": {},
   "outputs": [
    {
     "name": "stderr",
     "output_type": "stream",
     "text": [
      "/Users/alecchapman/opt/miniconda3/envs/phs/lib/python3.9/site-packages/pandas/io/sql.py:761: UserWarning: pandas only support SQLAlchemy connectable(engine/connection) ordatabase string URI or sqlite3 DBAPI2 connectionother DBAPI2 objects are not tested, please consider using SQLAlchemy\n",
      "  warnings.warn(\n"
     ]
    }
   ],
   "source": [
    "query = \"\"\"\n",
    "SELECT subject_id, hadm_id, valuenum, COALESCE(flag, 'normal') flag\n",
    "FROM labevents\n",
    "    INNER JOIN d_labitems\n",
    "        ON labevents.itemid = d_labitems.itemid\n",
    "WHERE loinc_code = '2345-7'\n",
    "ORDER BY RAND()\n",
    "LIMIT 100;\n",
    "\"\"\"\n",
    "glucose2 = pd.read_sql(query, conn)"
   ]
  },
  {
   "cell_type": "code",
   "execution_count": 93,
   "metadata": {},
   "outputs": [],
   "source": []
  },
  {
   "cell_type": "code",
   "execution_count": 94,
   "metadata": {},
   "outputs": [
    {
     "name": "stdout",
     "output_type": "stream",
     "text": [
      "That is correct!\n"
     ]
    }
   ],
   "source": [
    "# RUN CELL TO SEE QUIZ\n",
    "test_glucose_coalesce.test(glucose2)"
   ]
  },
  {
   "cell_type": "code",
   "execution_count": 89,
   "metadata": {},
   "outputs": [
    {
     "data": {
      "text/html": [
       "<div>\n",
       "<style scoped>\n",
       "    .dataframe tbody tr th:only-of-type {\n",
       "        vertical-align: middle;\n",
       "    }\n",
       "\n",
       "    .dataframe tbody tr th {\n",
       "        vertical-align: top;\n",
       "    }\n",
       "\n",
       "    .dataframe thead th {\n",
       "        text-align: right;\n",
       "    }\n",
       "</style>\n",
       "<table border=\"1\" class=\"dataframe\">\n",
       "  <thead>\n",
       "    <tr style=\"text-align: right;\">\n",
       "      <th></th>\n",
       "      <th>subject_id</th>\n",
       "      <th>hadm_id</th>\n",
       "      <th>valuenum</th>\n",
       "      <th>flag</th>\n",
       "    </tr>\n",
       "  </thead>\n",
       "  <tbody>\n",
       "    <tr>\n",
       "      <th>0</th>\n",
       "      <td>18961</td>\n",
       "      <td>12162.0</td>\n",
       "      <td>539.0</td>\n",
       "      <td>abnormal</td>\n",
       "    </tr>\n",
       "    <tr>\n",
       "      <th>1</th>\n",
       "      <td>23083</td>\n",
       "      <td>27024.0</td>\n",
       "      <td>150.0</td>\n",
       "      <td>abnormal</td>\n",
       "    </tr>\n",
       "    <tr>\n",
       "      <th>2</th>\n",
       "      <td>9082</td>\n",
       "      <td>NaN</td>\n",
       "      <td>112.0</td>\n",
       "      <td>abnormal</td>\n",
       "    </tr>\n",
       "    <tr>\n",
       "      <th>3</th>\n",
       "      <td>13599</td>\n",
       "      <td>NaN</td>\n",
       "      <td>187.0</td>\n",
       "      <td>abnormal</td>\n",
       "    </tr>\n",
       "    <tr>\n",
       "      <th>4</th>\n",
       "      <td>16186</td>\n",
       "      <td>12747.0</td>\n",
       "      <td>52.0</td>\n",
       "      <td>abnormal</td>\n",
       "    </tr>\n",
       "    <tr>\n",
       "      <th>...</th>\n",
       "      <td>...</td>\n",
       "      <td>...</td>\n",
       "      <td>...</td>\n",
       "      <td>...</td>\n",
       "    </tr>\n",
       "    <tr>\n",
       "      <th>95</th>\n",
       "      <td>19006</td>\n",
       "      <td>1251.0</td>\n",
       "      <td>119.0</td>\n",
       "      <td>abnormal</td>\n",
       "    </tr>\n",
       "    <tr>\n",
       "      <th>96</th>\n",
       "      <td>6659</td>\n",
       "      <td>3374.0</td>\n",
       "      <td>98.0</td>\n",
       "      <td>normal</td>\n",
       "    </tr>\n",
       "    <tr>\n",
       "      <th>97</th>\n",
       "      <td>14457</td>\n",
       "      <td>4896.0</td>\n",
       "      <td>85.0</td>\n",
       "      <td>normal</td>\n",
       "    </tr>\n",
       "    <tr>\n",
       "      <th>98</th>\n",
       "      <td>21447</td>\n",
       "      <td>22910.0</td>\n",
       "      <td>269.0</td>\n",
       "      <td>abnormal</td>\n",
       "    </tr>\n",
       "    <tr>\n",
       "      <th>99</th>\n",
       "      <td>21017</td>\n",
       "      <td>9582.0</td>\n",
       "      <td>115.0</td>\n",
       "      <td>abnormal</td>\n",
       "    </tr>\n",
       "  </tbody>\n",
       "</table>\n",
       "<p>100 rows × 4 columns</p>\n",
       "</div>"
      ],
      "text/plain": [
       "    subject_id  hadm_id  valuenum      flag\n",
       "0        18961  12162.0     539.0  abnormal\n",
       "1        23083  27024.0     150.0  abnormal\n",
       "2         9082      NaN     112.0  abnormal\n",
       "3        13599      NaN     187.0  abnormal\n",
       "4        16186  12747.0      52.0  abnormal\n",
       "..         ...      ...       ...       ...\n",
       "95       19006   1251.0     119.0  abnormal\n",
       "96        6659   3374.0      98.0    normal\n",
       "97       14457   4896.0      85.0    normal\n",
       "98       21447  22910.0     269.0  abnormal\n",
       "99       21017   9582.0     115.0  abnormal\n",
       "\n",
       "[100 rows x 4 columns]"
      ]
     },
     "execution_count": 89,
     "metadata": {},
     "output_type": "execute_result"
    }
   ],
   "source": [
    "glucose2"
   ]
  },
  {
   "cell_type": "markdown",
   "metadata": {},
   "source": [
    "### Replacing missing values in `pandas`\n",
    "We can also fill in missing values directly in our dataframe. The method `Series.fillna(new_value)` returns a new series with all missing values filled in with `new_value`. We can then reassign the column to this new, non-missing column.\n",
    "\n",
    "#### TODO\n",
    "Edit the code below so all missing values of the `flag` of `glucose` are filled in with `normal`."
   ]
  },
  {
   "cell_type": "code",
   "execution_count": 95,
   "metadata": {},
   "outputs": [],
   "source": [
    "glucose[\"flag\"] = glucose[\"flag\"].fillna(\"normal\")"
   ]
  },
  {
   "cell_type": "code",
   "execution_count": null,
   "metadata": {},
   "outputs": [],
   "source": [
    "glucose[____] = ____[\"flag\"].fillna(____)"
   ]
  },
  {
   "cell_type": "code",
   "execution_count": 96,
   "metadata": {},
   "outputs": [
    {
     "name": "stdout",
     "output_type": "stream",
     "text": [
      "That is correct!\n"
     ]
    }
   ],
   "source": [
    "test_glucose_coalesce.test(glucose)"
   ]
  },
  {
   "cell_type": "code",
   "execution_count": null,
   "metadata": {},
   "outputs": [],
   "source": []
  },
  {
   "cell_type": "markdown",
   "metadata": {},
   "source": [
    "Now that we've filled in the missing values of `flag`, let's compare the distribution of `valuenum` between normal and abnormal results.\n",
    "\n",
    "#### TODO\n",
    "First calculate summary statistics of `glucose[\"valuenum\"]` stratified by `flag`. Then create a visualization comparing the distributions in the two groups."
   ]
  },
  {
   "cell_type": "code",
   "execution_count": 107,
   "metadata": {},
   "outputs": [
    {
     "data": {
      "application/vnd.jupyter.widget-view+json": {
       "model_id": "4c1e63082c4041bfa3376bb25eb29d4a",
       "version_major": 2,
       "version_minor": 0
      },
      "text/plain": [
       "VBox(children=(HTML(value='</br><strong>Displaying hint 0/1</strong>'), Output(), Button(description='Get hint…"
      ]
     },
     "metadata": {},
     "output_type": "display_data"
    },
    {
     "data": {
      "text/plain": []
     },
     "execution_count": 107,
     "metadata": {},
     "output_type": "execute_result"
    }
   ],
   "source": [
    "hint_summary_glucose = QuizHint(hints=[\n",
    "    widgets.HTML(\"\"\"Your output could look something like this:</br>\n",
    "    <img src=\"./media/hint_output_glucose_value_by_flag.png\" width=\"50%\">\n",
    "    \"\"\")\n",
    "])\n",
    "hint_summary_glucose"
   ]
  },
  {
   "cell_type": "code",
   "execution_count": 101,
   "metadata": {},
   "outputs": [
    {
     "data": {
      "text/html": [
       "<div>\n",
       "<style scoped>\n",
       "    .dataframe tbody tr th:only-of-type {\n",
       "        vertical-align: middle;\n",
       "    }\n",
       "\n",
       "    .dataframe tbody tr th {\n",
       "        vertical-align: top;\n",
       "    }\n",
       "\n",
       "    .dataframe thead th {\n",
       "        text-align: right;\n",
       "    }\n",
       "</style>\n",
       "<table border=\"1\" class=\"dataframe\">\n",
       "  <thead>\n",
       "    <tr style=\"text-align: right;\">\n",
       "      <th></th>\n",
       "      <th>count</th>\n",
       "      <th>mean</th>\n",
       "      <th>std</th>\n",
       "      <th>min</th>\n",
       "      <th>25%</th>\n",
       "      <th>50%</th>\n",
       "      <th>75%</th>\n",
       "      <th>max</th>\n",
       "    </tr>\n",
       "    <tr>\n",
       "      <th>flag</th>\n",
       "      <th></th>\n",
       "      <th></th>\n",
       "      <th></th>\n",
       "      <th></th>\n",
       "      <th></th>\n",
       "      <th></th>\n",
       "      <th></th>\n",
       "      <th></th>\n",
       "    </tr>\n",
       "  </thead>\n",
       "  <tbody>\n",
       "    <tr>\n",
       "      <th>abnormal</th>\n",
       "      <td>713.0</td>\n",
       "      <td>152.14446</td>\n",
       "      <td>61.772577</td>\n",
       "      <td>22.0</td>\n",
       "      <td>117.0</td>\n",
       "      <td>138.0</td>\n",
       "      <td>171.0</td>\n",
       "      <td>696.0</td>\n",
       "    </tr>\n",
       "    <tr>\n",
       "      <th>normal</th>\n",
       "      <td>287.0</td>\n",
       "      <td>91.30662</td>\n",
       "      <td>8.896652</td>\n",
       "      <td>70.0</td>\n",
       "      <td>84.5</td>\n",
       "      <td>92.0</td>\n",
       "      <td>98.0</td>\n",
       "      <td>105.0</td>\n",
       "    </tr>\n",
       "  </tbody>\n",
       "</table>\n",
       "</div>"
      ],
      "text/plain": [
       "          count       mean        std   min    25%    50%    75%    max\n",
       "flag                                                                   \n",
       "abnormal  713.0  152.14446  61.772577  22.0  117.0  138.0  171.0  696.0\n",
       "normal    287.0   91.30662   8.896652  70.0   84.5   92.0   98.0  105.0"
      ]
     },
     "execution_count": 101,
     "metadata": {},
     "output_type": "execute_result"
    }
   ],
   "source": [
    "glucose.groupby(\"flag\")[\"valuenum\"].describe()"
   ]
  },
  {
   "cell_type": "code",
   "execution_count": 102,
   "metadata": {},
   "outputs": [
    {
     "data": {
      "text/plain": [
       "<AxesSubplot:xlabel='flag', ylabel='valuenum'>"
      ]
     },
     "execution_count": 102,
     "metadata": {},
     "output_type": "execute_result"
    },
    {
     "data": {
      "image/png": "[encoded data removed]",
      "text/plain": [
       "<Figure size 432x288 with 1 Axes>"
      ]
     },
     "metadata": {},
     "output_type": "display_data"
    }
   ],
   "source": [
    "sns.boxplot(x=\"flag\", y=\"valuenum\", data=glucose)"
   ]
  },
  {
   "cell_type": "code",
   "execution_count": null,
   "metadata": {},
   "outputs": [],
   "source": []
  },
  {
   "cell_type": "markdown",
   "metadata": {},
   "source": [
    "## II. Vital Signs\n",
    "The `chartevents` table in MIMIC-II contains vitals measurements. The table `d_chartitems` defines what these measurements represents. Let's look at what the first 25 alphabetical vital measurements are:"
   ]
  },
  {
   "cell_type": "code",
   "execution_count": 4,
   "metadata": {
    "scrolled": true
   },
   "outputs": [
    {
     "name": "stderr",
     "output_type": "stream",
     "text": [
      "/Users/alecchapman/opt/miniconda3/envs/phs/lib/python3.9/site-packages/pandas/io/sql.py:761: UserWarning: pandas only support SQLAlchemy connectable(engine/connection) ordatabase string URI or sqlite3 DBAPI2 connectionother DBAPI2 objects are not tested, please consider using SQLAlchemy\n",
      "  warnings.warn(\n"
     ]
    },
    {
     "data": {
      "text/html": [
       "<div>\n",
       "<style scoped>\n",
       "    .dataframe tbody tr th:only-of-type {\n",
       "        vertical-align: middle;\n",
       "    }\n",
       "\n",
       "    .dataframe tbody tr th {\n",
       "        vertical-align: top;\n",
       "    }\n",
       "\n",
       "    .dataframe thead th {\n",
       "        text-align: right;\n",
       "    }\n",
       "</style>\n",
       "<table border=\"1\" class=\"dataframe\">\n",
       "  <thead>\n",
       "    <tr style=\"text-align: right;\">\n",
       "      <th></th>\n",
       "      <th>label</th>\n",
       "    </tr>\n",
       "  </thead>\n",
       "  <tbody>\n",
       "    <tr>\n",
       "      <th>0</th>\n",
       "      <td>% Inspir. Time</td>\n",
       "    </tr>\n",
       "    <tr>\n",
       "      <th>1</th>\n",
       "      <td>ABI (L)</td>\n",
       "    </tr>\n",
       "    <tr>\n",
       "      <th>2</th>\n",
       "      <td>ABI (R)</td>\n",
       "    </tr>\n",
       "    <tr>\n",
       "      <th>3</th>\n",
       "      <td>ABI Ankle BP R/L</td>\n",
       "    </tr>\n",
       "    <tr>\n",
       "      <th>4</th>\n",
       "      <td>ABI Brachial BP R/L</td>\n",
       "    </tr>\n",
       "    <tr>\n",
       "      <th>5</th>\n",
       "      <td>ABP</td>\n",
       "    </tr>\n",
       "    <tr>\n",
       "      <th>6</th>\n",
       "      <td>ART Lumen Volume</td>\n",
       "    </tr>\n",
       "    <tr>\n",
       "      <th>7</th>\n",
       "      <td>AV Interval</td>\n",
       "    </tr>\n",
       "    <tr>\n",
       "      <th>8</th>\n",
       "      <td>AaDO2</td>\n",
       "    </tr>\n",
       "    <tr>\n",
       "      <th>9</th>\n",
       "      <td>Abdominal Assessment</td>\n",
       "    </tr>\n",
       "    <tr>\n",
       "      <th>10</th>\n",
       "      <td>Abdominal Girth</td>\n",
       "    </tr>\n",
       "    <tr>\n",
       "      <th>11</th>\n",
       "      <td>Access mmHg</td>\n",
       "    </tr>\n",
       "    <tr>\n",
       "      <th>12</th>\n",
       "      <td>Activity</td>\n",
       "    </tr>\n",
       "    <tr>\n",
       "      <th>13</th>\n",
       "      <td>Activity Tolerance</td>\n",
       "    </tr>\n",
       "    <tr>\n",
       "      <th>14</th>\n",
       "      <td>Add Gas Flow (Vent)</td>\n",
       "    </tr>\n",
       "    <tr>\n",
       "      <th>15</th>\n",
       "      <td>Additional Gas (lpm)</td>\n",
       "    </tr>\n",
       "    <tr>\n",
       "      <th>16</th>\n",
       "      <td>Additional Gas(Mask)</td>\n",
       "    </tr>\n",
       "    <tr>\n",
       "      <th>17</th>\n",
       "      <td>Additional Gas(Vent)</td>\n",
       "    </tr>\n",
       "    <tr>\n",
       "      <th>18</th>\n",
       "      <td>Airway</td>\n",
       "    </tr>\n",
       "    <tr>\n",
       "      <th>19</th>\n",
       "      <td>Airway Size</td>\n",
       "    </tr>\n",
       "    <tr>\n",
       "      <th>20</th>\n",
       "      <td>Airway Type</td>\n",
       "    </tr>\n",
       "    <tr>\n",
       "      <th>21</th>\n",
       "      <td>Alarms Activated</td>\n",
       "    </tr>\n",
       "    <tr>\n",
       "      <th>22</th>\n",
       "      <td>Angio Appearance #1</td>\n",
       "    </tr>\n",
       "    <tr>\n",
       "      <th>23</th>\n",
       "      <td>Angio Appearance #2</td>\n",
       "    </tr>\n",
       "    <tr>\n",
       "      <th>24</th>\n",
       "      <td>Angio Dressing #1</td>\n",
       "    </tr>\n",
       "  </tbody>\n",
       "</table>\n",
       "</div>"
      ],
      "text/plain": [
       "                   label\n",
       "0         % Inspir. Time\n",
       "1                ABI (L)\n",
       "2                ABI (R)\n",
       "3       ABI Ankle BP R/L\n",
       "4    ABI Brachial BP R/L\n",
       "5                    ABP\n",
       "6       ART Lumen Volume\n",
       "7            AV Interval\n",
       "8                  AaDO2\n",
       "9   Abdominal Assessment\n",
       "10       Abdominal Girth\n",
       "11           Access mmHg\n",
       "12              Activity\n",
       "13    Activity Tolerance\n",
       "14   Add Gas Flow (Vent)\n",
       "15  Additional Gas (lpm)\n",
       "16  Additional Gas(Mask)\n",
       "17  Additional Gas(Vent)\n",
       "18                Airway\n",
       "19           Airway Size\n",
       "20           Airway Type\n",
       "21      Alarms Activated\n",
       "22   Angio Appearance #1\n",
       "23   Angio Appearance #2\n",
       "24     Angio Dressing #1"
      ]
     },
     "execution_count": 4,
     "metadata": {},
     "output_type": "execute_result"
    }
   ],
   "source": [
    "query = \"\"\"\n",
    "SELECT \n",
    "    DISTINCT d_chartitems.label\n",
    "FROM d_chartitems\n",
    "LIMIT 25;\n",
    "\"\"\"\n",
    "df = pd.read_sql(query, conn)\n",
    "df"
   ]
  },
  {
   "cell_type": "markdown",
   "metadata": {},
   "source": [
    "Now let's query the first 100 rows from `chartevents` to see what some actual measurements look like:"
   ]
  },
  {
   "cell_type": "code",
   "execution_count": 7,
   "metadata": {
    "scrolled": true
   },
   "outputs": [
    {
     "data": {
      "text/html": [
       "<div>\n",
       "<style scoped>\n",
       "    .dataframe tbody tr th:only-of-type {\n",
       "        vertical-align: middle;\n",
       "    }\n",
       "\n",
       "    .dataframe tbody tr th {\n",
       "        vertical-align: top;\n",
       "    }\n",
       "\n",
       "    .dataframe thead th {\n",
       "        text-align: right;\n",
       "    }\n",
       "</style>\n",
       "<table border=\"1\" class=\"dataframe\">\n",
       "  <thead>\n",
       "    <tr style=\"text-align: right;\">\n",
       "      <th></th>\n",
       "      <th>subject_id</th>\n",
       "      <th>icustay_id</th>\n",
       "      <th>itemid</th>\n",
       "      <th>charttime</th>\n",
       "      <th>elemid</th>\n",
       "      <th>realtime</th>\n",
       "      <th>cgid</th>\n",
       "      <th>cuid</th>\n",
       "      <th>value1</th>\n",
       "      <th>value1num</th>\n",
       "      <th>value1uom</th>\n",
       "      <th>value2</th>\n",
       "      <th>value2num</th>\n",
       "      <th>value2uom</th>\n",
       "      <th>resultstatus</th>\n",
       "      <th>stopped</th>\n",
       "      <th>itemid</th>\n",
       "      <th>label</th>\n",
       "      <th>category</th>\n",
       "      <th>description</th>\n",
       "    </tr>\n",
       "  </thead>\n",
       "  <tbody>\n",
       "    <tr>\n",
       "      <th>0</th>\n",
       "      <td>146</td>\n",
       "      <td>181</td>\n",
       "      <td>1</td>\n",
       "      <td>3094-01-11 18:21:00</td>\n",
       "      <td>0</td>\n",
       "      <td>3094-01-11 18:24:00</td>\n",
       "      <td>3349</td>\n",
       "      <td>54</td>\n",
       "      <td>33%</td>\n",
       "      <td>None</td>\n",
       "      <td>None</td>\n",
       "      <td>None</td>\n",
       "      <td>None</td>\n",
       "      <td>None</td>\n",
       "      <td>None</td>\n",
       "      <td>NotStopd</td>\n",
       "      <td>1</td>\n",
       "      <td>% Inspir. Time</td>\n",
       "      <td>None</td>\n",
       "      <td>None</td>\n",
       "    </tr>\n",
       "    <tr>\n",
       "      <th>1</th>\n",
       "      <td>146</td>\n",
       "      <td>181</td>\n",
       "      <td>1</td>\n",
       "      <td>3094-01-11 20:27:00</td>\n",
       "      <td>0</td>\n",
       "      <td>3094-01-11 20:31:00</td>\n",
       "      <td>3801</td>\n",
       "      <td>54</td>\n",
       "      <td>33%</td>\n",
       "      <td>None</td>\n",
       "      <td>None</td>\n",
       "      <td>None</td>\n",
       "      <td>None</td>\n",
       "      <td>None</td>\n",
       "      <td>None</td>\n",
       "      <td>NotStopd</td>\n",
       "      <td>1</td>\n",
       "      <td>% Inspir. Time</td>\n",
       "      <td>None</td>\n",
       "      <td>None</td>\n",
       "    </tr>\n",
       "    <tr>\n",
       "      <th>2</th>\n",
       "      <td>146</td>\n",
       "      <td>181</td>\n",
       "      <td>1</td>\n",
       "      <td>3094-01-12 00:25:00</td>\n",
       "      <td>0</td>\n",
       "      <td>3094-01-12 00:32:00</td>\n",
       "      <td>3561</td>\n",
       "      <td>54</td>\n",
       "      <td>33%</td>\n",
       "      <td>None</td>\n",
       "      <td>None</td>\n",
       "      <td>None</td>\n",
       "      <td>None</td>\n",
       "      <td>None</td>\n",
       "      <td>None</td>\n",
       "      <td>NotStopd</td>\n",
       "      <td>1</td>\n",
       "      <td>% Inspir. Time</td>\n",
       "      <td>None</td>\n",
       "      <td>None</td>\n",
       "    </tr>\n",
       "    <tr>\n",
       "      <th>3</th>\n",
       "      <td>146</td>\n",
       "      <td>181</td>\n",
       "      <td>1</td>\n",
       "      <td>3094-01-12 18:00:00</td>\n",
       "      <td>0</td>\n",
       "      <td>3094-01-12 18:00:00</td>\n",
       "      <td>-1</td>\n",
       "      <td>54</td>\n",
       "      <td>None</td>\n",
       "      <td>None</td>\n",
       "      <td>None</td>\n",
       "      <td>None</td>\n",
       "      <td>None</td>\n",
       "      <td>None</td>\n",
       "      <td>None</td>\n",
       "      <td>D/C'd</td>\n",
       "      <td>1</td>\n",
       "      <td>% Inspir. Time</td>\n",
       "      <td>None</td>\n",
       "      <td>None</td>\n",
       "    </tr>\n",
       "    <tr>\n",
       "      <th>4</th>\n",
       "      <td>813</td>\n",
       "      <td>999</td>\n",
       "      <td>1</td>\n",
       "      <td>3267-12-05 12:41:00</td>\n",
       "      <td>0</td>\n",
       "      <td>3267-12-05 12:48:00</td>\n",
       "      <td>426</td>\n",
       "      <td>1</td>\n",
       "      <td>33%</td>\n",
       "      <td>None</td>\n",
       "      <td>None</td>\n",
       "      <td>None</td>\n",
       "      <td>None</td>\n",
       "      <td>None</td>\n",
       "      <td>None</td>\n",
       "      <td>NotStopd</td>\n",
       "      <td>1</td>\n",
       "      <td>% Inspir. Time</td>\n",
       "      <td>None</td>\n",
       "      <td>None</td>\n",
       "    </tr>\n",
       "    <tr>\n",
       "      <th>...</th>\n",
       "      <td>...</td>\n",
       "      <td>...</td>\n",
       "      <td>...</td>\n",
       "      <td>...</td>\n",
       "      <td>...</td>\n",
       "      <td>...</td>\n",
       "      <td>...</td>\n",
       "      <td>...</td>\n",
       "      <td>...</td>\n",
       "      <td>...</td>\n",
       "      <td>...</td>\n",
       "      <td>...</td>\n",
       "      <td>...</td>\n",
       "      <td>...</td>\n",
       "      <td>...</td>\n",
       "      <td>...</td>\n",
       "      <td>...</td>\n",
       "      <td>...</td>\n",
       "      <td>...</td>\n",
       "      <td>...</td>\n",
       "    </tr>\n",
       "    <tr>\n",
       "      <th>95</th>\n",
       "      <td>1692</td>\n",
       "      <td>2091</td>\n",
       "      <td>1</td>\n",
       "      <td>3336-06-07 04:00:00</td>\n",
       "      <td>0</td>\n",
       "      <td>3336-06-07 04:02:00</td>\n",
       "      <td>3561</td>\n",
       "      <td>54</td>\n",
       "      <td>33%</td>\n",
       "      <td>None</td>\n",
       "      <td>None</td>\n",
       "      <td>None</td>\n",
       "      <td>None</td>\n",
       "      <td>None</td>\n",
       "      <td>None</td>\n",
       "      <td>NotStopd</td>\n",
       "      <td>1</td>\n",
       "      <td>% Inspir. Time</td>\n",
       "      <td>None</td>\n",
       "      <td>None</td>\n",
       "    </tr>\n",
       "    <tr>\n",
       "      <th>96</th>\n",
       "      <td>1692</td>\n",
       "      <td>2091</td>\n",
       "      <td>1</td>\n",
       "      <td>3336-06-07 06:00:00</td>\n",
       "      <td>0</td>\n",
       "      <td>3336-06-07 06:24:00</td>\n",
       "      <td>3375</td>\n",
       "      <td>54</td>\n",
       "      <td>33%</td>\n",
       "      <td>None</td>\n",
       "      <td>None</td>\n",
       "      <td>None</td>\n",
       "      <td>None</td>\n",
       "      <td>None</td>\n",
       "      <td>None</td>\n",
       "      <td>NotStopd</td>\n",
       "      <td>1</td>\n",
       "      <td>% Inspir. Time</td>\n",
       "      <td>None</td>\n",
       "      <td>None</td>\n",
       "    </tr>\n",
       "    <tr>\n",
       "      <th>97</th>\n",
       "      <td>1692</td>\n",
       "      <td>2091</td>\n",
       "      <td>1</td>\n",
       "      <td>3336-06-07 23:00:00</td>\n",
       "      <td>0</td>\n",
       "      <td>3336-06-07 23:00:00</td>\n",
       "      <td>-1</td>\n",
       "      <td>54</td>\n",
       "      <td>None</td>\n",
       "      <td>None</td>\n",
       "      <td>None</td>\n",
       "      <td>None</td>\n",
       "      <td>None</td>\n",
       "      <td>None</td>\n",
       "      <td>None</td>\n",
       "      <td>D/C'd</td>\n",
       "      <td>1</td>\n",
       "      <td>% Inspir. Time</td>\n",
       "      <td>None</td>\n",
       "      <td>None</td>\n",
       "    </tr>\n",
       "    <tr>\n",
       "      <th>98</th>\n",
       "      <td>1692</td>\n",
       "      <td>2091</td>\n",
       "      <td>1</td>\n",
       "      <td>3336-06-08 17:00:00</td>\n",
       "      <td>0</td>\n",
       "      <td>3336-06-08 17:41:00</td>\n",
       "      <td>3447</td>\n",
       "      <td>54</td>\n",
       "      <td>33%</td>\n",
       "      <td>None</td>\n",
       "      <td>None</td>\n",
       "      <td>None</td>\n",
       "      <td>None</td>\n",
       "      <td>None</td>\n",
       "      <td>None</td>\n",
       "      <td>NotStopd</td>\n",
       "      <td>1</td>\n",
       "      <td>% Inspir. Time</td>\n",
       "      <td>None</td>\n",
       "      <td>None</td>\n",
       "    </tr>\n",
       "    <tr>\n",
       "      <th>99</th>\n",
       "      <td>1692</td>\n",
       "      <td>2091</td>\n",
       "      <td>1</td>\n",
       "      <td>3336-06-08 19:00:00</td>\n",
       "      <td>0</td>\n",
       "      <td>3336-06-08 18:58:00</td>\n",
       "      <td>3561</td>\n",
       "      <td>54</td>\n",
       "      <td>33%</td>\n",
       "      <td>None</td>\n",
       "      <td>None</td>\n",
       "      <td>None</td>\n",
       "      <td>None</td>\n",
       "      <td>None</td>\n",
       "      <td>None</td>\n",
       "      <td>NotStopd</td>\n",
       "      <td>1</td>\n",
       "      <td>% Inspir. Time</td>\n",
       "      <td>None</td>\n",
       "      <td>None</td>\n",
       "    </tr>\n",
       "  </tbody>\n",
       "</table>\n",
       "<p>100 rows × 20 columns</p>\n",
       "</div>"
      ],
      "text/plain": [
       "    subject_id  icustay_id  itemid            charttime  elemid  \\\n",
       "0          146         181       1  3094-01-11 18:21:00       0   \n",
       "1          146         181       1  3094-01-11 20:27:00       0   \n",
       "2          146         181       1  3094-01-12 00:25:00       0   \n",
       "3          146         181       1  3094-01-12 18:00:00       0   \n",
       "4          813         999       1  3267-12-05 12:41:00       0   \n",
       "..         ...         ...     ...                  ...     ...   \n",
       "95        1692        2091       1  3336-06-07 04:00:00       0   \n",
       "96        1692        2091       1  3336-06-07 06:00:00       0   \n",
       "97        1692        2091       1  3336-06-07 23:00:00       0   \n",
       "98        1692        2091       1  3336-06-08 17:00:00       0   \n",
       "99        1692        2091       1  3336-06-08 19:00:00       0   \n",
       "\n",
       "               realtime  cgid  cuid value1 value1num value1uom value2  \\\n",
       "0   3094-01-11 18:24:00  3349    54    33%      None      None   None   \n",
       "1   3094-01-11 20:31:00  3801    54    33%      None      None   None   \n",
       "2   3094-01-12 00:32:00  3561    54    33%      None      None   None   \n",
       "3   3094-01-12 18:00:00    -1    54   None      None      None   None   \n",
       "4   3267-12-05 12:48:00   426     1    33%      None      None   None   \n",
       "..                  ...   ...   ...    ...       ...       ...    ...   \n",
       "95  3336-06-07 04:02:00  3561    54    33%      None      None   None   \n",
       "96  3336-06-07 06:24:00  3375    54    33%      None      None   None   \n",
       "97  3336-06-07 23:00:00    -1    54   None      None      None   None   \n",
       "98  3336-06-08 17:41:00  3447    54    33%      None      None   None   \n",
       "99  3336-06-08 18:58:00  3561    54    33%      None      None   None   \n",
       "\n",
       "   value2num value2uom resultstatus   stopped  itemid           label  \\\n",
       "0       None      None         None  NotStopd       1  % Inspir. Time   \n",
       "1       None      None         None  NotStopd       1  % Inspir. Time   \n",
       "2       None      None         None  NotStopd       1  % Inspir. Time   \n",
       "3       None      None         None     D/C'd       1  % Inspir. Time   \n",
       "4       None      None         None  NotStopd       1  % Inspir. Time   \n",
       "..       ...       ...          ...       ...     ...             ...   \n",
       "95      None      None         None  NotStopd       1  % Inspir. Time   \n",
       "96      None      None         None  NotStopd       1  % Inspir. Time   \n",
       "97      None      None         None     D/C'd       1  % Inspir. Time   \n",
       "98      None      None         None  NotStopd       1  % Inspir. Time   \n",
       "99      None      None         None  NotStopd       1  % Inspir. Time   \n",
       "\n",
       "   category description  \n",
       "0      None        None  \n",
       "1      None        None  \n",
       "2      None        None  \n",
       "3      None        None  \n",
       "4      None        None  \n",
       "..      ...         ...  \n",
       "95     None        None  \n",
       "96     None        None  \n",
       "97     None        None  \n",
       "98     None        None  \n",
       "99     None        None  \n",
       "\n",
       "[100 rows x 20 columns]"
      ]
     },
     "execution_count": 7,
     "metadata": {},
     "output_type": "execute_result"
    }
   ],
   "source": [
    "query = \"\"\"\n",
    "SELECT *\n",
    "FROM chartevents c\n",
    "    INNER JOIN d_chartitems d\n",
    "        ON c.itemid = d.itemid\n",
    "LIMIT 100\n",
    "\"\"\"\n",
    "pd.read_sql(query, conn)"
   ]
  },
  {
   "cell_type": "markdown",
   "metadata": {},
   "source": [
    "### Blood pressure\n",
    "For our first analysis, let's focus on measurements of blood pressure. Here is a valuset of `itemid` values that you can use for blood pressure: `(6, 51, 455, 6701)`. Let's first generate counts of how many times each of these are used.\n",
    "\n",
    "### `WHERE column IN (...)`\n",
    "Earlier when we had filtered our results to particular code values (like for pneumonia or a glucose test), we had used individual codes. We now have four codes. One way we could do this is by using an `OR` in our `WHERE` statement:\n",
    "\n",
    "```sql\n",
    "WHERE itemid = 6\n",
    "OR itemid = 51\n",
    "OR itemid = 455\n",
    "OR itemid = 6701\n",
    "```\n",
    "\n",
    "But a more concise way to do this would be to use the `IN` keyword, which checks if a value is in a list of values within parentheses:\n",
    "\n",
    "```sql\n",
    "WHERE itemid IN (6, 51, 455, 6701)\n",
    "```"
   ]
  },
  {
   "cell_type": "markdown",
   "metadata": {},
   "source": [
    "#### TODO\n",
    "Write and execute a query which returns the `itemid` and `label` columns from `d_chartitems` for each of the 4 value sets above. Use the `IN` keyword in your query."
   ]
  },
  {
   "cell_type": "code",
   "execution_count": 18,
   "metadata": {},
   "outputs": [
    {
     "name": "stderr",
     "output_type": "stream",
     "text": [
      "/Users/alecchapman/opt/miniconda3/envs/phs/lib/python3.9/site-packages/pandas/io/sql.py:761: UserWarning: pandas only support SQLAlchemy connectable(engine/connection) ordatabase string URI or sqlite3 DBAPI2 connectionother DBAPI2 objects are not tested, please consider using SQLAlchemy\n",
      "  warnings.warn(\n"
     ]
    },
    {
     "data": {
      "text/html": [
       "<div>\n",
       "<style scoped>\n",
       "    .dataframe tbody tr th:only-of-type {\n",
       "        vertical-align: middle;\n",
       "    }\n",
       "\n",
       "    .dataframe tbody tr th {\n",
       "        vertical-align: top;\n",
       "    }\n",
       "\n",
       "    .dataframe thead th {\n",
       "        text-align: right;\n",
       "    }\n",
       "</style>\n",
       "<table border=\"1\" class=\"dataframe\">\n",
       "  <thead>\n",
       "    <tr style=\"text-align: right;\">\n",
       "      <th></th>\n",
       "      <th>itemid</th>\n",
       "      <th>label</th>\n",
       "    </tr>\n",
       "  </thead>\n",
       "  <tbody>\n",
       "    <tr>\n",
       "      <th>0</th>\n",
       "      <td>6</td>\n",
       "      <td>ABP</td>\n",
       "    </tr>\n",
       "    <tr>\n",
       "      <th>1</th>\n",
       "      <td>51</td>\n",
       "      <td>Arterial BP</td>\n",
       "    </tr>\n",
       "    <tr>\n",
       "      <th>2</th>\n",
       "      <td>455</td>\n",
       "      <td>NBP</td>\n",
       "    </tr>\n",
       "    <tr>\n",
       "      <th>3</th>\n",
       "      <td>6701</td>\n",
       "      <td>Arterial BP #2</td>\n",
       "    </tr>\n",
       "  </tbody>\n",
       "</table>\n",
       "</div>"
      ],
      "text/plain": [
       "   itemid           label\n",
       "0       6             ABP\n",
       "1      51     Arterial BP\n",
       "2     455             NBP\n",
       "3    6701  Arterial BP #2"
      ]
     },
     "execution_count": 18,
     "metadata": {},
     "output_type": "execute_result"
    }
   ],
   "source": [
    "query = \"\"\"\n",
    "SELECT itemid, label\n",
    "FROM d_chartitems\n",
    "WHERE itemid IN (6, 51, 455, 6701)\n",
    "\"\"\"\n",
    "pd.read_sql(query, conn)"
   ]
  },
  {
   "cell_type": "code",
   "execution_count": 21,
   "metadata": {},
   "outputs": [
    {
     "data": {
      "application/vnd.jupyter.widget-view+json": {
       "model_id": "48fe1aaa440f432582ab15070b1cddee",
       "version_major": 2,
       "version_minor": 0
      },
      "text/plain": [
       "VBox(children=(HTML(value='<h4>TODO</h4> What is the label for the itemid 455?'), RadioButtons(layout=Layout(w…"
      ]
     },
     "metadata": {},
     "output_type": "display_data"
    },
    {
     "data": {
      "text/plain": []
     },
     "execution_count": 21,
     "metadata": {},
     "output_type": "execute_result"
    }
   ],
   "source": [
    "# RUN CELL TO SEE QUIZ\n",
    "quiz_label_455 "
   ]
  },
  {
   "cell_type": "code",
   "execution_count": null,
   "metadata": {},
   "outputs": [],
   "source": []
  },
  {
   "cell_type": "markdown",
   "metadata": {},
   "source": [
    "In the next section, we'll take a random sample of blood pressure measurements and analyze them. The **semantics** of this table aren't always clear, so we can refer to the MIMIC documentation for some explanation.\n",
    "\n",
    "For these rows, the values which we're interested in are:\n",
    "- `\"value1num\"` - this represents the systolic blood pressure\n",
    "- `\"value2num\"` - this represents the diastolic blood pressure\n",
    "#### TODO\n",
    "Query the **first 5,000 rows** of blood pressure measurements. Note that this shouldn't be a random sample, just the first 5,000. \n",
    "\n",
    "Select the following columns and assign aliases as appropriate:\n",
    "- `subject_id`\n",
    "- `value1num` as `systolic_bp`\n",
    "- `value2num` as `diastolic_bp`\n",
    "\n",
    "Name it `bp`. "
   ]
  },
  {
   "cell_type": "code",
   "execution_count": 60,
   "metadata": {},
   "outputs": [
    {
     "name": "stderr",
     "output_type": "stream",
     "text": [
      "/Users/alecchapman/opt/miniconda3/envs/phs/lib/python3.9/site-packages/pandas/io/sql.py:761: UserWarning: pandas only support SQLAlchemy connectable(engine/connection) ordatabase string URI or sqlite3 DBAPI2 connectionother DBAPI2 objects are not tested, please consider using SQLAlchemy\n",
      "  warnings.warn(\n"
     ]
    }
   ],
   "source": [
    "query = \"\"\"\n",
    "SELECT \n",
    "    subject_id,\n",
    "    value1num AS systolic_bp,\n",
    "    value2num AS diastolic_bp\n",
    "FROM chartevents c\n",
    "WHERE itemid IN (6, 51, 455, 6701)\n",
    "LIMIT 5000\n",
    "\"\"\"\n",
    "bp = pd.read_sql(query, conn)"
   ]
  },
  {
   "cell_type": "code",
   "execution_count": 61,
   "metadata": {},
   "outputs": [
    {
     "data": {
      "text/html": [
       "<div>\n",
       "<style scoped>\n",
       "    .dataframe tbody tr th:only-of-type {\n",
       "        vertical-align: middle;\n",
       "    }\n",
       "\n",
       "    .dataframe tbody tr th {\n",
       "        vertical-align: top;\n",
       "    }\n",
       "\n",
       "    .dataframe thead th {\n",
       "        text-align: right;\n",
       "    }\n",
       "</style>\n",
       "<table border=\"1\" class=\"dataframe\">\n",
       "  <thead>\n",
       "    <tr style=\"text-align: right;\">\n",
       "      <th></th>\n",
       "      <th>subject_id</th>\n",
       "      <th>systolic_bp</th>\n",
       "      <th>diastolic_bp</th>\n",
       "    </tr>\n",
       "  </thead>\n",
       "  <tbody>\n",
       "    <tr>\n",
       "      <th>0</th>\n",
       "      <td>15232</td>\n",
       "      <td>139.0</td>\n",
       "      <td>46.0</td>\n",
       "    </tr>\n",
       "    <tr>\n",
       "      <th>1</th>\n",
       "      <td>23292</td>\n",
       "      <td>NaN</td>\n",
       "      <td>NaN</td>\n",
       "    </tr>\n",
       "    <tr>\n",
       "      <th>2</th>\n",
       "      <td>29333</td>\n",
       "      <td>NaN</td>\n",
       "      <td>NaN</td>\n",
       "    </tr>\n",
       "    <tr>\n",
       "      <th>3</th>\n",
       "      <td>3</td>\n",
       "      <td>0.0</td>\n",
       "      <td>0.0</td>\n",
       "    </tr>\n",
       "    <tr>\n",
       "      <th>4</th>\n",
       "      <td>3</td>\n",
       "      <td>78.0</td>\n",
       "      <td>49.0</td>\n",
       "    </tr>\n",
       "  </tbody>\n",
       "</table>\n",
       "</div>"
      ],
      "text/plain": [
       "   subject_id  systolic_bp  diastolic_bp\n",
       "0       15232        139.0          46.0\n",
       "1       23292          NaN           NaN\n",
       "2       29333          NaN           NaN\n",
       "3           3          0.0           0.0\n",
       "4           3         78.0          49.0"
      ]
     },
     "execution_count": 61,
     "metadata": {},
     "output_type": "execute_result"
    }
   ],
   "source": [
    "bp.head()"
   ]
  },
  {
   "cell_type": "markdown",
   "metadata": {},
   "source": [
    "#### TODO\n",
    "How related do you think diastolic and systolic blood pressure are? Create a visualization comapring the two values and come up with a quantitative measure of their relationship.\n"
   ]
  },
  {
   "cell_type": "code",
   "execution_count": 45,
   "metadata": {},
   "outputs": [
    {
     "data": {
      "application/vnd.jupyter.widget-view+json": {
       "model_id": "e57e8e52a6a74e72803afac403197d4c",
       "version_major": 2,
       "version_minor": 0
      },
      "text/plain": [
       "VBox(children=(HTML(value='</br><strong>Displaying hint 0/2</strong>'), Output(), Button(description='Get hint…"
      ]
     },
     "metadata": {},
     "output_type": "display_data"
    },
    {
     "data": {
      "text/plain": []
     },
     "execution_count": 45,
     "metadata": {},
     "output_type": "execute_result"
    }
   ],
   "source": [
    "hint_systolic_v_diastolic"
   ]
  },
  {
   "cell_type": "code",
   "execution_count": 41,
   "metadata": {},
   "outputs": [
    {
     "data": {
      "text/plain": [
       "0.6764078359072582"
      ]
     },
     "execution_count": 41,
     "metadata": {},
     "output_type": "execute_result"
    }
   ],
   "source": [
    "bp[\"diastolic_bp\"].corr(bp[\"systolic_bp\"])"
   ]
  },
  {
   "cell_type": "code",
   "execution_count": 40,
   "metadata": {},
   "outputs": [
    {
     "data": {
      "text/plain": [
       "<AxesSubplot:xlabel='diastolic_bp', ylabel='systolic_bp'>"
      ]
     },
     "execution_count": 40,
     "metadata": {},
     "output_type": "execute_result"
    },
    {
     "data": {
      "image/png": "[encoded data removed]",
      "text/plain": [
       "<Figure size 432x288 with 1 Axes>"
      ]
     },
     "metadata": {},
     "output_type": "display_data"
    }
   ],
   "source": [
    "sns.scatterplot(x=\"diastolic_bp\", y=\"systolic_bp\", data=bp)"
   ]
  },
  {
   "cell_type": "code",
   "execution_count": null,
   "metadata": {},
   "outputs": [],
   "source": []
  },
  {
   "cell_type": "markdown",
   "metadata": {},
   "source": [
    "#### Discussion\n",
    "Just like the lab results from earlier, some of these the systolic and diastolic values are missing. With the glucose labs we decided that missing values of `flag` meant that the test the test results were normal. What do you think is the most likely cause of blood pressure values being missing? What are some options for dealing with these missing values?"
   ]
  },
  {
   "cell_type": "code",
   "execution_count": 52,
   "metadata": {},
   "outputs": [
    {
     "data": {
      "application/vnd.jupyter.widget-view+json": {
       "model_id": "32dcbf3afaca4b34b4454a66fb307d5e",
       "version_major": 2,
       "version_minor": 0
      },
      "text/plain": [
       "VBox(children=(HTML(value=''), RadioButtons(index=2, layout=Layout(width='auto'), options=('The blood pressure…"
      ]
     },
     "metadata": {},
     "output_type": "display_data"
    },
    {
     "data": {
      "text/plain": []
     },
     "execution_count": 52,
     "metadata": {},
     "output_type": "execute_result"
    }
   ],
   "source": [
    "# RUN CELL TO SEE QUIZ\n",
    "quiz_missing_bp"
   ]
  },
  {
   "cell_type": "code",
   "execution_count": null,
   "metadata": {},
   "outputs": [],
   "source": []
  },
  {
   "cell_type": "markdown",
   "metadata": {},
   "source": [
    "### Option 1: Drop rows with missing values\n",
    "One thing we can do is ismply drop any row that is misisng a blood pressure measurement. We can do this using the `dropna()` method. You can specify the columns in which to look for missing values by using the `subset` argument:\n",
    "\n",
    "```python\n",
    "df = df.dropna(subset=column_name)\n",
    "```\n",
    "\n",
    "#### TODO\n",
    "Create a new dataframe called `bp2` which has dropped any row which is missing `systolic_bp` or `diastolic_bp`."
   ]
  },
  {
   "cell_type": "code",
   "execution_count": 56,
   "metadata": {},
   "outputs": [],
   "source": [
    "bp2 = bp.dropna(subset=[\"systolic_bp\", \"diastolic_bp\"])"
   ]
  },
  {
   "cell_type": "markdown",
   "metadata": {},
   "source": [
    "### Option 2: Imputing missing values with the mean\n",
    "A second option could be to fill in the missing values with the sample mean. This allows us to avoid dropping these rows so we can keep these rows in our dataset. However, make sure to note in your analysis how your are treating these missing values!\n",
    "\n",
    "#### TODO\n",
    "Fill in missing rows of `systolic_bp` and `diastolic_bp` with their respective means. This is a similar process to what we did with the `flag` column above, but we need to first calculate the value we'll be using to replace missing values."
   ]
  },
  {
   "cell_type": "code",
   "execution_count": 64,
   "metadata": {},
   "outputs": [],
   "source": [
    "bp[[\"systolic_bp\", \"diastolic_bp\"]] = bp[[\"systolic_bp\", \"diastolic_bp\"]].fillna(bp[[\"systolic_bp\", \"diastolic_bp\"]].mean())"
   ]
  },
  {
   "cell_type": "code",
   "execution_count": 65,
   "metadata": {},
   "outputs": [
    {
     "data": {
      "text/html": [
       "<div>\n",
       "<style scoped>\n",
       "    .dataframe tbody tr th:only-of-type {\n",
       "        vertical-align: middle;\n",
       "    }\n",
       "\n",
       "    .dataframe tbody tr th {\n",
       "        vertical-align: top;\n",
       "    }\n",
       "\n",
       "    .dataframe thead th {\n",
       "        text-align: right;\n",
       "    }\n",
       "</style>\n",
       "<table border=\"1\" class=\"dataframe\">\n",
       "  <thead>\n",
       "    <tr style=\"text-align: right;\">\n",
       "      <th></th>\n",
       "      <th>systolic_bp</th>\n",
       "      <th>diastolic_bp</th>\n",
       "    </tr>\n",
       "  </thead>\n",
       "  <tbody>\n",
       "    <tr>\n",
       "      <th>0</th>\n",
       "      <td>139.00000</td>\n",
       "      <td>46.00000</td>\n",
       "    </tr>\n",
       "    <tr>\n",
       "      <th>1</th>\n",
       "      <td>120.62623</td>\n",
       "      <td>56.65957</td>\n",
       "    </tr>\n",
       "    <tr>\n",
       "      <th>2</th>\n",
       "      <td>120.62623</td>\n",
       "      <td>56.65957</td>\n",
       "    </tr>\n",
       "    <tr>\n",
       "      <th>3</th>\n",
       "      <td>0.00000</td>\n",
       "      <td>0.00000</td>\n",
       "    </tr>\n",
       "    <tr>\n",
       "      <th>4</th>\n",
       "      <td>78.00000</td>\n",
       "      <td>49.00000</td>\n",
       "    </tr>\n",
       "    <tr>\n",
       "      <th>...</th>\n",
       "      <td>...</td>\n",
       "      <td>...</td>\n",
       "    </tr>\n",
       "    <tr>\n",
       "      <th>4995</th>\n",
       "      <td>110.00000</td>\n",
       "      <td>55.00000</td>\n",
       "    </tr>\n",
       "    <tr>\n",
       "      <th>4996</th>\n",
       "      <td>100.00000</td>\n",
       "      <td>53.00000</td>\n",
       "    </tr>\n",
       "    <tr>\n",
       "      <th>4997</th>\n",
       "      <td>118.00000</td>\n",
       "      <td>60.00000</td>\n",
       "    </tr>\n",
       "    <tr>\n",
       "      <th>4998</th>\n",
       "      <td>119.00000</td>\n",
       "      <td>66.00000</td>\n",
       "    </tr>\n",
       "    <tr>\n",
       "      <th>4999</th>\n",
       "      <td>118.00000</td>\n",
       "      <td>59.00000</td>\n",
       "    </tr>\n",
       "  </tbody>\n",
       "</table>\n",
       "<p>5000 rows × 2 columns</p>\n",
       "</div>"
      ],
      "text/plain": [
       "      systolic_bp  diastolic_bp\n",
       "0       139.00000      46.00000\n",
       "1       120.62623      56.65957\n",
       "2       120.62623      56.65957\n",
       "3         0.00000       0.00000\n",
       "4        78.00000      49.00000\n",
       "...           ...           ...\n",
       "4995    110.00000      55.00000\n",
       "4996    100.00000      53.00000\n",
       "4997    118.00000      60.00000\n",
       "4998    119.00000      66.00000\n",
       "4999    118.00000      59.00000\n",
       "\n",
       "[5000 rows x 2 columns]"
      ]
     },
     "execution_count": 65,
     "metadata": {},
     "output_type": "execute_result"
    }
   ],
   "source": [
    "bp[[\"systolic_bp\", \"diastolic_bp\"]]"
   ]
  },
  {
   "cell_type": "code",
   "execution_count": null,
   "metadata": {},
   "outputs": [],
   "source": []
  }
 ],
 "metadata": {
  "kernelspec": {
   "display_name": "Python 3 (ipykernel)",
   "language": "python",
   "name": "python3"
  },
  "language_info": {
   "codemirror_mode": {
    "name": "ipython",
    "version": 3
   },
   "file_extension": ".py",
   "mimetype": "text/x-python",
   "name": "python",
   "nbconvert_exporter": "python",
   "pygments_lexer": "ipython3",
   "version": "3.9.12"
  }
 },
 "nbformat": 4,
 "nbformat_minor": 2
}
