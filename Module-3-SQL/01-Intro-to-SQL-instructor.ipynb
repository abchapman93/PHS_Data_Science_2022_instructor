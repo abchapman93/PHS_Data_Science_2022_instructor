{
 "cells": [
  {
   "cell_type": "markdown",
   "id": "eede350c",
   "metadata": {},
   "source": [
    "<html>\n",
    "<table width=\"100%\" cellspacing=\"2\" cellpadding=\"2\" border=\"1\">\n",
    "<tbody>\n",
    "<tr>\n",
    "<td valign=\"center\" align=\"center\" width=\"45%\"><img src=\"../media/Univ-Utah.jpeg\"><br>\n",
    "</td>\n",
    "    <td valign=\"center\" align=\"center\" width=\"75%\">\n",
    "<h1 align=\"center\"><font size=\"+1\">University of Utah<br>Population Health Sciences<br>Data Science Workshop</font></h1></td>\n",
    "<td valign=\"center\" align=\"center\" width=\"45%\"><img\n",
    "src=\"../media/U_Health_stacked_png_red.png\" alt=\"Utah Health\n",
    "Logo\" width=\"128\" height=\"134\"><br>\n",
    "</td>\n",
    "</tr>\n",
    "</tbody>\n",
    "</table>\n",
    "<br>\n",
    "</html>\n"
   ]
  },
  {
   "cell_type": "code",
   "execution_count": 2,
   "id": "479b34a8",
   "metadata": {},
   "outputs": [],
   "source": [
    "from helpers import *\n",
    "import pandas as pd"
   ]
  },
  {
   "cell_type": "markdown",
   "id": "ba5246b3",
   "metadata": {},
   "source": [
    "# Introduction to SQL\n",
    "Now that we have some background about what databases are and how they're structured, we'll get some hands-on experiencing joining tables and querying data from MIMIC."
   ]
  },
  {
   "cell_type": "code",
   "execution_count": null,
   "id": "9cca731a",
   "metadata": {},
   "outputs": [],
   "source": []
  },
  {
   "cell_type": "markdown",
   "id": "56e0f07e",
   "metadata": {},
   "source": [
    "## Connecting to MIMIC\n",
    "Throughout this class, we'll use the function `connect_to_mimic` to connect to the MIMIC database (imported as part of the `helpers` module). This requires the package `pymysql`, so you may have to install that first. \n",
    "\n",
    "\n",
    "#### TODO\n",
    "In the cells below, install `pymysql` and then run the function to connect to the database. Ask your instructor for the password when prompted."
   ]
  },
  {
   "cell_type": "code",
   "execution_count": 2,
   "id": "158e7691",
   "metadata": {},
   "outputs": [
    {
     "name": "stdout",
     "output_type": "stream",
     "text": [
      "Requirement already satisfied: pymysql in /Users/alecchapman/opt/miniconda3/envs/phs/lib/python3.9/site-packages (1.0.2)\r\n"
     ]
    }
   ],
   "source": [
    "!pip install pymysql"
   ]
  },
  {
   "cell_type": "code",
   "execution_count": 3,
   "id": "a7f4eb99",
   "metadata": {},
   "outputs": [
    {
     "name": "stdout",
     "output_type": "stream",
     "text": [
      "Enter password for MIMIC2 database········\n"
     ]
    },
    {
     "data": {
      "text/plain": [
       "<pymysql.connections.Connection at 0x7fe191ac13a0>"
      ]
     },
     "execution_count": 3,
     "metadata": {},
     "output_type": "execute_result"
    }
   ],
   "source": [
    "conn = connect_to_mimic(\"uu-phs\")\n",
    "conn"
   ]
  },
  {
   "cell_type": "markdown",
   "id": "ed649db7",
   "metadata": {},
   "source": [
    "Great, we've connected to MIMIC! Now we're almost ready to pull some data. But first we need to learn some basic SQL."
   ]
  },
  {
   "cell_type": "code",
   "execution_count": null,
   "id": "914f3e3b",
   "metadata": {},
   "outputs": [],
   "source": []
  },
  {
   "cell_type": "markdown",
   "id": "a9f3d939",
   "metadata": {},
   "source": [
    "## Administrative and demographic data\n",
    "For next couple of notebooks, we'll focus on tables containing **ddministrative and demographic data**. These tables define general information about the patient or their hospitalizations. This includes data elements such as:\n",
    "- Name\n",
    "- Sex\n",
    "- Date of birth\n",
    "- Insurance information\n",
    "- Admit/discharge datetime\n",
    "\n",
    "We'll focus on three tables for now: `admission`, `d_patients`, and `demographic_detail`. Let's start writing some queries in SQL!"
   ]
  },
  {
   "cell_type": "code",
   "execution_count": null,
   "id": "7f81fe2b",
   "metadata": {},
   "outputs": [],
   "source": []
  },
  {
   "cell_type": "markdown",
   "id": "c448d280",
   "metadata": {},
   "source": [
    "## SQL\n",
    "**Structured Query Language (SQL)** is a programming language used to interact with many relational databases. There are many different *flavors* of SQL that vary slightly from one another, but the core logic is typically the same.\n",
    "\n",
    "When we use SQL, we execute a **query** which runs some logic to specifyl, filter, and transform data in the database. It then returns the **result set** to us. In Python, we can use the `pandas` function `read_sql` to connect to a database and execute a query.  `pd.read_sql` takes two required arguments:\n",
    "\n",
    "- `sql`: A string containing a SQL query\n",
    "- `con`: The connection object which allows us to access the database \n",
    "For the second argument, we'll use the `conn` object returned by `connect_to_mimic`. The first argument should be a string containing SQL code.\n",
    "\n",
    "Here is an example of executing a query:"
   ]
  },
  {
   "cell_type": "code",
   "execution_count": 14,
   "id": "0165d7cc",
   "metadata": {},
   "outputs": [
    {
     "name": "stderr",
     "output_type": "stream",
     "text": [
      "/Users/alecchapman/opt/miniconda3/envs/phs/lib/python3.9/site-packages/pandas/io/sql.py:761: UserWarning: pandas only support SQLAlchemy connectable(engine/connection) ordatabase string URI or sqlite3 DBAPI2 connectionother DBAPI2 objects are not tested, please consider using SQLAlchemy\n",
      "  warnings.warn(\n"
     ]
    },
    {
     "data": {
      "text/html": [
       "<div>\n",
       "<style scoped>\n",
       "    .dataframe tbody tr th:only-of-type {\n",
       "        vertical-align: middle;\n",
       "    }\n",
       "\n",
       "    .dataframe tbody tr th {\n",
       "        vertical-align: top;\n",
       "    }\n",
       "\n",
       "    .dataframe thead th {\n",
       "        text-align: right;\n",
       "    }\n",
       "</style>\n",
       "<table border=\"1\" class=\"dataframe\">\n",
       "  <thead>\n",
       "    <tr style=\"text-align: right;\">\n",
       "      <th></th>\n",
       "      <th>hadm_id</th>\n",
       "      <th>subject_id</th>\n",
       "      <th>admit_dt</th>\n",
       "      <th>disch_dt</th>\n",
       "    </tr>\n",
       "  </thead>\n",
       "  <tbody>\n",
       "    <tr>\n",
       "      <th>0</th>\n",
       "      <td>2</td>\n",
       "      <td>24807</td>\n",
       "      <td>3033-07-08 00:00:00</td>\n",
       "      <td>3033-07-17 00:00:00</td>\n",
       "    </tr>\n",
       "    <tr>\n",
       "      <th>1</th>\n",
       "      <td>10</td>\n",
       "      <td>14884</td>\n",
       "      <td>3015-08-28 00:00:00</td>\n",
       "      <td>3015-09-05 00:00:00</td>\n",
       "    </tr>\n",
       "    <tr>\n",
       "      <th>2</th>\n",
       "      <td>49</td>\n",
       "      <td>2328</td>\n",
       "      <td>2549-07-12 00:00:00</td>\n",
       "      <td>2549-07-16 00:00:00</td>\n",
       "    </tr>\n",
       "    <tr>\n",
       "      <th>3</th>\n",
       "      <td>50</td>\n",
       "      <td>6335</td>\n",
       "      <td>2789-08-21 00:00:00</td>\n",
       "      <td>2789-09-01 00:00:00</td>\n",
       "    </tr>\n",
       "    <tr>\n",
       "      <th>4</th>\n",
       "      <td>68</td>\n",
       "      <td>7664</td>\n",
       "      <td>2535-08-01 00:00:00</td>\n",
       "      <td>2535-08-10 00:00:00</td>\n",
       "    </tr>\n",
       "    <tr>\n",
       "      <th>5</th>\n",
       "      <td>74</td>\n",
       "      <td>19937</td>\n",
       "      <td>2861-08-04 00:00:00</td>\n",
       "      <td>2861-08-10 00:00:00</td>\n",
       "    </tr>\n",
       "    <tr>\n",
       "      <th>6</th>\n",
       "      <td>80</td>\n",
       "      <td>1984</td>\n",
       "      <td>2575-07-06 00:00:00</td>\n",
       "      <td>2575-07-17 00:00:00</td>\n",
       "    </tr>\n",
       "    <tr>\n",
       "      <th>7</th>\n",
       "      <td>123</td>\n",
       "      <td>12792</td>\n",
       "      <td>2882-06-26 00:00:00</td>\n",
       "      <td>2882-08-05 00:00:00</td>\n",
       "    </tr>\n",
       "    <tr>\n",
       "      <th>8</th>\n",
       "      <td>130</td>\n",
       "      <td>14212</td>\n",
       "      <td>2966-07-14 00:00:00</td>\n",
       "      <td>2966-08-07 00:00:00</td>\n",
       "    </tr>\n",
       "    <tr>\n",
       "      <th>9</th>\n",
       "      <td>173</td>\n",
       "      <td>17287</td>\n",
       "      <td>2985-05-07 00:00:00</td>\n",
       "      <td>2985-05-17 00:00:00</td>\n",
       "    </tr>\n",
       "  </tbody>\n",
       "</table>\n",
       "</div>"
      ],
      "text/plain": [
       "   hadm_id  subject_id             admit_dt             disch_dt\n",
       "0        2       24807  3033-07-08 00:00:00  3033-07-17 00:00:00\n",
       "1       10       14884  3015-08-28 00:00:00  3015-09-05 00:00:00\n",
       "2       49        2328  2549-07-12 00:00:00  2549-07-16 00:00:00\n",
       "3       50        6335  2789-08-21 00:00:00  2789-09-01 00:00:00\n",
       "4       68        7664  2535-08-01 00:00:00  2535-08-10 00:00:00\n",
       "5       74       19937  2861-08-04 00:00:00  2861-08-10 00:00:00\n",
       "6       80        1984  2575-07-06 00:00:00  2575-07-17 00:00:00\n",
       "7      123       12792  2882-06-26 00:00:00  2882-08-05 00:00:00\n",
       "8      130       14212  2966-07-14 00:00:00  2966-08-07 00:00:00\n",
       "9      173       17287  2985-05-07 00:00:00  2985-05-17 00:00:00"
      ]
     },
     "execution_count": 14,
     "metadata": {},
     "output_type": "execute_result"
    }
   ],
   "source": [
    "query = \"\"\"\n",
    "SELECT *\n",
    "FROM admissions\n",
    "WHERE admit_dt <= '3033-07-08 00:00:00'\n",
    "LIMIT 10;\n",
    "\"\"\"\n",
    "\n",
    "pd.read_sql(query, conn)"
   ]
  },
  {
   "cell_type": "code",
   "execution_count": null,
   "id": "7fe8b3a0",
   "metadata": {},
   "outputs": [],
   "source": []
  },
  {
   "cell_type": "markdown",
   "id": "25fbf8d1",
   "metadata": {},
   "source": [
    "## Structure of a SQL query\n",
    "\n",
    "Let's go back through that SQL query. If we were to translate the query to natural language, we might express it as:\n",
    "\n",
    "---\n",
    "**\"Give me the top 10 rows of data from the `admissions` table where the admit datetime was before July 8th, 3033.\"** (Why do you think the dates look so weird?)\n",
    "\n",
    "---\n",
    "\n",
    "This returns a pandas DataFrame with four columns and 10 rows.\n",
    "\n",
    "#### Discussion\n",
    "What columns are returned by this query? What do the columns/values mean?"
   ]
  },
  {
   "cell_type": "markdown",
   "id": "124e10f9",
   "metadata": {},
   "source": [
    "</br>\n",
    "More generally, here is the structure of a SQL query:\n",
    "\n",
    "--- \n",
    "<html>\n",
    "<font>\n",
    "    <p style=\"font-family:courier\";>SELECT COLUMN NAMES (or *)</p>\n",
    "    <p style=\"font-family:courier\";> FROM TABLE NAME</p>\n",
    "    <p style=\"font-family:courier\";>(optional) JOIN</p>\n",
    "    <p style=\"font-family:courier\";>WHERE (condition)</p>\n",
    "    <p style=\"font-family:courier\";>(optional) ORDER BY ...</p>\n",
    "    <p style=\"font-family:courier\";>(optional) LIMIT N ...</p>\n",
    "</html>\n",
    "---\n",
    "\n",
    "Here is a quick explanation of each clause (we'll go through each in detail later):\n",
    "- `SELECT`: This tells us which columns we want to pull. If we say `SELECT *`, that means `\"SELECT ALL\"`\n",
    "- `FROM`: This specifies which table the data will be in\n",
    "- `JOIN`: This joins two tables together using a common key. If we only need a single table, we can leave this out.\n",
    "- `WHERE`: This allows to filter to where rows where a certain condition is matched\n",
    "- `ORDER BY`: This sorts the rows by a particular column\n",
    "- `LIMIT`: This means we only want the first `N` rows. In this class, we'll typically use this clause so we don't pull excessively large datasets.\n",
    "\n",
    "    \n",
    "#### TODO"
   ]
  },
  {
   "cell_type": "code",
   "execution_count": 5,
   "id": "32aeaf6b",
   "metadata": {},
   "outputs": [
    {
     "data": {
      "application/vnd.jupyter.widget-view+json": {
       "model_id": "a10ac065b4f84cafa47da8a83ccdda59",
       "version_major": 2,
       "version_minor": 0
      },
      "text/plain": [
       "VBox(children=(HTML(value='Which clauses were included in the example query we ran?'), SelectMultiple(options=…"
      ]
     },
     "metadata": {},
     "output_type": "display_data"
    },
    {
     "data": {
      "text/plain": []
     },
     "execution_count": 5,
     "metadata": {},
     "output_type": "execute_result"
    }
   ],
   "source": [
    "# RUN CELL TO SEE QUIZ\n",
    "quiz_simple_query_parts"
   ]
  },
  {
   "cell_type": "markdown",
   "id": "d43583d2",
   "metadata": {},
   "source": [
    "Here is a slightly more complicated query:"
   ]
  },
  {
   "cell_type": "code",
   "execution_count": 6,
   "id": "f720f581",
   "metadata": {},
   "outputs": [
    {
     "name": "stderr",
     "output_type": "stream",
     "text": [
      "/Users/alecchapman/opt/miniconda3/envs/phs/lib/python3.9/site-packages/pandas/io/sql.py:761: UserWarning: pandas only support SQLAlchemy connectable(engine/connection) ordatabase string URI or sqlite3 DBAPI2 connectionother DBAPI2 objects are not tested, please consider using SQLAlchemy\n",
      "  warnings.warn(\n"
     ]
    },
    {
     "data": {
      "text/html": [
       "<div>\n",
       "<style scoped>\n",
       "    .dataframe tbody tr th:only-of-type {\n",
       "        vertical-align: middle;\n",
       "    }\n",
       "\n",
       "    .dataframe tbody tr th {\n",
       "        vertical-align: top;\n",
       "    }\n",
       "\n",
       "    .dataframe thead th {\n",
       "        text-align: right;\n",
       "    }\n",
       "</style>\n",
       "<table border=\"1\" class=\"dataframe\">\n",
       "  <thead>\n",
       "    <tr style=\"text-align: right;\">\n",
       "      <th></th>\n",
       "      <th>hadm_id</th>\n",
       "      <th>subject_id</th>\n",
       "      <th>admit_dt</th>\n",
       "      <th>disch_dt</th>\n",
       "      <th>sex</th>\n",
       "      <th>dob</th>\n",
       "      <th>dod</th>\n",
       "      <th>hospital_expire_flg</th>\n",
       "    </tr>\n",
       "  </thead>\n",
       "  <tbody>\n",
       "    <tr>\n",
       "      <th>0</th>\n",
       "      <td>5756</td>\n",
       "      <td>17754</td>\n",
       "      <td>2501-04-07 00:00:00</td>\n",
       "      <td>2501-04-08 00:00:00</td>\n",
       "      <td>F</td>\n",
       "      <td>2433-06-15 00:00:00</td>\n",
       "      <td>2501-04-08 00:00:00</td>\n",
       "      <td>Y</td>\n",
       "    </tr>\n",
       "    <tr>\n",
       "      <th>1</th>\n",
       "      <td>6311</td>\n",
       "      <td>17754</td>\n",
       "      <td>2501-03-18 00:00:00</td>\n",
       "      <td>2501-04-01 00:00:00</td>\n",
       "      <td>F</td>\n",
       "      <td>2433-06-15 00:00:00</td>\n",
       "      <td>2501-04-08 00:00:00</td>\n",
       "      <td>Y</td>\n",
       "    </tr>\n",
       "    <tr>\n",
       "      <th>2</th>\n",
       "      <td>14290</td>\n",
       "      <td>24082</td>\n",
       "      <td>2501-04-28 00:00:00</td>\n",
       "      <td>2501-05-01 00:00:00</td>\n",
       "      <td>F</td>\n",
       "      <td>2445-02-19 00:00:00</td>\n",
       "      <td>2501-05-01 00:00:00</td>\n",
       "      <td>Y</td>\n",
       "    </tr>\n",
       "    <tr>\n",
       "      <th>3</th>\n",
       "      <td>7627</td>\n",
       "      <td>8907</td>\n",
       "      <td>2501-11-22 00:00:00</td>\n",
       "      <td>2501-12-06 00:00:00</td>\n",
       "      <td>M</td>\n",
       "      <td>2429-06-06 00:00:00</td>\n",
       "      <td>2501-12-06 00:00:00</td>\n",
       "      <td>Y</td>\n",
       "    </tr>\n",
       "    <tr>\n",
       "      <th>4</th>\n",
       "      <td>30624</td>\n",
       "      <td>27327</td>\n",
       "      <td>2502-01-09 00:00:00</td>\n",
       "      <td>2502-01-12 00:00:00</td>\n",
       "      <td>F</td>\n",
       "      <td>2411-09-29 00:00:00</td>\n",
       "      <td>2502-01-12 00:00:00</td>\n",
       "      <td>Y</td>\n",
       "    </tr>\n",
       "    <tr>\n",
       "      <th>5</th>\n",
       "      <td>6687</td>\n",
       "      <td>22338</td>\n",
       "      <td>2502-04-12 00:00:00</td>\n",
       "      <td>2502-04-19 00:00:00</td>\n",
       "      <td>M</td>\n",
       "      <td>2426-05-24 00:00:00</td>\n",
       "      <td>2502-04-19 00:00:00</td>\n",
       "      <td>Y</td>\n",
       "    </tr>\n",
       "    <tr>\n",
       "      <th>6</th>\n",
       "      <td>2485</td>\n",
       "      <td>871</td>\n",
       "      <td>2502-04-01 00:00:00</td>\n",
       "      <td>2502-05-05 00:00:00</td>\n",
       "      <td>F</td>\n",
       "      <td>2420-10-30 00:00:00</td>\n",
       "      <td>2502-05-05 00:00:00</td>\n",
       "      <td>Y</td>\n",
       "    </tr>\n",
       "    <tr>\n",
       "      <th>7</th>\n",
       "      <td>22765</td>\n",
       "      <td>11724</td>\n",
       "      <td>2503-02-17 00:00:00</td>\n",
       "      <td>2503-02-26 00:00:00</td>\n",
       "      <td>M</td>\n",
       "      <td>2422-05-26 00:00:00</td>\n",
       "      <td>2503-02-26 00:00:00</td>\n",
       "      <td>Y</td>\n",
       "    </tr>\n",
       "    <tr>\n",
       "      <th>8</th>\n",
       "      <td>34287</td>\n",
       "      <td>29348</td>\n",
       "      <td>2503-05-03 00:00:00</td>\n",
       "      <td>2503-05-28 00:00:00</td>\n",
       "      <td>F</td>\n",
       "      <td>2444-09-04 00:00:00</td>\n",
       "      <td>2503-05-28 00:00:00</td>\n",
       "      <td>Y</td>\n",
       "    </tr>\n",
       "    <tr>\n",
       "      <th>9</th>\n",
       "      <td>5716</td>\n",
       "      <td>1795</td>\n",
       "      <td>2501-11-14 00:00:00</td>\n",
       "      <td>2501-11-30 00:00:00</td>\n",
       "      <td>F</td>\n",
       "      <td>2455-12-23 00:00:00</td>\n",
       "      <td>2503-07-24 00:00:00</td>\n",
       "      <td>Y</td>\n",
       "    </tr>\n",
       "  </tbody>\n",
       "</table>\n",
       "</div>"
      ],
      "text/plain": [
       "   hadm_id  subject_id             admit_dt             disch_dt sex  \\\n",
       "0     5756       17754  2501-04-07 00:00:00  2501-04-08 00:00:00   F   \n",
       "1     6311       17754  2501-03-18 00:00:00  2501-04-01 00:00:00   F   \n",
       "2    14290       24082  2501-04-28 00:00:00  2501-05-01 00:00:00   F   \n",
       "3     7627        8907  2501-11-22 00:00:00  2501-12-06 00:00:00   M   \n",
       "4    30624       27327  2502-01-09 00:00:00  2502-01-12 00:00:00   F   \n",
       "5     6687       22338  2502-04-12 00:00:00  2502-04-19 00:00:00   M   \n",
       "6     2485         871  2502-04-01 00:00:00  2502-05-05 00:00:00   F   \n",
       "7    22765       11724  2503-02-17 00:00:00  2503-02-26 00:00:00   M   \n",
       "8    34287       29348  2503-05-03 00:00:00  2503-05-28 00:00:00   F   \n",
       "9     5716        1795  2501-11-14 00:00:00  2501-11-30 00:00:00   F   \n",
       "\n",
       "                   dob                  dod hospital_expire_flg  \n",
       "0  2433-06-15 00:00:00  2501-04-08 00:00:00                   Y  \n",
       "1  2433-06-15 00:00:00  2501-04-08 00:00:00                   Y  \n",
       "2  2445-02-19 00:00:00  2501-05-01 00:00:00                   Y  \n",
       "3  2429-06-06 00:00:00  2501-12-06 00:00:00                   Y  \n",
       "4  2411-09-29 00:00:00  2502-01-12 00:00:00                   Y  \n",
       "5  2426-05-24 00:00:00  2502-04-19 00:00:00                   Y  \n",
       "6  2420-10-30 00:00:00  2502-05-05 00:00:00                   Y  \n",
       "7  2422-05-26 00:00:00  2503-02-26 00:00:00                   Y  \n",
       "8  2444-09-04 00:00:00  2503-05-28 00:00:00                   Y  \n",
       "9  2455-12-23 00:00:00  2503-07-24 00:00:00                   Y  "
      ]
     },
     "execution_count": 6,
     "metadata": {},
     "output_type": "execute_result"
    }
   ],
   "source": [
    "query = \"\"\"\n",
    "SELECT a.hadm_id, a.subject_id, a.admit_dt, a.disch_dt, p.sex, p.dob, p.dod, p.hospital_expire_flg\n",
    "FROM d_patients  p\n",
    "    INNER JOIN admissions a\n",
    "        ON p.subject_id = a.subject_id\n",
    "WHERE hospital_expire_flg = 'Y'\n",
    "ORDER BY dod\n",
    "LIMIT 10;\n",
    "\"\"\"\n",
    "\n",
    "pd.read_sql(query, conn)"
   ]
  },
  {
   "cell_type": "markdown",
   "id": "0f86fffc",
   "metadata": {},
   "source": [
    "#### TODO"
   ]
  },
  {
   "cell_type": "code",
   "execution_count": 15,
   "id": "c9e76e53",
   "metadata": {},
   "outputs": [
    {
     "data": {
      "application/vnd.jupyter.widget-view+json": {
       "model_id": "16315125976345a2bcf374fb05a1b46f",
       "version_major": 2,
       "version_minor": 0
      },
      "text/plain": [
       "VBox(children=(HTML(value='Which tables are used in the query above?'), SelectMultiple(options=('hospital_expi…"
      ]
     },
     "metadata": {},
     "output_type": "display_data"
    },
    {
     "data": {
      "text/plain": []
     },
     "execution_count": 15,
     "metadata": {},
     "output_type": "execute_result"
    }
   ],
   "source": [
    "# RUN CELL TO SEE QUIZ\n",
    "quiz_tables_in_query"
   ]
  },
  {
   "cell_type": "code",
   "execution_count": 16,
   "id": "670a1fff",
   "metadata": {},
   "outputs": [
    {
     "data": {
      "application/vnd.jupyter.widget-view+json": {
       "model_id": "8069a187f39846fda012887d43744c44",
       "version_major": 2,
       "version_minor": 0
      },
      "text/plain": [
       "VBox(children=(HTML(value='Which column is used in the query to sort the data?'), RadioButtons(options=('dob',…"
      ]
     },
     "metadata": {},
     "output_type": "display_data"
    },
    {
     "data": {
      "text/plain": []
     },
     "execution_count": 16,
     "metadata": {},
     "output_type": "execute_result"
    }
   ],
   "source": [
    "# RUN CELL TO SEE QUIZ\n",
    "quiz_order_by_column"
   ]
  },
  {
   "cell_type": "markdown",
   "id": "02ebfbdb",
   "metadata": {},
   "source": [
    "## Writing queries\n",
    "Now let's go through the different parts of a SQL query and get some practice writing our own queries.\n",
    "\n",
    "### The essentials\n",
    "\n",
    "There are two components that all of our SQL queries will have:\n",
    "1. **The `SELECT` statement**: Here, we *select* the columns that we want to retrieve from the database. You can either list the specific columns you want separated or commas or just say **\"*\"** to pull all of them\n",
    "2. **The `FROM` statement**: We need to specify what table these columns are coming from. We sometimes give a table name an \"alias\" (often a single letter) to refer to in the query.\n",
    "\n",
    "While it's not always essential, in this class we will also often have:\n",
    "3. **A `LIMIT`** statement**: Limit the number of rows we're pulling so we don't overwhelm the database (or your machine).\n",
    "\n",
    "So a very basic query could just select all (or some) of the rows and all of the columns from a single table. The following query pulls every column from the first 10 rows of **d_patients** while giving the table an alias of `d`:  "
   ]
  },
  {
   "cell_type": "code",
   "execution_count": 9,
   "id": "420843d8",
   "metadata": {},
   "outputs": [
    {
     "name": "stderr",
     "output_type": "stream",
     "text": [
      "/Users/alecchapman/opt/miniconda3/envs/phs/lib/python3.9/site-packages/pandas/io/sql.py:761: UserWarning: pandas only support SQLAlchemy connectable(engine/connection) ordatabase string URI or sqlite3 DBAPI2 connectionother DBAPI2 objects are not tested, please consider using SQLAlchemy\n",
      "  warnings.warn(\n"
     ]
    },
    {
     "data": {
      "text/html": [
       "<div>\n",
       "<style scoped>\n",
       "    .dataframe tbody tr th:only-of-type {\n",
       "        vertical-align: middle;\n",
       "    }\n",
       "\n",
       "    .dataframe tbody tr th {\n",
       "        vertical-align: top;\n",
       "    }\n",
       "\n",
       "    .dataframe thead th {\n",
       "        text-align: right;\n",
       "    }\n",
       "</style>\n",
       "<table border=\"1\" class=\"dataframe\">\n",
       "  <thead>\n",
       "    <tr style=\"text-align: right;\">\n",
       "      <th></th>\n",
       "      <th>subject_id</th>\n",
       "      <th>sex</th>\n",
       "      <th>dob</th>\n",
       "      <th>dod</th>\n",
       "      <th>hospital_expire_flg</th>\n",
       "    </tr>\n",
       "  </thead>\n",
       "  <tbody>\n",
       "    <tr>\n",
       "      <th>0</th>\n",
       "      <td>3</td>\n",
       "      <td>M</td>\n",
       "      <td>2606-02-28 00:00:00</td>\n",
       "      <td>2683-05-02 00:00:00</td>\n",
       "      <td>N</td>\n",
       "    </tr>\n",
       "    <tr>\n",
       "      <th>1</th>\n",
       "      <td>12</td>\n",
       "      <td>M</td>\n",
       "      <td>2803-05-14 00:00:00</td>\n",
       "      <td>2875-10-09 00:00:00</td>\n",
       "      <td>Y</td>\n",
       "    </tr>\n",
       "    <tr>\n",
       "      <th>2</th>\n",
       "      <td>21</td>\n",
       "      <td>M</td>\n",
       "      <td>3051-05-22 00:00:00</td>\n",
       "      <td>3139-03-28 00:00:00</td>\n",
       "      <td>Y</td>\n",
       "    </tr>\n",
       "    <tr>\n",
       "      <th>3</th>\n",
       "      <td>26</td>\n",
       "      <td>M</td>\n",
       "      <td>3007-03-02 00:00:00</td>\n",
       "      <td>3080-12-22 00:00:00</td>\n",
       "      <td>N</td>\n",
       "    </tr>\n",
       "    <tr>\n",
       "      <th>4</th>\n",
       "      <td>31</td>\n",
       "      <td>M</td>\n",
       "      <td>2606-05-17 00:00:00</td>\n",
       "      <td>2678-08-29 00:00:00</td>\n",
       "      <td>Y</td>\n",
       "    </tr>\n",
       "    <tr>\n",
       "      <th>5</th>\n",
       "      <td>37</td>\n",
       "      <td>M</td>\n",
       "      <td>3195-09-11 00:00:00</td>\n",
       "      <td>3265-12-31 00:00:00</td>\n",
       "      <td>N</td>\n",
       "    </tr>\n",
       "    <tr>\n",
       "      <th>6</th>\n",
       "      <td>56</td>\n",
       "      <td>F</td>\n",
       "      <td>2553-05-26 00:00:00</td>\n",
       "      <td>2644-01-23 00:00:00</td>\n",
       "      <td>Y</td>\n",
       "    </tr>\n",
       "    <tr>\n",
       "      <th>7</th>\n",
       "      <td>61</td>\n",
       "      <td>M</td>\n",
       "      <td>3297-10-27 00:00:00</td>\n",
       "      <td>3353-02-09 00:00:00</td>\n",
       "      <td>Y</td>\n",
       "    </tr>\n",
       "    <tr>\n",
       "      <th>8</th>\n",
       "      <td>67</td>\n",
       "      <td>M</td>\n",
       "      <td>2903-06-04 00:00:00</td>\n",
       "      <td>2976-11-29 00:00:00</td>\n",
       "      <td>Y</td>\n",
       "    </tr>\n",
       "    <tr>\n",
       "      <th>9</th>\n",
       "      <td>78</td>\n",
       "      <td>M</td>\n",
       "      <td>2729-08-08 00:00:00</td>\n",
       "      <td>2781-03-11 00:00:00</td>\n",
       "      <td>N</td>\n",
       "    </tr>\n",
       "  </tbody>\n",
       "</table>\n",
       "</div>"
      ],
      "text/plain": [
       "   subject_id sex                  dob                  dod  \\\n",
       "0           3   M  2606-02-28 00:00:00  2683-05-02 00:00:00   \n",
       "1          12   M  2803-05-14 00:00:00  2875-10-09 00:00:00   \n",
       "2          21   M  3051-05-22 00:00:00  3139-03-28 00:00:00   \n",
       "3          26   M  3007-03-02 00:00:00  3080-12-22 00:00:00   \n",
       "4          31   M  2606-05-17 00:00:00  2678-08-29 00:00:00   \n",
       "5          37   M  3195-09-11 00:00:00  3265-12-31 00:00:00   \n",
       "6          56   F  2553-05-26 00:00:00  2644-01-23 00:00:00   \n",
       "7          61   M  3297-10-27 00:00:00  3353-02-09 00:00:00   \n",
       "8          67   M  2903-06-04 00:00:00  2976-11-29 00:00:00   \n",
       "9          78   M  2729-08-08 00:00:00  2781-03-11 00:00:00   \n",
       "\n",
       "  hospital_expire_flg  \n",
       "0                   N  \n",
       "1                   Y  \n",
       "2                   Y  \n",
       "3                   N  \n",
       "4                   Y  \n",
       "5                   N  \n",
       "6                   Y  \n",
       "7                   Y  \n",
       "8                   Y  \n",
       "9                   N  "
      ]
     },
     "execution_count": 9,
     "metadata": {},
     "output_type": "execute_result"
    }
   ],
   "source": [
    "query = \"\"\"\n",
    "SELECT *\n",
    "FROM d_patients d\n",
    "LIMIT 10;\n",
    "\"\"\"\n",
    "\n",
    "pd.read_sql(query, conn)"
   ]
  },
  {
   "cell_type": "markdown",
   "id": "f0ca0f9e",
   "metadata": {},
   "source": [
    "#### TODO\n",
    "Write and execute a query to select just the `hadm_id`, `subject_id`, `admit_dt`, and `disch_dt` from the `admissions` table. Give the table an alias of `a`. Limit to the first 25 rows. Save the result as `df`."
   ]
  },
  {
   "cell_type": "code",
   "execution_count": 10,
   "id": "620f0f2e",
   "metadata": {
    "scrolled": true
   },
   "outputs": [
    {
     "name": "stderr",
     "output_type": "stream",
     "text": [
      "/Users/alecchapman/opt/miniconda3/envs/phs/lib/python3.9/site-packages/pandas/io/sql.py:761: UserWarning: pandas only support SQLAlchemy connectable(engine/connection) ordatabase string URI or sqlite3 DBAPI2 connectionother DBAPI2 objects are not tested, please consider using SQLAlchemy\n",
      "  warnings.warn(\n"
     ]
    },
    {
     "data": {
      "text/html": [
       "<div>\n",
       "<style scoped>\n",
       "    .dataframe tbody tr th:only-of-type {\n",
       "        vertical-align: middle;\n",
       "    }\n",
       "\n",
       "    .dataframe tbody tr th {\n",
       "        vertical-align: top;\n",
       "    }\n",
       "\n",
       "    .dataframe thead th {\n",
       "        text-align: right;\n",
       "    }\n",
       "</style>\n",
       "<table border=\"1\" class=\"dataframe\">\n",
       "  <thead>\n",
       "    <tr style=\"text-align: right;\">\n",
       "      <th></th>\n",
       "      <th>hadm_id</th>\n",
       "      <th>subject_id</th>\n",
       "      <th>admit_dt</th>\n",
       "      <th>disch_dt</th>\n",
       "    </tr>\n",
       "  </thead>\n",
       "  <tbody>\n",
       "    <tr>\n",
       "      <th>0</th>\n",
       "      <td>2</td>\n",
       "      <td>24807</td>\n",
       "      <td>3033-07-08 00:00:00</td>\n",
       "      <td>3033-07-17 00:00:00</td>\n",
       "    </tr>\n",
       "    <tr>\n",
       "      <th>1</th>\n",
       "      <td>3</td>\n",
       "      <td>7675</td>\n",
       "      <td>3388-05-16 00:00:00</td>\n",
       "      <td>3388-05-21 00:00:00</td>\n",
       "    </tr>\n",
       "    <tr>\n",
       "      <th>2</th>\n",
       "      <td>6</td>\n",
       "      <td>23547</td>\n",
       "      <td>3381-04-03 00:00:00</td>\n",
       "      <td>3381-04-22 00:00:00</td>\n",
       "    </tr>\n",
       "    <tr>\n",
       "      <th>3</th>\n",
       "      <td>10</td>\n",
       "      <td>14884</td>\n",
       "      <td>3015-08-28 00:00:00</td>\n",
       "      <td>3015-09-05 00:00:00</td>\n",
       "    </tr>\n",
       "    <tr>\n",
       "      <th>4</th>\n",
       "      <td>12</td>\n",
       "      <td>8652</td>\n",
       "      <td>3125-09-11 00:00:00</td>\n",
       "      <td>3125-09-22 00:00:00</td>\n",
       "    </tr>\n",
       "    <tr>\n",
       "      <th>5</th>\n",
       "      <td>15</td>\n",
       "      <td>7728</td>\n",
       "      <td>3491-04-08 00:00:00</td>\n",
       "      <td>3491-04-16 00:00:00</td>\n",
       "    </tr>\n",
       "    <tr>\n",
       "      <th>6</th>\n",
       "      <td>34</td>\n",
       "      <td>17025</td>\n",
       "      <td>3118-10-14 00:00:00</td>\n",
       "      <td>3118-10-25 00:00:00</td>\n",
       "    </tr>\n",
       "    <tr>\n",
       "      <th>7</th>\n",
       "      <td>35</td>\n",
       "      <td>15784</td>\n",
       "      <td>3036-10-02 00:00:00</td>\n",
       "      <td>3036-10-07 00:00:00</td>\n",
       "    </tr>\n",
       "    <tr>\n",
       "      <th>8</th>\n",
       "      <td>45</td>\n",
       "      <td>23014</td>\n",
       "      <td>3108-05-01 00:00:00</td>\n",
       "      <td>3108-06-05 00:00:00</td>\n",
       "    </tr>\n",
       "    <tr>\n",
       "      <th>9</th>\n",
       "      <td>47</td>\n",
       "      <td>9129</td>\n",
       "      <td>3129-06-19 00:00:00</td>\n",
       "      <td>3129-06-25 00:00:00</td>\n",
       "    </tr>\n",
       "    <tr>\n",
       "      <th>10</th>\n",
       "      <td>49</td>\n",
       "      <td>2328</td>\n",
       "      <td>2549-07-12 00:00:00</td>\n",
       "      <td>2549-07-16 00:00:00</td>\n",
       "    </tr>\n",
       "    <tr>\n",
       "      <th>11</th>\n",
       "      <td>50</td>\n",
       "      <td>6335</td>\n",
       "      <td>2789-08-21 00:00:00</td>\n",
       "      <td>2789-09-01 00:00:00</td>\n",
       "    </tr>\n",
       "    <tr>\n",
       "      <th>12</th>\n",
       "      <td>53</td>\n",
       "      <td>25477</td>\n",
       "      <td>3271-08-13 00:00:00</td>\n",
       "      <td>3271-08-14 00:00:00</td>\n",
       "    </tr>\n",
       "    <tr>\n",
       "      <th>13</th>\n",
       "      <td>68</td>\n",
       "      <td>7664</td>\n",
       "      <td>2535-08-01 00:00:00</td>\n",
       "      <td>2535-08-10 00:00:00</td>\n",
       "    </tr>\n",
       "    <tr>\n",
       "      <th>14</th>\n",
       "      <td>74</td>\n",
       "      <td>19937</td>\n",
       "      <td>2861-08-04 00:00:00</td>\n",
       "      <td>2861-08-10 00:00:00</td>\n",
       "    </tr>\n",
       "    <tr>\n",
       "      <th>15</th>\n",
       "      <td>76</td>\n",
       "      <td>1678</td>\n",
       "      <td>3325-06-15 00:00:00</td>\n",
       "      <td>3325-06-20 00:00:00</td>\n",
       "    </tr>\n",
       "    <tr>\n",
       "      <th>16</th>\n",
       "      <td>78</td>\n",
       "      <td>21771</td>\n",
       "      <td>3404-07-23 00:00:00</td>\n",
       "      <td>3404-07-28 00:00:00</td>\n",
       "    </tr>\n",
       "    <tr>\n",
       "      <th>17</th>\n",
       "      <td>80</td>\n",
       "      <td>1984</td>\n",
       "      <td>2575-07-06 00:00:00</td>\n",
       "      <td>2575-07-17 00:00:00</td>\n",
       "    </tr>\n",
       "    <tr>\n",
       "      <th>18</th>\n",
       "      <td>94</td>\n",
       "      <td>11962</td>\n",
       "      <td>3149-08-30 00:00:00</td>\n",
       "      <td>3149-09-05 00:00:00</td>\n",
       "    </tr>\n",
       "    <tr>\n",
       "      <th>19</th>\n",
       "      <td>104</td>\n",
       "      <td>7999</td>\n",
       "      <td>3489-09-01 00:00:00</td>\n",
       "      <td>3489-09-06 00:00:00</td>\n",
       "    </tr>\n",
       "    <tr>\n",
       "      <th>20</th>\n",
       "      <td>106</td>\n",
       "      <td>4926</td>\n",
       "      <td>3099-09-19 00:00:00</td>\n",
       "      <td>3099-09-29 00:00:00</td>\n",
       "    </tr>\n",
       "    <tr>\n",
       "      <th>21</th>\n",
       "      <td>123</td>\n",
       "      <td>12792</td>\n",
       "      <td>2882-06-26 00:00:00</td>\n",
       "      <td>2882-08-05 00:00:00</td>\n",
       "    </tr>\n",
       "    <tr>\n",
       "      <th>22</th>\n",
       "      <td>130</td>\n",
       "      <td>14212</td>\n",
       "      <td>2966-07-14 00:00:00</td>\n",
       "      <td>2966-08-07 00:00:00</td>\n",
       "    </tr>\n",
       "    <tr>\n",
       "      <th>23</th>\n",
       "      <td>136</td>\n",
       "      <td>14288</td>\n",
       "      <td>3192-07-16 00:00:00</td>\n",
       "      <td>3192-07-23 00:00:00</td>\n",
       "    </tr>\n",
       "    <tr>\n",
       "      <th>24</th>\n",
       "      <td>140</td>\n",
       "      <td>4145</td>\n",
       "      <td>3218-07-31 00:00:00</td>\n",
       "      <td>3218-08-02 00:00:00</td>\n",
       "    </tr>\n",
       "  </tbody>\n",
       "</table>\n",
       "</div>"
      ],
      "text/plain": [
       "    hadm_id  subject_id             admit_dt             disch_dt\n",
       "0         2       24807  3033-07-08 00:00:00  3033-07-17 00:00:00\n",
       "1         3        7675  3388-05-16 00:00:00  3388-05-21 00:00:00\n",
       "2         6       23547  3381-04-03 00:00:00  3381-04-22 00:00:00\n",
       "3        10       14884  3015-08-28 00:00:00  3015-09-05 00:00:00\n",
       "4        12        8652  3125-09-11 00:00:00  3125-09-22 00:00:00\n",
       "5        15        7728  3491-04-08 00:00:00  3491-04-16 00:00:00\n",
       "6        34       17025  3118-10-14 00:00:00  3118-10-25 00:00:00\n",
       "7        35       15784  3036-10-02 00:00:00  3036-10-07 00:00:00\n",
       "8        45       23014  3108-05-01 00:00:00  3108-06-05 00:00:00\n",
       "9        47        9129  3129-06-19 00:00:00  3129-06-25 00:00:00\n",
       "10       49        2328  2549-07-12 00:00:00  2549-07-16 00:00:00\n",
       "11       50        6335  2789-08-21 00:00:00  2789-09-01 00:00:00\n",
       "12       53       25477  3271-08-13 00:00:00  3271-08-14 00:00:00\n",
       "13       68        7664  2535-08-01 00:00:00  2535-08-10 00:00:00\n",
       "14       74       19937  2861-08-04 00:00:00  2861-08-10 00:00:00\n",
       "15       76        1678  3325-06-15 00:00:00  3325-06-20 00:00:00\n",
       "16       78       21771  3404-07-23 00:00:00  3404-07-28 00:00:00\n",
       "17       80        1984  2575-07-06 00:00:00  2575-07-17 00:00:00\n",
       "18       94       11962  3149-08-30 00:00:00  3149-09-05 00:00:00\n",
       "19      104        7999  3489-09-01 00:00:00  3489-09-06 00:00:00\n",
       "20      106        4926  3099-09-19 00:00:00  3099-09-29 00:00:00\n",
       "21      123       12792  2882-06-26 00:00:00  2882-08-05 00:00:00\n",
       "22      130       14212  2966-07-14 00:00:00  2966-08-07 00:00:00\n",
       "23      136       14288  3192-07-16 00:00:00  3192-07-23 00:00:00\n",
       "24      140        4145  3218-07-31 00:00:00  3218-08-02 00:00:00"
      ]
     },
     "execution_count": 10,
     "metadata": {},
     "output_type": "execute_result"
    }
   ],
   "source": [
    "query = \"\"\"\n",
    "SELECT hadm_id, subject_id, admit_dt, disch_dt\n",
    "FROM admissions\n",
    "LIMIT 25;\n",
    "\"\"\"\n",
    "\n",
    "df = pd.read_sql(query, conn)\n",
    "df"
   ]
  },
  {
   "cell_type": "code",
   "execution_count": 11,
   "id": "49de5ffe",
   "metadata": {},
   "outputs": [
    {
     "data": {
      "text/plain": [
       "True"
      ]
     },
     "execution_count": 11,
     "metadata": {},
     "output_type": "execute_result"
    }
   ],
   "source": [
    "set(df.columns) == set(['hadm_id', 'subject_id', 'admit_dt', 'disch_dt'] )"
   ]
  },
  {
   "cell_type": "code",
   "execution_count": 12,
   "id": "cce4e91f",
   "metadata": {},
   "outputs": [],
   "source": [
    "# query = \"\"\"\n",
    "# SELECT hadm_id, ____, admit_dt, disch_dt\n",
    "# ____ admissions\n",
    "# LIMIT ____;\n",
    "# \"\"\"\n",
    "\n",
    "# pd.read_sql(query, conn)"
   ]
  },
  {
   "cell_type": "code",
   "execution_count": null,
   "id": "8e6c1f68",
   "metadata": {},
   "outputs": [],
   "source": []
  },
  {
   "cell_type": "code",
   "execution_count": 13,
   "id": "5dec10ad",
   "metadata": {},
   "outputs": [
    {
     "name": "stdout",
     "output_type": "stream",
     "text": [
      "That is correct!\n"
     ]
    }
   ],
   "source": [
    "test_query_result1.test(df)"
   ]
  },
  {
   "cell_type": "code",
   "execution_count": null,
   "id": "b0083bfa",
   "metadata": {},
   "outputs": [],
   "source": []
  },
  {
   "cell_type": "markdown",
   "id": "4682d49d",
   "metadata": {},
   "source": [
    "## Joining tables\n",
    "In a relational database like MIMIC, different attributes for entities are stored in different tables. These disparate tables can then be joined together in a query using a `join` statement. The column `subject_id`, which is the identifier for a patient, is consistent between these two columns and can be used to join them together:\n",
    "\n",
    "```SQL\n",
    "FROM table1\n",
    "    INNER JOIN table2\n",
    "        ON table1.column = table2.column\n",
    "```\n",
    "\n",
    "*Note*: We'll talk more about the phrase `INNER JOIN` later, as well as other types of joins.\n",
    "\n",
    "#### TODO\n",
    "Join the `demographic_detail` and `d_patients` tables using the `subject_id` column in both as the joining keys. Select all columns and the **top 10** rows."
   ]
  },
  {
   "cell_type": "code",
   "execution_count": 14,
   "id": "583948b6",
   "metadata": {},
   "outputs": [],
   "source": [
    "query = \"\"\"\n",
    "SELECT *    -- Select statement\n",
    "FROM demographic_detail d\n",
    "    INNER JOIN d_patients p\n",
    "        ON d.subject_id = p.subject_id\n",
    "\"\"\""
   ]
  },
  {
   "cell_type": "code",
   "execution_count": 15,
   "id": "cd662026",
   "metadata": {},
   "outputs": [
    {
     "name": "stderr",
     "output_type": "stream",
     "text": [
      "/Users/alecchapman/opt/miniconda3/envs/phs/lib/python3.9/site-packages/pandas/io/sql.py:761: UserWarning: pandas only support SQLAlchemy connectable(engine/connection) ordatabase string URI or sqlite3 DBAPI2 connectionother DBAPI2 objects are not tested, please consider using SQLAlchemy\n",
      "  warnings.warn(\n"
     ]
    },
    {
     "data": {
      "text/html": [
       "<div>\n",
       "<style scoped>\n",
       "    .dataframe tbody tr th:only-of-type {\n",
       "        vertical-align: middle;\n",
       "    }\n",
       "\n",
       "    .dataframe tbody tr th {\n",
       "        vertical-align: top;\n",
       "    }\n",
       "\n",
       "    .dataframe thead th {\n",
       "        text-align: right;\n",
       "    }\n",
       "</style>\n",
       "<table border=\"1\" class=\"dataframe\">\n",
       "  <thead>\n",
       "    <tr style=\"text-align: right;\">\n",
       "      <th></th>\n",
       "      <th>subject_id</th>\n",
       "      <th>hadm_id</th>\n",
       "      <th>marital_status_itemid</th>\n",
       "      <th>marital_status_descr</th>\n",
       "      <th>ethnicity_itemid</th>\n",
       "      <th>ethnicity_descr</th>\n",
       "      <th>overall_payor_group_itemid</th>\n",
       "      <th>overall_payor_group_descr</th>\n",
       "      <th>religion_itemid</th>\n",
       "      <th>religion_descr</th>\n",
       "      <th>admission_type_itemid</th>\n",
       "      <th>admission_type_descr</th>\n",
       "      <th>admission_source_itemid</th>\n",
       "      <th>admission_source_descr</th>\n",
       "      <th>subject_id</th>\n",
       "      <th>sex</th>\n",
       "      <th>dob</th>\n",
       "      <th>dod</th>\n",
       "      <th>hospital_expire_flg</th>\n",
       "    </tr>\n",
       "  </thead>\n",
       "  <tbody>\n",
       "    <tr>\n",
       "      <th>0</th>\n",
       "      <td>56</td>\n",
       "      <td>28766</td>\n",
       "      <td>NaN</td>\n",
       "      <td>None</td>\n",
       "      <td>200083</td>\n",
       "      <td>WHITE</td>\n",
       "      <td>200053</td>\n",
       "      <td>MEDICARE-PRIVATE</td>\n",
       "      <td>200060.0</td>\n",
       "      <td>NOT SPECIFIED</td>\n",
       "      <td>200028</td>\n",
       "      <td>EMERGENCY</td>\n",
       "      <td>200029</td>\n",
       "      <td>EMERGENCY ROOM ADMIT</td>\n",
       "      <td>56</td>\n",
       "      <td>F</td>\n",
       "      <td>2553-05-26 00:00:00</td>\n",
       "      <td>2644-01-23 00:00:00</td>\n",
       "      <td>Y</td>\n",
       "    </tr>\n",
       "    <tr>\n",
       "      <th>1</th>\n",
       "      <td>37</td>\n",
       "      <td>18052</td>\n",
       "      <td>200050.0</td>\n",
       "      <td>MARRIED</td>\n",
       "      <td>200083</td>\n",
       "      <td>WHITE</td>\n",
       "      <td>200053</td>\n",
       "      <td>MEDICARE-PRIVATE</td>\n",
       "      <td>200047.0</td>\n",
       "      <td>JEWISH</td>\n",
       "      <td>200028</td>\n",
       "      <td>EMERGENCY</td>\n",
       "      <td>200029</td>\n",
       "      <td>EMERGENCY ROOM ADMIT</td>\n",
       "      <td>37</td>\n",
       "      <td>M</td>\n",
       "      <td>3195-09-11 00:00:00</td>\n",
       "      <td>3265-12-31 00:00:00</td>\n",
       "      <td>N</td>\n",
       "    </tr>\n",
       "    <tr>\n",
       "      <th>2</th>\n",
       "      <td>78</td>\n",
       "      <td>15161</td>\n",
       "      <td>200071.0</td>\n",
       "      <td>SEPARATED</td>\n",
       "      <td>200018</td>\n",
       "      <td>BLACK/AFRICAN AMERICAN</td>\n",
       "      <td>200052</td>\n",
       "      <td>MEDICARE</td>\n",
       "      <td>200060.0</td>\n",
       "      <td>NOT SPECIFIED</td>\n",
       "      <td>200028</td>\n",
       "      <td>EMERGENCY</td>\n",
       "      <td>200029</td>\n",
       "      <td>EMERGENCY ROOM ADMIT</td>\n",
       "      <td>78</td>\n",
       "      <td>M</td>\n",
       "      <td>2729-08-08 00:00:00</td>\n",
       "      <td>2781-03-11 00:00:00</td>\n",
       "      <td>N</td>\n",
       "    </tr>\n",
       "    <tr>\n",
       "      <th>3</th>\n",
       "      <td>67</td>\n",
       "      <td>35878</td>\n",
       "      <td>200072.0</td>\n",
       "      <td>SINGLE</td>\n",
       "      <td>200083</td>\n",
       "      <td>WHITE</td>\n",
       "      <td>200052</td>\n",
       "      <td>MEDICARE</td>\n",
       "      <td>200047.0</td>\n",
       "      <td>JEWISH</td>\n",
       "      <td>200028</td>\n",
       "      <td>EMERGENCY</td>\n",
       "      <td>200029</td>\n",
       "      <td>EMERGENCY ROOM ADMIT</td>\n",
       "      <td>67</td>\n",
       "      <td>M</td>\n",
       "      <td>2903-06-04 00:00:00</td>\n",
       "      <td>2976-11-29 00:00:00</td>\n",
       "      <td>Y</td>\n",
       "    </tr>\n",
       "    <tr>\n",
       "      <th>4</th>\n",
       "      <td>3</td>\n",
       "      <td>2075</td>\n",
       "      <td>200050.0</td>\n",
       "      <td>MARRIED</td>\n",
       "      <td>200083</td>\n",
       "      <td>WHITE</td>\n",
       "      <td>200052</td>\n",
       "      <td>MEDICARE</td>\n",
       "      <td>200023.0</td>\n",
       "      <td>CATHOLIC</td>\n",
       "      <td>200028</td>\n",
       "      <td>EMERGENCY</td>\n",
       "      <td>200029</td>\n",
       "      <td>EMERGENCY ROOM ADMIT</td>\n",
       "      <td>3</td>\n",
       "      <td>M</td>\n",
       "      <td>2606-02-28 00:00:00</td>\n",
       "      <td>2683-05-02 00:00:00</td>\n",
       "      <td>N</td>\n",
       "    </tr>\n",
       "    <tr>\n",
       "      <th>...</th>\n",
       "      <td>...</td>\n",
       "      <td>...</td>\n",
       "      <td>...</td>\n",
       "      <td>...</td>\n",
       "      <td>...</td>\n",
       "      <td>...</td>\n",
       "      <td>...</td>\n",
       "      <td>...</td>\n",
       "      <td>...</td>\n",
       "      <td>...</td>\n",
       "      <td>...</td>\n",
       "      <td>...</td>\n",
       "      <td>...</td>\n",
       "      <td>...</td>\n",
       "      <td>...</td>\n",
       "      <td>...</td>\n",
       "      <td>...</td>\n",
       "      <td>...</td>\n",
       "      <td>...</td>\n",
       "    </tr>\n",
       "    <tr>\n",
       "      <th>5069</th>\n",
       "      <td>32667</td>\n",
       "      <td>36071</td>\n",
       "      <td>NaN</td>\n",
       "      <td>None</td>\n",
       "      <td>200083</td>\n",
       "      <td>WHITE</td>\n",
       "      <td>200052</td>\n",
       "      <td>MEDICARE</td>\n",
       "      <td>200062.0</td>\n",
       "      <td>OTHER</td>\n",
       "      <td>200028</td>\n",
       "      <td>EMERGENCY</td>\n",
       "      <td>200029</td>\n",
       "      <td>EMERGENCY ROOM ADMIT</td>\n",
       "      <td>32667</td>\n",
       "      <td>M</td>\n",
       "      <td>2778-01-19 00:00:00</td>\n",
       "      <td>2866-02-27 00:00:00</td>\n",
       "      <td>Y</td>\n",
       "    </tr>\n",
       "    <tr>\n",
       "      <th>5070</th>\n",
       "      <td>32627</td>\n",
       "      <td>33957</td>\n",
       "      <td>200050.0</td>\n",
       "      <td>MARRIED</td>\n",
       "      <td>200083</td>\n",
       "      <td>WHITE</td>\n",
       "      <td>200052</td>\n",
       "      <td>MEDICARE</td>\n",
       "      <td>200047.0</td>\n",
       "      <td>JEWISH</td>\n",
       "      <td>200028</td>\n",
       "      <td>EMERGENCY</td>\n",
       "      <td>200074</td>\n",
       "      <td>TRANSFER FROM HOSP/EXTRAM</td>\n",
       "      <td>32627</td>\n",
       "      <td>M</td>\n",
       "      <td>2699-08-04 00:00:00</td>\n",
       "      <td>2788-11-14 00:00:00</td>\n",
       "      <td>Y</td>\n",
       "    </tr>\n",
       "    <tr>\n",
       "      <th>5071</th>\n",
       "      <td>32675</td>\n",
       "      <td>35514</td>\n",
       "      <td>200071.0</td>\n",
       "      <td>SEPARATED</td>\n",
       "      <td>200018</td>\n",
       "      <td>BLACK/AFRICAN AMERICAN</td>\n",
       "      <td>200051</td>\n",
       "      <td>MEDICAID</td>\n",
       "      <td>200060.0</td>\n",
       "      <td>NOT SPECIFIED</td>\n",
       "      <td>200028</td>\n",
       "      <td>EMERGENCY</td>\n",
       "      <td>200029</td>\n",
       "      <td>EMERGENCY ROOM ADMIT</td>\n",
       "      <td>32675</td>\n",
       "      <td>M</td>\n",
       "      <td>2758-07-07 00:00:00</td>\n",
       "      <td>2816-04-29 00:00:00</td>\n",
       "      <td>Y</td>\n",
       "    </tr>\n",
       "    <tr>\n",
       "      <th>5072</th>\n",
       "      <td>32686</td>\n",
       "      <td>30102</td>\n",
       "      <td>200050.0</td>\n",
       "      <td>MARRIED</td>\n",
       "      <td>200083</td>\n",
       "      <td>WHITE</td>\n",
       "      <td>200067</td>\n",
       "      <td>PRIVATE</td>\n",
       "      <td>200081.0</td>\n",
       "      <td>UNOBTAINABLE</td>\n",
       "      <td>200028</td>\n",
       "      <td>EMERGENCY</td>\n",
       "      <td>200074</td>\n",
       "      <td>TRANSFER FROM HOSP/EXTRAM</td>\n",
       "      <td>32686</td>\n",
       "      <td>M</td>\n",
       "      <td>2543-12-06 00:00:00</td>\n",
       "      <td>2612-06-27 00:00:00</td>\n",
       "      <td>Y</td>\n",
       "    </tr>\n",
       "    <tr>\n",
       "      <th>5073</th>\n",
       "      <td>32763</td>\n",
       "      <td>33007</td>\n",
       "      <td>200050.0</td>\n",
       "      <td>MARRIED</td>\n",
       "      <td>200083</td>\n",
       "      <td>WHITE</td>\n",
       "      <td>200052</td>\n",
       "      <td>MEDICARE</td>\n",
       "      <td>200023.0</td>\n",
       "      <td>CATHOLIC</td>\n",
       "      <td>200028</td>\n",
       "      <td>EMERGENCY</td>\n",
       "      <td>200074</td>\n",
       "      <td>TRANSFER FROM HOSP/EXTRAM</td>\n",
       "      <td>32763</td>\n",
       "      <td>M</td>\n",
       "      <td>2645-04-10 00:00:00</td>\n",
       "      <td>2724-07-09 00:00:00</td>\n",
       "      <td>Y</td>\n",
       "    </tr>\n",
       "  </tbody>\n",
       "</table>\n",
       "<p>5074 rows × 19 columns</p>\n",
       "</div>"
      ],
      "text/plain": [
       "      subject_id  hadm_id  marital_status_itemid marital_status_descr  \\\n",
       "0             56    28766                    NaN                 None   \n",
       "1             37    18052               200050.0              MARRIED   \n",
       "2             78    15161               200071.0            SEPARATED   \n",
       "3             67    35878               200072.0               SINGLE   \n",
       "4              3     2075               200050.0              MARRIED   \n",
       "...          ...      ...                    ...                  ...   \n",
       "5069       32667    36071                    NaN                 None   \n",
       "5070       32627    33957               200050.0              MARRIED   \n",
       "5071       32675    35514               200071.0            SEPARATED   \n",
       "5072       32686    30102               200050.0              MARRIED   \n",
       "5073       32763    33007               200050.0              MARRIED   \n",
       "\n",
       "      ethnicity_itemid         ethnicity_descr  overall_payor_group_itemid  \\\n",
       "0               200083                   WHITE                      200053   \n",
       "1               200083                   WHITE                      200053   \n",
       "2               200018  BLACK/AFRICAN AMERICAN                      200052   \n",
       "3               200083                   WHITE                      200052   \n",
       "4               200083                   WHITE                      200052   \n",
       "...                ...                     ...                         ...   \n",
       "5069            200083                   WHITE                      200052   \n",
       "5070            200083                   WHITE                      200052   \n",
       "5071            200018  BLACK/AFRICAN AMERICAN                      200051   \n",
       "5072            200083                   WHITE                      200067   \n",
       "5073            200083                   WHITE                      200052   \n",
       "\n",
       "     overall_payor_group_descr  religion_itemid religion_descr  \\\n",
       "0             MEDICARE-PRIVATE         200060.0  NOT SPECIFIED   \n",
       "1             MEDICARE-PRIVATE         200047.0         JEWISH   \n",
       "2                     MEDICARE         200060.0  NOT SPECIFIED   \n",
       "3                     MEDICARE         200047.0         JEWISH   \n",
       "4                     MEDICARE         200023.0       CATHOLIC   \n",
       "...                        ...              ...            ...   \n",
       "5069                  MEDICARE         200062.0          OTHER   \n",
       "5070                  MEDICARE         200047.0         JEWISH   \n",
       "5071                  MEDICAID         200060.0  NOT SPECIFIED   \n",
       "5072                   PRIVATE         200081.0   UNOBTAINABLE   \n",
       "5073                  MEDICARE         200023.0       CATHOLIC   \n",
       "\n",
       "      admission_type_itemid admission_type_descr  admission_source_itemid  \\\n",
       "0                    200028            EMERGENCY                   200029   \n",
       "1                    200028            EMERGENCY                   200029   \n",
       "2                    200028            EMERGENCY                   200029   \n",
       "3                    200028            EMERGENCY                   200029   \n",
       "4                    200028            EMERGENCY                   200029   \n",
       "...                     ...                  ...                      ...   \n",
       "5069                 200028            EMERGENCY                   200029   \n",
       "5070                 200028            EMERGENCY                   200074   \n",
       "5071                 200028            EMERGENCY                   200029   \n",
       "5072                 200028            EMERGENCY                   200074   \n",
       "5073                 200028            EMERGENCY                   200074   \n",
       "\n",
       "         admission_source_descr  subject_id sex                  dob  \\\n",
       "0          EMERGENCY ROOM ADMIT          56   F  2553-05-26 00:00:00   \n",
       "1          EMERGENCY ROOM ADMIT          37   M  3195-09-11 00:00:00   \n",
       "2          EMERGENCY ROOM ADMIT          78   M  2729-08-08 00:00:00   \n",
       "3          EMERGENCY ROOM ADMIT          67   M  2903-06-04 00:00:00   \n",
       "4          EMERGENCY ROOM ADMIT           3   M  2606-02-28 00:00:00   \n",
       "...                         ...         ...  ..                  ...   \n",
       "5069       EMERGENCY ROOM ADMIT       32667   M  2778-01-19 00:00:00   \n",
       "5070  TRANSFER FROM HOSP/EXTRAM       32627   M  2699-08-04 00:00:00   \n",
       "5071       EMERGENCY ROOM ADMIT       32675   M  2758-07-07 00:00:00   \n",
       "5072  TRANSFER FROM HOSP/EXTRAM       32686   M  2543-12-06 00:00:00   \n",
       "5073  TRANSFER FROM HOSP/EXTRAM       32763   M  2645-04-10 00:00:00   \n",
       "\n",
       "                      dod hospital_expire_flg  \n",
       "0     2644-01-23 00:00:00                   Y  \n",
       "1     3265-12-31 00:00:00                   N  \n",
       "2     2781-03-11 00:00:00                   N  \n",
       "3     2976-11-29 00:00:00                   Y  \n",
       "4     2683-05-02 00:00:00                   N  \n",
       "...                   ...                 ...  \n",
       "5069  2866-02-27 00:00:00                   Y  \n",
       "5070  2788-11-14 00:00:00                   Y  \n",
       "5071  2816-04-29 00:00:00                   Y  \n",
       "5072  2612-06-27 00:00:00                   Y  \n",
       "5073  2724-07-09 00:00:00                   Y  \n",
       "\n",
       "[5074 rows x 19 columns]"
      ]
     },
     "execution_count": 15,
     "metadata": {},
     "output_type": "execute_result"
    }
   ],
   "source": [
    "pd.read_sql(query, conn)"
   ]
  },
  {
   "cell_type": "code",
   "execution_count": null,
   "id": "8dc19489",
   "metadata": {},
   "outputs": [],
   "source": []
  },
  {
   "cell_type": "markdown",
   "id": "cd6547b9",
   "metadata": {},
   "source": [
    "## Filtering results\n",
    "Typically we don't want to return *all* rows from a table. We instead usually filter based on conditions related to the columns of the table. This is where the `WHERE` clause comes in.\n",
    "\n",
    "For example, to get the demographic details for a single patient, we can filter based on the `subject_id` column:"
   ]
  },
  {
   "cell_type": "code",
   "execution_count": 16,
   "id": "e4f70c51",
   "metadata": {},
   "outputs": [
    {
     "name": "stderr",
     "output_type": "stream",
     "text": [
      "/Users/alecchapman/opt/miniconda3/envs/phs/lib/python3.9/site-packages/pandas/io/sql.py:761: UserWarning: pandas only support SQLAlchemy connectable(engine/connection) ordatabase string URI or sqlite3 DBAPI2 connectionother DBAPI2 objects are not tested, please consider using SQLAlchemy\n",
      "  warnings.warn(\n"
     ]
    },
    {
     "data": {
      "text/html": [
       "<div>\n",
       "<style scoped>\n",
       "    .dataframe tbody tr th:only-of-type {\n",
       "        vertical-align: middle;\n",
       "    }\n",
       "\n",
       "    .dataframe tbody tr th {\n",
       "        vertical-align: top;\n",
       "    }\n",
       "\n",
       "    .dataframe thead th {\n",
       "        text-align: right;\n",
       "    }\n",
       "</style>\n",
       "<table border=\"1\" class=\"dataframe\">\n",
       "  <thead>\n",
       "    <tr style=\"text-align: right;\">\n",
       "      <th></th>\n",
       "      <th>subject_id</th>\n",
       "      <th>hadm_id</th>\n",
       "      <th>marital_status_itemid</th>\n",
       "      <th>marital_status_descr</th>\n",
       "      <th>ethnicity_itemid</th>\n",
       "      <th>ethnicity_descr</th>\n",
       "      <th>overall_payor_group_itemid</th>\n",
       "      <th>overall_payor_group_descr</th>\n",
       "      <th>religion_itemid</th>\n",
       "      <th>religion_descr</th>\n",
       "      <th>admission_type_itemid</th>\n",
       "      <th>admission_type_descr</th>\n",
       "      <th>admission_source_itemid</th>\n",
       "      <th>admission_source_descr</th>\n",
       "    </tr>\n",
       "  </thead>\n",
       "  <tbody>\n",
       "    <tr>\n",
       "      <th>0</th>\n",
       "      <td>78</td>\n",
       "      <td>15161</td>\n",
       "      <td>200071</td>\n",
       "      <td>SEPARATED</td>\n",
       "      <td>200018</td>\n",
       "      <td>BLACK/AFRICAN AMERICAN</td>\n",
       "      <td>200052</td>\n",
       "      <td>MEDICARE</td>\n",
       "      <td>200060</td>\n",
       "      <td>NOT SPECIFIED</td>\n",
       "      <td>200028</td>\n",
       "      <td>EMERGENCY</td>\n",
       "      <td>200029</td>\n",
       "      <td>EMERGENCY ROOM ADMIT</td>\n",
       "    </tr>\n",
       "  </tbody>\n",
       "</table>\n",
       "</div>"
      ],
      "text/plain": [
       "   subject_id  hadm_id  marital_status_itemid marital_status_descr  \\\n",
       "0          78    15161                 200071            SEPARATED   \n",
       "\n",
       "   ethnicity_itemid         ethnicity_descr  overall_payor_group_itemid  \\\n",
       "0            200018  BLACK/AFRICAN AMERICAN                      200052   \n",
       "\n",
       "  overall_payor_group_descr  religion_itemid religion_descr  \\\n",
       "0                  MEDICARE           200060  NOT SPECIFIED   \n",
       "\n",
       "   admission_type_itemid admission_type_descr  admission_source_itemid  \\\n",
       "0                 200028            EMERGENCY                   200029   \n",
       "\n",
       "  admission_source_descr  \n",
       "0   EMERGENCY ROOM ADMIT  "
      ]
     },
     "execution_count": 16,
     "metadata": {},
     "output_type": "execute_result"
    }
   ],
   "source": [
    "query = \"\"\"\n",
    "SELECT *\n",
    "FROM demographic_detail d\n",
    "WHERE subject_id = 78\n",
    "\"\"\"\n",
    "pd.read_sql(query, conn)"
   ]
  },
  {
   "cell_type": "markdown",
   "id": "c2a0c906",
   "metadata": {},
   "source": [
    "You can also use standard comparators like `!=`, `>`, `>=`, `<`, and `<=`. "
   ]
  },
  {
   "cell_type": "code",
   "execution_count": null,
   "id": "a004b9f9",
   "metadata": {},
   "outputs": [],
   "source": []
  },
  {
   "cell_type": "markdown",
   "id": "1795f534",
   "metadata": {},
   "source": [
    "Run the query below - it returns an error. Scroll to the bottom of the error traceback and read the error description:\n",
    "\n",
    "`\"Column 'subject_id' in where clause is ambiguous\"`\n"
   ]
  },
  {
   "cell_type": "code",
   "execution_count": 17,
   "id": "f5a8ae85",
   "metadata": {
    "scrolled": true
   },
   "outputs": [
    {
     "name": "stderr",
     "output_type": "stream",
     "text": [
      "/Users/alecchapman/opt/miniconda3/envs/phs/lib/python3.9/site-packages/pandas/io/sql.py:761: UserWarning: pandas only support SQLAlchemy connectable(engine/connection) ordatabase string URI or sqlite3 DBAPI2 connectionother DBAPI2 objects are not tested, please consider using SQLAlchemy\n",
      "  warnings.warn(\n"
     ]
    },
    {
     "ename": "DatabaseError",
     "evalue": "Execution failed on sql '\nSELECT p.subject_id, p.dob, p.dod, d.admission_type_descr\nFROM demographic_detail d INNER JOIN\n    d_patients p\n        ON d.subject_id = p.subject_id\nWHERE subject_id = 78\n': (1052, \"Column 'subject_id' in where clause is ambiguous\")",
     "output_type": "error",
     "traceback": [
      "\u001b[0;31m---------------------------------------------------------------------------\u001b[0m",
      "\u001b[0;31mOperationalError\u001b[0m                          Traceback (most recent call last)",
      "File \u001b[0;32m~/opt/miniconda3/envs/phs/lib/python3.9/site-packages/pandas/io/sql.py:2020\u001b[0m, in \u001b[0;36mSQLiteDatabase.execute\u001b[0;34m(self, *args, **kwargs)\u001b[0m\n\u001b[1;32m   2019\u001b[0m \u001b[38;5;28;01mtry\u001b[39;00m:\n\u001b[0;32m-> 2020\u001b[0m     \u001b[43mcur\u001b[49m\u001b[38;5;241;43m.\u001b[39;49m\u001b[43mexecute\u001b[49m\u001b[43m(\u001b[49m\u001b[38;5;241;43m*\u001b[39;49m\u001b[43margs\u001b[49m\u001b[43m,\u001b[49m\u001b[43m \u001b[49m\u001b[38;5;241;43m*\u001b[39;49m\u001b[38;5;241;43m*\u001b[39;49m\u001b[43mkwargs\u001b[49m\u001b[43m)\u001b[49m\n\u001b[1;32m   2021\u001b[0m     \u001b[38;5;28;01mreturn\u001b[39;00m cur\n",
      "File \u001b[0;32m~/opt/miniconda3/envs/phs/lib/python3.9/site-packages/pymysql/cursors.py:148\u001b[0m, in \u001b[0;36mCursor.execute\u001b[0;34m(self, query, args)\u001b[0m\n\u001b[1;32m    146\u001b[0m query \u001b[38;5;241m=\u001b[39m \u001b[38;5;28mself\u001b[39m\u001b[38;5;241m.\u001b[39mmogrify(query, args)\n\u001b[0;32m--> 148\u001b[0m result \u001b[38;5;241m=\u001b[39m \u001b[38;5;28;43mself\u001b[39;49m\u001b[38;5;241;43m.\u001b[39;49m\u001b[43m_query\u001b[49m\u001b[43m(\u001b[49m\u001b[43mquery\u001b[49m\u001b[43m)\u001b[49m\n\u001b[1;32m    149\u001b[0m \u001b[38;5;28mself\u001b[39m\u001b[38;5;241m.\u001b[39m_executed \u001b[38;5;241m=\u001b[39m query\n",
      "File \u001b[0;32m~/opt/miniconda3/envs/phs/lib/python3.9/site-packages/pymysql/cursors.py:310\u001b[0m, in \u001b[0;36mCursor._query\u001b[0;34m(self, q)\u001b[0m\n\u001b[1;32m    309\u001b[0m \u001b[38;5;28mself\u001b[39m\u001b[38;5;241m.\u001b[39m_clear_result()\n\u001b[0;32m--> 310\u001b[0m \u001b[43mconn\u001b[49m\u001b[38;5;241;43m.\u001b[39;49m\u001b[43mquery\u001b[49m\u001b[43m(\u001b[49m\u001b[43mq\u001b[49m\u001b[43m)\u001b[49m\n\u001b[1;32m    311\u001b[0m \u001b[38;5;28mself\u001b[39m\u001b[38;5;241m.\u001b[39m_do_get_result()\n",
      "File \u001b[0;32m~/opt/miniconda3/envs/phs/lib/python3.9/site-packages/pymysql/connections.py:548\u001b[0m, in \u001b[0;36mConnection.query\u001b[0;34m(self, sql, unbuffered)\u001b[0m\n\u001b[1;32m    547\u001b[0m \u001b[38;5;28mself\u001b[39m\u001b[38;5;241m.\u001b[39m_execute_command(COMMAND\u001b[38;5;241m.\u001b[39mCOM_QUERY, sql)\n\u001b[0;32m--> 548\u001b[0m \u001b[38;5;28mself\u001b[39m\u001b[38;5;241m.\u001b[39m_affected_rows \u001b[38;5;241m=\u001b[39m \u001b[38;5;28;43mself\u001b[39;49m\u001b[38;5;241;43m.\u001b[39;49m\u001b[43m_read_query_result\u001b[49m\u001b[43m(\u001b[49m\u001b[43munbuffered\u001b[49m\u001b[38;5;241;43m=\u001b[39;49m\u001b[43munbuffered\u001b[49m\u001b[43m)\u001b[49m\n\u001b[1;32m    549\u001b[0m \u001b[38;5;28;01mreturn\u001b[39;00m \u001b[38;5;28mself\u001b[39m\u001b[38;5;241m.\u001b[39m_affected_rows\n",
      "File \u001b[0;32m~/opt/miniconda3/envs/phs/lib/python3.9/site-packages/pymysql/connections.py:775\u001b[0m, in \u001b[0;36mConnection._read_query_result\u001b[0;34m(self, unbuffered)\u001b[0m\n\u001b[1;32m    774\u001b[0m     result \u001b[38;5;241m=\u001b[39m MySQLResult(\u001b[38;5;28mself\u001b[39m)\n\u001b[0;32m--> 775\u001b[0m     \u001b[43mresult\u001b[49m\u001b[38;5;241;43m.\u001b[39;49m\u001b[43mread\u001b[49m\u001b[43m(\u001b[49m\u001b[43m)\u001b[49m\n\u001b[1;32m    776\u001b[0m \u001b[38;5;28mself\u001b[39m\u001b[38;5;241m.\u001b[39m_result \u001b[38;5;241m=\u001b[39m result\n",
      "File \u001b[0;32m~/opt/miniconda3/envs/phs/lib/python3.9/site-packages/pymysql/connections.py:1156\u001b[0m, in \u001b[0;36mMySQLResult.read\u001b[0;34m(self)\u001b[0m\n\u001b[1;32m   1155\u001b[0m \u001b[38;5;28;01mtry\u001b[39;00m:\n\u001b[0;32m-> 1156\u001b[0m     first_packet \u001b[38;5;241m=\u001b[39m \u001b[38;5;28;43mself\u001b[39;49m\u001b[38;5;241;43m.\u001b[39;49m\u001b[43mconnection\u001b[49m\u001b[38;5;241;43m.\u001b[39;49m\u001b[43m_read_packet\u001b[49m\u001b[43m(\u001b[49m\u001b[43m)\u001b[49m\n\u001b[1;32m   1158\u001b[0m     \u001b[38;5;28;01mif\u001b[39;00m first_packet\u001b[38;5;241m.\u001b[39mis_ok_packet():\n",
      "File \u001b[0;32m~/opt/miniconda3/envs/phs/lib/python3.9/site-packages/pymysql/connections.py:725\u001b[0m, in \u001b[0;36mConnection._read_packet\u001b[0;34m(self, packet_type)\u001b[0m\n\u001b[1;32m    724\u001b[0m         \u001b[38;5;28mself\u001b[39m\u001b[38;5;241m.\u001b[39m_result\u001b[38;5;241m.\u001b[39munbuffered_active \u001b[38;5;241m=\u001b[39m \u001b[38;5;28;01mFalse\u001b[39;00m\n\u001b[0;32m--> 725\u001b[0m     \u001b[43mpacket\u001b[49m\u001b[38;5;241;43m.\u001b[39;49m\u001b[43mraise_for_error\u001b[49m\u001b[43m(\u001b[49m\u001b[43m)\u001b[49m\n\u001b[1;32m    726\u001b[0m \u001b[38;5;28;01mreturn\u001b[39;00m packet\n",
      "File \u001b[0;32m~/opt/miniconda3/envs/phs/lib/python3.9/site-packages/pymysql/protocol.py:221\u001b[0m, in \u001b[0;36mMysqlPacket.raise_for_error\u001b[0;34m(self)\u001b[0m\n\u001b[1;32m    220\u001b[0m     \u001b[38;5;28mprint\u001b[39m(\u001b[38;5;124m\"\u001b[39m\u001b[38;5;124merrno =\u001b[39m\u001b[38;5;124m\"\u001b[39m, errno)\n\u001b[0;32m--> 221\u001b[0m \u001b[43merr\u001b[49m\u001b[38;5;241;43m.\u001b[39;49m\u001b[43mraise_mysql_exception\u001b[49m\u001b[43m(\u001b[49m\u001b[38;5;28;43mself\u001b[39;49m\u001b[38;5;241;43m.\u001b[39;49m\u001b[43m_data\u001b[49m\u001b[43m)\u001b[49m\n",
      "File \u001b[0;32m~/opt/miniconda3/envs/phs/lib/python3.9/site-packages/pymysql/err.py:143\u001b[0m, in \u001b[0;36mraise_mysql_exception\u001b[0;34m(data)\u001b[0m\n\u001b[1;32m    142\u001b[0m     errorclass \u001b[38;5;241m=\u001b[39m InternalError \u001b[38;5;28;01mif\u001b[39;00m errno \u001b[38;5;241m<\u001b[39m \u001b[38;5;241m1000\u001b[39m \u001b[38;5;28;01melse\u001b[39;00m OperationalError\n\u001b[0;32m--> 143\u001b[0m \u001b[38;5;28;01mraise\u001b[39;00m errorclass(errno, errval)\n",
      "\u001b[0;31mOperationalError\u001b[0m: (1052, \"Column 'subject_id' in where clause is ambiguous\")",
      "\nThe above exception was the direct cause of the following exception:\n",
      "\u001b[0;31mDatabaseError\u001b[0m                             Traceback (most recent call last)",
      "Input \u001b[0;32mIn [17]\u001b[0m, in \u001b[0;36m<cell line: 8>\u001b[0;34m()\u001b[0m\n\u001b[1;32m      1\u001b[0m query \u001b[38;5;241m=\u001b[39m \u001b[38;5;124m\"\"\"\u001b[39m\n\u001b[1;32m      2\u001b[0m \u001b[38;5;124mSELECT p.subject_id, p.dob, p.dod, d.admission_type_descr\u001b[39m\n\u001b[1;32m      3\u001b[0m \u001b[38;5;124mFROM demographic_detail d INNER JOIN\u001b[39m\n\u001b[0;32m   (...)\u001b[0m\n\u001b[1;32m      6\u001b[0m \u001b[38;5;124mWHERE subject_id = 78\u001b[39m\n\u001b[1;32m      7\u001b[0m \u001b[38;5;124m\"\"\"\u001b[39m\n\u001b[0;32m----> 8\u001b[0m \u001b[43mpd\u001b[49m\u001b[38;5;241;43m.\u001b[39;49m\u001b[43mread_sql\u001b[49m\u001b[43m(\u001b[49m\u001b[43mquery\u001b[49m\u001b[43m,\u001b[49m\u001b[43m \u001b[49m\u001b[43mconn\u001b[49m\u001b[43m)\u001b[49m\n",
      "File \u001b[0;32m~/opt/miniconda3/envs/phs/lib/python3.9/site-packages/pandas/io/sql.py:566\u001b[0m, in \u001b[0;36mread_sql\u001b[0;34m(sql, con, index_col, coerce_float, params, parse_dates, columns, chunksize)\u001b[0m\n\u001b[1;32m    563\u001b[0m pandas_sql \u001b[38;5;241m=\u001b[39m pandasSQL_builder(con)\n\u001b[1;32m    565\u001b[0m \u001b[38;5;28;01mif\u001b[39;00m \u001b[38;5;28misinstance\u001b[39m(pandas_sql, SQLiteDatabase):\n\u001b[0;32m--> 566\u001b[0m     \u001b[38;5;28;01mreturn\u001b[39;00m \u001b[43mpandas_sql\u001b[49m\u001b[38;5;241;43m.\u001b[39;49m\u001b[43mread_query\u001b[49m\u001b[43m(\u001b[49m\n\u001b[1;32m    567\u001b[0m \u001b[43m        \u001b[49m\u001b[43msql\u001b[49m\u001b[43m,\u001b[49m\n\u001b[1;32m    568\u001b[0m \u001b[43m        \u001b[49m\u001b[43mindex_col\u001b[49m\u001b[38;5;241;43m=\u001b[39;49m\u001b[43mindex_col\u001b[49m\u001b[43m,\u001b[49m\n\u001b[1;32m    569\u001b[0m \u001b[43m        \u001b[49m\u001b[43mparams\u001b[49m\u001b[38;5;241;43m=\u001b[39;49m\u001b[43mparams\u001b[49m\u001b[43m,\u001b[49m\n\u001b[1;32m    570\u001b[0m \u001b[43m        \u001b[49m\u001b[43mcoerce_float\u001b[49m\u001b[38;5;241;43m=\u001b[39;49m\u001b[43mcoerce_float\u001b[49m\u001b[43m,\u001b[49m\n\u001b[1;32m    571\u001b[0m \u001b[43m        \u001b[49m\u001b[43mparse_dates\u001b[49m\u001b[38;5;241;43m=\u001b[39;49m\u001b[43mparse_dates\u001b[49m\u001b[43m,\u001b[49m\n\u001b[1;32m    572\u001b[0m \u001b[43m        \u001b[49m\u001b[43mchunksize\u001b[49m\u001b[38;5;241;43m=\u001b[39;49m\u001b[43mchunksize\u001b[49m\u001b[43m,\u001b[49m\n\u001b[1;32m    573\u001b[0m \u001b[43m    \u001b[49m\u001b[43m)\u001b[49m\n\u001b[1;32m    575\u001b[0m \u001b[38;5;28;01mtry\u001b[39;00m:\n\u001b[1;32m    576\u001b[0m     _is_table_name \u001b[38;5;241m=\u001b[39m pandas_sql\u001b[38;5;241m.\u001b[39mhas_table(sql)\n",
      "File \u001b[0;32m~/opt/miniconda3/envs/phs/lib/python3.9/site-packages/pandas/io/sql.py:2080\u001b[0m, in \u001b[0;36mSQLiteDatabase.read_query\u001b[0;34m(self, sql, index_col, coerce_float, params, parse_dates, chunksize, dtype)\u001b[0m\n\u001b[1;32m   2068\u001b[0m \u001b[38;5;28;01mdef\u001b[39;00m \u001b[38;5;21mread_query\u001b[39m(\n\u001b[1;32m   2069\u001b[0m     \u001b[38;5;28mself\u001b[39m,\n\u001b[1;32m   2070\u001b[0m     sql,\n\u001b[0;32m   (...)\u001b[0m\n\u001b[1;32m   2076\u001b[0m     dtype: DtypeArg \u001b[38;5;241m|\u001b[39m \u001b[38;5;28;01mNone\u001b[39;00m \u001b[38;5;241m=\u001b[39m \u001b[38;5;28;01mNone\u001b[39;00m,\n\u001b[1;32m   2077\u001b[0m ):\n\u001b[1;32m   2079\u001b[0m     args \u001b[38;5;241m=\u001b[39m _convert_params(sql, params)\n\u001b[0;32m-> 2080\u001b[0m     cursor \u001b[38;5;241m=\u001b[39m \u001b[38;5;28;43mself\u001b[39;49m\u001b[38;5;241;43m.\u001b[39;49m\u001b[43mexecute\u001b[49m\u001b[43m(\u001b[49m\u001b[38;5;241;43m*\u001b[39;49m\u001b[43margs\u001b[49m\u001b[43m)\u001b[49m\n\u001b[1;32m   2081\u001b[0m     columns \u001b[38;5;241m=\u001b[39m [col_desc[\u001b[38;5;241m0\u001b[39m] \u001b[38;5;28;01mfor\u001b[39;00m col_desc \u001b[38;5;129;01min\u001b[39;00m cursor\u001b[38;5;241m.\u001b[39mdescription]\n\u001b[1;32m   2083\u001b[0m     \u001b[38;5;28;01mif\u001b[39;00m chunksize \u001b[38;5;129;01mis\u001b[39;00m \u001b[38;5;129;01mnot\u001b[39;00m \u001b[38;5;28;01mNone\u001b[39;00m:\n",
      "File \u001b[0;32m~/opt/miniconda3/envs/phs/lib/python3.9/site-packages/pandas/io/sql.py:2032\u001b[0m, in \u001b[0;36mSQLiteDatabase.execute\u001b[0;34m(self, *args, **kwargs)\u001b[0m\n\u001b[1;32m   2029\u001b[0m     \u001b[38;5;28;01mraise\u001b[39;00m ex \u001b[38;5;28;01mfrom\u001b[39;00m \u001b[38;5;21;01minner_exc\u001b[39;00m\n\u001b[1;32m   2031\u001b[0m ex \u001b[38;5;241m=\u001b[39m DatabaseError(\u001b[38;5;124mf\u001b[39m\u001b[38;5;124m\"\u001b[39m\u001b[38;5;124mExecution failed on sql \u001b[39m\u001b[38;5;124m'\u001b[39m\u001b[38;5;132;01m{\u001b[39;00margs[\u001b[38;5;241m0\u001b[39m]\u001b[38;5;132;01m}\u001b[39;00m\u001b[38;5;124m'\u001b[39m\u001b[38;5;124m: \u001b[39m\u001b[38;5;132;01m{\u001b[39;00mexc\u001b[38;5;132;01m}\u001b[39;00m\u001b[38;5;124m\"\u001b[39m)\n\u001b[0;32m-> 2032\u001b[0m \u001b[38;5;28;01mraise\u001b[39;00m ex \u001b[38;5;28;01mfrom\u001b[39;00m \u001b[38;5;21;01mexc\u001b[39;00m\n",
      "\u001b[0;31mDatabaseError\u001b[0m: Execution failed on sql '\nSELECT p.subject_id, p.dob, p.dod, d.admission_type_descr\nFROM demographic_detail d INNER JOIN\n    d_patients p\n        ON d.subject_id = p.subject_id\nWHERE subject_id = 78\n': (1052, \"Column 'subject_id' in where clause is ambiguous\")"
     ]
    }
   ],
   "source": [
    "query = \"\"\"\n",
    "SELECT p.subject_id, p.dob, p.dod, d.admission_type_descr\n",
    "FROM demographic_detail d INNER JOIN\n",
    "    d_patients p\n",
    "        ON d.subject_id = p.subject_id\n",
    "WHERE subject_id = 78\n",
    "\"\"\"\n",
    "pd.read_sql(query, conn)"
   ]
  },
  {
   "cell_type": "markdown",
   "id": "8ec19c13",
   "metadata": {},
   "source": [
    "#### TODO"
   ]
  },
  {
   "cell_type": "code",
   "execution_count": 18,
   "id": "2989c4bd",
   "metadata": {},
   "outputs": [
    {
     "data": {
      "application/vnd.jupyter.widget-view+json": {
       "model_id": "293503f61eef4324bc6bd2fff70b55ee",
       "version_major": 2,
       "version_minor": 0
      },
      "text/plain": [
       "VBox(children=(HTML(value='What do you think the error above means?'), RadioButtons(options=(\"There's no row w…"
      ]
     },
     "metadata": {},
     "output_type": "display_data"
    },
    {
     "data": {
      "text/plain": []
     },
     "execution_count": 18,
     "metadata": {},
     "output_type": "execute_result"
    }
   ],
   "source": [
    "# RUN CELL TO SEE QUIZ\n",
    "MultipleChoiceQuiz(\"What do you think the error above means?\",\n",
    "                  answer=\"More than one table has a column subject_id\",\n",
    "                  options=[\"There is no column named subject_id\", \"There's no row where subject_id = 78\"])"
   ]
  },
  {
   "cell_type": "markdown",
   "id": "85daf362",
   "metadata": {},
   "source": [
    "When more than one table in our query has a column of the same name, we need to specify which table we're referring to. We can specify a column using the notation:\n",
    "\n",
    "`table_name.column_name`\n",
    "\n",
    "or, if we're using aliases::\n",
    "\n",
    "`alias.column_name`\n",
    "\n",
    "`WHERE d.subject_id = 78`\n",
    "\n",
    "or:\n",
    "\n",
    "`WHERE p.subject_id = 78`\n",
    "\n",
    "#### TODO\n",
    "Which of the following changes to the `WHERE` clause would cause our query to run correctly?\n",
    "- **a)** `WHERE d.subject_id = 78`\n",
    "- **b)** `WHERE p.subject_id = 78`\n",
    "- **c)** `WHERE ANY(subject_id) = 78`"
   ]
  },
  {
   "cell_type": "code",
   "execution_count": 19,
   "id": "482dc22b",
   "metadata": {},
   "outputs": [
    {
     "data": {
      "application/vnd.jupyter.widget-view+json": {
       "model_id": "9bab537152d9492aa194a7bc1b2d469a",
       "version_major": 2,
       "version_minor": 0
      },
      "text/plain": [
       "VBox(children=(HTML(value=''), RadioButtons(options=('a', 'b', 'c', 'a and b', 'a, b, and c'), value='a'), But…"
      ]
     },
     "metadata": {},
     "output_type": "display_data"
    },
    {
     "data": {
      "text/plain": []
     },
     "execution_count": 19,
     "metadata": {},
     "output_type": "execute_result"
    }
   ],
   "source": [
    "# RUN CELL TO SEE QUIZ\n",
    "quiz_fix_where_ambiguity"
   ]
  },
  {
   "cell_type": "markdown",
   "id": "28d208dc",
   "metadata": {},
   "source": [
    "#### TODO\n",
    "Based on your answer to the previous quiz, fix the query and rerun it, saving the result as `df`."
   ]
  },
  {
   "cell_type": "code",
   "execution_count": 20,
   "id": "b447997b",
   "metadata": {},
   "outputs": [
    {
     "data": {
      "text/html": [
       "<div>\n",
       "<style scoped>\n",
       "    .dataframe tbody tr th:only-of-type {\n",
       "        vertical-align: middle;\n",
       "    }\n",
       "\n",
       "    .dataframe tbody tr th {\n",
       "        vertical-align: top;\n",
       "    }\n",
       "\n",
       "    .dataframe thead th {\n",
       "        text-align: right;\n",
       "    }\n",
       "</style>\n",
       "<table border=\"1\" class=\"dataframe\">\n",
       "  <thead>\n",
       "    <tr style=\"text-align: right;\">\n",
       "      <th></th>\n",
       "      <th>subject_id</th>\n",
       "      <th>dob</th>\n",
       "      <th>dod</th>\n",
       "      <th>admission_type_descr</th>\n",
       "    </tr>\n",
       "  </thead>\n",
       "  <tbody>\n",
       "    <tr>\n",
       "      <th>0</th>\n",
       "      <td>78</td>\n",
       "      <td>2729-08-08 00:00:00</td>\n",
       "      <td>2781-03-11 00:00:00</td>\n",
       "      <td>EMERGENCY</td>\n",
       "    </tr>\n",
       "  </tbody>\n",
       "</table>\n",
       "</div>"
      ],
      "text/plain": [
       "   subject_id                  dob                  dod admission_type_descr\n",
       "0          78  2729-08-08 00:00:00  2781-03-11 00:00:00            EMERGENCY"
      ]
     },
     "execution_count": 20,
     "metadata": {},
     "output_type": "execute_result"
    }
   ],
   "source": [
    "query = \"\"\"\n",
    "SELECT p.subject_id, p.dob, p.dod, d.admission_type_descr\n",
    "FROM demographic_detail d INNER JOIN\n",
    "    d_patients p\n",
    "        ON d.subject_id = p.subject_id\n",
    "WHERE p.subject_id = 78\n",
    "\"\"\"\n",
    "df = pd.read_sql(query, conn)\n",
    "df"
   ]
  },
  {
   "cell_type": "code",
   "execution_count": 22,
   "id": "8cc7b919",
   "metadata": {},
   "outputs": [],
   "source": [
    "# query = \"\"\"\n",
    "\n",
    "# \"\"\"\n",
    "# df = pd.read_sql(query, conn)\n",
    "# df"
   ]
  },
  {
   "cell_type": "code",
   "execution_count": 23,
   "id": "36b86b30",
   "metadata": {},
   "outputs": [
    {
     "name": "stdout",
     "output_type": "stream",
     "text": [
      "That is correct!\n"
     ]
    }
   ],
   "source": [
    "# RUN CELL TO TEST VALUE\n",
    "test_fixed_where_ambiguity.test(df)"
   ]
  },
  {
   "cell_type": "code",
   "execution_count": null,
   "id": "7758211d",
   "metadata": {},
   "outputs": [],
   "source": []
  },
  {
   "cell_type": "markdown",
   "id": "548cd273",
   "metadata": {},
   "source": [
    "## Ordering results\n",
    "Finally, we can order the queried data by using the `ORDER BY` clause:"
   ]
  },
  {
   "cell_type": "code",
   "execution_count": 24,
   "id": "641e2a7c",
   "metadata": {},
   "outputs": [
    {
     "data": {
      "text/html": [
       "<div>\n",
       "<style scoped>\n",
       "    .dataframe tbody tr th:only-of-type {\n",
       "        vertical-align: middle;\n",
       "    }\n",
       "\n",
       "    .dataframe tbody tr th {\n",
       "        vertical-align: top;\n",
       "    }\n",
       "\n",
       "    .dataframe thead th {\n",
       "        text-align: right;\n",
       "    }\n",
       "</style>\n",
       "<table border=\"1\" class=\"dataframe\">\n",
       "  <thead>\n",
       "    <tr style=\"text-align: right;\">\n",
       "      <th></th>\n",
       "      <th>subject_id</th>\n",
       "      <th>sex</th>\n",
       "      <th>dob</th>\n",
       "      <th>dod</th>\n",
       "      <th>hospital_expire_flg</th>\n",
       "    </tr>\n",
       "  </thead>\n",
       "  <tbody>\n",
       "    <tr>\n",
       "      <th>0</th>\n",
       "      <td>37</td>\n",
       "      <td>M</td>\n",
       "      <td>3195-09-11 00:00:00</td>\n",
       "      <td>3265-12-31 00:00:00</td>\n",
       "      <td>N</td>\n",
       "    </tr>\n",
       "    <tr>\n",
       "      <th>1</th>\n",
       "      <td>56</td>\n",
       "      <td>F</td>\n",
       "      <td>2553-05-26 00:00:00</td>\n",
       "      <td>2644-01-23 00:00:00</td>\n",
       "      <td>Y</td>\n",
       "    </tr>\n",
       "    <tr>\n",
       "      <th>2</th>\n",
       "      <td>78</td>\n",
       "      <td>M</td>\n",
       "      <td>2729-08-08 00:00:00</td>\n",
       "      <td>2781-03-11 00:00:00</td>\n",
       "      <td>N</td>\n",
       "    </tr>\n",
       "  </tbody>\n",
       "</table>\n",
       "</div>"
      ],
      "text/plain": [
       "   subject_id sex                  dob                  dod  \\\n",
       "0          37   M  3195-09-11 00:00:00  3265-12-31 00:00:00   \n",
       "1          56   F  2553-05-26 00:00:00  2644-01-23 00:00:00   \n",
       "2          78   M  2729-08-08 00:00:00  2781-03-11 00:00:00   \n",
       "\n",
       "  hospital_expire_flg  \n",
       "0                   N  \n",
       "1                   Y  \n",
       "2                   N  "
      ]
     },
     "execution_count": 24,
     "metadata": {},
     "output_type": "execute_result"
    }
   ],
   "source": [
    "query = \"\"\"\n",
    "SELECT *\n",
    "FROM d_patients\n",
    "WHERE subject_id IN (56, 78, 37)\n",
    "ORDER BY subject_id;\n",
    "\"\"\"\n",
    "pd.read_sql(query, conn)"
   ]
  },
  {
   "cell_type": "markdown",
   "id": "a17799da",
   "metadata": {},
   "source": [
    "By default, `ORDER BY` sorts values in **ascending** order. But we can switch to **descending** order using the `DESC` keyword:\n",
    "\n",
    "```sql\n",
    "ORDER BY column DESC\n",
    "```\n",
    "\n",
    "#### TODO\n",
    "Change the query above to sort the data by `dob` in *descending* order. Rerun and save as `df`."
   ]
  },
  {
   "cell_type": "code",
   "execution_count": 25,
   "id": "3b1bfeca",
   "metadata": {},
   "outputs": [
    {
     "name": "stderr",
     "output_type": "stream",
     "text": [
      "/Users/alecchapman/opt/miniconda3/envs/phs/lib/python3.9/site-packages/pandas/io/sql.py:761: UserWarning: pandas only support SQLAlchemy connectable(engine/connection) ordatabase string URI or sqlite3 DBAPI2 connectionother DBAPI2 objects are not tested, please consider using SQLAlchemy\n",
      "  warnings.warn(\n"
     ]
    },
    {
     "data": {
      "text/html": [
       "<div>\n",
       "<style scoped>\n",
       "    .dataframe tbody tr th:only-of-type {\n",
       "        vertical-align: middle;\n",
       "    }\n",
       "\n",
       "    .dataframe tbody tr th {\n",
       "        vertical-align: top;\n",
       "    }\n",
       "\n",
       "    .dataframe thead th {\n",
       "        text-align: right;\n",
       "    }\n",
       "</style>\n",
       "<table border=\"1\" class=\"dataframe\">\n",
       "  <thead>\n",
       "    <tr style=\"text-align: right;\">\n",
       "      <th></th>\n",
       "      <th>subject_id</th>\n",
       "      <th>sex</th>\n",
       "      <th>dob</th>\n",
       "      <th>dod</th>\n",
       "      <th>hospital_expire_flg</th>\n",
       "    </tr>\n",
       "  </thead>\n",
       "  <tbody>\n",
       "    <tr>\n",
       "      <th>0</th>\n",
       "      <td>37</td>\n",
       "      <td>M</td>\n",
       "      <td>3195-09-11 00:00:00</td>\n",
       "      <td>3265-12-31 00:00:00</td>\n",
       "      <td>N</td>\n",
       "    </tr>\n",
       "    <tr>\n",
       "      <th>1</th>\n",
       "      <td>78</td>\n",
       "      <td>M</td>\n",
       "      <td>2729-08-08 00:00:00</td>\n",
       "      <td>2781-03-11 00:00:00</td>\n",
       "      <td>N</td>\n",
       "    </tr>\n",
       "    <tr>\n",
       "      <th>2</th>\n",
       "      <td>56</td>\n",
       "      <td>F</td>\n",
       "      <td>2553-05-26 00:00:00</td>\n",
       "      <td>2644-01-23 00:00:00</td>\n",
       "      <td>Y</td>\n",
       "    </tr>\n",
       "  </tbody>\n",
       "</table>\n",
       "</div>"
      ],
      "text/plain": [
       "   subject_id sex                  dob                  dod  \\\n",
       "0          37   M  3195-09-11 00:00:00  3265-12-31 00:00:00   \n",
       "1          78   M  2729-08-08 00:00:00  2781-03-11 00:00:00   \n",
       "2          56   F  2553-05-26 00:00:00  2644-01-23 00:00:00   \n",
       "\n",
       "  hospital_expire_flg  \n",
       "0                   N  \n",
       "1                   N  \n",
       "2                   Y  "
      ]
     },
     "execution_count": 25,
     "metadata": {},
     "output_type": "execute_result"
    }
   ],
   "source": [
    "query = \"\"\"\n",
    "SELECT *\n",
    "FROM d_patients\n",
    "WHERE subject_id IN (56, 78, 37)\n",
    "ORDER BY dob DESC;\n",
    "\"\"\"\n",
    "df = pd.read_sql(query, conn)\n",
    "df"
   ]
  },
  {
   "cell_type": "code",
   "execution_count": 26,
   "id": "6db9f680",
   "metadata": {},
   "outputs": [],
   "source": [
    "# query = \"\"\"\n",
    "\n",
    "# \"\"\"\n",
    "# df = pd.read_sql(query, conn)\n",
    "# df"
   ]
  },
  {
   "cell_type": "code",
   "execution_count": 27,
   "id": "a8808a64",
   "metadata": {},
   "outputs": [],
   "source": [
    "def test_query_dob_descending(actual):\n",
    "    import pandas as pd\n",
    "    if not isinstance(actual, pd.DataFrame):\n",
    "        print(f\"Incorrect. df should be a pandas DataFrame, not {type(actual)}\")\n",
    "        return\n",
    "    if len(actual) != 3:\n",
    "        print(f\"Incorrect. df should have 3 rows. Your dataframe had {len(actual)}.\")\n",
    "        return\n",
    "    if set(actual.columns) != {'subject_id', 'sex', 'dob', 'dod', 'hospital_expire_flg'}:\n",
    "        print(\n",
    "            f\"Incorrect. Your dataframe should have columns ['subject_id', 'sex', 'dob', 'dod', 'hospital_expire_flg'], not {list(actual.columns)}\")\n",
    "        return\n",
    "    if set(actual[\"subject_id\"]) != {37, 78, 56}:\n",
    "        print(f\"Incorrect. Your dataframe should have subject_id's (37, 78, 56), not {tuple(actual['subject_id'])}\")\n",
    "        return\n",
    "    if tuple(actual[\"subject_id\"]) != (37, 78, 56):\n",
    "        print(f\"Incorrect. Your dataframe should have subject ids in the order (37, 78, 56), not {tuple(actual['subject_id'])}\")\n",
    "    \n",
    "    print(\"That is correct!\")\n",
    "test_query_dob_descending = ValueTest(validation_func=test_query_dob_descending)"
   ]
  },
  {
   "cell_type": "code",
   "execution_count": 28,
   "id": "7bef5b98",
   "metadata": {},
   "outputs": [
    {
     "name": "stdout",
     "output_type": "stream",
     "text": [
      "That is correct!\n"
     ]
    }
   ],
   "source": [
    "# RUN CELL TO TEST VALUE\n",
    "test_query_dob_descending.test(df)"
   ]
  },
  {
   "cell_type": "code",
   "execution_count": null,
   "id": "9a20acc4",
   "metadata": {},
   "outputs": [],
   "source": []
  },
  {
   "cell_type": "markdown",
   "id": "c417941f",
   "metadata": {},
   "source": [
    "## Renaming columns\n",
    "Sometimes we might want to rename our columns, maybe to make it a name that's easier to understand or that is less ambiguous. We do this the same way we assigned *aliases* to tables:\n",
    "\n",
    "```sql\n",
    "SELECT column1 AS new_name\n",
    "    ,column2 new_name2 -- 'AS' is optional\n",
    "```\n",
    "\n",
    "#### TODO\n",
    "Select the first 10 rows of `d_patients` and rename `dob` to `date_of_birth` and `dod` to `date_of_death`. Save the assignment as `df_patients_renamed`"
   ]
  },
  {
   "cell_type": "code",
   "execution_count": 4,
   "id": "bddb2699",
   "metadata": {},
   "outputs": [
    {
     "name": "stderr",
     "output_type": "stream",
     "text": [
      "/Users/alecchapman/opt/miniconda3/envs/phs/lib/python3.9/site-packages/pandas/io/sql.py:761: UserWarning: pandas only support SQLAlchemy connectable(engine/connection) ordatabase string URI or sqlite3 DBAPI2 connectionother DBAPI2 objects are not tested, please consider using SQLAlchemy\n",
      "  warnings.warn(\n"
     ]
    },
    {
     "data": {
      "text/html": [
       "<div>\n",
       "<style scoped>\n",
       "    .dataframe tbody tr th:only-of-type {\n",
       "        vertical-align: middle;\n",
       "    }\n",
       "\n",
       "    .dataframe tbody tr th {\n",
       "        vertical-align: top;\n",
       "    }\n",
       "\n",
       "    .dataframe thead th {\n",
       "        text-align: right;\n",
       "    }\n",
       "</style>\n",
       "<table border=\"1\" class=\"dataframe\">\n",
       "  <thead>\n",
       "    <tr style=\"text-align: right;\">\n",
       "      <th></th>\n",
       "      <th>subject_id</th>\n",
       "      <th>sex</th>\n",
       "      <th>date_of_birth</th>\n",
       "      <th>date_of_death</th>\n",
       "      <th>hospital_expire_flg</th>\n",
       "    </tr>\n",
       "  </thead>\n",
       "  <tbody>\n",
       "    <tr>\n",
       "      <th>0</th>\n",
       "      <td>3</td>\n",
       "      <td>M</td>\n",
       "      <td>2606-02-28 00:00:00</td>\n",
       "      <td>2683-05-02 00:00:00</td>\n",
       "      <td>N</td>\n",
       "    </tr>\n",
       "    <tr>\n",
       "      <th>1</th>\n",
       "      <td>12</td>\n",
       "      <td>M</td>\n",
       "      <td>2803-05-14 00:00:00</td>\n",
       "      <td>2875-10-09 00:00:00</td>\n",
       "      <td>Y</td>\n",
       "    </tr>\n",
       "    <tr>\n",
       "      <th>2</th>\n",
       "      <td>21</td>\n",
       "      <td>M</td>\n",
       "      <td>3051-05-22 00:00:00</td>\n",
       "      <td>3139-03-28 00:00:00</td>\n",
       "      <td>Y</td>\n",
       "    </tr>\n",
       "    <tr>\n",
       "      <th>3</th>\n",
       "      <td>26</td>\n",
       "      <td>M</td>\n",
       "      <td>3007-03-02 00:00:00</td>\n",
       "      <td>3080-12-22 00:00:00</td>\n",
       "      <td>N</td>\n",
       "    </tr>\n",
       "    <tr>\n",
       "      <th>4</th>\n",
       "      <td>31</td>\n",
       "      <td>M</td>\n",
       "      <td>2606-05-17 00:00:00</td>\n",
       "      <td>2678-08-29 00:00:00</td>\n",
       "      <td>Y</td>\n",
       "    </tr>\n",
       "    <tr>\n",
       "      <th>5</th>\n",
       "      <td>37</td>\n",
       "      <td>M</td>\n",
       "      <td>3195-09-11 00:00:00</td>\n",
       "      <td>3265-12-31 00:00:00</td>\n",
       "      <td>N</td>\n",
       "    </tr>\n",
       "    <tr>\n",
       "      <th>6</th>\n",
       "      <td>56</td>\n",
       "      <td>F</td>\n",
       "      <td>2553-05-26 00:00:00</td>\n",
       "      <td>2644-01-23 00:00:00</td>\n",
       "      <td>Y</td>\n",
       "    </tr>\n",
       "    <tr>\n",
       "      <th>7</th>\n",
       "      <td>61</td>\n",
       "      <td>M</td>\n",
       "      <td>3297-10-27 00:00:00</td>\n",
       "      <td>3353-02-09 00:00:00</td>\n",
       "      <td>Y</td>\n",
       "    </tr>\n",
       "    <tr>\n",
       "      <th>8</th>\n",
       "      <td>67</td>\n",
       "      <td>M</td>\n",
       "      <td>2903-06-04 00:00:00</td>\n",
       "      <td>2976-11-29 00:00:00</td>\n",
       "      <td>Y</td>\n",
       "    </tr>\n",
       "    <tr>\n",
       "      <th>9</th>\n",
       "      <td>78</td>\n",
       "      <td>M</td>\n",
       "      <td>2729-08-08 00:00:00</td>\n",
       "      <td>2781-03-11 00:00:00</td>\n",
       "      <td>N</td>\n",
       "    </tr>\n",
       "  </tbody>\n",
       "</table>\n",
       "</div>"
      ],
      "text/plain": [
       "   subject_id sex        date_of_birth        date_of_death  \\\n",
       "0           3   M  2606-02-28 00:00:00  2683-05-02 00:00:00   \n",
       "1          12   M  2803-05-14 00:00:00  2875-10-09 00:00:00   \n",
       "2          21   M  3051-05-22 00:00:00  3139-03-28 00:00:00   \n",
       "3          26   M  3007-03-02 00:00:00  3080-12-22 00:00:00   \n",
       "4          31   M  2606-05-17 00:00:00  2678-08-29 00:00:00   \n",
       "5          37   M  3195-09-11 00:00:00  3265-12-31 00:00:00   \n",
       "6          56   F  2553-05-26 00:00:00  2644-01-23 00:00:00   \n",
       "7          61   M  3297-10-27 00:00:00  3353-02-09 00:00:00   \n",
       "8          67   M  2903-06-04 00:00:00  2976-11-29 00:00:00   \n",
       "9          78   M  2729-08-08 00:00:00  2781-03-11 00:00:00   \n",
       "\n",
       "  hospital_expire_flg  \n",
       "0                   N  \n",
       "1                   Y  \n",
       "2                   Y  \n",
       "3                   N  \n",
       "4                   Y  \n",
       "5                   N  \n",
       "6                   Y  \n",
       "7                   Y  \n",
       "8                   Y  \n",
       "9                   N  "
      ]
     },
     "execution_count": 4,
     "metadata": {},
     "output_type": "execute_result"
    }
   ],
   "source": [
    "query = \"\"\"\n",
    "SELECT\n",
    "    subject_id\n",
    "    ,sex\n",
    "    ,dob AS date_of_birth\n",
    "    ,dod AS date_of_death\n",
    "    ,hospital_expire_flg\n",
    "FROM d_patients\n",
    "LIMIT 10\n",
    "\"\"\"\n",
    "\n",
    "df_patients_renamed = pd.read_sql(query, conn)\n",
    "df_patients_renamed"
   ]
  },
  {
   "cell_type": "code",
   "execution_count": 5,
   "id": "ce21c20a",
   "metadata": {},
   "outputs": [],
   "source": [
    "# query = \"\"\"\n",
    "# SELECT\n",
    "#     subject_id\n",
    "#     ,sex\n",
    "#     ,__ AS ____\n",
    "#     ,____\n",
    "#     ,hospital_expire_flg\n",
    "# FROM d_patients\n",
    "# LIMIT 10\n",
    "# \"\"\"\n",
    "\n",
    "# df_patients_renamed = pd.____(____, conn)\n",
    "# df_patients_renamed"
   ]
  },
  {
   "cell_type": "code",
   "execution_count": 6,
   "id": "cbb0d313",
   "metadata": {},
   "outputs": [
    {
     "name": "stdout",
     "output_type": "stream",
     "text": [
      "That is correct!\n"
     ]
    }
   ],
   "source": [
    "# RUN CELL TO TEST VALUE\n",
    "validate_df_patients_renamed.test(df_patients_renamed)"
   ]
  },
  {
   "cell_type": "code",
   "execution_count": null,
   "id": "9a7ee60b",
   "metadata": {},
   "outputs": [],
   "source": []
  },
  {
   "cell_type": "markdown",
   "id": "2bec72d5",
   "metadata": {},
   "source": [
    "## Creating new columns with new values\n",
    "Often, tables don't have the exist data element we want. For example, let's say that we want to study patient age at death. There is no exact column for this in `d_patients`, but we can use `dod` and `dob` to calculate a new column.\n",
    "\n",
    "Just like Python, SQL has certain **functions** that you can add to your queries. One such function is `DATEDIFF` which calculates the number of days between two dates:\n",
    "\n",
    "```sql\n",
    "SELECT DATEDIFF(date1, date2)\n",
    "```\n",
    "\n",
    "We can use that to calculate the number of days between patients' death and birth dates. When we calculate a new column we need to give it a name, so we'll call this one `age_at_death_days`."
   ]
  },
  {
   "cell_type": "code",
   "execution_count": 7,
   "id": "64b14c75",
   "metadata": {},
   "outputs": [
    {
     "name": "stderr",
     "output_type": "stream",
     "text": [
      "/Users/alecchapman/opt/miniconda3/envs/phs/lib/python3.9/site-packages/pandas/io/sql.py:761: UserWarning: pandas only support SQLAlchemy connectable(engine/connection) ordatabase string URI or sqlite3 DBAPI2 connectionother DBAPI2 objects are not tested, please consider using SQLAlchemy\n",
      "  warnings.warn(\n"
     ]
    },
    {
     "data": {
      "text/html": [
       "<div>\n",
       "<style scoped>\n",
       "    .dataframe tbody tr th:only-of-type {\n",
       "        vertical-align: middle;\n",
       "    }\n",
       "\n",
       "    .dataframe tbody tr th {\n",
       "        vertical-align: top;\n",
       "    }\n",
       "\n",
       "    .dataframe thead th {\n",
       "        text-align: right;\n",
       "    }\n",
       "</style>\n",
       "<table border=\"1\" class=\"dataframe\">\n",
       "  <thead>\n",
       "    <tr style=\"text-align: right;\">\n",
       "      <th></th>\n",
       "      <th>subject_id</th>\n",
       "      <th>dod</th>\n",
       "      <th>age_at_death_days</th>\n",
       "    </tr>\n",
       "  </thead>\n",
       "  <tbody>\n",
       "    <tr>\n",
       "      <th>0</th>\n",
       "      <td>3</td>\n",
       "      <td>2683-05-02 00:00:00</td>\n",
       "      <td>28187</td>\n",
       "    </tr>\n",
       "    <tr>\n",
       "      <th>1</th>\n",
       "      <td>12</td>\n",
       "      <td>2875-10-09 00:00:00</td>\n",
       "      <td>26446</td>\n",
       "    </tr>\n",
       "    <tr>\n",
       "      <th>2</th>\n",
       "      <td>21</td>\n",
       "      <td>3139-03-28 00:00:00</td>\n",
       "      <td>32086</td>\n",
       "    </tr>\n",
       "    <tr>\n",
       "      <th>3</th>\n",
       "      <td>26</td>\n",
       "      <td>3080-12-22 00:00:00</td>\n",
       "      <td>26959</td>\n",
       "    </tr>\n",
       "    <tr>\n",
       "      <th>4</th>\n",
       "      <td>31</td>\n",
       "      <td>2678-08-29 00:00:00</td>\n",
       "      <td>26402</td>\n",
       "    </tr>\n",
       "    <tr>\n",
       "      <th>5</th>\n",
       "      <td>37</td>\n",
       "      <td>3265-12-31 00:00:00</td>\n",
       "      <td>25679</td>\n",
       "    </tr>\n",
       "    <tr>\n",
       "      <th>6</th>\n",
       "      <td>56</td>\n",
       "      <td>2644-01-23 00:00:00</td>\n",
       "      <td>33113</td>\n",
       "    </tr>\n",
       "    <tr>\n",
       "      <th>7</th>\n",
       "      <td>61</td>\n",
       "      <td>3353-02-09 00:00:00</td>\n",
       "      <td>20193</td>\n",
       "    </tr>\n",
       "    <tr>\n",
       "      <th>8</th>\n",
       "      <td>67</td>\n",
       "      <td>2976-11-29 00:00:00</td>\n",
       "      <td>26842</td>\n",
       "    </tr>\n",
       "    <tr>\n",
       "      <th>9</th>\n",
       "      <td>78</td>\n",
       "      <td>2781-03-11 00:00:00</td>\n",
       "      <td>18843</td>\n",
       "    </tr>\n",
       "  </tbody>\n",
       "</table>\n",
       "</div>"
      ],
      "text/plain": [
       "   subject_id                  dod  age_at_death_days\n",
       "0           3  2683-05-02 00:00:00              28187\n",
       "1          12  2875-10-09 00:00:00              26446\n",
       "2          21  3139-03-28 00:00:00              32086\n",
       "3          26  3080-12-22 00:00:00              26959\n",
       "4          31  2678-08-29 00:00:00              26402\n",
       "5          37  3265-12-31 00:00:00              25679\n",
       "6          56  2644-01-23 00:00:00              33113\n",
       "7          61  3353-02-09 00:00:00              20193\n",
       "8          67  2976-11-29 00:00:00              26842\n",
       "9          78  2781-03-11 00:00:00              18843"
      ]
     },
     "execution_count": 7,
     "metadata": {},
     "output_type": "execute_result"
    }
   ],
   "source": [
    "query = \"\"\"\n",
    "SELECT \n",
    "    subject_id,\n",
    "    dod,\n",
    "    DATEDIFF(dod, dob) age_at_death_days\n",
    "FROM d_patients p\n",
    "LIMIT 10\n",
    "\"\"\"\n",
    "pd.read_sql(query, conn)"
   ]
  },
  {
   "cell_type": "markdown",
   "id": "de1457fb",
   "metadata": {},
   "source": [
    "We can also do basic arithmetic like addition, subtraction, multiplication, and division using operators similar to Python: `+`, `-`, `*`, `/`.\n",
    "\n",
    "#### TODO\n",
    "Make a new version of `df_patients` with all 4,000 rows and a new column called `age_at_death` which is the patient's age when they died *in years*."
   ]
  },
  {
   "cell_type": "code",
   "execution_count": 8,
   "id": "b040fa41",
   "metadata": {},
   "outputs": [
    {
     "data": {
      "application/vnd.jupyter.widget-view+json": {
       "model_id": "dc3b7cb211d042519d55ed4980b344d5",
       "version_major": 2,
       "version_minor": 0
      },
      "text/plain": [
       "VBox(children=(HTML(value='</br><strong>Displaying hint 0/1</strong>'), Output(), Button(description='Get hint…"
      ]
     },
     "metadata": {},
     "output_type": "display_data"
    },
    {
     "data": {
      "text/plain": []
     },
     "execution_count": 8,
     "metadata": {},
     "output_type": "execute_result"
    }
   ],
   "source": [
    "# RUN CELL TO SEE HINT\n",
    "hint_age_in_years"
   ]
  },
  {
   "cell_type": "code",
   "execution_count": 11,
   "id": "085559c5",
   "metadata": {},
   "outputs": [
    {
     "name": "stderr",
     "output_type": "stream",
     "text": [
      "/Users/alecchapman/opt/miniconda3/envs/phs/lib/python3.9/site-packages/pandas/io/sql.py:761: UserWarning: pandas only support SQLAlchemy connectable(engine/connection) ordatabase string URI or sqlite3 DBAPI2 connectionother DBAPI2 objects are not tested, please consider using SQLAlchemy\n",
      "  warnings.warn(\n"
     ]
    },
    {
     "data": {
      "text/html": [
       "<div>\n",
       "<style scoped>\n",
       "    .dataframe tbody tr th:only-of-type {\n",
       "        vertical-align: middle;\n",
       "    }\n",
       "\n",
       "    .dataframe tbody tr th {\n",
       "        vertical-align: top;\n",
       "    }\n",
       "\n",
       "    .dataframe thead th {\n",
       "        text-align: right;\n",
       "    }\n",
       "</style>\n",
       "<table border=\"1\" class=\"dataframe\">\n",
       "  <thead>\n",
       "    <tr style=\"text-align: right;\">\n",
       "      <th></th>\n",
       "      <th>subject_id</th>\n",
       "      <th>sex</th>\n",
       "      <th>dob</th>\n",
       "      <th>dod</th>\n",
       "      <th>hospital_expire_flg</th>\n",
       "      <th>age_at_death</th>\n",
       "    </tr>\n",
       "  </thead>\n",
       "  <tbody>\n",
       "    <tr>\n",
       "      <th>0</th>\n",
       "      <td>3</td>\n",
       "      <td>M</td>\n",
       "      <td>2606-02-28 00:00:00</td>\n",
       "      <td>2683-05-02 00:00:00</td>\n",
       "      <td>N</td>\n",
       "      <td>77.2247</td>\n",
       "    </tr>\n",
       "    <tr>\n",
       "      <th>1</th>\n",
       "      <td>12</td>\n",
       "      <td>M</td>\n",
       "      <td>2803-05-14 00:00:00</td>\n",
       "      <td>2875-10-09 00:00:00</td>\n",
       "      <td>Y</td>\n",
       "      <td>72.4548</td>\n",
       "    </tr>\n",
       "    <tr>\n",
       "      <th>2</th>\n",
       "      <td>21</td>\n",
       "      <td>M</td>\n",
       "      <td>3051-05-22 00:00:00</td>\n",
       "      <td>3139-03-28 00:00:00</td>\n",
       "      <td>Y</td>\n",
       "      <td>87.9068</td>\n",
       "    </tr>\n",
       "    <tr>\n",
       "      <th>3</th>\n",
       "      <td>26</td>\n",
       "      <td>M</td>\n",
       "      <td>3007-03-02 00:00:00</td>\n",
       "      <td>3080-12-22 00:00:00</td>\n",
       "      <td>N</td>\n",
       "      <td>73.8603</td>\n",
       "    </tr>\n",
       "    <tr>\n",
       "      <th>4</th>\n",
       "      <td>31</td>\n",
       "      <td>M</td>\n",
       "      <td>2606-05-17 00:00:00</td>\n",
       "      <td>2678-08-29 00:00:00</td>\n",
       "      <td>Y</td>\n",
       "      <td>72.3342</td>\n",
       "    </tr>\n",
       "  </tbody>\n",
       "</table>\n",
       "</div>"
      ],
      "text/plain": [
       "   subject_id sex                  dob                  dod  \\\n",
       "0           3   M  2606-02-28 00:00:00  2683-05-02 00:00:00   \n",
       "1          12   M  2803-05-14 00:00:00  2875-10-09 00:00:00   \n",
       "2          21   M  3051-05-22 00:00:00  3139-03-28 00:00:00   \n",
       "3          26   M  3007-03-02 00:00:00  3080-12-22 00:00:00   \n",
       "4          31   M  2606-05-17 00:00:00  2678-08-29 00:00:00   \n",
       "\n",
       "  hospital_expire_flg  age_at_death  \n",
       "0                   N       77.2247  \n",
       "1                   Y       72.4548  \n",
       "2                   Y       87.9068  \n",
       "3                   N       73.8603  \n",
       "4                   Y       72.3342  "
      ]
     },
     "execution_count": 11,
     "metadata": {},
     "output_type": "execute_result"
    }
   ],
   "source": [
    "query = \"\"\"\n",
    "SELECT *\n",
    "    ,DATEDIFF(dod, dob) / 365 age_at_death\n",
    "FROM d_patients;\n",
    "\"\"\"\n",
    "\n",
    "df_patients = pd.read_sql(query, conn)\n",
    "df_patients.head()"
   ]
  },
  {
   "cell_type": "code",
   "execution_count": 12,
   "id": "bb32d383",
   "metadata": {},
   "outputs": [],
   "source": [
    "# query = \"\"\"\n",
    "# SELECT *\n",
    "#     ,____\n",
    "# \"\"\"\n",
    "\n",
    "# df_patients = pd.read_sql(query, conn)\n",
    "# df_patients.head()"
   ]
  },
  {
   "cell_type": "code",
   "execution_count": 13,
   "id": "c25d0fb3",
   "metadata": {},
   "outputs": [
    {
     "name": "stdout",
     "output_type": "stream",
     "text": [
      "That is correct!\n"
     ]
    }
   ],
   "source": [
    "# RUN CELL TO TEST VALUE\n",
    "test_age_at_death.test(df_patients)"
   ]
  },
  {
   "cell_type": "code",
   "execution_count": null,
   "id": "f60fd60d",
   "metadata": {},
   "outputs": [],
   "source": []
  },
  {
   "cell_type": "markdown",
   "id": "da03748f",
   "metadata": {},
   "source": [
    "## Aggregating data\n",
    "So far, everything we've done with SQL has been at the **row-level**. That is, we've written queries that have returned results with a single entity (patient, hospitalization, etc.) per row. Next we'll start looking at how to **aggregate** data in SQL.\n",
    "\n",
    "Some examples of aggregate data we coud compute in MIMIC include:\n",
    "- The number of admissions\n",
    "- The count of patients by sex\n",
    "- The min and max admission date for patients\n",
    "- The mean/min/max/standard deviation of length of stay\n",
    "\n",
    "In `module_2`, we learned how to do many of these calculatins in Python using `pandas`. Aggregating data in SQL is very similar. Each of the calculations described above can be computed using a **SQL function** like `COUNT()`, `MIN()`, or `MAX()`.\n",
    "\n",
    "### Counts\n",
    "One of the most basic aggegations is simply counting the number of rows in a table. We can get this by selecting `COUNT(*)`:"
   ]
  },
  {
   "cell_type": "code",
   "execution_count": 18,
   "id": "e0a60f08",
   "metadata": {},
   "outputs": [
    {
     "name": "stderr",
     "output_type": "stream",
     "text": [
      "/Users/alecchapman/opt/miniconda3/envs/phs/lib/python3.9/site-packages/pandas/io/sql.py:761: UserWarning: pandas only support SQLAlchemy connectable(engine/connection) ordatabase string URI or sqlite3 DBAPI2 connectionother DBAPI2 objects are not tested, please consider using SQLAlchemy\n",
      "  warnings.warn(\n"
     ]
    },
    {
     "data": {
      "text/html": [
       "<div>\n",
       "<style scoped>\n",
       "    .dataframe tbody tr th:only-of-type {\n",
       "        vertical-align: middle;\n",
       "    }\n",
       "\n",
       "    .dataframe tbody tr th {\n",
       "        vertical-align: top;\n",
       "    }\n",
       "\n",
       "    .dataframe thead th {\n",
       "        text-align: right;\n",
       "    }\n",
       "</style>\n",
       "<table border=\"1\" class=\"dataframe\">\n",
       "  <thead>\n",
       "    <tr style=\"text-align: right;\">\n",
       "      <th></th>\n",
       "      <th>n</th>\n",
       "    </tr>\n",
       "  </thead>\n",
       "  <tbody>\n",
       "    <tr>\n",
       "      <th>0</th>\n",
       "      <td>5074</td>\n",
       "    </tr>\n",
       "  </tbody>\n",
       "</table>\n",
       "</div>"
      ],
      "text/plain": [
       "      n\n",
       "0  5074"
      ]
     },
     "execution_count": 18,
     "metadata": {},
     "output_type": "execute_result"
    }
   ],
   "source": [
    "query = \"\"\"\n",
    "SELECT COUNT(1) AS n\n",
    "FROM admissions\n",
    "\"\"\"\n",
    "pd.read_sql(query, conn)"
   ]
  },
  {
   "cell_type": "markdown",
   "id": "36663908",
   "metadata": {},
   "source": [
    "#### TODO\n",
    "How would you represent the result above?"
   ]
  },
  {
   "cell_type": "code",
   "execution_count": 24,
   "id": "20c85512",
   "metadata": {},
   "outputs": [
    {
     "data": {
      "application/vnd.jupyter.widget-view+json": {
       "model_id": "5f5fc7badda644ffa085dabbef6a64c0",
       "version_major": 2,
       "version_minor": 0
      },
      "text/plain": [
       "VBox(children=(HTML(value=''), RadioButtons(options=('There are 5,074 ICU admissions in MIMIC', 'There are 5,0…"
      ]
     },
     "metadata": {},
     "output_type": "display_data"
    },
    {
     "data": {
      "text/plain": []
     },
     "execution_count": 24,
     "metadata": {},
     "output_type": "execute_result"
    }
   ],
   "source": [
    "# RUN CELL TO SEE QUIZ\n",
    "quiz_count_n"
   ]
  },
  {
   "cell_type": "markdown",
   "id": "01dc4343",
   "metadata": {},
   "source": [
    "Aggregate queries can have other clauses like `WHERE`, `JOIN`, etc., so you can filter and join the data you're counting.\n",
    "\n",
    "#### TODO\n",
    "How many rows in the table `demographic_detail` represent an admission from the emergency room?"
   ]
  },
  {
   "cell_type": "code",
   "execution_count": 29,
   "id": "8d220cc3",
   "metadata": {},
   "outputs": [
    {
     "data": {
      "application/vnd.jupyter.widget-view+json": {
       "model_id": "1cc48a75a35f4236beab225237fa7c62",
       "version_major": 2,
       "version_minor": 0
      },
      "text/plain": [
       "VBox(children=(HTML(value=''), RadioButtons(options=('4,000', '5,074', '3,193', '2,000'), value='4,000'), Butt…"
      ]
     },
     "metadata": {},
     "output_type": "display_data"
    },
    {
     "data": {
      "text/plain": []
     },
     "execution_count": 29,
     "metadata": {},
     "output_type": "execute_result"
    }
   ],
   "source": [
    "# RUN CELL TO SEE QUIZ\n",
    "quiz_count_ed_admit"
   ]
  },
  {
   "cell_type": "code",
   "execution_count": 30,
   "id": "7ef56f92",
   "metadata": {},
   "outputs": [
    {
     "name": "stderr",
     "output_type": "stream",
     "text": [
      "/Users/alecchapman/opt/miniconda3/envs/phs/lib/python3.9/site-packages/pandas/io/sql.py:761: UserWarning: pandas only support SQLAlchemy connectable(engine/connection) ordatabase string URI or sqlite3 DBAPI2 connectionother DBAPI2 objects are not tested, please consider using SQLAlchemy\n",
      "  warnings.warn(\n"
     ]
    },
    {
     "data": {
      "text/html": [
       "<div>\n",
       "<style scoped>\n",
       "    .dataframe tbody tr th:only-of-type {\n",
       "        vertical-align: middle;\n",
       "    }\n",
       "\n",
       "    .dataframe tbody tr th {\n",
       "        vertical-align: top;\n",
       "    }\n",
       "\n",
       "    .dataframe thead th {\n",
       "        text-align: right;\n",
       "    }\n",
       "</style>\n",
       "<table border=\"1\" class=\"dataframe\">\n",
       "  <thead>\n",
       "    <tr style=\"text-align: right;\">\n",
       "      <th></th>\n",
       "      <th>COUNT(1)</th>\n",
       "    </tr>\n",
       "  </thead>\n",
       "  <tbody>\n",
       "    <tr>\n",
       "      <th>0</th>\n",
       "      <td>5074</td>\n",
       "    </tr>\n",
       "  </tbody>\n",
       "</table>\n",
       "</div>"
      ],
      "text/plain": [
       "   COUNT(1)\n",
       "0      5074"
      ]
     },
     "execution_count": 30,
     "metadata": {},
     "output_type": "execute_result"
    }
   ],
   "source": [
    "query = \"\"\"\n",
    "SELECT COUNT(1)\n",
    "FROM demographic_detail \n",
    "\"\"\"\n",
    "pd.read_sql(query, conn)"
   ]
  },
  {
   "cell_type": "markdown",
   "id": "49d16807",
   "metadata": {},
   "source": [
    "### Mins, Maxes, and Means\n",
    "SQL has functions to calculate extreme values, means, and standard deviations. For example, the query below calculates the earliest/latest dates of birth and death:"
   ]
  },
  {
   "cell_type": "code",
   "execution_count": 31,
   "id": "1d707725",
   "metadata": {},
   "outputs": [
    {
     "name": "stderr",
     "output_type": "stream",
     "text": [
      "/Users/alecchapman/opt/miniconda3/envs/phs/lib/python3.9/site-packages/pandas/io/sql.py:761: UserWarning: pandas only support SQLAlchemy connectable(engine/connection) ordatabase string URI or sqlite3 DBAPI2 connectionother DBAPI2 objects are not tested, please consider using SQLAlchemy\n",
      "  warnings.warn(\n"
     ]
    },
    {
     "data": {
      "text/html": [
       "<div>\n",
       "<style scoped>\n",
       "    .dataframe tbody tr th:only-of-type {\n",
       "        vertical-align: middle;\n",
       "    }\n",
       "\n",
       "    .dataframe tbody tr th {\n",
       "        vertical-align: top;\n",
       "    }\n",
       "\n",
       "    .dataframe thead th {\n",
       "        text-align: right;\n",
       "    }\n",
       "</style>\n",
       "<table border=\"1\" class=\"dataframe\">\n",
       "  <thead>\n",
       "    <tr style=\"text-align: right;\">\n",
       "      <th></th>\n",
       "      <th>earliest_birth</th>\n",
       "      <th>latest_birth</th>\n",
       "      <th>earliest_death</th>\n",
       "      <th>latest_death</th>\n",
       "    </tr>\n",
       "  </thead>\n",
       "  <tbody>\n",
       "    <tr>\n",
       "      <th>0</th>\n",
       "      <td>2405-06-25 00:00:00</td>\n",
       "      <td>3498-02-04 00:00:00</td>\n",
       "      <td>2501-04-08 00:00:00</td>\n",
       "      <td>3586-01-08 00:00:00</td>\n",
       "    </tr>\n",
       "  </tbody>\n",
       "</table>\n",
       "</div>"
      ],
      "text/plain": [
       "        earliest_birth         latest_birth       earliest_death  \\\n",
       "0  2405-06-25 00:00:00  3498-02-04 00:00:00  2501-04-08 00:00:00   \n",
       "\n",
       "          latest_death  \n",
       "0  3586-01-08 00:00:00  "
      ]
     },
     "execution_count": 31,
     "metadata": {},
     "output_type": "execute_result"
    }
   ],
   "source": [
    "query = \"\"\"\n",
    "SELECT \n",
    "    MIN(dob) earliest_birth, MAX(dob) latest_birth, MIN(dod) earliest_death, MAX(dod) latest_death\n",
    "FROM d_patients p\n",
    "\"\"\"\n",
    "pd.read_sql(query, conn)"
   ]
  },
  {
   "cell_type": "markdown",
   "id": "e3e038fe",
   "metadata": {},
   "source": [
    "We can also pass in transformed values to functions. Earlier we'd seen how to calculate how old a patient was in days or years. Now we can calculate summary statistics like the mean and standard deviation using `AVG()` and `STD()`:"
   ]
  },
  {
   "cell_type": "code",
   "execution_count": 32,
   "id": "2fe2b251",
   "metadata": {},
   "outputs": [
    {
     "name": "stderr",
     "output_type": "stream",
     "text": [
      "/Users/alecchapman/opt/miniconda3/envs/phs/lib/python3.9/site-packages/pandas/io/sql.py:761: UserWarning: pandas only support SQLAlchemy connectable(engine/connection) ordatabase string URI or sqlite3 DBAPI2 connectionother DBAPI2 objects are not tested, please consider using SQLAlchemy\n",
      "  warnings.warn(\n"
     ]
    },
    {
     "data": {
      "text/html": [
       "<div>\n",
       "<style scoped>\n",
       "    .dataframe tbody tr th:only-of-type {\n",
       "        vertical-align: middle;\n",
       "    }\n",
       "\n",
       "    .dataframe tbody tr th {\n",
       "        vertical-align: top;\n",
       "    }\n",
       "\n",
       "    .dataframe thead th {\n",
       "        text-align: right;\n",
       "    }\n",
       "</style>\n",
       "<table border=\"1\" class=\"dataframe\">\n",
       "  <thead>\n",
       "    <tr style=\"text-align: right;\">\n",
       "      <th></th>\n",
       "      <th>avg_age_at_death_days</th>\n",
       "      <th>std_age_at_death_days</th>\n",
       "    </tr>\n",
       "  </thead>\n",
       "  <tbody>\n",
       "    <tr>\n",
       "      <th>0</th>\n",
       "      <td>26353.911</td>\n",
       "      <td>5940.857974</td>\n",
       "    </tr>\n",
       "  </tbody>\n",
       "</table>\n",
       "</div>"
      ],
      "text/plain": [
       "   avg_age_at_death_days  std_age_at_death_days\n",
       "0              26353.911            5940.857974"
      ]
     },
     "execution_count": 32,
     "metadata": {},
     "output_type": "execute_result"
    }
   ],
   "source": [
    "query = \"\"\"\n",
    "SELECT \n",
    "    AVG(DATEDIFF(dod, dob)) avg_age_at_death_days,\n",
    "    STD(DATEDIFF(dod, dob)) std_age_at_death_days\n",
    "FROM d_patients p\n",
    "\"\"\"\n",
    "pd.read_sql(query, conn)"
   ]
  },
  {
   "cell_type": "markdown",
   "id": "44e9160d",
   "metadata": {},
   "source": [
    "#### TODO\n",
    "Calculate the min, max, mean, and standard deviation age at death *in years*."
   ]
  },
  {
   "cell_type": "code",
   "execution_count": 39,
   "id": "487a2107",
   "metadata": {},
   "outputs": [
    {
     "data": {
      "application/vnd.jupyter.widget-view+json": {
       "model_id": "1a104e00695f4a8a8e782e3c0ea0295d",
       "version_major": 2,
       "version_minor": 0
      },
      "text/plain": [
       "VBox(children=(HTML(value=\"Enter the min, max, mean, and standard deviations of age at death in years. </br>Ro…"
      ]
     },
     "metadata": {},
     "output_type": "display_data"
    },
    {
     "data": {
      "text/plain": []
     },
     "execution_count": 39,
     "metadata": {},
     "output_type": "execute_result"
    }
   ],
   "source": [
    "quiz_summary_stats_age_years = FreeTextTest(\"Enter the min, max, mean, and standard deviations of age at death in years. </br>Round to the nearest whole number and enter each separated by a comma (e.g., '10,45,22,3')\",\n",
    "                                           answer=\"0,105,72,16\")\n",
    "quiz_summary_stats_age_years"
   ]
  },
  {
   "cell_type": "code",
   "execution_count": 36,
   "id": "ab4ad7e6",
   "metadata": {},
   "outputs": [
    {
     "name": "stderr",
     "output_type": "stream",
     "text": [
      "/Users/alecchapman/opt/miniconda3/envs/phs/lib/python3.9/site-packages/pandas/io/sql.py:761: UserWarning: pandas only support SQLAlchemy connectable(engine/connection) ordatabase string URI or sqlite3 DBAPI2 connectionother DBAPI2 objects are not tested, please consider using SQLAlchemy\n",
      "  warnings.warn(\n"
     ]
    },
    {
     "data": {
      "text/html": [
       "<div>\n",
       "<style scoped>\n",
       "    .dataframe tbody tr th:only-of-type {\n",
       "        vertical-align: middle;\n",
       "    }\n",
       "\n",
       "    .dataframe tbody tr th {\n",
       "        vertical-align: top;\n",
       "    }\n",
       "\n",
       "    .dataframe thead th {\n",
       "        text-align: right;\n",
       "    }\n",
       "</style>\n",
       "<table border=\"1\" class=\"dataframe\">\n",
       "  <thead>\n",
       "    <tr style=\"text-align: right;\">\n",
       "      <th></th>\n",
       "      <th>min_age_at_death</th>\n",
       "      <th>max_age_at_death</th>\n",
       "      <th>mean_age_at_death</th>\n",
       "      <th>sd_age_at_death</th>\n",
       "    </tr>\n",
       "  </thead>\n",
       "  <tbody>\n",
       "    <tr>\n",
       "      <th>0</th>\n",
       "      <td>0.0</td>\n",
       "      <td>105.4219</td>\n",
       "      <td>72.202496</td>\n",
       "      <td>16.276323</td>\n",
       "    </tr>\n",
       "  </tbody>\n",
       "</table>\n",
       "</div>"
      ],
      "text/plain": [
       "   min_age_at_death  max_age_at_death  mean_age_at_death  sd_age_at_death\n",
       "0               0.0          105.4219          72.202496        16.276323"
      ]
     },
     "execution_count": 36,
     "metadata": {},
     "output_type": "execute_result"
    }
   ],
   "source": [
    "query = \"\"\"\n",
    "SELECT \n",
    "    MIN(DATEDIFF(dod, dob)/365) min_age_at_death,\n",
    "    MAX(DATEDIFF(dod, dob)/365) max_age_at_death,\n",
    "    AVG(DATEDIFF(dod, dob)/365) mean_age_at_death,\n",
    "    STD(DATEDIFF(dod, dob)/365) sd_age_at_death\n",
    "FROM d_patients p\n",
    "\"\"\"\n",
    "pd.read_sql(query, conn)"
   ]
  },
  {
   "cell_type": "code",
   "execution_count": null,
   "id": "91e694a5",
   "metadata": {},
   "outputs": [],
   "source": []
  },
  {
   "cell_type": "markdown",
   "id": "2cd5891e",
   "metadata": {},
   "source": [
    "### GROUP BY\n",
    "The queries above gave us single aggregate stats over an entire set of patients. But we might want to break our statistics up into groups. We'll use the `GROUP BY` clause for that. \n",
    "\n",
    "The `GROUP BY` clause tells us which column to use for breaking our patients up into groups. This works just like `df.groupby` in pandas. \n",
    "\n",
    "The query below counts the number of patients by `sex`:"
   ]
  },
  {
   "cell_type": "code",
   "execution_count": 40,
   "id": "47b1f461",
   "metadata": {},
   "outputs": [
    {
     "name": "stderr",
     "output_type": "stream",
     "text": [
      "/Users/alecchapman/opt/miniconda3/envs/phs/lib/python3.9/site-packages/pandas/io/sql.py:761: UserWarning: pandas only support SQLAlchemy connectable(engine/connection) ordatabase string URI or sqlite3 DBAPI2 connectionother DBAPI2 objects are not tested, please consider using SQLAlchemy\n",
      "  warnings.warn(\n"
     ]
    },
    {
     "data": {
      "text/html": [
       "<div>\n",
       "<style scoped>\n",
       "    .dataframe tbody tr th:only-of-type {\n",
       "        vertical-align: middle;\n",
       "    }\n",
       "\n",
       "    .dataframe tbody tr th {\n",
       "        vertical-align: top;\n",
       "    }\n",
       "\n",
       "    .dataframe thead th {\n",
       "        text-align: right;\n",
       "    }\n",
       "</style>\n",
       "<table border=\"1\" class=\"dataframe\">\n",
       "  <thead>\n",
       "    <tr style=\"text-align: right;\">\n",
       "      <th></th>\n",
       "      <th>sex</th>\n",
       "      <th>n</th>\n",
       "    </tr>\n",
       "  </thead>\n",
       "  <tbody>\n",
       "    <tr>\n",
       "      <th>0</th>\n",
       "      <td>None</td>\n",
       "      <td>13</td>\n",
       "    </tr>\n",
       "    <tr>\n",
       "      <th>1</th>\n",
       "      <td>F</td>\n",
       "      <td>1856</td>\n",
       "    </tr>\n",
       "    <tr>\n",
       "      <th>2</th>\n",
       "      <td>M</td>\n",
       "      <td>2131</td>\n",
       "    </tr>\n",
       "  </tbody>\n",
       "</table>\n",
       "</div>"
      ],
      "text/plain": [
       "    sex     n\n",
       "0  None    13\n",
       "1     F  1856\n",
       "2     M  2131"
      ]
     },
     "execution_count": 40,
     "metadata": {},
     "output_type": "execute_result"
    }
   ],
   "source": [
    "query = \"\"\"\n",
    "SELECT sex, COUNT(1) n\n",
    "FROM d_patients \n",
    "GROUP BY sex\n",
    "\"\"\"\n",
    "pd.read_sql(query, conn)"
   ]
  },
  {
   "cell_type": "markdown",
   "id": "8b211cb8",
   "metadata": {},
   "source": [
    "#### TODO\n",
    "Count the number of hospital admissions grouped by `admission_source_descr`."
   ]
  },
  {
   "cell_type": "code",
   "execution_count": 44,
   "id": "040ba15a",
   "metadata": {},
   "outputs": [
    {
     "data": {
      "application/vnd.jupyter.widget-view+json": {
       "model_id": "98ed3e0f7b2440e3aa175583dca7e851",
       "version_major": 2,
       "version_minor": 0
      },
      "text/plain": [
       "VBox(children=(HTML(value='How many admissions had a source from the emergency room/transfer from a hospital, …"
      ]
     },
     "metadata": {},
     "output_type": "display_data"
    },
    {
     "data": {
      "text/plain": []
     },
     "execution_count": 44,
     "metadata": {},
     "output_type": "execute_result"
    }
   ],
   "source": [
    "# RUN CELL TO SEE QUIZ\n",
    "quiz_count_admission_source"
   ]
  },
  {
   "cell_type": "code",
   "execution_count": 43,
   "id": "718005c1",
   "metadata": {},
   "outputs": [
    {
     "name": "stderr",
     "output_type": "stream",
     "text": [
      "/Users/alecchapman/opt/miniconda3/envs/phs/lib/python3.9/site-packages/pandas/io/sql.py:761: UserWarning: pandas only support SQLAlchemy connectable(engine/connection) ordatabase string URI or sqlite3 DBAPI2 connectionother DBAPI2 objects are not tested, please consider using SQLAlchemy\n",
      "  warnings.warn(\n"
     ]
    },
    {
     "data": {
      "text/html": [
       "<div>\n",
       "<style scoped>\n",
       "    .dataframe tbody tr th:only-of-type {\n",
       "        vertical-align: middle;\n",
       "    }\n",
       "\n",
       "    .dataframe tbody tr th {\n",
       "        vertical-align: top;\n",
       "    }\n",
       "\n",
       "    .dataframe thead th {\n",
       "        text-align: right;\n",
       "    }\n",
       "</style>\n",
       "<table border=\"1\" class=\"dataframe\">\n",
       "  <thead>\n",
       "    <tr style=\"text-align: right;\">\n",
       "      <th></th>\n",
       "      <th>admission_source_descr</th>\n",
       "      <th>COUNT(1)</th>\n",
       "    </tr>\n",
       "  </thead>\n",
       "  <tbody>\n",
       "    <tr>\n",
       "      <th>0</th>\n",
       "      <td>** INFO NOT AVAILABLE **</td>\n",
       "      <td>4</td>\n",
       "    </tr>\n",
       "    <tr>\n",
       "      <th>1</th>\n",
       "      <td>CLINIC REFERRAL/PREMATURE</td>\n",
       "      <td>211</td>\n",
       "    </tr>\n",
       "    <tr>\n",
       "      <th>2</th>\n",
       "      <td>EMERGENCY ROOM ADMIT</td>\n",
       "      <td>3193</td>\n",
       "    </tr>\n",
       "    <tr>\n",
       "      <th>3</th>\n",
       "      <td>HMO REFERRAL/SICK</td>\n",
       "      <td>1</td>\n",
       "    </tr>\n",
       "    <tr>\n",
       "      <th>4</th>\n",
       "      <td>PHYS REFERRAL/NORMAL DELI</td>\n",
       "      <td>616</td>\n",
       "    </tr>\n",
       "    <tr>\n",
       "      <th>5</th>\n",
       "      <td>TRANSFER FROM HOSP/EXTRAM</td>\n",
       "      <td>957</td>\n",
       "    </tr>\n",
       "    <tr>\n",
       "      <th>6</th>\n",
       "      <td>TRANSFER FROM OTHER HEALT</td>\n",
       "      <td>13</td>\n",
       "    </tr>\n",
       "    <tr>\n",
       "      <th>7</th>\n",
       "      <td>TRANSFER FROM SKILLED NUR</td>\n",
       "      <td>79</td>\n",
       "    </tr>\n",
       "  </tbody>\n",
       "</table>\n",
       "</div>"
      ],
      "text/plain": [
       "      admission_source_descr  COUNT(1)\n",
       "0   ** INFO NOT AVAILABLE **         4\n",
       "1  CLINIC REFERRAL/PREMATURE       211\n",
       "2       EMERGENCY ROOM ADMIT      3193\n",
       "3          HMO REFERRAL/SICK         1\n",
       "4  PHYS REFERRAL/NORMAL DELI       616\n",
       "5  TRANSFER FROM HOSP/EXTRAM       957\n",
       "6  TRANSFER FROM OTHER HEALT        13\n",
       "7  TRANSFER FROM SKILLED NUR        79"
      ]
     },
     "execution_count": 43,
     "metadata": {},
     "output_type": "execute_result"
    }
   ],
   "source": [
    "query = \"\"\"\n",
    "SELECT admission_source_descr, COUNT(1)\n",
    "FROM demographic_detail \n",
    "GROUP BY admission_source_descr\n",
    "\"\"\"\n",
    "pd.read_sql(query, conn)"
   ]
  },
  {
   "cell_type": "code",
   "execution_count": null,
   "id": "874fc5b6",
   "metadata": {},
   "outputs": [],
   "source": []
  },
  {
   "cell_type": "markdown",
   "id": "581d1d84",
   "metadata": {},
   "source": [
    "We can also group by multiple columns at once. This query calculates the number of patients in `demographic_detail` grouped by both sex and race and sorts in descending order of count."
   ]
  },
  {
   "cell_type": "code",
   "execution_count": 51,
   "id": "a3aa582d",
   "metadata": {},
   "outputs": [
    {
     "name": "stderr",
     "output_type": "stream",
     "text": [
      "/Users/alecchapman/opt/miniconda3/envs/phs/lib/python3.9/site-packages/pandas/io/sql.py:761: UserWarning: pandas only support SQLAlchemy connectable(engine/connection) ordatabase string URI or sqlite3 DBAPI2 connectionother DBAPI2 objects are not tested, please consider using SQLAlchemy\n",
      "  warnings.warn(\n"
     ]
    },
    {
     "data": {
      "text/html": [
       "<div>\n",
       "<style scoped>\n",
       "    .dataframe tbody tr th:only-of-type {\n",
       "        vertical-align: middle;\n",
       "    }\n",
       "\n",
       "    .dataframe tbody tr th {\n",
       "        vertical-align: top;\n",
       "    }\n",
       "\n",
       "    .dataframe thead th {\n",
       "        text-align: right;\n",
       "    }\n",
       "</style>\n",
       "<table border=\"1\" class=\"dataframe\">\n",
       "  <thead>\n",
       "    <tr style=\"text-align: right;\">\n",
       "      <th></th>\n",
       "      <th>subject_id</th>\n",
       "      <th>sex</th>\n",
       "      <th>dob</th>\n",
       "      <th>dod</th>\n",
       "      <th>hospital_expire_flg</th>\n",
       "    </tr>\n",
       "  </thead>\n",
       "  <tbody>\n",
       "    <tr>\n",
       "      <th>0</th>\n",
       "      <td>3</td>\n",
       "      <td>M</td>\n",
       "      <td>2606-02-28 00:00:00</td>\n",
       "      <td>2683-05-02 00:00:00</td>\n",
       "      <td>N</td>\n",
       "    </tr>\n",
       "    <tr>\n",
       "      <th>1</th>\n",
       "      <td>12</td>\n",
       "      <td>M</td>\n",
       "      <td>2803-05-14 00:00:00</td>\n",
       "      <td>2875-10-09 00:00:00</td>\n",
       "      <td>Y</td>\n",
       "    </tr>\n",
       "    <tr>\n",
       "      <th>2</th>\n",
       "      <td>21</td>\n",
       "      <td>M</td>\n",
       "      <td>3051-05-22 00:00:00</td>\n",
       "      <td>3139-03-28 00:00:00</td>\n",
       "      <td>Y</td>\n",
       "    </tr>\n",
       "    <tr>\n",
       "      <th>3</th>\n",
       "      <td>26</td>\n",
       "      <td>M</td>\n",
       "      <td>3007-03-02 00:00:00</td>\n",
       "      <td>3080-12-22 00:00:00</td>\n",
       "      <td>N</td>\n",
       "    </tr>\n",
       "    <tr>\n",
       "      <th>4</th>\n",
       "      <td>31</td>\n",
       "      <td>M</td>\n",
       "      <td>2606-05-17 00:00:00</td>\n",
       "      <td>2678-08-29 00:00:00</td>\n",
       "      <td>Y</td>\n",
       "    </tr>\n",
       "    <tr>\n",
       "      <th>5</th>\n",
       "      <td>37</td>\n",
       "      <td>M</td>\n",
       "      <td>3195-09-11 00:00:00</td>\n",
       "      <td>3265-12-31 00:00:00</td>\n",
       "      <td>N</td>\n",
       "    </tr>\n",
       "    <tr>\n",
       "      <th>6</th>\n",
       "      <td>56</td>\n",
       "      <td>F</td>\n",
       "      <td>2553-05-26 00:00:00</td>\n",
       "      <td>2644-01-23 00:00:00</td>\n",
       "      <td>Y</td>\n",
       "    </tr>\n",
       "    <tr>\n",
       "      <th>7</th>\n",
       "      <td>61</td>\n",
       "      <td>M</td>\n",
       "      <td>3297-10-27 00:00:00</td>\n",
       "      <td>3353-02-09 00:00:00</td>\n",
       "      <td>Y</td>\n",
       "    </tr>\n",
       "    <tr>\n",
       "      <th>8</th>\n",
       "      <td>67</td>\n",
       "      <td>M</td>\n",
       "      <td>2903-06-04 00:00:00</td>\n",
       "      <td>2976-11-29 00:00:00</td>\n",
       "      <td>Y</td>\n",
       "    </tr>\n",
       "    <tr>\n",
       "      <th>9</th>\n",
       "      <td>78</td>\n",
       "      <td>M</td>\n",
       "      <td>2729-08-08 00:00:00</td>\n",
       "      <td>2781-03-11 00:00:00</td>\n",
       "      <td>N</td>\n",
       "    </tr>\n",
       "  </tbody>\n",
       "</table>\n",
       "</div>"
      ],
      "text/plain": [
       "   subject_id sex                  dob                  dod  \\\n",
       "0           3   M  2606-02-28 00:00:00  2683-05-02 00:00:00   \n",
       "1          12   M  2803-05-14 00:00:00  2875-10-09 00:00:00   \n",
       "2          21   M  3051-05-22 00:00:00  3139-03-28 00:00:00   \n",
       "3          26   M  3007-03-02 00:00:00  3080-12-22 00:00:00   \n",
       "4          31   M  2606-05-17 00:00:00  2678-08-29 00:00:00   \n",
       "5          37   M  3195-09-11 00:00:00  3265-12-31 00:00:00   \n",
       "6          56   F  2553-05-26 00:00:00  2644-01-23 00:00:00   \n",
       "7          61   M  3297-10-27 00:00:00  3353-02-09 00:00:00   \n",
       "8          67   M  2903-06-04 00:00:00  2976-11-29 00:00:00   \n",
       "9          78   M  2729-08-08 00:00:00  2781-03-11 00:00:00   \n",
       "\n",
       "  hospital_expire_flg  \n",
       "0                   N  \n",
       "1                   Y  \n",
       "2                   Y  \n",
       "3                   N  \n",
       "4                   Y  \n",
       "5                   N  \n",
       "6                   Y  \n",
       "7                   Y  \n",
       "8                   Y  \n",
       "9                   N  "
      ]
     },
     "execution_count": 51,
     "metadata": {},
     "output_type": "execute_result"
    }
   ],
   "source": [
    "pd.read_sql(\"select * from d_patients limit 10\", conn)"
   ]
  },
  {
   "cell_type": "code",
   "execution_count": 57,
   "id": "44148621",
   "metadata": {},
   "outputs": [
    {
     "name": "stderr",
     "output_type": "stream",
     "text": [
      "/Users/alecchapman/opt/miniconda3/envs/phs/lib/python3.9/site-packages/pandas/io/sql.py:761: UserWarning: pandas only support SQLAlchemy connectable(engine/connection) ordatabase string URI or sqlite3 DBAPI2 connectionother DBAPI2 objects are not tested, please consider using SQLAlchemy\n",
      "  warnings.warn(\n"
     ]
    },
    {
     "data": {
      "text/html": [
       "<div>\n",
       "<style scoped>\n",
       "    .dataframe tbody tr th:only-of-type {\n",
       "        vertical-align: middle;\n",
       "    }\n",
       "\n",
       "    .dataframe tbody tr th {\n",
       "        vertical-align: top;\n",
       "    }\n",
       "\n",
       "    .dataframe thead th {\n",
       "        text-align: right;\n",
       "    }\n",
       "</style>\n",
       "<table border=\"1\" class=\"dataframe\">\n",
       "  <thead>\n",
       "    <tr style=\"text-align: right;\">\n",
       "      <th></th>\n",
       "      <th>ethnicity_descr</th>\n",
       "      <th>sex</th>\n",
       "      <th>n</th>\n",
       "    </tr>\n",
       "  </thead>\n",
       "  <tbody>\n",
       "    <tr>\n",
       "      <th>0</th>\n",
       "      <td>WHITE</td>\n",
       "      <td>M</td>\n",
       "      <td>1898</td>\n",
       "    </tr>\n",
       "    <tr>\n",
       "      <th>1</th>\n",
       "      <td>WHITE</td>\n",
       "      <td>F</td>\n",
       "      <td>1634</td>\n",
       "    </tr>\n",
       "    <tr>\n",
       "      <th>2</th>\n",
       "      <td>UNKNOWN/NOT SPECIFIED</td>\n",
       "      <td>M</td>\n",
       "      <td>399</td>\n",
       "    </tr>\n",
       "    <tr>\n",
       "      <th>3</th>\n",
       "      <td>UNKNOWN/NOT SPECIFIED</td>\n",
       "      <td>F</td>\n",
       "      <td>330</td>\n",
       "    </tr>\n",
       "    <tr>\n",
       "      <th>4</th>\n",
       "      <td>BLACK/AFRICAN AMERICAN</td>\n",
       "      <td>F</td>\n",
       "      <td>268</td>\n",
       "    </tr>\n",
       "    <tr>\n",
       "      <th>5</th>\n",
       "      <td>BLACK/AFRICAN AMERICAN</td>\n",
       "      <td>M</td>\n",
       "      <td>206</td>\n",
       "    </tr>\n",
       "    <tr>\n",
       "      <th>6</th>\n",
       "      <td>ASIAN</td>\n",
       "      <td>M</td>\n",
       "      <td>54</td>\n",
       "    </tr>\n",
       "    <tr>\n",
       "      <th>7</th>\n",
       "      <td>OTHER</td>\n",
       "      <td>M</td>\n",
       "      <td>49</td>\n",
       "    </tr>\n",
       "    <tr>\n",
       "      <th>8</th>\n",
       "      <td>HISPANIC OR LATINO</td>\n",
       "      <td>M</td>\n",
       "      <td>41</td>\n",
       "    </tr>\n",
       "    <tr>\n",
       "      <th>9</th>\n",
       "      <td>PATIENT DECLINED TO ANSWER</td>\n",
       "      <td>M</td>\n",
       "      <td>38</td>\n",
       "    </tr>\n",
       "    <tr>\n",
       "      <th>10</th>\n",
       "      <td>ASIAN</td>\n",
       "      <td>F</td>\n",
       "      <td>32</td>\n",
       "    </tr>\n",
       "    <tr>\n",
       "      <th>11</th>\n",
       "      <td>HISPANIC OR LATINO</td>\n",
       "      <td>F</td>\n",
       "      <td>30</td>\n",
       "    </tr>\n",
       "    <tr>\n",
       "      <th>12</th>\n",
       "      <td>OTHER</td>\n",
       "      <td>F</td>\n",
       "      <td>29</td>\n",
       "    </tr>\n",
       "    <tr>\n",
       "      <th>13</th>\n",
       "      <td>PATIENT DECLINED TO ANSWER</td>\n",
       "      <td>F</td>\n",
       "      <td>14</td>\n",
       "    </tr>\n",
       "    <tr>\n",
       "      <th>14</th>\n",
       "      <td>WHITE</td>\n",
       "      <td>None</td>\n",
       "      <td>12</td>\n",
       "    </tr>\n",
       "    <tr>\n",
       "      <th>15</th>\n",
       "      <td>UNABLE TO OBTAIN</td>\n",
       "      <td>F</td>\n",
       "      <td>9</td>\n",
       "    </tr>\n",
       "    <tr>\n",
       "      <th>16</th>\n",
       "      <td>UNABLE TO OBTAIN</td>\n",
       "      <td>M</td>\n",
       "      <td>9</td>\n",
       "    </tr>\n",
       "    <tr>\n",
       "      <th>17</th>\n",
       "      <td>ASIAN - CHINESE</td>\n",
       "      <td>M</td>\n",
       "      <td>5</td>\n",
       "    </tr>\n",
       "    <tr>\n",
       "      <th>18</th>\n",
       "      <td>NATIVE HAWAIIAN OR OTHER PACIFIC ISLAND</td>\n",
       "      <td>F</td>\n",
       "      <td>2</td>\n",
       "    </tr>\n",
       "    <tr>\n",
       "      <th>19</th>\n",
       "      <td>BLACK/HAITIAN</td>\n",
       "      <td>F</td>\n",
       "      <td>2</td>\n",
       "    </tr>\n",
       "    <tr>\n",
       "      <th>20</th>\n",
       "      <td>AMERICAN INDIAN/ALASKA NATIVE</td>\n",
       "      <td>F</td>\n",
       "      <td>2</td>\n",
       "    </tr>\n",
       "    <tr>\n",
       "      <th>21</th>\n",
       "      <td>HISPANIC/LATINO - PUERTO RICAN</td>\n",
       "      <td>F</td>\n",
       "      <td>2</td>\n",
       "    </tr>\n",
       "    <tr>\n",
       "      <th>22</th>\n",
       "      <td>ASIAN - VIETNAMESE</td>\n",
       "      <td>M</td>\n",
       "      <td>1</td>\n",
       "    </tr>\n",
       "    <tr>\n",
       "      <th>23</th>\n",
       "      <td>BLACK/CAPE VERDEAN</td>\n",
       "      <td>F</td>\n",
       "      <td>1</td>\n",
       "    </tr>\n",
       "    <tr>\n",
       "      <th>24</th>\n",
       "      <td>BLACK/CAPE VERDEAN</td>\n",
       "      <td>M</td>\n",
       "      <td>1</td>\n",
       "    </tr>\n",
       "    <tr>\n",
       "      <th>25</th>\n",
       "      <td>MULTI RACE ETHNICITY</td>\n",
       "      <td>F</td>\n",
       "      <td>1</td>\n",
       "    </tr>\n",
       "    <tr>\n",
       "      <th>26</th>\n",
       "      <td>UNKNOWN/NOT SPECIFIED</td>\n",
       "      <td>None</td>\n",
       "      <td>1</td>\n",
       "    </tr>\n",
       "    <tr>\n",
       "      <th>27</th>\n",
       "      <td>AMERICAN INDIAN/ALASKA NATIVE</td>\n",
       "      <td>M</td>\n",
       "      <td>1</td>\n",
       "    </tr>\n",
       "    <tr>\n",
       "      <th>28</th>\n",
       "      <td>WHITE - RUSSIAN</td>\n",
       "      <td>F</td>\n",
       "      <td>1</td>\n",
       "    </tr>\n",
       "    <tr>\n",
       "      <th>29</th>\n",
       "      <td>MULTI RACE ETHNICITY</td>\n",
       "      <td>M</td>\n",
       "      <td>1</td>\n",
       "    </tr>\n",
       "    <tr>\n",
       "      <th>30</th>\n",
       "      <td>HISPANIC/LATINO - PUERTO RICAN</td>\n",
       "      <td>M</td>\n",
       "      <td>1</td>\n",
       "    </tr>\n",
       "  </tbody>\n",
       "</table>\n",
       "</div>"
      ],
      "text/plain": [
       "                            ethnicity_descr   sex     n\n",
       "0                                     WHITE     M  1898\n",
       "1                                     WHITE     F  1634\n",
       "2                     UNKNOWN/NOT SPECIFIED     M   399\n",
       "3                     UNKNOWN/NOT SPECIFIED     F   330\n",
       "4                    BLACK/AFRICAN AMERICAN     F   268\n",
       "5                    BLACK/AFRICAN AMERICAN     M   206\n",
       "6                                     ASIAN     M    54\n",
       "7                                     OTHER     M    49\n",
       "8                        HISPANIC OR LATINO     M    41\n",
       "9                PATIENT DECLINED TO ANSWER     M    38\n",
       "10                                    ASIAN     F    32\n",
       "11                       HISPANIC OR LATINO     F    30\n",
       "12                                    OTHER     F    29\n",
       "13               PATIENT DECLINED TO ANSWER     F    14\n",
       "14                                    WHITE  None    12\n",
       "15                         UNABLE TO OBTAIN     F     9\n",
       "16                         UNABLE TO OBTAIN     M     9\n",
       "17                          ASIAN - CHINESE     M     5\n",
       "18  NATIVE HAWAIIAN OR OTHER PACIFIC ISLAND     F     2\n",
       "19                            BLACK/HAITIAN     F     2\n",
       "20            AMERICAN INDIAN/ALASKA NATIVE     F     2\n",
       "21           HISPANIC/LATINO - PUERTO RICAN     F     2\n",
       "22                       ASIAN - VIETNAMESE     M     1\n",
       "23                       BLACK/CAPE VERDEAN     F     1\n",
       "24                       BLACK/CAPE VERDEAN     M     1\n",
       "25                     MULTI RACE ETHNICITY     F     1\n",
       "26                    UNKNOWN/NOT SPECIFIED  None     1\n",
       "27            AMERICAN INDIAN/ALASKA NATIVE     M     1\n",
       "28                          WHITE - RUSSIAN     F     1\n",
       "29                     MULTI RACE ETHNICITY     M     1\n",
       "30           HISPANIC/LATINO - PUERTO RICAN     M     1"
      ]
     },
     "execution_count": 57,
     "metadata": {},
     "output_type": "execute_result"
    }
   ],
   "source": [
    "query = \"\"\"\n",
    "SELECT \n",
    "    d.ethnicity_descr, \n",
    "    p.sex,\n",
    "    COUNT(*) n\n",
    "FROM d_patients p\n",
    "    INNER JOIN demographic_detail d\n",
    "        ON p.subject_id = d.subject_id\n",
    "GROUP BY d.ethnicity_descr, p.sex\n",
    "ORDER BY COUNT(*) desc\n",
    "\"\"\"\n",
    "pd.read_sql(query, conn)"
   ]
  },
  {
   "cell_type": "code",
   "execution_count": null,
   "id": "e4433845",
   "metadata": {},
   "outputs": [],
   "source": []
  },
  {
   "cell_type": "markdown",
   "id": "689f8feb",
   "metadata": {},
   "source": [
    "#### TODO\n",
    "Write a query to count how many patients died in the hospital grouped by `sex`. Then answer the quiz below."
   ]
  },
  {
   "cell_type": "code",
   "execution_count": 63,
   "id": "7b4c5a84",
   "metadata": {},
   "outputs": [
    {
     "data": {
      "application/vnd.jupyter.widget-view+json": {
       "model_id": "93af02973ac64ab391a434bcfe993511",
       "version_major": 2,
       "version_minor": 0
      },
      "text/plain": [
       "VBox(children=(HTML(value='</br><strong>Displaying hint 0/1</strong>'), Output(), Button(description='Get hint…"
      ]
     },
     "metadata": {},
     "output_type": "display_data"
    },
    {
     "data": {
      "text/plain": []
     },
     "execution_count": 63,
     "metadata": {},
     "output_type": "execute_result"
    }
   ],
   "source": [
    "# RUN CELL TO SEE HINT\n",
    "hint_count_hospital_expire_by_sex"
   ]
  },
  {
   "cell_type": "code",
   "execution_count": 73,
   "id": "a0cb6802",
   "metadata": {},
   "outputs": [
    {
     "data": {
      "application/vnd.jupyter.widget-view+json": {
       "model_id": "8f827381101a47e3be403a0c99eb0d3c",
       "version_major": 2,
       "version_minor": 0
      },
      "text/plain": [
       "VBox(children=(HTML(value='How many female/male patients, respectively, died in the hospital?'), RadioButtons(…"
      ]
     },
     "metadata": {},
     "output_type": "display_data"
    },
    {
     "data": {
      "text/plain": []
     },
     "execution_count": 73,
     "metadata": {},
     "output_type": "execute_result"
    }
   ],
   "source": [
    "# RUN CELL TO SEE QUIZ\n",
    "quiz_count_hospital_expire_by_sex"
   ]
  },
  {
   "cell_type": "code",
   "execution_count": 71,
   "id": "63e07ed4",
   "metadata": {},
   "outputs": [
    {
     "name": "stderr",
     "output_type": "stream",
     "text": [
      "/Users/alecchapman/opt/miniconda3/envs/phs/lib/python3.9/site-packages/pandas/io/sql.py:761: UserWarning: pandas only support SQLAlchemy connectable(engine/connection) ordatabase string URI or sqlite3 DBAPI2 connectionother DBAPI2 objects are not tested, please consider using SQLAlchemy\n",
      "  warnings.warn(\n"
     ]
    },
    {
     "data": {
      "text/html": [
       "<div>\n",
       "<style scoped>\n",
       "    .dataframe tbody tr th:only-of-type {\n",
       "        vertical-align: middle;\n",
       "    }\n",
       "\n",
       "    .dataframe tbody tr th {\n",
       "        vertical-align: top;\n",
       "    }\n",
       "\n",
       "    .dataframe thead th {\n",
       "        text-align: right;\n",
       "    }\n",
       "</style>\n",
       "<table border=\"1\" class=\"dataframe\">\n",
       "  <thead>\n",
       "    <tr style=\"text-align: right;\">\n",
       "      <th></th>\n",
       "      <th>sex</th>\n",
       "      <th>hospital_expire_flg</th>\n",
       "      <th>n</th>\n",
       "    </tr>\n",
       "  </thead>\n",
       "  <tbody>\n",
       "    <tr>\n",
       "      <th>0</th>\n",
       "      <td>F</td>\n",
       "      <td>Y</td>\n",
       "      <td>809</td>\n",
       "    </tr>\n",
       "    <tr>\n",
       "      <th>1</th>\n",
       "      <td>M</td>\n",
       "      <td>Y</td>\n",
       "      <td>841</td>\n",
       "    </tr>\n",
       "  </tbody>\n",
       "</table>\n",
       "</div>"
      ],
      "text/plain": [
       "  sex hospital_expire_flg    n\n",
       "0   F                   Y  809\n",
       "1   M                   Y  841"
      ]
     },
     "execution_count": 71,
     "metadata": {},
     "output_type": "execute_result"
    }
   ],
   "source": [
    "query = \"\"\"\n",
    "SELECT sex, hospital_expire_flg, COUNT(1) n\n",
    "FROM d_patients\n",
    "WHERE hospital_expire_flg = 'Y'\n",
    "    and SEX != 'None'\n",
    "GROUP BY sex, hospital_expire_flg\n",
    "\"\"\"\n",
    "pd.read_sql(query, conn)"
   ]
  },
  {
   "cell_type": "code",
   "execution_count": null,
   "id": "d559be12",
   "metadata": {},
   "outputs": [],
   "source": []
  }
 ],
 "metadata": {
  "kernelspec": {
   "display_name": "Python 3 (ipykernel)",
   "language": "python",
   "name": "python3"
  },
  "language_info": {
   "codemirror_mode": {
    "name": "ipython",
    "version": 3
   },
   "file_extension": ".py",
   "mimetype": "text/x-python",
   "name": "python",
   "nbconvert_exporter": "python",
   "pygments_lexer": "ipython3",
   "version": "3.9.12"
  }
 },
 "nbformat": 4,
 "nbformat_minor": 5
}
