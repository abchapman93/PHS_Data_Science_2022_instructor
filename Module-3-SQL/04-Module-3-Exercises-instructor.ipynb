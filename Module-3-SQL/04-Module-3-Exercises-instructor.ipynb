{
 "cells": [
  {
   "cell_type": "markdown",
   "id": "4b9b565b",
   "metadata": {},
   "source": [
    "<html>\n",
    "<table width=\"100%\" cellspacing=\"2\" cellpadding=\"2\" border=\"1\">\n",
    "<tbody>\n",
    "<tr>\n",
    "<td valign=\"center\" align=\"center\" width=\"45%\"><img src=\"../media/Univ-Utah.jpeg\"><br>\n",
    "</td>\n",
    "    <td valign=\"center\" align=\"center\" width=\"75%\">\n",
    "<h1 align=\"center\"><font size=\"+1\">University of Utah<br>Population Health Sciences<br>Data Science Workshop</font></h1></td>\n",
    "<td valign=\"center\" align=\"center\" width=\"45%\"><img\n",
    "src=\"../media/U_Health_stacked_png_red.png\" alt=\"Utah Health\n",
    "Logo\" width=\"128\" height=\"134\"><br>\n",
    "</td>\n",
    "</tr>\n",
    "</tbody>\n",
    "</table>\n",
    "<br>\n",
    "</html>\n"
   ]
  },
  {
   "cell_type": "markdown",
   "id": "4ca4a0e1",
   "metadata": {},
   "source": [
    "# Module 3 Exercises\n",
    "These exercises will ask you to query and analyze data from MIMIC."
   ]
  },
  {
   "cell_type": "code",
   "execution_count": 1,
   "id": "82c12b37",
   "metadata": {},
   "outputs": [],
   "source": [
    "from helpers import *"
   ]
  },
  {
   "cell_type": "code",
   "execution_count": 2,
   "id": "fdfd907d",
   "metadata": {},
   "outputs": [],
   "source": [
    "import pandas as pd\n",
    "import os\n",
    "import numpy as np\n",
    "\n",
    "import matplotlib.pyplot as plt\n",
    "import seaborn as sns\n",
    "\n",
    "%matplotlib inline\n",
    "\n",
    "sns.set()"
   ]
  },
  {
   "cell_type": "code",
   "execution_count": 49,
   "id": "c07047f3",
   "metadata": {},
   "outputs": [
    {
     "name": "stdout",
     "output_type": "stream",
     "text": [
      "Enter password for MIMIC2 database········\n"
     ]
    }
   ],
   "source": [
    "conn = connect_to_mimic()"
   ]
  },
  {
   "cell_type": "code",
   "execution_count": null,
   "id": "c63ad900",
   "metadata": {},
   "outputs": [],
   "source": []
  },
  {
   "cell_type": "markdown",
   "id": "fd7ee368",
   "metadata": {},
   "source": [
    "## 1. Race/ethnicity\n",
    "### 1.1\n",
    "Write a query to count how many patients are in each racial/ethnic group. Sort your query results in **ascending alphabetical order** and assign to `ethnicity`. Then create a visualization to display the counts which arranges the plot in **descending order by count**. "
   ]
  },
  {
   "cell_type": "code",
   "execution_count": 51,
   "id": "6be2597b",
   "metadata": {
    "scrolled": true
   },
   "outputs": [
    {
     "data": {
      "text/html": [
       "<div>\n",
       "<style scoped>\n",
       "    .dataframe tbody tr th:only-of-type {\n",
       "        vertical-align: middle;\n",
       "    }\n",
       "\n",
       "    .dataframe tbody tr th {\n",
       "        vertical-align: top;\n",
       "    }\n",
       "\n",
       "    .dataframe thead th {\n",
       "        text-align: right;\n",
       "    }\n",
       "</style>\n",
       "<table border=\"1\" class=\"dataframe\">\n",
       "  <thead>\n",
       "    <tr style=\"text-align: right;\">\n",
       "      <th></th>\n",
       "      <th>ethnicity_descr</th>\n",
       "      <th>num_patients</th>\n",
       "    </tr>\n",
       "  </thead>\n",
       "  <tbody>\n",
       "    <tr>\n",
       "      <th>0</th>\n",
       "      <td>WHITE - RUSSIAN</td>\n",
       "      <td>1</td>\n",
       "    </tr>\n",
       "    <tr>\n",
       "      <th>1</th>\n",
       "      <td>WHITE</td>\n",
       "      <td>3544</td>\n",
       "    </tr>\n",
       "    <tr>\n",
       "      <th>2</th>\n",
       "      <td>UNKNOWN/NOT SPECIFIED</td>\n",
       "      <td>730</td>\n",
       "    </tr>\n",
       "    <tr>\n",
       "      <th>3</th>\n",
       "      <td>UNABLE TO OBTAIN</td>\n",
       "      <td>18</td>\n",
       "    </tr>\n",
       "    <tr>\n",
       "      <th>4</th>\n",
       "      <td>PATIENT DECLINED TO ANSWER</td>\n",
       "      <td>52</td>\n",
       "    </tr>\n",
       "    <tr>\n",
       "      <th>5</th>\n",
       "      <td>OTHER</td>\n",
       "      <td>78</td>\n",
       "    </tr>\n",
       "    <tr>\n",
       "      <th>6</th>\n",
       "      <td>NATIVE HAWAIIAN OR OTHER PACIFIC ISLAND</td>\n",
       "      <td>2</td>\n",
       "    </tr>\n",
       "    <tr>\n",
       "      <th>7</th>\n",
       "      <td>MULTI RACE ETHNICITY</td>\n",
       "      <td>2</td>\n",
       "    </tr>\n",
       "    <tr>\n",
       "      <th>8</th>\n",
       "      <td>HISPANIC/LATINO - PUERTO RICAN</td>\n",
       "      <td>3</td>\n",
       "    </tr>\n",
       "    <tr>\n",
       "      <th>9</th>\n",
       "      <td>HISPANIC OR LATINO</td>\n",
       "      <td>71</td>\n",
       "    </tr>\n",
       "    <tr>\n",
       "      <th>10</th>\n",
       "      <td>BLACK/HAITIAN</td>\n",
       "      <td>2</td>\n",
       "    </tr>\n",
       "    <tr>\n",
       "      <th>11</th>\n",
       "      <td>BLACK/CAPE VERDEAN</td>\n",
       "      <td>2</td>\n",
       "    </tr>\n",
       "    <tr>\n",
       "      <th>12</th>\n",
       "      <td>BLACK/AFRICAN AMERICAN</td>\n",
       "      <td>474</td>\n",
       "    </tr>\n",
       "    <tr>\n",
       "      <th>13</th>\n",
       "      <td>ASIAN - VIETNAMESE</td>\n",
       "      <td>1</td>\n",
       "    </tr>\n",
       "    <tr>\n",
       "      <th>14</th>\n",
       "      <td>ASIAN - CHINESE</td>\n",
       "      <td>5</td>\n",
       "    </tr>\n",
       "    <tr>\n",
       "      <th>15</th>\n",
       "      <td>ASIAN</td>\n",
       "      <td>86</td>\n",
       "    </tr>\n",
       "    <tr>\n",
       "      <th>16</th>\n",
       "      <td>AMERICAN INDIAN/ALASKA NATIVE</td>\n",
       "      <td>3</td>\n",
       "    </tr>\n",
       "  </tbody>\n",
       "</table>\n",
       "</div>"
      ],
      "text/plain": [
       "                            ethnicity_descr  num_patients\n",
       "0                           WHITE - RUSSIAN             1\n",
       "1                                     WHITE          3544\n",
       "2                     UNKNOWN/NOT SPECIFIED           730\n",
       "3                          UNABLE TO OBTAIN            18\n",
       "4                PATIENT DECLINED TO ANSWER            52\n",
       "5                                     OTHER            78\n",
       "6   NATIVE HAWAIIAN OR OTHER PACIFIC ISLAND             2\n",
       "7                      MULTI RACE ETHNICITY             2\n",
       "8            HISPANIC/LATINO - PUERTO RICAN             3\n",
       "9                        HISPANIC OR LATINO            71\n",
       "10                            BLACK/HAITIAN             2\n",
       "11                       BLACK/CAPE VERDEAN             2\n",
       "12                   BLACK/AFRICAN AMERICAN           474\n",
       "13                       ASIAN - VIETNAMESE             1\n",
       "14                          ASIAN - CHINESE             5\n",
       "15                                    ASIAN            86\n",
       "16            AMERICAN INDIAN/ALASKA NATIVE             3"
      ]
     },
     "execution_count": 51,
     "metadata": {},
     "output_type": "execute_result"
    }
   ],
   "source": [
    "# Option 1: SQL\n",
    "query = \"\"\"\n",
    "SELECT \n",
    "    ethnicity_descr,\n",
    "    COUNT(1) AS num_patients\n",
    "FROM demographic_detail \n",
    "GROUP BY ethnicity_descr\n",
    "ORDER BY ethnicity_descr desc;\n",
    "\"\"\"\n",
    "ethnicity = pd.read_sql(query, conn)\n",
    "ethnicity"
   ]
  },
  {
   "cell_type": "code",
   "execution_count": 52,
   "id": "79dce3a7",
   "metadata": {
    "scrolled": true
   },
   "outputs": [
    {
     "data": {
      "text/plain": [
       "<AxesSubplot:xlabel='num_patients', ylabel='ethnicity_descr'>"
      ]
     },
     "execution_count": 52,
     "metadata": {},
     "output_type": "execute_result"
    },
    {
     "data": {
      "image/png": "[encoded data removed]",
      "text/plain": [
       "<Figure size 432x288 with 1 Axes>"
      ]
     },
     "metadata": {},
     "output_type": "display_data"
    }
   ],
   "source": [
    "sns.barplot(y=\"ethnicity_descr\", x=\"num_patients\", data=ethnicity.sort_values(\"num_patients\", ascending=False), color=\"C0\")"
   ]
  },
  {
   "cell_type": "code",
   "execution_count": null,
   "id": "97457a09",
   "metadata": {},
   "outputs": [],
   "source": []
  },
  {
   "cell_type": "markdown",
   "id": "70fe2cbc",
   "metadata": {},
   "source": [
    "### 1.2 In-hospital mortality by race\n",
    "Let's compare the **proportion** of patients who died in the hospital by race. We'll limit to the 4 highest frequency races so the denominators aren't too small:\n",
    "```\n",
    "(\"WHITE\", \"BLACK/AFRICAN AMERICAN\", \"ASIAN\", \"HISPANIC OR LATINO\")\n",
    "```\n",
    "1. First, write a query which returns a **patient-level** dataframe (meaning one row per patient) containing the race/ethnicity and whether a patient died in the hospital. Filter to patients in the racial groups above.\n",
    "2. Then group by race/ethnicity (either in pandas or SQL) and calculate the proportion of patients in each category who died in the hospital.\n",
    "3. Finally, plot the proportions as a barplot."
   ]
  },
  {
   "cell_type": "code",
   "execution_count": 75,
   "id": "2abeeb8a",
   "metadata": {},
   "outputs": [
    {
     "data": {
      "application/vnd.jupyter.widget-view+json": {
       "model_id": "dfcb43f845c2454e898f2c75ffe3e0eb",
       "version_major": 2,
       "version_minor": 0
      },
      "text/plain": [
       "VBox(children=(HTML(value='</br><strong>Displaying hint 0/4</strong>'), Output(), Button(description='Get hint…"
      ]
     },
     "metadata": {},
     "output_type": "display_data"
    },
    {
     "data": {
      "text/plain": []
     },
     "execution_count": 75,
     "metadata": {},
     "output_type": "execute_result"
    }
   ],
   "source": [
    "# RUN CELL TO SEE HINT\n",
    "hint_mortality_by_race"
   ]
  },
  {
   "cell_type": "code",
   "execution_count": 76,
   "id": "e8a2ce1d",
   "metadata": {},
   "outputs": [
    {
     "name": "stderr",
     "output_type": "stream",
     "text": [
      "/Users/alecchapman/opt/miniconda3/envs/phs/lib/python3.9/site-packages/pandas/io/sql.py:761: UserWarning: pandas only support SQLAlchemy connectable(engine/connection) ordatabase string URI or sqlite3 DBAPI2 connectionother DBAPI2 objects are not tested, please consider using SQLAlchemy\n",
      "  warnings.warn(\n"
     ]
    }
   ],
   "source": [
    "query = \"\"\"\n",
    "SELECT DISTINCT\n",
    "    p.subject_id,\n",
    "    d.ethnicity_descr,\n",
    "    p.hospital_expire_flg\n",
    "FROM d_patients p\n",
    "    INNER JOIN demographic_detail d\n",
    "        ON p.subject_id = d.subject_id\n",
    "WHERE ethnicity_descr IN (\"WHITE\", \"BLACK/AFRICAN AMERICAN\", \"ASIAN\", \"HISPANIC OR LATINO\")\n",
    "\"\"\"\n",
    "df = pd.read_sql(query, conn)"
   ]
  },
  {
   "cell_type": "code",
   "execution_count": 77,
   "id": "bb83ef36",
   "metadata": {},
   "outputs": [],
   "source": [
    "df[\"in_hospital_mortality\"] = (df[\"hospital_expire_flg\"] == \"Y\").astype(int)"
   ]
  },
  {
   "cell_type": "code",
   "execution_count": 78,
   "id": "c9a4252c",
   "metadata": {},
   "outputs": [
    {
     "data": {
      "text/plain": [
       "<AxesSubplot:ylabel='ethnicity_descr'>"
      ]
     },
     "execution_count": 78,
     "metadata": {},
     "output_type": "execute_result"
    },
    {
     "data": {
      "image/png": "[encoded data removed]",
      "text/plain": [
       "<Figure size 432x288 with 1 Axes>"
      ]
     },
     "metadata": {},
     "output_type": "display_data"
    }
   ],
   "source": [
    "props = df.groupby(\"ethnicity_descr\")[\"in_hospital_mortality\"].mean()\n",
    "props.plot.barh()"
   ]
  },
  {
   "cell_type": "code",
   "execution_count": null,
   "id": "58197aaf",
   "metadata": {},
   "outputs": [],
   "source": []
  },
  {
   "cell_type": "markdown",
   "id": "e59ed5e4",
   "metadata": {},
   "source": [
    "# 2. Hematocrit\n",
    "A hematocrit test measures the percentage of red blood cells in a patient's blood.\n",
    "\n",
    "1. Select a **the first 20,000 rows** of labs which contain results for the following test. Save the resulting dataframe as a variable called `hemat`.\n",
    "    - **Loinc Code**: 20570-8\t\n",
    "    - **LOINC Description**: Hematocrit [Volume Fraction] of Blood<br>\n",
    "\n",
    "2. Fill the **NaN** values in the **\"flag\"** column with **\"Normal\"**. You can either do this with SQL using the `coalesce` function, or with Pandas using the `fillna` method. How many rows have normal vs. abnormal values?\n",
    "3. Generate descriptive statistics for the lab results in the column **\"valuenum\"**, stratified by **flag**\n",
    "4. Create a plot which show the distribution of test result values within each stratum of **flag**"
   ]
  },
  {
   "cell_type": "code",
   "execution_count": 113,
   "id": "76debac8",
   "metadata": {},
   "outputs": [
    {
     "data": {
      "application/vnd.jupyter.widget-view+json": {
       "model_id": "675c334835814b1eb10ef152417fdd13",
       "version_major": 2,
       "version_minor": 0
      },
      "text/plain": [
       "VBox(children=(HTML(value='</br><strong>Displaying hint 0/1</strong>'), Output(), Button(description='Get hint…"
      ]
     },
     "metadata": {},
     "output_type": "display_data"
    },
    {
     "data": {
      "text/plain": []
     },
     "execution_count": 113,
     "metadata": {},
     "output_type": "execute_result"
    }
   ],
   "source": [
    "QuizHint(hints=[\n",
    "    widgets.HTML(\"\"\"Your output should look something like this: </br>\n",
    "    <img src=\"./media/hint_hematocrit_dist.png\" width=\"50%\"></img>\"\"\")\n",
    "])"
   ]
  },
  {
   "cell_type": "code",
   "execution_count": null,
   "id": "546a0d88",
   "metadata": {},
   "outputs": [],
   "source": [
    "# RUN CELL TO SEE QUIZ\n",
    "quiz_hematocrit_normal"
   ]
  },
  {
   "cell_type": "code",
   "execution_count": 102,
   "id": "0ff1d798",
   "metadata": {},
   "outputs": [
    {
     "name": "stderr",
     "output_type": "stream",
     "text": [
      "/Users/alecchapman/opt/miniconda3/envs/phs/lib/python3.9/site-packages/pandas/io/sql.py:761: UserWarning: pandas only support SQLAlchemy connectable(engine/connection) ordatabase string URI or sqlite3 DBAPI2 connectionother DBAPI2 objects are not tested, please consider using SQLAlchemy\n",
      "  warnings.warn(\n"
     ]
    },
    {
     "data": {
      "text/html": [
       "<div>\n",
       "<style scoped>\n",
       "    .dataframe tbody tr th:only-of-type {\n",
       "        vertical-align: middle;\n",
       "    }\n",
       "\n",
       "    .dataframe tbody tr th {\n",
       "        vertical-align: top;\n",
       "    }\n",
       "\n",
       "    .dataframe thead th {\n",
       "        text-align: right;\n",
       "    }\n",
       "</style>\n",
       "<table border=\"1\" class=\"dataframe\">\n",
       "  <thead>\n",
       "    <tr style=\"text-align: right;\">\n",
       "      <th></th>\n",
       "      <th>subject_id</th>\n",
       "      <th>valuenum</th>\n",
       "      <th>flag</th>\n",
       "    </tr>\n",
       "  </thead>\n",
       "  <tbody>\n",
       "    <tr>\n",
       "      <th>0</th>\n",
       "      <td>37</td>\n",
       "      <td>30.0</td>\n",
       "      <td>Normal</td>\n",
       "    </tr>\n",
       "    <tr>\n",
       "      <th>1</th>\n",
       "      <td>12</td>\n",
       "      <td>35.0</td>\n",
       "      <td>Normal</td>\n",
       "    </tr>\n",
       "    <tr>\n",
       "      <th>2</th>\n",
       "      <td>12</td>\n",
       "      <td>32.0</td>\n",
       "      <td>Normal</td>\n",
       "    </tr>\n",
       "    <tr>\n",
       "      <th>3</th>\n",
       "      <td>12</td>\n",
       "      <td>32.0</td>\n",
       "      <td>Normal</td>\n",
       "    </tr>\n",
       "    <tr>\n",
       "      <th>4</th>\n",
       "      <td>12</td>\n",
       "      <td>32.0</td>\n",
       "      <td>Normal</td>\n",
       "    </tr>\n",
       "  </tbody>\n",
       "</table>\n",
       "</div>"
      ],
      "text/plain": [
       "   subject_id  valuenum    flag\n",
       "0          37      30.0  Normal\n",
       "1          12      35.0  Normal\n",
       "2          12      32.0  Normal\n",
       "3          12      32.0  Normal\n",
       "4          12      32.0  Normal"
      ]
     },
     "execution_count": 102,
     "metadata": {},
     "output_type": "execute_result"
    }
   ],
   "source": [
    "query = \"\"\"\n",
    "SELECT \n",
    "    subject_id,\n",
    "    valuenum,\n",
    "    COALESCE(flag, 'Normal') AS flag\n",
    "FROM labevents\n",
    "    INNER JOIN d_labitems\n",
    "        ON labevents.itemid = d_labitems.itemid\n",
    "WHERE loinc_code = '20570-8'\n",
    "LIMIT 20000;\n",
    "\"\"\"\n",
    "hemat = pd.read_sql(query, conn)\n",
    "hemat.head()"
   ]
  },
  {
   "cell_type": "code",
   "execution_count": 103,
   "id": "3cd03265",
   "metadata": {},
   "outputs": [
    {
     "data": {
      "text/plain": [
       "flag\n",
       "Normal      11862\n",
       "abnormal     8088\n",
       "delta          50\n",
       "dtype: int64"
      ]
     },
     "execution_count": 103,
     "metadata": {},
     "output_type": "execute_result"
    }
   ],
   "source": [
    "hemat.groupby(\"flag\").size()"
   ]
  },
  {
   "cell_type": "code",
   "execution_count": 107,
   "id": "66fab6df",
   "metadata": {},
   "outputs": [
    {
     "data": {
      "text/html": [
       "<div>\n",
       "<style scoped>\n",
       "    .dataframe tbody tr th:only-of-type {\n",
       "        vertical-align: middle;\n",
       "    }\n",
       "\n",
       "    .dataframe tbody tr th {\n",
       "        vertical-align: top;\n",
       "    }\n",
       "\n",
       "    .dataframe thead th {\n",
       "        text-align: right;\n",
       "    }\n",
       "</style>\n",
       "<table border=\"1\" class=\"dataframe\">\n",
       "  <thead>\n",
       "    <tr style=\"text-align: right;\">\n",
       "      <th></th>\n",
       "      <th>count</th>\n",
       "      <th>mean</th>\n",
       "      <th>std</th>\n",
       "      <th>min</th>\n",
       "      <th>25%</th>\n",
       "      <th>50%</th>\n",
       "      <th>75%</th>\n",
       "      <th>max</th>\n",
       "    </tr>\n",
       "    <tr>\n",
       "      <th>flag</th>\n",
       "      <th></th>\n",
       "      <th></th>\n",
       "      <th></th>\n",
       "      <th></th>\n",
       "      <th></th>\n",
       "      <th></th>\n",
       "      <th></th>\n",
       "      <th></th>\n",
       "    </tr>\n",
       "  </thead>\n",
       "  <tbody>\n",
       "    <tr>\n",
       "      <th>Normal</th>\n",
       "      <td>11862.0</td>\n",
       "      <td>31.721708</td>\n",
       "      <td>6.197369</td>\n",
       "      <td>0.0</td>\n",
       "      <td>28.000</td>\n",
       "      <td>32.00</td>\n",
       "      <td>36.00</td>\n",
       "      <td>129.0</td>\n",
       "    </tr>\n",
       "    <tr>\n",
       "      <th>abnormal</th>\n",
       "      <td>8088.0</td>\n",
       "      <td>30.392050</td>\n",
       "      <td>3.970016</td>\n",
       "      <td>10.0</td>\n",
       "      <td>27.800</td>\n",
       "      <td>30.30</td>\n",
       "      <td>33.00</td>\n",
       "      <td>56.3</td>\n",
       "    </tr>\n",
       "    <tr>\n",
       "      <th>delta</th>\n",
       "      <td>50.0</td>\n",
       "      <td>42.228000</td>\n",
       "      <td>3.596316</td>\n",
       "      <td>35.8</td>\n",
       "      <td>39.675</td>\n",
       "      <td>41.95</td>\n",
       "      <td>44.55</td>\n",
       "      <td>48.6</td>\n",
       "    </tr>\n",
       "  </tbody>\n",
       "</table>\n",
       "</div>"
      ],
      "text/plain": [
       "            count       mean       std   min     25%    50%    75%    max\n",
       "flag                                                                     \n",
       "Normal    11862.0  31.721708  6.197369   0.0  28.000  32.00  36.00  129.0\n",
       "abnormal   8088.0  30.392050  3.970016  10.0  27.800  30.30  33.00   56.3\n",
       "delta        50.0  42.228000  3.596316  35.8  39.675  41.95  44.55   48.6"
      ]
     },
     "execution_count": 107,
     "metadata": {},
     "output_type": "execute_result"
    }
   ],
   "source": [
    "hemat.groupby(\"flag\")[\"valuenum\"].describe()"
   ]
  },
  {
   "cell_type": "code",
   "execution_count": 109,
   "id": "51cc468e",
   "metadata": {},
   "outputs": [
    {
     "data": {
      "image/png": "[encoded data removed]",
      "text/plain": [
       "<Figure size 432x288 with 1 Axes>"
      ]
     },
     "metadata": {},
     "output_type": "display_data"
    }
   ],
   "source": [
    "sns.boxplot(x=\"flag\", y=\"valuenum\", data=hemat);"
   ]
  },
  {
   "cell_type": "code",
   "execution_count": 83,
   "id": "eab669e5",
   "metadata": {},
   "outputs": [
    {
     "name": "stderr",
     "output_type": "stream",
     "text": [
      "/Users/alecchapman/opt/miniconda3/envs/phs/lib/python3.9/site-packages/seaborn/distributions.py:2619: FutureWarning: `distplot` is a deprecated function and will be removed in a future version. Please adapt your code to use either `displot` (a figure-level function with similar flexibility) or `histplot` (an axes-level function for histograms).\n",
      "  warnings.warn(msg, FutureWarning)\n"
     ]
    },
    {
     "data": {
      "text/plain": [
       "<AxesSubplot:xlabel='valuenum', ylabel='Density'>"
      ]
     },
     "execution_count": 83,
     "metadata": {},
     "output_type": "execute_result"
    },
    {
     "data": {
      "image/png": "[encoded data removed]",
      "text/plain": [
       "<Figure size 432x288 with 1 Axes>"
      ]
     },
     "metadata": {},
     "output_type": "display_data"
    }
   ],
   "source": [
    "sns.distplot(hemat[\"valuenum\"])"
   ]
  },
  {
   "cell_type": "code",
   "execution_count": null,
   "id": "24240b5f",
   "metadata": {},
   "outputs": [],
   "source": []
  },
  {
   "cell_type": "markdown",
   "id": "edaf2550",
   "metadata": {},
   "source": [
    "# 3. ABI\n",
    "The **ankle-brachial index test** compares the blood pressure measured at your ankle with the blood pressure measured at your arm. It is used to check for peripheral artery disease. A low ABI can indicate a blocking in your arteries. [[Mayo Clinic]](https://www.mayoclinic.org/tests-procedures/ankle-brachial-index/about/pac-20392934) \n",
    "\n",
    "Let's analyze this test and see what the distribution of values look like. In MIMIC, the following chartevents itemids indicate ABI measurements:\n",
    "\n",
    "```\n",
    "(2, 3, 4, 5)\n",
    "```\n",
    "\n",
    "## Instructions\n",
    "1. Join the tables `d_chartitems` and `chartevents`. Filter the results to rows which measure ABI values using the `itemid`s given above. Select all rows (there won't be too many). Assign the results to `abi`\n",
    "2. Drop rows which are missing `value1num`\n",
    "3. Calculate the min, max, and mean values of `value1num`\n",
    "4. Generate a histogram. Change the number of bins to more clearly show the detail of the distribution using the `bins` argument "
   ]
  },
  {
   "cell_type": "code",
   "execution_count": 142,
   "id": "47ad9111",
   "metadata": {},
   "outputs": [
    {
     "data": {
      "application/vnd.jupyter.widget-view+json": {
       "model_id": "33b49d2eada84193b884c999dec1f6e1",
       "version_major": 2,
       "version_minor": 0
      },
      "text/plain": [
       "VBox(children=(HTML(value='</br><strong>Displaying hint 0/2</strong>'), Output(), Button(description='Get hint…"
      ]
     },
     "metadata": {},
     "output_type": "display_data"
    },
    {
     "data": {
      "text/plain": []
     },
     "execution_count": 142,
     "metadata": {},
     "output_type": "execute_result"
    }
   ],
   "source": [
    "QuizHint(hints=[\n",
    "    widgets.HTML(\"\"\"We did something similar in <a href=\"./03-Labs-and-Vitals.ipynb\" target=\"_blank\">03-Labs-and-Vitals</a>\n",
    "    with systolic and diastolic blood pressure.\"\"\"),\n",
    "                widgets.HTML(\"\"\"In a histogram, a larger number of bins shows more detail, a smaller number shows less. \n",
    "                Here are two examples of histograms for abi with different numbers of bins:</br>\n",
    "                <img src=\"./media/hint_abi_hist.png\" width=\"50%\"></img>\"\"\")\n",
    "])"
   ]
  },
  {
   "cell_type": "code",
   "execution_count": 130,
   "id": "0127d34b",
   "metadata": {},
   "outputs": [
    {
     "data": {
      "application/vnd.jupyter.widget-view+json": {
       "model_id": "1074bbc1febe4a3aacf36af9714aacdb",
       "version_major": 2,
       "version_minor": 0
      },
      "text/plain": [
       "VBox(children=(HTML(value='How many rows are in abi before/after dropping missing values?'), RadioButtons(layo…"
      ]
     },
     "metadata": {},
     "output_type": "display_data"
    },
    {
     "data": {
      "text/plain": []
     },
     "execution_count": 130,
     "metadata": {},
     "output_type": "execute_result"
    }
   ],
   "source": [
    "# RUN CELL TO SEE QUIZ\n",
    "quiz_count_abi"
   ]
  },
  {
   "cell_type": "code",
   "execution_count": 123,
   "id": "791edde5",
   "metadata": {},
   "outputs": [
    {
     "name": "stderr",
     "output_type": "stream",
     "text": [
      "/Users/alecchapman/opt/miniconda3/envs/phs/lib/python3.9/site-packages/pandas/io/sql.py:761: UserWarning: pandas only support SQLAlchemy connectable(engine/connection) ordatabase string URI or sqlite3 DBAPI2 connectionother DBAPI2 objects are not tested, please consider using SQLAlchemy\n",
      "  warnings.warn(\n"
     ]
    },
    {
     "data": {
      "text/html": [
       "<div>\n",
       "<style scoped>\n",
       "    .dataframe tbody tr th:only-of-type {\n",
       "        vertical-align: middle;\n",
       "    }\n",
       "\n",
       "    .dataframe tbody tr th {\n",
       "        vertical-align: top;\n",
       "    }\n",
       "\n",
       "    .dataframe thead th {\n",
       "        text-align: right;\n",
       "    }\n",
       "</style>\n",
       "<table border=\"1\" class=\"dataframe\">\n",
       "  <thead>\n",
       "    <tr style=\"text-align: right;\">\n",
       "      <th></th>\n",
       "      <th>subject_id</th>\n",
       "      <th>icustay_id</th>\n",
       "      <th>itemid</th>\n",
       "      <th>charttime</th>\n",
       "      <th>elemid</th>\n",
       "      <th>realtime</th>\n",
       "      <th>cgid</th>\n",
       "      <th>cuid</th>\n",
       "      <th>value1</th>\n",
       "      <th>value1num</th>\n",
       "      <th>value1uom</th>\n",
       "      <th>value2</th>\n",
       "      <th>value2num</th>\n",
       "      <th>value2uom</th>\n",
       "      <th>resultstatus</th>\n",
       "      <th>stopped</th>\n",
       "      <th>itemid</th>\n",
       "      <th>label</th>\n",
       "      <th>category</th>\n",
       "      <th>description</th>\n",
       "    </tr>\n",
       "  </thead>\n",
       "  <tbody>\n",
       "    <tr>\n",
       "      <th>0</th>\n",
       "      <td>21</td>\n",
       "      <td>23.0</td>\n",
       "      <td>2</td>\n",
       "      <td>3138-10-31 15:00:00</td>\n",
       "      <td>0</td>\n",
       "      <td>3138-10-31 15:00:00</td>\n",
       "      <td>-1</td>\n",
       "      <td>1</td>\n",
       "      <td>None</td>\n",
       "      <td>NaN</td>\n",
       "      <td>None</td>\n",
       "      <td>None</td>\n",
       "      <td>NaN</td>\n",
       "      <td>None</td>\n",
       "      <td>None</td>\n",
       "      <td>D/C'd</td>\n",
       "      <td>2</td>\n",
       "      <td>ABI (L)</td>\n",
       "      <td>None</td>\n",
       "      <td>None</td>\n",
       "    </tr>\n",
       "    <tr>\n",
       "      <th>1</th>\n",
       "      <td>1308</td>\n",
       "      <td>1611.0</td>\n",
       "      <td>2</td>\n",
       "      <td>2999-12-03 18:00:00</td>\n",
       "      <td>0</td>\n",
       "      <td>2999-12-03 18:26:00</td>\n",
       "      <td>6237</td>\n",
       "      <td>1</td>\n",
       "      <td>.93181800842285156</td>\n",
       "      <td>0.931818</td>\n",
       "      <td>.</td>\n",
       "      <td>None</td>\n",
       "      <td>NaN</td>\n",
       "      <td>None</td>\n",
       "      <td>None</td>\n",
       "      <td>NotStopd</td>\n",
       "      <td>2</td>\n",
       "      <td>ABI (L)</td>\n",
       "      <td>None</td>\n",
       "      <td>None</td>\n",
       "    </tr>\n",
       "    <tr>\n",
       "      <th>2</th>\n",
       "      <td>1308</td>\n",
       "      <td>1611.0</td>\n",
       "      <td>2</td>\n",
       "      <td>2999-12-03 22:00:00</td>\n",
       "      <td>0</td>\n",
       "      <td>2999-12-03 22:00:00</td>\n",
       "      <td>-1</td>\n",
       "      <td>1</td>\n",
       "      <td>None</td>\n",
       "      <td>NaN</td>\n",
       "      <td>None</td>\n",
       "      <td>None</td>\n",
       "      <td>NaN</td>\n",
       "      <td>None</td>\n",
       "      <td>None</td>\n",
       "      <td>D/C'd</td>\n",
       "      <td>2</td>\n",
       "      <td>ABI (L)</td>\n",
       "      <td>None</td>\n",
       "      <td>None</td>\n",
       "    </tr>\n",
       "    <tr>\n",
       "      <th>3</th>\n",
       "      <td>1501</td>\n",
       "      <td>39229.0</td>\n",
       "      <td>2</td>\n",
       "      <td>3477-12-10 06:00:00</td>\n",
       "      <td>0</td>\n",
       "      <td>3477-12-10 06:14:00</td>\n",
       "      <td>2049</td>\n",
       "      <td>1</td>\n",
       "      <td>.49090901017189026</td>\n",
       "      <td>0.490909</td>\n",
       "      <td>.</td>\n",
       "      <td>None</td>\n",
       "      <td>NaN</td>\n",
       "      <td>None</td>\n",
       "      <td>None</td>\n",
       "      <td>NotStopd</td>\n",
       "      <td>2</td>\n",
       "      <td>ABI (L)</td>\n",
       "      <td>None</td>\n",
       "      <td>None</td>\n",
       "    </tr>\n",
       "    <tr>\n",
       "      <th>4</th>\n",
       "      <td>1501</td>\n",
       "      <td>39229.0</td>\n",
       "      <td>2</td>\n",
       "      <td>3477-12-10 18:00:00</td>\n",
       "      <td>0</td>\n",
       "      <td>3477-12-10 17:53:00</td>\n",
       "      <td>2029</td>\n",
       "      <td>1</td>\n",
       "      <td>.71428602933883667</td>\n",
       "      <td>0.714286</td>\n",
       "      <td>.</td>\n",
       "      <td>None</td>\n",
       "      <td>NaN</td>\n",
       "      <td>None</td>\n",
       "      <td>None</td>\n",
       "      <td>NotStopd</td>\n",
       "      <td>2</td>\n",
       "      <td>ABI (L)</td>\n",
       "      <td>None</td>\n",
       "      <td>None</td>\n",
       "    </tr>\n",
       "  </tbody>\n",
       "</table>\n",
       "</div>"
      ],
      "text/plain": [
       "   subject_id  icustay_id  itemid            charttime  elemid  \\\n",
       "0          21        23.0       2  3138-10-31 15:00:00       0   \n",
       "1        1308      1611.0       2  2999-12-03 18:00:00       0   \n",
       "2        1308      1611.0       2  2999-12-03 22:00:00       0   \n",
       "3        1501     39229.0       2  3477-12-10 06:00:00       0   \n",
       "4        1501     39229.0       2  3477-12-10 18:00:00       0   \n",
       "\n",
       "              realtime  cgid  cuid              value1  value1num value1uom  \\\n",
       "0  3138-10-31 15:00:00    -1     1                None        NaN      None   \n",
       "1  2999-12-03 18:26:00  6237     1  .93181800842285156   0.931818         .   \n",
       "2  2999-12-03 22:00:00    -1     1                None        NaN      None   \n",
       "3  3477-12-10 06:14:00  2049     1  .49090901017189026   0.490909         .   \n",
       "4  3477-12-10 17:53:00  2029     1  .71428602933883667   0.714286         .   \n",
       "\n",
       "  value2  value2num value2uom resultstatus   stopped  itemid    label  \\\n",
       "0   None        NaN      None         None     D/C'd       2  ABI (L)   \n",
       "1   None        NaN      None         None  NotStopd       2  ABI (L)   \n",
       "2   None        NaN      None         None     D/C'd       2  ABI (L)   \n",
       "3   None        NaN      None         None  NotStopd       2  ABI (L)   \n",
       "4   None        NaN      None         None  NotStopd       2  ABI (L)   \n",
       "\n",
       "  category description  \n",
       "0     None        None  \n",
       "1     None        None  \n",
       "2     None        None  \n",
       "3     None        None  \n",
       "4     None        None  "
      ]
     },
     "execution_count": 123,
     "metadata": {},
     "output_type": "execute_result"
    }
   ],
   "source": [
    "query = \"\"\"\n",
    "SELECT *\n",
    "FROM mimic2.chartevents\n",
    "    INNER JOIN d_chartitems ON chartevents.itemid = d_chartitems.itemid\n",
    "WHERE chartevents.itemid IN (2, 3, 4, 5);\n",
    "\"\"\"\n",
    "abi = pd.read_sql(query, conn)\n",
    "abi.head()"
   ]
  },
  {
   "cell_type": "code",
   "execution_count": 124,
   "id": "10ecead2",
   "metadata": {},
   "outputs": [
    {
     "data": {
      "text/plain": [
       "364"
      ]
     },
     "execution_count": 124,
     "metadata": {},
     "output_type": "execute_result"
    }
   ],
   "source": [
    "len(abi)"
   ]
  },
  {
   "cell_type": "code",
   "execution_count": 126,
   "id": "8da7b800",
   "metadata": {},
   "outputs": [],
   "source": [
    "abi = abi.dropna(subset=\"value1num\")"
   ]
  },
  {
   "cell_type": "code",
   "execution_count": 127,
   "id": "d7508536",
   "metadata": {},
   "outputs": [
    {
     "data": {
      "text/plain": [
       "189"
      ]
     },
     "execution_count": 127,
     "metadata": {},
     "output_type": "execute_result"
    }
   ],
   "source": [
    "len(abi)"
   ]
  },
  {
   "cell_type": "code",
   "execution_count": 120,
   "id": "5818d609",
   "metadata": {},
   "outputs": [
    {
     "data": {
      "text/plain": [
       "count    189.000000\n",
       "mean      49.541031\n",
       "std       50.128913\n",
       "min        0.000000\n",
       "25%        0.806122\n",
       "50%       50.000000\n",
       "75%       99.000000\n",
       "max      140.000000\n",
       "Name: value1num, dtype: float64"
      ]
     },
     "execution_count": 120,
     "metadata": {},
     "output_type": "execute_result"
    }
   ],
   "source": [
    "abi[\"value1num\"].describe()"
   ]
  },
  {
   "cell_type": "code",
   "execution_count": 141,
   "id": "d3850ab9",
   "metadata": {},
   "outputs": [
    {
     "name": "stderr",
     "output_type": "stream",
     "text": [
      "/Users/alecchapman/opt/miniconda3/envs/phs/lib/python3.9/site-packages/seaborn/distributions.py:2619: FutureWarning: `distplot` is a deprecated function and will be removed in a future version. Please adapt your code to use either `displot` (a figure-level function with similar flexibility) or `histplot` (an axes-level function for histograms).\n",
      "  warnings.warn(msg, FutureWarning)\n",
      "/Users/alecchapman/opt/miniconda3/envs/phs/lib/python3.9/site-packages/seaborn/distributions.py:2619: FutureWarning: `distplot` is a deprecated function and will be removed in a future version. Please adapt your code to use either `displot` (a figure-level function with similar flexibility) or `histplot` (an axes-level function for histograms).\n",
      "  warnings.warn(msg, FutureWarning)\n"
     ]
    },
    {
     "data": {
      "text/plain": [
       "<AxesSubplot:xlabel='value1num', ylabel='Density'>"
      ]
     },
     "execution_count": 141,
     "metadata": {},
     "output_type": "execute_result"
    },
    {
     "data": {
      "image/png": "[encoded data removed]",
      "text/plain": [
       "<Figure size 864x288 with 2 Axes>"
      ]
     },
     "metadata": {},
     "output_type": "display_data"
    }
   ],
   "source": [
    "fig, (ax1, ax2) = plt.subplots(1, 2, figsize=(12, 4))\n",
    "sns.distplot(abi[\"value1num\"], ax=ax1)\n",
    "sns.distplot(abi[\"value1num\"], bins=20, ax=ax2)"
   ]
  },
  {
   "cell_type": "code",
   "execution_count": null,
   "id": "2902367b",
   "metadata": {},
   "outputs": [],
   "source": []
  },
  {
   "cell_type": "markdown",
   "id": "b3e422aa",
   "metadata": {},
   "source": [
    "## 4 (Advanced) Comparing prevalence by race/ethnicity\n",
    "Let's say we wanted to compare the prevalence of certain diseases among patients who were black/african american and those who were white. Calculate the proportion out of all patients in those racial categories who have the following ICD-9 codes:\n",
    "\n",
    "- `401.9`: Unspecified essential hypertension\n",
    "- `428.0`: Congestive heart failure unspecified\n",
    "- `427.31`: Atrial fibrillation\n",
    "- `403.91`: Hypertensive chronic kidney disease with stage 5 chronic kidney disease or end stage renal disease\n",
    "- `584.9`: Acute kidney failure, unspecified\n"
   ]
  },
  {
   "cell_type": "code",
   "execution_count": null,
   "id": "9d2ae1f8",
   "metadata": {},
   "outputs": [],
   "source": []
  },
  {
   "cell_type": "code",
   "execution_count": 147,
   "id": "7d3fe439",
   "metadata": {},
   "outputs": [
    {
     "data": {
      "application/vnd.jupyter.widget-view+json": {
       "model_id": "a23e410439844a09b2f1848f16fb6b06",
       "version_major": 2,
       "version_minor": 0
      },
      "text/plain": [
       "VBox(children=(HTML(value='</br><strong>Displaying hint 0/3</strong>'), Output(), Button(description='Get hint…"
      ]
     },
     "metadata": {},
     "output_type": "display_data"
    },
    {
     "data": {
      "text/plain": []
     },
     "execution_count": 147,
     "metadata": {},
     "output_type": "execute_result"
    }
   ],
   "source": [
    "QuizHint(hints=[\n",
    "    widgets.HTML(\"\"\"To do this, you'll need to use two different subqueries (one to get the total counts by ethnicity,\n",
    "    another to get the counts of each disease by ethnicity) and join them together.\"\"\"),\n",
    "    widgets.HTML(\"\"\"The first subquery should group by ethnicity_descr, the second should group by ethnicity_descr and ICD-9 code.\"\"\"),\n",
    "    widgets.HTML(\"\"\"Here is a visualization showing the results: </br>\n",
    "    <img src=\"./media/hint_prop_disease_by_race.png\" width=\"50%\"></img>\"\"\")\n",
    "])"
   ]
  },
  {
   "cell_type": "code",
   "execution_count": 146,
   "id": "6158de1d",
   "metadata": {},
   "outputs": [
    {
     "data": {
      "application/vnd.jupyter.widget-view+json": {
       "model_id": "46bb0969cd77406e89a5ae27b3279b20",
       "version_major": 2,
       "version_minor": 0
      },
      "text/plain": [
       "VBox(children=(HTML(value='Which of the diseases in question appear to be more prevalent among patients who ar…"
      ]
     },
     "metadata": {},
     "output_type": "display_data"
    },
    {
     "data": {
      "text/plain": []
     },
     "execution_count": 146,
     "metadata": {},
     "output_type": "execute_result"
    }
   ],
   "source": [
    "# RUN CELL TO SEE QUIZ\n",
    "quiz_dx_prevalence_by_race"
   ]
  },
  {
   "cell_type": "code",
   "execution_count": 44,
   "id": "8704473c",
   "metadata": {},
   "outputs": [
    {
     "name": "stderr",
     "output_type": "stream",
     "text": [
      "/Users/alecchapman/opt/miniconda3/envs/phs/lib/python3.9/site-packages/pandas/io/sql.py:761: UserWarning: pandas only support SQLAlchemy connectable(engine/connection) ordatabase string URI or sqlite3 DBAPI2 connectionother DBAPI2 objects are not tested, please consider using SQLAlchemy\n",
      "  warnings.warn(\n"
     ]
    }
   ],
   "source": [
    "query = \"\"\"\n",
    "SELECT\n",
    "\te.ethnicity_descr \n",
    "    ,code\n",
    "    ,n_patients\n",
    "    ,n_diseased\n",
    "    ,n_diseased / n_patients prevalence\n",
    "FROM (\n",
    "SELECT \n",
    "    ethnicity_descr,\n",
    "    COUNT(1) AS n_patients\n",
    "FROM demographic_detail \n",
    "WHERE ethnicity_descr IN ('BLACK/AFRICAN AMERICAN', 'WHITE')\n",
    "GROUP BY ethnicity_descr\n",
    ") e\n",
    "INNER JOIN (\n",
    "SELECT d.ethnicity_descr, i.code, COUNT(1) n_diseased\n",
    "FROM icd9 i\n",
    "INNER JOIN demographic_detail d\n",
    "\tON i.hadm_id = d.hadm_id\n",
    "WHERE code IN ('401.9', '428.0', '427.31', '403.91', '584.9')\n",
    "GROUP BY ethnicity_descr, i.code\n",
    ") icd\n",
    "\tON e.ethnicity_descr = icd.ethnicity_descr\n",
    "ORDER BY n_diseased / n_patients desc\n",
    ";\n",
    "\"\"\"\n"
   ]
  },
  {
   "cell_type": "code",
   "execution_count": 47,
   "id": "3fbb5bc7",
   "metadata": {},
   "outputs": [
    {
     "data": {
      "text/plain": [
       "<AxesSubplot:xlabel='code', ylabel='prevalence'>"
      ]
     },
     "execution_count": 47,
     "metadata": {},
     "output_type": "execute_result"
    },
    {
     "data": {
      "image/png": "[encoded data removed]",
      "text/plain": [
       "<Figure size 432x288 with 1 Axes>"
      ]
     },
     "metadata": {},
     "output_type": "display_data"
    }
   ],
   "source": [
    "dx_by_race = pd.read_sql(query, conn)\n",
    "sns.barplot(x=\"code\", y=\"prevalence\", hue=\"ethnicity_descr\", data=dx_by_race)"
   ]
  },
  {
   "cell_type": "code",
   "execution_count": null,
   "id": "a2e8014a",
   "metadata": {},
   "outputs": [],
   "source": []
  }
 ],
 "metadata": {
  "kernelspec": {
   "display_name": "Python 3 (ipykernel)",
   "language": "python",
   "name": "python3"
  },
  "language_info": {
   "codemirror_mode": {
    "name": "ipython",
    "version": 3
   },
   "file_extension": ".py",
   "mimetype": "text/x-python",
   "name": "python",
   "nbconvert_exporter": "python",
   "pygments_lexer": "ipython3",
   "version": "3.9.12"
  }
 },
 "nbformat": 4,
 "nbformat_minor": 5
}
