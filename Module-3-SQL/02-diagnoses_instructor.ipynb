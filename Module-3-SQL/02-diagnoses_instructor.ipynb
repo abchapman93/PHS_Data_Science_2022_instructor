{
 "cells": [
  {
   "cell_type": "markdown",
   "metadata": {},
   "source": [
    "<html>\n",
    "<table width=\"100%\" cellspacing=\"2\" cellpadding=\"2\" border=\"1\">\n",
    "<tbody>\n",
    "<tr>\n",
    "<td valign=\"center\" align=\"center\" width=\"45%\"><img src=\"../media/Univ-Utah.jpeg\"><br>\n",
    "</td>\n",
    "    <td valign=\"center\" align=\"center\" width=\"75%\">\n",
    "<h1 align=\"center\"><font size=\"+1\">University of Utah<br>Population Health Sciences<br>Data Science Workshop</font></h1></td>\n",
    "<td valign=\"center\" align=\"center\" width=\"45%\"><img\n",
    "src=\"../media/U_Health_stacked_png_red.png\" alt=\"Utah Health\n",
    "Logo\" width=\"128\" height=\"134\"><br>\n",
    "</td>\n",
    "</tr>\n",
    "</tbody>\n",
    "</table>\n",
    "<br>\n",
    "</html>"
   ]
  },
  {
   "cell_type": "code",
   "execution_count": 1,
   "metadata": {},
   "outputs": [],
   "source": [
    "from helpers import *\n",
    "import pandas as pd"
   ]
  },
  {
   "cell_type": "code",
   "execution_count": 2,
   "metadata": {},
   "outputs": [
    {
     "name": "stdout",
     "output_type": "stream",
     "text": [
      "Enter password for MIMIC2 database········\n"
     ]
    }
   ],
   "source": [
    "conn = connect_to_mimic()"
   ]
  },
  {
   "cell_type": "code",
   "execution_count": 3,
   "metadata": {},
   "outputs": [],
   "source": [
    "import seaborn as sns\n",
    "sns.set()"
   ]
  },
  {
   "cell_type": "markdown",
   "metadata": {},
   "source": [
    "# Diagnosis Data in MIMIC-II"
   ]
  },
  {
   "cell_type": "markdown",
   "metadata": {},
   "source": [
    "## Standards and Terminologies\n",
    "**Terminologies** are collections of concepts used to describe data. Each concept represents a single, unique item and has a unique identifier, also called a **code**. Medical data has terminologies to represent diagnoses, medications, and procedures. Furthermore, these terminologies are **standardized** so that they can be used across institutions - the same concepts used to represent a disease in one healthcare system means the same thing in another.\n",
    "\n",
    "One example of a terminology is the [**International Disease Classification (ICD)**](https://www.who.int/standards/classifications/classification-of-diseases) system. ICD codes are used to represent patient diagnoses and are used in healthcare systems across the world. There are a few different versions of the ICD system. In the US, ICD-9 codes were used until 2015, at which point ICD-10 became the main system. Since MIMIC-II data was generated before 2015, it uses ICD-9 codes to represent patient diagnoses.\n",
    "\n",
    "The table `icd9` contains the diagnoses assigned to patient hospitalizations. Here are the first 10 rows of `icd9`. A hospitalization can have one or more ICD-9 code and codes are ordered in importance by the `sequence` column."
   ]
  },
  {
   "cell_type": "code",
   "execution_count": 7,
   "metadata": {},
   "outputs": [
    {
     "data": {
      "text/html": [
       "<div>\n",
       "<style scoped>\n",
       "    .dataframe tbody tr th:only-of-type {\n",
       "        vertical-align: middle;\n",
       "    }\n",
       "\n",
       "    .dataframe tbody tr th {\n",
       "        vertical-align: top;\n",
       "    }\n",
       "\n",
       "    .dataframe thead th {\n",
       "        text-align: right;\n",
       "    }\n",
       "</style>\n",
       "<table border=\"1\" class=\"dataframe\">\n",
       "  <thead>\n",
       "    <tr style=\"text-align: right;\">\n",
       "      <th></th>\n",
       "      <th>subject_id</th>\n",
       "      <th>hadm_id</th>\n",
       "      <th>sequence</th>\n",
       "      <th>code</th>\n",
       "      <th>description</th>\n",
       "    </tr>\n",
       "  </thead>\n",
       "  <tbody>\n",
       "    <tr>\n",
       "      <th>0</th>\n",
       "      <td>56</td>\n",
       "      <td>28766</td>\n",
       "      <td>1</td>\n",
       "      <td>198.3</td>\n",
       "      <td>SECONDARY MALIGNANT NEOPLASM OF BRAIN AND SPIN...</td>\n",
       "    </tr>\n",
       "    <tr>\n",
       "      <th>1</th>\n",
       "      <td>56</td>\n",
       "      <td>28766</td>\n",
       "      <td>2</td>\n",
       "      <td>162.8</td>\n",
       "      <td>MALIGNANT NEOPLASM OF OTHER PARTS OF BRONCHUS ...</td>\n",
       "    </tr>\n",
       "    <tr>\n",
       "      <th>2</th>\n",
       "      <td>56</td>\n",
       "      <td>28766</td>\n",
       "      <td>3</td>\n",
       "      <td>531.40</td>\n",
       "      <td>CHRONIC OR UNSPECIFIED GASTRIC ULCER WITH HEMO...</td>\n",
       "    </tr>\n",
       "    <tr>\n",
       "      <th>3</th>\n",
       "      <td>56</td>\n",
       "      <td>28766</td>\n",
       "      <td>4</td>\n",
       "      <td>276.1</td>\n",
       "      <td>HYPOSMOLALITY AND/OR HYPONATREMIA</td>\n",
       "    </tr>\n",
       "    <tr>\n",
       "      <th>4</th>\n",
       "      <td>56</td>\n",
       "      <td>28766</td>\n",
       "      <td>5</td>\n",
       "      <td>428.0</td>\n",
       "      <td>CONGESTIVE HEART FAILURE UNSPECIFIED</td>\n",
       "    </tr>\n",
       "    <tr>\n",
       "      <th>5</th>\n",
       "      <td>56</td>\n",
       "      <td>28766</td>\n",
       "      <td>6</td>\n",
       "      <td>780.39</td>\n",
       "      <td>OTHER CONVULSIONS</td>\n",
       "    </tr>\n",
       "    <tr>\n",
       "      <th>6</th>\n",
       "      <td>56</td>\n",
       "      <td>28766</td>\n",
       "      <td>7</td>\n",
       "      <td>272.0</td>\n",
       "      <td>PURE HYPERCHOLESTEROLEMIA</td>\n",
       "    </tr>\n",
       "    <tr>\n",
       "      <th>7</th>\n",
       "      <td>56</td>\n",
       "      <td>28766</td>\n",
       "      <td>8</td>\n",
       "      <td>401.9</td>\n",
       "      <td>UNSPECIFIED ESSENTIAL HYPERTENSION</td>\n",
       "    </tr>\n",
       "    <tr>\n",
       "      <th>8</th>\n",
       "      <td>37</td>\n",
       "      <td>18052</td>\n",
       "      <td>1</td>\n",
       "      <td>410.71</td>\n",
       "      <td>SUBENDOCARDIAL INFARCTION INITIAL EPISODE OF CARE</td>\n",
       "    </tr>\n",
       "    <tr>\n",
       "      <th>9</th>\n",
       "      <td>37</td>\n",
       "      <td>18052</td>\n",
       "      <td>2</td>\n",
       "      <td>428.0</td>\n",
       "      <td>CONGESTIVE HEART FAILURE UNSPECIFIED</td>\n",
       "    </tr>\n",
       "  </tbody>\n",
       "</table>\n",
       "</div>"
      ],
      "text/plain": [
       "   subject_id  hadm_id  sequence    code  \\\n",
       "0          56    28766         1   198.3   \n",
       "1          56    28766         2   162.8   \n",
       "2          56    28766         3  531.40   \n",
       "3          56    28766         4   276.1   \n",
       "4          56    28766         5   428.0   \n",
       "5          56    28766         6  780.39   \n",
       "6          56    28766         7   272.0   \n",
       "7          56    28766         8   401.9   \n",
       "8          37    18052         1  410.71   \n",
       "9          37    18052         2   428.0   \n",
       "\n",
       "                                         description  \n",
       "0  SECONDARY MALIGNANT NEOPLASM OF BRAIN AND SPIN...  \n",
       "1  MALIGNANT NEOPLASM OF OTHER PARTS OF BRONCHUS ...  \n",
       "2  CHRONIC OR UNSPECIFIED GASTRIC ULCER WITH HEMO...  \n",
       "3                  HYPOSMOLALITY AND/OR HYPONATREMIA  \n",
       "4               CONGESTIVE HEART FAILURE UNSPECIFIED  \n",
       "5                                  OTHER CONVULSIONS  \n",
       "6                          PURE HYPERCHOLESTEROLEMIA  \n",
       "7                 UNSPECIFIED ESSENTIAL HYPERTENSION  \n",
       "8  SUBENDOCARDIAL INFARCTION INITIAL EPISODE OF CARE  \n",
       "9               CONGESTIVE HEART FAILURE UNSPECIFIED  "
      ]
     },
     "execution_count": 7,
     "metadata": {},
     "output_type": "execute_result"
    }
   ],
   "source": [
    "query = \"\"\"\n",
    "SELECT * FROM icd9\n",
    "LIMIT 10;\n",
    "\"\"\"\n",
    "df = pd.read_sql(query, conn)\n",
    "df.head(10)"
   ]
  },
  {
   "cell_type": "code",
   "execution_count": null,
   "metadata": {},
   "outputs": [],
   "source": []
  },
  {
   "cell_type": "markdown",
   "metadata": {},
   "source": [
    "### Most common codes\n",
    "Let's see which codes are used most frequently in MIMIC.\n",
    "\n",
    "#### TODO\n",
    "Write a query to get the `code` and `description` columns from `icd9`, along with a column called `n` which counts how many times they appear in the table."
   ]
  },
  {
   "cell_type": "code",
   "execution_count": 8,
   "metadata": {},
   "outputs": [],
   "source": [
    "query = \"\"\"\n",
    "SELECT code, description, COUNT(*) n\n",
    "FROM icd9\n",
    "GROUP BY code, description\n",
    "ORDER BY COUNT(*) DESC\n",
    "\"\"\""
   ]
  },
  {
   "cell_type": "code",
   "execution_count": 9,
   "metadata": {},
   "outputs": [
    {
     "name": "stderr",
     "output_type": "stream",
     "text": [
      "/Users/alecchapman/opt/miniconda3/envs/phs/lib/python3.9/site-packages/pandas/io/sql.py:761: UserWarning: pandas only support SQLAlchemy connectable(engine/connection) ordatabase string URI or sqlite3 DBAPI2 connectionother DBAPI2 objects are not tested, please consider using SQLAlchemy\n",
      "  warnings.warn(\n"
     ]
    }
   ],
   "source": [
    "icd_counts = pd.read_sql(query, conn)"
   ]
  },
  {
   "cell_type": "code",
   "execution_count": 10,
   "metadata": {},
   "outputs": [
    {
     "data": {
      "text/html": [
       "<div>\n",
       "<style scoped>\n",
       "    .dataframe tbody tr th:only-of-type {\n",
       "        vertical-align: middle;\n",
       "    }\n",
       "\n",
       "    .dataframe tbody tr th {\n",
       "        vertical-align: top;\n",
       "    }\n",
       "\n",
       "    .dataframe thead th {\n",
       "        text-align: right;\n",
       "    }\n",
       "</style>\n",
       "<table border=\"1\" class=\"dataframe\">\n",
       "  <thead>\n",
       "    <tr style=\"text-align: right;\">\n",
       "      <th></th>\n",
       "      <th>code</th>\n",
       "      <th>description</th>\n",
       "      <th>n</th>\n",
       "    </tr>\n",
       "  </thead>\n",
       "  <tbody>\n",
       "    <tr>\n",
       "      <th>0</th>\n",
       "      <td>401.9</td>\n",
       "      <td>UNSPECIFIED ESSENTIAL HYPERTENSION</td>\n",
       "      <td>1441</td>\n",
       "    </tr>\n",
       "    <tr>\n",
       "      <th>1</th>\n",
       "      <td>428.0</td>\n",
       "      <td>CONGESTIVE HEART FAILURE UNSPECIFIED</td>\n",
       "      <td>1330</td>\n",
       "    </tr>\n",
       "    <tr>\n",
       "      <th>2</th>\n",
       "      <td>427.31</td>\n",
       "      <td>ATRIAL FIBRILLATION</td>\n",
       "      <td>1197</td>\n",
       "    </tr>\n",
       "    <tr>\n",
       "      <th>3</th>\n",
       "      <td>518.81</td>\n",
       "      <td>ACUTE RESPIRATORY FAILURE</td>\n",
       "      <td>890</td>\n",
       "    </tr>\n",
       "    <tr>\n",
       "      <th>4</th>\n",
       "      <td>584.9</td>\n",
       "      <td>ACUTE RENAL FAILURE UNSPECIFIED</td>\n",
       "      <td>852</td>\n",
       "    </tr>\n",
       "  </tbody>\n",
       "</table>\n",
       "</div>"
      ],
      "text/plain": [
       "     code                           description     n\n",
       "0   401.9    UNSPECIFIED ESSENTIAL HYPERTENSION  1441\n",
       "1   428.0  CONGESTIVE HEART FAILURE UNSPECIFIED  1330\n",
       "2  427.31                   ATRIAL FIBRILLATION  1197\n",
       "3  518.81             ACUTE RESPIRATORY FAILURE   890\n",
       "4   584.9       ACUTE RENAL FAILURE UNSPECIFIED   852"
      ]
     },
     "execution_count": 10,
     "metadata": {},
     "output_type": "execute_result"
    }
   ],
   "source": [
    "icd_counts.head()"
   ]
  },
  {
   "cell_type": "markdown",
   "metadata": {},
   "source": [
    "#### TODO\n",
    "How many *unique* diagnosis codes are there in `icd9`?"
   ]
  },
  {
   "cell_type": "code",
   "execution_count": 11,
   "metadata": {},
   "outputs": [
    {
     "data": {
      "application/vnd.jupyter.widget-view+json": {
       "model_id": "a5b1554979874604a244c97fa8e50d8a",
       "version_major": 2,
       "version_minor": 0
      },
      "text/plain": [
       "VBox(children=(HTML(value=''), Textarea(value='', placeholder='Type something'), Button(description='Submit', …"
      ]
     },
     "metadata": {},
     "output_type": "display_data"
    },
    {
     "data": {
      "text/plain": []
     },
     "execution_count": 11,
     "metadata": {},
     "output_type": "execute_result"
    }
   ],
   "source": [
    "# RUN CELL TO SEE QUIZ\n",
    "quiz_unique_icd"
   ]
  },
  {
   "cell_type": "code",
   "execution_count": 12,
   "metadata": {},
   "outputs": [
    {
     "data": {
      "text/plain": [
       "3864"
      ]
     },
     "execution_count": 12,
     "metadata": {},
     "output_type": "execute_result"
    }
   ],
   "source": [
    "len(icd_counts)"
   ]
  },
  {
   "cell_type": "markdown",
   "metadata": {},
   "source": [
    "#### TODO\n",
    "How many *total* diagnosis codes are there in `icd9`?"
   ]
  },
  {
   "cell_type": "code",
   "execution_count": 13,
   "metadata": {},
   "outputs": [
    {
     "data": {
      "application/vnd.jupyter.widget-view+json": {
       "model_id": "929fff40961d425285c5dace1187a871",
       "version_major": 2,
       "version_minor": 0
      },
      "text/plain": [
       "VBox(children=(HTML(value=''), Textarea(value='', placeholder='Type something'), Button(description='Submit', …"
      ]
     },
     "metadata": {},
     "output_type": "display_data"
    },
    {
     "data": {
      "text/plain": []
     },
     "execution_count": 13,
     "metadata": {},
     "output_type": "execute_result"
    }
   ],
   "source": [
    "# RUN CELL TO SEE QUIZ\n",
    "quiz_total_icd9"
   ]
  },
  {
   "cell_type": "code",
   "execution_count": 14,
   "metadata": {},
   "outputs": [
    {
     "data": {
      "text/plain": [
       "53486"
      ]
     },
     "execution_count": 14,
     "metadata": {},
     "output_type": "execute_result"
    }
   ],
   "source": [
    "icd_counts[\"n\"].sum()"
   ]
  },
  {
   "cell_type": "code",
   "execution_count": null,
   "metadata": {},
   "outputs": [],
   "source": []
  },
  {
   "cell_type": "markdown",
   "metadata": {},
   "source": [
    "#### TODO\n",
    "Create a plot showing the counts of the **10 most common** ICD-9 codes. Display the **description** on one of the axes."
   ]
  },
  {
   "cell_type": "code",
   "execution_count": 15,
   "metadata": {},
   "outputs": [
    {
     "data": {
      "application/vnd.jupyter.widget-view+json": {
       "model_id": "7d4ce040aeca4cb3a78086a18be6139f",
       "version_major": 2,
       "version_minor": 0
      },
      "text/plain": [
       "VBox(children=(HTML(value='</br><strong>Displaying hint 0/1</strong>'), Output(), Button(description='Get hint…"
      ]
     },
     "metadata": {},
     "output_type": "display_data"
    },
    {
     "data": {
      "text/plain": []
     },
     "execution_count": 15,
     "metadata": {},
     "output_type": "execute_result"
    }
   ],
   "source": [
    "# RUN CELL TO SEE QUIZ\n",
    "hint_plot_icd9_counts"
   ]
  },
  {
   "cell_type": "code",
   "execution_count": 16,
   "metadata": {},
   "outputs": [
    {
     "name": "stderr",
     "output_type": "stream",
     "text": [
      "/Users/alecchapman/opt/miniconda3/envs/phs/lib/python3.9/site-packages/IPython/core/pylabtools.py:151: UserWarning: Glyph 13 (\r",
      ") missing from current font.\n",
      "  fig.canvas.print_figure(bytes_io, **kw)\n"
     ]
    },
    {
     "data": {
      "image/png": "[encoded data removed]",
      "text/plain": [
       "<Figure size 432x288 with 1 Axes>"
      ]
     },
     "metadata": {
      "needs_background": "light"
     },
     "output_type": "display_data"
    }
   ],
   "source": [
    "sns.barplot(y=\"description\", x=\"n\", data=icd_counts.iloc[:10]);"
   ]
  },
  {
   "cell_type": "code",
   "execution_count": null,
   "metadata": {},
   "outputs": [],
   "source": []
  },
  {
   "cell_type": "markdown",
   "metadata": {},
   "source": [
    "## Creating patient cohorts\n",
    "\n",
    "Research projects typically create a dataset from a particular **patient cohort** which is defined some common attributes among a set of patients. This criterion will often include a particular diagnosis. For example, we might want to identify all patients who had a diagnosis \n",
    "\n",
    "For example, if we want to create a cohort of patients with diabetes, we could run a query like this to identify all hospitalizations with the code **250.00: Diabetes Mellitus w/o Complications Type II**:"
   ]
  },
  {
   "cell_type": "code",
   "execution_count": 38,
   "metadata": {
    "scrolled": true
   },
   "outputs": [
    {
     "name": "stderr",
     "output_type": "stream",
     "text": [
      "/Users/alecchapman/opt/miniconda3/envs/phs/lib/python3.9/site-packages/pandas/io/sql.py:761: UserWarning: pandas only support SQLAlchemy connectable(engine/connection) ordatabase string URI or sqlite3 DBAPI2 connectionother DBAPI2 objects are not tested, please consider using SQLAlchemy\n",
      "  warnings.warn(\n"
     ]
    },
    {
     "data": {
      "text/html": [
       "<div>\n",
       "<style scoped>\n",
       "    .dataframe tbody tr th:only-of-type {\n",
       "        vertical-align: middle;\n",
       "    }\n",
       "\n",
       "    .dataframe tbody tr th {\n",
       "        vertical-align: top;\n",
       "    }\n",
       "\n",
       "    .dataframe thead th {\n",
       "        text-align: right;\n",
       "    }\n",
       "</style>\n",
       "<table border=\"1\" class=\"dataframe\">\n",
       "  <thead>\n",
       "    <tr style=\"text-align: right;\">\n",
       "      <th></th>\n",
       "      <th>subject_id</th>\n",
       "      <th>hadm_id</th>\n",
       "      <th>sequence</th>\n",
       "      <th>code</th>\n",
       "      <th>description</th>\n",
       "    </tr>\n",
       "  </thead>\n",
       "  <tbody>\n",
       "    <tr>\n",
       "      <th>0</th>\n",
       "      <td>37</td>\n",
       "      <td>18052</td>\n",
       "      <td>8</td>\n",
       "      <td>250.00</td>\n",
       "      <td>DIABETES MELLITUS WITHOUT COMPLICATION TYPE II...</td>\n",
       "    </tr>\n",
       "    <tr>\n",
       "      <th>1</th>\n",
       "      <td>21</td>\n",
       "      <td>20666</td>\n",
       "      <td>12</td>\n",
       "      <td>250.00</td>\n",
       "      <td>DIABETES MELLITUS WITHOUT COMPLICATION TYPE II...</td>\n",
       "    </tr>\n",
       "    <tr>\n",
       "      <th>2</th>\n",
       "      <td>21</td>\n",
       "      <td>20882</td>\n",
       "      <td>13</td>\n",
       "      <td>250.00</td>\n",
       "      <td>DIABETES MELLITUS W/OUT                 \\r</td>\n",
       "    </tr>\n",
       "    <tr>\n",
       "      <th>3</th>\n",
       "      <td>83</td>\n",
       "      <td>1459</td>\n",
       "      <td>8</td>\n",
       "      <td>250.00</td>\n",
       "      <td>DIABETES MELLITUS WITHOUT COMPLICATION TYPE II...</td>\n",
       "    </tr>\n",
       "    <tr>\n",
       "      <th>4</th>\n",
       "      <td>117</td>\n",
       "      <td>4106</td>\n",
       "      <td>9</td>\n",
       "      <td>250.00</td>\n",
       "      <td>DIABETES MELLITUS WITHOUT COMPLICATION TYPE II...</td>\n",
       "    </tr>\n",
       "    <tr>\n",
       "      <th>5</th>\n",
       "      <td>117</td>\n",
       "      <td>14296</td>\n",
       "      <td>20</td>\n",
       "      <td>250.00</td>\n",
       "      <td>DIABETES MELLITUS W/OUT                 \\r</td>\n",
       "    </tr>\n",
       "    <tr>\n",
       "      <th>6</th>\n",
       "      <td>235</td>\n",
       "      <td>23806</td>\n",
       "      <td>5</td>\n",
       "      <td>250.00</td>\n",
       "      <td>DIABETES MELLITUS WITHOUT COMPLICATION TYPE II...</td>\n",
       "    </tr>\n",
       "    <tr>\n",
       "      <th>7</th>\n",
       "      <td>184</td>\n",
       "      <td>17249</td>\n",
       "      <td>5</td>\n",
       "      <td>250.00</td>\n",
       "      <td>DIABETES MELLITUS WITHOUT COMPLICATION TYPE II...</td>\n",
       "    </tr>\n",
       "    <tr>\n",
       "      <th>8</th>\n",
       "      <td>224</td>\n",
       "      <td>11004</td>\n",
       "      <td>4</td>\n",
       "      <td>250.00</td>\n",
       "      <td>DIABETES MELLITUS WITHOUT COMPLICATION TYPE II...</td>\n",
       "    </tr>\n",
       "    <tr>\n",
       "      <th>9</th>\n",
       "      <td>157</td>\n",
       "      <td>28307</td>\n",
       "      <td>18</td>\n",
       "      <td>250.00</td>\n",
       "      <td>DIABETES MELLITUS W/OUT                 \\r</td>\n",
       "    </tr>\n",
       "  </tbody>\n",
       "</table>\n",
       "</div>"
      ],
      "text/plain": [
       "   subject_id  hadm_id  sequence    code  \\\n",
       "0          37    18052         8  250.00   \n",
       "1          21    20666        12  250.00   \n",
       "2          21    20882        13  250.00   \n",
       "3          83     1459         8  250.00   \n",
       "4         117     4106         9  250.00   \n",
       "5         117    14296        20  250.00   \n",
       "6         235    23806         5  250.00   \n",
       "7         184    17249         5  250.00   \n",
       "8         224    11004         4  250.00   \n",
       "9         157    28307        18  250.00   \n",
       "\n",
       "                                         description  \n",
       "0  DIABETES MELLITUS WITHOUT COMPLICATION TYPE II...  \n",
       "1  DIABETES MELLITUS WITHOUT COMPLICATION TYPE II...  \n",
       "2         DIABETES MELLITUS W/OUT                 \\r  \n",
       "3  DIABETES MELLITUS WITHOUT COMPLICATION TYPE II...  \n",
       "4  DIABETES MELLITUS WITHOUT COMPLICATION TYPE II...  \n",
       "5         DIABETES MELLITUS W/OUT                 \\r  \n",
       "6  DIABETES MELLITUS WITHOUT COMPLICATION TYPE II...  \n",
       "7  DIABETES MELLITUS WITHOUT COMPLICATION TYPE II...  \n",
       "8  DIABETES MELLITUS WITHOUT COMPLICATION TYPE II...  \n",
       "9         DIABETES MELLITUS W/OUT                 \\r  "
      ]
     },
     "execution_count": 38,
     "metadata": {},
     "output_type": "execute_result"
    }
   ],
   "source": [
    "query = \"\"\"\n",
    "SELECT *\n",
    "FROM icd9\n",
    "WHERE code = '250.00'\n",
    "LIMIT 10\n",
    "\"\"\"\n",
    "pd.read_sql(query, conn)"
   ]
  },
  {
   "cell_type": "code",
   "execution_count": null,
   "metadata": {},
   "outputs": [],
   "source": []
  },
  {
   "cell_type": "markdown",
   "metadata": {},
   "source": [
    "### `DISTINCT` and `LIKE`\n",
    "The last query gave us the first 10 rows of `icd9` which had a particular diabetes code. But there are codes which represent diabetes. Additionally, instead of identifying all hospitalizations which had this code, maybe we just want a unique list of ICD-9 codes to use as a **value set** for building datasets.\n",
    "\n",
    "Two keywords which can help us here are `DISTINCT` and `LIKE`. The `DISTINCT` keyword deduplicates the values in your `SELECT` statement. So the code below returns all unique code/description pairs for this particular ICD-9 code:"
   ]
  },
  {
   "cell_type": "code",
   "execution_count": 20,
   "metadata": {},
   "outputs": [
    {
     "name": "stderr",
     "output_type": "stream",
     "text": [
      "/Users/alecchapman/opt/miniconda3/envs/phs/lib/python3.9/site-packages/pandas/io/sql.py:761: UserWarning: pandas only support SQLAlchemy connectable(engine/connection) ordatabase string URI or sqlite3 DBAPI2 connectionother DBAPI2 objects are not tested, please consider using SQLAlchemy\n",
      "  warnings.warn(\n"
     ]
    },
    {
     "data": {
      "text/html": [
       "<div>\n",
       "<style scoped>\n",
       "    .dataframe tbody tr th:only-of-type {\n",
       "        vertical-align: middle;\n",
       "    }\n",
       "\n",
       "    .dataframe tbody tr th {\n",
       "        vertical-align: top;\n",
       "    }\n",
       "\n",
       "    .dataframe thead th {\n",
       "        text-align: right;\n",
       "    }\n",
       "</style>\n",
       "<table border=\"1\" class=\"dataframe\">\n",
       "  <thead>\n",
       "    <tr style=\"text-align: right;\">\n",
       "      <th></th>\n",
       "      <th>code</th>\n",
       "      <th>description</th>\n",
       "    </tr>\n",
       "  </thead>\n",
       "  <tbody>\n",
       "    <tr>\n",
       "      <th>0</th>\n",
       "      <td>250.00</td>\n",
       "      <td>DIABETES MELLITUS WITHOUT COMPLICATION TYPE II...</td>\n",
       "    </tr>\n",
       "    <tr>\n",
       "      <th>1</th>\n",
       "      <td>250.00</td>\n",
       "      <td>DIABETES MELLITUS W/OUT                 \\r</td>\n",
       "    </tr>\n",
       "  </tbody>\n",
       "</table>\n",
       "</div>"
      ],
      "text/plain": [
       "     code                                        description\n",
       "0  250.00  DIABETES MELLITUS WITHOUT COMPLICATION TYPE II...\n",
       "1  250.00         DIABETES MELLITUS W/OUT                 \\r"
      ]
     },
     "execution_count": 20,
     "metadata": {},
     "output_type": "execute_result"
    }
   ],
   "source": [
    "query = \"\"\"\n",
    "SELECT DISTINCT code, description\n",
    "FROM icd9\n",
    "WHERE code = '250.00';\n",
    "\"\"\"\n",
    "pd.read_sql(query, conn)"
   ]
  },
  {
   "cell_type": "markdown",
   "metadata": {},
   "source": [
    "The `LIKE` statement lets us do wildcard searches to match part of a text column, where `'%'` is used to represent any character. So by replacing the `WHERE` clause above to `description LIKE '%diabetes%'`, we can find all rows in the table whhere the description column contains \"diabetes\". Then we can use `DISTINCT` to deduplicate them."
   ]
  },
  {
   "cell_type": "code",
   "execution_count": 22,
   "metadata": {
    "scrolled": true
   },
   "outputs": [
    {
     "name": "stderr",
     "output_type": "stream",
     "text": [
      "/Users/alecchapman/opt/miniconda3/envs/phs/lib/python3.9/site-packages/pandas/io/sql.py:761: UserWarning: pandas only support SQLAlchemy connectable(engine/connection) ordatabase string URI or sqlite3 DBAPI2 connectionother DBAPI2 objects are not tested, please consider using SQLAlchemy\n",
      "  warnings.warn(\n"
     ]
    },
    {
     "data": {
      "text/html": [
       "<div>\n",
       "<style scoped>\n",
       "    .dataframe tbody tr th:only-of-type {\n",
       "        vertical-align: middle;\n",
       "    }\n",
       "\n",
       "    .dataframe tbody tr th {\n",
       "        vertical-align: top;\n",
       "    }\n",
       "\n",
       "    .dataframe thead th {\n",
       "        text-align: right;\n",
       "    }\n",
       "</style>\n",
       "<table border=\"1\" class=\"dataframe\">\n",
       "  <thead>\n",
       "    <tr style=\"text-align: right;\">\n",
       "      <th></th>\n",
       "      <th>code</th>\n",
       "      <th>description</th>\n",
       "    </tr>\n",
       "  </thead>\n",
       "  <tbody>\n",
       "    <tr>\n",
       "      <th>0</th>\n",
       "      <td>250.00</td>\n",
       "      <td>DIABETES MELLITUS WITHOUT COMPLICATION TYPE II...</td>\n",
       "    </tr>\n",
       "    <tr>\n",
       "      <th>1</th>\n",
       "      <td>250.00</td>\n",
       "      <td>DIABETES MELLITUS W/OUT                 \\r</td>\n",
       "    </tr>\n",
       "    <tr>\n",
       "      <th>2</th>\n",
       "      <td>250.82</td>\n",
       "      <td>DIABETES MELLITUS WITH OTHER SPECIFIED MANIFES...</td>\n",
       "    </tr>\n",
       "    <tr>\n",
       "      <th>3</th>\n",
       "      <td>250.60</td>\n",
       "      <td>DIABETES MELLITUS WITH NEUROLOGICAL MANIFESTAT...</td>\n",
       "    </tr>\n",
       "    <tr>\n",
       "      <th>4</th>\n",
       "      <td>357.2</td>\n",
       "      <td>POLYNEUROPATHY IN DIABETES</td>\n",
       "    </tr>\n",
       "    <tr>\n",
       "      <th>...</th>\n",
       "      <td>...</td>\n",
       "      <td>...</td>\n",
       "    </tr>\n",
       "    <tr>\n",
       "      <th>68</th>\n",
       "      <td>250.10</td>\n",
       "      <td>DIABETES W/KETOACIDOSIS                 \\r</td>\n",
       "    </tr>\n",
       "    <tr>\n",
       "      <th>69</th>\n",
       "      <td>250.30</td>\n",
       "      <td>DIABETES W/OTH COMA, TYP                \\r</td>\n",
       "    </tr>\n",
       "    <tr>\n",
       "      <th>70</th>\n",
       "      <td>250.31</td>\n",
       "      <td>DIABETES MELLITUS WITH OTHER COMA TYPE I NOT S...</td>\n",
       "    </tr>\n",
       "    <tr>\n",
       "      <th>71</th>\n",
       "      <td>250.03</td>\n",
       "      <td>DIABETES MELLITUS WITHOUT COMPLICATION TYPE I ...</td>\n",
       "    </tr>\n",
       "    <tr>\n",
       "      <th>72</th>\n",
       "      <td>250.83</td>\n",
       "      <td>DIABETES MELLITUS WITH OTHER SPECIFIED MANIFES...</td>\n",
       "    </tr>\n",
       "  </tbody>\n",
       "</table>\n",
       "<p>73 rows × 2 columns</p>\n",
       "</div>"
      ],
      "text/plain": [
       "      code                                        description\n",
       "0   250.00  DIABETES MELLITUS WITHOUT COMPLICATION TYPE II...\n",
       "1   250.00         DIABETES MELLITUS W/OUT                 \\r\n",
       "2   250.82  DIABETES MELLITUS WITH OTHER SPECIFIED MANIFES...\n",
       "3   250.60  DIABETES MELLITUS WITH NEUROLOGICAL MANIFESTAT...\n",
       "4    357.2                         POLYNEUROPATHY IN DIABETES\n",
       "..     ...                                                ...\n",
       "68  250.10         DIABETES W/KETOACIDOSIS                 \\r\n",
       "69  250.30         DIABETES W/OTH COMA, TYP                \\r\n",
       "70  250.31  DIABETES MELLITUS WITH OTHER COMA TYPE I NOT S...\n",
       "71  250.03  DIABETES MELLITUS WITHOUT COMPLICATION TYPE I ...\n",
       "72  250.83  DIABETES MELLITUS WITH OTHER SPECIFIED MANIFES...\n",
       "\n",
       "[73 rows x 2 columns]"
      ]
     },
     "execution_count": 22,
     "metadata": {},
     "output_type": "execute_result"
    }
   ],
   "source": [
    "query = \"\"\"\n",
    "SELECT DISTINCT code, description\n",
    "FROM icd9\n",
    "WHERE description LIKE '%diabetes%';\n",
    "\"\"\"\n",
    "pd.read_sql(query, conn)"
   ]
  },
  {
   "cell_type": "code",
   "execution_count": null,
   "metadata": {},
   "outputs": [],
   "source": []
  },
  {
   "cell_type": "code",
   "execution_count": 83,
   "metadata": {
    "scrolled": true
   },
   "outputs": [
    {
     "name": "stderr",
     "output_type": "stream",
     "text": [
      "/Users/alecchapman/opt/miniconda3/envs/phs/lib/python3.9/site-packages/pandas/io/sql.py:761: UserWarning: pandas only support SQLAlchemy connectable(engine/connection) ordatabase string URI or sqlite3 DBAPI2 connectionother DBAPI2 objects are not tested, please consider using SQLAlchemy\n",
      "  warnings.warn(\n"
     ]
    },
    {
     "data": {
      "text/html": [
       "<div>\n",
       "<style scoped>\n",
       "    .dataframe tbody tr th:only-of-type {\n",
       "        vertical-align: middle;\n",
       "    }\n",
       "\n",
       "    .dataframe tbody tr th {\n",
       "        vertical-align: top;\n",
       "    }\n",
       "\n",
       "    .dataframe thead th {\n",
       "        text-align: right;\n",
       "    }\n",
       "</style>\n",
       "<table border=\"1\" class=\"dataframe\">\n",
       "  <thead>\n",
       "    <tr style=\"text-align: right;\">\n",
       "      <th></th>\n",
       "      <th>code</th>\n",
       "      <th>description</th>\n",
       "      <th>n</th>\n",
       "    </tr>\n",
       "  </thead>\n",
       "  <tbody>\n",
       "    <tr>\n",
       "      <th>0</th>\n",
       "      <td>250.00</td>\n",
       "      <td>DIABETES MELLITUS WITHOUT COMPLICATION TYPE II...</td>\n",
       "      <td>662</td>\n",
       "    </tr>\n",
       "    <tr>\n",
       "      <th>1</th>\n",
       "      <td>250.00</td>\n",
       "      <td>DIABETES MELLITUS W/OUT                 \\r</td>\n",
       "      <td>162</td>\n",
       "    </tr>\n",
       "    <tr>\n",
       "      <th>2</th>\n",
       "      <td>250.40</td>\n",
       "      <td>DIABETES MELLITUS WITH RENAL MANIFESTATIONS TY...</td>\n",
       "      <td>102</td>\n",
       "    </tr>\n",
       "    <tr>\n",
       "      <th>3</th>\n",
       "      <td>357.2</td>\n",
       "      <td>POLYNEUROPATHY IN DIABETES</td>\n",
       "      <td>67</td>\n",
       "    </tr>\n",
       "    <tr>\n",
       "      <th>4</th>\n",
       "      <td>250.60</td>\n",
       "      <td>DIABETES MELLITUS WITH NEUROLOGICAL MANIFESTAT...</td>\n",
       "      <td>60</td>\n",
       "    </tr>\n",
       "    <tr>\n",
       "      <th>...</th>\n",
       "      <td>...</td>\n",
       "      <td>...</td>\n",
       "      <td>...</td>\n",
       "    </tr>\n",
       "    <tr>\n",
       "      <th>68</th>\n",
       "      <td>250.30</td>\n",
       "      <td>DIABETES MELLITUS WITH OTHER COMA TYPE II OR U...</td>\n",
       "      <td>1</td>\n",
       "    </tr>\n",
       "    <tr>\n",
       "      <th>69</th>\n",
       "      <td>250.03</td>\n",
       "      <td>DIABETES MELLITUS WITHOUT COMPLICATION TYPE I ...</td>\n",
       "      <td>1</td>\n",
       "    </tr>\n",
       "    <tr>\n",
       "      <th>70</th>\n",
       "      <td>250.30</td>\n",
       "      <td>DIABETES W/OTH COMA, TYP                \\r</td>\n",
       "      <td>1</td>\n",
       "    </tr>\n",
       "    <tr>\n",
       "      <th>71</th>\n",
       "      <td>250.21</td>\n",
       "      <td>DIABETES W/HYPEROSMOLARI                \\r</td>\n",
       "      <td>1</td>\n",
       "    </tr>\n",
       "    <tr>\n",
       "      <th>72</th>\n",
       "      <td>250.31</td>\n",
       "      <td>DIABETES MELLITUS WITH OTHER COMA TYPE I NOT S...</td>\n",
       "      <td>1</td>\n",
       "    </tr>\n",
       "  </tbody>\n",
       "</table>\n",
       "<p>73 rows × 3 columns</p>\n",
       "</div>"
      ],
      "text/plain": [
       "      code                                        description    n\n",
       "0   250.00  DIABETES MELLITUS WITHOUT COMPLICATION TYPE II...  662\n",
       "1   250.00         DIABETES MELLITUS W/OUT                 \\r  162\n",
       "2   250.40  DIABETES MELLITUS WITH RENAL MANIFESTATIONS TY...  102\n",
       "3    357.2                         POLYNEUROPATHY IN DIABETES   67\n",
       "4   250.60  DIABETES MELLITUS WITH NEUROLOGICAL MANIFESTAT...   60\n",
       "..     ...                                                ...  ...\n",
       "68  250.30  DIABETES MELLITUS WITH OTHER COMA TYPE II OR U...    1\n",
       "69  250.03  DIABETES MELLITUS WITHOUT COMPLICATION TYPE I ...    1\n",
       "70  250.30         DIABETES W/OTH COMA, TYP                \\r    1\n",
       "71  250.21         DIABETES W/HYPEROSMOLARI                \\r    1\n",
       "72  250.31  DIABETES MELLITUS WITH OTHER COMA TYPE I NOT S...    1\n",
       "\n",
       "[73 rows x 3 columns]"
      ]
     },
     "execution_count": 83,
     "metadata": {},
     "output_type": "execute_result"
    }
   ],
   "source": [
    "query = \"\"\"\n",
    "SELECT code, description, COUNT(DISTINCT subject_id) n\n",
    "FROM icd9\n",
    "WHERE description LIKE '%diabetes%'\n",
    "GROUP BY code, description\n",
    "ORDER BY COUNT(DISTINCT subject_id) DESC;\n",
    "\"\"\"\n",
    "pd.read_sql(query, conn)"
   ]
  },
  {
   "cell_type": "code",
   "execution_count": null,
   "metadata": {},
   "outputs": [],
   "source": []
  },
  {
   "cell_type": "markdown",
   "metadata": {},
   "source": [
    "#### TODO\n",
    "Write and execute a query which returns all *unique* code/description pairs containing the word **pneumonia**. Save the result as `pna_codes`."
   ]
  },
  {
   "cell_type": "code",
   "execution_count": 23,
   "metadata": {},
   "outputs": [
    {
     "name": "stderr",
     "output_type": "stream",
     "text": [
      "/Users/alecchapman/opt/miniconda3/envs/phs/lib/python3.9/site-packages/pandas/io/sql.py:761: UserWarning: pandas only support SQLAlchemy connectable(engine/connection) ordatabase string URI or sqlite3 DBAPI2 connectionother DBAPI2 objects are not tested, please consider using SQLAlchemy\n",
      "  warnings.warn(\n"
     ]
    }
   ],
   "source": [
    "query = \"\"\"\n",
    "SELECT DISTINCT code, description\n",
    "FROM icd9\n",
    "WHERE description LIKE '%pneumonia%'\n",
    "\"\"\"\n",
    "pna_codes = pd.read_sql(query, conn)"
   ]
  },
  {
   "cell_type": "code",
   "execution_count": 25,
   "metadata": {},
   "outputs": [
    {
     "data": {
      "text/html": [
       "<div>\n",
       "<style scoped>\n",
       "    .dataframe tbody tr th:only-of-type {\n",
       "        vertical-align: middle;\n",
       "    }\n",
       "\n",
       "    .dataframe tbody tr th {\n",
       "        vertical-align: top;\n",
       "    }\n",
       "\n",
       "    .dataframe thead th {\n",
       "        text-align: right;\n",
       "    }\n",
       "</style>\n",
       "<table border=\"1\" class=\"dataframe\">\n",
       "  <thead>\n",
       "    <tr style=\"text-align: right;\">\n",
       "      <th></th>\n",
       "      <th>code</th>\n",
       "      <th>description</th>\n",
       "    </tr>\n",
       "  </thead>\n",
       "  <tbody>\n",
       "    <tr>\n",
       "      <th>0</th>\n",
       "      <td>486</td>\n",
       "      <td>PNEUMONIA ORGANISM UNSPECIFIED</td>\n",
       "    </tr>\n",
       "    <tr>\n",
       "      <th>1</th>\n",
       "      <td>486</td>\n",
       "      <td>PNEUMONIA, ORGANISM NOS                 \\r</td>\n",
       "    </tr>\n",
       "    <tr>\n",
       "      <th>2</th>\n",
       "      <td>482.41</td>\n",
       "      <td>PNEUMONIA STAPHYLOC AURE                \\r</td>\n",
       "    </tr>\n",
       "    <tr>\n",
       "      <th>3</th>\n",
       "      <td>482.89</td>\n",
       "      <td>PNEUMONIA DUE TO OTHER SPECIFIED BACTERIA</td>\n",
       "    </tr>\n",
       "    <tr>\n",
       "      <th>4</th>\n",
       "      <td>482.0</td>\n",
       "      <td>PNEUMONIA DUE TO KLEBSIELLA PNEUMONIAE</td>\n",
       "    </tr>\n",
       "  </tbody>\n",
       "</table>\n",
       "</div>"
      ],
      "text/plain": [
       "     code                                 description\n",
       "0     486              PNEUMONIA ORGANISM UNSPECIFIED\n",
       "1     486  PNEUMONIA, ORGANISM NOS                 \\r\n",
       "2  482.41  PNEUMONIA STAPHYLOC AURE                \\r\n",
       "3  482.89   PNEUMONIA DUE TO OTHER SPECIFIED BACTERIA\n",
       "4   482.0      PNEUMONIA DUE TO KLEBSIELLA PNEUMONIAE"
      ]
     },
     "execution_count": 25,
     "metadata": {},
     "output_type": "execute_result"
    }
   ],
   "source": [
    "pna_codes.head()"
   ]
  },
  {
   "cell_type": "code",
   "execution_count": 26,
   "metadata": {},
   "outputs": [
    {
     "data": {
      "text/plain": [
       "36"
      ]
     },
     "execution_count": 26,
     "metadata": {},
     "output_type": "execute_result"
    }
   ],
   "source": [
    "len(pna_codes)"
   ]
  },
  {
   "cell_type": "code",
   "execution_count": 32,
   "metadata": {},
   "outputs": [],
   "source": [
    "def test_pna_codes_validation_func(actual):\n",
    "    import pandas as pd\n",
    "    if not isinstance(actual, pd.DataFrame):\n",
    "        print(f\"Incorrect. pna_codes should be a pandas DataFrame, not {type(actual)}\")\n",
    "        return\n",
    "    if len(actual) != 36:\n",
    "        print(f\"Incorrect. pna_codes should have 36 rows. Your dataframe had {len(actual)}.\")\n",
    "        return\n",
    "    if len(actual.columns) != 2 or {\"code\", \"description\"}.intersection(set(actual.columns)) != {\"code\", \"description\"}:\n",
    "        print(\n",
    "            f\"Incorrect. pna_codes should have exactly 2 columns: 'code' and 'description'. Your dataframe has columns {list(actual.columns)}\")\n",
    "        return\n",
    "    if {\"486\", \"482.41\"}.difference(set(actual[\"code\"])):\n",
    "        print(\n",
    "            f\"Incorrect. pna_codes should include codes '486' and '482.41'. Your dataframe has columns {list(actual.columns)}\")\n",
    "        return\n",
    "    print(\"That is correct!\")\n",
    "test_pna_codes = ValueTest(validation_func=test_pna_codes_validation_func)"
   ]
  },
  {
   "cell_type": "code",
   "execution_count": 34,
   "metadata": {},
   "outputs": [
    {
     "name": "stdout",
     "output_type": "stream",
     "text": [
      "That is correct!\n"
     ]
    }
   ],
   "source": [
    "test_pna_codes.test(pna_codes)"
   ]
  },
  {
   "cell_type": "code",
   "execution_count": null,
   "metadata": {},
   "outputs": [],
   "source": []
  },
  {
   "cell_type": "markdown",
   "metadata": {},
   "source": [
    "## Patient characteristics\n",
    "Now that we know how to identify particular diagnoses, let's next study the characteristics of patients with those diagnoses.\n",
    "\n",
    "The `icd9` column contains two columns which can be used to join to the tables `d_patients` and `demographic_detail`."
   ]
  },
  {
   "cell_type": "code",
   "execution_count": 41,
   "metadata": {},
   "outputs": [
    {
     "data": {
      "application/vnd.jupyter.widget-view+json": {
       "model_id": "2d69ee8de38f487589d26b8afa36af4b",
       "version_major": 2,
       "version_minor": 0
      },
      "text/plain": [
       "VBox(children=(HTML(value='<h4>TODO</h4>Which column(s)can be used to join icd9 with d_patients?'), SelectMult…"
      ]
     },
     "metadata": {},
     "output_type": "display_data"
    },
    {
     "data": {
      "text/plain": []
     },
     "execution_count": 41,
     "metadata": {},
     "output_type": "execute_result"
    }
   ],
   "source": [
    "# RUN CELL TO SEE QUIZ\n",
    "quiz_icd9_join_d_patients"
   ]
  },
  {
   "cell_type": "code",
   "execution_count": 44,
   "metadata": {},
   "outputs": [
    {
     "data": {
      "application/vnd.jupyter.widget-view+json": {
       "model_id": "15dee642ae7a4b4f9e52cecbac70a220",
       "version_major": 2,
       "version_minor": 0
      },
      "text/plain": [
       "VBox(children=(HTML(value='<h4>TODO</h4>Which column(s)can be used to join icd9 with demographic_detail?'), Se…"
      ]
     },
     "metadata": {},
     "output_type": "display_data"
    },
    {
     "data": {
      "text/plain": []
     },
     "execution_count": 44,
     "metadata": {},
     "output_type": "execute_result"
    }
   ],
   "source": [
    "# RUN CELL TO SEE QUIZ\n",
    "quiz_icd9_join_demographic_detail"
   ]
  },
  {
   "cell_type": "markdown",
   "metadata": {},
   "source": [
    "### `COUNT(DISTINCT ...)`\n",
    "`icd9` and `demographic_detail` are both at the **hospitalization** level, meaning each row represents a unique hospitalization, while `d_patients` is at the **patient** level. That means that selecting  `COUNT(*)` from `demographic_detail` or `icd9` will give us a count of of hospitalizations, not patients.\n",
    "\n",
    "One way we could count the number of patients is by selecting `COUNT(DISTINCT subject_id)`. This first deduplicates the results by `subject_id`, then returns a count of the deduplicated set of patients.\n",
    "\n",
    "Let's say we want to count the total number of patients who have had diabetes during any of their hospitalizations. We could write the following query:"
   ]
  },
  {
   "cell_type": "code",
   "execution_count": 45,
   "metadata": {},
   "outputs": [
    {
     "name": "stderr",
     "output_type": "stream",
     "text": [
      "/Users/alecchapman/opt/miniconda3/envs/phs/lib/python3.9/site-packages/pandas/io/sql.py:761: UserWarning: pandas only support SQLAlchemy connectable(engine/connection) ordatabase string URI or sqlite3 DBAPI2 connectionother DBAPI2 objects are not tested, please consider using SQLAlchemy\n",
      "  warnings.warn(\n"
     ]
    },
    {
     "data": {
      "text/html": [
       "<div>\n",
       "<style scoped>\n",
       "    .dataframe tbody tr th:only-of-type {\n",
       "        vertical-align: middle;\n",
       "    }\n",
       "\n",
       "    .dataframe tbody tr th {\n",
       "        vertical-align: top;\n",
       "    }\n",
       "\n",
       "    .dataframe thead th {\n",
       "        text-align: right;\n",
       "    }\n",
       "</style>\n",
       "<table border=\"1\" class=\"dataframe\">\n",
       "  <thead>\n",
       "    <tr style=\"text-align: right;\">\n",
       "      <th></th>\n",
       "      <th>n</th>\n",
       "    </tr>\n",
       "  </thead>\n",
       "  <tbody>\n",
       "    <tr>\n",
       "      <th>0</th>\n",
       "      <td>1087</td>\n",
       "    </tr>\n",
       "  </tbody>\n",
       "</table>\n",
       "</div>"
      ],
      "text/plain": [
       "      n\n",
       "0  1087"
      ]
     },
     "execution_count": 45,
     "metadata": {},
     "output_type": "execute_result"
    }
   ],
   "source": [
    "query = \"\"\"\n",
    "SELECT COUNT(DISTINCT subject_id) n\n",
    "FROM icd9\n",
    "WHERE description LIKE '%diabetes%'\n",
    "\"\"\"\n",
    "pd.read_sql(query, conn)"
   ]
  },
  {
   "cell_type": "code",
   "execution_count": 4,
   "metadata": {},
   "outputs": [
    {
     "data": {
      "application/vnd.jupyter.widget-view+json": {
       "model_id": "061e29d798004e0e9a0bd557dfa1ce93",
       "version_major": 2,
       "version_minor": 0
      },
      "text/plain": [
       "VBox(children=(HTML(value='<h4>TODO</h4>How would you interpret the result of the previous query?'), RadioButt…"
      ]
     },
     "metadata": {},
     "output_type": "display_data"
    },
    {
     "data": {
      "text/plain": []
     },
     "execution_count": 4,
     "metadata": {},
     "output_type": "execute_result"
    }
   ],
   "source": [
    "# RUN CELL TO SEE QUIZ\n",
    "quiz_count_distinct"
   ]
  },
  {
   "cell_type": "markdown",
   "metadata": {},
   "source": [
    "We can also use `COUNT(DISTINCT ...)` with `GROUP BY` queries to count the number of distinct values in each group. For example, the query below counts the number of distinct patients in each ethnic group who had a code for diabetes:"
   ]
  },
  {
   "cell_type": "code",
   "execution_count": 5,
   "metadata": {},
   "outputs": [
    {
     "name": "stderr",
     "output_type": "stream",
     "text": [
      "/Users/alecchapman/opt/miniconda3/envs/phs/lib/python3.9/site-packages/pandas/io/sql.py:761: UserWarning: pandas only support SQLAlchemy connectable(engine/connection) ordatabase string URI or sqlite3 DBAPI2 connectionother DBAPI2 objects are not tested, please consider using SQLAlchemy\n",
      "  warnings.warn(\n"
     ]
    },
    {
     "data": {
      "text/html": [
       "<div>\n",
       "<style scoped>\n",
       "    .dataframe tbody tr th:only-of-type {\n",
       "        vertical-align: middle;\n",
       "    }\n",
       "\n",
       "    .dataframe tbody tr th {\n",
       "        vertical-align: top;\n",
       "    }\n",
       "\n",
       "    .dataframe thead th {\n",
       "        text-align: right;\n",
       "    }\n",
       "</style>\n",
       "<table border=\"1\" class=\"dataframe\">\n",
       "  <thead>\n",
       "    <tr style=\"text-align: right;\">\n",
       "      <th></th>\n",
       "      <th>ethnicity_descr</th>\n",
       "      <th>n</th>\n",
       "    </tr>\n",
       "  </thead>\n",
       "  <tbody>\n",
       "    <tr>\n",
       "      <th>0</th>\n",
       "      <td>WHITE</td>\n",
       "      <td>707</td>\n",
       "    </tr>\n",
       "    <tr>\n",
       "      <th>1</th>\n",
       "      <td>UNKNOWN/NOT SPECIFIED</td>\n",
       "      <td>176</td>\n",
       "    </tr>\n",
       "    <tr>\n",
       "      <th>2</th>\n",
       "      <td>BLACK/AFRICAN AMERICAN</td>\n",
       "      <td>129</td>\n",
       "    </tr>\n",
       "    <tr>\n",
       "      <th>3</th>\n",
       "      <td>HISPANIC OR LATINO</td>\n",
       "      <td>25</td>\n",
       "    </tr>\n",
       "    <tr>\n",
       "      <th>4</th>\n",
       "      <td>OTHER</td>\n",
       "      <td>17</td>\n",
       "    </tr>\n",
       "    <tr>\n",
       "      <th>5</th>\n",
       "      <td>ASIAN</td>\n",
       "      <td>11</td>\n",
       "    </tr>\n",
       "    <tr>\n",
       "      <th>6</th>\n",
       "      <td>UNABLE TO OBTAIN</td>\n",
       "      <td>9</td>\n",
       "    </tr>\n",
       "    <tr>\n",
       "      <th>7</th>\n",
       "      <td>PATIENT DECLINED TO ANSWER</td>\n",
       "      <td>8</td>\n",
       "    </tr>\n",
       "    <tr>\n",
       "      <th>8</th>\n",
       "      <td>AMERICAN INDIAN/ALASKA NATIVE</td>\n",
       "      <td>2</td>\n",
       "    </tr>\n",
       "    <tr>\n",
       "      <th>9</th>\n",
       "      <td>BLACK/HAITIAN</td>\n",
       "      <td>1</td>\n",
       "    </tr>\n",
       "    <tr>\n",
       "      <th>10</th>\n",
       "      <td>ASIAN - CHINESE</td>\n",
       "      <td>1</td>\n",
       "    </tr>\n",
       "    <tr>\n",
       "      <th>11</th>\n",
       "      <td>HISPANIC/LATINO - PUERTO RICAN</td>\n",
       "      <td>1</td>\n",
       "    </tr>\n",
       "    <tr>\n",
       "      <th>12</th>\n",
       "      <td>BLACK/CAPE VERDEAN</td>\n",
       "      <td>1</td>\n",
       "    </tr>\n",
       "  </tbody>\n",
       "</table>\n",
       "</div>"
      ],
      "text/plain": [
       "                   ethnicity_descr    n\n",
       "0                            WHITE  707\n",
       "1            UNKNOWN/NOT SPECIFIED  176\n",
       "2           BLACK/AFRICAN AMERICAN  129\n",
       "3               HISPANIC OR LATINO   25\n",
       "4                            OTHER   17\n",
       "5                            ASIAN   11\n",
       "6                 UNABLE TO OBTAIN    9\n",
       "7       PATIENT DECLINED TO ANSWER    8\n",
       "8    AMERICAN INDIAN/ALASKA NATIVE    2\n",
       "9                    BLACK/HAITIAN    1\n",
       "10                 ASIAN - CHINESE    1\n",
       "11  HISPANIC/LATINO - PUERTO RICAN    1\n",
       "12              BLACK/CAPE VERDEAN    1"
      ]
     },
     "execution_count": 5,
     "metadata": {},
     "output_type": "execute_result"
    }
   ],
   "source": [
    "query = \"\"\"\n",
    "SELECT \n",
    "    e.ethnicity_descr, COUNT(DISTINCT i.subject_id) n\n",
    "FROM icd9 i\n",
    "    INNER JOIN demographic_detail e\n",
    "        ON i.hadm_id = e.hadm_id\n",
    "WHERE description LIKE '%diabetes%'\n",
    "GROUP BY e.ethnicity_descr\n",
    "ORDER BY n DESC\n",
    "\"\"\"\n",
    "\n",
    "pd.read_sql(query, conn)"
   ]
  },
  {
   "cell_type": "code",
   "execution_count": null,
   "metadata": {},
   "outputs": [],
   "source": []
  },
  {
   "cell_type": "markdown",
   "metadata": {},
   "source": [
    "#### TODO\n",
    "Count the number of *unique* patients by sex who had a code containing **\"pneumonia\"**."
   ]
  },
  {
   "cell_type": "code",
   "execution_count": 6,
   "metadata": {},
   "outputs": [
    {
     "name": "stderr",
     "output_type": "stream",
     "text": [
      "/Users/alecchapman/opt/miniconda3/envs/phs/lib/python3.9/site-packages/pandas/io/sql.py:761: UserWarning: pandas only support SQLAlchemy connectable(engine/connection) ordatabase string URI or sqlite3 DBAPI2 connectionother DBAPI2 objects are not tested, please consider using SQLAlchemy\n",
      "  warnings.warn(\n"
     ]
    },
    {
     "data": {
      "text/html": [
       "<div>\n",
       "<style scoped>\n",
       "    .dataframe tbody tr th:only-of-type {\n",
       "        vertical-align: middle;\n",
       "    }\n",
       "\n",
       "    .dataframe tbody tr th {\n",
       "        vertical-align: top;\n",
       "    }\n",
       "\n",
       "    .dataframe thead th {\n",
       "        text-align: right;\n",
       "    }\n",
       "</style>\n",
       "<table border=\"1\" class=\"dataframe\">\n",
       "  <thead>\n",
       "    <tr style=\"text-align: right;\">\n",
       "      <th></th>\n",
       "      <th>sex</th>\n",
       "      <th>n</th>\n",
       "    </tr>\n",
       "  </thead>\n",
       "  <tbody>\n",
       "    <tr>\n",
       "      <th>0</th>\n",
       "      <td>None</td>\n",
       "      <td>2</td>\n",
       "    </tr>\n",
       "    <tr>\n",
       "      <th>1</th>\n",
       "      <td>F</td>\n",
       "      <td>430</td>\n",
       "    </tr>\n",
       "    <tr>\n",
       "      <th>2</th>\n",
       "      <td>M</td>\n",
       "      <td>484</td>\n",
       "    </tr>\n",
       "  </tbody>\n",
       "</table>\n",
       "</div>"
      ],
      "text/plain": [
       "    sex    n\n",
       "0  None    2\n",
       "1     F  430\n",
       "2     M  484"
      ]
     },
     "execution_count": 6,
     "metadata": {},
     "output_type": "execute_result"
    }
   ],
   "source": [
    "query = \"\"\"\n",
    "SELECT\n",
    "    sex,\n",
    "    COUNT(DISTINCT i.subject_id) n\n",
    "FROM icd9 i\n",
    "    INNER JOIN d_patients d\n",
    "        ON i.subject_id = d.subject_id\n",
    "WHERE description LIKE '%pneumonia%'\n",
    "GROUP BY sex\n",
    "\"\"\"\n",
    "pd.read_sql(query, conn)"
   ]
  },
  {
   "cell_type": "code",
   "execution_count": 9,
   "metadata": {},
   "outputs": [
    {
     "data": {
      "application/vnd.jupyter.widget-view+json": {
       "model_id": "d67eb2c6950d44cca37623d07a9f2a32",
       "version_major": 2,
       "version_minor": 0
      },
      "text/plain": [
       "VBox(children=(HTML(value='How many <strong>distinct</strong> female patients had a code for pneumonia?'), Tex…"
      ]
     },
     "metadata": {},
     "output_type": "display_data"
    },
    {
     "data": {
      "text/plain": []
     },
     "execution_count": 9,
     "metadata": {},
     "output_type": "execute_result"
    }
   ],
   "source": [
    "# RUN CELL TO SEE QUIZ\n",
    "quiz_count_pna_by_sex"
   ]
  },
  {
   "cell_type": "code",
   "execution_count": null,
   "metadata": {},
   "outputs": [],
   "source": []
  },
  {
   "cell_type": "markdown",
   "metadata": {},
   "source": [
    "## Comorbidities\n",
    "We're often interested in knowing about the **\"comorbidity\"** of a disease. A comorbidity is a condition which a patient has in addition to another condition. For example, if a patient has diabetes and they are also diagnosed with hypertension, then these two conditions would be comorbid. \n",
    "\n",
    "This is useful if we want to understand what conditions a population of patients might be at risk for based on the conditions they already have, or for measuring how certain diseases interact.\n",
    "\n",
    "In this exercise we will identify what co-morbidities patients have. But first, let's look at one more SQL technique called **subqueries**.\n",
    "\n",
    "### Subqueries\n",
    "A **subquery** is a nested query within a larger query. Subqueries appear in the `FROM` clause, are surrounded by parentheses, and need to have an alias:\n",
    "```sql\n",
    "SELECT * FROM (\n",
    "    SELECT \n",
    "    FROM table\n",
    ") AS sub\n",
    "```\n",
    "\n",
    "Instead of directly querying a table, this selects from the subquery. This can be useful if we want to reduce the results of one table before joining with another.\n",
    "\n",
    "For example, the following query first identifies unique patients who have a diabetes code, then joins with `d_patients`:"
   ]
  },
  {
   "cell_type": "code",
   "execution_count": 10,
   "metadata": {},
   "outputs": [
    {
     "name": "stderr",
     "output_type": "stream",
     "text": [
      "/Users/alecchapman/opt/miniconda3/envs/phs/lib/python3.9/site-packages/pandas/io/sql.py:761: UserWarning: pandas only support SQLAlchemy connectable(engine/connection) ordatabase string URI or sqlite3 DBAPI2 connectionother DBAPI2 objects are not tested, please consider using SQLAlchemy\n",
      "  warnings.warn(\n"
     ]
    },
    {
     "data": {
      "text/html": [
       "<div>\n",
       "<style scoped>\n",
       "    .dataframe tbody tr th:only-of-type {\n",
       "        vertical-align: middle;\n",
       "    }\n",
       "\n",
       "    .dataframe tbody tr th {\n",
       "        vertical-align: top;\n",
       "    }\n",
       "\n",
       "    .dataframe thead th {\n",
       "        text-align: right;\n",
       "    }\n",
       "</style>\n",
       "<table border=\"1\" class=\"dataframe\">\n",
       "  <thead>\n",
       "    <tr style=\"text-align: right;\">\n",
       "      <th></th>\n",
       "      <th>subject_id</th>\n",
       "      <th>sex</th>\n",
       "      <th>dob</th>\n",
       "      <th>dod</th>\n",
       "      <th>hospital_expire_flg</th>\n",
       "    </tr>\n",
       "  </thead>\n",
       "  <tbody>\n",
       "    <tr>\n",
       "      <th>0</th>\n",
       "      <td>21</td>\n",
       "      <td>M</td>\n",
       "      <td>3051-05-22 00:00:00</td>\n",
       "      <td>3139-03-28 00:00:00</td>\n",
       "      <td>Y</td>\n",
       "    </tr>\n",
       "    <tr>\n",
       "      <th>1</th>\n",
       "      <td>37</td>\n",
       "      <td>M</td>\n",
       "      <td>3195-09-11 00:00:00</td>\n",
       "      <td>3265-12-31 00:00:00</td>\n",
       "      <td>N</td>\n",
       "    </tr>\n",
       "    <tr>\n",
       "      <th>2</th>\n",
       "      <td>83</td>\n",
       "      <td>F</td>\n",
       "      <td>3358-09-05 00:00:00</td>\n",
       "      <td>3424-11-09 00:00:00</td>\n",
       "      <td>N</td>\n",
       "    </tr>\n",
       "    <tr>\n",
       "      <th>3</th>\n",
       "      <td>117</td>\n",
       "      <td>F</td>\n",
       "      <td>3082-01-10 00:00:00</td>\n",
       "      <td>3131-12-15 00:00:00</td>\n",
       "      <td>Y</td>\n",
       "    </tr>\n",
       "    <tr>\n",
       "      <th>4</th>\n",
       "      <td>157</td>\n",
       "      <td>M</td>\n",
       "      <td>3047-12-08 00:00:00</td>\n",
       "      <td>3128-08-29 00:00:00</td>\n",
       "      <td>N</td>\n",
       "    </tr>\n",
       "    <tr>\n",
       "      <th>5</th>\n",
       "      <td>184</td>\n",
       "      <td>M</td>\n",
       "      <td>3194-10-21 00:00:00</td>\n",
       "      <td>3251-12-08 00:00:00</td>\n",
       "      <td>N</td>\n",
       "    </tr>\n",
       "    <tr>\n",
       "      <th>6</th>\n",
       "      <td>224</td>\n",
       "      <td>M</td>\n",
       "      <td>2954-12-12 00:00:00</td>\n",
       "      <td>3026-08-10 00:00:00</td>\n",
       "      <td>N</td>\n",
       "    </tr>\n",
       "    <tr>\n",
       "      <th>7</th>\n",
       "      <td>235</td>\n",
       "      <td>M</td>\n",
       "      <td>2792-05-20 00:00:00</td>\n",
       "      <td>2870-09-20 00:00:00</td>\n",
       "      <td>N</td>\n",
       "    </tr>\n",
       "    <tr>\n",
       "      <th>8</th>\n",
       "      <td>261</td>\n",
       "      <td>M</td>\n",
       "      <td>3121-07-18 00:00:00</td>\n",
       "      <td>3198-06-11 00:00:00</td>\n",
       "      <td>N</td>\n",
       "    </tr>\n",
       "    <tr>\n",
       "      <th>9</th>\n",
       "      <td>286</td>\n",
       "      <td>F</td>\n",
       "      <td>2996-12-12 00:00:00</td>\n",
       "      <td>3082-04-15 00:00:00</td>\n",
       "      <td>N</td>\n",
       "    </tr>\n",
       "  </tbody>\n",
       "</table>\n",
       "</div>"
      ],
      "text/plain": [
       "   subject_id sex                  dob                  dod  \\\n",
       "0          21   M  3051-05-22 00:00:00  3139-03-28 00:00:00   \n",
       "1          37   M  3195-09-11 00:00:00  3265-12-31 00:00:00   \n",
       "2          83   F  3358-09-05 00:00:00  3424-11-09 00:00:00   \n",
       "3         117   F  3082-01-10 00:00:00  3131-12-15 00:00:00   \n",
       "4         157   M  3047-12-08 00:00:00  3128-08-29 00:00:00   \n",
       "5         184   M  3194-10-21 00:00:00  3251-12-08 00:00:00   \n",
       "6         224   M  2954-12-12 00:00:00  3026-08-10 00:00:00   \n",
       "7         235   M  2792-05-20 00:00:00  2870-09-20 00:00:00   \n",
       "8         261   M  3121-07-18 00:00:00  3198-06-11 00:00:00   \n",
       "9         286   F  2996-12-12 00:00:00  3082-04-15 00:00:00   \n",
       "\n",
       "  hospital_expire_flg  \n",
       "0                   Y  \n",
       "1                   N  \n",
       "2                   N  \n",
       "3                   Y  \n",
       "4                   N  \n",
       "5                   N  \n",
       "6                   N  \n",
       "7                   N  \n",
       "8                   N  \n",
       "9                   N  "
      ]
     },
     "execution_count": 10,
     "metadata": {},
     "output_type": "execute_result"
    }
   ],
   "source": [
    "query = \"\"\"\n",
    "SELECT p.*\n",
    "FROM (\n",
    "    SELECT DISTINCT subject_id \n",
    "    FROM icd9\n",
    "    WHERE description LIKE '%diabetes%'\n",
    ") sub\n",
    "    INNER JOIN d_patients p\n",
    "        ON sub.subject_id = p.subject_id\n",
    "LIMIT 10\n",
    "\"\"\"\n",
    "pd.read_sql(query, conn)"
   ]
  },
  {
   "cell_type": "markdown",
   "metadata": {},
   "source": [
    "Let's see how this can help us identify comorbidities. \n",
    "\n",
    "In the query below, the subquery first identifies patients who have the diabetes code `250.00`. Then we join that set of patients with the `icd9` table to get all other codes for those patients. We'll also filter out 250.00 codes in the larger query, since we already know that those patients have this code:"
   ]
  },
  {
   "cell_type": "code",
   "execution_count": 25,
   "metadata": {},
   "outputs": [
    {
     "name": "stderr",
     "output_type": "stream",
     "text": [
      "/Users/alecchapman/opt/miniconda3/envs/phs/lib/python3.9/site-packages/pandas/io/sql.py:761: UserWarning: pandas only support SQLAlchemy connectable(engine/connection) ordatabase string URI or sqlite3 DBAPI2 connectionother DBAPI2 objects are not tested, please consider using SQLAlchemy\n",
      "  warnings.warn(\n"
     ]
    },
    {
     "data": {
      "text/html": [
       "<div>\n",
       "<style scoped>\n",
       "    .dataframe tbody tr th:only-of-type {\n",
       "        vertical-align: middle;\n",
       "    }\n",
       "\n",
       "    .dataframe tbody tr th {\n",
       "        vertical-align: top;\n",
       "    }\n",
       "\n",
       "    .dataframe thead th {\n",
       "        text-align: right;\n",
       "    }\n",
       "</style>\n",
       "<table border=\"1\" class=\"dataframe\">\n",
       "  <thead>\n",
       "    <tr style=\"text-align: right;\">\n",
       "      <th></th>\n",
       "      <th>subject_id</th>\n",
       "      <th>hadm_id</th>\n",
       "      <th>sequence</th>\n",
       "      <th>code</th>\n",
       "      <th>description</th>\n",
       "    </tr>\n",
       "  </thead>\n",
       "  <tbody>\n",
       "    <tr>\n",
       "      <th>0</th>\n",
       "      <td>21</td>\n",
       "      <td>20666</td>\n",
       "      <td>1</td>\n",
       "      <td>410.71</td>\n",
       "      <td>SUBENDOCARDIAL INFARCTION INITIAL EPISODE OF CARE</td>\n",
       "    </tr>\n",
       "    <tr>\n",
       "      <th>1</th>\n",
       "      <td>21</td>\n",
       "      <td>20666</td>\n",
       "      <td>2</td>\n",
       "      <td>785.51</td>\n",
       "      <td>CARDIOGENIC SHOCK</td>\n",
       "    </tr>\n",
       "    <tr>\n",
       "      <th>2</th>\n",
       "      <td>21</td>\n",
       "      <td>20666</td>\n",
       "      <td>3</td>\n",
       "      <td>578.1</td>\n",
       "      <td>BLOOD IN STOOL</td>\n",
       "    </tr>\n",
       "    <tr>\n",
       "      <th>3</th>\n",
       "      <td>21</td>\n",
       "      <td>20666</td>\n",
       "      <td>4</td>\n",
       "      <td>584.9</td>\n",
       "      <td>ACUTE RENAL FAILURE UNSPECIFIED</td>\n",
       "    </tr>\n",
       "    <tr>\n",
       "      <th>4</th>\n",
       "      <td>21</td>\n",
       "      <td>20666</td>\n",
       "      <td>5</td>\n",
       "      <td>403.91</td>\n",
       "      <td>UNSPECIFIED HYPERTENSIVE RENAL DISEASE WITH RE...</td>\n",
       "    </tr>\n",
       "    <tr>\n",
       "      <th>5</th>\n",
       "      <td>21</td>\n",
       "      <td>20666</td>\n",
       "      <td>6</td>\n",
       "      <td>428.0</td>\n",
       "      <td>CONGESTIVE HEART FAILURE UNSPECIFIED</td>\n",
       "    </tr>\n",
       "    <tr>\n",
       "      <th>6</th>\n",
       "      <td>21</td>\n",
       "      <td>20666</td>\n",
       "      <td>7</td>\n",
       "      <td>459.2</td>\n",
       "      <td>COMPRESSION OF VEIN</td>\n",
       "    </tr>\n",
       "    <tr>\n",
       "      <th>7</th>\n",
       "      <td>21</td>\n",
       "      <td>20666</td>\n",
       "      <td>8</td>\n",
       "      <td>507.0</td>\n",
       "      <td>PNEUMONITIS DUE TO INHALATION OF FOOD OR VOMITUS</td>\n",
       "    </tr>\n",
       "    <tr>\n",
       "      <th>8</th>\n",
       "      <td>21</td>\n",
       "      <td>20666</td>\n",
       "      <td>9</td>\n",
       "      <td>427.31</td>\n",
       "      <td>ATRIAL FIBRILLATION</td>\n",
       "    </tr>\n",
       "    <tr>\n",
       "      <th>9</th>\n",
       "      <td>21</td>\n",
       "      <td>20666</td>\n",
       "      <td>10</td>\n",
       "      <td>427.1</td>\n",
       "      <td>PAROXYSMAL VENTRICULAR TACHYCARDIA</td>\n",
       "    </tr>\n",
       "  </tbody>\n",
       "</table>\n",
       "</div>"
      ],
      "text/plain": [
       "   subject_id  hadm_id  sequence    code  \\\n",
       "0          21    20666         1  410.71   \n",
       "1          21    20666         2  785.51   \n",
       "2          21    20666         3   578.1   \n",
       "3          21    20666         4   584.9   \n",
       "4          21    20666         5  403.91   \n",
       "5          21    20666         6   428.0   \n",
       "6          21    20666         7   459.2   \n",
       "7          21    20666         8   507.0   \n",
       "8          21    20666         9  427.31   \n",
       "9          21    20666        10   427.1   \n",
       "\n",
       "                                         description  \n",
       "0  SUBENDOCARDIAL INFARCTION INITIAL EPISODE OF CARE  \n",
       "1                                  CARDIOGENIC SHOCK  \n",
       "2                                     BLOOD IN STOOL  \n",
       "3                    ACUTE RENAL FAILURE UNSPECIFIED  \n",
       "4  UNSPECIFIED HYPERTENSIVE RENAL DISEASE WITH RE...  \n",
       "5               CONGESTIVE HEART FAILURE UNSPECIFIED  \n",
       "6                                COMPRESSION OF VEIN  \n",
       "7   PNEUMONITIS DUE TO INHALATION OF FOOD OR VOMITUS  \n",
       "8                                ATRIAL FIBRILLATION  \n",
       "9                 PAROXYSMAL VENTRICULAR TACHYCARDIA  "
      ]
     },
     "execution_count": 25,
     "metadata": {},
     "output_type": "execute_result"
    }
   ],
   "source": [
    "query = \"\"\"\n",
    "SELECT \n",
    "    i.*\n",
    "FROM \n",
    "    icd9 i\n",
    "    INNER JOIN \n",
    "        /** Write the subquery here to get the subject_ids*/\n",
    "        (\n",
    "            SELECT DISTINCT\n",
    "            subject_id\n",
    "            FROM icd9\n",
    "            WHERE description LIKE '%diabetes%'\n",
    "        ) AS sub\n",
    "    ON i.subject_id = sub.subject_id\n",
    "WHERE i.description NOT LIKE '%diabetes%' -- filter out rows with 'diabetes'\n",
    "LIMIT 10\n",
    "\"\"\"\n",
    "pd.read_sql(query, conn)"
   ]
  },
  {
   "cell_type": "markdown",
   "metadata": {},
   "source": [
    "The next query then counts the number of *unique* patients who have each co-morbidity and returns the 10 most common comorbidities."
   ]
  },
  {
   "cell_type": "code",
   "execution_count": 24,
   "metadata": {},
   "outputs": [
    {
     "name": "stderr",
     "output_type": "stream",
     "text": [
      "/Users/alecchapman/opt/miniconda3/envs/phs/lib/python3.9/site-packages/pandas/io/sql.py:761: UserWarning: pandas only support SQLAlchemy connectable(engine/connection) ordatabase string URI or sqlite3 DBAPI2 connectionother DBAPI2 objects are not tested, please consider using SQLAlchemy\n",
      "  warnings.warn(\n"
     ]
    },
    {
     "data": {
      "text/html": [
       "<div>\n",
       "<style scoped>\n",
       "    .dataframe tbody tr th:only-of-type {\n",
       "        vertical-align: middle;\n",
       "    }\n",
       "\n",
       "    .dataframe tbody tr th {\n",
       "        vertical-align: top;\n",
       "    }\n",
       "\n",
       "    .dataframe thead th {\n",
       "        text-align: right;\n",
       "    }\n",
       "</style>\n",
       "<table border=\"1\" class=\"dataframe\">\n",
       "  <thead>\n",
       "    <tr style=\"text-align: right;\">\n",
       "      <th></th>\n",
       "      <th>code</th>\n",
       "      <th>description</th>\n",
       "      <th>n</th>\n",
       "    </tr>\n",
       "  </thead>\n",
       "  <tbody>\n",
       "    <tr>\n",
       "      <th>0</th>\n",
       "      <td>401.9</td>\n",
       "      <td>UNSPECIFIED ESSENTIAL HYPERTENSION</td>\n",
       "      <td>460</td>\n",
       "    </tr>\n",
       "    <tr>\n",
       "      <th>1</th>\n",
       "      <td>428.0</td>\n",
       "      <td>CONGESTIVE HEART FAILURE UNSPECIFIED</td>\n",
       "      <td>452</td>\n",
       "    </tr>\n",
       "    <tr>\n",
       "      <th>2</th>\n",
       "      <td>427.31</td>\n",
       "      <td>ATRIAL FIBRILLATION</td>\n",
       "      <td>338</td>\n",
       "    </tr>\n",
       "    <tr>\n",
       "      <th>3</th>\n",
       "      <td>414.01</td>\n",
       "      <td>CORONARY ATHEROSCLEROSIS OF NATIVE CORONARY AR...</td>\n",
       "      <td>324</td>\n",
       "    </tr>\n",
       "    <tr>\n",
       "      <th>4</th>\n",
       "      <td>584.9</td>\n",
       "      <td>ACUTE RENAL FAILURE UNSPECIFIED</td>\n",
       "      <td>263</td>\n",
       "    </tr>\n",
       "    <tr>\n",
       "      <th>5</th>\n",
       "      <td>518.81</td>\n",
       "      <td>ACUTE RESPIRATORY FAILURE</td>\n",
       "      <td>216</td>\n",
       "    </tr>\n",
       "    <tr>\n",
       "      <th>6</th>\n",
       "      <td>599.0</td>\n",
       "      <td>URINARY TRACT INFECTION SITE NOT SPECIFIED</td>\n",
       "      <td>174</td>\n",
       "    </tr>\n",
       "    <tr>\n",
       "      <th>7</th>\n",
       "      <td>428.0</td>\n",
       "      <td>CONGESTIVE HEART FAILURE                \\r</td>\n",
       "      <td>167</td>\n",
       "    </tr>\n",
       "    <tr>\n",
       "      <th>8</th>\n",
       "      <td>403.91</td>\n",
       "      <td>UNSPECIFIED HYPERTENSIVE RENAL DISEASE WITH RE...</td>\n",
       "      <td>152</td>\n",
       "    </tr>\n",
       "    <tr>\n",
       "      <th>9</th>\n",
       "      <td>272.0</td>\n",
       "      <td>PURE HYPERCHOLESTEROLEMIA</td>\n",
       "      <td>146</td>\n",
       "    </tr>\n",
       "  </tbody>\n",
       "</table>\n",
       "</div>"
      ],
      "text/plain": [
       "     code                                        description    n\n",
       "0   401.9                 UNSPECIFIED ESSENTIAL HYPERTENSION  460\n",
       "1   428.0               CONGESTIVE HEART FAILURE UNSPECIFIED  452\n",
       "2  427.31                                ATRIAL FIBRILLATION  338\n",
       "3  414.01  CORONARY ATHEROSCLEROSIS OF NATIVE CORONARY AR...  324\n",
       "4   584.9                    ACUTE RENAL FAILURE UNSPECIFIED  263\n",
       "5  518.81                          ACUTE RESPIRATORY FAILURE  216\n",
       "6   599.0         URINARY TRACT INFECTION SITE NOT SPECIFIED  174\n",
       "7   428.0         CONGESTIVE HEART FAILURE                \\r  167\n",
       "8  403.91  UNSPECIFIED HYPERTENSIVE RENAL DISEASE WITH RE...  152\n",
       "9   272.0                          PURE HYPERCHOLESTEROLEMIA  146"
      ]
     },
     "execution_count": 24,
     "metadata": {},
     "output_type": "execute_result"
    }
   ],
   "source": [
    "query = \"\"\"\n",
    "SELECT \n",
    "    code,\n",
    "    description,\n",
    "    COUNT(DISTINCT i.subject_id) n\n",
    "FROM \n",
    "    icd9 i\n",
    "    INNER JOIN \n",
    "        /** Write the subquery here to get the subject_ids*/\n",
    "        (\n",
    "            SELECT DISTINCT\n",
    "            subject_id\n",
    "            FROM icd9\n",
    "            WHERE description LIKE '%diabetes%'\n",
    "        ) AS sub\n",
    "    ON i.subject_id = sub.subject_id\n",
    "WHERE i.description NOT LIKE '%diabetes%' -- filter out rows with 'diabetes'\n",
    "GROUP BY code, description\n",
    "ORDER BY COUNT(DISTINCT i.subject_id) desc\n",
    "LIMIT 10\n",
    "\"\"\"\n",
    "pd.read_sql(query, conn)"
   ]
  },
  {
   "cell_type": "markdown",
   "metadata": {},
   "source": [
    "#### TODO\n",
    "Write a query which contains the 10 most common co-morbidities for patients with pneumonia. Save the results as `pna_cmrbd`. Make sure to count distinct patients."
   ]
  },
  {
   "cell_type": "code",
   "execution_count": 35,
   "metadata": {},
   "outputs": [
    {
     "name": "stderr",
     "output_type": "stream",
     "text": [
      "/Users/alecchapman/opt/miniconda3/envs/phs/lib/python3.9/site-packages/pandas/io/sql.py:761: UserWarning: pandas only support SQLAlchemy connectable(engine/connection) ordatabase string URI or sqlite3 DBAPI2 connectionother DBAPI2 objects are not tested, please consider using SQLAlchemy\n",
      "  warnings.warn(\n"
     ]
    },
    {
     "data": {
      "text/html": [
       "<div>\n",
       "<style scoped>\n",
       "    .dataframe tbody tr th:only-of-type {\n",
       "        vertical-align: middle;\n",
       "    }\n",
       "\n",
       "    .dataframe tbody tr th {\n",
       "        vertical-align: top;\n",
       "    }\n",
       "\n",
       "    .dataframe thead th {\n",
       "        text-align: right;\n",
       "    }\n",
       "</style>\n",
       "<table border=\"1\" class=\"dataframe\">\n",
       "  <thead>\n",
       "    <tr style=\"text-align: right;\">\n",
       "      <th></th>\n",
       "      <th>code</th>\n",
       "      <th>description</th>\n",
       "      <th>n</th>\n",
       "    </tr>\n",
       "  </thead>\n",
       "  <tbody>\n",
       "    <tr>\n",
       "      <th>0</th>\n",
       "      <td>428.0</td>\n",
       "      <td>CONGESTIVE HEART FAILURE UNSPECIFIED</td>\n",
       "      <td>377</td>\n",
       "    </tr>\n",
       "    <tr>\n",
       "      <th>1</th>\n",
       "      <td>518.81</td>\n",
       "      <td>ACUTE RESPIRATORY FAILURE</td>\n",
       "      <td>359</td>\n",
       "    </tr>\n",
       "    <tr>\n",
       "      <th>2</th>\n",
       "      <td>427.31</td>\n",
       "      <td>ATRIAL FIBRILLATION</td>\n",
       "      <td>303</td>\n",
       "    </tr>\n",
       "    <tr>\n",
       "      <th>3</th>\n",
       "      <td>401.9</td>\n",
       "      <td>UNSPECIFIED ESSENTIAL HYPERTENSION</td>\n",
       "      <td>283</td>\n",
       "    </tr>\n",
       "    <tr>\n",
       "      <th>4</th>\n",
       "      <td>584.9</td>\n",
       "      <td>ACUTE RENAL FAILURE UNSPECIFIED</td>\n",
       "      <td>268</td>\n",
       "    </tr>\n",
       "    <tr>\n",
       "      <th>5</th>\n",
       "      <td>428.0</td>\n",
       "      <td>CONGESTIVE HEART FAILURE                \\r</td>\n",
       "      <td>168</td>\n",
       "    </tr>\n",
       "    <tr>\n",
       "      <th>6</th>\n",
       "      <td>599.0</td>\n",
       "      <td>URINARY TRACT INFECTION SITE NOT SPECIFIED</td>\n",
       "      <td>160</td>\n",
       "    </tr>\n",
       "    <tr>\n",
       "      <th>7</th>\n",
       "      <td>038.9</td>\n",
       "      <td>UNSPECIFIED SEPTICEMIA</td>\n",
       "      <td>155</td>\n",
       "    </tr>\n",
       "    <tr>\n",
       "      <th>8</th>\n",
       "      <td>995.92</td>\n",
       "      <td>SYSTEMIC INFLAMMATORY RESPONSE SYNDROME DUE TO...</td>\n",
       "      <td>149</td>\n",
       "    </tr>\n",
       "    <tr>\n",
       "      <th>9</th>\n",
       "      <td>414.01</td>\n",
       "      <td>CORONARY ATHEROSCLEROSIS OF NATIVE CORONARY AR...</td>\n",
       "      <td>145</td>\n",
       "    </tr>\n",
       "  </tbody>\n",
       "</table>\n",
       "</div>"
      ],
      "text/plain": [
       "     code                                        description    n\n",
       "0   428.0               CONGESTIVE HEART FAILURE UNSPECIFIED  377\n",
       "1  518.81                          ACUTE RESPIRATORY FAILURE  359\n",
       "2  427.31                                ATRIAL FIBRILLATION  303\n",
       "3   401.9                 UNSPECIFIED ESSENTIAL HYPERTENSION  283\n",
       "4   584.9                    ACUTE RENAL FAILURE UNSPECIFIED  268\n",
       "5   428.0         CONGESTIVE HEART FAILURE                \\r  168\n",
       "6   599.0         URINARY TRACT INFECTION SITE NOT SPECIFIED  160\n",
       "7   038.9                             UNSPECIFIED SEPTICEMIA  155\n",
       "8  995.92  SYSTEMIC INFLAMMATORY RESPONSE SYNDROME DUE TO...  149\n",
       "9  414.01  CORONARY ATHEROSCLEROSIS OF NATIVE CORONARY AR...  145"
      ]
     },
     "execution_count": 35,
     "metadata": {},
     "output_type": "execute_result"
    }
   ],
   "source": [
    "query = \"\"\"\n",
    "SELECT \n",
    "    code,\n",
    "    description,\n",
    "    COUNT(DISTINCT i.subject_id) n\n",
    "FROM \n",
    "    icd9 i\n",
    "    INNER JOIN \n",
    "        /** Write the subquery here to get the subject_ids*/\n",
    "        (\n",
    "            SELECT DISTINCT\n",
    "            subject_id\n",
    "            FROM icd9\n",
    "            WHERE description LIKE '%pneumonia%'\n",
    "        ) AS sub\n",
    "    ON i.subject_id = sub.subject_id\n",
    "WHERE description NOT LIKE '%pneumonia%' -- filter out rows with 'pneumonia'\n",
    "GROUP BY code, description\n",
    "ORDER BY COUNT(DISTINCT i.subject_id) desc\n",
    "LIMIT 10\n",
    "\"\"\"\n",
    "pna_cmrbd = pd.read_sql(query, conn)\n",
    "pna_cmrbd"
   ]
  },
  {
   "cell_type": "code",
   "execution_count": 30,
   "metadata": {},
   "outputs": [
    {
     "data": {
      "application/vnd.jupyter.widget-view+json": {
       "model_id": "fa906c26efb84e85a64c5f34da3a1771",
       "version_major": 2,
       "version_minor": 0
      },
      "text/plain": [
       "VBox(children=(HTML(value='What is the most common co-morbidity for patients with pneumonia codes? How many pa…"
      ]
     },
     "metadata": {},
     "output_type": "display_data"
    },
    {
     "data": {
      "text/plain": []
     },
     "execution_count": 30,
     "metadata": {},
     "output_type": "execute_result"
    }
   ],
   "source": [
    "MultipleChoiceQuiz(\"What is the most common co-morbidity for patients with pneumonia codes? How many patients have that code?\",\n",
    "                  answer=\"CONGESTIVE HEART FAILURE UNSPECIFIED; 377\",\n",
    "                  options=[\"ATRIAL FIBRILLATION; 303\", \"CONGESTIVE HEART FAILURE UNSPECIFIED; 359\", \"ACUTE RESPIRATORY FAILURE; 359\"])"
   ]
  },
  {
   "cell_type": "markdown",
   "metadata": {},
   "source": [
    "#### Advanced\n",
    "Can you add a column `prop` to the table above which is the **proportion** of all patients with pneumonia who have a co-morbid condition?"
   ]
  },
  {
   "cell_type": "code",
   "execution_count": 34,
   "metadata": {},
   "outputs": [
    {
     "name": "stdout",
     "output_type": "stream",
     "text": [
      "916\n"
     ]
    },
    {
     "name": "stderr",
     "output_type": "stream",
     "text": [
      "/Users/alecchapman/opt/miniconda3/envs/phs/lib/python3.9/site-packages/pandas/io/sql.py:761: UserWarning: pandas only support SQLAlchemy connectable(engine/connection) ordatabase string URI or sqlite3 DBAPI2 connectionother DBAPI2 objects are not tested, please consider using SQLAlchemy\n",
      "  warnings.warn(\n"
     ]
    },
    {
     "data": {
      "text/html": [
       "<div>\n",
       "<style scoped>\n",
       "    .dataframe tbody tr th:only-of-type {\n",
       "        vertical-align: middle;\n",
       "    }\n",
       "\n",
       "    .dataframe tbody tr th {\n",
       "        vertical-align: top;\n",
       "    }\n",
       "\n",
       "    .dataframe thead th {\n",
       "        text-align: right;\n",
       "    }\n",
       "</style>\n",
       "<table border=\"1\" class=\"dataframe\">\n",
       "  <thead>\n",
       "    <tr style=\"text-align: right;\">\n",
       "      <th></th>\n",
       "      <th>code</th>\n",
       "      <th>description</th>\n",
       "      <th>n</th>\n",
       "      <th>prop</th>\n",
       "    </tr>\n",
       "  </thead>\n",
       "  <tbody>\n",
       "    <tr>\n",
       "      <th>0</th>\n",
       "      <td>428.0</td>\n",
       "      <td>CONGESTIVE HEART FAILURE UNSPECIFIED</td>\n",
       "      <td>377</td>\n",
       "      <td>0.411572</td>\n",
       "    </tr>\n",
       "    <tr>\n",
       "      <th>1</th>\n",
       "      <td>518.81</td>\n",
       "      <td>ACUTE RESPIRATORY FAILURE</td>\n",
       "      <td>359</td>\n",
       "      <td>0.391921</td>\n",
       "    </tr>\n",
       "    <tr>\n",
       "      <th>2</th>\n",
       "      <td>427.31</td>\n",
       "      <td>ATRIAL FIBRILLATION</td>\n",
       "      <td>303</td>\n",
       "      <td>0.330786</td>\n",
       "    </tr>\n",
       "    <tr>\n",
       "      <th>3</th>\n",
       "      <td>401.9</td>\n",
       "      <td>UNSPECIFIED ESSENTIAL HYPERTENSION</td>\n",
       "      <td>283</td>\n",
       "      <td>0.308952</td>\n",
       "    </tr>\n",
       "    <tr>\n",
       "      <th>4</th>\n",
       "      <td>584.9</td>\n",
       "      <td>ACUTE RENAL FAILURE UNSPECIFIED</td>\n",
       "      <td>268</td>\n",
       "      <td>0.292576</td>\n",
       "    </tr>\n",
       "  </tbody>\n",
       "</table>\n",
       "</div>"
      ],
      "text/plain": [
       "     code                           description    n      prop\n",
       "0   428.0  CONGESTIVE HEART FAILURE UNSPECIFIED  377  0.411572\n",
       "1  518.81             ACUTE RESPIRATORY FAILURE  359  0.391921\n",
       "2  427.31                   ATRIAL FIBRILLATION  303  0.330786\n",
       "3   401.9    UNSPECIFIED ESSENTIAL HYPERTENSION  283  0.308952\n",
       "4   584.9       ACUTE RENAL FAILURE UNSPECIFIED  268  0.292576"
      ]
     },
     "execution_count": 34,
     "metadata": {},
     "output_type": "execute_result"
    }
   ],
   "source": [
    "query = \"\"\"\n",
    "SELECT COUNT(DISTINCT subject_id) n\n",
    "FROM icd9\n",
    "WHERE description LIKE '%pneumonia%'\n",
    "\"\"\"\n",
    "total_pna_counts = pd.read_sql(query, conn).iloc[0][\"n\"]\n",
    "print(total_pna_counts)\n",
    "\n",
    "pna_cmrbd[\"prop\"] = pna_cmrbd[\"n\"] / total_pna_counts\n",
    "pna_cmrbd.head()"
   ]
  },
  {
   "cell_type": "code",
   "execution_count": null,
   "metadata": {},
   "outputs": [],
   "source": []
  }
 ],
 "metadata": {
  "kernelspec": {
   "display_name": "Python 3 (ipykernel)",
   "language": "python",
   "name": "python3"
  },
  "language_info": {
   "codemirror_mode": {
    "name": "ipython",
    "version": 3
   },
   "file_extension": ".py",
   "mimetype": "text/x-python",
   "name": "python",
   "nbconvert_exporter": "python",
   "pygments_lexer": "ipython3",
   "version": "3.9.12"
  }
 },
 "nbformat": 4,
 "nbformat_minor": 4
}
