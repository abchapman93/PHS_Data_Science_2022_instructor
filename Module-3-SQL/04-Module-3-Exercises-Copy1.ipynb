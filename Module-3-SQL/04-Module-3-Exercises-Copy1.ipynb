{
 "cells": [
  {
   "cell_type": "markdown",
   "id": "f8952d16",
   "metadata": {},
   "source": [
    "<html>\n",
    "<table width=\"100%\" cellspacing=\"2\" cellpadding=\"2\" border=\"1\">\n",
    "<tbody>\n",
    "<tr>\n",
    "<td valign=\"center\" align=\"center\" width=\"45%\"><img src=\"../media/Univ-Utah.jpeg\"><br>\n",
    "</td>\n",
    "    <td valign=\"center\" align=\"center\" width=\"75%\">\n",
    "<h1 align=\"center\"><font size=\"+1\">University of Utah<br>Population Health Sciences<br>Data Science Workshop</font></h1></td>\n",
    "<td valign=\"center\" align=\"center\" width=\"45%\"><img\n",
    "src=\"../media/U_Health_stacked_png_red.png\" alt=\"Utah Health\n",
    "Logo\" width=\"128\" height=\"134\"><br>\n",
    "</td>\n",
    "</tr>\n",
    "</tbody>\n",
    "</table>\n",
    "<br>\n",
    "</html>\n"
   ]
  },
  {
   "cell_type": "markdown",
   "id": "dd3acafa",
   "metadata": {},
   "source": [
    "# Module 3 Exercises\n",
    "These exercises will ask you to query and analyze data from MIMIC."
   ]
  },
  {
   "cell_type": "code",
   "execution_count": 1,
   "id": "6bdc2572",
   "metadata": {},
   "outputs": [],
   "source": [
    "from helpers import *"
   ]
  },
  {
   "cell_type": "code",
   "execution_count": 2,
   "id": "279c90d3",
   "metadata": {},
   "outputs": [],
   "source": [
    "import pandas as pd\n",
    "import os\n",
    "import numpy as np\n",
    "\n",
    "import matplotlib.pyplot as plt\n",
    "import seaborn as sns\n",
    "\n",
    "%matplotlib inline\n",
    "\n",
    "sns.set()"
   ]
  },
  {
   "cell_type": "code",
   "execution_count": 49,
   "id": "f971c9c3",
   "metadata": {},
   "outputs": [
    {
     "name": "stdout",
     "output_type": "stream",
     "text": [
      "Enter password for MIMIC2 database········\n"
     ]
    }
   ],
   "source": [
    "conn = connect_to_mimic()"
   ]
  },
  {
   "cell_type": "code",
   "execution_count": null,
   "id": "afe93c70",
   "metadata": {},
   "outputs": [],
   "source": []
  },
  {
   "cell_type": "markdown",
   "id": "20ad981d",
   "metadata": {},
   "source": [
    "## 1. Race/ethnicity\n",
    "### \n",
    "Write a query to count how many patients are in each racial/ethnic group. Sort your query results in **ascending alphabetical order** and assign to `ethnicity`. Then create a visualization to display the counts which arranges the plot in **descending order by count**. "
   ]
  },
  {
   "cell_type": "code",
   "execution_count": 51,
   "id": "3c25e3bc",
   "metadata": {
    "scrolled": true
   },
   "outputs": [
    {
     "data": {
      "text/html": [
       "<div>\n",
       "<style scoped>\n",
       "    .dataframe tbody tr th:only-of-type {\n",
       "        vertical-align: middle;\n",
       "    }\n",
       "\n",
       "    .dataframe tbody tr th {\n",
       "        vertical-align: top;\n",
       "    }\n",
       "\n",
       "    .dataframe thead th {\n",
       "        text-align: right;\n",
       "    }\n",
       "</style>\n",
       "<table border=\"1\" class=\"dataframe\">\n",
       "  <thead>\n",
       "    <tr style=\"text-align: right;\">\n",
       "      <th></th>\n",
       "      <th>ethnicity_descr</th>\n",
       "      <th>num_patients</th>\n",
       "    </tr>\n",
       "  </thead>\n",
       "  <tbody>\n",
       "    <tr>\n",
       "      <th>0</th>\n",
       "      <td>WHITE - RUSSIAN</td>\n",
       "      <td>1</td>\n",
       "    </tr>\n",
       "    <tr>\n",
       "      <th>1</th>\n",
       "      <td>WHITE</td>\n",
       "      <td>3544</td>\n",
       "    </tr>\n",
       "    <tr>\n",
       "      <th>2</th>\n",
       "      <td>UNKNOWN/NOT SPECIFIED</td>\n",
       "      <td>730</td>\n",
       "    </tr>\n",
       "    <tr>\n",
       "      <th>3</th>\n",
       "      <td>UNABLE TO OBTAIN</td>\n",
       "      <td>18</td>\n",
       "    </tr>\n",
       "    <tr>\n",
       "      <th>4</th>\n",
       "      <td>PATIENT DECLINED TO ANSWER</td>\n",
       "      <td>52</td>\n",
       "    </tr>\n",
       "    <tr>\n",
       "      <th>5</th>\n",
       "      <td>OTHER</td>\n",
       "      <td>78</td>\n",
       "    </tr>\n",
       "    <tr>\n",
       "      <th>6</th>\n",
       "      <td>NATIVE HAWAIIAN OR OTHER PACIFIC ISLAND</td>\n",
       "      <td>2</td>\n",
       "    </tr>\n",
       "    <tr>\n",
       "      <th>7</th>\n",
       "      <td>MULTI RACE ETHNICITY</td>\n",
       "      <td>2</td>\n",
       "    </tr>\n",
       "    <tr>\n",
       "      <th>8</th>\n",
       "      <td>HISPANIC/LATINO - PUERTO RICAN</td>\n",
       "      <td>3</td>\n",
       "    </tr>\n",
       "    <tr>\n",
       "      <th>9</th>\n",
       "      <td>HISPANIC OR LATINO</td>\n",
       "      <td>71</td>\n",
       "    </tr>\n",
       "    <tr>\n",
       "      <th>10</th>\n",
       "      <td>BLACK/HAITIAN</td>\n",
       "      <td>2</td>\n",
       "    </tr>\n",
       "    <tr>\n",
       "      <th>11</th>\n",
       "      <td>BLACK/CAPE VERDEAN</td>\n",
       "      <td>2</td>\n",
       "    </tr>\n",
       "    <tr>\n",
       "      <th>12</th>\n",
       "      <td>BLACK/AFRICAN AMERICAN</td>\n",
       "      <td>474</td>\n",
       "    </tr>\n",
       "    <tr>\n",
       "      <th>13</th>\n",
       "      <td>ASIAN - VIETNAMESE</td>\n",
       "      <td>1</td>\n",
       "    </tr>\n",
       "    <tr>\n",
       "      <th>14</th>\n",
       "      <td>ASIAN - CHINESE</td>\n",
       "      <td>5</td>\n",
       "    </tr>\n",
       "    <tr>\n",
       "      <th>15</th>\n",
       "      <td>ASIAN</td>\n",
       "      <td>86</td>\n",
       "    </tr>\n",
       "    <tr>\n",
       "      <th>16</th>\n",
       "      <td>AMERICAN INDIAN/ALASKA NATIVE</td>\n",
       "      <td>3</td>\n",
       "    </tr>\n",
       "  </tbody>\n",
       "</table>\n",
       "</div>"
      ],
      "text/plain": [
       "                            ethnicity_descr  num_patients\n",
       "0                           WHITE - RUSSIAN             1\n",
       "1                                     WHITE          3544\n",
       "2                     UNKNOWN/NOT SPECIFIED           730\n",
       "3                          UNABLE TO OBTAIN            18\n",
       "4                PATIENT DECLINED TO ANSWER            52\n",
       "5                                     OTHER            78\n",
       "6   NATIVE HAWAIIAN OR OTHER PACIFIC ISLAND             2\n",
       "7                      MULTI RACE ETHNICITY             2\n",
       "8            HISPANIC/LATINO - PUERTO RICAN             3\n",
       "9                        HISPANIC OR LATINO            71\n",
       "10                            BLACK/HAITIAN             2\n",
       "11                       BLACK/CAPE VERDEAN             2\n",
       "12                   BLACK/AFRICAN AMERICAN           474\n",
       "13                       ASIAN - VIETNAMESE             1\n",
       "14                          ASIAN - CHINESE             5\n",
       "15                                    ASIAN            86\n",
       "16            AMERICAN INDIAN/ALASKA NATIVE             3"
      ]
     },
     "execution_count": 51,
     "metadata": {},
     "output_type": "execute_result"
    }
   ],
   "source": [
    "# Option 1: SQL\n",
    "query = \"\"\"\n",
    "SELECT \n",
    "    ethnicity_descr,\n",
    "    COUNT(1) AS num_patients\n",
    "FROM demographic_detail \n",
    "GROUP BY ethnicity_descr\n",
    "ORDER BY ethnicity_descr desc;\n",
    "\"\"\"\n",
    "ethnicity = pd.read_sql(query, conn)\n",
    "ethnicity"
   ]
  },
  {
   "cell_type": "code",
   "execution_count": 52,
   "id": "1dca8a36",
   "metadata": {
    "scrolled": true
   },
   "outputs": [
    {
     "data": {
      "text/plain": [
       "<AxesSubplot:xlabel='num_patients', ylabel='ethnicity_descr'>"
      ]
     },
     "execution_count": 52,
     "metadata": {},
     "output_type": "execute_result"
    },
    {
     "data": {
      "image/png": "[encoded data removed]",
      "text/plain": [
       "<Figure size 432x288 with 1 Axes>"
      ]
     },
     "metadata": {},
     "output_type": "display_data"
    }
   ],
   "source": [
    "sns.barplot(y=\"ethnicity_descr\", x=\"num_patients\", data=ethnicity.sort_values(\"num_patients\", ascending=False), color=\"C0\")"
   ]
  },
  {
   "cell_type": "code",
   "execution_count": null,
   "id": "b16cd107",
   "metadata": {},
   "outputs": [],
   "source": []
  },
  {
   "cell_type": "markdown",
   "id": "02143456",
   "metadata": {},
   "source": [
    "## 1.2 In-hospital mortality by race\n",
    "Let's compare the **proportion** of patients who died in the hospital by race. \n",
    "1. First, write a query which returns a **patient-level** dataframe (meaning one row per patient) containing the race/ethnicity and whether a patient died in the hospital. \n",
    "2. Then group by race/ethnicity (either in pandas or SQL) and calculate the proportion of patients in each category who died in the hospital.\n",
    "3. Finally, plot the proportions as a barplot.\n",
    "4. Optionally, filter to groups which have at least 10 patients in them so that the denominator isn't too small."
   ]
  },
  {
   "cell_type": "code",
   "execution_count": 75,
   "id": "a18884f0",
   "metadata": {},
   "outputs": [
    {
     "data": {
      "application/vnd.jupyter.widget-view+json": {
       "model_id": "dfcb43f845c2454e898f2c75ffe3e0eb",
       "version_major": 2,
       "version_minor": 0
      },
      "text/plain": [
       "VBox(children=(HTML(value='</br><strong>Displaying hint 0/4</strong>'), Output(), Button(description='Get hint…"
      ]
     },
     "metadata": {},
     "output_type": "display_data"
    },
    {
     "data": {
      "text/plain": []
     },
     "execution_count": 75,
     "metadata": {},
     "output_type": "execute_result"
    }
   ],
   "source": [
    "# RUN CELL TO SEE HINT\n",
    "hint_mortality_by_race"
   ]
  },
  {
   "cell_type": "code",
   "execution_count": 62,
   "id": "a94dfc43",
   "metadata": {},
   "outputs": [
    {
     "name": "stderr",
     "output_type": "stream",
     "text": [
      "/Users/alecchapman/opt/miniconda3/envs/phs/lib/python3.9/site-packages/pandas/io/sql.py:761: UserWarning: pandas only support SQLAlchemy connectable(engine/connection) ordatabase string URI or sqlite3 DBAPI2 connectionother DBAPI2 objects are not tested, please consider using SQLAlchemy\n",
      "  warnings.warn(\n"
     ]
    }
   ],
   "source": [
    "query = \"\"\"\n",
    "SELECT DISTINCT\n",
    "    p.subject_id,\n",
    "    d.ethnicity_descr,\n",
    "    p.hospital_expire_flg\n",
    "FROM d_patients p\n",
    "    INNER JOIN demographic_detail d\n",
    "        ON p.subject_id = d.subject_id\n",
    "\"\"\"\n",
    "df = pd.read_sql(query, conn)"
   ]
  },
  {
   "cell_type": "code",
   "execution_count": 63,
   "id": "cfbe09e1",
   "metadata": {},
   "outputs": [],
   "source": [
    "df[\"in_hospital_mortality\"] = (df[\"hospital_expire_flg\"] == \"Y\").astype(int)"
   ]
  },
  {
   "cell_type": "code",
   "execution_count": 71,
   "id": "c268eeec",
   "metadata": {},
   "outputs": [
    {
     "data": {
      "text/plain": [
       "<AxesSubplot:ylabel='ethnicity_descr'>"
      ]
     },
     "execution_count": 71,
     "metadata": {},
     "output_type": "execute_result"
    },
    {
     "data": {
      "image/png": "[encoded data removed]",
      "text/plain": [
       "<Figure size 432x288 with 1 Axes>"
      ]
     },
     "metadata": {},
     "output_type": "display_data"
    }
   ],
   "source": [
    "props = df.groupby(\"ethnicity_descr\")[\"in_hospital_mortality\"].mean()\n",
    "props.plot.barh()"
   ]
  },
  {
   "cell_type": "markdown",
   "id": "e5e482b3",
   "metadata": {},
   "source": [
    "### 1.2 Comparing prevalence by race/ethnicity\n"
   ]
  },
  {
   "cell_type": "code",
   "execution_count": 44,
   "id": "8e05ec8c",
   "metadata": {},
   "outputs": [
    {
     "name": "stderr",
     "output_type": "stream",
     "text": [
      "/Users/alecchapman/opt/miniconda3/envs/phs/lib/python3.9/site-packages/pandas/io/sql.py:761: UserWarning: pandas only support SQLAlchemy connectable(engine/connection) ordatabase string URI or sqlite3 DBAPI2 connectionother DBAPI2 objects are not tested, please consider using SQLAlchemy\n",
      "  warnings.warn(\n"
     ]
    }
   ],
   "source": [
    "query = \"\"\"\n",
    "SELECT\n",
    "\te.ethnicity_descr \n",
    "    ,code\n",
    "    ,n_patients\n",
    "    ,n_diseased\n",
    "    ,n_diseased / n_patients prevalence\n",
    "FROM (\n",
    "SELECT \n",
    "    ethnicity_descr,\n",
    "    COUNT(1) AS n_patients\n",
    "FROM demographic_detail \n",
    "WHERE ethnicity_descr IN ('BLACK/AFRICAN AMERICAN', 'WHITE')\n",
    "GROUP BY ethnicity_descr\n",
    ") e\n",
    "INNER JOIN (\n",
    "SELECT d.ethnicity_descr, i.code, COUNT(1) n_diseased\n",
    "FROM icd9 i\n",
    "INNER JOIN demographic_detail d\n",
    "\tON i.hadm_id = d.hadm_id\n",
    "WHERE code IN ('401.9', '428.0', '427.31', '403.91', '584.9')\n",
    "GROUP BY ethnicity_descr, i.code\n",
    ") icd\n",
    "\tON e.ethnicity_descr = icd.ethnicity_descr\n",
    "ORDER BY n_diseased / n_patients desc\n",
    ";\n",
    "\"\"\"\n",
    "dx_by_race = pd.read_sql(query, conn)"
   ]
  },
  {
   "cell_type": "code",
   "execution_count": 47,
   "id": "ab657a24",
   "metadata": {},
   "outputs": [
    {
     "data": {
      "text/plain": [
       "<AxesSubplot:xlabel='code', ylabel='prevalence'>"
      ]
     },
     "execution_count": 47,
     "metadata": {},
     "output_type": "execute_result"
    },
    {
     "data": {
      "image/png": "[encoded data removed]",
      "text/plain": [
       "<Figure size 432x288 with 1 Axes>"
      ]
     },
     "metadata": {},
     "output_type": "display_data"
    }
   ],
   "source": [
    "sns.barplot(x=\"code\", y=\"prevalence\", hue=\"ethnicity_descr\", data=dx_by_race)"
   ]
  },
  {
   "cell_type": "code",
   "execution_count": 27,
   "id": "829af5e5",
   "metadata": {},
   "outputs": [
    {
     "name": "stderr",
     "output_type": "stream",
     "text": [
      "/Users/alecchapman/opt/miniconda3/envs/phs/lib/python3.9/site-packages/pandas/io/sql.py:761: UserWarning: pandas only support SQLAlchemy connectable(engine/connection) ordatabase string URI or sqlite3 DBAPI2 connectionother DBAPI2 objects are not tested, please consider using SQLAlchemy\n",
      "  warnings.warn(\n"
     ]
    },
    {
     "data": {
      "text/html": [
       "<div>\n",
       "<style scoped>\n",
       "    .dataframe tbody tr th:only-of-type {\n",
       "        vertical-align: middle;\n",
       "    }\n",
       "\n",
       "    .dataframe tbody tr th {\n",
       "        vertical-align: top;\n",
       "    }\n",
       "\n",
       "    .dataframe thead th {\n",
       "        text-align: right;\n",
       "    }\n",
       "</style>\n",
       "<table border=\"1\" class=\"dataframe\">\n",
       "  <thead>\n",
       "    <tr style=\"text-align: right;\">\n",
       "      <th></th>\n",
       "      <th>ethnicity_descr</th>\n",
       "      <th>num_patients</th>\n",
       "    </tr>\n",
       "  </thead>\n",
       "  <tbody>\n",
       "    <tr>\n",
       "      <th>0</th>\n",
       "      <td>ASIAN</td>\n",
       "      <td>6</td>\n",
       "    </tr>\n",
       "    <tr>\n",
       "      <th>1</th>\n",
       "      <td>BLACK/AFRICAN AMERICAN</td>\n",
       "      <td>45</td>\n",
       "    </tr>\n",
       "    <tr>\n",
       "      <th>2</th>\n",
       "      <td>HISPANIC OR LATINO</td>\n",
       "      <td>6</td>\n",
       "    </tr>\n",
       "    <tr>\n",
       "      <th>3</th>\n",
       "      <td>WHITE</td>\n",
       "      <td>579</td>\n",
       "    </tr>\n",
       "  </tbody>\n",
       "</table>\n",
       "</div>"
      ],
      "text/plain": [
       "          ethnicity_descr  num_patients\n",
       "0                   ASIAN             6\n",
       "1  BLACK/AFRICAN AMERICAN            45\n",
       "2      HISPANIC OR LATINO             6\n",
       "3                   WHITE           579"
      ]
     },
     "execution_count": 27,
     "metadata": {},
     "output_type": "execute_result"
    }
   ],
   "source": [
    "query = \"\"\"\n",
    "SELECT \n",
    "\tethnicity_descr,\n",
    "    COUNT(DISTINCT subject_id) num_patients\n",
    "FROM demographic_detail d \n",
    "INNER JOIN (\n",
    "\tSELECT hadm_id \n",
    "    FROM icd9\n",
    "    WHERE code = '414.01'\n",
    ") htn\n",
    "\tON d.hadm_id = htn.hadm_id\n",
    "WHERE ethnicity_descr IN ('ASIAN',\n",
    " 'BLACK/AFRICAN AMERICAN',\n",
    " 'HISPANIC OR LATINO',\n",
    " 'WHITE')\n",
    "GROUP BY ethnicity_descr\n",
    "ORDER BY ethnicity_descr\n",
    ";\n",
    "\"\"\"\n",
    "htn = pd.read_sql(query, conn)\n",
    "htn"
   ]
  },
  {
   "cell_type": "code",
   "execution_count": 28,
   "id": "0c66d32b",
   "metadata": {},
   "outputs": [
    {
     "data": {
      "text/plain": [
       "['ASIAN', 'BLACK/AFRICAN AMERICAN', 'HISPANIC OR LATINO', 'WHITE']"
      ]
     },
     "execution_count": 28,
     "metadata": {},
     "output_type": "execute_result"
    }
   ],
   "source": [
    "list(htn[\"ethnicity_descr\"])"
   ]
  },
  {
   "cell_type": "code",
   "execution_count": 29,
   "id": "255e377c",
   "metadata": {},
   "outputs": [],
   "source": [
    "htn[\"prop_patients\"] = htn[\"num_patients\"] / ethnicity[\"num_patients\"]"
   ]
  },
  {
   "cell_type": "code",
   "execution_count": 30,
   "id": "2a7229d4",
   "metadata": {},
   "outputs": [
    {
     "data": {
      "text/html": [
       "<div>\n",
       "<style scoped>\n",
       "    .dataframe tbody tr th:only-of-type {\n",
       "        vertical-align: middle;\n",
       "    }\n",
       "\n",
       "    .dataframe tbody tr th {\n",
       "        vertical-align: top;\n",
       "    }\n",
       "\n",
       "    .dataframe thead th {\n",
       "        text-align: right;\n",
       "    }\n",
       "</style>\n",
       "<table border=\"1\" class=\"dataframe\">\n",
       "  <thead>\n",
       "    <tr style=\"text-align: right;\">\n",
       "      <th></th>\n",
       "      <th>ethnicity_descr</th>\n",
       "      <th>num_patients</th>\n",
       "      <th>prop_patients</th>\n",
       "    </tr>\n",
       "  </thead>\n",
       "  <tbody>\n",
       "    <tr>\n",
       "      <th>0</th>\n",
       "      <td>ASIAN</td>\n",
       "      <td>6</td>\n",
       "      <td>0.001693</td>\n",
       "    </tr>\n",
       "    <tr>\n",
       "      <th>1</th>\n",
       "      <td>BLACK/AFRICAN AMERICAN</td>\n",
       "      <td>45</td>\n",
       "      <td>0.633803</td>\n",
       "    </tr>\n",
       "    <tr>\n",
       "      <th>2</th>\n",
       "      <td>HISPANIC OR LATINO</td>\n",
       "      <td>6</td>\n",
       "      <td>0.012658</td>\n",
       "    </tr>\n",
       "    <tr>\n",
       "      <th>3</th>\n",
       "      <td>WHITE</td>\n",
       "      <td>579</td>\n",
       "      <td>6.732558</td>\n",
       "    </tr>\n",
       "  </tbody>\n",
       "</table>\n",
       "</div>"
      ],
      "text/plain": [
       "          ethnicity_descr  num_patients  prop_patients\n",
       "0                   ASIAN             6       0.001693\n",
       "1  BLACK/AFRICAN AMERICAN            45       0.633803\n",
       "2      HISPANIC OR LATINO             6       0.012658\n",
       "3                   WHITE           579       6.732558"
      ]
     },
     "execution_count": 30,
     "metadata": {},
     "output_type": "execute_result"
    }
   ],
   "source": [
    "htn"
   ]
  },
  {
   "cell_type": "code",
   "execution_count": null,
   "id": "62a9c72c",
   "metadata": {},
   "outputs": [],
   "source": []
  }
 ],
 "metadata": {
  "kernelspec": {
   "display_name": "Python 3 (ipykernel)",
   "language": "python",
   "name": "python3"
  },
  "language_info": {
   "codemirror_mode": {
    "name": "ipython",
    "version": 3
   },
   "file_extension": ".py",
   "mimetype": "text/x-python",
   "name": "python",
   "nbconvert_exporter": "python",
   "pygments_lexer": "ipython3",
   "version": "3.9.12"
  }
 },
 "nbformat": 4,
 "nbformat_minor": 5
}
